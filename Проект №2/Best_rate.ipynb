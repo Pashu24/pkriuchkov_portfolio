{
  "cells": [
    {
      "cell_type": "markdown",
      "metadata": {
        "id": "tXJmTcWXCjb2"
      },
      "source": [
        "# Перспективный тариф сотовой связи"
      ]
    },
    {
      "cell_type": "markdown",
      "metadata": {
        "id": "tmGqwF6SCjb3"
      },
      "source": [
        "# **Описание проекта**\n",
        "\n",
        "Имеются данные о 500 клиентах компании сотовой связи, которая предлагает два тарифных плана: «Смарт» и «Ультра».\n",
        "\n",
        "**Цель исследования:** \n",
        "- показать, какой тариф приносит больше денег.<br /> \n",
        "- на основе поведения клиентов сделать вывод какой тариф для клиентов лучше.<br /> \n",
        "\n",
        "**Задачи исследования**:\n",
        "* Исследовать и преобразовать данные;\n",
        "* Посчитать для каждого пользователя:\n",
        "    - количество сделанных звонков и израсходованных минут по месяцам;\n",
        "    - количество СМС по месяцам;\n",
        "    - объем интернет-трафика по месяцам;\n",
        "    - помесячную выручку с каждого пользователя.\n",
        "* Описать поведение клиентов оператора, исходя из выборки. \n",
        "    - Посчитать среднее количество, дисперсию и стандартное отклонение для звонков, СМС и трафика.\n",
        "* Проверить гипотезы\n",
        "    - средняя выручка пользователей тарифов «Ультра» и «Смарт» различаются;\n",
        "    - средняя выручка пользователей из Москвы отличается от выручки пользователей из других регионов."
      ]
    },
    {
      "cell_type": "markdown",
      "metadata": {
        "id": "EDtQecSICjb5"
      },
      "source": [
        "# **Ниже представлен следующий порядок работы:**\n",
        "\n",
        "1. Шаг 1 - EDA; \n",
        "2. Шаг 2 - предобработка данных, расчёты;\n",
        "3. Шаг 3 - анализ поведения пользователей для каждого тарифа;\n",
        "4. Шаг 4 - проверка гипотез о выручке для каждого тарифа и для региона;\n",
        "5. Общий вывод."
      ]
    },
    {
      "cell_type": "markdown",
      "metadata": {
        "id": "hzDW_1jNCjb8"
      },
      "source": [
        "## Шаг 1 - EDA"
      ]
    },
    {
      "cell_type": "markdown",
      "metadata": {
        "id": "FwB3AV53Cjb8"
      },
      "source": [
        "### Загрузим все необходимые библиотеки и сделаем настройки"
      ]
    },
    {
      "cell_type": "code",
      "execution_count": null,
      "metadata": {
        "id": "5Yqccf8cCjb9"
      },
      "outputs": [],
      "source": [
        "# загрузка библиотек для исследования \n",
        "import pandas as pd\n",
        "import numpy as np\n",
        "import seaborn as sns\n",
        "from scipy import stats as st\n",
        "\n",
        "# отключим предупреждения matplotlib \n",
        "import warnings\n",
        "warnings.filterwarnings('ignore')\n",
        "\n",
        "# настроим тёмную тему для графиков \n",
        "from matplotlib import pyplot as plt\n",
        "plt.style.use('dark_background')"
      ]
    },
    {
      "cell_type": "markdown",
      "metadata": {
        "id": "HeVsOAR3Cjb_"
      },
      "source": [
        "### Загрузка датасетов и общий анализ "
      ]
    },
    {
      "cell_type": "code",
      "execution_count": null,
      "metadata": {
        "scrolled": false,
        "id": "1JUJ4m_-CjcA",
        "outputId": "962e96e2-dce5-45b1-bae1-c3638d8b7a8a"
      },
      "outputs": [
        {
          "data": {
            "text/plain": [
              "'Размерность df_calls'"
            ]
          },
          "metadata": {},
          "output_type": "display_data"
        },
        {
          "data": {
            "text/plain": [
              "(202607, 4)"
            ]
          },
          "metadata": {},
          "output_type": "display_data"
        },
        {
          "name": "stdout",
          "output_type": "stream",
          "text": [
            "<class 'pandas.core.frame.DataFrame'>\n",
            "RangeIndex: 202607 entries, 0 to 202606\n",
            "Data columns (total 4 columns):\n",
            " #   Column     Non-Null Count   Dtype  \n",
            "---  ------     --------------   -----  \n",
            " 0   id         202607 non-null  object \n",
            " 1   call_date  202607 non-null  object \n",
            " 2   duration   202607 non-null  float64\n",
            " 3   user_id    202607 non-null  int64  \n",
            "dtypes: float64(1), int64(1), object(2)\n",
            "memory usage: 6.2+ MB\n"
          ]
        },
        {
          "data": {
            "text/plain": [
              "None"
            ]
          },
          "metadata": {},
          "output_type": "display_data"
        },
        {
          "data": {
            "text/html": [
              "<div>\n",
              "<style scoped>\n",
              "    .dataframe tbody tr th:only-of-type {\n",
              "        vertical-align: middle;\n",
              "    }\n",
              "\n",
              "    .dataframe tbody tr th {\n",
              "        vertical-align: top;\n",
              "    }\n",
              "\n",
              "    .dataframe thead th {\n",
              "        text-align: right;\n",
              "    }\n",
              "</style>\n",
              "<table border=\"1\" class=\"dataframe\">\n",
              "  <thead>\n",
              "    <tr style=\"text-align: right;\">\n",
              "      <th></th>\n",
              "      <th>id</th>\n",
              "      <th>call_date</th>\n",
              "      <th>duration</th>\n",
              "      <th>user_id</th>\n",
              "    </tr>\n",
              "  </thead>\n",
              "  <tbody>\n",
              "    <tr>\n",
              "      <th>0</th>\n",
              "      <td>1000_0</td>\n",
              "      <td>2018-07-25</td>\n",
              "      <td>0.00</td>\n",
              "      <td>1000</td>\n",
              "    </tr>\n",
              "    <tr>\n",
              "      <th>1</th>\n",
              "      <td>1000_1</td>\n",
              "      <td>2018-08-17</td>\n",
              "      <td>0.00</td>\n",
              "      <td>1000</td>\n",
              "    </tr>\n",
              "    <tr>\n",
              "      <th>2</th>\n",
              "      <td>1000_2</td>\n",
              "      <td>2018-06-11</td>\n",
              "      <td>2.85</td>\n",
              "      <td>1000</td>\n",
              "    </tr>\n",
              "    <tr>\n",
              "      <th>3</th>\n",
              "      <td>1000_3</td>\n",
              "      <td>2018-09-21</td>\n",
              "      <td>13.80</td>\n",
              "      <td>1000</td>\n",
              "    </tr>\n",
              "    <tr>\n",
              "      <th>4</th>\n",
              "      <td>1000_4</td>\n",
              "      <td>2018-12-15</td>\n",
              "      <td>5.18</td>\n",
              "      <td>1000</td>\n",
              "    </tr>\n",
              "  </tbody>\n",
              "</table>\n",
              "</div>"
            ],
            "text/plain": [
              "       id   call_date  duration  user_id\n",
              "0  1000_0  2018-07-25      0.00     1000\n",
              "1  1000_1  2018-08-17      0.00     1000\n",
              "2  1000_2  2018-06-11      2.85     1000\n",
              "3  1000_3  2018-09-21     13.80     1000\n",
              "4  1000_4  2018-12-15      5.18     1000"
            ]
          },
          "execution_count": 2,
          "metadata": {},
          "output_type": "execute_result"
        }
      ],
      "source": [
        "# загрузка датасета ЗВОНКИ\n",
        "df_calls = pd.read_csv('/datasets/calls.csv')\n",
        "\n",
        "# вывод общей информации\n",
        "display('Размерность df_calls', df_calls.shape)\n",
        "display(df_calls.info())\n",
        "df_calls.head()"
      ]
    },
    {
      "cell_type": "code",
      "execution_count": null,
      "metadata": {
        "id": "Agogl5AUCjcB",
        "outputId": "dbed02aa-3c68-468f-a7e3-b676f3105be5"
      },
      "outputs": [
        {
          "name": "stdout",
          "output_type": "stream",
          "text": [
            "Количество пропусков в df_calls: id           0.0\n",
            "call_date    0.0\n",
            "duration     0.0\n",
            "user_id      0.0\n",
            "dtype: float64\n",
            "Количество дублей в df_calls: 0\n"
          ]
        }
      ],
      "source": [
        "# поиск пропусков и дублей\n",
        "print ('Количество пропусков в df_calls:', df_calls.isna().mean())\n",
        "print ('Количество дублей в df_calls:', df_calls.duplicated().sum())"
      ]
    },
    {
      "cell_type": "code",
      "execution_count": null,
      "metadata": {
        "scrolled": false,
        "id": "rxf7OxiqCjcB",
        "outputId": "8faa6a01-70e1-4a07-b48c-ee0e2303db92"
      },
      "outputs": [
        {
          "data": {
            "text/plain": [
              "'Размерность df_messages'"
            ]
          },
          "metadata": {},
          "output_type": "display_data"
        },
        {
          "data": {
            "text/plain": [
              "(123036, 3)"
            ]
          },
          "metadata": {},
          "output_type": "display_data"
        },
        {
          "name": "stdout",
          "output_type": "stream",
          "text": [
            "<class 'pandas.core.frame.DataFrame'>\n",
            "RangeIndex: 123036 entries, 0 to 123035\n",
            "Data columns (total 3 columns):\n",
            " #   Column        Non-Null Count   Dtype \n",
            "---  ------        --------------   ----- \n",
            " 0   id            123036 non-null  object\n",
            " 1   message_date  123036 non-null  object\n",
            " 2   user_id       123036 non-null  int64 \n",
            "dtypes: int64(1), object(2)\n",
            "memory usage: 2.8+ MB\n"
          ]
        },
        {
          "data": {
            "text/plain": [
              "None"
            ]
          },
          "metadata": {},
          "output_type": "display_data"
        },
        {
          "data": {
            "text/html": [
              "<div>\n",
              "<style scoped>\n",
              "    .dataframe tbody tr th:only-of-type {\n",
              "        vertical-align: middle;\n",
              "    }\n",
              "\n",
              "    .dataframe tbody tr th {\n",
              "        vertical-align: top;\n",
              "    }\n",
              "\n",
              "    .dataframe thead th {\n",
              "        text-align: right;\n",
              "    }\n",
              "</style>\n",
              "<table border=\"1\" class=\"dataframe\">\n",
              "  <thead>\n",
              "    <tr style=\"text-align: right;\">\n",
              "      <th></th>\n",
              "      <th>id</th>\n",
              "      <th>message_date</th>\n",
              "      <th>user_id</th>\n",
              "    </tr>\n",
              "  </thead>\n",
              "  <tbody>\n",
              "    <tr>\n",
              "      <th>0</th>\n",
              "      <td>1000_0</td>\n",
              "      <td>2018-06-27</td>\n",
              "      <td>1000</td>\n",
              "    </tr>\n",
              "    <tr>\n",
              "      <th>1</th>\n",
              "      <td>1000_1</td>\n",
              "      <td>2018-10-08</td>\n",
              "      <td>1000</td>\n",
              "    </tr>\n",
              "    <tr>\n",
              "      <th>2</th>\n",
              "      <td>1000_2</td>\n",
              "      <td>2018-08-04</td>\n",
              "      <td>1000</td>\n",
              "    </tr>\n",
              "    <tr>\n",
              "      <th>3</th>\n",
              "      <td>1000_3</td>\n",
              "      <td>2018-06-16</td>\n",
              "      <td>1000</td>\n",
              "    </tr>\n",
              "    <tr>\n",
              "      <th>4</th>\n",
              "      <td>1000_4</td>\n",
              "      <td>2018-12-05</td>\n",
              "      <td>1000</td>\n",
              "    </tr>\n",
              "  </tbody>\n",
              "</table>\n",
              "</div>"
            ],
            "text/plain": [
              "       id message_date  user_id\n",
              "0  1000_0   2018-06-27     1000\n",
              "1  1000_1   2018-10-08     1000\n",
              "2  1000_2   2018-08-04     1000\n",
              "3  1000_3   2018-06-16     1000\n",
              "4  1000_4   2018-12-05     1000"
            ]
          },
          "execution_count": 4,
          "metadata": {},
          "output_type": "execute_result"
        }
      ],
      "source": [
        "# загрузка датасета СООБЩЕНИЙ\n",
        "df_messages = pd.read_csv('/datasets/messages.csv')\n",
        "\n",
        "# вывод общей информации\n",
        "display('Размерность df_messages', df_messages.shape)\n",
        "display(df_messages.info())\n",
        "df_messages.head()"
      ]
    },
    {
      "cell_type": "code",
      "execution_count": null,
      "metadata": {
        "id": "EriuMRBICjcC",
        "outputId": "da1dcf22-e8f0-4df1-8b8e-3a30e25dbb86"
      },
      "outputs": [
        {
          "name": "stdout",
          "output_type": "stream",
          "text": [
            "Количество пропусков в df_messages: id              0.0\n",
            "message_date    0.0\n",
            "user_id         0.0\n",
            "dtype: float64\n",
            "Количество дублей в df_messages: 0\n"
          ]
        }
      ],
      "source": [
        "# поиск пропусков и дублей\n",
        "print ('Количество пропусков в df_messages:', df_messages.isna().mean())\n",
        "print ('Количество дублей в df_messages:', df_messages.duplicated().sum())"
      ]
    },
    {
      "cell_type": "code",
      "execution_count": null,
      "metadata": {
        "id": "29ZN1pecCjcC",
        "outputId": "121ec99a-0fab-4adf-a083-abfad718c89c"
      },
      "outputs": [
        {
          "data": {
            "text/plain": [
              "'Размерность df_internet'"
            ]
          },
          "metadata": {},
          "output_type": "display_data"
        },
        {
          "data": {
            "text/plain": [
              "(149396, 4)"
            ]
          },
          "metadata": {},
          "output_type": "display_data"
        },
        {
          "name": "stdout",
          "output_type": "stream",
          "text": [
            "<class 'pandas.core.frame.DataFrame'>\n",
            "Int64Index: 149396 entries, 0 to 149395\n",
            "Data columns (total 4 columns):\n",
            " #   Column        Non-Null Count   Dtype  \n",
            "---  ------        --------------   -----  \n",
            " 0   id            149396 non-null  object \n",
            " 1   mb_used       149396 non-null  float64\n",
            " 2   session_date  149396 non-null  object \n",
            " 3   user_id       149396 non-null  int64  \n",
            "dtypes: float64(1), int64(1), object(2)\n",
            "memory usage: 5.7+ MB\n"
          ]
        },
        {
          "data": {
            "text/plain": [
              "None"
            ]
          },
          "metadata": {},
          "output_type": "display_data"
        },
        {
          "data": {
            "text/html": [
              "<div>\n",
              "<style scoped>\n",
              "    .dataframe tbody tr th:only-of-type {\n",
              "        vertical-align: middle;\n",
              "    }\n",
              "\n",
              "    .dataframe tbody tr th {\n",
              "        vertical-align: top;\n",
              "    }\n",
              "\n",
              "    .dataframe thead th {\n",
              "        text-align: right;\n",
              "    }\n",
              "</style>\n",
              "<table border=\"1\" class=\"dataframe\">\n",
              "  <thead>\n",
              "    <tr style=\"text-align: right;\">\n",
              "      <th></th>\n",
              "      <th>id</th>\n",
              "      <th>mb_used</th>\n",
              "      <th>session_date</th>\n",
              "      <th>user_id</th>\n",
              "    </tr>\n",
              "  </thead>\n",
              "  <tbody>\n",
              "    <tr>\n",
              "      <th>0</th>\n",
              "      <td>1000_0</td>\n",
              "      <td>112.95</td>\n",
              "      <td>2018-11-25</td>\n",
              "      <td>1000</td>\n",
              "    </tr>\n",
              "    <tr>\n",
              "      <th>1</th>\n",
              "      <td>1000_1</td>\n",
              "      <td>1052.81</td>\n",
              "      <td>2018-09-07</td>\n",
              "      <td>1000</td>\n",
              "    </tr>\n",
              "    <tr>\n",
              "      <th>2</th>\n",
              "      <td>1000_2</td>\n",
              "      <td>1197.26</td>\n",
              "      <td>2018-06-25</td>\n",
              "      <td>1000</td>\n",
              "    </tr>\n",
              "    <tr>\n",
              "      <th>3</th>\n",
              "      <td>1000_3</td>\n",
              "      <td>550.27</td>\n",
              "      <td>2018-08-22</td>\n",
              "      <td>1000</td>\n",
              "    </tr>\n",
              "    <tr>\n",
              "      <th>4</th>\n",
              "      <td>1000_4</td>\n",
              "      <td>302.56</td>\n",
              "      <td>2018-09-24</td>\n",
              "      <td>1000</td>\n",
              "    </tr>\n",
              "  </tbody>\n",
              "</table>\n",
              "</div>"
            ],
            "text/plain": [
              "       id  mb_used session_date  user_id\n",
              "0  1000_0   112.95   2018-11-25     1000\n",
              "1  1000_1  1052.81   2018-09-07     1000\n",
              "2  1000_2  1197.26   2018-06-25     1000\n",
              "3  1000_3   550.27   2018-08-22     1000\n",
              "4  1000_4   302.56   2018-09-24     1000"
            ]
          },
          "execution_count": 6,
          "metadata": {},
          "output_type": "execute_result"
        }
      ],
      "source": [
        "# загрузка датасета ИНТЕРНЕТА\n",
        "df_internet = pd.read_csv('/datasets/internet.csv', index_col=0)\n",
        "\n",
        "# вывод общей информации\n",
        "display('Размерность df_internet', df_internet.shape)\n",
        "display(df_internet.info())\n",
        "df_internet.head()"
      ]
    },
    {
      "cell_type": "code",
      "execution_count": null,
      "metadata": {
        "id": "8u4I55fmCjcD",
        "outputId": "38b07e16-c366-43b8-d83d-6bc859782c5a"
      },
      "outputs": [
        {
          "name": "stdout",
          "output_type": "stream",
          "text": [
            "Количество пропусков в df_internet: id              0.0\n",
            "mb_used         0.0\n",
            "session_date    0.0\n",
            "user_id         0.0\n",
            "dtype: float64\n",
            "Количество дублей в df_internet: 0\n"
          ]
        }
      ],
      "source": [
        "# поиск пропусков и дублей\n",
        "print ('Количество пропусков в df_internet:', df_internet.isna().mean())\n",
        "print ('Количество дублей в df_internet:', df_internet.duplicated().sum())"
      ]
    },
    {
      "cell_type": "code",
      "execution_count": null,
      "metadata": {
        "id": "9gLlzD-lCjcD",
        "outputId": "495f3b17-de8b-49d3-c162-fd515198cd1b"
      },
      "outputs": [
        {
          "data": {
            "text/plain": [
              "'Размерность df_users'"
            ]
          },
          "metadata": {},
          "output_type": "display_data"
        },
        {
          "data": {
            "text/plain": [
              "(500, 8)"
            ]
          },
          "metadata": {},
          "output_type": "display_data"
        },
        {
          "name": "stdout",
          "output_type": "stream",
          "text": [
            "<class 'pandas.core.frame.DataFrame'>\n",
            "RangeIndex: 500 entries, 0 to 499\n",
            "Data columns (total 8 columns):\n",
            " #   Column      Non-Null Count  Dtype \n",
            "---  ------      --------------  ----- \n",
            " 0   user_id     500 non-null    int64 \n",
            " 1   age         500 non-null    int64 \n",
            " 2   churn_date  38 non-null     object\n",
            " 3   city        500 non-null    object\n",
            " 4   first_name  500 non-null    object\n",
            " 5   last_name   500 non-null    object\n",
            " 6   reg_date    500 non-null    object\n",
            " 7   tariff      500 non-null    object\n",
            "dtypes: int64(2), object(6)\n",
            "memory usage: 31.4+ KB\n"
          ]
        },
        {
          "data": {
            "text/plain": [
              "None"
            ]
          },
          "metadata": {},
          "output_type": "display_data"
        },
        {
          "data": {
            "text/html": [
              "<div>\n",
              "<style scoped>\n",
              "    .dataframe tbody tr th:only-of-type {\n",
              "        vertical-align: middle;\n",
              "    }\n",
              "\n",
              "    .dataframe tbody tr th {\n",
              "        vertical-align: top;\n",
              "    }\n",
              "\n",
              "    .dataframe thead th {\n",
              "        text-align: right;\n",
              "    }\n",
              "</style>\n",
              "<table border=\"1\" class=\"dataframe\">\n",
              "  <thead>\n",
              "    <tr style=\"text-align: right;\">\n",
              "      <th></th>\n",
              "      <th>user_id</th>\n",
              "      <th>age</th>\n",
              "      <th>churn_date</th>\n",
              "      <th>city</th>\n",
              "      <th>first_name</th>\n",
              "      <th>last_name</th>\n",
              "      <th>reg_date</th>\n",
              "      <th>tariff</th>\n",
              "    </tr>\n",
              "  </thead>\n",
              "  <tbody>\n",
              "    <tr>\n",
              "      <th>0</th>\n",
              "      <td>1000</td>\n",
              "      <td>52</td>\n",
              "      <td>NaN</td>\n",
              "      <td>Краснодар</td>\n",
              "      <td>Рафаил</td>\n",
              "      <td>Верещагин</td>\n",
              "      <td>2018-05-25</td>\n",
              "      <td>ultra</td>\n",
              "    </tr>\n",
              "    <tr>\n",
              "      <th>1</th>\n",
              "      <td>1001</td>\n",
              "      <td>41</td>\n",
              "      <td>NaN</td>\n",
              "      <td>Москва</td>\n",
              "      <td>Иван</td>\n",
              "      <td>Ежов</td>\n",
              "      <td>2018-11-01</td>\n",
              "      <td>smart</td>\n",
              "    </tr>\n",
              "    <tr>\n",
              "      <th>2</th>\n",
              "      <td>1002</td>\n",
              "      <td>59</td>\n",
              "      <td>NaN</td>\n",
              "      <td>Стерлитамак</td>\n",
              "      <td>Евгений</td>\n",
              "      <td>Абрамович</td>\n",
              "      <td>2018-06-17</td>\n",
              "      <td>smart</td>\n",
              "    </tr>\n",
              "    <tr>\n",
              "      <th>3</th>\n",
              "      <td>1003</td>\n",
              "      <td>23</td>\n",
              "      <td>NaN</td>\n",
              "      <td>Москва</td>\n",
              "      <td>Белла</td>\n",
              "      <td>Белякова</td>\n",
              "      <td>2018-08-17</td>\n",
              "      <td>ultra</td>\n",
              "    </tr>\n",
              "    <tr>\n",
              "      <th>4</th>\n",
              "      <td>1004</td>\n",
              "      <td>68</td>\n",
              "      <td>NaN</td>\n",
              "      <td>Новокузнецк</td>\n",
              "      <td>Татьяна</td>\n",
              "      <td>Авдеенко</td>\n",
              "      <td>2018-05-14</td>\n",
              "      <td>ultra</td>\n",
              "    </tr>\n",
              "  </tbody>\n",
              "</table>\n",
              "</div>"
            ],
            "text/plain": [
              "   user_id  age churn_date         city first_name  last_name    reg_date  \\\n",
              "0     1000   52        NaN    Краснодар     Рафаил  Верещагин  2018-05-25   \n",
              "1     1001   41        NaN       Москва       Иван       Ежов  2018-11-01   \n",
              "2     1002   59        NaN  Стерлитамак    Евгений  Абрамович  2018-06-17   \n",
              "3     1003   23        NaN       Москва      Белла   Белякова  2018-08-17   \n",
              "4     1004   68        NaN  Новокузнецк    Татьяна   Авдеенко  2018-05-14   \n",
              "\n",
              "  tariff  \n",
              "0  ultra  \n",
              "1  smart  \n",
              "2  smart  \n",
              "3  ultra  \n",
              "4  ultra  "
            ]
          },
          "execution_count": 8,
          "metadata": {},
          "output_type": "execute_result"
        }
      ],
      "source": [
        "# загрузка датасета USERS\n",
        "df_users = pd.read_csv('/datasets/users.csv')\n",
        "\n",
        "# вывод общей информации\n",
        "display('Размерность df_users', df_users.shape)\n",
        "display(df_users.info())\n",
        "df_users.head()"
      ]
    },
    {
      "cell_type": "code",
      "execution_count": null,
      "metadata": {
        "scrolled": true,
        "id": "2h-tk3owCjcE",
        "outputId": "29a6e935-7d67-4470-f53d-6ef997eb38f2"
      },
      "outputs": [
        {
          "name": "stdout",
          "output_type": "stream",
          "text": [
            "Количество пропусков в df_users: user_id       0.000\n",
            "age           0.000\n",
            "churn_date    0.924\n",
            "city          0.000\n",
            "first_name    0.000\n",
            "last_name     0.000\n",
            "reg_date      0.000\n",
            "tariff        0.000\n",
            "dtype: float64\n",
            "Количество дублей в df_users: 0\n"
          ]
        }
      ],
      "source": [
        "# поиск пропусков и дублей\n",
        "print ('Количество пропусков в df_users:', df_users.isna().mean())\n",
        "print ('Количество дублей в df_users:', df_users.duplicated().sum())"
      ]
    },
    {
      "cell_type": "code",
      "execution_count": null,
      "metadata": {
        "id": "nUjgfDwTCjcE",
        "outputId": "1cb0ed11-3d69-475b-d58b-fbb73184fe59"
      },
      "outputs": [
        {
          "data": {
            "text/plain": [
              "'Размерность df_tariffs'"
            ]
          },
          "metadata": {},
          "output_type": "display_data"
        },
        {
          "data": {
            "text/plain": [
              "(2, 8)"
            ]
          },
          "metadata": {},
          "output_type": "display_data"
        },
        {
          "name": "stdout",
          "output_type": "stream",
          "text": [
            "<class 'pandas.core.frame.DataFrame'>\n",
            "RangeIndex: 2 entries, 0 to 1\n",
            "Data columns (total 8 columns):\n",
            " #   Column                 Non-Null Count  Dtype \n",
            "---  ------                 --------------  ----- \n",
            " 0   messages_included      2 non-null      int64 \n",
            " 1   mb_per_month_included  2 non-null      int64 \n",
            " 2   minutes_included       2 non-null      int64 \n",
            " 3   rub_monthly_fee        2 non-null      int64 \n",
            " 4   rub_per_gb             2 non-null      int64 \n",
            " 5   rub_per_message        2 non-null      int64 \n",
            " 6   rub_per_minute         2 non-null      int64 \n",
            " 7   tariff_name            2 non-null      object\n",
            "dtypes: int64(7), object(1)\n",
            "memory usage: 256.0+ bytes\n"
          ]
        },
        {
          "data": {
            "text/plain": [
              "None"
            ]
          },
          "metadata": {},
          "output_type": "display_data"
        },
        {
          "data": {
            "text/html": [
              "<div>\n",
              "<style scoped>\n",
              "    .dataframe tbody tr th:only-of-type {\n",
              "        vertical-align: middle;\n",
              "    }\n",
              "\n",
              "    .dataframe tbody tr th {\n",
              "        vertical-align: top;\n",
              "    }\n",
              "\n",
              "    .dataframe thead th {\n",
              "        text-align: right;\n",
              "    }\n",
              "</style>\n",
              "<table border=\"1\" class=\"dataframe\">\n",
              "  <thead>\n",
              "    <tr style=\"text-align: right;\">\n",
              "      <th></th>\n",
              "      <th>messages_included</th>\n",
              "      <th>mb_per_month_included</th>\n",
              "      <th>minutes_included</th>\n",
              "      <th>rub_monthly_fee</th>\n",
              "      <th>rub_per_gb</th>\n",
              "      <th>rub_per_message</th>\n",
              "      <th>rub_per_minute</th>\n",
              "      <th>tariff_name</th>\n",
              "    </tr>\n",
              "  </thead>\n",
              "  <tbody>\n",
              "    <tr>\n",
              "      <th>0</th>\n",
              "      <td>50</td>\n",
              "      <td>15360</td>\n",
              "      <td>500</td>\n",
              "      <td>550</td>\n",
              "      <td>200</td>\n",
              "      <td>3</td>\n",
              "      <td>3</td>\n",
              "      <td>smart</td>\n",
              "    </tr>\n",
              "    <tr>\n",
              "      <th>1</th>\n",
              "      <td>1000</td>\n",
              "      <td>30720</td>\n",
              "      <td>3000</td>\n",
              "      <td>1950</td>\n",
              "      <td>150</td>\n",
              "      <td>1</td>\n",
              "      <td>1</td>\n",
              "      <td>ultra</td>\n",
              "    </tr>\n",
              "  </tbody>\n",
              "</table>\n",
              "</div>"
            ],
            "text/plain": [
              "   messages_included  mb_per_month_included  minutes_included  \\\n",
              "0                 50                  15360               500   \n",
              "1               1000                  30720              3000   \n",
              "\n",
              "   rub_monthly_fee  rub_per_gb  rub_per_message  rub_per_minute tariff_name  \n",
              "0              550         200                3               3       smart  \n",
              "1             1950         150                1               1       ultra  "
            ]
          },
          "execution_count": 10,
          "metadata": {},
          "output_type": "execute_result"
        }
      ],
      "source": [
        "# загрузка датасета TARIFFS\n",
        "df_tariffs = pd.read_csv('/datasets/tariffs.csv')\n",
        "\n",
        "# вывод общей информации\n",
        "display('Размерность df_tariffs', df_tariffs.shape)\n",
        "display(df_tariffs.info())\n",
        "df_tariffs.head()"
      ]
    },
    {
      "cell_type": "markdown",
      "metadata": {
        "id": "PJxyI9rgCjcF"
      },
      "source": [
        "### Выводы по Шагу 1"
      ]
    },
    {
      "cell_type": "markdown",
      "metadata": {
        "id": "hI8sv9RLCjcF"
      },
      "source": [
        "**Что можно отметить:**\n",
        "* В нашем распоряжении 5 таблиц: звонки, смс, интернет, пользователи, тарифы; <br/>\n",
        "* Таблицы звонков, смс и интренета разной размерности. Это связано с тем, что они представляют собой записи активностей пользователя в течение дня (без указания времени) за весь период пользования тарифом - мы можем видеть количество звоноков за день, продолжителньость каждого звонка, количество сообщений по дням, количество сессий интрентеа и объём трафика по дням. Объём пользования звонками, смс и интренетов разный. \n",
        "* В таблицах звонков, смс и интренета и пользователей дата записана как `object`. Необходимо привести в `datetime`. Для таблицы с пользователями этого делать не обязательно, так как такие данные мы использовать не будем.\n",
        "* В таблицах звонков, смс и интренета нет пропусков и дубликатов. В Таблице пользователей есть пропуски в графе \"churn_date\", однако на этот счёт есть пояснение в задании."
      ]
    },
    {
      "cell_type": "code",
      "execution_count": null,
      "metadata": {
        "id": "VR99D8c2CjcH",
        "outputId": "e11cd186-c7cc-4b74-9dbb-4164cd86e166"
      },
      "outputs": [
        {
          "data": {
            "text/plain": [
              "500"
            ]
          },
          "execution_count": 11,
          "metadata": {},
          "output_type": "execute_result"
        }
      ],
      "source": [
        "# проверка уникальных пользователей\n",
        "df_users['user_id'].nunique()"
      ]
    },
    {
      "cell_type": "markdown",
      "metadata": {
        "id": "_QsTesLPCjcH"
      },
      "source": [
        "Да, действительно, уникальных пользователей 500"
      ]
    },
    {
      "cell_type": "markdown",
      "metadata": {
        "id": "K4GCeXsVCjcI"
      },
      "source": [
        "Создаим функцию анализа датасета для оптимизации нашей работы"
      ]
    },
    {
      "cell_type": "code",
      "execution_count": null,
      "metadata": {
        "id": "FxlDVtuCCjcI"
      },
      "outputs": [],
      "source": [
        "# составим полезную функцию\n",
        "def eda_df(x):\n",
        "    display('Размерность таблицы ', x.shape)\n",
        "    display(x.head())\n",
        "    display(x.info())\n",
        "    display('Количество пропусков в таблице:', x.isna().mean())\n",
        "    display('Количество дублей в таблице:', x.duplicated().sum())"
      ]
    },
    {
      "cell_type": "code",
      "execution_count": null,
      "metadata": {
        "scrolled": true,
        "id": "BitdwoKnCjcI",
        "outputId": "19f1a725-9ab0-4d39-b7bd-f5e164e89dcd"
      },
      "outputs": [
        {
          "data": {
            "text/plain": [
              "'Размерность таблицы '"
            ]
          },
          "metadata": {},
          "output_type": "display_data"
        },
        {
          "data": {
            "text/plain": [
              "(202607, 4)"
            ]
          },
          "metadata": {},
          "output_type": "display_data"
        },
        {
          "data": {
            "text/html": [
              "<div>\n",
              "<style scoped>\n",
              "    .dataframe tbody tr th:only-of-type {\n",
              "        vertical-align: middle;\n",
              "    }\n",
              "\n",
              "    .dataframe tbody tr th {\n",
              "        vertical-align: top;\n",
              "    }\n",
              "\n",
              "    .dataframe thead th {\n",
              "        text-align: right;\n",
              "    }\n",
              "</style>\n",
              "<table border=\"1\" class=\"dataframe\">\n",
              "  <thead>\n",
              "    <tr style=\"text-align: right;\">\n",
              "      <th></th>\n",
              "      <th>id</th>\n",
              "      <th>call_date</th>\n",
              "      <th>duration</th>\n",
              "      <th>user_id</th>\n",
              "    </tr>\n",
              "  </thead>\n",
              "  <tbody>\n",
              "    <tr>\n",
              "      <th>0</th>\n",
              "      <td>1000_0</td>\n",
              "      <td>2018-07-25</td>\n",
              "      <td>0.00</td>\n",
              "      <td>1000</td>\n",
              "    </tr>\n",
              "    <tr>\n",
              "      <th>1</th>\n",
              "      <td>1000_1</td>\n",
              "      <td>2018-08-17</td>\n",
              "      <td>0.00</td>\n",
              "      <td>1000</td>\n",
              "    </tr>\n",
              "    <tr>\n",
              "      <th>2</th>\n",
              "      <td>1000_2</td>\n",
              "      <td>2018-06-11</td>\n",
              "      <td>2.85</td>\n",
              "      <td>1000</td>\n",
              "    </tr>\n",
              "    <tr>\n",
              "      <th>3</th>\n",
              "      <td>1000_3</td>\n",
              "      <td>2018-09-21</td>\n",
              "      <td>13.80</td>\n",
              "      <td>1000</td>\n",
              "    </tr>\n",
              "    <tr>\n",
              "      <th>4</th>\n",
              "      <td>1000_4</td>\n",
              "      <td>2018-12-15</td>\n",
              "      <td>5.18</td>\n",
              "      <td>1000</td>\n",
              "    </tr>\n",
              "  </tbody>\n",
              "</table>\n",
              "</div>"
            ],
            "text/plain": [
              "       id   call_date  duration  user_id\n",
              "0  1000_0  2018-07-25      0.00     1000\n",
              "1  1000_1  2018-08-17      0.00     1000\n",
              "2  1000_2  2018-06-11      2.85     1000\n",
              "3  1000_3  2018-09-21     13.80     1000\n",
              "4  1000_4  2018-12-15      5.18     1000"
            ]
          },
          "metadata": {},
          "output_type": "display_data"
        },
        {
          "name": "stdout",
          "output_type": "stream",
          "text": [
            "<class 'pandas.core.frame.DataFrame'>\n",
            "RangeIndex: 202607 entries, 0 to 202606\n",
            "Data columns (total 4 columns):\n",
            " #   Column     Non-Null Count   Dtype  \n",
            "---  ------     --------------   -----  \n",
            " 0   id         202607 non-null  object \n",
            " 1   call_date  202607 non-null  object \n",
            " 2   duration   202607 non-null  float64\n",
            " 3   user_id    202607 non-null  int64  \n",
            "dtypes: float64(1), int64(1), object(2)\n",
            "memory usage: 6.2+ MB\n"
          ]
        },
        {
          "data": {
            "text/plain": [
              "None"
            ]
          },
          "metadata": {},
          "output_type": "display_data"
        },
        {
          "data": {
            "text/plain": [
              "'Количество пропусков в таблице:'"
            ]
          },
          "metadata": {},
          "output_type": "display_data"
        },
        {
          "data": {
            "text/plain": [
              "id           0.0\n",
              "call_date    0.0\n",
              "duration     0.0\n",
              "user_id      0.0\n",
              "dtype: float64"
            ]
          },
          "metadata": {},
          "output_type": "display_data"
        },
        {
          "data": {
            "text/plain": [
              "'Количество дублей в таблице:'"
            ]
          },
          "metadata": {},
          "output_type": "display_data"
        },
        {
          "data": {
            "text/plain": [
              "0"
            ]
          },
          "metadata": {},
          "output_type": "display_data"
        }
      ],
      "source": [
        "# проверка полезной функции\n",
        "eda_df(df_calls)"
      ]
    },
    {
      "cell_type": "markdown",
      "metadata": {
        "id": "Tot1R0JGCjcK"
      },
      "source": [
        "**На втором шаге** приведём Дату к нужному формату, а также проведём необходимые вычисления - суммируем продолжителньость и количество звонков, сообщений и интернет трафика по месяцам для каждого пользователя и посчитаем выручку для пользователей по тарифам."
      ]
    },
    {
      "cell_type": "markdown",
      "metadata": {
        "id": "oX3mnW7JCjcK"
      },
      "source": [
        "## Шаг 2 - Подготовка данных, проведение расчётов, объединение таблиц"
      ]
    },
    {
      "cell_type": "markdown",
      "metadata": {
        "id": "7XAvE6zWCjcK"
      },
      "source": [
        "На данном шаге подготовим данные, проведём расчёты и создадим общую сводную таблицу для пользователей, содержащую информацию по тарифу, звонкам, смс, интренету и выручке по месяцам."
      ]
    },
    {
      "cell_type": "markdown",
      "metadata": {
        "id": "ZTucAXunCjcL"
      },
      "source": [
        "### Работа с таблицей calls"
      ]
    },
    {
      "cell_type": "code",
      "execution_count": null,
      "metadata": {
        "scrolled": false,
        "id": "9Liqi5DeCjcL",
        "outputId": "d213f0c2-43dd-40ce-ce0f-0ccfacb9e19b"
      },
      "outputs": [
        {
          "data": {
            "text/html": [
              "<div>\n",
              "<style scoped>\n",
              "    .dataframe tbody tr th:only-of-type {\n",
              "        vertical-align: middle;\n",
              "    }\n",
              "\n",
              "    .dataframe tbody tr th {\n",
              "        vertical-align: top;\n",
              "    }\n",
              "\n",
              "    .dataframe thead th {\n",
              "        text-align: right;\n",
              "    }\n",
              "</style>\n",
              "<table border=\"1\" class=\"dataframe\">\n",
              "  <thead>\n",
              "    <tr style=\"text-align: right;\">\n",
              "      <th></th>\n",
              "      <th>id</th>\n",
              "      <th>call_date</th>\n",
              "      <th>duration</th>\n",
              "      <th>user_id</th>\n",
              "      <th>month</th>\n",
              "    </tr>\n",
              "  </thead>\n",
              "  <tbody>\n",
              "    <tr>\n",
              "      <th>0</th>\n",
              "      <td>1000_0</td>\n",
              "      <td>2018-07-25</td>\n",
              "      <td>0.00</td>\n",
              "      <td>1000</td>\n",
              "      <td>7</td>\n",
              "    </tr>\n",
              "    <tr>\n",
              "      <th>1</th>\n",
              "      <td>1000_1</td>\n",
              "      <td>2018-08-17</td>\n",
              "      <td>0.00</td>\n",
              "      <td>1000</td>\n",
              "      <td>8</td>\n",
              "    </tr>\n",
              "    <tr>\n",
              "      <th>2</th>\n",
              "      <td>1000_2</td>\n",
              "      <td>2018-06-11</td>\n",
              "      <td>2.85</td>\n",
              "      <td>1000</td>\n",
              "      <td>6</td>\n",
              "    </tr>\n",
              "    <tr>\n",
              "      <th>3</th>\n",
              "      <td>1000_3</td>\n",
              "      <td>2018-09-21</td>\n",
              "      <td>13.80</td>\n",
              "      <td>1000</td>\n",
              "      <td>9</td>\n",
              "    </tr>\n",
              "    <tr>\n",
              "      <th>4</th>\n",
              "      <td>1000_4</td>\n",
              "      <td>2018-12-15</td>\n",
              "      <td>5.18</td>\n",
              "      <td>1000</td>\n",
              "      <td>12</td>\n",
              "    </tr>\n",
              "  </tbody>\n",
              "</table>\n",
              "</div>"
            ],
            "text/plain": [
              "       id  call_date  duration  user_id  month\n",
              "0  1000_0 2018-07-25      0.00     1000      7\n",
              "1  1000_1 2018-08-17      0.00     1000      8\n",
              "2  1000_2 2018-06-11      2.85     1000      6\n",
              "3  1000_3 2018-09-21     13.80     1000      9\n",
              "4  1000_4 2018-12-15      5.18     1000     12"
            ]
          },
          "metadata": {},
          "output_type": "display_data"
        },
        {
          "data": {
            "text/plain": [
              "id                   object\n",
              "call_date    datetime64[ns]\n",
              "duration            float64\n",
              "user_id               int64\n",
              "month                 int64\n",
              "dtype: object"
            ]
          },
          "metadata": {},
          "output_type": "display_data"
        }
      ],
      "source": [
        "# имзеним тип данных в столбце call_date с object на datetime64\n",
        "df_calls['call_date'] = df_calls['call_date'].astype('datetime64')\n",
        "\n",
        "# создадим  столбец с номером месяца\n",
        "df_calls['month'] = df_calls['call_date'].dt.month\n",
        "\n",
        "# проверка результатов\n",
        "display(df_calls.head())\n",
        "display(df_calls.dtypes)"
      ]
    },
    {
      "cell_type": "markdown",
      "metadata": {
        "id": "cMOanR7kCjcM"
      },
      "source": [
        "Изменение типов данных и определение месяца прошло успешно <br/>"
      ]
    },
    {
      "cell_type": "code",
      "execution_count": null,
      "metadata": {
        "id": "SVYd0C5kCjcN",
        "outputId": "90eec5f4-c16a-4342-a978-6b92723d7008"
      },
      "outputs": [
        {
          "data": {
            "text/plain": [
              "0          0.0\n",
              "1          0.0\n",
              "2          3.0\n",
              "3         14.0\n",
              "4          6.0\n",
              "          ... \n",
              "202602     1.0\n",
              "202603    19.0\n",
              "202604    11.0\n",
              "202605     5.0\n",
              "202606    20.0\n",
              "Name: duration, Length: 202607, dtype: float64"
            ]
          },
          "execution_count": 15,
          "metadata": {},
          "output_type": "execute_result"
        }
      ],
      "source": [
        "# округление минут разговора\n",
        "df_calls['duration'] = np.ceil(df_calls['duration'])\n",
        "df_calls['duration']"
      ]
    },
    {
      "cell_type": "markdown",
      "metadata": {
        "id": "C4sLaU8pCjcO"
      },
      "source": [
        "Создание сводной таблицы по звонкам для последующего слияния таблиц"
      ]
    },
    {
      "cell_type": "code",
      "execution_count": null,
      "metadata": {
        "id": "ivTYm-CNCjcP",
        "outputId": "44f398ed-fbfd-4d60-9756-645f058d7eef"
      },
      "outputs": [
        {
          "data": {
            "text/html": [
              "<div>\n",
              "<style scoped>\n",
              "    .dataframe tbody tr th:only-of-type {\n",
              "        vertical-align: middle;\n",
              "    }\n",
              "\n",
              "    .dataframe tbody tr th {\n",
              "        vertical-align: top;\n",
              "    }\n",
              "\n",
              "    .dataframe thead th {\n",
              "        text-align: right;\n",
              "    }\n",
              "</style>\n",
              "<table border=\"1\" class=\"dataframe\">\n",
              "  <thead>\n",
              "    <tr style=\"text-align: right;\">\n",
              "      <th></th>\n",
              "      <th>user_id</th>\n",
              "      <th>month</th>\n",
              "      <th>calls_minutes_sum</th>\n",
              "      <th>calls_count</th>\n",
              "    </tr>\n",
              "  </thead>\n",
              "  <tbody>\n",
              "    <tr>\n",
              "      <th>0</th>\n",
              "      <td>1000</td>\n",
              "      <td>5</td>\n",
              "      <td>159.0</td>\n",
              "      <td>22</td>\n",
              "    </tr>\n",
              "    <tr>\n",
              "      <th>1</th>\n",
              "      <td>1000</td>\n",
              "      <td>6</td>\n",
              "      <td>172.0</td>\n",
              "      <td>43</td>\n",
              "    </tr>\n",
              "    <tr>\n",
              "      <th>2</th>\n",
              "      <td>1000</td>\n",
              "      <td>7</td>\n",
              "      <td>340.0</td>\n",
              "      <td>47</td>\n",
              "    </tr>\n",
              "    <tr>\n",
              "      <th>3</th>\n",
              "      <td>1000</td>\n",
              "      <td>8</td>\n",
              "      <td>408.0</td>\n",
              "      <td>52</td>\n",
              "    </tr>\n",
              "    <tr>\n",
              "      <th>4</th>\n",
              "      <td>1000</td>\n",
              "      <td>9</td>\n",
              "      <td>466.0</td>\n",
              "      <td>58</td>\n",
              "    </tr>\n",
              "    <tr>\n",
              "      <th>5</th>\n",
              "      <td>1000</td>\n",
              "      <td>10</td>\n",
              "      <td>350.0</td>\n",
              "      <td>57</td>\n",
              "    </tr>\n",
              "    <tr>\n",
              "      <th>6</th>\n",
              "      <td>1000</td>\n",
              "      <td>11</td>\n",
              "      <td>338.0</td>\n",
              "      <td>43</td>\n",
              "    </tr>\n",
              "    <tr>\n",
              "      <th>7</th>\n",
              "      <td>1000</td>\n",
              "      <td>12</td>\n",
              "      <td>333.0</td>\n",
              "      <td>46</td>\n",
              "    </tr>\n",
              "  </tbody>\n",
              "</table>\n",
              "</div>"
            ],
            "text/plain": [
              "   user_id  month  calls_minutes_sum  calls_count\n",
              "0     1000      5              159.0           22\n",
              "1     1000      6              172.0           43\n",
              "2     1000      7              340.0           47\n",
              "3     1000      8              408.0           52\n",
              "4     1000      9              466.0           58\n",
              "5     1000     10              350.0           57\n",
              "6     1000     11              338.0           43\n",
              "7     1000     12              333.0           46"
            ]
          },
          "execution_count": 16,
          "metadata": {},
          "output_type": "execute_result"
        }
      ],
      "source": [
        "#группировка по пользователям и по месяцам\n",
        "#подсчёт суммарного времени разговоров и количества звонков \n",
        "group_calls = df_calls.groupby(['user_id', 'month']).agg({'duration': ['sum', 'count']})\n",
        "\n",
        "# переименование столбцов\n",
        "group_calls.columns = ['calls_minutes_sum', 'calls_count']\n",
        "\n",
        "# убираем мультииндекс\n",
        "group_calls = group_calls.reset_index()\n",
        "\n",
        "# проверка результата\n",
        "group_calls[group_calls['user_id'] == 1000]"
      ]
    },
    {
      "cell_type": "code",
      "execution_count": null,
      "metadata": {
        "id": "ApD7aENlCjcP",
        "outputId": "dc385df6-abfe-453d-c517-ed9340777d17"
      },
      "outputs": [
        {
          "data": {
            "text/plain": [
              "(3174, 4)"
            ]
          },
          "execution_count": 17,
          "metadata": {},
          "output_type": "execute_result"
        }
      ],
      "source": [
        "group_calls.shape"
      ]
    },
    {
      "cell_type": "markdown",
      "metadata": {
        "id": "tyu1TJQvCjcP"
      },
      "source": [
        "Получили сводную таблицу по продолжитльности и количеству звонков для каждого пользователя по месяцам. Именно такой формат нам необходим для целей исследвоания."
      ]
    },
    {
      "cell_type": "markdown",
      "metadata": {
        "id": "jIL9K2ZjCjcQ"
      },
      "source": [
        "### Работа с таблицей messages"
      ]
    },
    {
      "cell_type": "code",
      "execution_count": null,
      "metadata": {
        "scrolled": true,
        "id": "e3leVzwuCjcQ",
        "outputId": "1ee94690-24ce-42d0-f33d-637516bc41cb"
      },
      "outputs": [
        {
          "data": {
            "text/html": [
              "<div>\n",
              "<style scoped>\n",
              "    .dataframe tbody tr th:only-of-type {\n",
              "        vertical-align: middle;\n",
              "    }\n",
              "\n",
              "    .dataframe tbody tr th {\n",
              "        vertical-align: top;\n",
              "    }\n",
              "\n",
              "    .dataframe thead th {\n",
              "        text-align: right;\n",
              "    }\n",
              "</style>\n",
              "<table border=\"1\" class=\"dataframe\">\n",
              "  <thead>\n",
              "    <tr style=\"text-align: right;\">\n",
              "      <th></th>\n",
              "      <th>id</th>\n",
              "      <th>message_date</th>\n",
              "      <th>user_id</th>\n",
              "      <th>month</th>\n",
              "    </tr>\n",
              "  </thead>\n",
              "  <tbody>\n",
              "    <tr>\n",
              "      <th>0</th>\n",
              "      <td>1000_0</td>\n",
              "      <td>2018-06-27</td>\n",
              "      <td>1000</td>\n",
              "      <td>6</td>\n",
              "    </tr>\n",
              "    <tr>\n",
              "      <th>1</th>\n",
              "      <td>1000_1</td>\n",
              "      <td>2018-10-08</td>\n",
              "      <td>1000</td>\n",
              "      <td>10</td>\n",
              "    </tr>\n",
              "    <tr>\n",
              "      <th>2</th>\n",
              "      <td>1000_2</td>\n",
              "      <td>2018-08-04</td>\n",
              "      <td>1000</td>\n",
              "      <td>8</td>\n",
              "    </tr>\n",
              "    <tr>\n",
              "      <th>3</th>\n",
              "      <td>1000_3</td>\n",
              "      <td>2018-06-16</td>\n",
              "      <td>1000</td>\n",
              "      <td>6</td>\n",
              "    </tr>\n",
              "    <tr>\n",
              "      <th>4</th>\n",
              "      <td>1000_4</td>\n",
              "      <td>2018-12-05</td>\n",
              "      <td>1000</td>\n",
              "      <td>12</td>\n",
              "    </tr>\n",
              "  </tbody>\n",
              "</table>\n",
              "</div>"
            ],
            "text/plain": [
              "       id message_date  user_id  month\n",
              "0  1000_0   2018-06-27     1000      6\n",
              "1  1000_1   2018-10-08     1000     10\n",
              "2  1000_2   2018-08-04     1000      8\n",
              "3  1000_3   2018-06-16     1000      6\n",
              "4  1000_4   2018-12-05     1000     12"
            ]
          },
          "metadata": {},
          "output_type": "display_data"
        },
        {
          "data": {
            "text/plain": [
              "id                      object\n",
              "message_date    datetime64[ns]\n",
              "user_id                  int64\n",
              "month                    int64\n",
              "dtype: object"
            ]
          },
          "metadata": {},
          "output_type": "display_data"
        }
      ],
      "source": [
        "# имзеним тип данных в столбце message_date с object на datetime64\n",
        "df_messages['message_date'] = df_messages['message_date'].astype('datetime64')\n",
        "\n",
        "# создадим  столбец с номером месяца\n",
        "df_messages['month'] = df_messages['message_date'].dt.month\n",
        "\n",
        "# проверка результатов\n",
        "display(df_messages.head())\n",
        "display(df_messages.dtypes)"
      ]
    },
    {
      "cell_type": "markdown",
      "metadata": {
        "id": "9VulRQWnCjcR"
      },
      "source": [
        "Изменение типов данных и определение месяца прошло успешно <br/>"
      ]
    },
    {
      "cell_type": "markdown",
      "metadata": {
        "id": "BkUmRVCdCjcR"
      },
      "source": [
        "Создание сводной таблицы по сообщениям для последующего слияния"
      ]
    },
    {
      "cell_type": "code",
      "execution_count": null,
      "metadata": {
        "scrolled": true,
        "id": "1iL83DPfCjcR",
        "outputId": "ab950a7b-fed4-4142-809c-d6eeeb893b02"
      },
      "outputs": [
        {
          "data": {
            "text/html": [
              "<div>\n",
              "<style scoped>\n",
              "    .dataframe tbody tr th:only-of-type {\n",
              "        vertical-align: middle;\n",
              "    }\n",
              "\n",
              "    .dataframe tbody tr th {\n",
              "        vertical-align: top;\n",
              "    }\n",
              "\n",
              "    .dataframe thead th {\n",
              "        text-align: right;\n",
              "    }\n",
              "</style>\n",
              "<table border=\"1\" class=\"dataframe\">\n",
              "  <thead>\n",
              "    <tr style=\"text-align: right;\">\n",
              "      <th></th>\n",
              "      <th>user_id</th>\n",
              "      <th>month</th>\n",
              "      <th>message_count</th>\n",
              "    </tr>\n",
              "  </thead>\n",
              "  <tbody>\n",
              "    <tr>\n",
              "      <th>0</th>\n",
              "      <td>1000</td>\n",
              "      <td>5</td>\n",
              "      <td>22</td>\n",
              "    </tr>\n",
              "    <tr>\n",
              "      <th>1</th>\n",
              "      <td>1000</td>\n",
              "      <td>6</td>\n",
              "      <td>60</td>\n",
              "    </tr>\n",
              "    <tr>\n",
              "      <th>2</th>\n",
              "      <td>1000</td>\n",
              "      <td>7</td>\n",
              "      <td>75</td>\n",
              "    </tr>\n",
              "    <tr>\n",
              "      <th>3</th>\n",
              "      <td>1000</td>\n",
              "      <td>8</td>\n",
              "      <td>81</td>\n",
              "    </tr>\n",
              "    <tr>\n",
              "      <th>4</th>\n",
              "      <td>1000</td>\n",
              "      <td>9</td>\n",
              "      <td>57</td>\n",
              "    </tr>\n",
              "    <tr>\n",
              "      <th>5</th>\n",
              "      <td>1000</td>\n",
              "      <td>10</td>\n",
              "      <td>73</td>\n",
              "    </tr>\n",
              "    <tr>\n",
              "      <th>6</th>\n",
              "      <td>1000</td>\n",
              "      <td>11</td>\n",
              "      <td>58</td>\n",
              "    </tr>\n",
              "    <tr>\n",
              "      <th>7</th>\n",
              "      <td>1000</td>\n",
              "      <td>12</td>\n",
              "      <td>70</td>\n",
              "    </tr>\n",
              "  </tbody>\n",
              "</table>\n",
              "</div>"
            ],
            "text/plain": [
              "   user_id  month  message_count\n",
              "0     1000      5             22\n",
              "1     1000      6             60\n",
              "2     1000      7             75\n",
              "3     1000      8             81\n",
              "4     1000      9             57\n",
              "5     1000     10             73\n",
              "6     1000     11             58\n",
              "7     1000     12             70"
            ]
          },
          "execution_count": 19,
          "metadata": {},
          "output_type": "execute_result"
        }
      ],
      "source": [
        "#группировка по пользователям и по месяцам\n",
        "#подсчёт суммарного количества сообщений\n",
        "group_message = df_messages.groupby(['user_id', 'month']).agg({'user_id': ['count']})\n",
        "\n",
        "# переименование столбоц\n",
        "group_message.columns = ['message_count']\n",
        "\n",
        "# убираем мультииндекс\n",
        "group_message = group_message.reset_index()\n",
        "\n",
        "# проверка результата\n",
        "group_message[group_message['user_id'] == 1000]"
      ]
    },
    {
      "cell_type": "code",
      "execution_count": null,
      "metadata": {
        "id": "JIAJhvSqCjcS",
        "outputId": "762dc3f5-417f-492f-ea83-3dfe5827864f"
      },
      "outputs": [
        {
          "data": {
            "text/plain": [
              "(2717, 3)"
            ]
          },
          "execution_count": 20,
          "metadata": {},
          "output_type": "execute_result"
        }
      ],
      "source": [
        "group_message.shape"
      ]
    },
    {
      "cell_type": "markdown",
      "metadata": {
        "id": "MDAIw5l_CjcS"
      },
      "source": [
        "Получили сводную таблицу по количеству сообщений для каждого пользователя по месяцам. Именно такой формат нам необходим для целей исследвоания."
      ]
    },
    {
      "cell_type": "markdown",
      "metadata": {
        "id": "5lQD069CCjcS"
      },
      "source": [
        "### Работа с таблицей internet"
      ]
    },
    {
      "cell_type": "code",
      "execution_count": null,
      "metadata": {
        "id": "W2G1vDi7CjcT",
        "outputId": "58035348-6e50-488b-9838-8d6b17102bee"
      },
      "outputs": [
        {
          "data": {
            "text/html": [
              "<div>\n",
              "<style scoped>\n",
              "    .dataframe tbody tr th:only-of-type {\n",
              "        vertical-align: middle;\n",
              "    }\n",
              "\n",
              "    .dataframe tbody tr th {\n",
              "        vertical-align: top;\n",
              "    }\n",
              "\n",
              "    .dataframe thead th {\n",
              "        text-align: right;\n",
              "    }\n",
              "</style>\n",
              "<table border=\"1\" class=\"dataframe\">\n",
              "  <thead>\n",
              "    <tr style=\"text-align: right;\">\n",
              "      <th></th>\n",
              "      <th>id</th>\n",
              "      <th>mb_used</th>\n",
              "      <th>session_date</th>\n",
              "      <th>user_id</th>\n",
              "      <th>month</th>\n",
              "    </tr>\n",
              "  </thead>\n",
              "  <tbody>\n",
              "    <tr>\n",
              "      <th>0</th>\n",
              "      <td>1000_0</td>\n",
              "      <td>112.95</td>\n",
              "      <td>2018-11-25</td>\n",
              "      <td>1000</td>\n",
              "      <td>11</td>\n",
              "    </tr>\n",
              "    <tr>\n",
              "      <th>1</th>\n",
              "      <td>1000_1</td>\n",
              "      <td>1052.81</td>\n",
              "      <td>2018-09-07</td>\n",
              "      <td>1000</td>\n",
              "      <td>9</td>\n",
              "    </tr>\n",
              "    <tr>\n",
              "      <th>2</th>\n",
              "      <td>1000_2</td>\n",
              "      <td>1197.26</td>\n",
              "      <td>2018-06-25</td>\n",
              "      <td>1000</td>\n",
              "      <td>6</td>\n",
              "    </tr>\n",
              "    <tr>\n",
              "      <th>3</th>\n",
              "      <td>1000_3</td>\n",
              "      <td>550.27</td>\n",
              "      <td>2018-08-22</td>\n",
              "      <td>1000</td>\n",
              "      <td>8</td>\n",
              "    </tr>\n",
              "    <tr>\n",
              "      <th>4</th>\n",
              "      <td>1000_4</td>\n",
              "      <td>302.56</td>\n",
              "      <td>2018-09-24</td>\n",
              "      <td>1000</td>\n",
              "      <td>9</td>\n",
              "    </tr>\n",
              "  </tbody>\n",
              "</table>\n",
              "</div>"
            ],
            "text/plain": [
              "       id  mb_used session_date  user_id  month\n",
              "0  1000_0   112.95   2018-11-25     1000     11\n",
              "1  1000_1  1052.81   2018-09-07     1000      9\n",
              "2  1000_2  1197.26   2018-06-25     1000      6\n",
              "3  1000_3   550.27   2018-08-22     1000      8\n",
              "4  1000_4   302.56   2018-09-24     1000      9"
            ]
          },
          "metadata": {},
          "output_type": "display_data"
        },
        {
          "data": {
            "text/plain": [
              "id                      object\n",
              "mb_used                float64\n",
              "session_date    datetime64[ns]\n",
              "user_id                  int64\n",
              "month                    int64\n",
              "dtype: object"
            ]
          },
          "metadata": {},
          "output_type": "display_data"
        }
      ],
      "source": [
        "# имзеним тип данных в столбце session_date с object на datetime64\n",
        "df_internet['session_date'] = df_internet['session_date'].astype('datetime64')\n",
        "\n",
        "# создадим  столбец с номером месяца\n",
        "df_internet['month'] = df_internet['session_date'].dt.month\n",
        "\n",
        "# проверка результатов\n",
        "display(df_internet.head())\n",
        "display(df_internet.dtypes)"
      ]
    },
    {
      "cell_type": "markdown",
      "metadata": {
        "id": "ZkaJmVmUCjcT"
      },
      "source": [
        "Изменение типов данных и определение месяца прошло успешно <br/>"
      ]
    },
    {
      "cell_type": "code",
      "execution_count": null,
      "metadata": {
        "id": "BtXDrY87CjcT",
        "outputId": "be98ba3b-5841-4666-95dd-aefd3a06ad7a"
      },
      "outputs": [
        {
          "data": {
            "text/html": [
              "<div>\n",
              "<style scoped>\n",
              "    .dataframe tbody tr th:only-of-type {\n",
              "        vertical-align: middle;\n",
              "    }\n",
              "\n",
              "    .dataframe tbody tr th {\n",
              "        vertical-align: top;\n",
              "    }\n",
              "\n",
              "    .dataframe thead th {\n",
              "        text-align: right;\n",
              "    }\n",
              "</style>\n",
              "<table border=\"1\" class=\"dataframe\">\n",
              "  <thead>\n",
              "    <tr style=\"text-align: right;\">\n",
              "      <th></th>\n",
              "      <th>user_id</th>\n",
              "      <th>month</th>\n",
              "      <th>mb_used_sum</th>\n",
              "    </tr>\n",
              "  </thead>\n",
              "  <tbody>\n",
              "    <tr>\n",
              "      <th>0</th>\n",
              "      <td>1000</td>\n",
              "      <td>5</td>\n",
              "      <td>2253.49</td>\n",
              "    </tr>\n",
              "    <tr>\n",
              "      <th>1</th>\n",
              "      <td>1000</td>\n",
              "      <td>6</td>\n",
              "      <td>23233.77</td>\n",
              "    </tr>\n",
              "    <tr>\n",
              "      <th>2</th>\n",
              "      <td>1000</td>\n",
              "      <td>7</td>\n",
              "      <td>14003.64</td>\n",
              "    </tr>\n",
              "    <tr>\n",
              "      <th>3</th>\n",
              "      <td>1000</td>\n",
              "      <td>8</td>\n",
              "      <td>14055.93</td>\n",
              "    </tr>\n",
              "    <tr>\n",
              "      <th>4</th>\n",
              "      <td>1000</td>\n",
              "      <td>9</td>\n",
              "      <td>14568.91</td>\n",
              "    </tr>\n",
              "    <tr>\n",
              "      <th>5</th>\n",
              "      <td>1000</td>\n",
              "      <td>10</td>\n",
              "      <td>14702.49</td>\n",
              "    </tr>\n",
              "    <tr>\n",
              "      <th>6</th>\n",
              "      <td>1000</td>\n",
              "      <td>11</td>\n",
              "      <td>14756.47</td>\n",
              "    </tr>\n",
              "    <tr>\n",
              "      <th>7</th>\n",
              "      <td>1000</td>\n",
              "      <td>12</td>\n",
              "      <td>9817.61</td>\n",
              "    </tr>\n",
              "  </tbody>\n",
              "</table>\n",
              "</div>"
            ],
            "text/plain": [
              "   user_id  month  mb_used_sum\n",
              "0     1000      5      2253.49\n",
              "1     1000      6     23233.77\n",
              "2     1000      7     14003.64\n",
              "3     1000      8     14055.93\n",
              "4     1000      9     14568.91\n",
              "5     1000     10     14702.49\n",
              "6     1000     11     14756.47\n",
              "7     1000     12      9817.61"
            ]
          },
          "execution_count": 22,
          "metadata": {},
          "output_type": "execute_result"
        }
      ],
      "source": [
        "#группировка по пользователям и по месяцам\n",
        "#подсчёт суммарного интернет-трафика\n",
        "group_internet = df_internet.groupby(['user_id', 'month']).agg({'mb_used': ['sum']})\n",
        "\n",
        "# переименование столбца\n",
        "group_internet.columns = ['mb_used_sum']\n",
        "\n",
        "#убираем мультииндекс\n",
        "group_internet = group_internet.reset_index()\n",
        "\n",
        "# проверка результата\n",
        "group_internet[group_internet['user_id'] == 1000]"
      ]
    },
    {
      "cell_type": "code",
      "execution_count": null,
      "metadata": {
        "id": "_F-V0f_hCjcU",
        "outputId": "147c6867-10d1-402b-97c7-84b7022df9d5"
      },
      "outputs": [
        {
          "data": {
            "text/plain": [
              "(3203, 3)"
            ]
          },
          "execution_count": 23,
          "metadata": {},
          "output_type": "execute_result"
        }
      ],
      "source": [
        "group_internet.shape"
      ]
    },
    {
      "cell_type": "markdown",
      "metadata": {
        "id": "o3CKbBfUCjcU"
      },
      "source": [
        "Получили сводную таблицу по количеству сессий и объёму трафика для каждого пользователя по месяцам. Именно такой формат нам необходим для целей исследвоания."
      ]
    },
    {
      "cell_type": "markdown",
      "metadata": {
        "id": "9U1fFfCnCjcV"
      },
      
    {
      "cell_type": "markdown",
      "metadata": {
        "id": "Lx3JXmvxCjcV"
      },
      "source": [
        "В таблице `tariffs` имеем название колонки с именем тарифа `'tariff_name'`, в то время как в таблице пользователя это `'tariff'`. Для корректного слияния в дальнейшем необходимо привести имена столбцов к одному названию"
      ]
    },
    {
      "cell_type": "code",
      "execution_count": null,
      "metadata": {
        "id": "NnzMsX5KCjcV"
      },
      "outputs": [],
      "source": [
        "# переименуем колонку с именеим тарифа в таблице с тарифами\n",
        "df_tariffs.columns = ['messages_included', 'mb_per_month_included', 'minutes_included',\n",
        "       'rub_monthly_fee', 'rub_per_gb', 'rub_per_message', 'rub_per_minute',\n",
        "       'tariff']"
      ]
    },
    {
      "cell_type": "code",
      "execution_count": null,
      "metadata": {
        "scrolled": true,
        "id": "R_tleWH-CjcX",
        "outputId": "cd468947-ba83-486f-cc87-f97345328a6c"
      },
      "outputs": [
        {
          "data": {
            "text/plain": [
              "Index(['messages_included', 'mb_per_month_included', 'minutes_included',\n",
              "       'rub_monthly_fee', 'rub_per_gb', 'rub_per_message', 'rub_per_minute',\n",
              "       'tariff'],\n",
              "      dtype='object')"
            ]
          },
          "execution_count": 25,
          "metadata": {},
          "output_type": "execute_result"
        }
      ],
      "source": [
        "df_tariffs.rename(columns = {'tariff_name':'tariff'}, inplace = True)\n",
        "df_tariffs.columns"
      ]
    },
    {
      "cell_type": "markdown",
      "metadata": {
        "id": "Lj6w-aXyCjcX"
      },
      "source": [
        "### Присоединение таблиц calls, internet, messages, users, tariffs"
      ]
    },
    {
      "cell_type": "markdown",
      "metadata": {
        "id": "-So-2xKSCjcY"
      },
      "source": [
        "Объединять таблицы будем по очереди."
      ]
    },
    {
      "cell_type": "code",
      "execution_count": null,
      "metadata": {
        "scrolled": false,
        "id": "o_Vce7S5CjcY",
        "outputId": "69ca2868-516b-4f74-94f7-03fcf4d3b8b3"
      },
      "outputs": [
        {
          "data": {
            "text/html": [
              "<div>\n",
              "<style scoped>\n",
              "    .dataframe tbody tr th:only-of-type {\n",
              "        vertical-align: middle;\n",
              "    }\n",
              "\n",
              "    .dataframe tbody tr th {\n",
              "        vertical-align: top;\n",
              "    }\n",
              "\n",
              "    .dataframe thead th {\n",
              "        text-align: right;\n",
              "    }\n",
              "</style>\n",
              "<table border=\"1\" class=\"dataframe\">\n",
              "  <thead>\n",
              "    <tr style=\"text-align: right;\">\n",
              "      <th></th>\n",
              "      <th>user_id</th>\n",
              "      <th>month</th>\n",
              "      <th>calls_minutes_sum</th>\n",
              "      <th>calls_count</th>\n",
              "      <th>message_count</th>\n",
              "    </tr>\n",
              "  </thead>\n",
              "  <tbody>\n",
              "    <tr>\n",
              "      <th>0</th>\n",
              "      <td>1000</td>\n",
              "      <td>5</td>\n",
              "      <td>159.0</td>\n",
              "      <td>22.0</td>\n",
              "      <td>22.0</td>\n",
              "    </tr>\n",
              "    <tr>\n",
              "      <th>1</th>\n",
              "      <td>1000</td>\n",
              "      <td>6</td>\n",
              "      <td>172.0</td>\n",
              "      <td>43.0</td>\n",
              "      <td>60.0</td>\n",
              "    </tr>\n",
              "    <tr>\n",
              "      <th>2</th>\n",
              "      <td>1000</td>\n",
              "      <td>7</td>\n",
              "      <td>340.0</td>\n",
              "      <td>47.0</td>\n",
              "      <td>75.0</td>\n",
              "    </tr>\n",
              "    <tr>\n",
              "      <th>3</th>\n",
              "      <td>1000</td>\n",
              "      <td>8</td>\n",
              "      <td>408.0</td>\n",
              "      <td>52.0</td>\n",
              "      <td>81.0</td>\n",
              "    </tr>\n",
              "    <tr>\n",
              "      <th>4</th>\n",
              "      <td>1000</td>\n",
              "      <td>9</td>\n",
              "      <td>466.0</td>\n",
              "      <td>58.0</td>\n",
              "      <td>57.0</td>\n",
              "    </tr>\n",
              "  </tbody>\n",
              "</table>\n",
              "</div>"
            ],
            "text/plain": [
              "   user_id  month  calls_minutes_sum  calls_count  message_count\n",
              "0     1000      5              159.0         22.0           22.0\n",
              "1     1000      6              172.0         43.0           60.0\n",
              "2     1000      7              340.0         47.0           75.0\n",
              "3     1000      8              408.0         52.0           81.0\n",
              "4     1000      9              466.0         58.0           57.0"
            ]
          },
          "execution_count": 26,
          "metadata": {},
          "output_type": "execute_result"
        }
      ],
      "source": [
        "# соединяем group_calls и group_message\n",
        "calls_message = group_calls.merge(group_message, on=['user_id', 'month'], how='outer')\n",
        "calls_message[:5]"
      ]
    },
    {
      "cell_type": "code",
      "execution_count": null,
      "metadata": {
        "id": "xU4moevmCjcY",
        "outputId": "58249890-50c3-4b87-9452-37bcb1dbab61"
      },
      "outputs": [
        {
          "data": {
            "text/html": [
              "<div>\n",
              "<style scoped>\n",
              "    .dataframe tbody tr th:only-of-type {\n",
              "        vertical-align: middle;\n",
              "    }\n",
              "\n",
              "    .dataframe tbody tr th {\n",
              "        vertical-align: top;\n",
              "    }\n",
              "\n",
              "    .dataframe thead th {\n",
              "        text-align: right;\n",
              "    }\n",
              "</style>\n",
              "<table border=\"1\" class=\"dataframe\">\n",
              "  <thead>\n",
              "    <tr style=\"text-align: right;\">\n",
              "      <th></th>\n",
              "      <th>user_id</th>\n",
              "      <th>month</th>\n",
              "      <th>calls_minutes_sum</th>\n",
              "      <th>calls_count</th>\n",
              "      <th>message_count</th>\n",
              "      <th>mb_used_sum</th>\n",
              "    </tr>\n",
              "  </thead>\n",
              "  <tbody>\n",
              "    <tr>\n",
              "      <th>0</th>\n",
              "      <td>1000</td>\n",
              "      <td>5</td>\n",
              "      <td>159.0</td>\n",
              "      <td>22.0</td>\n",
              "      <td>22.0</td>\n",
              "      <td>2253.49</td>\n",
              "    </tr>\n",
              "    <tr>\n",
              "      <th>1</th>\n",
              "      <td>1000</td>\n",
              "      <td>6</td>\n",
              "      <td>172.0</td>\n",
              "      <td>43.0</td>\n",
              "      <td>60.0</td>\n",
              "      <td>23233.77</td>\n",
              "    </tr>\n",
              "    <tr>\n",
              "      <th>2</th>\n",
              "      <td>1000</td>\n",
              "      <td>7</td>\n",
              "      <td>340.0</td>\n",
              "      <td>47.0</td>\n",
              "      <td>75.0</td>\n",
              "      <td>14003.64</td>\n",
              "    </tr>\n",
              "    <tr>\n",
              "      <th>3</th>\n",
              "      <td>1000</td>\n",
              "      <td>8</td>\n",
              "      <td>408.0</td>\n",
              "      <td>52.0</td>\n",
              "      <td>81.0</td>\n",
              "      <td>14055.93</td>\n",
              "    </tr>\n",
              "    <tr>\n",
              "      <th>4</th>\n",
              "      <td>1000</td>\n",
              "      <td>9</td>\n",
              "      <td>466.0</td>\n",
              "      <td>58.0</td>\n",
              "      <td>57.0</td>\n",
              "      <td>14568.91</td>\n",
              "    </tr>\n",
              "  </tbody>\n",
              "</table>\n",
              "</div>"
            ],
            "text/plain": [
              "   user_id  month  calls_minutes_sum  calls_count  message_count  mb_used_sum\n",
              "0     1000      5              159.0         22.0           22.0      2253.49\n",
              "1     1000      6              172.0         43.0           60.0     23233.77\n",
              "2     1000      7              340.0         47.0           75.0     14003.64\n",
              "3     1000      8              408.0         52.0           81.0     14055.93\n",
              "4     1000      9              466.0         58.0           57.0     14568.91"
            ]
          },
          "execution_count": 27,
          "metadata": {},
          "output_type": "execute_result"
        }
      ],
      "source": [
        "# к таблице calls_message присоединяем group_internet\n",
        "calls_message_int = calls_message.merge(group_internet, on=['user_id', 'month'], how='outer')\n",
        "calls_message_int[:5]"
      ]
    },
    {
      "cell_type": "markdown",
      "metadata": {
        "id": "0DfNunCpCjcZ"
      },
      "source": [
        "Далее присоединим информацию о пользователях. Из таблицы users возьмём только столбцы `tariff`, `city`. Другие столбцы нам не понадобятся."
      ]
    },
    {
      "cell_type": "code",
      "execution_count": null,
      "metadata": {
        "scrolled": true,
        "id": "73kwwNylCjcZ",
        "outputId": "8f27c00e-69ac-4509-ddcf-33d54130b41e"
      },
      "outputs": [
        {
          "data": {
            "text/html": [
              "<div>\n",
              "<style scoped>\n",
              "    .dataframe tbody tr th:only-of-type {\n",
              "        vertical-align: middle;\n",
              "    }\n",
              "\n",
              "    .dataframe tbody tr th {\n",
              "        vertical-align: top;\n",
              "    }\n",
              "\n",
              "    .dataframe thead th {\n",
              "        text-align: right;\n",
              "    }\n",
              "</style>\n",
              "<table border=\"1\" class=\"dataframe\">\n",
              "  <thead>\n",
              "    <tr style=\"text-align: right;\">\n",
              "      <th></th>\n",
              "      <th>user_id</th>\n",
              "      <th>month</th>\n",
              "      <th>calls_minutes_sum</th>\n",
              "      <th>calls_count</th>\n",
              "      <th>message_count</th>\n",
              "      <th>mb_used_sum</th>\n",
              "      <th>tariff</th>\n",
              "      <th>city</th>\n",
              "    </tr>\n",
              "  </thead>\n",
              "  <tbody>\n",
              "    <tr>\n",
              "      <th>0</th>\n",
              "      <td>1000</td>\n",
              "      <td>5</td>\n",
              "      <td>159.0</td>\n",
              "      <td>22.0</td>\n",
              "      <td>22.0</td>\n",
              "      <td>2253.49</td>\n",
              "      <td>ultra</td>\n",
              "      <td>Краснодар</td>\n",
              "    </tr>\n",
              "    <tr>\n",
              "      <th>1</th>\n",
              "      <td>1000</td>\n",
              "      <td>6</td>\n",
              "      <td>172.0</td>\n",
              "      <td>43.0</td>\n",
              "      <td>60.0</td>\n",
              "      <td>23233.77</td>\n",
              "      <td>ultra</td>\n",
              "      <td>Краснодар</td>\n",
              "    </tr>\n",
              "    <tr>\n",
              "      <th>2</th>\n",
              "      <td>1000</td>\n",
              "      <td>7</td>\n",
              "      <td>340.0</td>\n",
              "      <td>47.0</td>\n",
              "      <td>75.0</td>\n",
              "      <td>14003.64</td>\n",
              "      <td>ultra</td>\n",
              "      <td>Краснодар</td>\n",
              "    </tr>\n",
              "    <tr>\n",
              "      <th>3</th>\n",
              "      <td>1000</td>\n",
              "      <td>8</td>\n",
              "      <td>408.0</td>\n",
              "      <td>52.0</td>\n",
              "      <td>81.0</td>\n",
              "      <td>14055.93</td>\n",
              "      <td>ultra</td>\n",
              "      <td>Краснодар</td>\n",
              "    </tr>\n",
              "    <tr>\n",
              "      <th>4</th>\n",
              "      <td>1000</td>\n",
              "      <td>9</td>\n",
              "      <td>466.0</td>\n",
              "      <td>58.0</td>\n",
              "      <td>57.0</td>\n",
              "      <td>14568.91</td>\n",
              "      <td>ultra</td>\n",
              "      <td>Краснодар</td>\n",
              "    </tr>\n",
              "  </tbody>\n",
              "</table>\n",
              "</div>"
            ],
            "text/plain": [
              "   user_id  month  calls_minutes_sum  calls_count  message_count  mb_used_sum  \\\n",
              "0     1000      5              159.0         22.0           22.0      2253.49   \n",
              "1     1000      6              172.0         43.0           60.0     23233.77   \n",
              "2     1000      7              340.0         47.0           75.0     14003.64   \n",
              "3     1000      8              408.0         52.0           81.0     14055.93   \n",
              "4     1000      9              466.0         58.0           57.0     14568.91   \n",
              "\n",
              "  tariff       city  \n",
              "0  ultra  Краснодар  \n",
              "1  ultra  Краснодар  \n",
              "2  ultra  Краснодар  \n",
              "3  ultra  Краснодар  \n",
              "4  ultra  Краснодар  "
            ]
          },
          "execution_count": 28,
          "metadata": {},
          "output_type": "execute_result"
        }
      ],
      "source": [
        "# присоединение к calls_message_int таблицы users\n",
        "calls_message_int_users = calls_message_int.merge(df_users[['user_id', 'tariff', 'city']], on='user_id', how='left')\n",
        "calls_message_int_users[:5]"
      ]
    },
    {
      "cell_type": "code",
      "execution_count": null,
      "metadata": {
        "scrolled": false,
        "id": "q_aDjf4uCjca",
        "outputId": "420b01f8-611f-48d5-d2aa-a5f1aac07b7d"
      },
      "outputs": [
        {
          "name": "stdout",
          "output_type": "stream",
          "text": [
            "Равенство суммы минут True\n",
            "Равенство суммы СМС True\n",
            "Равенство объёма трафика True\n",
            "Равенство пользователей False\n"
          ]
        }
      ],
      "source": [
        "# контрольная сумма по услугам и пользователям\n",
        "print ('Равенство суммы минут', calls_message_int_users['calls_minutes_sum'].sum() == df_calls['duration'].sum())\n",
        "print ('Равенство суммы СМС', calls_message_int_users['message_count'].sum() == len(df_messages))\n",
        "print ('Равенство объёма трафика', \n",
        "       calls_message_int_users['mb_used_sum'].sum().round(2) == df_internet['mb_used'].sum().round(2))\n",
        "print ('Равенство пользователей', calls_message_int_users['user_id'].nunique() == df_users['user_id'].nunique())"
      ]
    },
    {
      "cell_type": "code",
      "execution_count": null,
      "metadata": {
        "id": "L3Nr8BIICjcb",
        "outputId": "5639cc71-80e7-4241-8a71-231545ca9bde"
      },
      "outputs": [
        {
          "name": "stdout",
          "output_type": "stream",
          "text": [
            "Индекс:  128 user_id: 1128\n",
            "Индекс:  371 user_id: 1371\n"
          ]
        }
      ],
      "source": [
        "# каких пользователей нет в суммарной таблице\n",
        "for i in range(len(df_users)):\n",
        "    if df_users['user_id'].iloc[i] not in calls_message_int_users['user_id'].unique():\n",
        "        print ('Индекс: ', i, 'user_id:', df_users['user_id'].iloc[i])"
      ]
    },
    {
      "cell_type": "code",
      "execution_count": null,
      "metadata": {
        "scrolled": false,
        "id": "fhELRzuYCjcc",
        "outputId": "4f85a2f1-a0d7-4e28-f514-fac310ddc850"
      },
      "outputs": [
        {
          "data": {
            "text/html": [
              "<div>\n",
              "<style scoped>\n",
              "    .dataframe tbody tr th:only-of-type {\n",
              "        vertical-align: middle;\n",
              "    }\n",
              "\n",
              "    .dataframe tbody tr th {\n",
              "        vertical-align: top;\n",
              "    }\n",
              "\n",
              "    .dataframe thead th {\n",
              "        text-align: right;\n",
              "    }\n",
              "</style>\n",
              "<table border=\"1\" class=\"dataframe\">\n",
              "  <thead>\n",
              "    <tr style=\"text-align: right;\">\n",
              "      <th></th>\n",
              "      <th>user_id</th>\n",
              "      <th>month</th>\n",
              "      <th>calls_minutes_sum</th>\n",
              "      <th>calls_count</th>\n",
              "      <th>message_count</th>\n",
              "      <th>mb_used_sum</th>\n",
              "      <th>tariff</th>\n",
              "      <th>city</th>\n",
              "      <th>age</th>\n",
              "      <th>churn_date</th>\n",
              "      <th>first_name</th>\n",
              "      <th>last_name</th>\n",
              "      <th>reg_date</th>\n",
              "    </tr>\n",
              "  </thead>\n",
              "  <tbody>\n",
              "    <tr>\n",
              "      <th>3211</th>\n",
              "      <td>1489</td>\n",
              "      <td>11.0</td>\n",
              "      <td>NaN</td>\n",
              "      <td>NaN</td>\n",
              "      <td>20.0</td>\n",
              "      <td>17491.56</td>\n",
              "      <td>smart</td>\n",
              "      <td>Санкт-Петербург</td>\n",
              "      <td>NaN</td>\n",
              "      <td>NaN</td>\n",
              "      <td>NaN</td>\n",
              "      <td>NaN</td>\n",
              "      <td>NaN</td>\n",
              "    </tr>\n",
              "    <tr>\n",
              "      <th>3212</th>\n",
              "      <td>1489</td>\n",
              "      <td>12.0</td>\n",
              "      <td>NaN</td>\n",
              "      <td>NaN</td>\n",
              "      <td>35.0</td>\n",
              "      <td>17322.51</td>\n",
              "      <td>smart</td>\n",
              "      <td>Санкт-Петербург</td>\n",
              "      <td>NaN</td>\n",
              "      <td>NaN</td>\n",
              "      <td>NaN</td>\n",
              "      <td>NaN</td>\n",
              "      <td>NaN</td>\n",
              "    </tr>\n",
              "    <tr>\n",
              "      <th>3213</th>\n",
              "      <td>1476</td>\n",
              "      <td>4.0</td>\n",
              "      <td>NaN</td>\n",
              "      <td>NaN</td>\n",
              "      <td>NaN</td>\n",
              "      <td>530.78</td>\n",
              "      <td>ultra</td>\n",
              "      <td>Москва</td>\n",
              "      <td>NaN</td>\n",
              "      <td>NaN</td>\n",
              "      <td>NaN</td>\n",
              "      <td>NaN</td>\n",
              "      <td>NaN</td>\n",
              "    </tr>\n",
              "    <tr>\n",
              "      <th>3214</th>\n",
              "      <td>1128</td>\n",
              "      <td>NaN</td>\n",
              "      <td>NaN</td>\n",
              "      <td>NaN</td>\n",
              "      <td>NaN</td>\n",
              "      <td>NaN</td>\n",
              "      <td>ultra</td>\n",
              "      <td>Волжский</td>\n",
              "      <td>51.0</td>\n",
              "      <td>2018-12-23</td>\n",
              "      <td>Ксения</td>\n",
              "      <td>Агаева</td>\n",
              "      <td>2018-12-15</td>\n",
              "    </tr>\n",
              "    <tr>\n",
              "      <th>3215</th>\n",
              "      <td>1371</td>\n",
              "      <td>NaN</td>\n",
              "      <td>NaN</td>\n",
              "      <td>NaN</td>\n",
              "      <td>NaN</td>\n",
              "      <td>NaN</td>\n",
              "      <td>smart</td>\n",
              "      <td>Омск</td>\n",
              "      <td>50.0</td>\n",
              "      <td>2018-12-30</td>\n",
              "      <td>Ириней</td>\n",
              "      <td>Трофимов</td>\n",
              "      <td>2018-12-25</td>\n",
              "    </tr>\n",
              "  </tbody>\n",
              "</table>\n",
              "</div>"
            ],
            "text/plain": [
              "      user_id  month  calls_minutes_sum  calls_count  message_count  \\\n",
              "3211     1489   11.0                NaN          NaN           20.0   \n",
              "3212     1489   12.0                NaN          NaN           35.0   \n",
              "3213     1476    4.0                NaN          NaN            NaN   \n",
              "3214     1128    NaN                NaN          NaN            NaN   \n",
              "3215     1371    NaN                NaN          NaN            NaN   \n",
              "\n",
              "      mb_used_sum tariff             city   age  churn_date first_name  \\\n",
              "3211     17491.56  smart  Санкт-Петербург   NaN         NaN        NaN   \n",
              "3212     17322.51  smart  Санкт-Петербург   NaN         NaN        NaN   \n",
              "3213       530.78  ultra           Москва   NaN         NaN        NaN   \n",
              "3214          NaN  ultra         Волжский  51.0  2018-12-23     Ксения   \n",
              "3215          NaN  smart             Омск  50.0  2018-12-30     Ириней   \n",
              "\n",
              "     last_name    reg_date  \n",
              "3211       NaN         NaN  \n",
              "3212       NaN         NaN  \n",
              "3213       NaN         NaN  \n",
              "3214    Агаева  2018-12-15  \n",
              "3215  Трофимов  2018-12-25  "
            ]
          },
          "execution_count": 31,
          "metadata": {},
          "output_type": "execute_result"
        }
      ],
      "source": [
        "# добавим этих пользователей 1128 и 1371\n",
        "calls_message_int_users = calls_message_int_users.append(df_users.iloc[128], ignore_index=True)\n",
        "calls_message_int_users = calls_message_int_users.append(df_users.iloc[371], ignore_index=True)\n",
        "calls_message_int_users.tail()"
      ]
    },
    {
      "cell_type": "markdown",
      "metadata": {
        "id": "zmh2OmHjCjcd"
      },
      "source": [
        "В полуичвшейся таблице есть пропуски. Это связано с тем, что пользователи могут не использовать звонки, смс, интерет, например. Пропуски заменим на 0 "
      ]
    },
    {
      "cell_type": "code",
      "execution_count": null,
      "metadata": {
        "scrolled": true,
        "id": "yv4kV8NZCjcd",
        "outputId": "0ef546c5-abf5-41f5-e27f-0848b089b626"
      },
      "outputs": [
        {
          "data": {
            "text/plain": [
              "user_id              0.0\n",
              "month                0.0\n",
              "calls_minutes_sum    0.0\n",
              "calls_count          0.0\n",
              "message_count        0.0\n",
              "mb_used_sum          0.0\n",
              "tariff               0.0\n",
              "city                 0.0\n",
              "age                  0.0\n",
              "churn_date           0.0\n",
              "first_name           0.0\n",
              "last_name            0.0\n",
              "reg_date             0.0\n",
              "dtype: float64"
            ]
          },
          "execution_count": 32,
          "metadata": {},
          "output_type": "execute_result"
        }
      ],
      "source": [
        "# заменим пропущенные значения на 0\n",
        "calls_message_int_users =  calls_message_int_users.fillna(0)\n",
        "calls_message_int_users.isna().mean()"
      ]
    },
    {
      "cell_type": "markdown",
      "metadata": {
        "id": "k21By7KGCjcd"
      },
      "source": [
        "Пропуски в таблице заменены успешно"
      ]
    },
    {
      "cell_type": "markdown",
      "metadata": {
        "id": "oUezTUyACjce"
      },
      "source": [
        "Далее перейдём к подсчёту выручки"
      ]
    },
    {
      "cell_type": "markdown",
      "metadata": {
        "id": "N3V3EtJuCjce"
      },
      "source": [
        "### Подсчёт выручки "
      ]
    },
    {
      "cell_type": "markdown",
      "metadata": {
        "id": "a1H-KXQzCjcf"
      },
      "source": [
        "Можно разными инструментами подсчитать выручку. Предлагаю следующий"
      ]
    },
    {
      "cell_type": "code",
      "execution_count": null,
      "metadata": {
        "id": "lFR1ZMqCCjcf",
        "outputId": "78b37568-ffed-432b-a553-29d72cd2f1e5"
      },
      "outputs": [
        {
          "data": {
            "text/html": [
              "<div>\n",
              "<style scoped>\n",
              "    .dataframe tbody tr th:only-of-type {\n",
              "        vertical-align: middle;\n",
              "    }\n",
              "\n",
              "    .dataframe tbody tr th {\n",
              "        vertical-align: top;\n",
              "    }\n",
              "\n",
              "    .dataframe thead th {\n",
              "        text-align: right;\n",
              "    }\n",
              "</style>\n",
              "<table border=\"1\" class=\"dataframe\">\n",
              "  <thead>\n",
              "    <tr style=\"text-align: right;\">\n",
              "      <th></th>\n",
              "      <th>user_id</th>\n",
              "      <th>month</th>\n",
              "      <th>calls_minutes_sum</th>\n",
              "      <th>calls_count</th>\n",
              "      <th>message_count</th>\n",
              "      <th>mb_used_sum</th>\n",
              "      <th>tariff</th>\n",
              "      <th>city</th>\n",
              "      <th>age</th>\n",
              "      <th>churn_date</th>\n",
              "      <th>first_name</th>\n",
              "      <th>last_name</th>\n",
              "      <th>reg_date</th>\n",
              "      <th>messages_included</th>\n",
              "      <th>mb_per_month_included</th>\n",
              "      <th>minutes_included</th>\n",
              "      <th>rub_monthly_fee</th>\n",
              "      <th>rub_per_gb</th>\n",
              "      <th>rub_per_message</th>\n",
              "      <th>rub_per_minute</th>\n",
              "    </tr>\n",
              "  </thead>\n",
              "  <tbody>\n",
              "    <tr>\n",
              "      <th>0</th>\n",
              "      <td>1000</td>\n",
              "      <td>5.0</td>\n",
              "      <td>159.0</td>\n",
              "      <td>22.0</td>\n",
              "      <td>22.0</td>\n",
              "      <td>2253.49</td>\n",
              "      <td>ultra</td>\n",
              "      <td>Краснодар</td>\n",
              "      <td>0.0</td>\n",
              "      <td>0</td>\n",
              "      <td>0</td>\n",
              "      <td>0</td>\n",
              "      <td>0</td>\n",
              "      <td>1000</td>\n",
              "      <td>30720</td>\n",
              "      <td>3000</td>\n",
              "      <td>1950</td>\n",
              "      <td>150</td>\n",
              "      <td>1</td>\n",
              "      <td>1</td>\n",
              "    </tr>\n",
              "    <tr>\n",
              "      <th>1</th>\n",
              "      <td>1000</td>\n",
              "      <td>6.0</td>\n",
              "      <td>172.0</td>\n",
              "      <td>43.0</td>\n",
              "      <td>60.0</td>\n",
              "      <td>23233.77</td>\n",
              "      <td>ultra</td>\n",
              "      <td>Краснодар</td>\n",
              "      <td>0.0</td>\n",
              "      <td>0</td>\n",
              "      <td>0</td>\n",
              "      <td>0</td>\n",
              "      <td>0</td>\n",
              "      <td>1000</td>\n",
              "      <td>30720</td>\n",
              "      <td>3000</td>\n",
              "      <td>1950</td>\n",
              "      <td>150</td>\n",
              "      <td>1</td>\n",
              "      <td>1</td>\n",
              "    </tr>\n",
              "    <tr>\n",
              "      <th>2</th>\n",
              "      <td>1000</td>\n",
              "      <td>7.0</td>\n",
              "      <td>340.0</td>\n",
              "      <td>47.0</td>\n",
              "      <td>75.0</td>\n",
              "      <td>14003.64</td>\n",
              "      <td>ultra</td>\n",
              "      <td>Краснодар</td>\n",
              "      <td>0.0</td>\n",
              "      <td>0</td>\n",
              "      <td>0</td>\n",
              "      <td>0</td>\n",
              "      <td>0</td>\n",
              "      <td>1000</td>\n",
              "      <td>30720</td>\n",
              "      <td>3000</td>\n",
              "      <td>1950</td>\n",
              "      <td>150</td>\n",
              "      <td>1</td>\n",
              "      <td>1</td>\n",
              "    </tr>\n",
              "    <tr>\n",
              "      <th>3</th>\n",
              "      <td>1000</td>\n",
              "      <td>8.0</td>\n",
              "      <td>408.0</td>\n",
              "      <td>52.0</td>\n",
              "      <td>81.0</td>\n",
              "      <td>14055.93</td>\n",
              "      <td>ultra</td>\n",
              "      <td>Краснодар</td>\n",
              "      <td>0.0</td>\n",
              "      <td>0</td>\n",
              "      <td>0</td>\n",
              "      <td>0</td>\n",
              "      <td>0</td>\n",
              "      <td>1000</td>\n",
              "      <td>30720</td>\n",
              "      <td>3000</td>\n",
              "      <td>1950</td>\n",
              "      <td>150</td>\n",
              "      <td>1</td>\n",
              "      <td>1</td>\n",
              "    </tr>\n",
              "    <tr>\n",
              "      <th>4</th>\n",
              "      <td>1000</td>\n",
              "      <td>9.0</td>\n",
              "      <td>466.0</td>\n",
              "      <td>58.0</td>\n",
              "      <td>57.0</td>\n",
              "      <td>14568.91</td>\n",
              "      <td>ultra</td>\n",
              "      <td>Краснодар</td>\n",
              "      <td>0.0</td>\n",
              "      <td>0</td>\n",
              "      <td>0</td>\n",
              "      <td>0</td>\n",
              "      <td>0</td>\n",
              "      <td>1000</td>\n",
              "      <td>30720</td>\n",
              "      <td>3000</td>\n",
              "      <td>1950</td>\n",
              "      <td>150</td>\n",
              "      <td>1</td>\n",
              "      <td>1</td>\n",
              "    </tr>\n",
              "  </tbody>\n",
              "</table>\n",
              "</div>"
            ],
            "text/plain": [
              "   user_id  month  calls_minutes_sum  calls_count  message_count  mb_used_sum  \\\n",
              "0     1000    5.0              159.0         22.0           22.0      2253.49   \n",
              "1     1000    6.0              172.0         43.0           60.0     23233.77   \n",
              "2     1000    7.0              340.0         47.0           75.0     14003.64   \n",
              "3     1000    8.0              408.0         52.0           81.0     14055.93   \n",
              "4     1000    9.0              466.0         58.0           57.0     14568.91   \n",
              "\n",
              "  tariff       city  age churn_date first_name last_name reg_date  \\\n",
              "0  ultra  Краснодар  0.0          0          0         0        0   \n",
              "1  ultra  Краснодар  0.0          0          0         0        0   \n",
              "2  ultra  Краснодар  0.0          0          0         0        0   \n",
              "3  ultra  Краснодар  0.0          0          0         0        0   \n",
              "4  ultra  Краснодар  0.0          0          0         0        0   \n",
              "\n",
              "   messages_included  mb_per_month_included  minutes_included  \\\n",
              "0               1000                  30720              3000   \n",
              "1               1000                  30720              3000   \n",
              "2               1000                  30720              3000   \n",
              "3               1000                  30720              3000   \n",
              "4               1000                  30720              3000   \n",
              "\n",
              "   rub_monthly_fee  rub_per_gb  rub_per_message  rub_per_minute  \n",
              "0             1950         150                1               1  \n",
              "1             1950         150                1               1  \n",
              "2             1950         150                1               1  \n",
              "3             1950         150                1               1  \n",
              "4             1950         150                1               1  "
            ]
          },
          "execution_count": 33,
          "metadata": {},
          "output_type": "execute_result"
        }
      ],
      "source": [
        "# создадим таблицу revenue путем слияния таблиц calls_message_int_users и tariffs\n",
        "revenue = calls_message_int_users.merge(df_tariffs, on='tariff', how = 'left')\n",
        "\n",
        "# код закомментирован, так как выше я проделал процедуру округления\n",
        "# округление минут разговора в большую сторону\n",
        "#revenue['calls_minutes_sum'] = revenue['calls_minutes_sum'].apply(np.ceil)\n",
        "\n",
        "revenue.head()"
      ]
    },
    {
      "cell_type": "markdown",
      "metadata": {
        "id": "SZSwon9hCjcg"
      },
      "source": [
        "В таблицу revenue добавим столбец с выручкой. Ниже приведён поэтапный расчёт"
      ]
    },
    {
      "cell_type": "markdown",
      "metadata": {
        "id": "OPa9AgFMCjcg"
      },
      "source": [
        "Выручка по минутам. Из фактического количества минут вычитаем бесплатный пакет. Разницу домножаем на стоимость минуты."
      ]
    },
    {
      "cell_type": "code",
      "execution_count": null,
      "metadata": {
        "id": "8U5C8MuVCjch"
      },
      "outputs": [],
      "source": [
        "# вырчка по минутам\n",
        "# исключаем отрицательную разницу\n",
        "minutes_income = (revenue['rub_per_minute'] * \n",
        "                  np.maximum(revenue['calls_minutes_sum'] - \n",
        "                             revenue['minutes_included'], 0))"
      ]
    },
    {
      "cell_type": "markdown",
      "metadata": {
        "id": "fxYyYU0qCjch"
      },
      "source": [
        "Выручка по СМС. Из фактического количества СМС вычитаем бесплатный пакет. Разницу домножаем на стоимость СМС."
      ]
    },
    {
      "cell_type": "code",
      "execution_count": null,
      "metadata": {
        "id": "dlUkHJQmCjch"
      },
      "outputs": [],
      "source": [
        "# вырчка по сообщениям\n",
        "# исключаем отрицательную разницу\n",
        "messages_income = (revenue['rub_per_message'] * \n",
        "                   np.maximum(revenue['message_count'] - \n",
        "                              revenue['messages_included'], 0))"
      ]
    },
    {
      "cell_type": "markdown",
      "metadata": {
        "id": "4ni1UAGECjci"
      },
      "source": [
        "Выручка по трафику. Разницу в мегабайтах переведём в Гб и округлим в большую сторону"
      ]
    },
    {
      "cell_type": "code",
      "execution_count": null,
      "metadata": {
        "id": "NELWo4c_Cjci"
      },
      "outputs": [],
      "source": [
        "# вырчка по трафику\n",
        "# исключаем отрицательную разницу\n",
        "internet_income = (revenue['rub_per_gb'] * \n",
        "                   np.ceil(np.maximum(revenue['mb_used_sum'] - \n",
        "                                      revenue['mb_per_month_included'], 0)/1024))"
      ]
    },
    {
      "cell_type": "code",
      "execution_count": null,
      "metadata": {
        "scrolled": true,
        "id": "b608D2B5Cjci",
        "outputId": "35c1719b-420d-4ade-8b98-e9cbc2469569"
      },
      "outputs": [
        {
          "data": {
            "text/plain": [
              "0       1950.0\n",
              "1       1950.0\n",
              "2       1950.0\n",
              "3       1950.0\n",
              "4       1950.0\n",
              "         ...  \n",
              "3211    1150.0\n",
              "3212     950.0\n",
              "3213    1950.0\n",
              "3214    1950.0\n",
              "3215     550.0\n",
              "Name: revenue, Length: 3216, dtype: float64"
            ]
          },
          "execution_count": 37,
          "metadata": {},
          "output_type": "execute_result"
        }
      ],
      "source": [
        "# добавляем столбец с выручкой\n",
        "# выручку по минутм, сообщениям и трафику прибавляем в абоненской плате\n",
        "revenue['revenue'] = (minutes_income + \n",
        "                      messages_income + \n",
        "                      internet_income + \n",
        "                      revenue['rub_monthly_fee'])\n",
        "revenue['revenue']"
      ]
    },
    {
      "cell_type": "code",
      "execution_count": null,
      "metadata": {
        "id": "1IxiJ1RrCjck"
      },
      "outputs": [],
      "source": [
        "# Функция расчёта\n",
        "def revenue_foo (x, y, z, x1, y1, z1, x2, y2, z2):\n",
        "    t = x * np.maximum(y - z, 0)\n",
        "    t1 = x1 * np.maximum(y1 - z1, 0)\n",
        "    t2 = x2 * np.ceil(np.maximum(y2 - z2, 0)/1024)\n",
        "    return t + t1 + t2"
      ]
    },
    {
      "cell_type": "code",
      "execution_count": null,
      "metadata": {
        "scrolled": true,
        "id": "bbaMiAJqCjck"
      },
      "outputs": [],
      "source": [
        "# сохраним результаты расчёта в отдельный столбец\n",
        "revenue['revenue_foo'] = revenue.apply(lambda x: x['rub_monthly_fee'] + \n",
        "                                     revenue_foo(x['rub_per_minute'],\n",
        "                                                x['calls_minutes_sum'],\n",
        "                                                x['minutes_included'],\n",
        "                                                x['rub_per_message'],\n",
        "                                                x['message_count'],\n",
        "                                                x['messages_included'],\n",
        "                                                x['rub_per_gb'],\n",
        "                                                x['mb_used_sum'],\n",
        "                                                x['mb_per_month_included']), \n",
        "                                     axis =  1)"
      ]
    },
    {
      "cell_type": "code",
      "execution_count": null,
      "metadata": {
        "id": "lPcciIAzCjck",
        "outputId": "d58c247c-3a94-476f-9349-f06be155f227"
      },
      "outputs": [
        {
          "data": {
            "text/plain": [
              "True    3216\n",
              "dtype: int64"
            ]
          },
          "execution_count": 40,
          "metadata": {},
          "output_type": "execute_result"
        }
      ],
      "source": [
        "# сравним результаты \n",
        "(revenue['revenue_foo'] == revenue['revenue']).value_counts()"
      ]
    },
    {
      "cell_type": "markdown",
      "metadata": {
        "id": "sLk7k0ZQCjcm"
      },
      "source": [
        "### Выводы по Шагу 2"
      ]
    },
    {
      "cell_type": "markdown",
      "metadata": {
        "id": "-nZWYrf3Cjcm"
      },
      "source": [
        "**Что можно отметить:**\n",
        "* На втором шаге из данных таблиц по звонкам, смс и трафику составили сводные для каждого месяца и для каждого пользователя; \n",
        "* Полученные сводные таблицы объединили в одну, присоединили к ней информацию о пользователях;\n",
        "* В отдельном столбце разместили помесячную выручку для каждого пользователя <br/>\n",
        "\n",
        "Данные готовы для дальнейшего анализа"
      ]
    },
    {
      "cell_type": "markdown",
      "metadata": {
        "id": "Zo7V0QtnCjcm"
      },
      "source": [
        "На третьем шаге проанализируем полученную информацию"
      ]
    },
    {
      "cell_type": "markdown",
      "metadata": {
        "id": "kssNIAQUCjcn"
      },
      "source": [
        "## Шаг 3 - Анализ данных"
      ]
    },
    {
      "cell_type": "markdown",
      "metadata": {
        "id": "LxtOexeeCjcn"
      },
      "source": [
        "На данном этапе проанализируем поведение пользователей каждого тарифа."
      ]
    },
    {
      "cell_type": "markdown",
      "metadata": {
        "id": "-cbDPnJrCjcn"
      },
      "source": [
        "Расчитаем среднее, отклонение и дисперсию для двух тарифов по минутм, смс и трафику. Построим гистограммы"
      ]
    },
    {
      "cell_type": "markdown",
      "metadata": {
        "id": "qRQzd93UCjcn"
      },
      "source": [
        "### Тариф Smart"
      ]
    },
    {
      "cell_type": "code",
      "execution_count": null,
      "metadata": {
        "scrolled": true,
        "id": "MUolxS0iCjco"
      },
      "outputs": [],
      "source": [
        "# расчёт параметров для тарифа Smart\n",
        "# создание среза\n",
        "df_smart = revenue[revenue['tariff'] == 'smart']"
      ]
    },
    {
      "cell_type": "code",
      "execution_count": null,
      "metadata": {
        "scrolled": true,
        "id": "4uwiILKtCjco"
      },
      "outputs": [],
      "source": [
        "# расчёт среднего\n",
        "mean_smart = df_smart[['calls_minutes_sum', 'message_count', 'mb_used_sum', 'revenue']].mean()\n",
        "\n",
        "# расчёт отклонения\n",
        "std_smart = df_smart[['calls_minutes_sum', 'message_count', 'mb_used_sum', 'revenue']].std()\n",
        "\n",
        "# расчёт дисперсии\n",
        "var_smart = df_smart[['calls_minutes_sum', 'message_count', 'mb_used_sum', 'revenue']].var()"
      ]
    },
    {
      "cell_type": "code",
      "execution_count": null,
      "metadata": {
        "scrolled": true,
        "id": "lyVO8rALCjcp",
        "outputId": "08ad2e57-4e34-431a-e4ba-8c4cfc814181"
      },
      "outputs": [
        {
          "data": {
            "text/html": [
              "<div>\n",
              "<style scoped>\n",
              "    .dataframe tbody tr th:only-of-type {\n",
              "        vertical-align: middle;\n",
              "    }\n",
              "\n",
              "    .dataframe tbody tr th {\n",
              "        vertical-align: top;\n",
              "    }\n",
              "\n",
              "    .dataframe thead th {\n",
              "        text-align: right;\n",
              "    }\n",
              "</style>\n",
              "<table border=\"1\" class=\"dataframe\">\n",
              "  <thead>\n",
              "    <tr style=\"text-align: right;\">\n",
              "      <th></th>\n",
              "      <th>Звонки</th>\n",
              "      <th>СМС</th>\n",
              "      <th>Интернет</th>\n",
              "      <th>Выручка</th>\n",
              "    </tr>\n",
              "  </thead>\n",
              "  <tbody>\n",
              "    <tr>\n",
              "      <th>Среднее</th>\n",
              "      <td>417.7</td>\n",
              "      <td>33.4</td>\n",
              "      <td>16201.1</td>\n",
              "      <td>1289.6</td>\n",
              "    </tr>\n",
              "    <tr>\n",
              "      <th>Стандартное отклон.</th>\n",
              "      <td>190.5</td>\n",
              "      <td>28.2</td>\n",
              "      <td>5879.2</td>\n",
              "      <td>818.4</td>\n",
              "    </tr>\n",
              "    <tr>\n",
              "      <th>Дисперсия</th>\n",
              "      <td>36281.4</td>\n",
              "      <td>797.0</td>\n",
              "      <td>34564843.5</td>\n",
              "      <td>669730.8</td>\n",
              "    </tr>\n",
              "  </tbody>\n",
              "</table>\n",
              "</div>"
            ],
            "text/plain": [
              "                      Звонки    СМС    Интернет    Выручка \n",
              "Среднее                 417.7   33.4     16201.1     1289.6\n",
              "Стандартное отклон.     190.5   28.2      5879.2      818.4\n",
              "Дисперсия             36281.4  797.0  34564843.5   669730.8"
            ]
          },
          "execution_count": 43,
          "metadata": {},
          "output_type": "execute_result"
        }
      ],
      "source": [
        "# сводная таблица для Smart\n",
        "table_stat_smart = pd.DataFrame([mean_smart, std_smart, var_smart], \n",
        "                                index = ['Среднее', 'Стандартное отклон.', 'Дисперсия'])\n",
        "\n",
        "#переименуем столбцы\n",
        "table_stat_smart.columns = [' Звонки ', ' СМС ', \" Интернет \", \" Выручка \"]\n",
        "\n",
        "# округлим результат\n",
        "table_stat_smart.round(1)"
      ]
    },
    {
      "cell_type": "markdown",
      "metadata": {
        "id": "E7zw19COCjcq"
      },
      "source": [
        "Из анализа значений видим, что стандартное отклонение достаточно большое для всех четырёх парамтеров, что говорит нам о том, что данные распределены довольно сильно."
      ]
    },
    {
      "cell_type": "markdown",
      "metadata": {
        "id": "KTxHDYObCjcr"
      },
      "source": [
        "### Тариф Ultra"
      ]
    },
    {
      "cell_type": "code",
      "execution_count": null,
      "metadata": {
        "id": "Xuflf6o3Cjcr"
      },
      "outputs": [],
      "source": [
        "# расчёт параметров для тарифа Ultra\n",
        "# создание среза\n",
        "df_ultra = revenue[revenue['tariff'] == 'ultra']"
      ]
    },
    {
      "cell_type": "code",
      "execution_count": null,
      "metadata": {
        "id": "xuFqArZZCjcr"
      },
      "outputs": [],
      "source": [
        "# расчёт среднего\n",
        "mean_ultra = df_ultra[['calls_minutes_sum', 'message_count', 'mb_used_sum', 'revenue']].mean()\n",
        "\n",
        "# расчёт отклонения\n",
        "std_ultra = df_ultra[['calls_minutes_sum', 'message_count', 'mb_used_sum', 'revenue']].std()\n",
        "\n",
        "# расчёт дисперсии\n",
        "var_ultra = df_ultra[['calls_minutes_sum', 'message_count', 'mb_used_sum', 'revenue']].var()"
      ]
    },
    {
      "cell_type": "code",
      "execution_count": null,
      "metadata": {
        "scrolled": false,
        "id": "Gld8gyl3Cjcs",
        "outputId": "26182746-4eec-4129-ee15-ead0c6d04b66"
      },
      "outputs": [
        {
          "data": {
            "text/html": [
              "<div>\n",
              "<style scoped>\n",
              "    .dataframe tbody tr th:only-of-type {\n",
              "        vertical-align: middle;\n",
              "    }\n",
              "\n",
              "    .dataframe tbody tr th {\n",
              "        vertical-align: top;\n",
              "    }\n",
              "\n",
              "    .dataframe thead th {\n",
              "        text-align: right;\n",
              "    }\n",
              "</style>\n",
              "<table border=\"1\" class=\"dataframe\">\n",
              "  <thead>\n",
              "    <tr style=\"text-align: right;\">\n",
              "      <th></th>\n",
              "      <th>Звонки</th>\n",
              "      <th>СМС</th>\n",
              "      <th>Интернет</th>\n",
              "      <th>Выручка</th>\n",
              "    </tr>\n",
              "  </thead>\n",
              "  <tbody>\n",
              "    <tr>\n",
              "      <th>Среднее</th>\n",
              "      <td>526.1</td>\n",
              "      <td>49.3</td>\n",
              "      <td>19449.1</td>\n",
              "      <td>2070.0</td>\n",
              "    </tr>\n",
              "    <tr>\n",
              "      <th>Стандартное отклон.</th>\n",
              "      <td>317.9</td>\n",
              "      <td>47.8</td>\n",
              "      <td>10101.1</td>\n",
              "      <td>376.0</td>\n",
              "    </tr>\n",
              "    <tr>\n",
              "      <th>Дисперсия</th>\n",
              "      <td>101052.5</td>\n",
              "      <td>2285.4</td>\n",
              "      <td>102032129.5</td>\n",
              "      <td>141387.7</td>\n",
              "    </tr>\n",
              "  </tbody>\n",
              "</table>\n",
              "</div>"
            ],
            "text/plain": [
              "                      Звонки     СМС     Интернет    Выручка \n",
              "Среднее                 526.1    49.3      19449.1     2070.0\n",
              "Стандартное отклон.     317.9    47.8      10101.1      376.0\n",
              "Дисперсия            101052.5  2285.4  102032129.5   141387.7"
            ]
          },
          "execution_count": 46,
          "metadata": {},
          "output_type": "execute_result"
        }
      ],
      "source": [
        "# сводная таблица для Ultra\n",
        "table_stat_ultra = pd.DataFrame([mean_ultra, std_ultra, var_ultra], \n",
        "                                index = ['Среднее', 'Стандартное отклон.', 'Дисперсия'])\n",
        "\n",
        "#переименуем столбцы\n",
        "table_stat_ultra.columns = [' Звонки ', ' СМС ', \" Интернет \", \" Выручка \"]\n",
        "\n",
        "#округлим результат\n",
        "table_stat_ultra.round(1)"
      ]
    },
    {
      "cell_type": "markdown",
      "metadata": {
        "id": "jmdIIzm3Cjct"
      },
      "source": [
        "Из параметров видим, что разброс значений для выручки для тарифа Ультра меньше, чем для Смарт"
      ]
    },
    {
      "cell_type": "code",
      "execution_count": null,
      "metadata": {
        "scrolled": true,
        "id": "-aK-7OUGCjcu",
        "outputId": "63898a38-ad67-49f7-a2ef-0acfca7f0cab"
      },
      "outputs": [
        {
          "data": {
            "text/html": [
              "<div>\n",
              "<style scoped>\n",
              "    .dataframe tbody tr th:only-of-type {\n",
              "        vertical-align: middle;\n",
              "    }\n",
              "\n",
              "    .dataframe tbody tr th {\n",
              "        vertical-align: top;\n",
              "    }\n",
              "\n",
              "    .dataframe thead tr th {\n",
              "        text-align: left;\n",
              "    }\n",
              "\n",
              "    .dataframe thead tr:last-of-type th {\n",
              "        text-align: right;\n",
              "    }\n",
              "</style>\n",
              "<table border=\"1\" class=\"dataframe\">\n",
              "  <thead>\n",
              "    <tr>\n",
              "      <th></th>\n",
              "      <th colspan=\"4\" halign=\"left\">mean</th>\n",
              "      <th colspan=\"4\" halign=\"left\">var</th>\n",
              "      <th colspan=\"4\" halign=\"left\">std</th>\n",
              "    </tr>\n",
              "    <tr>\n",
              "      <th></th>\n",
              "      <th>calls_minutes_sum</th>\n",
              "      <th>mb_used_sum</th>\n",
              "      <th>message_count</th>\n",
              "      <th>revenue</th>\n",
              "      <th>calls_minutes_sum</th>\n",
              "      <th>mb_used_sum</th>\n",
              "      <th>message_count</th>\n",
              "      <th>revenue</th>\n",
              "      <th>calls_minutes_sum</th>\n",
              "      <th>mb_used_sum</th>\n",
              "      <th>message_count</th>\n",
              "      <th>revenue</th>\n",
              "    </tr>\n",
              "    <tr>\n",
              "      <th>tariff</th>\n",
              "      <th></th>\n",
              "      <th></th>\n",
              "      <th></th>\n",
              "      <th></th>\n",
              "      <th></th>\n",
              "      <th></th>\n",
              "      <th></th>\n",
              "      <th></th>\n",
              "      <th></th>\n",
              "      <th></th>\n",
              "      <th></th>\n",
              "      <th></th>\n",
              "    </tr>\n",
              "  </thead>\n",
              "  <tbody>\n",
              "    <tr>\n",
              "      <th>smart</th>\n",
              "      <td>417.7</td>\n",
              "      <td>16201.1</td>\n",
              "      <td>33.4</td>\n",
              "      <td>1289.6</td>\n",
              "      <td>36281.4</td>\n",
              "      <td>34564843.5</td>\n",
              "      <td>797.0</td>\n",
              "      <td>669730.8</td>\n",
              "      <td>190.5</td>\n",
              "      <td>5879.2</td>\n",
              "      <td>28.2</td>\n",
              "      <td>818.4</td>\n",
              "    </tr>\n",
              "    <tr>\n",
              "      <th>ultra</th>\n",
              "      <td>526.1</td>\n",
              "      <td>19449.1</td>\n",
              "      <td>49.3</td>\n",
              "      <td>2070.0</td>\n",
              "      <td>101052.5</td>\n",
              "      <td>102032129.5</td>\n",
              "      <td>2285.4</td>\n",
              "      <td>141387.7</td>\n",
              "      <td>317.9</td>\n",
              "      <td>10101.1</td>\n",
              "      <td>47.8</td>\n",
              "      <td>376.0</td>\n",
              "    </tr>\n",
              "  </tbody>\n",
              "</table>\n",
              "</div>"
            ],
            "text/plain": [
              "                    mean                                                 var  \\\n",
              "       calls_minutes_sum mb_used_sum message_count revenue calls_minutes_sum   \n",
              "tariff                                                                         \n",
              "smart              417.7     16201.1          33.4  1289.6           36281.4   \n",
              "ultra              526.1     19449.1          49.3  2070.0          101052.5   \n",
              "\n",
              "                                                          std              \\\n",
              "        mb_used_sum message_count   revenue calls_minutes_sum mb_used_sum   \n",
              "tariff                                                                      \n",
              "smart    34564843.5         797.0  669730.8             190.5      5879.2   \n",
              "ultra   102032129.5        2285.4  141387.7             317.9     10101.1   \n",
              "\n",
              "                              \n",
              "       message_count revenue  \n",
              "tariff                        \n",
              "smart           28.2   818.4  \n",
              "ultra           47.8   376.0  "
            ]
          },
          "execution_count": 47,
          "metadata": {},
          "output_type": "execute_result"
        }
      ],
      "source": [
        "#расчёт параметров через pivot table\n",
        "revenue.pivot_table(\n",
        "    index = 'tariff',\n",
        "    values = ['calls_minutes_sum', 'message_count', 'mb_used_sum', 'revenue'],\n",
        "    aggfunc= ['mean', 'var','std']).round(1)"
      ]
    },
    {
      "cell_type": "markdown",
      "metadata": {
        "id": "Ro90NSB0Cjcv"
      },
      "source": [
        "### Сравнение пользователей для двух тарифов по месяцам"
      ]
    },
    {
      "cell_type": "markdown",
      "metadata": {
        "id": "QveU--NSCjcz"
      },
      "source": [
        "**3.3.1 Количество пользователей для каждого тарифа**"
      ]
    },
    {
      "cell_type": "markdown",
      "metadata": {
        "id": "bj3m1AGMCjc0"
      },
      "source": [
        "Распределение пользователей по тарифам из выборки "
      ]
    },
    {
      "cell_type": "code",
      "execution_count": null,
      "metadata": {
        "scrolled": true,
        "id": "SM_CKCLMCjc0",
        "outputId": "83b6a0e8-28ba-469c-96ed-c67f1486153c"
      },
      "outputs": [
        {
          "data": {
            "image/png": "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\n",
            "text/plain": [
              "<Figure size 432x288 with 1 Axes>"
            ]
          },
          "metadata": {},
          "output_type": "display_data"
        }
      ],
      "source": [
        "# анализ распределения по тарифам\n",
        "plt.title(\"Распределение по тарифам\", fontsize = 12)\n",
        "sns.countplot(revenue['tariff']);"
      ]
    },
    {
      "cell_type": "markdown",
      "metadata": {
        "id": "g1pbebPzCjc0"
      },
      "source": [
        "Из графика видно, что более 2/3 тарифов из выборки пользователей - это Smart"
      ]
    },
    {
      "cell_type": "markdown",
      "metadata": {
        "id": "qX36idMqCjc1"
      },
      "source": [
        "Построим график для каждого тарифа с количеством пользователей по месяцам"
      ]
    },
    {
      "cell_type": "code",
      "execution_count": null,
      "metadata": {
        "scrolled": false,
        "id": "1V5gdXuqCjc1",
        "outputId": "68856493-2692-4666-a5c9-ff6897a1be49"
      },
      "outputs": [
        {
          "data": {
            "image/png": "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\n",
            "text/plain": [
              "<Figure size 1152x432 with 1 Axes>"
            ]
          },
          "metadata": {},
          "output_type": "display_data"
        }
      ],
      "source": [
        "# сводная таблица - группировка по месяцам и по тарифам\n",
        "a = revenue.groupby(['month', 'tariff']).agg({'user_id' : 'count',\n",
        "                                             'calls_minutes_sum' : 'sum',\n",
        "                                              'message_count' : 'sum',\n",
        "                                              'mb_used_sum' : 'sum',\n",
        "                                              'revenue' : 'sum'                                          \n",
        "                                             })\n",
        "a = a.reset_index()\n",
        "\n",
        "#зададим размер графика\n",
        "plt.figure(figsize=(16, 6))\n",
        "\n",
        "# введём паарметры графика\n",
        "sns.barplot(x = 'month', y = 'user_id',  hue = 'tariff', data=a);\n",
        "\n",
        "#введём название\n",
        "plt.title(\"Количество пользователей по месяцам\", fontsize = 12);"
      ]
    },
    {
      "cell_type": "markdown",
      "metadata": {
        "id": "MNmm-aY-Cjc1"
      },
      "source": [
        "Возрастание графико говорит о том, что приток пользователей больше, чем их отток. Из графика видно, что тариф Smart прирастает быстрее, чем Ultra."
      ]
    },
    {
      "cell_type": "markdown",
      "metadata": {
        "id": "zlbxfhnRCjc2"
      },
      "source": [
        "**3.3.2 Распределение суммарного количества минут**"
      ]
    },
    {
      "cell_type": "markdown",
      "metadata": {
        "id": "j_EMsUMbCjc2"
      },
      "source": [
        "Построим график среднего количества минут разговора за каждый месяц для двух тарифов"
      ]
    },
    {
      "cell_type": "code",
      "execution_count": null,
      "metadata": {
        "id": "aO9zRMMXCjc2",
        "outputId": "003adfcf-c644-4534-d322-3246b63f0a67"
      },
      "outputs": [
        {
          "data": {
            "image/png": "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\n",
            "text/plain": [
              "<Figure size 1152x432 with 1 Axes>"
            ]
          },
          "metadata": {},
          "output_type": "display_data"
        }
      ],
      "source": [
        "#зададим размер графика\n",
        "plt.figure(figsize=(16, 6))\n",
        "\n",
        "#введём параметры графика\n",
        "sns.barplot(x='month', y='calls_minutes_sum', hue=\"tariff\", data=revenue, capsize=.2);\n",
        "\n",
        "#введём название\n",
        "plt.title(\"Среднее количество минут разговора пользователей по месяцам\", fontsize = 12);"
      ]
    },
    {
      "cell_type": "markdown",
      "metadata": {
        "id": "QLAGifF_Cjc3"
      },
      "source": [
        "Из графика видно, что пользователи Ultra в среднем разговаривают больше порядка на 10%, однако и разброс больше, чем у пользовтаелей Smart"
      ]
    },
    {
      "cell_type": "markdown",
      "metadata": {
        "id": "2dh6O0mOCjc3"
      },
      "source": [
        "Рассмотрим суммарное количество минут разговора по месяцам"
      ]
    },
    {
      "cell_type": "code",
      "execution_count": null,
      "metadata": {
        "scrolled": false,
        "id": "WSmaribGCjc3",
        "outputId": "366d7984-b4fd-4cf2-d568-d852c2e163a8"
      },
      "outputs": [
        {
          "data": {
            "image/png": "iVBORw0KGgoAAAANSUhEUgAAA8YAAAGDCAYAAADpmwk3AAAAOXRFWHRTb2Z0d2FyZQBNYXRwbG90bGliIHZlcnNpb24zLjMuNCwgaHR0cHM6Ly9tYXRwbG90bGliLm9yZy8QVMy6AAAACXBIWXMAAAsTAAALEwEAmpwYAABVT0lEQVR4nO3deVyVdf7//yeroiIg5AYKToMz6jiFJVjWWGqKmuLMmGEWVKZNpuaMpWT1odEybSozTafBDVyGzDIxxTVznIolRcXABEMFFJFFxCUUuH5/+PP6ioBSI+eg53G/3a7bzfO+lvfrenPOkSfXZifJEAAAAAAANsre2gUAAAAAAGBNBGMAAAAAgE0jGAMAAAAAbBrBGAAAAABg0wjGAAAAAACbRjAGAAAAANg0gjEAAACq6NSpkwYMGCB7e3s9+uijatOmjbVLAoB6RTAG0KCNGDFCycnJKi0t1bFjx7Rhwwb17NnT2mUBwC3t5MmTevXVV1VQUKCwsDAVFRVZuyQAqFd2kgxrFwEANfnrX/+qiIgI/eUvf9GmTZt04cIFBQcH6w9/+IMmT55s7fIAAABwCzGYmJiYGtrUvHlzo7S01Bg2bFiN81u1amWcPXvWaNGihdkWEBBg5OfnG46OjkZ4eLhhGIYxceJEc/6AAQMMwzCM6dOnG5KMXr16GYZhGO+//765TKdOnQzDMIxly5aZbatWrTKOHz9unDp1ytixY4fRuXNnc96SJUuMBQsWGJs3bzZOnz5tfPXVV0b79u3N+YZhGLfffrv5evr06caSJUvM14MHDzb2799vFBcXG9u3bzd++9vfmvPatGljrF692sjPzzd+/PFHY/z48bWO15IlS8z9atGihfH9998bf/nLX8z5zzzzjJGRkWEUFhYaa9euNdq0aVNl/aysLOPcuXNGaWmpUVZWZu5/r169jOzsbHO5Rx55xDAMwxg1alS1fmt6PWjQICMlJcUoLi42vv76a6Nr167mPB8fH+PTTz818vPzjYKCAmPu3LlGmzZtjNLSUrOOCxcumK/vu+8+o1evXkZFRYVRWlpqnD592khMTDS6dOlSp/G8ejIMw9izZ4/52t7e3sjJyamyv1lZWUafPn0MSUbTpk2NvLw8Y+fOnXX6+X7xxRfGuHHjqvS5d+9eY+jQoUZcXJxRWlpqnDlzxjAMw9zHBQsW1Frr+PHjjUOHDhknT5403n77bcPOzs6QZPzqV78ytm3bZhQUFBgnT540li9fbri5uZnr7tixwzh16pRRXFxsrF692mjWrJkhyQgPDzfKy8vNvktLS41BgwYZkox77rnHSEpKMk6dOmUkJSUZ99xzj7m97du3G+fPnzdKS0uNEydOGG+88UaVz210dLSRn59vHD582HjllVfMOsPDw43//ve/xty5c41Tp04Z6enpRu/evc11n3zySSMtLc04ffq0cejQIWPMmDG1/uxqqr2iosLo1auXIclwdnY2Zs+ebeTm5hq5ubnG7NmzDWdnZ3N9X1/fKuNeXl5uvqcjIyOrfP6vnIYNG2ZkZ2cbpaWlxsGDB6t8P/32t781tm/fbhQXFxv79+83Bg8eXOVzUVZWZpSWlhqFhYVGVFSU4eDgYEgyunfvbnzzzTdGcXGxcezYMWPu3LmGk5OTIem675PrfUdcPU5Xvl+bN29uLFy40Dh27JiRk5NjTJ8+3bC3tzfXu/J9/tJLLxmGYZifhZq+fy7v35X1XvldtnbtWqOwsNDIyMgwnnnmmWt+lxmGYdx5551m26xZs6r0b2dnZ0yZMsXIzMw0CgoKjI8//tjw8PAwl+/Zs6fx9ddfG8XFxcbRo0eN8PBw8/+NTZs2GcXFxUZpaalx4cIFIzIyssZ9lmRkZ2eb7yl3d3dj3bp1Rn5+vlFUVGSsW7fO8Pb2rvK5KCsrM2677Taz7eOPP672HcHExNRwJ06lBtAg3XPPPWrcuLHWrFlT4/wTJ07oq6++0vDhw822J554QrGxsSovL5ckZWRkKDw83Jz/zDPPKC0trcp28vPzNWDAADk7O9e6THx8vPz9/dWyZUvt3r1bK1asqDJ/5MiRmj59ury8vLRnz55q82vj7++vf//735o4caJuu+02bdiwQevWrZOTk5Ps7Oy0bt067d27V97e3urTp48mTpyofv36XXObTZs2VXx8vFauXKl//vOfkqQHH3xQb731loYPH642bdroyJEjio2NrbKevb29Hn74Ybm6umrGjBk1btvR0VHTp0/XsWPHzLbKykrZ29f8X8mdd96pxYsX69lnn5Wnp6c++ugjxcXFydnZWfb29vriiy905MgR+fn5ydvbW7GxsTp+/LhcXV3NOj7++GPz9X//+19J0rFjx+Tq6ip3d3ft3btXr7/++nXHszbOzs66++67JUmDBg1SSUlJrcu+9NJLunjxYq3zrxYdHa3HH3/cfP373/9e3t7eWr9+vYYMGSJXV1d16dJFkuTu7i5XV1c999xztW7vj3/8o+6++25169ZNISEhevrppyVJdnZ2euutt9S2bVt16tRJ7dq1M8dEksaNGydPT0+1a9dOzZs315NPPmnO+/bbb83xdXV11fr16+Xh4aH169frgw8+kKenp9577z2tX79eLVq0qLJNV1dX3XfffZo0aZK5H3PnzpWbm5t+9atfqVevXgoLC9NTTz1lrhcUFKRDhw7Jy8tLkZGR+uyzz+Th4SHp0mfx4YcfVvPmzfXUU09p9uzZCggIqHU8rq79yvflK6+8oh49eujOO+/UHXfcocDAQL366qvm/MvvWTc3N7m6umrnzp219nN1nwEBAXJ1ddWECRPMz5ijo6PWrVunzZs3q2XLlho/frxWrFihjh07muu+/fbbcnV1VefOnTVo0CAFBwdLkioqKvTXv/5VXl5euueee9SnTx+NHTtWkq75PqnLd4S9vb2++eYbc4yutHTpUpWXl+vXv/61AgIC1K9fPz3zzDPV9tnDw0MTJkxQcXHxNcfm8v65urrqjjvuqDIvNjZWOTk5atu2rYYNG6YZM2bowQcfrHVb6enpZi2Ojo4aPHiw8vLyzPnjx4/X0KFD1atXL7Vt21bFxcX68MMPJUnt27dXfHy85s6dq9tuu0133nmn9uzZI0maOHGiKioq1KZNG7m6uurjjz++5j5dyd7eXkuWLJGvr6/at2+v8+fPa968eVWWOXTokPl/jqenZ5WfP4CGj2AMoEHy9PRUQUGBKioqal3myuBhb2+vESNGaNmyZeb8EydO6PDhw+rRo4datmwpX19fJSUlVdnGhQsXtGHDBv3pT3+Sk5OTBgwYoM8//7zKMkuWLNGZM2d04cIFvf7667rzzjvVvHlzc/769eu1c+dOXbhwQa+88oruuece+fj4XHcfH330Ua1fv15bt25VeXm53nnnHbm4uOjee+9V9+7dddttt2n69Om6ePGisrKyFBUVpdDQ0Fq316hRI33++edKT0/Xm2++abaPHDlSixcvVkpKii5cuKCXX35Z99xzj3x9fc1lnJ2ddeHChWvW++yzzyoxMVEHDx40244ePar7779fjRo1qrb8mDFj9NFHHykpKUmVlZWKiYlRWVmZevToocDAQLVt21YvvfSSzp07p7KyMn399dfXHbMr2dvby8HBQYWFhZKuPZ61WbRokfkL+DPPPKNFixbVuFyrVq00atQovffee3WuLy4uTh07dtSvf/1rSZf+cPPxxx//rHB9pVmzZqm4uFjZ2dl6//33NWLECEmXfhnfunWrLly4oIKCAr333nvq1auXuV5qaqoqKipkZ2en8vJypaamXrOfQYMGKSMjQ8uXL1dFRYViY2N14MABDR48uNqyjo6OqqioUElJiezt7RUaGqqXX35ZZ86c0ZEjR/Tuu+/qiSeeMJfPz8/X+++/r/Lycq1atUo//PCDBg0aJEnasGGDfvzxR0nSf/7zH23evFn333//LxqrkSNHatq0aTp58qQKCgr097//vUodzs7OqqioUGVl5c/abm5urgoKCiRd+oPE7t27JUk9evRQs2bNNHPmTF28eFHbt2/XF198Yf6MruTg4CA7Ozvzfbt7924lJiaqoqJCR44c0UcffVTl51ebunxH1Pa5btmypQYOHKiJEyfq3LlzOnnypGbPnl3j98vUqVO1ePHia/7R6Fp8fHzUs2dPTZkyRWVlZdq7d68WLlyosLCwWteJi4vTQw89pMaNG2vw4MHaunWrfvrpJ3P+X/7yF73yyivKzc01v5eHDRsmBwcHPfbYY9q6dav5R9KioiLt3bvXXNfe3r7WP+ZdS1FRkT777DOdP39eZ86c0Ztvvlnt5xQTE2O+z8LCwqr8fwSg4SMYA2iQCgsL5eXlJQcHh1qXWbt2rTp37iw/Pz899NBDKikpUXJycpVlFi5cqGeeeUbh4eGKiYmpcTsLFy7UqFGjNHToUG3cuLHKL5L29vZ66623lJmZqZKSEh0+fFiS5OXlZS6TnZ1t/vvs2bMqKipS27Ztzbbdu3eruLhYxcXFevHFF832tm3b6siRI+ZrwzCUnZ0tb29v+fr6mkdCLk9Tp05Vq1atah2P559/Xk2bNtW9996rxo0b19rP2bNnVVhYKG9vb7PN3d39mkeEmjVrpsmTJ+u1116r0v7hhx/qp59+0okTJ1RcXKzHHnvMnOfr66tJkyZV2Yd27dqpbdu2ateunY4cOXLNP3zU5vK4lJaWasCAAZo7d26N+3nleNbmiy++0AMPPKDbb79dbdq00a5du2pcLjIyUnPnzq3xBkS1/XzLysr08ccf6/HHH5ednV21P9z8XFe+z44cOWK+x1q2bKl///vfysnJUUlJiZYvX17l/SlJe/fuVXFxsVxcXKr8YaMmV4/j5f6uHMcPPvhAxcXFSktL0+LFi5WTkyMvLy85OztXWffq9XJzc6tt9/J+BAcH69tvv1VhYaGKi4s1cODAavtRV1fvw5X9SFKLFi2u+X4fPny4iouLdfLkSW3evFkdOnQw540YMUJnzpzRJ598ok8++cTsLzs7W5fOHq5531988UXzDxvffvut+V3l7++vdevW6fjx4yopKdGMGTPqtN91+Y6obT99fX3l5OSk48ePm+t+9NFHatmyZZXl2rdvr+HDh+sf//jHdeupTdu2bVVUVKQzZ86YbVePzdUuXryouLg4DRs2TKNGjdLChQur1b9mzRqz9vT0dFVUVKhVq1Zq166dDh06VON23333XZ07d06lpaUqLi6ucsbR9bi4uOif//ynDh8+rJKSEv3nP/+Rh4dHlZB98uRJHTx4UPfdd5+eeOKJWv/PAdAwEYwBNEjffvutysrKNHTo0FqXKSsr06pVq/T444/riSeeqDF0xMfHq2fPngoPD681lHz//fdq0qSJXn311Wq/gD322GMKCQlR37595ebmJj8/P0mXjhZd1q5dO/PfTZs2VYsWLaqc1tmtWzd5eHjIw8ND77zzjtl+7NixKkdtL28rNzdX2dnZysrKMtfz8PBQ8+bNzaNrNfnmm290//33Kzk5ucoR46v7adKkiTw9Pc2Q4uvrK0dHR/NoXU1eeuklrVq1SkePHq3SXlBQoH79+snd3V0eHh5auXKlOS87O1tvvvlmlX1o2rSpYmNjlZ2drfbt21/zDx+1OXbsmDw8POTi4qKIiAh9+umnNe6n9P/Gszbl5eVas2aNVq9eraVLl9a4TMeOHdW/f3/NmTOnxvm1/XylS2c1jBw5Un369NG5c+eUkJDwM/a0qivfZ+3btzffYzNmzJBhGOratavc3NzMIH6lO+64Q66ursrOztbs2bOv2U9N49i+ffsq4zhhwgRzn++77z6FhoaqoKBAFy5cqLLu1etdHYYu74ezs7M+/fRTvfPOO2rVqpU8PDy0YcOGavtRV1fvw5XjJV36mV7rDwSrVq2Sh4eH2rZtq6NHj1a5vODf//63mjVrpl69emnOnDnq1KmTjh07pnbt2lWp9+p9f+edd+Th4SFXV1c5OzvrpZdekiQtWLBABw4ckL+/v9zc3DR16tQ67XddviNq28/s7GyVlZXJy8vLXNfNzU2/+93vqiw3ffp0vf3221VC7c917NgxtWjRQs2aNTPbrh6bmixcuFCTJ0+Wp6en9u3bV63+AQMGVNl3FxcXHTt2TNnZ2br99ttr3GZBQYF27typ+Ph4eXh4aNWqVXXej0mTJuk3v/mNgoKC5Obmpj/84Q+SVO1ntXDhQs2dO1eZmZnm2QUAbg4EYwAN0unTp/V///d/+vDDDxUSEiIXFxc5OjoqODhYs2bNMpeLiYnRk08+qSFDhtQYfCsrKzVr1iwtX778mkeIZsyYoa1bt1a7vtjV1VVlZWUqLCxUkyZNarz+duDAgerZs6ecnJw0ffp0JSQkKCcn57r7uGrVKg0aNEi9e/eWo6OjJk2apLKyMn3zzTdKSkpSaWmpJk+erMaNG8ve3l5dunQxr4etSUJCgioqKjRhwgSNGDFCPXr0kHTpF/mnnnpKd9xxh5ydnTVjxgwlJibqyJEjatasmSIjI7V582adP3++xu26urrqqaeeqhK26yIqKkp/+ctfFBgYKOlSIB84cKCaNWumpKQkHT9+XDNnzlSTJk3UqFGja57yXJuKigrz6Nq1xvNa/vWvfyk9Pb3Wa8NfffVVTZs2TWVlZT+7voSEBFVWVurdd9/9n0+rfOmll+Tu7i4fHx+98MIL5vWRrq6uOnPmjEpKSszT0y9r2rSp+cccR0dHOTk51fpzvmzDhg3q2LGjRowYIQcHBw0fPlydO3fWF198UW3ZiooKGYah2267TZWVlVq1apXefPNNNWvWTO3bt9ff/vY3LV++3Fy+ZcuWmjBhghwdHTVs2DB16tRJGzZskLOzsxo1aqSTJ0+qvLxcwcHB172e/lr+/e9/69VXX5WXl5c8PT31f//3f2Ydl8fv6ksmanLx4kWdOXPGPCrYsWNH87IBFxcX2dnZ6fz580pMTNS5c+c0efJkOTo6qlevXho8eHC1a/mvHjPp0s/v9OnTOnPmjH7zm99c8zrzK13vO+Lee+/V0KFDa9zPvLw8bd68We+++65cXV1lZ2enX/3qV2bYk6Rf//rXCgoK0kcffVSnemqTk5Ojb775Rm+99ZYaNWqkrl27atSoUVXeFzX54YcftHHjRr311lvV5v3zn//Um2++qfbt20u6dAbPkCFDJEkrVqxQ37599cgjj8jBwUEtWrQwr3n29fXVlClTzGu4fw5XV1edP39ep06dkoeHhyIjI2tcbvPmzdq9e/d1/wAFoOEhGANosN577z397W9/06uvvqqTJ08qOztb48aNq/KL3jfffKPKykrt3r272tHMy5YuXaqZM2des6/169dr0qRJ1dpjYmJ05MgR5ebmKi0trcYjfitXrlRkZKSKiop01113Vbnh0rUcPHhQjz/+uObOnauCggINHjxYgwcP1sWLF1VZWamHH35Yd955p7KyslRQUKCFCxfKzc3tutstLCzU+PHjtXjxYjk7O2vbtm167bXX9Omnn+r48eO6/fbbzWsJ586dqxYtWtR4053L3Nzc9MEHH+jUqVN12q/Ldu3apdGjR2vevHkqLi5WZmameeOnyspKDR48WL/+9a919OhR5eTk6NFHH63Tdtu2bavS0lKdPn1ar7zyinkTqmuN57VkZWXpscceq/UayoKCgv/plMiYmBj9/ve/v24QuJ61a9dq165d2rNnj9avX29eD/33v/9d3bp1U0lJidavX6/PPvvMXMfNzU1xcXE6ffq0srKy1KhRI0VERFyzn6KiIj388MOaNGmSCgsLNXnyZD388MPmNbGSNG/ePJWWlurw4cM6cOCAWcv48eN19uxZ/fjjj/rvf/+rlStXavHixeZ6iYmJ8vf3V0FBgd58800NGzbMPM12woQJWrVqlXlKflxc3C8eqzfeeEPfffed9u3bp9TUVO3evVtvvPGGJGnTpk366quvrhlc/vjHPyo7O1s5OTnq1q2beeOuRx55RNnZ2Tp9+rSioqI0duxYHT58WBcvXtTgwYM1YMAAFRQUaP78+QoLC9MPP/xgbnPy5MkqLS1VXl6e7O3tzT/wvfjii3rsscdUWlqqqKioOt8Q6lrfEZ06dVJ0dLRefPHFapeXXBYWFiZnZ2elpaWpuLhYq1evVps2bcz5rVu31quvvmrezPB/MWLECPn5+enYsWNas2aNIiMjtW3btuuuN3ny5BrfB3PmzFFcXJw2b96s06dPKyEhQUFBQZIuHU0eOHCgJk2apKKiIu3Zs8cMxh999JFmzpxZ6/8V3bt3V3Z2tjm1bt1an3zyiby9vfX+++/LxcVFBQUFSkhI0MaNG2vchmEYGjVqlL799tu6Dg+ABsTqt8ZmYmJi+l+mbdu2mY9asfR09eOJmJiunp544olqj4H5udOt8MiXmh6Hw8TU0Kft27cbvr6+Vq+DiYmp/idHAcBN7MrH1wANjYuLi8aOHav58+dbuxQAv8CuXbuue/kBgFsDp1IDuGktXbpUW7du1cSJE/+nm8MA9aFfv346efKkTpw4UeWmZABuHi+++KLy8/OtXQYAC7DTpUPHAAAAAADYJI4YAwAAAABsGsEYAAAAAGDTuPnWFfLz83XkyBFrlwEAAAAAqAe+vr5q2bJltXaC8RWOHDmi7t27W7sMAAAAAEA9qO357pxKDQAAAACwaQRjAAAAAIBNIxgDAAAAAGwa1xhfh4eHhyZOnCg/Pz/Z2dlZuxyLMgxDhw8f1vvvv6/i4mJrlwMAAAAA9YJgfB0TJ07Ud999p2nTpqmiosLa5ViUg4ODBg0apIkTJyoyMtLa5QAAAABAveBU6uvw8/PThg0bbC4US1JFRYXWr18vPz8/a5cCAAAAAPWGYHwddnZ2NhmKL6uoqLC5U8gBAAAA2BaCsYW5ubnpueee+9nrrV+/Xm5ubpKk8ePHKy0tTcuXL5ezs7O2bNmilJQUDR8+/EaXCwAAAAC3PK4xtjB3d3eNHTtWCxYsqPM6dnZ2GjRokPl67Nix6tu3r3JzcxUUFCRJCggIuOG1AgAAAIAt4Iixhc2cOVO33367UlJS9N5772nr1q3atWuX9u3bpyFDhkiSfH19deDAAUVHR2v//v1q166dsrKy5OnpqQULFuhXv/qV4uPjNXnyZC1fvlzdu3dXSkqKfvWrX1l57wAAAADg5sMRYwuLiIjQ7373OwUEBMjBwUFNmjRRaWmpPD09lZCQoLi4OEmSv7+/wsPDlZiYWGX95557TsHBwXrwwQdVWFioxMREvfjiixo8eLA1dgcAAAAAbnoEYyuys7PTjBkz9Ic//EGVlZXy9vZWq1atJElHjhypFooBAAAAADdevZ5KvWjRIp04cUKpqalV2seNG6f09HTt379fs2bNMtsjIiKUkZGhAwcOqF+/fmZ7//79deDAAWVkZGjKlClmu5+fnxISEpSRkaHY2Fg5OTlJkpydnRUbG6uMjAwlJCTI19e3PnfzFxs5cqRuu+023XXXXQoICNCJEyfUuHFjSdLZs2etXB0AAAAA2IZ6PWK8dOlSzZs3TzExMWbbAw88oJCQEN1xxx26cOGCbrvtNklSp06dFBoaqi5duqht27baunWrOnbsKEn68MMP9dBDDyknJ0fJycmKi4tTenq6Zs2apdmzZ+vjjz/WggULNGrUKP3zn//UqFGjVFxcLH9/fz366KOaNWuWQkND63NX66y0tFSurq6SLt2hOj8/X+Xl5XrggQd4XjAAAAAAi5iftMNifY0N7GWxvn6pej1ivHPnThUVFVVpe+655zRz5kxduHBBknTy5ElJUkhIiGJjY3XhwgUdPnxYmZmZCgwMVGBgoDIzM5WVlaWLFy8qNjZWISEhkqTevXtr9erVkqTo6GgNHTrU3FZ0dLQkafXq1erTp0997ubPUlRUpK+//lqpqam68847dffdd2vfvn0KCwtTenq6tcsDAAAAAJtj8WuMO3bsqPvvv19vvvmmfvrpJ7344ov67rvv5O3trYSEBHO5nJwceXt7S5Kys7OrtAcFBcnT01OnTp1SRUVFteW9vb3NdSoqKlRSUiJPT08VFhZaajevaeTIkdddpmvXrlVed+jQocZ/79ixQzt2WO6vPQAAAABwq7F4MHZ0dFSLFi3Uo0cPde/eXatWrbLqY4ZGjx6tMWPGSJK8vLysVgcAAAAAwDos/hzjnJwcffbZZ5Kk5ORkVVZWysvLS7m5uWrXrp25nI+Pj3Jzc2ttLywslLu7uxwcHKq0S6qyjoODg9zc3Go9WhwVFaXu3bure/fuKigoqJd9BgAAAAA0XBYPxp9//rkefPBBSZee1evs7KyCggLFxcUpNDRUzs7O8vPzk7+/v5KSkpScnCx/f3/5+fnJyclJoaGh5rN+t2/frmHDhkmSwsPDtXbtWklSXFycwsPDJUnDhg3Tl19+aendBAAAAADcJOr1VOqVK1fqgQcekJeXl7KzsxUZGanFixdr8eLFSk1N1YULF8wAm5aWplWrViktLU3l5eV6/vnnVVlZKenS4502bdokBwcHLV68WGlpaZKkKVOmKDY2Vm+88YZSUlK0aNEiSZceE7Vs2TJlZGSoqKiowdyRGgAAAADQ8NhJMqxdREORnJys7t27V2mLiYlRWFiYlSpqGBgDAAAA4NZiq49rqinzSVY4lRoAAAAAgIaEYAy9/PLL1i4BAAAAAKzG4o9rutnd6FMOrH1agZ2dnaZOnaq33nrLqnUAAAAAgLVwxLiBa9Kkib744gvt2bNHqampGj58uLKysjRjxgylpKQoOTlZAQEB2rhxozIzM/Xss89Kkpo2baqtW7dq165d2rdvn4YMGSJJ8vX11YEDBxQdHa39+/dr0aJFcnFxUUpKipYvX27NXQUAAAAAq+CIcQMXHBysY8eO6eGHH5YkNW/eXLNmzdLRo0cVEBCg9957T0uXLlXPnj3VuHFj7d+/Xx999JF++ukn/fGPf1Rpaak8PT2VkJBgPubK399f4eHhSkxMlCQ98sgjCggIsNo+AgAAAIA1ccS4gUtNTdVDDz2kmTNn6r777tPp06clyQy5qampSkxM1JkzZ1RQUKCysjK5ubnJzs5OM2bM0N69e7V161Z5e3urVatWkqQjR46YoRgAAAAAbB1HjBu4jIwMdevWTQMHDtQbb7yhbdu2SZLKysokSZWVlea/L792dHTUyJEjddttt+muu+5SeXm5srKy1LhxY0nS2bNnLb8jAAAAANBAEYwbuDZt2qioqEgrVqzQqVOn9Mwzz9RpPTc3N+Xn56u8vFwPPPCA/Pz8al324sWLcnR0VHl5+Q2qGgAAAABuHgTjBq5r1676xz/+ocrKSl28eFHPPfecVq9efd31VqxYoXXr1mnfvn367rvvlJ6eXuuy//rXv7Rv3z7t3r1bjz/++I0sHwAAAAAaPDtJhrWLaCiSk5PVvXv3Km0xMTEKCwuzUkUNA2MAAAAA3Fpu9GNor8Xaj6i9Uk2ZT+LmWwAAAAAAG0cwBgAAAADYNIIxAAAAAMCmEYwBAAAAADaNYAwAAAAAsGkEYwAAAACATSMY38SWLFmiP//5z5KkF154QS4uLlauCAAAAABuPo7WLuBmc/bc1hu6vaZN+t6Q7UycOFHLly/X+fPnq82zt7dXZWXlDekHAAAAAG41HDG+Cfj6+io1NdV8PWnSJEVGRpqvx48fr7Zt22r79u368ssvJUmlpaV65513tGfPHt1zzz167bXXlJSUpNTUVH300UcW3wcAAAAAaKgIxreAuXPn6tixY3rwwQfVu3dvSVKzZs2UmJioO++8U19//bXmzZunwMBAde3aVS4uLnr44YetXDUAAAAANAwE41tUeXm5Pv30U/P1gw8+qISEBO3bt0+9e/dWly5drFgdAAAAADQcXGN8EygvL5e9/f/7G0bjxo2vu85PP/1kXlfcqFEjzZ8/X3fffbdycnIUGRlZp20AAAAAgC3giPFN4MSJE2rZsqVatGghZ2fnGk+DLi0tlaura43rXw7BBQUFatq0qYYNG1av9QIAAADAzYQjxjeB8vJyTZs2TUlJScrNzdWBAweqLfOvf/1LGzdu1LFjx8zrjC8rKSlRVFSU9u/fr7y8PCUnJ1uqdAAAAABo8AjGP9ONerzSzzV37lzNnTu31vnz5s3TvHnzzNdXHz1+7bXX9Nprr9VbfQAAAABws+JUagAAAACATSMYAwAAAABsGsEYAAAAAGDTCMbXYRiGHBwcrF2G1Tg4OMgwDGuXAQAAAAD1hmB8HYcPH9agQYNsMhw7ODho0KBBOnz4sLVLAQAAAIB6U693pV60aJEefvhh5efnq2vXrlXm/e1vf9O7774rLy8vFRYWSpLmzJmjgQMH6ty5c3ryySeVkpIiSQoLC9Orr74qSXrjjTcUExMjSerWrZuWLl0qFxcXbdiwQS+88IIkycPDQx9//LH8/Px0+PBhDR8+XKdOnfpF+/D+++9r4sSJ+vOf/yw7O7tftI2blWEYOnz4sN5//31rlwIAAAAA9aZeg/HSpUs1b948M8he5uPjo379+unIkSNm24ABA+Tv7y9/f38FBQVpwYIF6tGjhzw8PBQZGam7775bhmFo165diouL06lTp7RgwQKNHj1aiYmJ2rBhg4KDg7Vx40ZFRERo27ZtmjVrlqZMmaKIiAhFRET8on0oLi5WZGTk/zQOAAAAAICGq15Ppd65c6eKioqqtc+ePVuTJ0+ucu1qSEiIGaATExPl7u6u1q1bq3///tqyZYuKi4t16tQpbdmyRcHBwWrdurWaN2+uxMRESVJMTIyGDh1qbis6OlqSFB0dbbYDAAAAAHC1ej1iXJMhQ4YoNzdX+/btq9Lu7e2t7Oxs83VOTo68vb2v2Z6Tk1OtXZJatWqlvLw8SVJeXp5atWpVaz2jR4/WmDFjJEleXl7/+w4CAAAAAG4qFg3GLi4umjp1qvr162fJbq95V+WoqChFRUVJkpKTky1VEgAAAACggbDoXalvv/12dejQQXv37lVWVpZ8fHy0e/dutWrVSrm5uWrXrp25rI+Pj3Jzc6/Z7uPjU61dkk6cOKHWrVtLklq3bq38/HwL7SEAAAAA4GZj0WC8f/9+tWrVSh06dFCHDh2Uk5Ojbt266cSJE4qLi1NYWJgkKSgoSCUlJcrLy9OmTZvUr18/ubu7y93dXf369dOmTZuUl5en06dPKygoSNKlO1evXbtWkhQXF6fw8HBJUnh4uNkOAAAAAMDV6jUYr1y5Ut9++61+85vfKDs7W08//XSty27YsEE//vijMjMzFRUVpbFjx0q6dFfo6dOnKzk5WcnJyZo2bZqKi4slSWPHjtXChQuVmZmpQ4cOKT4+XpI0c+ZMPfTQQzp48KD69u2rmTNn1uduAgAAAABuYnaSar8A18YkJyere/fu1i4DAAAAwA00P2mHRfsbG9jLov39EpYck4Y0HrVlPoueSg0AAAAAQENDMAYAAAAA2DSCMQAAAADAphGMAQAAAAA2jWAMAAAAALBpBGMAAAAAgE0jGAMAAAAAbBrBGAAAAABg0wjGAAAAAACbRjAGAAAAANg0gjEAAAAAwKYRjAEAAAAANo1gDAAAAACwaQRjAAAAAIBNIxgDAAAAAGwawRgAAAAAYNMIxgAAAAAAm0YwBgAAAADYNIIxAAAAAMCmEYwBAAAAADaNYAwAAAAAsGkEYwAAAACATXO0dgEAAAAAbpz5STss2t/YwF4W7Q+oDxwxBgAAAADYNIIxAAAAAMCmEYwBAAAAADaNYAwAAAAAsGkEYwAAAACATSMYAwAAAABsWr0G40WLFunEiRNKTU01295++22lp6dr7969+uyzz+Tm5mbOi4iIUEZGhg4cOKB+/fqZ7f3799eBAweUkZGhKVOmmO1+fn5KSEhQRkaGYmNj5eTkJElydnZWbGysMjIylJCQIF9f3/rcTQAAAADATaxeg/HSpUsVHBxcpW3Lli363e9+pzvuuEMHDx7Uyy+/LEnq1KmTQkND1aVLFwUHB2v+/Pmyt7eXvb29PvzwQw0YMECdO3fWiBEj1KlTJ0nSrFmzNHv2bPn7+6u4uFijRo2SJI0aNUrFxcXy9/fX7NmzNWvWrPrcTQAAAADATaxeg/HOnTtVVFRUpW3Lli2qqKiQJCUkJMjHx0eSFBISotjYWF24cEGHDx9WZmamAgMDFRgYqMzMTGVlZenixYuKjY1VSEiIJKl3795avXq1JCk6OlpDhw41txUdHS1JWr16tfr06VOfuwkAAAAAuIlZ9Rrjp59+WvHx8ZIkb29vZWdnm/NycnLk7e1da7unp6dOnTplhuzL7Vdvq6KiQiUlJfL09LTUbgEAAAAAbiKO1up46tSpKi8v14oVK6xVgiRp9OjRGjNmjCTJy8vLqrUAAAAAACzPKkeMw8PD9fDDD2vkyJFmW25urtq1a2e+9vHxUW5ubq3thYWFcnd3l4ODQ5X2q7fl4OAgNzc3FRYW1lhLVFSUunfvru7du6ugoOCG7ysAAAAAoGGzeDDu37+/Jk+erCFDhuj8+fNme1xcnEJDQ+Xs7Cw/Pz/5+/srKSlJycnJ8vf3l5+fn5ycnBQaGqq4uDhJ0vbt2zVs2DBJl8L22rVrzW2Fh4dLkoYNG6Yvv/zSwnsJAAAAALhZ1Oup1CtXrtQDDzwgLy8vZWdnKzIyUi+//LIaNWqkLVu2SLp0A67nnntOaWlpWrVqldLS0lReXq7nn39elZWVkqRx48Zp06ZNcnBw0OLFi5WWliZJmjJlimJjY/XGG28oJSVFixYtknTpMVHLli1TRkaGioqKFBoaWp+7CQAAAAC4idlJMqxdREORnJys7t27W7sMAAAA4Bebn7TDov2NDexl0f5+CcakOkuOSUMaj9oyn1XvSg0AAAAAgLURjAEAAAAANo1gDAAAAACwaQRjAAAAAIBNIxgDAAAAAGwawRgAAAAAYNMIxgAAAAAAm0YwBgAAAADYNIIxAAAAAMCmEYwBAAAAADaNYAwAAAAAsGmO1i4AAAAA+F/MT9phsb7GBvayWF8ALIcjxgAAAAAAm0YwBgAAAADYNIIxAAAAAMCmEYwBAAAAADaNYAwAAAAAsGkEYwAAAACATavz45rc3NwUFhYmPz8/OTr+v9VeeOGFeikMAAAAAABLqHMw3rBhgxISEpSamqrKysr6rAkAAAAAAIupczBu3LixJk2aVJ+1AAAAAABgcXW+xnjZsmV65pln1Lp1a3l4eJgTAAAAAAA3szofMb5w4YL+8Y9/6JVXXpFhGJIkwzB0++2311txAAAAAADUtzoH40mTJunXv/61CgsL67MeAAAAAAAsqs6nUmdmZurcuXP1WQsAAAAAABZX5yPGZ8+e1Z49e7R9+3aVlZWZ7TyuCQAAAABwM6tzMP7888/1+eef12MpAAAAAABYXp2DcUxMTH3WAQAAAACAVdQ5GP/444/m3aivxF2pAQAAAAA3szoH47vvvtv8d+PGjfXII4+oRYsW9VIUAAAAAACWUue7UhcVFZnTsWPHNGfOHA0aNOia6yxatEgnTpxQamqq2ebh4aHNmzfr4MGD2rx5s9zd3c15c+bMUUZGhvbu3auAgACzPSwsTAcPHtTBgwcVFhZmtnfr1k379u1TRkaG5syZU6c+AAAAAAC4Up2DcUBAgDndddddevbZZ+XoeO0DzkuXLlVwcHCVtoiICG3btk0dO3bUtm3bFBERIUkaMGCA/P395e/vrzFjxmjBggWSLoXcyMhIBQUFKTAwUJGRkWbQXbBggUaPHm2ud7mv2voAAAAAAOBqdT6V+t133zX/XV5ersOHD2v48OHXXGfnzp3y9fWt0hYSEqIHHnhAkhQdHa2vvvpKERERCgkJMW/wlZiYKHd3d7Vu3VoPPPCAtmzZouLiYknSli1bFBwcrK+++krNmzdXYmKipEs3Bxs6dKg2btxYax8AAAAAAFytzsG4d+/eN6TDVq1aKS8vT5KUl5enVq1aSZK8vb2VnZ1tLpeTkyNvb+9rtufk5FRrv1YfNRk9erTGjBkjSfLy8roh+wgAAAAAuHnU+VTqCRMmyNXVVZIUFRWlXbt26aGHHvqfC6jpTtc32rX6iIqKUvfu3dW9e3cVFBTUey0AAAAAgIalzkeMn376aX3wwQfq16+fPD099cQTT2jZsmXasmXLz+rwxIkTat26tfLy8tS6dWvl5+dLknJzc9WuXTtzOR8fH+Xm5io3N9c8Lfpy+1dffaXc3Fz5+PhUW/5afQAAANzs5iftsGh/YwN7WbQ/ALCGOh8xtrOzkyQNHDhQMTExSktLM9t+jri4OIWHh0uSwsPDtXbtWrP98h2ng4KCVFJSory8PG3atEn9+vWTu7u73N3d1a9fP23atEl5eXk6ffq0goKCJF26c/WV26qpDwAAAAAArlbnI8a7du3Spk2b1KFDB7388stq1qyZKisrr7nOypUr9cADD8jLy0vZ2dmKjIzUzJkztWrVKo0aNUpHjhwxb+C1YcMGDRw4UJmZmTp37pyeeuopSVJxcbGmT5+u5ORkSdK0adPMG3GNHTtWS5culYuLi+Lj4xUfHy9JtfYBAAAAAMDV6hyMR40apTvvvFM//vijzp8/rxYtWpjhVZI6d+6stLS0Kus89thjNW6rb9++NbaPGzeuxvYlS5ZoyZIl1dp37dqlrl27VmsvKiqqtQ8AAAAAAK5U51OpDcNQSkqKSkpKJF0Kn6mpqeb8ZcuW3fjqAAAAAACoZ3UOxtfzS643BgAAAADA2m5YMLbEY5cAAAAAALjRblgwBgAAAADgZnTDgvGFCxdu1KYAAAAAALCYOgfje++9V02aNJEkjRw5Uu+++67at29vzr/nnntufHUAAAAAANSzOgfjBQsW6Ny5c/r973+vSZMm6dChQ4qJianP2gAAAAAAqHd1Dsbl5eWSpJCQEM2bN0/z58+Xq6trvRUGAAAAAIAlONZ1wdLSUkVEROiJJ57Q/fffLzs7Ozk5OdVnbQAAAAAA1Ls6HzF+9NFHVVZWpqefflonTpyQj4+P/vGPf9RnbQAAAAAA1Ls6B+MTJ07o008/VaNGjSRJBQUFWrNmTb0VBgAAAACAJdQ5GD/zzDNavXq1PvroI0mSt7e3Pv/88/qqCwAAAAAAi6hzMH7++efVs2dPnT59WpKUmZmpli1b1lthAAAAAABYQp2DcVlZmS5evGi+dnBwkGEY9VIUAAAAAACWUudgvGPHDr388stycXFR37599cknn2jdunX1WRsAAAAAAPWuzsE4IiJCJ0+eVGpqqp599llt2LBBr776an3WBgAAAABAvavzc4zHjx+vDz74QAsXLjTbJkyYoA8++KBeCgMAAAAAwBLqfMQ4PDy8WtuTTz55I2sBAAAAAMDirnvEODQ0VI899pg6dOigtWvXmu2urq4qKiqq1+IAAAAAAKhv1w3G33zzjY4fPy4vLy+9++67Zntpaan27dtXr8UBAAAAAFDfrhuMjx49qqNHj+ree++1RD0AAAAAAFhUnW++dfr0afO5xc7OznJyctLZs2fl5uZWb8UBAAAAAFDf6hyMmzdvXuV1SEiIevToccMLAgAAAADAkup8V+qrrV27Vv3797+RtQAAAAAAYHF1PmL8xz/+0fy3vb297r77bv3000/1UhQAAAAAAJZS52A8ePBg89/l5eU6fPiwQkJC6qUoAAAAAAAspc7B+Omnn67POgAAAAAAsIo6B2MvLy+NHj1afn5+cnT8f6uNGjWqXgoDAAAAAMAS6hyM165dq507d2rr1q2qqKioz5oAAAAAALeIs+e2WrS/pk36/ux16hyMmzRpooiIiJ/dQW0mTpyoZ555RoZhKDU1VU899ZTatGmj2NhYeXp6ateuXXriiSd08eJFOTs7KyYmRnfddZcKCwv16KOP6siRI5KkiIgIjRo1ShUVFZowYYI2b94sSerfv7/mzJkjBwcHLVy4ULNmzbphtQMAAMuYn7TDov2NDexl0f4AAA1DnR/X9MUXX2jAgAE3pNO2bdtqwoQJuvvuu9W1a1c5ODgoNDRUs2bN0uzZs+Xv76/i4mLzNO1Ro0apuLhY/v7+mj17thlyO3XqpNDQUHXp0kXBwcGaP3++7O3tZW9vrw8//FADBgxQ586dNWLECHXq1OmG1A4AAAAAuLXUORi/8MIL+uKLL3Tu3DmVlJTo9OnTKikp+cUdOzo6ysXFRQ4ODmrSpImOHz+u3r17a/Xq1ZKk6OhoDR06VJIUEhKi6OhoSdLq1avVp08fsz02NlYXLlzQ4cOHlZmZqcDAQAUGBiozM1NZWVm6ePGiYmNjuYM2AAAAAKBGdQ7GzZs3N0Osm5ubmjdvLjc3t1/U6bFjx/TOO+/o6NGjOn78uEpKSrRr1y6dOnXKvH45JydH3t7ekiRvb29lZ2dLkioqKlRSUiJPT88q7VeuU1s7AAAAAABXu+41xr/5zW/0ww8/KCAgoMb5KSkpP7tTd3d3hYSEqEOHDjp16pQ++eQTBQcH/+zt3AijR4/WmDFjJF268zYAAAAAwLZcNxj/7W9/07PPPqt333232jzDMMzTmn+Ovn37KisrSwUFBZKkzz77TD179pS7u7scHBxUUVEhHx8f5ebmSpJyc3PVrl075ebmysHBQW5ubiosLDTbL7tyndrarxYVFaWoqChJUnJy8s/eFwAAAADAze26wfjZZ5+VJPXu3fuGdXr06FH16NFDLi4uOn/+vPr06aPvvvtO27dv17Bhw/Txxx8rPDxca9eulSTFxcUpPDxcCQkJGjZsmL788kuzfeXKlXrvvffUtm1b+fv7KykpSXZ2dvL395efn59yc3MVGhqqxx577IbVDwAAAAC4ddT5cU329vYaNGiQ/Pz85Oj4/1abPXv2z+40KSlJq1ev1u7du1VeXq6UlBT961//0vr16xUbG6s33nhDKSkpWrRokSRp0aJFWrZsmTIyMlRUVKTQ0FBJUlpamlatWqW0tDSVl5fr+eefV2VlpSRp3Lhx2rRpkxwcHLR48WKlpaX97DoBAAAAALe+OgfjdevW6aefflJqaqoZPv8Xr7/+ul5//fUqbVlZWQoKCqq2bFlZmYYPH17jdmbMmKEZM2ZUa4+Pj1d8fPz/XCcAAAAA4NZW52Ds4+OjO+64oz5rAQAAAADA4ur8uKb4+Hg99NBD9VkLAAAAAAAWV+cjxgkJCVqzZo3s7e118eJF2dnZyTCMX/wsYwAAAAAAGoI6B+P33ntP99xzj1JTU+uzHgAAAAAALKrOp1JnZ2dr//799VkLAAAAAAAWV+cjxj/++KO++uorxcfHq6yszGz/JY9rAgAAAACgoahzMM7KylJWVpacnZ3l7OxcnzUBAAAAAGAxdQ7G06ZNu+b8Dz74QBMmTPifCwIAAAAAwJLqfI3x9fTs2fNGbQoAAAAAAIup8xFjAAAAAMD1nT231WJ9NW3S12J93cpu2BFjAAAAAABuRjcsGNvZ2d2oTQEAAAAAYDG/KBjb2dnJ1dW1StucOXNuSEEAAAAAAFhSnYPxihUr5OrqqiZNmmj//v1KS0vTiy++aM6Pjo6ulwIBAAAAAKhPdQ7GnTt3VmlpqYYOHar4+Hh16NBBTzzxRH3WBgAAAABAvatzMHZycpKjo6OGDh2quLg4lZeXyzCM+qwNAAAAAIB6V+dg/NFHH+nw4cNq2rSp/vOf/6h9+/Y6ffp0fdYGAAAAAEC9q/NzjOfOnau5c+ear48ePaoHH3ywXooCAAAAcHPgmb24FVw3GP/1r3+95vzZs2ffsGIAAAAAALC06wbjqx/LBAAAAADAreS6wXjatGmWqAMAAAAAAKu4bjCeM2fONee/8MILN6wYAAAAAAAs7brBeNeuXZaoAwAAAAAAq7huMI6JibFEHQAAAAAAWEWdH9fk5eWlKVOmqHPnzmrcuLHZ3qdPn3opDAAAWzQ/aYfF+hob2MtifQEA0JDZ13XBFStWKD09XR06dNDf//53HT58WMnJyfVZGwAAAAAA9a7OwdjT01OLFy/WxYsX9Z///EejRo1S796967M2AAAAAADqXZ1Ppb548aIk6fjx4xo4cKCOHTumFi1a1FthAAAAAABYQp2D8RtvvKHmzZtr0qRJmjt3rpo3b66JEyfWY2kAAAAAANS/OgfjRx55RP/973/1/fffq3fv3vLw8NA777yjL774oj7rAwAAABqMs+e2WrS/pk36WrQ/wFbV+Rrj3//+9yopKTFfFxcXKyAg4Bd37Obmpk8++UTp6elKS0tTjx495OHhoc2bN+vgwYPavHmz3N3dzeXnzJmjjIwM7d27t0q/YWFhOnjwoA4ePKiwsDCzvVu3btq3b58yMjI0Z86cX1wnAAAAAODWVudgbG9vXyWoenh4yNGxzgecq5kzZ442btyoTp066Y477lB6eroiIiK0bds2dezYUdu2bVNERIQkacCAAfL395e/v7/GjBmjBQsWmDVERkYqKChIgYGBioyMNGtcsGCBRo8eba4XHBz8i2sFAAAAANy66hyM3333XX377beaNm2apk2bpm+++UZvv/32L+q0efPm+sMf/qBFixZJunRjr5KSEoWEhCg6OlqSFB0draFDh0qSQkJCFBMTI0lKTEyUu7u7Wrdurf79+2vLli0qLi7WqVOntGXLFgUHB6t169Zq3ry5EhMTJUkxMTHmtgAAAAAAuFKdD/kuW7ZM3333nfmIpj/96U9KT0//RZ126NBBJ0+e1JIlS3THHXdo165deuGFF9SqVSvl5eVJkvLy8tSqVStJkre3t7Kzs831c3Jy5O3tfc32nJycau01GT16tMaMGSNJ8vLy+kX7AwAAAAC4ef2sc6HT09N/cRiu0qmjo7p166bx48crKSlJ77//vnna9JUMw/if+7qeqKgoRUVFSZKSk5PrvT8AAAAAQMNS51Opb6ScnBzl5OQoKSlJkrR69Wp169ZNJ06cUOvWrSVJrVu3Vn5+viQpNzdX7dq1M9f38fFRbm7uNdt9fHyqtQMAAAAAcDWrBOMTJ04oOztbHTt2lCT16dNHaWlpiouLU3h4uCQpPDxca9eulSTFxcWZd5wOCgpSSUmJ8vLytGnTJvXr10/u7u5yd3dXv379tGnTJuXl5en06dMKCgqSdOnO1Ze3BQAAAADAlX75baX/R+PHj9eKFSvk7OysH3/8UU899ZTs7e21atUqjRo1SkeOHNHw4cMlSRs2bNDAgQOVmZmpc+fO6amnnpJ06ZFR06dPN0+BnjZtmoqLiyVJY8eO1dKlS+Xi4qL4+HjFx8dbZ0cBAAAAAA2a1YLx3r171b1792rtffvW/BDzcePG1di+ZMkSLVmypFr7rl271LVr1/+tSAAAAADALc8qp1IDAAAAANBQEIwBAAAAADaNYAwAAAAAsGkEYwAAAACATSMYAwAAAABsmtXuSg0AwPykHRbtb2xgL4v2B9wKzp7barG+mjap+ekkAFDfOGIMAAAAALBpBGMAAAAAgE0jGAMAAAAAbBrBGAAAAABg0wjGAAAAAACbRjAGAAAAANg0gjEAAAAAwKYRjAEAAAAANs3R2gUAAAA0FGfPbbVYX02b9LVYXwCAa+OIMQAAAADAphGMAQAAAAA2jWAMAAAAALBpBGMAAAAAgE0jGAMAAAAAbBrBGAAAAABg0wjGAAAAAACbRjAGAAAAANg0gjEAAAAAwKYRjAEAAAAANo1gDAAAAACwaQRjAAAAAIBNIxgDAAAAAGwawRgAAAAAYNOsGozt7e21e/durVu3TpLk5+enhIQEZWRkKDY2Vk5OTpIkZ2dnxcbGKiMjQwkJCfL19TW3ERERoYyMDB04cED9+vUz2/v3768DBw4oIyNDU6ZMseyOAQAAAABuGlYNxi+88ILS09PN17NmzdLs2bPl7++v4uJijRo1SpI0atQoFRcXy9/fX7Nnz9asWbMkSZ06dVJoaKi6dOmi4OBgzZ8/X/b29rK3t9eHH36oAQMGqHPnzhoxYoQ6depklX0EAAAAADRsjtbq2NvbW4MGDdKbb76pv/3tb5Kk3r1767HHHpMkRUdH6/XXX9c///lPhYSE6PXXX5ckrV69WvPmzZMkhYSEKDY2VhcuXNDhw4eVmZmpwMBASVJmZqaysrIkSbGxsQoJCakSwgHA0uYn7bBof2MDe1m0PwAAgJuV1YLx+++/r8mTJ8vV1VWS5OnpqVOnTqmiokKSlJOTI29vb0mXQnR2drYkqaKiQiUlJfL09JS3t7cSEhLMbV65zuXlL7cHBQVZZL8AALhZnD231aL9NW3S16L9AQBQV1Y5lXrQoEHKz8/X7t27rdF9FaNHj1ZycrKSk5Pl5eVl7XIAAAAAABZmlSPGPXv21JAhQzRw4EA1btxYzZs315w5c+Tu7i4HBwdVVFTIx8dHubm5kqTc3Fy1a9dOubm5cnBwkJubmwoLC832y65cp7b2q0VFRSkqKkqSlJycXF+7DAAAAABooKxyxHjq1Klq166dOnTooNDQUH355Zd6/PHHtX37dg0bNkySFB4errVr10qS4uLiFB4eLkkaNmyYvvzyS7M9NDRUzs7O8vPzk7+/v5KSkpScnCx/f3/5+fnJyclJoaGhiouLs8auAgAAAAAaOKtdY1yTKVOmKDY2Vm+88YZSUlK0aNEiSdKiRYu0bNkyZWRkqKioSKGhoZKktLQ0rVq1SmlpaSovL9fzzz+vyspKSdK4ceO0adMmOTg4aPHixUpLS7PafgEAAAAAGi6rB+MdO3Zox45Ld2rNysqq8SZZZWVlGj58eI3rz5gxQzNmzKjWHh8fr/j4+BtbLAAAAADglmPV5xgDAAAAAGBtBGMAAAAAgE0jGAMAAAAAbBrBGAAAAABg0wjGAAAAAACbRjAGAAAAANg0qz+uCQAASzl7bqvF+mrapK/F+gIAAP8bjhgDAAAAAGwawRgAAAAAYNMIxgAAAAAAm0YwBgAAAADYNIIxAAAAAMCmEYwBAAAAADaNYAwAAAAAsGk8xxhAvZmftMNifY0N7GWxvgAAAHBr4YgxAAAAAMCmEYwBAAAAADaNYAwAAAAAsGkEYwAAAACATSMYAwAAAABsGsEYAAAAAGDTCMYAAAAAAJtGMAYAAAAA2DRHaxcAAKgfZ89ttVhfTZv0tVhfAAAANxpHjAEAAAAANo1gDAAAAACwaQRjAAAAAIBNIxgDAAAAAGwawRgAAAAAYNMIxgAAAAAAm2aVYOzj46Mvv/xS33//vfbv368JEyZIkjw8PLR582YdPHhQmzdvlru7u7nOnDlzlJGRob179yogIMBsDwsL08GDB3Xw4EGFhYWZ7d26ddO+ffuUkZGhOXPmWGzfAAAAAAA3F6sE4/Lyck2aNEldunRRjx499Pzzz6tTp06KiIjQtm3b1LFjR23btk0RERGSpAEDBsjf31/+/v4aM2aMFixYIOlSkI6MjFRQUJACAwMVGRlphukFCxZo9OjR5nrBwcHW2FUAAAAAQANnlWCcl5enlJQUSdKZM2eUnp4ub29vhYSEKDo6WpIUHR2toUOHSpJCQkIUExMjSUpMTJS7u7tat26t/v37a8uWLSouLtapU6e0ZcsWBQcHq3Xr1mrevLkSExMlSTExMea2AAAAAAC4kqO1C/D19VVAQIASExPVqlUr5eXlSboUnlu1aiVJ8vb2VnZ2trlOTk6OvL29r9mek5NTrb0mo0eP1pgxYyRJXl5eN3z/AAAAAAANm1VvvtW0aVN9+umnmjhxokpLS6vNNwyj3muIiopS9+7d1b17dxUUFNR7fwAAAACAhsVqwdjR0VGffvqpVqxYoTVr1kiSTpw4odatW0uSWrdurfz8fElSbm6u2rVrZ67r4+Oj3Nzca7b7+PhUawcAAAAA4GpWC8aLFi1Senq6Zs+ebbbFxcUpPDxckhQeHq61a9ea7ZfvOB0UFKSSkhLl5eVp06ZN6tevn9zd3eXu7q5+/fpp06ZNysvL0+nTpxUUFCTp0p2rL28LAAAAAIArWeUa4549eyosLEz79u0zb8I1depUzZw5U6tWrdKoUaN05MgRDR8+XJK0YcMGDRw4UJmZmTp37pyeeuopSVJxcbGmT5+u5ORkSdK0adNUXFwsSRo7dqyWLl0qFxcXxcfHKz4+3gp7CsBSzp7batH+mjbpa9H+AAAAUH+sEoy//vpr2dnZ1Tivb9+af9kcN25cje1LlizRkiVLqrXv2rVLXbt2/eVFAj/T/KQdFu1vbGAvi/YHAAAA3KqsevMtAAAAAACsjWAMAAAAALBpBGMAAAAAgE0jGAMAAAAAbBrBGAAAAABg0wjGAAAAAACbRjAGAAAAANg0gjEAAAAAwKYRjAEAAAAANo1gDAAAAACwaQRjAAAAAIBNIxgDAAAAAGwawRgAAAAAYNMIxgAAAAAAm0YwBgAAAADYNIIxAAAAAMCmEYwBAAAAADaNYAwAAAAAsGkEYwAAAACATXO0dgG4Oc1P2mHR/sYG9rJofzeDs+e2Wqyvpk36WqwvAAAAwNI4YgwAAAAAsGkEYwAAAACATSMYAwAAAABsGsEYAAAAAGDTCMYAAAAAAJvGXalxU+AOzAAAAADqC0eMAQAAAAA2jWAMAAAAALBpBGMAAAAAgE27pYNx//79deDAAWVkZGjKlCnWLgcAAAAA0ADdssHY3t5eH374oQYMGKDOnTtrxIgR6tSpk7XLAgAAAAA0MLdsMA4MDFRmZqaysrJ08eJFxcbGKiQkxNplAQAAAAAamFs2GHt7eys7O9t8nZOTI29vbytWBAAAAABoiOwkGdYuoj78+c9/VnBwsEaPHi1JevzxxxUUFKTx48dXWW706NEaM2aMJOk3v/mNfvjhB4vXejUvLy8VFBRYu4wGhTGpjjGpivGojjGpjjGpivGojjGpjjGpivGojjGpjjGpqiGNh6+vr1q2bFnjPONWnHr06GFs3LjRfB0REWFERERYva66TMnJyVavoaFNjAljwngwJowJ48GYMCYNYWI8GBPG5NYcj1v2VOrk5GT5+/vLz89PTk5OCg0NVVxcnLXLAgAAAAA0MI7WLqC+VFRUaNy4cdq0aZMcHBy0ePFipaWlWbssAAAAAEADc8sGY0mKj49XfHy8tcv42f71r39Zu4QGhzGpjjGpivGojjGpjjGpivGojjGpjjGpivGojjGpjjGp6mYYj1v25lsAAAAAANTFLXuNMQAAAAAAdUEwtqL+/fvrwIEDysjI0JQpU6rNd3Z2VmxsrDIyMpSQkCBfX18rVGk5ixYt0okTJ5SamlrrMnPmzFFGRob27t2rgIAAC1ZneT4+Pvryyy/1/fffa//+/ZowYUKNy9nSmDRq1EiJiYnas2eP9u/fr9dff73aMrb2uZEke3t77d69W+vWras2zxbHIysrS/v27VNKSoqSk5NrXMaWPjeS5Obmpk8++UTp6elKS0tTjx49qi1jS2PSsWNHpaSkmFNJSYleeOGFasvZ0phMnDhR+/fvV2pqqlauXKlGjRpVmW+L3yUTJkxQamqq9u/fX+P7Q7r13yM1/W7m4eGhzZs36+DBg9q8ebPc3d1rXDcsLEwHDx7UwYMHFRYWZqGK619NYzJs2DDt379fFRUVuuuuu2pd93q/+9+MahqPt99+W+np6dq7d68+++wzubm51bhuQxwPq98a2xYne3t7IzMz0+jQoYPh5ORk7Nmzx+jUqVOVZZ577jljwYIFhiTj0UcfNWJjY61ed31O999/vxEQEGCkpqbWOH/AgAHGhg0bDElGUFCQkZCQYPWa63Nq3bq1ERAQYEgymjVrZvzwww/V3iO2NiaSjKZNmxqSDEdHRyMhIcEICgqqMt/WPjeSjL/+9a/GihUrjHXr1lWbZ4vjkZWVZXh6etY63xY/N0uXLjVGjRplSDKcnJwMNzc3mx+Ty5O9vb1x/Phxo3379jY7Jm3btjV+/PFHo3HjxoYk4+OPPzbCw8OrLGNr3yVdunQxUlNTDRcXF8PBwcHYsmWLcfvtt9vce6Sm381mzZplTJkyxZBkTJkyxZg5c2a19Tw8PIxDhw4ZHh4ehru7u3Ho0CHD3d3d6vtTX2Py29/+1ujYsaOxfft246677qpxvbr87n8zTjWNx0MPPWQ4ODgYkoyZM2fW+B5piOPBEWMrCQwMVGZmprKysnTx4kXFxsYqJCSkyjIhISGKjo6WJK1evVp9+vSxRqkWs3PnThUVFdU6PyQkRDExMZKkxMREubu7q3Xr1pYqz+Ly8vKUkpIiSTpz5ozS09Pl7e1dZRlbGxNJOnv2rCTJyclJTk5OMgyjynxb+9x4e3tr0KBBWrhwYY3zbW086sLWPjfNmzfXH/7wBy1atEiSdPHiRZWUlFRZxtbG5Ep9+vTRoUOHdPTo0SrttjYmjo6OcnFxkYODg5o0aaJjx45VmW9r3yWdOnVSYmKizp8/r4qKCu3YsUN/+tOfqixjC++Rmn43u/K9EB0draFDh1Zbr3///tqyZYuKi4t16tQpbdmyRcHBwZYoud7VNCYHDhzQwYMHr7leXX73vxnVNB5btmxRRUWFJCkhIUE+Pj7V1muI40EwthJvb29lZ2ebr3NycqqFniuXqaioUElJiTw9PS1aZ0NSlzG7Vfn6+iogIECJiYlV2m1xTOzt7ZWSkqL8/Hxt2bJFSUlJVebb2ufm/fff1+TJk1VZWVnjfFsbD0kyDEObN2/Wd999p9GjR1ebb2ufmw4dOujkyZNasmSJdu/eraioKDVp0qTKMrY2JlcKDQ3Vv//972rttjQmx44d0zvvvKOjR4/q+PHjKikp0ZYtW6osY2vfJfv379f999+vFi1ayMXFRQMHDlS7du2qLGNL75ErtWrVSnl5eZIu/RG/VatW1Zax1bG5Flsdk6effrrGpwQ1xPEgGAMNXNOmTfXpp59q4sSJKi0ttXY5VldZWamAgAD5+PgoMDBQXbp0sXZJVjNo0CDl5+dr9+7d1i6lQbnvvvt01113acCAAXr++ed1//33W7skq3J0dFS3bt20YMECdevWTWfPnlVERIS1y2oQnJycNGTIEH3yySfWLsWq3N3dFRISog4dOqht27Zq2rSpRo4cae2yrOrAgQOaNWuWNm/erI0bN2rPnj3mETBUdfWZW8BlU6dOVXl5uVasWGHtUuqEYGwlubm5Vf7y6OPjo9zc3FqXcXBwkJubmwoLCy1aZ0NSlzG71Tg6OurTTz/VihUrtGbNmmrzbXFMLispKdH27durnZplS5+bnj17asiQIcrKylJsbKx69+6tZcuWVVnGlsbjssungJ48eVJr1qxRYGBglfm29rnJyclRTk6OeXbF6tWr1a1btyrL2NqYXDZgwADt3r1b+fn51ebZ0pj07dtXWVlZKigoUHl5uT777DPde++9VZaxxe+SxYsX6+6771avXr1UXFxc7VRZW3qPXOnEiRPmKeOtW7e2+c9PXdnamISHh+vhhx+u9Y9sDXE8CMZWkpycLH9/f/n5+cnJyUmhoaGKi4urskxcXJzCw8MlXbrb3ZdffmmNUhuMuLg4866GQUFBKikpMU/luVUtWrRI6enpmj17do3zbW1MvLy8zDsbNm7cWA899JAOHDhQZRlb+txMnTpV7dq1U4cOHRQaGqovv/xSTzzxRJVlbGk8JKlJkyZq1qyZ+e9+/fpp//79VZaxtc/NiRMnlJ2drY4dO0q6dE1tWlpalWVsbUwuGzFiRI2nUUu2NSZHjx5Vjx495OLiIunSeyQ9Pb3KMrb2XSJJt912mySpXbt2+tOf/qSVK1dWmW9L75ErXfleCA8P19q1a6sts2nTJvXr10/u7u5yd3dXv379tGnTJkuX2qDU5Xf/W0X//v01efJkDRkyROfPn69xmYY6Hla/m5mtTgMGDDB++OEHIzMz05g6daohyfj73/9uDB482JBkNGrUyFi1apWRkZFhJCYmGh06dLB6zfU5rVy50jh27Jhx4cIFIzs723j66aeNZ5991nj22WfNZebNm2dkZmYa+/btq/Wuf7fK1LNnT8MwDGPv3r1GSkqKkZKSYgwYMMCmx6Rr167G7t27jb179xqpqanGa6+9Zki2/bm5PPXq1cu8K7Utj0eHDh2MPXv2GHv27DH2799vfrfa8udGknHHHXcYycnJxt69e401a9YY7u7uNj8mTZo0MQoKCozmzZubbbY8Jq+//rqRnp5upKamGjExMYazs7NNf5dIMv7zn/8Y33//vbFnzx6jd+/eNvkeqel3sxYtWhhbt241Dh48aGzZssXw8PAwJBl33XWXERUVZa771FNPGRkZGUZGRobx5JNPWn1f6nNMhg4damRnZxs//fSTkZeXZ2zcuNGQZLRp08ZYv369uW5Nv/vf7FNN45GRkWEcPXrU/P318h3tG/p42P3//wAAAAAAwCZxKjUAAAAAwKYRjAEAAAAANo1gDAAAAACwaQRjAAAAAIBNIxgDAAAAAGwawRgAAFTh5uam5557znzdq1cvrVu3zooVAQBQvwjGAACgCnd3d40dO9baZQAAYDEEYwAAbmK+vr5KT0/XkiVL9MMPP2j58uXq06eP/vvf/+rgwYPq3r27PDw8tGbNGu3du1fffvutunbtKkmKjIzUokWLtH37dh06dEjjx4+XJM2cOVO33367UlJS9Pbbb0uSmjVrpk8++UTp6elavny51fYXAID6YjAxMTExMTHdnJOvr69x8eJF43e/+51hZ2dnfPfdd8aiRYsMScaQIUOMNWvWGB988IHxf//3f4Yk48EHHzRSUlIMSUZkZKTx9ddfG87Ozoanp6dRUFBgODo6Gr6+vkZqaqrZR69evYxTp04Z3t7ehp2dnfHNN98YPXv2tPq+MzExMTEx3aiJI8YAANzksrKytH//fhmGoe+//17btm2TJKWmpsrPz0/33Xefli1bJknavn27PD095erqKklav369Lly4oMLCQuXn56tVq1Y19pGUlKTc3FwZhqE9e/bIz8/PIvsGAIAlEIwBALjJlZWVmf+urKw0X1dWVsrR0bHO61ZUVNS6fF2XAwDgZkQwBgDgFrdz506NHDlS0qU7TBcUFKi0tLTW5UtLS80jygAA2AL+3AsAwC3u9ddf1+LFi7V3716dO3dO4eHh11y+qKhIX3/9tVJTUxUfH6/169dbqFIAAKzDTpcuNgYAAAAAwCZxKjUAAAAAwKYRjAEAAAAANo1gDAAAAACwaQRjAAAAAIBNIxgDAAAAAGwawRgAAAAAYNMIxgAAAAAAm0YwBgAAAADYtP8PvxcAQzIEUsMAAAAASUVORK5CYII=\n",
            "text/plain": [
              "<Figure size 1152x432 with 1 Axes>"
            ]
          },
          "metadata": {},
          "output_type": "display_data"
        }
      ],
      "source": [
        "#зададим размер графика\n",
        "plt.figure(figsize=(16, 6))\n",
        "\n",
        "# введём паарметры графика\n",
        "sns.barplot(x = 'month', y = 'calls_minutes_sum',  hue = 'tariff', data=a);\n",
        "\n",
        "#введём название\n",
        "plt.title(\"Суммарное количество минут разговора пользователей по месяцам\", fontsize = 12);"
      ]
    },
    {
      "cell_type": "markdown",
      "metadata": {
        "id": "FuVbST-UCjc4"
      },
      "source": [
        "Из графика видим, что:\n",
        "* Суммарное количество минут разговора к концу года увеличивается. Это связано с увеличением количества пользователей в течение года\n",
        "* Суммарное количество минут разговора для Smart примерно вдвое больше, чем для Ultra. Это может быть связано с тем, что пользователей Smart в два раза больше. "
      ]
    },
    {
      "cell_type": "markdown",
      "metadata": {
        "id": "wJ0yNrwICjc4"
      },
      "source": [
        "**3.3.3 Распределение количества сообщений**"
      ]
    },
    {
      "cell_type": "markdown",
      "metadata": {
        "id": "ShHefNMVCjc4"
      },
      "source": [
        "График среднего количества сообщений по месяцам"
      ]
    },
    {
      "cell_type": "code",
      "execution_count": null,
      "metadata": {
        "id": "NTNixZcGCjc5",
        "outputId": "55e85b87-6b73-433f-c780-dbc79bb21aef"
      },
      "outputs": [
        {
          "data": {
            "image/png": "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\n",
            "text/plain": [
              "<Figure size 1152x432 with 1 Axes>"
            ]
          },
          "metadata": {},
          "output_type": "display_data"
        }
      ],
      "source": [
        "#зададим размер графика\n",
        "plt.figure(figsize=(16, 6))\n",
        "\n",
        "#введём параметры графика\n",
        "sns.barplot(x='month', y='message_count', hue=\"tariff\", data=revenue, capsize=.2);\n",
        "\n",
        "#введём название\n",
        "plt.title(\"Среднее количество СМС для каждого тарифа по месяцам\", fontsize = 12);"
      ]
    },
    {
      "cell_type": "markdown",
      "metadata": {
        "id": "O_JYJ0qiCjc5"
      },
      "source": [
        "Из графика видим, что в среднем пользователи Ultra активнее пользуются СМС. Во второй половине года доходит до 1,5-2 раз. Ещ1 видим рост среднего количества смс в тарифе Ultra, в то время как для Smart, на фоне роста числа пользователей, количество сообщений остаётся постоянным. Вероятно общее число сообщений для Smart растёт пропорционально числу пользователей, в то время как для Ultra число сообщений опережает рост числа пользователей. Проверим это."
      ]
    },
    {
      "cell_type": "markdown",
      "metadata": {
        "id": "bjB998kACjc6"
      },
      "source": [
        "Рассмотрим суммарное количество СМС по месяцам"
      ]
    },
    {
      "cell_type": "code",
      "execution_count": null,
      "metadata": {
        "id": "n9wKjVr7Cjc6",
        "outputId": "19b8fa80-90ee-4335-afa7-6f12822e1a56"
      },
      "outputs": [
        {
          "data": {
            "image/png": "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\n",
            "text/plain": [
              "<Figure size 1152x432 with 1 Axes>"
            ]
          },
          "metadata": {},
          "output_type": "display_data"
        }
      ],
      "source": [
        "#зададим размер графика\n",
        "plt.figure(figsize=(16, 6))\n",
        "\n",
        "# введём паарметры графика\n",
        "sns.barplot(x = 'month', y = 'message_count',  hue = 'tariff', data=a);\n",
        "\n",
        "#введём название\n",
        "plt.title(\"Суммарное количество СМС по месяцам\", fontsize = 12);"
      ]
    },
    {
      "cell_type": "markdown",
      "metadata": {
        "id": "PP1rYRL9Cjc6"
      },
      "source": [
        "Из графика видим рост общего числа СМС по месяцам. Несмотря на то, что пользователей Smart практически вдвое больше по еоличеству, по кличеству СМС превышает только на 20 % "
      ]
    },
    {
      "cell_type": "markdown",
      "metadata": {
        "id": "5Xf-C8I4Cjc7"
      },
      "source": [
        "**3.3.4 Распределение трафика по тарифам**"
      ]
    },
    {
      "cell_type": "markdown",
      "metadata": {
        "id": "xXAU8k8HCjc7"
      },
      "source": [
        "Рассмотрим средний объём трафика на пользователя для каждого тарифа по месяцам"
      ]
    },
    {
      "cell_type": "code",
      "execution_count": null,
      "metadata": {
        "id": "5mI3WiPgCjc7",
        "outputId": "bc8a894c-eaf8-4af9-d6cc-f31ebaaaf7d1"
      },
      "outputs": [
        {
          "data": {
            "image/png": "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\n",
            "text/plain": [
              "<Figure size 1152x432 with 1 Axes>"
            ]
          },
          "metadata": {},
          "output_type": "display_data"
        }
      ],
      "source": [
        "#зададим размер графика\n",
        "plt.figure(figsize=(16, 6))\n",
        "\n",
        "#введём параметры графика\n",
        "sns.barplot(x='month', y='mb_used_sum', hue=\"tariff\", data=revenue, capsize=.2);\n",
        "\n",
        "#введём название\n",
        "plt.title(\"Средний объём трафика для каждого тарифа по месяцам\", fontsize = 12);"
      ]
    },
    {
      "cell_type": "markdown",
      "metadata": {
        "id": "4xul-2jyCjc8"
      },
      "source": [
        "Начиная с 5-го месяца среднее значение трафика на пользователя для двух тарифов остаётся постоянным. Для Ultra это порядка 20 Гб, а для Smart около 16 Гб. В начале года значения вдвое меньше, но и пользователей было достаточно мало, чтобы говорить о какой то статистике."
      ]
    },
    {
      "cell_type": "markdown",
      "metadata": {
        "id": "MLihLFzaCjc8"
      },
      "source": [
        "Рассмотрим абсолютное количество трафика"
      ]
    },
    {
      "cell_type": "code",
      "execution_count": null,
      "metadata": {
        "id": "79asd5_WCjc8",
        "outputId": "0f8ccc34-7175-45ed-ed0d-763a27f65ea1"
      },
      "outputs": [
        {
          "data": {
            "image/png": "iVBORw0KGgoAAAANSUhEUgAAA6cAAAGHCAYAAABMLyRvAAAAOXRFWHRTb2Z0d2FyZQBNYXRwbG90bGliIHZlcnNpb24zLjMuNCwgaHR0cHM6Ly9tYXRwbG90bGliLm9yZy8QVMy6AAAACXBIWXMAAAsTAAALEwEAmpwYAABLH0lEQVR4nO3dd3gUVf///1caJQEChCpgKEoR8DZAgoKIAlIEAQW8RUBUmqAU7/sGFeWDvaAfARVQI6IUb6TlI0U6CIiSBAiQQOihSwmEEEISSTi/P/jtfll2AwtmM4F9Pq7rXFd25syc95zdmex758yMjyQjAAAAAAAs5Gt1AAAAAAAAkJwCAAAAACxHcgoAAAAAsBzJKQAAAADAciSnAAAAAADLkZwCBVxwcLCqVaumoKAgq0MpEAIDA1WpUiWVL1/e6lAAAACQh0hOgQLmzjvv1NixY7V3715lZWXp7Nmz2r9/v5599lmrQ5MkDRo0SBUqVLC/btu2rZo0aeKx9ooUKaLXXntNGzduVHp6utLT03XkyBF9/vnnebL+QoUKKSQkRIUKFZIkhYSEqESJEnmybgAAANwYQ6FQ8r4UL17cvPnmm2bTpk3m3LlzJj093Wzfvt2MGTPGlCtXzuUyTZo0McnJyebPP/80b775pnnsscdMy5YtzSOPPGLKlClj+TZJMgsXLjTTp083oaGhpnHjxubw4cOmS5cuHmmrbNmyZuvWrSYzM9N8/vnn5sknnzQtW7Y0LVu2NHfddVeetNG7d29jjDG9e/c2kowxxqxevdryfrai2PqiefPmlsdCoXh7GT16tDHGmNDQUMtjoVAolHwslgdAodx25e677zb79+83OTk5Zvbs2WbQoEGmX79+ZvLkySYrK8ucOnXK3H///Q7LBAUFmaSkJLNt27Zck9eCUBo0aGCOHz9ubBYvXmx8fX090tacOXNMamqqady4sce2p0KFCqZly5amQoUKRpJp2bKladCggeX9bEUhOaVQCk4hOaVQKF5aLA+AQrmtStGiRc3OnTtNVlaWeeyxx5zmN2zY0KSkpJgTJ044JKGDBg0yOTk5pk6dOpZvw/VKYGCgCQ8PN7Vq1fJYG3Xq1DHGGDNgwADLt9dbCskphVJwCskphULxxsI1p0Ae69Onj2rVqqVx48bpl19+cZq/adMmjRw5UuXKldPw4cPt0x966CHt3btXbdu21fbt25WZmanTp09r/vz5atCggdN6jDGaMmWKw7TmzZvLGKPevXs7TO/du7eMMWrevPl111G6dGmdPn3aaT1XruPChQuKjY3Vrl279Pzzz8sYI2PMDfXRpk2bdOHCBZ09e1ZLly5V06ZNnbZFkrKzs7V27VqdP39e58+f1x9//KGnnnrKoW5cXJw9hhuNpWXLllq6dKlSUlKUkZGhrVu3asCAAU71kpKSZIxRVFSU07x69erZ272676+2evVqp1ivLrb35Mr38+WXX9auXbuUkZGhXbt26eWXX3Zad3h4uKZMmaJdu3YpPT1d586d02+//abOnTu7jOWZZ57R3r17lZ6erunTp9tvulWuXDn98ssvunDhghITE9WxY0eH5UJDQ2WM0ejRox2m16xZU1lZWU6ftdGjR8sYo9DQUPu0okWL6tdff9W5c+ccrlmuVauWJkyYoISEBJ07d07p6enauHGj+vTpc81+dSW3vk5KSnJZ3xanq3Jl7La+i46O1pkzZ9xa95Vy208/+eQTGWM0ZMgQ+7RixYrp3Xff1YYNG3Tq1CllZmZqz549+vDDD1W0aFGH5f/5z38qJydHH374ocP0KVOmOO0TjRo10rlz57RgwQL5+fk5zLO9v67K1e+5JNWvX1/z5s1TcnKyMjIytH37dg0fPly+vo5fMWxxuCqdOnWy1/Pz89OIESO0fft2ZWRkKDk5WfPmzVO9evWu27fXeg9dvUdPPfWUfv75Zx08eFCZmZk6deqUoqKiVL9+fad1JyUlafXq1QoLC9PKlSuVlpam06dP6/vvv1fZsmUd6uZ2zL3W8fKVV17R0aNHlZqaqvHjx9vfl7vvvlvr169XRkaGNm3a5HSNv4+Pj0aOHKk1a9bozz//VFZWlg4ePKiJEyeqdOnS1+2zK+O9Vrl6H3D3fc/NzR5TCxUqpNdff10JCQnKyMhQSkqK5s+fr/vuu89lO3379tWGDRuUlpamtLQ0bdu2TW+//bZDndq1a2vWrFk6fPiwsrOzHbb7yvfQ1b5ks3r1aqf9/0b2X9tx4er9webTTz+94f9vwK3I3+oAgNtN165dJUnffPNNrnW+//57jRs3Tl26dLEnqGXKlFHNmjX12WefaeXKlfrqq69UpkwZDRw4UOvXr1fr1q21bt06j8f/3nvvuf2Fpnjx4vrggw9uaP0fffSRXn31VUVHR2vkyJEqXry4+vfvr9WrV6tTp05avHixpMv9IUnffvutdu/erffff19//fWXevXqpZ9++kmhoaH65JNPJEkjR460x9y/f3899NBDbsXSr18/ffXVV9qwYYPef/99paen69FHH9VXX32lGjVqaMSIEQ71L1y4oA4dOqhy5co6cuSIffpLL72kCxcuKDAw8Lptvv/++/r222/tr8eOHavk5GS9//779mn79u1zWGbw4MGqUKGCvv76a6Wlpal79+764osvVLp0ab3zzjv2ek888YT9S9bBgwcVEhKi3r17KyoqSs8884z++9//2us+/vjjmjZtmrZu3arx48crPDxco0aNkiSNHz9ec+fO1bJly9S/f3/NnTtXrVq10po1a665bePGjbPfWOpaChcurPnz56tRo0Z67LHH9Pvvv9vnPfzww3rooYe0cOFCJSUlKSgoSN26ddO3336rsmXL6qOPPrru+q906tQpvfLKK/bXb7zxhtOXwqsNGzZMycnJkqQnn3xSTz75pMP8Tp06acaMGdqxY4feeecdnTp1yu115+bdd9/Vf/7zHw0fPtzhZl+VKlVS3759NXfuXP3444/Kzs5W8+bNNWLECIWFhalt27b2uj/99JPKlCmjL7/8UidOnNC4ceNctlWzZk398ssv2rJli7p166acnByX9ebNm6d58+ZJurw/ulpfw4YNtWbNGl28eFETJkzQ8ePH9fjjj2vMmDH6xz/+oZ49ezot42raxo0b7X/PmDFD//znP7Vs2TJNmjRJFSpU0EsvvaQ//vhDzZo105YtW1zGa4t579699te248GVbZ4/f97+98svv6zTp0/rm2++0fHjx1WjRg31799f69evV4MGDRzWJUmVK1fWypUrNXfuXM2ZM0cNGjTQCy+8oEaNGik8PFwZGRm5xnat4+XLL7+szz77TL/++qtmz56t9u3b23+U/O677zR16lT9/PPPGjp0qJYuXapGjRpp165dki4na8OHD9fcuXP1888/Kz09XeHh4erTp48efPBBNWzYUBcvXsw1riu9//77SkxMdJjmah+4mffdlRs9pvr7+2vJkiVq0qSJpk2bpi+//FLBwcHq16+f1q9fr4ceekibNm2y1582bZp69uxpP8afPXtWtWvXVteuXe0/tBQrVkzLli1TSEiI/YexnJwcNWvWzOUPlTfiRvbfK/tk0KBB+vnnn+3TihQpoueff97t/zPArc7y07cUyu1UkpOTTWpq6nXrbd261RhjTFBQkJFkVq9ebYwxZvbs2Q71atSoYS5cuGASEhIcphtjzJQpUxymNW/e3Bjz/27uYyu5Dde8eh333nuvuXjxoomKinJaj6t1fPLJJyYtLc0sW7bMmMs/516z1KxZ0+Tk5Jh169aZgIAA+/SKFSualJQUk5SUZL9+1Takbf/+/aZEiRL2ukWLFjVbtmwxWVlZ5o477nBqY8qUKW7FUqFCBZORkWFmzJjhNG/cuHEmOzvbVKtWzT4tKSnJ/Prrr2bPnj3m3XfftU8vXry4OXfunJk8ebLLvr9eSUpKyvUGTLb389y5c6ZSpUr26QEBASY6Otr89ddfDtMDAwOd1mEbZr59+3aH6fHx8ebw4cMOy0RGRhpjjHnzzTft00qVKmWSk5PN+vXr7dNCQ0ONMcaMHj3aPq19+/bGGGP/7Fz5OblyeGJAQIBZtGiRuXDhgmnRooVTvK62wcfHx6xevdqcPXvW+Pv7u923v/32m9m3b5/DtNWrV5ukpCSX9d977z1jjDFVqlRxGbtt2vTp040xxunzd611X2s/ffPNN40xxowcOdKpbkBAgMttfuedd4wxxoSHhzvNGz16tMnJyTE9e/Z02ifuuOMOc+DAAbNlyxYTHBzsMr677rrLGGPMqFGjrvme2/r44sWLpn79+g7Tf/rpJ2OMcXiP3dk3W7VqZYwxZubMmQ7TbcemtWvX3tD+db02XX3eateubTIzM82ECRMcpiclJRljjBk6dKjD9GHDhhljjHn11Vft027keBkQEGCSk5NNTEyM8fPzs3/mlyxZYowx9vdRuvz/4K+//nI6bhUpUsRpO1544QVjjDHdunW7bj9da0i/q33gRt733MrNHFNtfd26dWuHdRUvXtwcPHjQ4VjarVs3Y4wxU6dONT4+Pg71r3xt+8xdvf+56pNrfZ5c7f83sv/ajguTJ082OTk5Djf9e/75583Zs2fN7Nmzr7sPUSi3emFYL5DHSpQoodTU1OvWO3funKTLzzG90nvvvefwet++ffrxxx9Vt25d1apVK+8CdWH8+PHavXu3vvzyy+vWvfvuuzVkyBB9+OGHOnr0qFvr79Spk3x9fTVmzBiHX/L//PNPTZkyRVWrVlVYWJhTTLa+kqSMjAx9+umnKlSokB5//PFc2woJCVFISIiKFy/ucn7Xrl1VpEgRTZ482V7XVmxDHVu1auWwjDFGX331lfr27St//8sDT3r37q2srCzNmjXLrT64GTNmzHDo44sXL2rs2LEKCAhw6IMLFy7Y/y5atKhKly6twMBArVq1Svfcc4+9LypWrKh69epp/vz5Dsv89ttvkuRwhj4lJUWLFy/W/fffn2tfBgQE6LPPPtPy5cv1f//3f7luh7+/v2bNmqU2bdroiSee0KpVq5zqXBlP4cKFVbp0aZUuXVrLli1TcHCwateunev6r1a0aFFlZma6Xd921jcrK+ua9YoXL66cnBydOXPG7XXn5j//+Y/effddvf/++y7Pql28eFHZ2dmSLg93LVmypEJCQrRixQpJUuPGjZ2WefvttxUZGanvvvtO7dq1s08vWbKkli5dKklq06ZNrscp29nf6/Vd2bJl1bRpU82fP1/x8fEO82wjAZ544olrruNqtvpXjiSQpG3btmnBggVq1qyZfVRFXrjy81a8eHGFhITo1KlT2rVrl8u+TU1N1cSJEx2mTZw4Uampqdfc1msdLxs1aqSQkBDNnj3bfhbbGKM//vhDkuP+uG/fPkVHR6t169YO67C9V76+vgoODlZISIh9/3K1HX9HXr7vN3pM7dmzpxITE7Vp0yaHY3ahQoW0fPlyPfjggypSpIgkqUePHpIu72PmqqGwV762HddsoyXy0s3sv2vXrtX27ds1cOBA+7RBgwZp2rRpDmf9gdsVySmQx86dO+fWczJtdWxfEI0xysnJ0Y4dO5zq2r4AVK9ePQ8jddS1a1c9/PDDGjZsmP2f6bWMHTtWR44c0f/+7/+63Ua1atUkSdu3b3eaZ5tm20bbl4eEhASnuu70R3JyspKTk3Xu3Dmlpqbqp59+0l133WWfX6dOHUnSypUr7XVtxfbFoXz58k7r/e6771SiRAl16dJFkjRw4EB99913N5QE3airh9lJsn9OruyDsmXL6uuvv9bx48d14cIFnT59WsnJyfYvOSVLlpQk+7Vjhw8fdqv9Q4cOydfXV1WqVHE5f+jQoapWrZqGDRt2zfV899136ty5s/z8/FSqVCmXdYKCgvTJJ5/YrwG0bYMtccttOVcqVKjg1g9FNrZ1X/ljiCtr1qyRn5+fvv76a9WqVcv+BTkgIMDttqTL117bhqZfK+EaOHCgtm7dqqysLKWkpCg5Odk+xDq3/qhYsaICAgI0e/Zs+7V4ixYtUr169VSqVKlrDr+2Pcf4en13rf05MTFROTk5N3zMqlatmnJyclx+5m3t2NrNC/fdd58WLFigtLQ0nTt3zn4MuPfee1327f79+52GyP7111/av3//Nbf1WsfLm9kfy5Qp4zC8s1u3btqwYYMyMjJ09uxZJScn269/vJF9xh15/b7fyDG1Tp06qlOnjtMxOzk5WX369JG/v799X7r77rt17NgxnTx58prtx8TEKCMjQyNGjNAjjzyicuXKKSQkRMWKFXN7G67lZvbfiRMn6rnnnlORIkUUERGhRo0aOf0oAtyuCuQ1p5MnT1aHDh108uRJlzcluFq3bt301ltvyRijrVu32n8tA6yQkJCg5s2bq0aNGk7XDtoULVpUtWvXVlJSktLT0yXJfq3S1b/w5ociRYro008/1c8//6zly5c73cTjau3atVP79u31xBNPXPcs0836u/1hO+tZuHBhNWrUSCNHjlRERITuvvtuZWdny8fHR5LUq1cv/fnnny7XsX//fqdpKSkp+umnnzRo0CCdPHlStWrVUocOHXTnnXfeVJx5admyZapTp47Gjx+vjRs3KjU1VTk5OXr++efVo0cPt29Ukhtbn12pfPnyGjVqlCZOnKgdO3YoPDw81+WbNGmi7t2768UXX9SECRO0du1aHTt2zKHOjz/+qA4dOuibb77R2rVrdfr0aeXk5Oixxx7Tv/71L7e3ISgoSOXLl7/udbJXuuOOO5SSknLdHxo+//xzValSRQMGDNCzzz7rMO/AgQNut9esWTN98cUXSk1N1Ztvvqmff/7Zfs21zSuvvKLPPvtMS5cu1eeff65jx47pr7/+UqVKlfTDDz+47I9nnnlGHTt21IABA9StWzf7vlC3bl21bt1aM2bMUGRkpMvr3STZf8S5kW25FVWpUkVr167VuXPn9O6779pvJGaM0bhx4/IsOfHU8dK2Pz7xxBOaNWuWoqOjNXToUB0+fFiZmZny8/PT0qVL//Z+72k3ckz18fHRtm3b9K9//SvX9dmuAXfX0aNH1a1bN02YMMHlaI6/42b2X+nytbIff/yxunfvrocffli//vqryx9sgNtRgUxOv//+e3355ZeaOnXqdeveddddev3119W0aVOdPXvW6Y55QH6bN2+emjdvrr59++r11193WefZZ59VoUKF7DcbkS4P1/Lz81OdOnWchkrZ7lKZW7L7d40YMULly5e/5j98m4CAAI0dO1YrVqy45hBOV2zJXt26dZ0Sv3vuucehjm1b69at6/SFwZ3+WLlypf3vX375RSVLltQrr7yie++9V5s3b9aePXskXT7DemVdd0yYMEEbN27Up59+qqVLlyopKcmjyantLO+Vru6ve++9V/fdd5/efvttvfXWWw51+/bt6/DaduOR3M6EXs22ba6Gb3/44YfKyspyeRfXqw0YMEAzZ87UH3/8oW3btmnKlClq06aNfX5wcLA6dOigadOmOQxpk+Q0xPp67r//fvn5+SkmJsbtZerXr+/yTP3VsrOz9corr6hy5cpq1aqVevfurfT0dP3v//6v0zD9a5k6daqGDBkif39/tWvXTpMnT1a9evUchgv36tVLSUlJateuncMPNVf225XKli2r8ePHa/Hixfrmm280Y8YM/fHHH6pfv746duyotWvXasiQIfrvf/+r559/3ulu3dLlHxEuXbqk2NjYa8ZvOzNXt25dp3m1a9eWn5+fyx94rmX//v25Hgdtn3l37ojsjieeeELFixdXx44d9euvvzrMCwkJcZlIVq9eXQEBAQ5nTwsVKqTq1atr586dTvXdOV7ezP6YkpJi/2GzV69eysjI0COPPOJwQyZPXQbiiffd3WPqnj17VLZsWa1ateq6P1zu3r1bnTt3Vrly5a579nTRokWSpIULF+qDDz7QqlWr1Lp1a6eb4t2oG91/bdLT0zV16lT9+9//Vo0aNZx+BANuZwXy57R169Y5XctTvXp1LV68WBs3btTatWvtB91+/fppwoQJOnv2rKQb/8UMyGvffvut9uzZo3/9618u/wGFhYXpww8/1MmTJ+1D+iTZ78x3dUJbtWpVPfPMM9q+fbt2796d5/FWqVJFI0aM0NixY936QjFkyBBVr15dQ4cOveG25s+fr0uXLmn48OH264uky8MIn3/+eR04cEBxcXGSpBUrVig9PV2DBw92OINRpEgR/fvf/9Zff/2lhQsXut227To62zVds2bNUmZmpt5++237NUpXKlGiRK5DHzdt2qSYmBg1aNBAkyZNcjuGm9WjRw9VqlTJ/jogIECvvPKKsrOz7X1g266rz27WrVvX6fqvI0eOaPfu3Xr88ccd7i5re5xPs2bN7NOCg4PVtm1bbdy40X6ctQkPD1fv3r315ptvujV81vYjwMGDBzVs2DC1bt1aL730kn1+bttQoUIFpwT7evr06aOcnBy3f0Bp2bKlqlSpoiVLlrhVf+jQoeratauee+45zZ8/XytXrlRKSsoNxWj70SU7O1u9evVSyZIl9fXXXzvUycnJkTHGoU/8/Pz02muvuVznxIkTVahQIfXv31/S5S+5truXrl27VpI0c+ZM/fzzz/rss89UsWJFh+VDQkLUsWNHrVmz5rrbc+rUKa1fv16PP/64U6JiO465ekzItdjer6uPg3Xr1lXHjh21bt26PLs2MLfPW9++fZ36xSY4OFiDBg1ymDZo0CAFBwe7/Ky5c7y0jXLo2rWr/Uyaj4+PHnjgAUmO+2O1atUUERHh8IOa7TNy9Vm4N998M9c2/w5PvO/uHlOnTp2qihUr5vpDarly5ex/z5gxQ5I0ZswYl6M+rlS1alVNnTpV8+bN0xtvvKGVK1e6vMTmRt3o/nuliRMnqm7dukpJSbnh/gRuZQXyzKkr33zzjV588UXt3btXERERmjhxolq2bKmaNWtKunwjDz8/P7311lv2Gz4AVrhw4YI6duyoJUuWaNGiRZo7d65+/fVXZWdnKyIiQr169dL58+fVuXNnnThxwr7cypUrNWfOHHXv3t1+Ux7bo2R8fX2dziRJl29Tf2UCfO+990q6fAboyum24fERERE6cuSIwxnHli1b6tixY043IMnN448/rs8///ym/nHv3r1bn3zyiV599VWtXbtWP/30k/1RMsWKFVOPHj106dIlSZev+3vttdf0xRdfKCYmRj/88IMuXryoXr166b777tOIESOchoReyTa83zast1+/ftqxY4f9bMzRo0c1cOBAffvtt0pMTNS0adN08OBBlS1bVvXr11fnzp11zz336ODBgy7X/8gjj6ho0aI6ffr0DffDjdq9e7eio6P11VdfKS0tTc8884wiIiL0zjvv2M+6JCYmKiEhQSNGjFBgYKB27dqlmjVrasCAAYqPj1ejRo0c1vnmm29q1qxZ+u233/T9998rPDzcfnZy4MCBKl++vPbu3av+/furVKlSLh8N0b59e8XFxSkyMvKGt2nKlCnq1KmTxowZo+XLl2v37t06f/68li1bpp49eyojI0OxsbEKDQ3VgAEDlJSU5NaNcKpVq6bBgwere/fuSkxMVNOmTR2eoVu+fHkFBQWpR48eioqKUuHChfXGG29owIABOnjwoCZMmHDdNpo0aaIxY8bo448/dnjcw9+RmJiokSNHauzYserZs6emT58uSZozZ44++ugjLV68WPPmzVOJEiX0zDPPuHw0SJcuXdS1a1e9+OKLDo/lcOXFF1/Ujh079NVXX9mfqdi6dWu99957KlGihPbs2eNwiYyt7++99161atXKfl320KFDtWbNGq1bt87+SJEOHTqobdu2mjFjxg0Pk1yxYoV++uknde/eXaVKldLChQvtj5LJzMx0eAbs37V48WKlp6fbH0mSkpKipk2b6rHHHtPevXsdfkCz2bt3r0aPHq169epp06ZNatiwoV544QUlJiY6PALIxp3jZWZmpt5//32NGTNGK1as0OzZs9WhQwf78fy9995TrVq1lJaWpiFDhignJ8fhEVJz5sxR165dtWrVKk2dOlUBAQHq3LmzRx85ktfvu+TeMXX8+PF69NFH9emnn6pFixZatWqVzp07pzvvvFMtW7ZUZmamWrRoIelyv8ycOVO9e/fW3Xffrfnz5yslJUU1a9ZUmzZt7P8XCxcurDlz5ig5OVnPPfecW7G6+uG5dOnSKlq0qNq0aaM1a9YoMzPzhvbfqyUmJqp06dLKzs526z4QwO3E8lsGuyqhoaEmPj7eSDJBQUHmwoULJi4uzl527NhhJJkFCxaYefPmGX9/f1O1alVz6NChXG+PT6HkZylRooQZNWqUiYuLM2lpaebChQsmMTHRfPLJJ6Z8+fIul/H39zevv/662bFjh8nMzDRnzpwx8+fPNw0aNHCqe7OufBSETa9evRzW7eqRNLbb6p86dcqULFnSob67j2+xlb59+5rNmzebjIwMk5qaapYtW2YefPBBl3W7dOlifv/9d5Oenm7S09PNH3/8YZ566qlc122LxSYrK8vs37/fTJgwwVSsWNGpfpMmTcy8efPMiRMnTFZWljl69KhZtWqV+de//mUKFy5sr3etR77k1mfuFHceJdO7d28zePBgs3v3bpOZmWl2795thgwZ4lT/zjvvNLNmzTInT5406enpJjo62nTu3NnloyBs7+n+/ftNenq6mT59uhk4cKAxxpiuXbuaX375xWRkZJhdu3aZLl26OCxne6yIMcY0a9bMaZ3G5P4omSvrli1b1pw4ccJER0fbH6EREhJiIiMjzdGjR01GRobZtm2b6du37zUfdeGqfXeEhoaae++91xw4cMBMmDDB5X55dezlypUzR44cMatWrbI/9shWbvZRMleWlStXmpSUFPvjbHx9fc1rr71m9uzZYzIzM82BAwfMxx9/bGrXru2wP5cqVcr8+eefZuXKlbnuE7n11TPPPGOP3x1Xf17vvfdeExUVZU6fPm0yMzPNjh07zPDhw536x93jhJ+fnxkxYoT9OHj69GkTFRVl6tWrd0P7ljttNmvWzKxbt86cO3fOpKSkmIULF5q6deu6fC9t+2pYWJhZuXKlOX/+vDlz5oyZOnWqKVeunMu+vZHj5YgRI8yxY8dMamqqGTdunHn77beNMca0bNnSrF+/3mRkZJi4uDjz0EMPOS3bt29fs337dpORkWGOHTtmvv76a1OqVCljjPMjx66137j7KJkbed9zKzd7TPXz8zODBw82MTEx5vz58+b8+fNm9+7dZvr06ebRRx91qOvj42MGDRpkNm3aZNLT0825c+fM1q1bzf/8z//Y63z77bfm/PnzTp+vaz1K5npsfeXu/nu948KN7kMUyi1eLA/AZbkyOS1evLg5duyYy3qTJk0yzz33nP31ihUrTKNGjSyPn0IpiGX16tVOzymkFNxyswnvzRZ3E8CCXHr37n3dBNGWXF/9ZdvbizvHh9GjR18zobidy/WSqbwuuSWFlIJbOLZQKH+/FMhrTq+WlpampKQkde3a1T7NNtzl//7v//Twww9LunytTM2aNW/4QnwAAAAAgLUKZHL6448/6o8//lCtWrV0+PBhvfDCC+rRo4f69OmjLVu2aPv27fZrZJYuXarTp09r+/btWr16tYYPH54nD0YHbkcxMTHau3ev1WEAHrNv377r3jzk/Pnzmj59Og+0v8ry5cu1bdu2a9bZtm2bli9fnk8RAbeWjIwMLVmyxOGuyQBunOWnbykUCoXiXBjWS6EUnMKwXgqFQvF88fn//wAAAAAAwDIFclgvAAAAAMC7FKjnnJ48eTLXZwoCAAAAAG5toaGhKleunMt5BSo5PXjwoMLDw60OAwAAAADgAbGxsbnOY1gvAAAAAMByJKcAAAAAAMuRnAIAAAAALFegrjl1pVSpUho2bJiqVq0qHx8fq8PJV8YYHThwQOPGjVNKSorV4QAAAACAxxT45HTYsGHauHGj3nnnHeXk5FgdTr7y8/NT+/btNWzYMI0ePdrqcAAAAADAYwr8sN6qVavql19+8brEVJJycnK0aNEiVa1a1epQAAAAAMCjCnxy6uPj45WJqU1OTo7XDWcGAAAA4H0KfHLqCcHBwRo4cOANL7do0SIFBwdLkgYPHqwdO3Zo+vTpKlSokJYvX664uDg99dRTeR0uAAAAANz2Cvw1p55QsmRJDRo0SJMmTXJ7GR8fH7Vv397+etCgQWrVqpWOHj2qxo0bS5LCwsLyPFYAAAAA8AZeeeb0o48+Uo0aNRQXF6fPPvtMK1as0KZNm7Rt2zZ17NhRkhQaGqqdO3fqhx9+UEJCgqpUqaKkpCSFhIRo0qRJql69uhYvXqwRI0Zo+vTpCg8PV1xcnKpXr27x1gEAAADArckUlBIbG+s0berUqXneTmhoqImPjzeSjJ+fnylevLiRZEJCQsyePXvsdXJyckzjxo3tyyUlJZmQkBCnv5s3b24WLFjgsX7xRB9QKBQKhUKhUCgUSn4XVzmfrXjlsN4r+fj46IMPPtBDDz2kS5cuqVKlSipfvrwk6eDBg4qOjrY4QgAAAAC4/Xl9ctqjRw+VLVtWDRs2VHZ2tpKSklSkSBFJUnp6usXRAQAAAIB38MrkNC0tTcWLF5d0+c69J0+eVHZ2th5++GGeKQoAAADA4ybGrMnX9gZFNM/X9m6GVyanZ86c0fr16xUfH6/Y2FjVrl1b27Zt08aNG5WYmGh1eAAAAADgdTyenAYHB+vbb79VvXr1ZIzRCy+8oA0bNni62evq0aPHdevUr1/f4XW1atVc/r1mzRqtWZO/v3wAAAAAwO3E48np+PHjtWTJEnXr1k0BAQEKDAz0dJMAAAAAgFuMR5PTEiVK6KGHHtJzzz0nSbp48aJSU1M92SQAAAAA4Bbk68mVV6tWTadOndKUKVO0efNmRUZGOp057devn2JjYxUbG6syZcp4MhwAAAAAQAHl0eTU399fDRo00KRJk9SgQQOlp6frtddec6gTGRmp8PBwhYeHKzk52ZPhAAAAAAAKKI8mp0eOHNGRI0cUExMjSZozZ44aNGjgySYBAAAAALcgjyanJ06c0OHDh1WzZk1JUsuWLbVjxw5PNgkAAAAAuAV5NDmVpMGDB2vGjBnaunWr7rvvPn3wwQeebvKW9Prrr1sdAgAAAABYxuOPktm6davCw8PzbH0TY/L2eaKDIprn6fpuho+Pj0aOHKkPP/zQ6lAAAAAAwBIeP3N6OwgMDNTChQu1ZcsWxcfH66mnnlJSUpI++OADxcXFKTY2VmFhYVqyZIn27t2rAQMGSJKCgoK0YsUKbdq0Sdu2bVPHjh0lSaGhodq5c6d++OEHJSQkaPLkySpatKji4uI0ffp0KzcVAAAAACzh8TOnt4O2bdvq2LFj6tChg6TLz2/9+OOPdejQIYWFhemzzz7T999/r6ZNm6pIkSJKSEjQ119/rczMTD3xxBNKS0tTSEiINmzYoPnz50uS7r77bvXu3VvR0dGSpG7duiksLMyybQQAAAAAK3Hm1A3x8fF69NFH9dFHH+nBBx/UuXPnJMmeaMbHxys6Olrnz59XcnKysrKyFBwcLB8fH33wwQfaunWrVqxYoUqVKql8+fKSpIMHD9oTUwAAAADwdpw5dcOePXvUoEEDPfbYY3rvvfe0cuVKSVJWVpYk6dKlS/a/ba/9/f3Vo0cPlS1bVg0bNlR2draSkpJUpEgRSVJ6enr+bwgAAAAAFFAkp26oWLGizpw5oxkzZujs2bPq27evW8sFBwfr5MmTys7O1sMPP6yqVavmWvfixYvy9/dXdnZ2HkUNAAAAALcOklM31K9fX5988okuXbqkixcvauDAgZozZ851l5sxY4YWLFigbdu2aePGjUpMTMy17jfffKNt27Zp8+bN6tmzZ16GDwAAAAAFno8kY3UQNrGxsU6PnZk6daqeffZZiyIqGOgDAAAA4PaS14/IvJ6C8AhNyXXOZ8MNkQAAAAAAliM5BQAAAABYjuQUAAAAAGA5klMAAAAAgOVITgEAAAAAliM5BQAAAABYjuT0b5gyZYq6dOkiSRo6dKiKFi1qcUQAAAAAcGvytzqAG5V+YUWeri8osFWerGfYsGGaPn26MjIynOb5+vrq0qVLedIOAAAAANyOOHPqhtDQUMXHx9tf//vf/9bo0aPtrwcPHqw77rhDq1ev1qpVqyRJaWlp+vTTT7VlyxY98MADGjVqlGJiYhQfH6+vv/4637cBAAAAAAoyktM88MUXX+jYsWN65JFH1KJFC0lSsWLFFB0drfvuu0/r16/Xl19+qYiICNWvX19FixZVhw4dLI4aAAAAAAoOklMPyc7O1ty5c+2vH3nkEW3YsEHbtm1TixYtVLduXQujAwAAAICC5Za75tQK2dnZ8vX9f3l8kSJFrrtMZmam/TrTwoULa+LEiWrUqJGOHDmi0aNHu7UOAAAAAPAWnDl1w4kTJ1SuXDmVLl1ahQoVcjkkNy0tTcWLF3e5vC0RTU5OVlBQkLp27erReAEAAADgVsOZUzdkZ2frnXfeUUxMjI4ePaqdO3c61fnmm2+0ZMkSHTt2zH7dqU1qaqoiIyOVkJCg48ePKzY2Nr9CBwAAAIBbwi2XnObVo19u1BdffKEvvvgi1/lffvmlvvzyS/vrq8+ijho1SqNGjfJYfAAAAABwK2NYLwAAAADAciSnAAAAAADLkZwCAAAAACxX4JNTY4z8/PysDsMyfn5+MsZYHQYAAAAAeFSBT04PHDig9u3be2WC6ufnp/bt2+vAgQNWhwIAAAAAHlXg79Y7btw4DRs2TF26dJGPj4/V4eQrY4wOHDigcePGWR0KAAAAAHhUgU9OU1JSNHr0aKvDAAAAAPA3TIxZk29tDYponm9tIe8U+GG9AAAAAIDbH8kpAAAAAMByJKcAAAAAAMuRnAIAAAAALEdyCgAAAACwHMkpAAAAAMByJKcAAAAAAMuRnAIAAAAALEdyCgAAAACwHMkpAAAAAMByJKcAAAAAAMuRnAIAAAAALEdyCgAAAACwnL+nG0hKSlJaWppycnKUnZ2t8PBwTzcJAAAAALjFeDw5laRHHnlEp0+fzo+mAAAAAAC3IIb1AgAAAAAs5/Hk1BijZcuWaePGjerXr5/T/H79+ik2NlaxsbEqU6aMp8MBAAAAABRAHh/W++CDD+rYsWMqW7asli9frp07d2rdunX2+ZGRkYqMjJQkxcbGejocAAAAAEAB5PEzp8eOHZMknTp1SlFRUYqIiPB0kwAAAACAW4xHk9PAwEAVK1bM/nfr1q2VkJDgySYBAAAAALcgjw7rLV++vKKioi435O+vH3/8UUuXLvVkkwAAAIDlJsasydf2BkU0z9f2AE/waHKalJSk++67z5NNAAAAAABuAzxKBgAAAABgOZJTAAAAAIDlSE4BAAAAAJYjOQUAAAAAWI7kFAAAAABgOZJTAAAAAIDlSE4BAAAAAJYjOQUAAAAAWI7kFAAAAABgOZJTAAAAAIDlSE4BAAAAAJYjOQUAAAAAWI7kFAAAAABgOZJTAAAAAIDlSE4BAAAAAJYjOQUAAAAAWI7kFAAAAABgOZJTAAAAAIDlSE4BAAAAAJYjOQUAAAAAWI7kFAAAAABgOZJTAAAAAIDlSE4BAAAAAJYjOQUAAAAAWI7kFAAAAABgOZJTAAAAAIDlSE4BAAAAAJYjOQUAAAAAWI7kFAAAAABgOZJTAAAAAIDlSE4BAAAAAJYjOQUAAAAAWI7kFAAAAABgOX+rAwAAAMCtbWLMmnxtb1BE83xtD0D+4MwpAAAAAMByJKcAAAAAAMuRnAIAAAAALEdyCgAAAACwHMkpAAAAAMByJKcAAAAAAMuRnAIAAAAALEdyCgAAAACwXL4kp76+vtq8ebMWLFiQH80BAAAAAG4x+ZKcDh06VImJifnRFAAAAADgFuTx5LRSpUpq3769vv32W083BQAAAAC4RXk8OR03bpxGjBihS5cuuZzfr18/xcbGKjY2VmXKlPF0OAAAAACAAsijyWn79u118uRJbd68Odc6kZGRCg8PV3h4uJKTkz0ZDgAAAACggPJoctq0aVN17NhRSUlJmjlzplq0aKFp06Z5skkAAAAAwC3Io8npyJEjVaVKFVWrVk1PP/20Vq1apV69enmySQAAAADALYjnnAIAAAAALOefXw2tWbNGa9asya/mAAAAPGZiTP59pxkU0Tzf2gIAK3HmFAAAAABgOZJTAAAAAIDl3B7W6+vrq/bt26tq1ary9/9/i40dO9YjgQEAAAAAvIfbyemCBQuUmZmp+Ph4Xbp0yZMxAQAAAAC8jNvJaeXKlfWPf/zDk7EAAAAAALyU29ecLl68WI8++qgnYwEAAAAAeCm3z5xu2LBBUVFR8vX11cWLF+Xj4yNjjIKDgz0ZHwAAAADAC7idnH722Wd64IEHFB8f78l4AAAAAABeyO1hvYcPH1ZCQoInYwEAAAAAeCm3z5zu379fv/76qxYvXqysrCz7dB4lAwAAAAD4u9xOTpOSkpSUlKRChQqpUKFCnowJAAAAAOBl3E5O33nnHU/GAQAAAADwYm4np6tWrZIxxml6y5Yt8zQgAAAAAID3cTs5/c9//mP/u0iRIurSpYuys7M9EhQAAAAAwLu4nZxu3rzZ4fXvv/+u6OjoPA8IAAAAAOB93E5OS5UqZf/b19dXDRs2VHBwsEeCAgAAAAB4F7eT002bNskYIx8fH2VnZyspKUl9+vTxZGwAAAAAAC/hdnJavXp1T8YBAAAAAPBivu5W7Nq1q4oVKyZJeuONNzR37lyFhYV5LDAAAAAAgPdwOzkdNWqUzp8/r6ZNm6pVq1aaPHmyJk2a5MnYAAAAAABewu3kNCcnR5LUvn17ffPNN/rll19UqFAhjwUGAAAAAPAebienR48e1VdffaV//vOf9sTU19ftxQEAAAAAyJXb2eVTTz2lpUuXqk2bNkpNTVXp0qU1fPhw+/ySJUt6Ij4AAAAAgBdw+269GRkZioqKsr8+fvy4jh8/bn+9cuVKNWzYMG+jAwAAAAB4hTwbl+vj45NXqwIAAAAAeJk8S06NMXm1KgAAAACAl+GORgAAAAAAyzGsFwAAAABgueveEKlUqVLXnJ+SkiJJatmyZd5EBAAAAADwOtdNTjdt2iRjjHx8fHTnnXcqJSVFPj4+KlmypA4dOqTq1atL+n9JKgAAAAAAN+q6w3qrV6+uGjVqaMWKFXr88cdVtmxZlSlTRh06dNCyZcvyI0YAAAAAwG3O7WtO77//fi1evNj+esmSJWrSpIlHggIAAAAAeJfrDuu1OXbsmN544w1Nnz5dktSjRw8dO3bMY4EBAAAAALyH22dOu3fvrrJlyyoqKkrz5s1T2bJl1b17d0/GBgAAAADwEm6fOU1JSdGwYcMUGBioCxcueDImAAAAAICXcfvM6QMPPKDt27crMTFRknTvvfdqwoQJHgsMAAAAAOA93E5Ox44dqzZt2uj06dOSpG3btumhhx7yWGAAAAAAAO/h9rBeSTpy5IjD65ycnDwNBgAAFDwTY9bka3uDIprna3sAgILB7eT08OHDeuCBB2SMkb+/v4YOHWof4gsAAAAAwN/h9rDeF198US+99JIqVaqko0eP6r777tNLL73kydgAAAAAAF7C7TOnp0+fVs+ePT0ZCwAAAADAS7l95vTjjz9W8eLF5e/vrxUrVujkyZPq0aOHJ2MDAAAAAHgJt5PT1q1bKy0tTR06dNCBAwd01113afjw4ddcpnDhwoqOjtaWLVuUkJCgt9566+/GCwAAAAC4Dbk9rNff/3LV9u3ba/bs2Tp37tx1l8nKylKLFi2Unp4uf39//fbbb1q8eLGio6NvPmIAAAAAwG3H7eR04cKFSkxMVEZGhgYOHKgyZcooMzPzusulp6dLkgICAhQQECBjzM1HCwAAAAC4YekXVuRbW0GBrW5qObeH9b7++utq0qSJGjVqpOzsbKWnp6tTp07Xb8DXV3FxcTp58qSWL1+umJgYh/n9+vVTbGysYmNjVaZMmRvfAgAAAADALc/tM6e9evVyOX3atGnXXO7SpUsKCwtTcHCwoqKiVLduXW3fvt0+PzIyUpGRkZKk2NhYd8MBAAAAANxG3E5Ow8PD7X8XKVJELVu21ObNm6+bnNqkpqZq9erVatu2rUNyCgAAAACA28npkCFDHF4HBwdr5syZ11ymTJkyunjxolJTU1WkSBE9+uij+vjjj28uUgAAAADAbcvt5PRq6enpqlat2jXrVKxYUT/88IP8/Pzk6+urWbNmadGiRTfbJAAAAADgNuV2cjp//nz7nXZ9fX11zz33aNasWddcJj4+Xg0aNPh7EQIAAAAAbntuJ6effvqp/e/s7GwdPHhQR48e9UhQAAAAAADv4nZyunbt2mvO//3339WkSZO/HRAAAAAAwPu4/ZzT6ylSpEherQoAAAAA4GXyLDm1XY8KAAAAAMCNyrPkFAAAAACAm5VnyamPj09erQoAAAAA4GVu6Dmn5cuXV0REhIwxio2N1YkTJ+zzevXqlefBAQAAAAC8g9tnTvv06aOYmBg9+eST6tq1qzZs2KDnn3/ePn/79u0eCRAAAAAAcPtz+8zp8OHDFRYWpjNnzkiSSpcurd9//11TpkzxWHAAAAAAAO/g9pnT06dPKy0tzf46LS1Np0+f9khQAAAAAADvct0zp6+88ookae/evYqOjtbPP/8sY4w6deqkbdu2eTxAAAAAAMDt77rJafHixSVJ+/bt0759++zPM7UlqQAAAAAA/F3XTU7feecdSVKjRo00cuRIVa1aVf7+lxczxujdd9/1bIQAAAAAcAPSL6zI1/aCAlvla3u3K7dviDR9+nT95z//UUJCgi5duuTJmAAAAAAAXsbt5PTUqVNauHChJ2MBAAAAAHgpt5PT0aNHKzIyUitXrlRWVpZ9elRUlEcCAwDAChNj1uRre4MimudrewAAFFRuJ6fPP/+8ateurYCAAPuwXmMMySkAAAAA4G9zOzkNDw9X7dq1PRkLAAAAAMBL+bpb8ffff1edOnU8GQsAAAAAwEu5feb0/vvv15YtW5SUlKSsrCz5+PjIGKN//OMfnowPAAAAAOAF3E5O27Zt68k4AAAAAABezO3k9NChQ56MAwAAAMBNSr+wIt/aCgpslW9twbu4fc0pAAAAAACeQnIKAAAAALAcySkAAAAAwHIkpwAAAAAAy5GcAgAAAAAsR3IKAAAAALAcySkAAAAAwHIkpwAAAAAAy5GcAgAAAAAsR3IKAAAAALAcySkAAAAAwHL+VgcAALDWxJg1+dbWoIjm+dYWAAC4tZCcAgAA4JaSfmFFvrUVFNgq39oCvB3DegEAAAAAliM5BQAAAABYjuQUAAAAAGA5klMAAAAAgOVITgEAAAAAluNuvQAAAAVYft6ZVuLutACsw5lTAAAAAIDlPJqcVq5cWatWrdL27duVkJCgIUOGeLI5AAAAAMAtyqPDerOzs/Xvf/9bcXFxKlasmDZt2qTly5crMTHRk80CAAAAAG4xHj1zevz4ccXFxUmSzp8/r8TERFWqVMmTTQIAAAAAbkH5dkOk0NBQhYWFKTo62mF6v3791L9/f0lSmTJl8iscAAAAAEABki83RAoKCtLcuXM1bNgwpaWlOcyLjIxUeHi4wsPDlZycnB/hAAAAAAAKGI8np/7+/po7d65mzJihqKgoTzcHAAAAALgFeTw5nTx5shITEzV27FhPNwUAAAAAuEV5NDlt2rSpnn32WbVo0UJxcXGKi4tTu3btPNkkAAAAAOAW5NEbIq1fv14+Pj6ebAIAAAAAcBvIlxsiAQAAAABwLfn2KBkAAAB3pF9YkW9tBQW2yre2AADXxplTAAAAAIDlSE4BAAAAAJYjOQUAAAAAWI7kFAAAAABgOZJTAAAAAIDlSE4BAAAAAJYjOQUAAAAAWI7kFAAAAABgOZJTAAAAAIDlSE4BAAAAAJYjOQUAAAAAWI7kFAAAAABgOZJTAAAAAIDl/K0OAAAAb5Z+YUW+tRUU2Crf2gIA4EZx5hQAAAAAYDmSUwAAAACA5UhOAQAAAACW45pTAF5lYsyafG1vUETzfG0PAADgVsWZUwAAAACA5UhOAQAAAACWIzkFAAAAAFiO5BQAAAAAYDmSUwAAAACA5UhOAQAAAACWIzkFAAAAAFiO5BQAAAAAYDmSUwAAAACA5UhOAQAAAACW87c6AACA90i/sCJf2wsKbJWv7QEAgJvHmVMAAAAAgOVITgEAAAAAliM5BQAAAABYjuQUAAAAAGA5klMAAAAAgOVITgEAAAAAluNRMsBtbGLMmnxtb1BE83xtDwAAALcPzpwCAAAAACxHcgoAAAAAsBzJKQAAAADAciSnAAAAAADLeTQ5nTx5sk6cOKH4+HhPNgMAAAAAuMV5NDn9/vvv1bZtW082AQAAAAC4DXg0OV23bp3OnDnjySYAAAAAALcBy59z2q9fP/Xv31+SVKZMGYujAQAAAABYwfIbIkVGRio8PFzh4eFKTk62OhwAAAAAgAUsT04BAAAAACA5BQAAAABYzqPXnP744496+OGHVaZMGR0+fFijR4/Wd99958kmAaBASb+wIt/aCgpslW9tAQAA5DWPJqfPPPOMJ1cPAAAAALhNMKwXAAAAAGA5klMAAAAAgOVITgEAAAAAliM5BQAAAABYjuQUAAAAAGA5klMAAAAAgOVITgEAAAAAliM5BQAAAABYjuQUAAAAAGA5klMAAAAAgOVITgEAAAAAlvO3OgAgL02MWZNvbQ2KaJ5vbQEAAAC3O5JTAHkm/cKKfGsrKLBVvrUFAAAAz2NYLwAAAADAciSnAAAAAADLkZwCAAAAACxHcgoAAAAAsBzJKQAAAADAciSnAAAAAADLkZwCAAAAACxHcgoAAAAAsBzJKQAAAADAciSnAAAAAADLkZwCAAAAACxHcgoAAAAAsBzJKQAAAADAciSnAAAAAADLkZwCAAAAACxHcgoAAAAAsBzJKQAAAADAcv5WB4CbNzFmTb61NSiieb61datIv7AiX9sLCmyVr+0BAAAA+YkzpwAAAAAAy5GcAgAAAAAsR3IKAAAAALAcySkAAAAAwHIkpwAAAAAAy5GcAgAAAAAsR3IKAAAAALAcySkAAAAAwHL+VgeAW0P6hRX52l5QYKt8bQ8AAACAtThzCgAAAACwHMkpAAAAAMByHk9O27Rpo507d2rPnj169dVXPd0cAAAAAOAW5NHk1NfXVxMmTFC7du10zz33qHv37qpTp44nmwQAAAAA3II8mpxGRERo7969SkpK0sWLFzVz5kx16tTJk00CAAAAAG5BPpKMp1bepUsXtW3bVv369ZMk9ezZU40bN9bgwYPtdfr166f+/ftLkmrVqqVdu3Z5KpwbUqZMGSUnJ1sdRoFBfzijT5zRJ87oE0f0hzP6xBl94oj+cEafOKNPHNEfzgpKn4SGhqpcuXK5zjeeKl26dDGRkZH21z179jRffPGFx9rLyxIbG2t5DAWp0B/0CX1Cn9Af9Al9Qn8UlEKf0Cf0x+3ZJx4d1nv06FFVqVLF/rpy5co6evSoJ5sEAAAAANyCPJqcxsbG6u6771bVqlUVEBCgp59+WvPnz/dkkwAAAACAW5C/J1eek5Ojl19+WUuXLpWfn5++++477dixw5NN5plvvvnG6hAKFPrDGX3ijD5xRp84oj+c0SfO6BNH9Icz+sQZfeKI/nB2K/SJR2+IBAAAAACAOzw6rBcAAAAAAHeQnAIAAAAALOf1yWmbNm20c+dO7dmzR6+++qrT/EKFCmnmzJnas2ePNmzYoNDQUAuizD+TJ0/WiRMnFB8fn2ud8ePHa8+ePdq6davCwsLyMbr8V7lyZa1atUrbt29XQkKChgwZ4rKeN/VJ4cKFFR0drS1btighIUFvvfWWUx1v228kydfXV5s3b9aCBQuc5nljfyQlJWnbtm2Ki4tTbGysyzretN9IUnBwsGbPnq3ExETt2LFD999/v1Mdb+mTmjVrKi4uzl5SU1M1dOhQp3re0h82w4YNU0JCguLj4/Xjjz+qcOHCDvO98VgyZMgQxcfHKyEhweVnRLr9PyeuvpuVKlVKy5Yt0+7du7Vs2TKVLFnS5bLPPvusdu/erd27d+vZZ5/Np4g9y1V/dO3aVQkJCcrJyVHDhg1zXfZ63/tvVa76ZMyYMUpMTNTWrVs1b948BQcHu1y2IPaJ5c+zsar4+vqavXv3mmrVqpmAgACzZcsWU6dOHYc6AwcONJMmTTKSzD//+U8zc+ZMy+P2ZGnWrJkJCwsz8fHxLue3a9fO/PLLL0aSady4sdmwYYPlMXuyVKhQwYSFhRlJplixYmbXrl1OnxFv6xNJJigoyEgy/v7+ZsOGDaZx48YO871tv5FkXnnlFTNjxgyzYMECp3ne2B9JSUkmJCQk1/neuN98//33pk+fPkaSCQgIMMHBwV7fJ9Ll/8V//vmnufPOO726P+644w6zf/9+U6RIESPJ/PTTT6Z3794OdbztWFK3bl0THx9vihYtavz8/Mzy5ctNjRo1vO5z4uq72ccff2xeffVVI8m8+uqr5qOPPnJarlSpUmbfvn2mVKlSpmTJkmbfvn2mZMmSlm+PJ/qjdu3apmbNmmb16tWmYcOGLpdz53v/rVpc9cmjjz5q/Pz8jCTz0UcfufyMFMQ+8eozpxEREdq7d6+SkpJ08eJFzZw5U506dXKo06lTJ/3www+SpDlz5qhly5ZWhJpv1q1bpzNnzuQ6v1OnTpo6daokKTo6WiVLllSFChXyK7x8d/z4ccXFxUmSzp8/r8TERFWqVMmhjrf1iSSlp6dLkgICAhQQECBjjMN8b9tvKlWqpPbt2+vbb791Od/b+sMd3rbflChRQg899JAmT54sSbp48aJSU1Md6nhbn9i0bNlS+/bt06FDhxyme2N/+Pv7q2jRovLz81NgYKCOHTvmMN/bjiV16tRRdHS0MjIylJOTozVr1ujJJ590qOMNnxNX382u/Cz88MMP6ty5s9Nybdq00fLly5WSkqKzZ89q+fLlatu2bX6E7FGu+mPnzp3avXv3NZdz53v/rcpVnyxfvlw5OTmSpA0bNqhy5cpOyxXEPvHq5LRSpUo6fPiw/fWRI0ecEo8r6+Tk5Cg1NVUhISH5GmdB4k6f3a5CQ0MVFham6Ohoh+ne2Ce+vr6Ki4vTyZMntXz5csXExDjM97b9Zty4cRoxYoQuXbrkcr639YckGWO0bNkybdy4Uf369XOa7237TbVq1XTq1ClNmTJFmzdvVmRkpAIDAx3qeFuf2Dz99NP673//6zTd2/rj2LFj+vTTT3Xo0CH9+eefSk1N1fLlyx3qeNuxJCEhQc2aNVPp0qVVtGhRPfbYY6pSpYpDHW/7nNiUL19ex48fl3T5h/Ty5cs71fHWvsmNN/fHCy+8oMWLFztNL4h94tXJKeCuoKAgzZ07V8OGDVNaWprV4Vju0qVLCgsLU+XKlRUREaG6detaHZJl2rdvr5MnT2rz5s1Wh1KgPPjgg2rYsKHatWunl156Sc2aNbM6JEv5+/urQYMGmjRpkho0aKD09HS99tprVodluYCAAHXs2FGzZ8+2OhTLlSxZUp06dVK1atV0xx13KCgoSD169LA6LEvt3LlTH3/8sZYtW6YlS5Zoy5Yt9jNBcHT1CCbAZuTIkcrOztaMGTOsDsUtXp2cHj161OEXuMqVK+vo0aO51vHz81NwcLBOnz6dr3EWJO702e3G399fc+fO1YwZMxQVFeU03xv7xCY1NVWrV692GibkTftN06ZN1bFjRyUlJWnmzJlq0aKFpk2b5lDHm/rDxjYc8dSpU4qKilJERITDfG/bb44cOaIjR47YRxnMmTNHDRo0cKjjbX0iSe3atdPmzZt18uRJp3ne1h+tWrVSUlKSkpOTlZ2drXnz5qlJkyYOdbzxWPLdd9+pUaNGat68uVJSUpyGbnrb58TmxIkT9uHLFSpUYB9ygzf2R+/evdWhQ4dcf+gqiH3i1clpbGys7r77blWtWlUBAQF6+umnNX/+fIc68+fPV+/evSVdvhPYqlWrrAi1wJg/f779bm+NGzdWamqqfVjJ7Wry5MlKTEzU2LFjXc73tj4pU6aM/Y5vRYoU0aOPPqqdO3c61PGm/WbkyJGqUqWKqlWrpqefflqrVq1Sr169HOp4U39IUmBgoIoVK2b/u3Xr1kpISHCo4237zYkTJ3T48GHVrFlT0uXrLHfs2OFQx9v6RJK6d+/uckiv5H39cejQId1///0qWrSopMufkcTERIc63nYskaSyZctKkqpUqaInn3xSP/74o8N8b/uc2Fz5Wejdu7d+/vlnpzpLly5V69atVbJkSZUsWVKtW7fW0qVL8zvUAsOd7/23kzZt2mjEiBHq2LGjMjIyXNYpqH1i+R2mrCzt2rUzu3btMnv37jUjR440kszbb79tHn/8cSPJFC5c2MyaNcvs2bPHREdHm2rVqlkesyfLjz/+aI4dO2b++usvc/jwYfPCCy+YAQMGmAEDBtjrfPnll2bv3r1m27Ztud4R7XYpTZs2NcYYs3XrVhMXF2fi4uJMu3btvLpP6tevbzZv3my2bt1q4uPjzahRo4zk3fuNrTRv3tx+t15v7o9q1aqZLVu2mC1btpiEhAT7sdWb9xtJ5h//+IeJjY01W7duNVFRUaZkyZJe3SeBgYEmOTnZlChRwj7Nm/tDknnrrbdMYmKiiY+PN1OnTjWFChXy6mOJJLN27Vqzfft2s2XLFtOiRQuv/Jy4+m5WunRps2LFCrN7926zfPlyU6pUKSPJNGzY0ERGRtqXff75582ePXvMnj17zHPPPWf5tniqPzp37mwOHz5sMjMzzfHjx82SJUuMJFOxYkWzaNEi+7KuvvffDsVVn+zZs8ccOnTI/v3Vdqfvgt4nPv//HwAAAAAAWMarh/UCAAAAAAoGklMAAAAAgOVITgEAAAAAliM5BQAAAABYjuQUAAAAAGA5klMAAAqg4OBgDRw40P66efPmWrBggYURAQDgWSSnAAAUQCVLltSgQYOsDgMAgHxDcgoAwN8UGhqqxMRETZkyRbt27dL06dPVsmVL/fbbb9q9e7fCw8NVqlQpRUVFaevWrfrjjz9Uv359SdLo0aM1efJkrV69Wvv27dPgwYMlSR999JFq1KihuLg4jRkzRpJUrFgxzZ49W4mJiZo+fbpl2wsAgKcYCoVCoVAoN19CQ0PNxYsXTb169YyPj4/ZuHGjmTx5spFkOnbsaKKiosznn39u/ud//sdIMo888oiJi4szkszo0aPN+vXrTaFChUxISIhJTk42/v7+JjQ01MTHx9vbaN68uTl79qypVKmS8fHxMb///rtp2rSp5dtOoVAoFEpeFc6cAgCQB5KSkpSQkCBjjLZv366VK1dKkuLj41W1alU9+OCDmjZtmiRp9erVCgkJUfHixSVJixYt0l9//aXTp0/r5MmTKl++vMs2YmJidPToURljtGXLFlWtWjVftg0AgPxAcgoAQB7Iysqy/33p0iX760uXLsnf39/tZXNycnKt7249AABuRSSnAADkg3Xr1qlHjx6SLt95Nzk5WWlpabnWT0tLs59ZBQDAG/CTKwAA+eCtt97Sd999p61bt+rChQvq3bv3NeufOXNG69evV3x8vBYvXqxFixblU6QAAFjDR5cvPgUAAAAAwDIM6wUAAAAAWI7kFAAAAABgOZJTAAAAAIDlSE4BAAAAAJYjOQUAAAAAWI7kFAAAAABgOZJTAAAAAIDl/j8lSH1Z7/s01gAAAABJRU5ErkJggg==\n",
            "text/plain": [
              "<Figure size 1152x432 with 1 Axes>"
            ]
          },
          "metadata": {},
          "output_type": "display_data"
        }
      ],
      "source": [
        "#зададим размер графика\n",
        "plt.figure(figsize=(16, 6))\n",
        "\n",
        "#введём параметры графика\n",
        "sns.barplot(x='month', y='mb_used_sum', hue=\"tariff\", data=a, capsize=.2);\n",
        "\n",
        "#введём название\n",
        "plt.title(\"Общий объём трафика для каждого тарифа по месяцам\", fontsize = 18);"
      ]
    },
    {
      "cell_type": "markdown",
      "metadata": {
        "id": "-GJlKXmKCjc9"
      },
      "source": [
        "Ожидаемо общий объём трафика растёт вместе с ростом числа пользователей. На конец года общий объём трафика для Smart вдвое больше чем для Ultra. Это происхожит за счёт большего числа пользователей. "
      ]
    },
    {
      "cell_type": "markdown",
      "metadata": {
        "id": "xAByEpErCjc9"
      },
      "source": [
        "### Гистограммы"
      ]
    },
    {
      "cell_type": "markdown",
      "metadata": {
        "id": "zuNg_CWwCjc-"
      },
      "source": [
        "**3.4.1 Гистограмма количества минут разгоовра в месяц**\n"
      ]
    },
    {
      "cell_type": "markdown",
      "metadata": {
        "id": "3CjeKRGFCjc-"
      },
      "source": [
        "**Для тарифа Smart**"
      ]
    },
    {
      "cell_type": "code",
      "execution_count": null,
      "metadata": {
        "id": "GDfRcKu3Cjc-",
        "outputId": "866cdefb-dab2-4fcd-de6d-92a9e3f01773"
      },
      "outputs": [
        {
          "data": {
            "text/html": [
              "<div>\n",
              "<style scoped>\n",
              "    .dataframe tbody tr th:only-of-type {\n",
              "        vertical-align: middle;\n",
              "    }\n",
              "\n",
              "    .dataframe tbody tr th {\n",
              "        vertical-align: top;\n",
              "    }\n",
              "\n",
              "    .dataframe thead th {\n",
              "        text-align: right;\n",
              "    }\n",
              "</style>\n",
              "<table border=\"1\" class=\"dataframe\">\n",
              "  <thead>\n",
              "    <tr style=\"text-align: right;\">\n",
              "      <th></th>\n",
              "      <th>user_id</th>\n",
              "      <th>calls_minutes_sum</th>\n",
              "      <th>message_count</th>\n",
              "      <th>mb_used_sum</th>\n",
              "    </tr>\n",
              "  </thead>\n",
              "  <tbody>\n",
              "    <tr>\n",
              "      <th>0</th>\n",
              "      <td>1001</td>\n",
              "      <td>422.000000</td>\n",
              "      <td>0.0</td>\n",
              "      <td>16233.000000</td>\n",
              "    </tr>\n",
              "    <tr>\n",
              "      <th>1</th>\n",
              "      <td>1002</td>\n",
              "      <td>216.714286</td>\n",
              "      <td>10.0</td>\n",
              "      <td>16576.645714</td>\n",
              "    </tr>\n",
              "    <tr>\n",
              "      <th>2</th>\n",
              "      <td>1005</td>\n",
              "      <td>550.416667</td>\n",
              "      <td>46.0</td>\n",
              "      <td>8307.275833</td>\n",
              "    </tr>\n",
              "    <tr>\n",
              "      <th>3</th>\n",
              "      <td>1006</td>\n",
              "      <td>318.272727</td>\n",
              "      <td>0.0</td>\n",
              "      <td>14926.255455</td>\n",
              "    </tr>\n",
              "    <tr>\n",
              "      <th>4</th>\n",
              "      <td>1007</td>\n",
              "      <td>486.555556</td>\n",
              "      <td>25.0</td>\n",
              "      <td>14625.074444</td>\n",
              "    </tr>\n",
              "  </tbody>\n",
              "</table>\n",
              "</div>"
            ],
            "text/plain": [
              "   user_id  calls_minutes_sum  message_count   mb_used_sum\n",
              "0     1001         422.000000            0.0  16233.000000\n",
              "1     1002         216.714286           10.0  16576.645714\n",
              "2     1005         550.416667           46.0   8307.275833\n",
              "3     1006         318.272727            0.0  14926.255455\n",
              "4     1007         486.555556           25.0  14625.074444"
            ]
          },
          "execution_count": 56,
          "metadata": {},
          "output_type": "execute_result"
        }
      ],
      "source": [
        "# сводная таблица  - количество минут разговора в среднем за месяц для каждого пользователя \n",
        "df_smart_group = df_smart.groupby('user_id').agg({'calls_minutes_sum': 'mean', 'message_count': 'mean', 'mb_used_sum': 'mean'})\n",
        "df_smart_group = df_smart_group.reset_index()\n",
        "df_smart_group.head()"
      ]
    },
    {
      "cell_type": "markdown",
      "metadata": {
        "id": "HY6zcUIFCjc_"
      },
      "source": [
        "**Для тарифа Ultra**"
      ]
    },
    {
      "cell_type": "code",
      "execution_count": null,
      "metadata": {
        "scrolled": true,
        "id": "8R0tzvAECjc_",
        "outputId": "c7f952ac-db7b-43ec-c5e0-6fae8b141da1"
      },
      "outputs": [
        {
          "data": {
            "text/html": [
              "<div>\n",
              "<style scoped>\n",
              "    .dataframe tbody tr th:only-of-type {\n",
              "        vertical-align: middle;\n",
              "    }\n",
              "\n",
              "    .dataframe tbody tr th {\n",
              "        vertical-align: top;\n",
              "    }\n",
              "\n",
              "    .dataframe thead th {\n",
              "        text-align: right;\n",
              "    }\n",
              "</style>\n",
              "<table border=\"1\" class=\"dataframe\">\n",
              "  <thead>\n",
              "    <tr style=\"text-align: right;\">\n",
              "      <th></th>\n",
              "      <th>user_id</th>\n",
              "      <th>calls_minutes_sum</th>\n",
              "      <th>message_count</th>\n",
              "      <th>mb_used_sum</th>\n",
              "    </tr>\n",
              "  </thead>\n",
              "  <tbody>\n",
              "    <tr>\n",
              "      <th>0</th>\n",
              "      <td>1000</td>\n",
              "      <td>320.750</td>\n",
              "      <td>62.0</td>\n",
              "      <td>13424.03875</td>\n",
              "    </tr>\n",
              "    <tr>\n",
              "      <th>1</th>\n",
              "      <td>1003</td>\n",
              "      <td>764.400</td>\n",
              "      <td>76.0</td>\n",
              "      <td>11456.12800</td>\n",
              "    </tr>\n",
              "    <tr>\n",
              "      <th>2</th>\n",
              "      <td>1004</td>\n",
              "      <td>123.375</td>\n",
              "      <td>149.0</td>\n",
              "      <td>18629.93500</td>\n",
              "    </tr>\n",
              "    <tr>\n",
              "      <th>3</th>\n",
              "      <td>1013</td>\n",
              "      <td>468.000</td>\n",
              "      <td>21.0</td>\n",
              "      <td>15258.58000</td>\n",
              "    </tr>\n",
              "    <tr>\n",
              "      <th>4</th>\n",
              "      <td>1016</td>\n",
              "      <td>61.000</td>\n",
              "      <td>71.0</td>\n",
              "      <td>13405.22000</td>\n",
              "    </tr>\n",
              "  </tbody>\n",
              "</table>\n",
              "</div>"
            ],
            "text/plain": [
              "   user_id  calls_minutes_sum  message_count  mb_used_sum\n",
              "0     1000            320.750           62.0  13424.03875\n",
              "1     1003            764.400           76.0  11456.12800\n",
              "2     1004            123.375          149.0  18629.93500\n",
              "3     1013            468.000           21.0  15258.58000\n",
              "4     1016             61.000           71.0  13405.22000"
            ]
          },
          "execution_count": 57,
          "metadata": {},
          "output_type": "execute_result"
        }
      ],
      "source": [
        "# сводная таблица - количество минут разговора в среднем за месяц для каждого пользователя\n",
        "df_ultra_group = df_ultra.groupby('user_id').agg({'calls_minutes_sum': 'mean', 'message_count': 'mean', 'mb_used_sum': 'mean'})\n",
        "df_ultra_group = df_ultra_group.reset_index()\n",
        "df_ultra_group.head()"
      ]
    },
    {
      "cell_type": "code",
      "execution_count": null,
      "metadata": {
        "scrolled": true,
        "id": "0cc09x49CjdB",
        "outputId": "62f92dad-6ec6-4fd2-9ffb-eac800e1da06"
      },
      "outputs": [
        {
          "data": {
            "image/png": "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\n",
            "text/plain": [
              "<Figure size 432x288 with 1 Axes>"
            ]
          },
          "metadata": {},
          "output_type": "display_data"
        }
      ],
      "source": [
        "#гистограмма количества минут разгоовра в месяц \n",
        "df_ultra['calls_minutes_sum'].hist()\n",
        "df_smart['calls_minutes_sum'].hist(alpha = 0.7)\n",
        "\n",
        "plt.title(\"Распределение по минутам разговора\", fontsize = 18);"
      ]
    },
    {
      "cell_type": "markdown",
      "metadata": {
        "id": "KqXlDVSLCjdC"
      },
      "source": [
        "**3.4.2 Гистограмма среднего количества СМС в месяц**\n"
      ]
    },
    {
      "cell_type": "code",
      "execution_count": null,
      "metadata": {
        "id": "Bd4tKMNuCjdD",
        "outputId": "ae9d480c-d483-4a3a-b322-a8115c8d91c4"
      },
      "outputs": [
        {
          "data": {
            "image/png": "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\n",
            "text/plain": [
              "<Figure size 432x288 with 1 Axes>"
            ]
          },
          "metadata": {},
          "output_type": "display_data"
        }
      ],
      "source": [
        "#гистограмма количества СМС в месяц \n",
        "df_ultra['message_count'].hist()\n",
        "df_smart['message_count'].hist(alpha = 0.7)\n",
        "\n",
        "plt.title(\"Распределение по СМС\", fontsize = 18);"
      ]
    },
    {
      "cell_type": "markdown",
      "metadata": {
        "id": "0PTAb3mPCjdE"
      },
      "source": [
        "Гистограмму для СМС можно считать распределением Пуассона. \"Хвост\" у гистограммы для тарифа Ultra чуть длиннее, так как пользователи этого тарифа в среднем больше пользуютсяч СМС"
      ]
    },
    {
      "cell_type": "markdown",
      "metadata": {
        "id": "ryOQf213CjdE"
      },
      "source": [
        "3.4.3 Гистограмма среднего траифка в месяц\n"
      ]
    },
    {
      "cell_type": "code",
      "execution_count": null,
      "metadata": {
        "id": "3HeZVSAHCjdF",
        "outputId": "a90c50fb-744e-4dc3-cdab-0e048e44dcce"
      },
      "outputs": [
        {
          "data": {
            "image/png": "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\n",
            "text/plain": [
              "<Figure size 432x288 with 1 Axes>"
            ]
          },
          "metadata": {},
          "output_type": "display_data"
        }
      ],
      "source": [
        "#гистограмма Трафика в месяц \n",
        "df_ultra['mb_used_sum'].hist()\n",
        "df_smart['mb_used_sum'].hist(alpha = 0.7)\n",
        "\n",
        "plt.title(\"Распределение по Трафику\", fontsize = 18);"
      ]
    },
    {
      "cell_type": "markdown",
      "metadata": {
        "id": "3nKFoS5cCjdG"
      },
      "source": [
        "Распределение по траифку можно отнести к нормальному распределению. Среднее для тарифа Smart 16 Гб, в то время как для Ultra - 19 Гб. Однако колокол для Ultra шире и ниже, потому как пользователей меньше, но разброс по среднему трафику больше."
      ]
    },
    {
      "cell_type": "markdown",
      "metadata": {
        "id": "ShJStzbDCjdG"
      },
      "source": [
        "### Сравнение общей вырчки по тарифам"
      ]
    },
    {
      "cell_type": "markdown",
      "metadata": {
        "id": "JBtOdSwECjdH"
      },
      "source": [
        "**3.5.1 Суммарная выручка за год**"
      ]
    },
    {
      "cell_type": "markdown",
      "metadata": {
        "id": "YxIogotSCjdH"
      },
      "source": [
        "Сравним суммарную выручку по тарифам"
      ]
    },
    {
      "cell_type": "code",
      "execution_count": null,
      "metadata": {
        "scrolled": true,
        "id": "vv6krB2XCjdH",
        "outputId": "52963eb2-dd3f-41b0-f5f0-7d106655ad8d"
      },
      "outputs": [
        {
          "data": {
            "text/plain": [
              "2041050.0"
            ]
          },
          "execution_count": 64,
          "metadata": {},
          "output_type": "execute_result"
        }
      ],
      "source": [
        "# суммарная выручка для Ultra\n",
        "df_ultra['revenue'].sum()"
      ]
    },
    {
      "cell_type": "code",
      "execution_count": null,
      "metadata": {
        "id": "94oDG4HDCjdH",
        "outputId": "b45df34e-779c-49a2-beda-626a6be0915c"
      },
      "outputs": [
        {
          "data": {
            "text/plain": [
              "2875901.0"
            ]
          },
          "execution_count": 65,
          "metadata": {},
          "output_type": "execute_result"
        }
      ],
      "source": [
        "# суммарная выручка для Smart\n",
        "df_smart['revenue'].sum()"
      ]
    },
    {
      "cell_type": "code",
      "execution_count": null,
      "metadata": {
        "scrolled": true,
        "id": "TfuoJMOGCjdI",
        "outputId": "d5f14a38-390c-43cd-b9d9-259aac4a93c2"
      },
      "outputs": [
        {
          "data": {
            "image/png": "iVBORw0KGgoAAAANSUhEUgAAAXQAAAEICAYAAABPgw/pAAAAOXRFWHRTb2Z0d2FyZQBNYXRwbG90bGliIHZlcnNpb24zLjMuNCwgaHR0cHM6Ly9tYXRwbG90bGliLm9yZy8QVMy6AAAACXBIWXMAAAsTAAALEwEAmpwYAAAeCUlEQVR4nO3df1RT5/0H8DcERI0WkayggLF14Jm2dtpGZLaV6azitK6Klqr1xyxOv0Nrpa3TzTHX1a0/rXXqhNIKVkdVqoOKbbXt+WJbhYhBEKEHauoCyI/wM4BVgs/3D+f9mgYIKBh59n6d85yTm+fJcz/3Et5ebu6NLgAEiIiox3N1dgFERNQ1GOhERJJgoBMRSYKBTkQkCQY6EZEkGOj/Rdzc3JxdAhF1Iwa6xB544AEkJyfDaDSitrYWa9ascXZJRNTNBFvPa4sWLRI5OTmisbFRXLx4UWzfvl14enoq/ffee68wm81i0aJFwt3d3en1svXctmjRInH8+HGn18HmuPEIvQdas2YNXnnlFbzwwgvw9PTEuHHjoNVqcfToUbi7uwMANmzYgFdffRUJCQlobm52csVEdLs4/V8Vto63/v37C4vFIubMmWPzvFqtFhUVFWLJkiUCgMjLyxMJCQnCZDKJiooKkZiYKO666y4BQGi1WiGEECqVSgAQkyZNEkajUZnrh0dka9euFUVFRaK+vl7k5eWJX/3qV0qfi4uL2LZtm6ioqBAWi0VcunRJfPHFF63WPmHCBNHS0iIsFouor68XGRkZYuTIka3WdGMzmUxiwoQJAoCIiYkR+/fvF0lJSaK+vl5kZWWJUaNGCQDi+eefFwcOHLB57ZYtW8Rbb70lAAghhBg2bJjSd+Pye++9J1566SUBQAwcOFDk5eWJ5cuXCwBiwIABIjU1VVRUVIjq6mqRmpoq/Pz82vwZGY1G0dTUJCwWS6v7JCQkRGRmZora2lqRmZkpQkJCWp1n69atyhxCCNHQ0CAsFotIS0sTAMTixYvFuXPnRH19vfj222/FsmXLbPa1yWQS69atE5WVlcJoNIp58+Yp/TduLwBx+PBhm/0/atQokZeXJ7799lsRGxsrMjMzxaFDh0RlZaX461//qrxOp9OJr7/+WtTU1IjS0lKxdetWm78IhRAiOztbWXZ1dRXFxcXCZDI5/XdJ0ub0Atg60aZMmSKam5tbDb5du3aJvXv3CuBaqBQWFop77rlHqNVqkZycLBITEwXQ+UAPDw8XgwYNEi4uLmLu3LmioaFB+Pr6KvWUlpYqy0uXLm030K//Iru6uorY2Fixf//+Vmu6sf0w0K9cuSJmz54t3NzcRHR0tDh//rxwc3MTvr6+oqGhQTn1pFKpRHl5uRgzZowAIFpaWkRgYKAyb2uBrlarRUZGhvj973+vjBs4cKCYNWuW6NOnj+jXr5/Yt2+fOHjwYJs/I6PRKCZNmqQs37hPvLy8RHV1tViwYIFQqVQiIiJCVFdXi4EDB7b7c//hP0YAxLRp08S9994rAIhHH31UNDY2itGjRyv7urm5WbzxxhuiV69e4tFHHxUNDQ0iKCjIZnsBiNDQUGEymWz2/5kzZ8TKlStFv379xKeffiosFosICQkRgwYNEkVFRWLGjBkCgBgzZowIDg4WKpVKaLVace7cOfHss8/a1H3u3Dnx0EMPCQBixowZIi8vj4HeTc2pp1zi4+NRXl6O3NzcDo2fM2cO8vLycPbsWezZs6ebq7szaTQamM1mtLS02PVdvHgRGo1GWX7zzTdhNBrR2NiIdevWISIiAiqVqtPrPHDgAC5evAghBPbt24fCwkKMHTtW6Xdxcen0vK6urlCpVKiqqup0PVlZWUhOTobVasWbb76J3r17Y9y4cSgrK0N6ejrmzJkDAJg6dSrMZjNOnz4NAPj3v/+NyZMntzmvh4cHDh06hPz8fLz88svK89XV1fjwww9x6dIlNDQ04OWXX8aECRM6XTcA/PKXv0RhYSHef/99tLS0ICkpCQUFBZgxY0an50pLS8P58+cBAOnp6fj000/xyCOP2IzZsGEDrly5gvT0dBw+fBhz5861m+fVV1/FH//4R2V56NChGD58OLZv346Ghgbs2bMH2dnZOHHiBC5evIjdu3dj1qxZAIDTp08jIyMDLS0tuHDhAnbu3Gm3b+Lj4/HMM88AAJ555hnEx8d3elupY5wa6Lt27cLUqVM7NPbHP/4x1q1bh/Hjx+O+++7D6tWru7e4O5TZbIZGo2k1QAcNGgSz2QwAuHz5Mi5cuKD0XbhwAe7u7vDx8en0Op9++mkYDAbU1NSgpqYG9913n/IPx6effordu3ejsLAQdXV1ePvtt9uda/DgwaipqYHFYkFYWBi2bt1qt33V1dU4d+4c5s+f3+ocJpNJeSyEQHFxMQYPHgwASEhIwIIFCwAACxYswO7du5WxUVFRiI6ORm1tLWpqauzm/e1vfwu1Wo2f/exn6N27t/J8nz598I9//APfffcd6urqkJ6eDi8vL7i6dv7XZ/DgwTY/F+Daz8bPz6/Tc02dOhUnTpxAVVUVampqMG3aNJt/0GtqatDU1GSznuv76bq5c+fCbDbj888/V57z8fFBbW1tqwcNAFBRUQFfX18AQGBgIFJTU3Hx4kXU1dVh06ZNNjUAwEcffYTQ0FAMGzYMgwYNQlZWVqe3lTrGqYF+/PhxVFdX2zx377334siRIzh16hTS09MxfPhwAEBkZCS2bduG2tpaAEBlZeXtLveOcOLECVy+fFk5QrpOrVYjLCwMn332GYBrR6NarVbpHzJkCJqbm1FeXt6p9Q0ZMgRxcXGIioqCt7c3vLy8cPbsWbi4uACActReWVmJgIAArFq1qt35SktL4eXlhT59+uB3v/sdkpOTbfo1Gg0GDhyIqKgo7Nq1C2q12m6OgIAA5bGLiwv8/f1RWloKADh06BBGjRqFkSNHYvr06TZ/yR0+fBjDhg3DgAED4OXlZTfv119/jUceeQR6vd7mCD06OhrDhw9HcHAwPD098eijjyrr7qzS0lKbnwtwbR+XlJR0ap5evXohOTkZr7/+Onx8fODl5YW0tDSbmry8vNC3b1+b9VzfTwDg7u6Ol156CWvXrrWZu7KyEgMGDGjzr667775beR/t2LEDBQUFCAwMhKenJ9avX2+3X6xWKw4ePIgDBw5g165dndpO6pw77iqX2NhYrFy5Eg899BCef/55bN++HQAQFBSEoKAgfPnllzhx4gSmTJni5Eqdo76+Hhs3bsTWrVsxZcoUuLm5QavVYt++fSguLlaOSP/5z3/iueeew9ChQ6FWq7Fp0yZ88MEHbR51tUWtVkMIofwDunjxYtx3331Kv0qlwjvvvIPnnnsO9fX1nZq7paXF7mjuupqaGri4uLQamg8++CCeeOIJqFQqrF69GpcvX8bJkycBXPvL5MCBA9i7dy8yMzNtjuYdOXnyJFpaWrBq1So89dRTGDduHACgf//+uHTpEmpra+Hl5YWYmJhObeeN0tLSEBQUhKeeegoqlQpz587FiBEj8NFHH3Vqnl69esHDwwOVlZWwWq2YOnUqHnvsMbtxGzduhLu7Ox5++GFMnz4d+/fvV/qefvppfP3113anPM+fP4/z589j+fLl6NevH+bNm4cHHngAISEh8PX1xYIFC5Camgrg2r6pr69HQ0MDhg8fjhUrVrRab2xsLPLz8/9rT5XeLnfUrYPX/9y98U3n4eEB4NpdjoGBgQgNDYW/vz/S09Nx//33o66uzlnlOs1rr72GqqoqvP766xg2bBjq6+tx6NAhzJ8/H1euXAFw7XRWQEAA0tPT0bt3b3zyySeIioqymee7774DcG0fe3l5KeHXt29fqNVqPPfcc9i8eTPeeOMNnDhxAlevXkViYiK++uorZY4XX3wR3333HT788MMO1T548GBYLBblVMmvf/3rVmv6/vvvsWzZMjQ0NNjN8a9//QtPPvkkEhISUFRUhFmzZsFqtSr9CQkJiIyMxJIlSzpU0w9VVVVh5cqVePfdd/HTn/4Ub731Fvbu3Quz2YzS0lK88cYbeOKJJ25q7urqakyfPh1btmzBjh07UFRUhOnTp3f6s4SGhgasWrUK+/btg4eHB1JTU5GSkmIzpqysDDU1NSgtLUVTUxOWL1+Ob775Run38vLChg0bWp1/4cKFeP/997FmzRocO3YMXl5eWLt2LR5++GEkJCQof1k9//zziI2NxYsvvgiDwYAPPvgAEydOtJvPaDRi3rx5ndpGujlO/VRWq9WK3NxcAVy7JK+0tLTVcTt27BCLFy9Wlo8dO6Z8cs7W9W38+PEiJibG6XX8sMXExIjdu3e3OyYgIEA0NjaK/v37O71eZ7Ubryi61cYbi3pOu6NOuVgsFhiNRoSHhyvPjRo1CsC1c6OhoaEAAG9vbwQFBSmf8FPXq62t7ZH718XFBWvWrEFSUhIsFouzyyG6rZx6ymXv3r0IDQ2FRqOByWRCTEwM5s+fjx07duAPf/gD3N3dkZSUhJycHHzyySd47LHHkJeXh5aWFrzwwgt2H6hS18nLy0NeXp6zy+iUvn37ory8HBcuXOjw1VNEMnHBtUN1IiLq4RyecvHw8EBGRgays7Nx9uxZ/OlPf7Ib06tXLyQlJaGwsBAnT560uyyLiIi6n8NTLpcvX8bEiRPR2NgINzc3fPnllzhy5AgyMjKUMUuXLkVNTQ0CAwPx5JNP4pVXXkFERES781ZUVNjdYEFERO3TarW4++672+zv8Ceoffr0EVlZWWLs2LE2z3/88cdi3LhxArj2/RmVlZUO59Lr9U7/RJiNjY2tp7X2srNDV7m4urrCYDCgoqICR48eRWZmpk2/n5+fcg1zS0sL6urq4O3tbTdPZGQk9Ho99Hp9mzeUEBHRzelQoF+9ehWjR4+Gv78/xo4di5EjR97UyuLi4qDT6aDT6ZTvHCEioq7RqevQ6+rq8MUXX9hdElZSUqJ8v4ZKpYKnp+dNfYseERHdPIeBrtFo4OnpCQDo3bs3Jk+ejIKCApsxKSkpWLRoEQAgPDzc5pvbiIjo9nB4lcugQYOQkJAAlUoFV1dX7Nu3D4cPH8bGjRtx6tQppKamIj4+XvkK1erqaodXuBARUddz2o1Fer0eOp3OGasmIuqx2svOO+q7XIiI6OYx0ImIJMFAJyKSxB31H1wQyaKx6ZizS6A7kLrvL7p1fh6hExFJgoFORCQJBjoRkSQY6EREkmCgExFJgoFORCQJBjoRkSQY6EREkmCgExFJgoFORCQJBjoRkSQY6EREkmCgExFJgoFORCQJBjoRkSQY6EREkmCgExFJgoFORCQJBjoRkSQY6EREkmCgExFJgoFORCQJBjoRkSQcBrq/vz8+//xz5OXl4ezZs1i1apXdmAkTJqC2thYGgwEGgwEbNmzolmKJiKhtbo4GWK1WREdHw2AwoF+/fsjKysLRo0eRn59vM+748eOYMWNGtxVKRETtc3iEXlZWBoPBAABoaGhAfn4+/Pz8ur0wIiLqnE6dQ9dqtRg9ejQyMjLs+kJCQpCdnY20tDSMGDGi1ddHRkZCr9dDr9dDo9HcXMVERNQqh6dcrlOr1UhOTsbq1athsVhs+k6fPg2tVovGxkaEhYXh0KFDCAoKspsjLi4OcXFxAAC9Xn+LpRMR0Y06dITu5uaG5ORk7NmzBwcPHrTrt1gsaGxsBAAcOXIE7u7u8Pb27tpKiYioXR0K9Pj4eOTn52Pz5s2t9vv4+CiPdTodXF1dUVVV1TUVEhFRhzg85TJ+/HgsXLgQOTk5yoej69evx5AhQwAAO3fuRHh4OFasWAGr1YpLly4hIiKie6smIiI7LgCEM1as1+uh0+mcsWqibtfYdMzZJdAdSN33F7c8R3vZyTtFiYgkwUAnIpIEA52ISBIMdCIiSTDQiYgkwUAnIpIEA52ISBIMdCIiSTDQiYgkwUAnIpIEA52ISBIMdCIiSTDQiYgkwUAnIpIEA52ISBIMdCIiSTDQiYgkwUAnIpIEA52ISBIMdCIiSTDQiYgkwUAnIpIEA52ISBIMdCIiSTDQiYgkwUAnIpIEA52ISBJujgb4+/sjMTERPj4+EEIgNjYWb7/9tt24LVu2YNq0aWhqasLixYthMBi6peAbbc/8325fB/U8/zN2grNLIHIKh4FutVoRHR0Ng8GAfv36ISsrC0ePHkV+fr4yJiwsDIGBgQgMDERwcDB27NiBcePGdWvhRERky+Epl7KyMuVou6GhAfn5+fDz87MZM3PmTCQmJgIAMjIyMGDAAPj6+nZDuURE1JZOnUPXarUYPXo0MjIybJ738/ODyWRSlouLi+1CHwAiIyOh1+uh1+uh0WhusmQiImpNhwNdrVYjOTkZq1evhsViuamVxcXFQafTQafTwWw239QcRETUug4FupubG5KTk7Fnzx4cPHjQrr+kpAQBAQHKsr+/P0pKSrquSiIicqhDgR4fH4/8/Hxs3ry51f6UlBQsXLgQABAcHIy6ujqUlZV1XZVEROSQw6tcxo8fj4ULFyInJ0f5cHT9+vUYMmQIAGDnzp1IS0vDtGnTUFRUhKamJixZsqR7qyYiIjsOA/2rr76Ci4uLw4mioqK6pCAiIro5vFOUiEgSDHQiIkkw0ImIJMFAJyKSBAOdiEgSDHQiIkkw0ImIJMFAJyKSBAOdiEgSDHQiIkkw0ImIJMFAJyKSBAOdiEgSDHQiIkkw0ImIJMFAJyKSBAOdiEgSDHQiIkkw0ImIJMFAJyKSBAOdiEgSDHQiIkkw0ImIJMFAJyKSBAOdiEgSDHQiIkkw0ImIJOEw0OPj41FeXo7c3NxW+ydMmIDa2loYDAYYDAZs2LChy4skIiLH3BwN2LVrF/7+978jMTGxzTHHjx/HjBkzurQwIiLqHIdH6MePH0d1dfXtqIWIiG5Bl5xDDwkJQXZ2NtLS0jBixIg2x0VGRkKv10Ov10Oj0XTFqomI6D8cnnJx5PTp09BqtWhsbERYWBgOHTqEoKCgVsfGxcUhLi4OAKDX62911UREdINbPkK3WCxobGwEABw5cgTu7u7w9va+5cKIiKhzbjnQfXx8lMc6nQ6urq6oqqq61WmJiKiTHJ5y2bt3L0JDQ6HRaGAymRATEwN3d3cAwM6dOxEeHo4VK1bAarXi0qVLiIiI6PaiiYjInsNAnzdvXrv927Ztw7Zt27qsICIiujm8U5SISBIMdCIiSTDQiYgkwUAnIpIEA52ISBIMdCIiSTDQiYgkwUAnIpIEA52ISBIMdCIiSTDQiYgkwUAnIpIEA52ISBIMdCIiSTDQiYgkwUAnIpIEA52ISBIMdCIiSTDQiYgkwUAnIpIEA52ISBIMdCIiSTDQiYgkwUAnIpIEA52ISBIMdCIiSTDQiYgk4TDQ4+PjUV5ejtzc3DbHbNmyBYWFhThz5gxGjx7dpQUSEVHHOAz0Xbt2YerUqW32h4WFITAwEIGBgVi2bBl27NjRpQUSEVHHOAz048ePo7q6us3+mTNnIjExEQCQkZGBAQMGwNfXt+sqJCKiDrnlc+h+fn4wmUzKcnFxMfz8/FodGxkZCb1eD71eD41Gc6urJiKiG9zWD0Xj4uKg0+mg0+lgNptv56qJiKR3y4FeUlKCgIAAZdnf3x8lJSW3Oi0REXXSLQd6SkoKFi5cCAAIDg5GXV0dysrKbrkwIiLqHDdHA/bu3YvQ0FBoNBqYTCbExMTA3d0dALBz506kpaVh2rRpKCoqQlNTE5YsWdLtRRMRkT2HgT5v3jyHk0RFRXVJMUREdPN4pygRkSQY6EREkmCgExFJgoFORCQJBjoRkSQY6EREkmCgExFJgoFORCQJBjoRkSQY6EREkmCgExFJgoFORCQJBjoRkSQY6EREkmCgExFJgoFORCQJBjoRkSQY6EREkmCgExFJgoFORCQJBjoRkSQY6EREkmCgExFJgoFORCQJBjoRkSQY6EREkmCgExFJokOBPmXKFBQUFKCwsBBr166161+0aBEqKipgMBhgMBiwdOnSLi+UiIja5+ZogKurK7Zt24bJkyejuLgYer0eKSkpyM/Ptxn3wQcfYOXKld1WKBERtc/hEfrYsWNRVFQEo9GI5uZmJCUlYebMmbejNiIi6gSHge7n5weTyaQsFxcXw8/Pz27c7NmzcebMGezfvx/+/v6tzhUZGQm9Xg+9Xg+NRnMLZRMR0Q91yYeiqampGDp0KB544AEcPXoUCQkJrY6Li4uDTqeDTqeD2WzuilUTEdF/OAz0kpISBAQEKMv+/v4oKSmxGVNdXY0rV64AAN555x08+OCDXVwmERE54jDQ9Xo9AgMDMXToULi7uyMiIgIpKSk2Y3x9fZXHjz/+uN0HpkRE1P0cXuXS0tKCqKgofPLJJ1CpVHj33Xdx7tw5bNy4EadOnUJqaipWrVqFxx9/HFarFdXV1Vi8ePFtKJ2IiG7kAkA4Y8V6vR46ne6W5tie+b9dVA3J5H/GTnB2CWhsOubsEugOpO77i1ueo73s5J2iRESSYKATEUmCgU5EJAkGOhGRJBjoRESSYKATEUmCgU5EJAkGOhGRJBjoRESSYKATEUmCgU5EJAkGOhGRJBjoRESSYKATEUmCgU5EJAkGOhGRJBjoRESSYKATEUmCgU5EJAkGOhGRJBjoRESSYKATEUmCgU5EJAkGOhGRJBjoRESSYKATEUmCgU5EJIkOBfqUKVNQUFCAwsJCrF271q6/V69eSEpKQmFhIU6ePAmtVtvlhRIRUfscBrqrqyu2bduGsLAwjBgxAk899RR+8pOf2IxZunQpampqEBgYiM2bN+OVV17ptoKJiKh1DgN97NixKCoqgtFoRHNzM5KSkjBz5kybMTNnzkRCQgIA4MCBA5g0aVL3VEtERG1yczTAz88PJpNJWS4uLkZwcHCbY1paWlBXVwdvb29UVVXZjIuMjMSyZcsAAMOHD4der7/lDaBrNBoNzGazs8u4I9wJ76tzec6u4M7B9+b/64r3ZnuntB0GeleKi4tDXFzc7Vzlfw29Xg+dTufsMojs8L15+zg85VJSUoKAgABl2d/fHyUlJW2OUalU8PT0tDs6JyKi7uUw0PV6PQIDAzF06FC4u7sjIiICKSkpNmNSUlKwaNEiAEB4eDg+//zz7qmWiIjaJRy1sLAw8c0334iioiKxfv16AUBs3LhRzJgxQwAQHh4eYt++faKwsFBkZGSIe+65x+GcbF3bIiMjnV4DG1trje/N29dc/vOAiIh6ON4pSkQkCQY6EZEkGOg90HvvvYfZs2cDAJ599ln06dPHyRURdY1169Y5u4QejYHew61evRp9+/Zttc/VlT9e6jlcXFywfv16Z5fRo/E3/g6m1WqRm5urLEdHRyMmJkZZXrlyJQYPHowvvvhCuVTUYrHg9ddfR3Z2NkJCQrBhwwZkZmYiNzcXO3fuvO3bQPLo27cvPvroI2RnZyM3Nxdz586F0WjEpk2bYDAYoNfrMXr0aHz88ccoKirCb37zGwCAWq3GsWPHkJWVhZycHDz++OMArr2/CwoKkJCQgLNnzyI+Ph59+vSBwWDA+++/78xN7dGcfqkNW+tNq9WK3NxcZTk6OlrExMSI9957T8yePVsAEEajUXh7eytjhBBizpw5yrKXl5fyODExUUyfPt3p28XWM9usWbNEbGyssnzXXXcJo9Eoli9fLgCIN998U5w5c0b069dPaDQaUVZWJgAIlUol+vfvLwAIb29vUVhYKIBr7++WlhYRHByszGmxWJy+nT258QhdMlarFcnJycryz3/+c5w8eRI5OTmYOHEiRo4c6cTqqCfLzc3F5MmT8be//Q0PP/ww6uvrAUC50TA3NxcZGRloaGiA2WzG5cuX4enpCRcXF2zatAlnzpzBsWPH4OfnBx8fHwDAhQsXkJGR4bRtks1t/S4X6hyr1WpzHrx3794OX/P999/j6tWrAAAPDw9s374dDz30EIqLixETE9OhOYhaU1hYiDFjxmDatGn4y1/+gs8++wwAcPnyZQDA1atXlcfXl93c3DB//nz86Ec/woMPPgir1Qqj0ai8DxsbG2//hkiMR+h3sPLyctx9990YOHAgevXqhenTp9uNsVgs6N+/f6uvv/5LYzaboVarER4e3q31ktwGDRqEpqYm7NmzB6+99hrGjBnTodd5enqioqICVqsVoaGhGDp0aJtjm5ub4ebG48ybxT13B7Narfjzn/+MzMxMlJSUoKCgwG5MbGwsPv74Y5SWlmLixIk2fXV1dYiLi8PZs2dRVlZ2R3ytLPVc999/P1577TVcvXoVzc3NWLFiBQ4cOODwdXv27EFqaipycnJw6tQp5Ofntzk2NjYWOTk5OH36NBYsWNCV5f9X4K3/RESS4CkXIiJJMNCJiCTBQCcikgQDnYhIEgx0IiJJMNCJiCTBQCciksT/AQJ50CHLOXjuAAAAAElFTkSuQmCC\n",
            "text/plain": [
              "<Figure size 432x288 with 1 Axes>"
            ]
          },
          "metadata": {},
          "output_type": "display_data"
        }
      ],
      "source": [
        "# сопоставление\n",
        "sns.barplot(x = ['ultra', 'smart'], y = [df_ultra['revenue'].sum(), df_smart['revenue'].sum()]);\n",
        "\n",
        "#введём название\n",
        "plt.title(\"Общая выручка по тарифам\", fontsize = 12);"
      ]
    },
    {
      "cell_type": "markdown",
      "metadata": {
        "id": "W1floPjYCjdI"
      },
      "source": [
        "Из споставления общей выручки видно, что суммарная выручка для 'Smart' больше примерно на 20%"
      ]
    },
    {
      "cell_type": "code",
      "execution_count": null,
      "metadata": {
        "scrolled": true,
        "id": "qpuyQLxtCjdJ",
        "outputId": "e6194944-0d3c-4cfb-99dd-d9e5ef694a99"
      },
      "outputs": [
        {
          "data": {
            "image/png": "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\n",
            "text/plain": [
              "<Figure size 432x288 with 1 Axes>"
            ]
          },
          "metadata": {},
          "output_type": "display_data"
        }
      ],
      "source": [
        "#гистограмма выручки по тарифам\n",
        "df_ultra['revenue'].hist()\n",
        "df_smart['revenue'].hist(alpha = 0.7)\n",
        "\n",
        "plt.title(\"Распределение по выручке для двух тарифов\", fontsize = 18);"
      ]
    },
    {
      "cell_type": "markdown",
      "metadata": {
        "id": "1N0JxH6fCjdK"
      },
      "source": [
        "**3.5.2 Распределение выручки по году**"
      ]
    },
    {
      "cell_type": "code",
      "execution_count": null,
      "metadata": {
        "scrolled": true,
        "id": "drz-AkEaCjdK",
        "outputId": "01ce07ed-9346-4d68-cbc3-cb8dcc3cfd4f"
      },
      "outputs": [
        {
          "data": {
            "image/png": "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\n",
            "text/plain": [
              "<Figure size 1152x432 with 1 Axes>"
            ]
          },
          "metadata": {},
          "output_type": "display_data"
        }
      ],
      "source": [
        "#зададим размер графика\n",
        "plt.figure(figsize=(16, 6))\n",
        "\n",
        "#введём параметры графика\n",
        "sns.barplot(x='month', y='revenue', hue=\"tariff\", data=a, capsize=.2);\n",
        "\n",
        "#введём название\n",
        "plt.title(\"Абсолютная выручка для каждого тарифа по месяцам\", fontsize = 18);"
      ]
    },
    {
      "cell_type": "markdown",
      "metadata": {
        "id": "uPzgMxJYCjdL"
      },
      "source": [
        "В начале года абсолютная вырчка для двух тарифов сопоставима. Однако к концу года вырчка для Смарт практически вдвое больше чем для Ультра."
      ]
    },
    {
      "cell_type": "code",
      "execution_count": null,
      "metadata": {
        "id": "KwHwwLzUCjdL",
        "outputId": "ea8a2653-e899-434d-99f6-1dec84d28c15"
      },
      "outputs": [
        {
          "data": {
            "image/png": "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\n",
            "text/plain": [
              "<Figure size 1152x432 with 1 Axes>"
            ]
          },
          "metadata": {},
          "output_type": "display_data"
        }
      ],
      "source": [
        "#зададим размер графика\n",
        "plt.figure(figsize=(16, 6))\n",
        "\n",
        "#введём параметры графика\n",
        "sns.barplot(x='month', y='revenue', hue=\"tariff\", data=revenue, capsize=.2);\n",
        "\n",
        "#введём название\n",
        "plt.title(\"Средняя выручка для каждого тарифа по месяцам\", fontsize = 18);"
      ]
    },
    {
      "cell_type": "markdown",
      "metadata": {
        "id": "fvm4NkIoCjdL"
      },
      "source": [
        "Видим, что для Ультра средняя вырчка стабильна в течение года, в то время как для Смарт она возрастает и с двукратного \"отставания\" на конце года составляет 80% от Ультры. "
      ]
    },
    {
      "cell_type": "markdown",
      "metadata": {
        "id": "t16OF0T6CjdM"
      },
      "source": [
        "Исходя из двух графиков видим, что на фоне роста абсолютного значения выручки для Смарта и роста средней выручки в течение года, этот тариф более привлекательный для оператора с точки зрения выручки."
      ]
    },
    {
      "cell_type": "markdown",
      "metadata": {
        "id": "vqYK4g_ACjdM"
      },
      "source": [
        "### Выводы по Шагу 3"
      ]
    },
    {
      "cell_type": "markdown",
      "metadata": {
        "id": "Z7Ms0jfGCjdM"
      },
      "source": [
        "На третьем этапе было проведено сранение пользователей двух тарифов. Рассчитано среднее, отклонение и дисперсия по звонкам, СМС и траифку. Построены гистограммы, рассмотрена динамика для каждого месяца в течение года. <br/>\n",
        "Пользователей Smart больше, однако по минутм звонков, кол-ву СМС и объёму трафика Ultra превосходит Smart. <br/>\n",
        "\n",
        "С точки зрения абсолютной выручки лидирует Смарт, а на конец года он значительно \"догоняет\" Ультру.\n",
        "\n",
        "На следующем шаге проверим гипотезу о том, какой тариф приносит больше денег для оператора. \n"
      ]
    },
    {
      "cell_type": "markdown",
      "metadata": {
        "id": "gMk-ZkRfCjdM"
      },
      "source": [
        "## Шаг 4 - Проверка гипотез"
      ]
    },
    {
      "cell_type": "markdown",
      "metadata": {
        "id": "doE7OS0kCjdN"
      },
      "source": [
        "### Гипотеза 1"
      ]
    },
    {
      "cell_type": "markdown",
      "metadata": {
        "id": "N3XFOGxMCjdN"
      },
      "source": [
        "Средняя выручка пользователей тарифов «Ультра» и «Смарт» различаются"
      ]
    },
    {
      "cell_type": "markdown",
      "metadata": {
        "id": "Cj1fatyOCjdN"
      },
      "source": [
        "Сформулируем нулевую гипотезу.<br/>\n",
        "Нулевая гипотеза формируется, как правило, с использованием знака равенства. То есть в нашем случае будет так: <br/>\n",
        "H0: \"Cредння выручка в месяц на пользователя для тарифов Smart и Ultra равны\" <br/>\n",
        "Альтернативная гипотеза H1: \"Среедння выручка в месяц на пользователя различается\" <br/>\n",
        "Таким образом будем проверять гипотезу о равенстве двух совокупностей. "
      ]
    },
    {
      "cell_type": "code",
      "execution_count": null,
      "metadata": {
        "id": "Sz3qBZ7-CjdP",
        "outputId": "0447aa77-d49b-48f1-8ad1-2caa3033e242"
      },
      "outputs": [
        {
          "name": "stdout",
          "output_type": "stream",
          "text": [
            "p-значение: 8.081909555489933e-161\n",
            "Отвергаем нулевую гипотезу\n"
          ]
        }
      ],
      "source": [
        "# выполняем статистический тест\n",
        "results = st.ttest_ind(\n",
        "  df_smart['revenue'], \n",
        "    df_ultra['revenue'])\n",
        "\n",
        "print('p-значение:', results.pvalue)\n",
        "\n",
        "# задаём порог статистической значимости\n",
        "# если p-value окажется меньше него - отвегнем гипотезу\n",
        "alpha = 0.01\n",
        "\n",
        "# проверим результат\n",
        "if results.pvalue < alpha:\n",
        "    print(\"Отвергаем нулевую гипотезу\")\n",
        "else:\n",
        "    print(\"Не получилось отвергнуть нулевую гипотезу\")"
      ]
    },
    {
      "cell_type": "markdown",
      "metadata": {
        "id": "YJ8QhEM-CjdQ"
      },
      "source": [
        "Наша нулевая гипотеза утверждала, что выручка для тарифов равна. Значение p-value полчусилось очень малым, меньше порога статистической значимости. Наши данные выдают очень маловероятный результат. Скорее мы получим такие данные случайно.  <br/>\n",
        "Таким образом Вы вынуждены отврегнуть нулевую гипотезу и принять альтернативную: \"Выручки различаются\". <br/>"
      ]
    },
    {
      "cell_type": "markdown",
      "metadata": {
        "id": "_t2b1Ut8CjdQ"
      },
      "source": [
        "### Гипотеза 2"
      ]
    },
    {
      "cell_type": "markdown",
      "metadata": {
        "id": "liXC4rgBCjdR"
      },
      "source": [
        "Средняя выручка пользователей из Москвы отличается от выручки пользователей из других регионов"
      ]
    },
    {
      "cell_type": "markdown",
      "metadata": {
        "id": "JBNI0OQZCjdR"
      },
      "source": [
        "Сформулируем нулевую гипотезу.<br/>\n",
        "Нулевая гипотеза формируется, как правило, с использованием знака равенства. То есть в нашем случае будет так: <br/>\n",
        "H0: \"Средняя выручка пользователей из Москвы равна выручке пользователей из других регионов\" <br/>\n",
        "Альтернативная гипотеза H1: \"Среедння выручка для пользователей Мсоквы и регионов различается\" <br/>\n",
        "Таким образом будем проверять гипотезу о равенстве двух совокупностей. \n",
        "\n",
        "Для проверки гипотезы введём дополнительный столбец, Из Москвы пользователь или из региона"
      ]
    },
    {
      "cell_type": "code",
      "execution_count": null,
      "metadata": {
        "id": "j3enXCOiCjdR"
      },
      "outputs": [],
      "source": [
        "# Функция клиссификации\n",
        "def region(x):\n",
        "    if x == 'Москва':\n",
        "        return 'Москва'\n",
        "    else:\n",
        "        return 'Регион'"
      ]
    },
    {
      "cell_type": "code",
      "execution_count": null,
      "metadata": {
        "id": "iG8Ut5Z4CjdS",
        "outputId": "c0c4e9bb-f268-4ff1-83f6-20c49de136aa"
      },
      "outputs": [
        {
          "data": {
            "text/plain": [
              "0       Регион\n",
              "1       Регион\n",
              "2       Регион\n",
              "3       Регион\n",
              "4       Регион\n",
              "         ...  \n",
              "3211    Регион\n",
              "3212    Регион\n",
              "3213    Москва\n",
              "3214    Регион\n",
              "3215    Регион\n",
              "Name: region, Length: 3216, dtype: object"
            ]
          },
          "execution_count": 75,
          "metadata": {},
          "output_type": "execute_result"
        }
      ],
      "source": [
        "# добавляем столбец \n",
        "revenue['region'] = revenue['city'].apply(region)\n",
        "revenue['region'] "
      ]
    },
    {
      "cell_type": "code",
      "execution_count": null,
      "metadata": {
        "id": "dJ8MIQ2PCjdS"
      },
      "outputs": [],
      "source": [
        "# выборка по Москве\n",
        "revenue_moscow = revenue[revenue['region'] == 'Москва']"
      ]
    },
    {
      "cell_type": "code",
      "execution_count": null,
      "metadata": {
        "id": "qMM5TIFyCjdS"
      },
      "outputs": [],
      "source": [
        "# выборка по Регионам\n",
        "revenue_region = revenue[revenue['region'] == 'Регион']"
      ]
    },
    {
      "cell_type": "code",
      "execution_count": null,
      "metadata": {
        "id": "7BshIVnKCjdT",
        "outputId": "02489342-505d-432b-8012-9081f2daf5af"
      },
      "outputs": [
        {
          "name": "stdout",
          "output_type": "stream",
          "text": [
            "p-значение:  0.5400751614511182\n",
            "Не получилось отвергнуть нулевую гипотезу\n"
          ]
        }
      ],
      "source": [
        "# проведём статистический тест\n",
        "results = st.ttest_ind(\n",
        "    revenue_moscow['revenue'], \n",
        "    revenue_region['revenue'])\n",
        "\n",
        "# критический уровень статистической значимости\n",
        "# если p-value окажется меньше него - отвегнем гипотезу\n",
        "alpha = 0.01 \n",
        "\n",
        "print('p-значение: ', results.pvalue)\n",
        "\n",
        "if results.pvalue < alpha:\n",
        "    print(\"Отвергаем нулевую гипотезу\")\n",
        "else:\n",
        "    print(\"Не получилось отвергнуть нулевую гипотезу\") "
      ]
    },
    {
      "cell_type": "markdown",
      "metadata": {
        "id": "uohcOTseCjdU"
      },
      "source": [
        "В результате теста мы получили данные, которые не противоречат нулевой гипотезе. \n",
        "Мы получили p-value 54 %, что существенно больше значения 1% для порога статистчиеской значимости."
      ]
    },
    {
      "cell_type": "markdown",
      "metadata": {
        "id": "hxVEduueCjdV"
      },
      "source": [
        "### Выводы по Шагу 4"
      ]
    },
    {
      "cell_type": "markdown",
      "metadata": {
        "id": "GhMNEEHVCjdV"
      },
      "source": [
        "На данном шаге были проверены две гипотезы статистическими методами. Полученный нами результат говорит о том, что средняя выручка для двух тарифов различается, в то время как для Москвы и для Регионов выручка сопоставима. "
      ]
    },
    {
      "cell_type": "markdown",
      "metadata": {
        "id": "vn2G1GHWCjdV"
      },
      "source": [
        "## Общий Вывод"
      ]
    },
    {
      "cell_type": "markdown",
      "metadata": {
        "id": "bDrsDsvJCjdW"
      },
      "source": [
        "**В ходе данного исследования были достигнуты учебные и практические цели:**\n",
        "* закреплён пройденный материал и навыки работы с Pandas, проведения EDA, исследовательского и статистичесокго анализа данных полученных ранее;\n",
        "* проверены гипотезы о наиболее выгодном тарифе для компании.\n",
        "\n",
        "**Анализ данной выборки по пользователям показывает, что:**\n",
        "* суммарная вырчука от тарифа Смарт больше чем от тарифа Ультра;\n",
        "* в то же время в среднем на одного пользователя выручка для Ультра больше чем для Смарт, но для Смарт средняя вырчука растёт и догоняет Ультру;\n",
        "* для регионов и для Москвы выручка оператора одинакова;\n",
        "* на основании имеющихся данных Смарт выглядит привлекательнее, но мы не можем рекомендовать тот или иной тариф, потому как не имеем данных о конверсии и стоимости одного пользоватедя для каждого тарифа. Чтобы делать такие выводы, необходиом сравнивать прибыли. \n",
        "\n",
        "**Полученный пайплайн можно использовать в дальнейших исследованиях по формированию рекламного бюджета для того или иного тарифа и региона.**\n"
      ]
    }
  ],
  "metadata": {
    "ExecuteTimeLog": [
      {
        "duration": 1501,
        "start_time": "2022-03-16T02:12:55.743Z"
      },
      {
        "duration": 5,
        "start_time": "2022-03-16T02:14:35.519Z"
      },
      {
        "duration": 1706,
        "start_time": "2022-03-16T02:16:39.015Z"
      },
      {
        "duration": 190,
        "start_time": "2022-03-16T02:17:12.002Z"
      },
      {
        "duration": 196,
        "start_time": "2022-03-16T02:17:19.602Z"
      },
      {
        "duration": 191,
        "start_time": "2022-03-16T02:17:30.059Z"
      },
      {
        "duration": 416,
        "start_time": "2022-03-16T02:18:01.703Z"
      },
      {
        "duration": 395,
        "start_time": "2022-03-16T02:18:12.209Z"
      },
      {
        "duration": 179,
        "start_time": "2022-03-16T02:18:19.607Z"
      },
      {
        "duration": 191,
        "start_time": "2022-03-16T02:18:27.808Z"
      },
      {
        "duration": 190,
        "start_time": "2022-03-16T02:18:52.681Z"
      },
      {
        "duration": 292,
        "start_time": "2022-03-16T02:19:03.529Z"
      },
      {
        "duration": 82,
        "start_time": "2022-03-16T02:19:12.212Z"
      },
      {
        "duration": 200,
        "start_time": "2022-03-16T02:19:18.224Z"
      },
      {
        "duration": 80,
        "start_time": "2022-03-16T02:19:25.688Z"
      },
      {
        "duration": 188,
        "start_time": "2022-03-16T02:19:31.503Z"
      },
      {
        "duration": 212,
        "start_time": "2022-03-16T02:20:13.009Z"
      },
      {
        "duration": 220,
        "start_time": "2022-03-16T02:20:21.495Z"
      },
      {
        "duration": 138,
        "start_time": "2022-03-16T02:24:18.555Z"
      },
      {
        "duration": 137,
        "start_time": "2022-03-16T02:24:25.356Z"
      },
      {
        "duration": 118,
        "start_time": "2022-03-16T02:24:49.873Z"
      },
      {
        "duration": 136,
        "start_time": "2022-03-16T02:24:53.876Z"
      },
      {
        "duration": 204,
        "start_time": "2022-03-16T02:26:51.460Z"
      },
      {
        "duration": 38,
        "start_time": "2022-03-16T02:28:42.324Z"
      },
      {
        "duration": 31,
        "start_time": "2022-03-16T02:30:14.954Z"
      },
      {
        "duration": 14,
        "start_time": "2022-03-16T02:53:17.467Z"
      },
      {
        "duration": 53,
        "start_time": "2022-03-16T02:53:59.043Z"
      },
      {
        "duration": 63,
        "start_time": "2022-03-16T02:54:15.906Z"
      },
      {
        "duration": 22,
        "start_time": "2022-03-16T02:54:49.303Z"
      },
      {
        "duration": 239,
        "start_time": "2022-03-16T03:02:54.596Z"
      },
      {
        "duration": 122,
        "start_time": "2022-03-16T03:03:08.895Z"
      },
      {
        "duration": 68,
        "start_time": "2022-03-16T03:03:56.911Z"
      },
      {
        "duration": 77,
        "start_time": "2022-03-16T03:04:39.947Z"
      },
      {
        "duration": 12,
        "start_time": "2022-03-16T03:05:19.314Z"
      },
      {
        "duration": 32,
        "start_time": "2022-03-16T03:18:44.134Z"
      },
      {
        "duration": 41,
        "start_time": "2022-03-16T03:18:59.434Z"
      },
      {
        "duration": 285,
        "start_time": "2022-03-16T03:19:21.224Z"
      },
      {
        "duration": 257,
        "start_time": "2022-03-16T03:19:35.163Z"
      },
      {
        "duration": 260,
        "start_time": "2022-03-16T03:19:45.750Z"
      },
      {
        "duration": 264,
        "start_time": "2022-03-16T03:19:51.509Z"
      },
      {
        "duration": 37,
        "start_time": "2022-03-16T03:20:42.129Z"
      },
      {
        "duration": 47,
        "start_time": "2022-03-16T03:21:02.462Z"
      },
      {
        "duration": 257,
        "start_time": "2022-03-16T03:25:36.559Z"
      },
      {
        "duration": 39,
        "start_time": "2022-03-16T03:25:50.018Z"
      },
      {
        "duration": 30,
        "start_time": "2022-03-16T03:25:57.278Z"
      },
      {
        "duration": 30,
        "start_time": "2022-03-16T03:26:08.570Z"
      },
      {
        "duration": 31,
        "start_time": "2022-03-16T03:26:23.109Z"
      },
      {
        "duration": 33,
        "start_time": "2022-03-16T03:27:09.138Z"
      },
      {
        "duration": 33,
        "start_time": "2022-03-16T03:27:15.146Z"
      },
      {
        "duration": 64,
        "start_time": "2022-03-16T03:44:16.577Z"
      },
      {
        "duration": 25,
        "start_time": "2022-03-16T03:45:19.182Z"
      },
      {
        "duration": 257,
        "start_time": "2022-03-16T03:45:42.451Z"
      },
      {
        "duration": 32,
        "start_time": "2022-03-16T03:46:05.216Z"
      },
      {
        "duration": 59,
        "start_time": "2022-03-16T03:47:51.195Z"
      },
      {
        "duration": 40,
        "start_time": "2022-03-16T03:48:53.910Z"
      },
      {
        "duration": 4,
        "start_time": "2022-03-16T03:52:30.598Z"
      },
      {
        "duration": 231,
        "start_time": "2022-03-16T03:54:36.156Z"
      },
      {
        "duration": 25,
        "start_time": "2022-03-16T03:54:55.970Z"
      },
      {
        "duration": 338,
        "start_time": "2022-03-16T03:56:16.187Z"
      },
      {
        "duration": 264,
        "start_time": "2022-03-16T03:56:20.543Z"
      },
      {
        "duration": 5,
        "start_time": "2022-03-16T03:56:23.811Z"
      },
      {
        "duration": 5,
        "start_time": "2022-03-16T03:56:44.907Z"
      },
      {
        "duration": 5,
        "start_time": "2022-03-16T03:57:06.955Z"
      },
      {
        "duration": 36,
        "start_time": "2022-03-16T03:57:46.377Z"
      },
      {
        "duration": 42,
        "start_time": "2022-03-16T03:57:50.273Z"
      },
      {
        "duration": 30,
        "start_time": "2022-03-16T04:02:16.570Z"
      },
      {
        "duration": 32,
        "start_time": "2022-03-16T04:04:54.204Z"
      },
      {
        "duration": 221,
        "start_time": "2022-03-16T04:07:40.348Z"
      },
      {
        "duration": 30,
        "start_time": "2022-03-16T04:07:44.586Z"
      },
      {
        "duration": 246,
        "start_time": "2022-03-16T04:07:55.224Z"
      },
      {
        "duration": 14,
        "start_time": "2022-03-16T04:08:01.691Z"
      },
      {
        "duration": 206,
        "start_time": "2022-03-16T04:26:39.015Z"
      },
      {
        "duration": 191,
        "start_time": "2022-03-16T04:27:18.633Z"
      },
      {
        "duration": 34,
        "start_time": "2022-03-16T04:27:40.713Z"
      },
      {
        "duration": 34,
        "start_time": "2022-03-16T04:27:49.641Z"
      },
      {
        "duration": 35,
        "start_time": "2022-03-16T04:28:32.104Z"
      },
      {
        "duration": 13,
        "start_time": "2022-03-16T04:28:53.881Z"
      },
      {
        "duration": 32,
        "start_time": "2022-03-16T04:29:08.055Z"
      },
      {
        "duration": 24,
        "start_time": "2022-03-16T04:29:17.528Z"
      },
      {
        "duration": 3,
        "start_time": "2022-03-16T04:31:02.267Z"
      },
      {
        "duration": 5787,
        "start_time": "2022-03-16T04:32:06.468Z"
      },
      {
        "duration": 5493,
        "start_time": "2022-03-16T04:32:39.553Z"
      },
      {
        "duration": 14,
        "start_time": "2022-03-16T04:32:46.576Z"
      },
      {
        "duration": 8,
        "start_time": "2022-03-16T04:32:53.500Z"
      },
      {
        "duration": 8,
        "start_time": "2022-03-16T04:33:01.195Z"
      },
      {
        "duration": 9,
        "start_time": "2022-03-16T04:33:29.042Z"
      },
      {
        "duration": 9,
        "start_time": "2022-03-16T04:33:32.414Z"
      },
      {
        "duration": 8,
        "start_time": "2022-03-16T04:33:37.404Z"
      },
      {
        "duration": 11,
        "start_time": "2022-03-16T04:35:18.610Z"
      },
      {
        "duration": 9,
        "start_time": "2022-03-16T04:35:23.741Z"
      },
      {
        "duration": 37,
        "start_time": "2022-03-16T04:38:08.737Z"
      },
      {
        "duration": 4,
        "start_time": "2022-03-16T04:38:48.047Z"
      },
      {
        "duration": 6,
        "start_time": "2022-03-16T04:39:00.168Z"
      },
      {
        "duration": 27,
        "start_time": "2022-03-16T04:39:17.533Z"
      },
      {
        "duration": 9,
        "start_time": "2022-03-16T04:39:34.541Z"
      },
      {
        "duration": 5,
        "start_time": "2022-03-16T04:42:02.638Z"
      },
      {
        "duration": 15,
        "start_time": "2022-03-16T04:42:52.301Z"
      },
      {
        "duration": 12,
        "start_time": "2022-03-16T04:43:06.646Z"
      },
      {
        "duration": 8,
        "start_time": "2022-03-16T04:43:25.408Z"
      },
      {
        "duration": 226,
        "start_time": "2022-03-16T04:45:07.315Z"
      },
      {
        "duration": 10,
        "start_time": "2022-03-16T04:45:25.260Z"
      },
      {
        "duration": 5,
        "start_time": "2022-03-16T04:47:26.088Z"
      },
      {
        "duration": 6,
        "start_time": "2022-03-16T04:47:40.362Z"
      },
      {
        "duration": 6,
        "start_time": "2022-03-16T04:47:52.539Z"
      },
      {
        "duration": 6,
        "start_time": "2022-03-16T04:49:33.442Z"
      },
      {
        "duration": 31,
        "start_time": "2022-03-16T04:55:19.439Z"
      },
      {
        "duration": 24,
        "start_time": "2022-03-16T04:55:40.907Z"
      },
      {
        "duration": 21,
        "start_time": "2022-03-16T04:56:18.513Z"
      },
      {
        "duration": 239,
        "start_time": "2022-03-16T05:12:13.380Z"
      },
      {
        "duration": 35,
        "start_time": "2022-03-16T05:13:23.713Z"
      },
      {
        "duration": 22,
        "start_time": "2022-03-16T05:13:37.380Z"
      },
      {
        "duration": 6,
        "start_time": "2022-03-16T05:14:43.086Z"
      },
      {
        "duration": 227,
        "start_time": "2022-03-16T05:15:48.702Z"
      },
      {
        "duration": 260,
        "start_time": "2022-03-16T05:16:18.196Z"
      },
      {
        "duration": 11,
        "start_time": "2022-03-16T05:16:22.250Z"
      },
      {
        "duration": 6,
        "start_time": "2022-03-16T05:16:56.604Z"
      },
      {
        "duration": 11,
        "start_time": "2022-03-16T05:17:22.992Z"
      },
      {
        "duration": 13,
        "start_time": "2022-03-16T05:19:56.774Z"
      },
      {
        "duration": 8,
        "start_time": "2022-03-16T05:20:42.063Z"
      },
      {
        "duration": 9,
        "start_time": "2022-03-16T05:20:51.382Z"
      },
      {
        "duration": 10,
        "start_time": "2022-03-16T05:20:56.859Z"
      },
      {
        "duration": 6,
        "start_time": "2022-03-16T05:21:03.097Z"
      },
      {
        "duration": 12,
        "start_time": "2022-03-16T05:22:12.629Z"
      },
      {
        "duration": 193,
        "start_time": "2022-03-16T05:25:55.714Z"
      },
      {
        "duration": 9,
        "start_time": "2022-03-16T06:50:01.228Z"
      },
      {
        "duration": 267,
        "start_time": "2022-03-16T06:50:22.300Z"
      },
      {
        "duration": 287,
        "start_time": "2022-03-16T06:50:32.947Z"
      },
      {
        "duration": 245,
        "start_time": "2022-03-16T06:51:33.434Z"
      },
      {
        "duration": 6,
        "start_time": "2022-03-16T06:53:26.849Z"
      },
      {
        "duration": 367,
        "start_time": "2022-03-16T06:55:03.597Z"
      },
      {
        "duration": 626,
        "start_time": "2022-03-16T06:55:16.013Z"
      },
      {
        "duration": 363,
        "start_time": "2022-03-16T06:55:24.366Z"
      },
      {
        "duration": 265,
        "start_time": "2022-03-16T06:55:28.835Z"
      },
      {
        "duration": 371,
        "start_time": "2022-03-16T06:55:33.314Z"
      },
      {
        "duration": 79,
        "start_time": "2022-03-16T06:56:30.678Z"
      },
      {
        "duration": 11,
        "start_time": "2022-03-16T06:56:40.267Z"
      },
      {
        "duration": 375,
        "start_time": "2022-03-16T06:56:51.507Z"
      },
      {
        "duration": 691,
        "start_time": "2022-03-16T06:57:11.827Z"
      },
      {
        "duration": 276,
        "start_time": "2022-03-16T06:58:25.553Z"
      },
      {
        "duration": 86,
        "start_time": "2022-03-16T06:58:35.705Z"
      },
      {
        "duration": 507,
        "start_time": "2022-03-16T06:58:41.566Z"
      },
      {
        "duration": 509,
        "start_time": "2022-03-16T06:58:52.484Z"
      },
      {
        "duration": 283,
        "start_time": "2022-03-16T06:58:58.071Z"
      },
      {
        "duration": 324,
        "start_time": "2022-03-16T06:59:23.503Z"
      },
      {
        "duration": 613,
        "start_time": "2022-03-16T07:00:08.369Z"
      },
      {
        "duration": 3435,
        "start_time": "2022-03-16T07:01:04.983Z"
      },
      {
        "duration": 6,
        "start_time": "2022-03-16T07:01:12.844Z"
      },
      {
        "duration": 5,
        "start_time": "2022-03-16T07:01:18.823Z"
      },
      {
        "duration": 641,
        "start_time": "2022-03-16T07:02:29.944Z"
      },
      {
        "duration": 292,
        "start_time": "2022-03-16T07:02:39.407Z"
      },
      {
        "duration": 267,
        "start_time": "2022-03-16T07:02:52.303Z"
      },
      {
        "duration": 309,
        "start_time": "2022-03-16T07:03:01.379Z"
      },
      {
        "duration": 178,
        "start_time": "2022-03-16T07:03:24.412Z"
      },
      {
        "duration": 344,
        "start_time": "2022-03-16T07:03:36.522Z"
      },
      {
        "duration": 377,
        "start_time": "2022-03-16T07:04:00.259Z"
      },
      {
        "duration": 278,
        "start_time": "2022-03-16T07:04:12.343Z"
      },
      {
        "duration": 300,
        "start_time": "2022-03-16T07:04:47.859Z"
      },
      {
        "duration": 306,
        "start_time": "2022-03-16T07:05:29.254Z"
      },
      {
        "duration": 10638,
        "start_time": "2022-03-16T07:07:16.773Z"
      },
      {
        "duration": 17,
        "start_time": "2022-03-16T07:07:32.946Z"
      },
      {
        "duration": 10,
        "start_time": "2022-03-16T07:08:02.788Z"
      },
      {
        "duration": 11,
        "start_time": "2022-03-16T07:08:10.630Z"
      },
      {
        "duration": 322,
        "start_time": "2022-03-16T07:09:03.915Z"
      },
      {
        "duration": 298,
        "start_time": "2022-03-16T07:10:23.775Z"
      },
      {
        "duration": 307,
        "start_time": "2022-03-16T07:10:37.091Z"
      },
      {
        "duration": 364,
        "start_time": "2022-03-16T07:10:55.398Z"
      },
      {
        "duration": 30,
        "start_time": "2022-03-16T07:13:53.367Z"
      },
      {
        "duration": 447,
        "start_time": "2022-03-16T07:14:32.079Z"
      },
      {
        "duration": 13,
        "start_time": "2022-03-16T07:14:42.190Z"
      },
      {
        "duration": 341,
        "start_time": "2022-03-16T07:15:16.205Z"
      },
      {
        "duration": 318,
        "start_time": "2022-03-16T07:15:21.091Z"
      },
      {
        "duration": 12,
        "start_time": "2022-03-16T07:15:23.195Z"
      },
      {
        "duration": 299,
        "start_time": "2022-03-16T07:16:30.555Z"
      },
      {
        "duration": 296,
        "start_time": "2022-03-16T07:16:55.000Z"
      },
      {
        "duration": 309,
        "start_time": "2022-03-16T07:17:09.295Z"
      },
      {
        "duration": 336,
        "start_time": "2022-03-16T07:17:45.373Z"
      },
      {
        "duration": 298,
        "start_time": "2022-03-16T07:19:22.434Z"
      },
      {
        "duration": 13,
        "start_time": "2022-03-16T07:25:44.704Z"
      },
      {
        "duration": 29,
        "start_time": "2022-03-16T07:26:28.541Z"
      },
      {
        "duration": 1832,
        "start_time": "2022-03-16T07:28:29.956Z"
      },
      {
        "duration": 1783,
        "start_time": "2022-03-16T07:28:52.799Z"
      },
      {
        "duration": 1785,
        "start_time": "2022-03-16T07:29:45.182Z"
      },
      {
        "duration": 1384,
        "start_time": "2022-03-16T07:30:06.902Z"
      },
      {
        "duration": 1497,
        "start_time": "2022-03-16T07:30:13.799Z"
      },
      {
        "duration": 1347,
        "start_time": "2022-03-16T07:30:47.768Z"
      },
      {
        "duration": 35,
        "start_time": "2022-03-16T07:31:12.677Z"
      },
      {
        "duration": 8,
        "start_time": "2022-03-16T07:31:34.775Z"
      },
      {
        "duration": 10,
        "start_time": "2022-03-16T07:31:46.822Z"
      },
      {
        "duration": 13,
        "start_time": "2022-03-16T07:32:29.431Z"
      },
      {
        "duration": 10,
        "start_time": "2022-03-16T07:32:37.495Z"
      },
      {
        "duration": 1392,
        "start_time": "2022-03-16T07:33:11.428Z"
      },
      {
        "duration": 1490,
        "start_time": "2022-03-16T07:33:16.711Z"
      },
      {
        "duration": 1822,
        "start_time": "2022-03-16T07:34:10.162Z"
      },
      {
        "duration": 10,
        "start_time": "2022-03-16T07:34:32.940Z"
      },
      {
        "duration": 9,
        "start_time": "2022-03-16T07:34:43.740Z"
      },
      {
        "duration": 1516,
        "start_time": "2022-03-16T07:35:37.804Z"
      },
      {
        "duration": 14,
        "start_time": "2022-03-16T07:37:34.048Z"
      },
      {
        "duration": 18,
        "start_time": "2022-03-16T07:38:12.241Z"
      },
      {
        "duration": 8,
        "start_time": "2022-03-16T07:38:21.808Z"
      },
      {
        "duration": 226,
        "start_time": "2022-03-16T07:39:12.158Z"
      },
      {
        "duration": 20,
        "start_time": "2022-03-16T07:39:18.258Z"
      },
      {
        "duration": 260,
        "start_time": "2022-03-16T07:39:50.352Z"
      },
      {
        "duration": 20,
        "start_time": "2022-03-16T07:40:00.784Z"
      },
      {
        "duration": 12,
        "start_time": "2022-03-16T07:40:08.724Z"
      },
      {
        "duration": 375,
        "start_time": "2022-03-16T07:40:14.071Z"
      },
      {
        "duration": 293,
        "start_time": "2022-03-16T07:40:21.388Z"
      },
      {
        "duration": 27,
        "start_time": "2022-03-16T07:40:30.239Z"
      },
      {
        "duration": 2880,
        "start_time": "2022-03-16T07:40:54.848Z"
      },
      {
        "duration": 611,
        "start_time": "2022-03-16T07:41:11.959Z"
      },
      {
        "duration": 464,
        "start_time": "2022-03-16T07:41:49.083Z"
      },
      {
        "duration": 19,
        "start_time": "2022-03-16T07:46:26.245Z"
      },
      {
        "duration": 19,
        "start_time": "2022-03-16T07:46:35.520Z"
      },
      {
        "duration": 583,
        "start_time": "2022-03-16T07:47:10.333Z"
      },
      {
        "duration": 577,
        "start_time": "2022-03-16T07:47:22.683Z"
      },
      {
        "duration": 11,
        "start_time": "2022-03-16T07:51:41.974Z"
      },
      {
        "duration": 25,
        "start_time": "2022-03-16T07:51:44.737Z"
      },
      {
        "duration": 13,
        "start_time": "2022-03-16T07:52:07.957Z"
      },
      {
        "duration": 17,
        "start_time": "2022-03-16T07:52:18.393Z"
      },
      {
        "duration": 429,
        "start_time": "2022-03-16T07:53:04.543Z"
      },
      {
        "duration": 12,
        "start_time": "2022-03-16T07:53:22.618Z"
      },
      {
        "duration": 33,
        "start_time": "2022-03-16T07:54:19.014Z"
      },
      {
        "duration": 24,
        "start_time": "2022-03-16T07:54:47.973Z"
      },
      {
        "duration": 567,
        "start_time": "2022-03-16T07:58:14.527Z"
      },
      {
        "duration": 12,
        "start_time": "2022-03-16T07:58:47.487Z"
      },
      {
        "duration": 1159,
        "start_time": "2022-03-17T02:09:16.308Z"
      },
      {
        "duration": 181,
        "start_time": "2022-03-17T02:09:17.469Z"
      },
      {
        "duration": 128,
        "start_time": "2022-03-17T02:09:17.652Z"
      },
      {
        "duration": 105,
        "start_time": "2022-03-17T02:09:17.782Z"
      },
      {
        "duration": 67,
        "start_time": "2022-03-17T02:09:17.888Z"
      },
      {
        "duration": 165,
        "start_time": "2022-03-17T02:09:17.957Z"
      },
      {
        "duration": 68,
        "start_time": "2022-03-17T02:09:18.124Z"
      },
      {
        "duration": 49,
        "start_time": "2022-03-17T02:09:18.194Z"
      },
      {
        "duration": 8,
        "start_time": "2022-03-17T02:09:18.245Z"
      },
      {
        "duration": 23,
        "start_time": "2022-03-17T02:09:18.255Z"
      },
      {
        "duration": 89,
        "start_time": "2022-03-17T02:09:18.280Z"
      },
      {
        "duration": 33,
        "start_time": "2022-03-17T02:09:18.370Z"
      },
      {
        "duration": 4,
        "start_time": "2022-03-17T02:09:18.405Z"
      },
      {
        "duration": 62,
        "start_time": "2022-03-17T02:09:18.411Z"
      },
      {
        "duration": 21,
        "start_time": "2022-03-17T02:09:18.475Z"
      },
      {
        "duration": 14,
        "start_time": "2022-03-17T02:09:18.498Z"
      },
      {
        "duration": 66,
        "start_time": "2022-03-17T02:09:18.514Z"
      },
      {
        "duration": 30,
        "start_time": "2022-03-17T02:09:18.582Z"
      },
      {
        "duration": 26,
        "start_time": "2022-03-17T02:09:18.613Z"
      },
      {
        "duration": 4,
        "start_time": "2022-03-17T02:09:18.641Z"
      },
      {
        "duration": 22,
        "start_time": "2022-03-17T02:09:18.646Z"
      },
      {
        "duration": 17,
        "start_time": "2022-03-17T02:09:18.670Z"
      },
      {
        "duration": 52,
        "start_time": "2022-03-17T02:09:18.690Z"
      },
      {
        "duration": 7,
        "start_time": "2022-03-17T02:09:18.744Z"
      },
      {
        "duration": 15,
        "start_time": "2022-03-17T02:09:18.753Z"
      },
      {
        "duration": 4,
        "start_time": "2022-03-17T02:09:18.770Z"
      },
      {
        "duration": 9,
        "start_time": "2022-03-17T02:09:18.776Z"
      },
      {
        "duration": 9,
        "start_time": "2022-03-17T02:09:18.787Z"
      },
      {
        "duration": 43,
        "start_time": "2022-03-17T02:09:18.798Z"
      },
      {
        "duration": 5,
        "start_time": "2022-03-17T02:09:18.842Z"
      },
      {
        "duration": 10,
        "start_time": "2022-03-17T02:09:18.848Z"
      },
      {
        "duration": 16,
        "start_time": "2022-03-17T02:09:18.860Z"
      },
      {
        "duration": 13,
        "start_time": "2022-03-17T02:09:18.877Z"
      },
      {
        "duration": 12,
        "start_time": "2022-03-17T02:09:18.891Z"
      },
      {
        "duration": 9,
        "start_time": "2022-03-17T02:09:18.904Z"
      },
      {
        "duration": 152,
        "start_time": "2022-03-17T02:09:18.915Z"
      },
      {
        "duration": 351,
        "start_time": "2022-03-17T02:09:19.068Z"
      },
      {
        "duration": 917,
        "start_time": "2022-03-17T02:09:19.421Z"
      },
      {
        "duration": 7,
        "start_time": "2022-03-17T02:09:20.340Z"
      },
      {
        "duration": 364,
        "start_time": "2022-03-17T02:09:20.348Z"
      },
      {
        "duration": 432,
        "start_time": "2022-03-17T02:30:20.252Z"
      },
      {
        "duration": 347,
        "start_time": "2022-03-17T02:30:38.969Z"
      },
      {
        "duration": 888,
        "start_time": "2022-03-17T02:36:12.169Z"
      },
      {
        "duration": 902,
        "start_time": "2022-03-17T02:37:34.504Z"
      },
      {
        "duration": 1252,
        "start_time": "2022-03-18T04:52:34.893Z"
      },
      {
        "duration": 180,
        "start_time": "2022-03-18T04:52:36.147Z"
      },
      {
        "duration": 132,
        "start_time": "2022-03-18T04:52:36.328Z"
      },
      {
        "duration": 106,
        "start_time": "2022-03-18T04:52:36.462Z"
      },
      {
        "duration": 53,
        "start_time": "2022-03-18T04:52:36.571Z"
      },
      {
        "duration": 166,
        "start_time": "2022-03-18T04:52:36.626Z"
      },
      {
        "duration": 71,
        "start_time": "2022-03-18T04:52:36.794Z"
      },
      {
        "duration": 34,
        "start_time": "2022-03-18T04:52:36.868Z"
      },
      {
        "duration": 11,
        "start_time": "2022-03-18T04:52:36.903Z"
      },
      {
        "duration": 35,
        "start_time": "2022-03-18T04:52:36.918Z"
      },
      {
        "duration": 59,
        "start_time": "2022-03-18T04:52:36.963Z"
      },
      {
        "duration": 45,
        "start_time": "2022-03-18T04:52:37.024Z"
      },
      {
        "duration": 3,
        "start_time": "2022-03-18T04:52:37.071Z"
      },
      {
        "duration": 45,
        "start_time": "2022-03-18T04:52:37.076Z"
      },
      {
        "duration": 19,
        "start_time": "2022-03-18T04:52:37.122Z"
      },
      {
        "duration": 20,
        "start_time": "2022-03-18T04:52:37.143Z"
      },
      {
        "duration": 46,
        "start_time": "2022-03-18T04:52:37.164Z"
      },
      {
        "duration": 27,
        "start_time": "2022-03-18T04:52:37.212Z"
      },
      {
        "duration": 4,
        "start_time": "2022-03-18T04:52:37.240Z"
      },
      {
        "duration": 19,
        "start_time": "2022-03-18T04:52:37.245Z"
      },
      {
        "duration": 18,
        "start_time": "2022-03-18T04:52:37.266Z"
      },
      {
        "duration": 15,
        "start_time": "2022-03-18T04:52:37.286Z"
      },
      {
        "duration": 17,
        "start_time": "2022-03-18T04:52:37.302Z"
      },
      {
        "duration": 7,
        "start_time": "2022-03-18T04:52:37.321Z"
      },
      {
        "duration": 45,
        "start_time": "2022-03-18T04:52:37.329Z"
      },
      {
        "duration": 3,
        "start_time": "2022-03-18T04:52:37.376Z"
      },
      {
        "duration": 15,
        "start_time": "2022-03-18T04:52:37.380Z"
      },
      {
        "duration": 12,
        "start_time": "2022-03-18T04:52:37.398Z"
      },
      {
        "duration": 12,
        "start_time": "2022-03-18T04:52:37.412Z"
      },
      {
        "duration": 4,
        "start_time": "2022-03-18T04:52:37.425Z"
      },
      {
        "duration": 10,
        "start_time": "2022-03-18T04:52:37.431Z"
      },
      {
        "duration": 9,
        "start_time": "2022-03-18T04:52:37.443Z"
      },
      {
        "duration": 4,
        "start_time": "2022-03-18T04:52:37.463Z"
      },
      {
        "duration": 8,
        "start_time": "2022-03-18T04:52:37.469Z"
      },
      {
        "duration": 11,
        "start_time": "2022-03-18T04:52:37.478Z"
      },
      {
        "duration": 111,
        "start_time": "2022-03-18T04:52:37.490Z"
      },
      {
        "duration": 261,
        "start_time": "2022-03-18T04:52:37.603Z"
      },
      {
        "duration": 927,
        "start_time": "2022-03-18T04:52:37.866Z"
      },
      {
        "duration": 9,
        "start_time": "2022-03-18T04:52:38.795Z"
      },
      {
        "duration": 292,
        "start_time": "2022-03-18T04:52:38.806Z"
      },
      {
        "duration": 789,
        "start_time": "2022-03-18T04:52:39.100Z"
      },
      {
        "duration": 8,
        "start_time": "2022-03-18T04:59:33.480Z"
      },
      {
        "duration": 350,
        "start_time": "2022-03-18T05:00:00.852Z"
      },
      {
        "duration": 811,
        "start_time": "2022-03-18T05:05:56.765Z"
      },
      {
        "duration": 8,
        "start_time": "2022-03-18T05:09:05.923Z"
      },
      {
        "duration": 329,
        "start_time": "2022-03-18T05:09:29.841Z"
      },
      {
        "duration": 20,
        "start_time": "2022-03-18T05:23:10.210Z"
      },
      {
        "duration": 14,
        "start_time": "2022-03-18T05:23:19.461Z"
      },
      {
        "duration": 13,
        "start_time": "2022-03-18T05:24:35.801Z"
      },
      {
        "duration": 12,
        "start_time": "2022-03-18T05:25:20.290Z"
      },
      {
        "duration": 14,
        "start_time": "2022-03-18T05:25:49.545Z"
      },
      {
        "duration": 92,
        "start_time": "2022-03-18T05:26:16.609Z"
      },
      {
        "duration": 11,
        "start_time": "2022-03-18T05:26:26.834Z"
      },
      {
        "duration": 14,
        "start_time": "2022-03-18T05:26:47.423Z"
      },
      {
        "duration": 15,
        "start_time": "2022-03-18T05:27:17.529Z"
      },
      {
        "duration": 14,
        "start_time": "2022-03-18T05:27:28.986Z"
      },
      {
        "duration": 117,
        "start_time": "2022-03-18T05:27:47.097Z"
      },
      {
        "duration": 121,
        "start_time": "2022-03-18T05:28:01.358Z"
      },
      {
        "duration": 17,
        "start_time": "2022-03-18T05:40:29.277Z"
      },
      {
        "duration": 119,
        "start_time": "2022-03-18T05:40:32.672Z"
      },
      {
        "duration": 17,
        "start_time": "2022-03-18T05:42:02.390Z"
      },
      {
        "duration": 15,
        "start_time": "2022-03-18T05:42:33.767Z"
      },
      {
        "duration": 13,
        "start_time": "2022-03-18T05:42:45.215Z"
      },
      {
        "duration": 14,
        "start_time": "2022-03-18T05:42:51.279Z"
      },
      {
        "duration": 112,
        "start_time": "2022-03-18T05:43:05.304Z"
      },
      {
        "duration": 142,
        "start_time": "2022-03-18T05:44:28.206Z"
      },
      {
        "duration": 127,
        "start_time": "2022-03-18T05:44:55.453Z"
      },
      {
        "duration": 220,
        "start_time": "2022-03-18T05:46:20.997Z"
      },
      {
        "duration": 170,
        "start_time": "2022-03-18T05:46:37.634Z"
      },
      {
        "duration": 158,
        "start_time": "2022-03-18T05:47:30.825Z"
      },
      {
        "duration": 146,
        "start_time": "2022-03-18T05:47:36.632Z"
      },
      {
        "duration": 162,
        "start_time": "2022-03-18T05:47:42.571Z"
      },
      {
        "duration": 14,
        "start_time": "2022-03-18T05:51:08.089Z"
      },
      {
        "duration": 130,
        "start_time": "2022-03-18T05:55:11.882Z"
      },
      {
        "duration": 144,
        "start_time": "2022-03-18T05:59:28.580Z"
      },
      {
        "duration": 6,
        "start_time": "2022-03-18T06:14:05.020Z"
      },
      {
        "duration": 19,
        "start_time": "2022-03-18T06:14:11.227Z"
      },
      {
        "duration": 11,
        "start_time": "2022-03-18T06:17:08.772Z"
      },
      {
        "duration": 4,
        "start_time": "2022-03-18T06:18:10.177Z"
      },
      {
        "duration": 6,
        "start_time": "2022-03-18T06:18:34.799Z"
      },
      {
        "duration": 11,
        "start_time": "2022-03-18T06:18:38.937Z"
      },
      {
        "duration": 142,
        "start_time": "2022-03-18T06:18:57.384Z"
      },
      {
        "duration": 8,
        "start_time": "2022-03-18T06:19:02.192Z"
      },
      {
        "duration": 7,
        "start_time": "2022-03-18T06:19:50.160Z"
      },
      {
        "duration": 5,
        "start_time": "2022-03-18T06:19:56.959Z"
      },
      {
        "duration": 5,
        "start_time": "2022-03-18T06:19:59.959Z"
      },
      {
        "duration": 4,
        "start_time": "2022-03-18T06:20:18.807Z"
      },
      {
        "duration": 4,
        "start_time": "2022-03-18T06:20:24.343Z"
      },
      {
        "duration": 6,
        "start_time": "2022-03-18T06:21:00.337Z"
      },
      {
        "duration": 5,
        "start_time": "2022-03-18T06:21:16.173Z"
      },
      {
        "duration": 5,
        "start_time": "2022-03-18T06:21:30.569Z"
      },
      {
        "duration": 12,
        "start_time": "2022-03-18T06:24:15.123Z"
      },
      {
        "duration": 4,
        "start_time": "2022-03-18T06:24:23.173Z"
      },
      {
        "duration": 8,
        "start_time": "2022-03-18T06:24:38.872Z"
      },
      {
        "duration": 5,
        "start_time": "2022-03-18T06:24:54.993Z"
      },
      {
        "duration": 5,
        "start_time": "2022-03-18T06:25:15.400Z"
      },
      {
        "duration": 5,
        "start_time": "2022-03-18T06:25:20.571Z"
      },
      {
        "duration": 4,
        "start_time": "2022-03-18T06:25:30.892Z"
      },
      {
        "duration": 4,
        "start_time": "2022-03-18T06:26:29.399Z"
      },
      {
        "duration": 5,
        "start_time": "2022-03-18T06:32:58.415Z"
      },
      {
        "duration": 5,
        "start_time": "2022-03-18T06:33:04.807Z"
      },
      {
        "duration": 5,
        "start_time": "2022-03-18T06:36:28.288Z"
      },
      {
        "duration": 8,
        "start_time": "2022-03-18T06:38:33.000Z"
      },
      {
        "duration": 12,
        "start_time": "2022-03-18T06:41:45.997Z"
      },
      {
        "duration": 5,
        "start_time": "2022-03-18T06:42:10.273Z"
      },
      {
        "duration": 5,
        "start_time": "2022-03-18T06:42:58.825Z"
      },
      {
        "duration": 6,
        "start_time": "2022-03-18T06:45:49.684Z"
      },
      {
        "duration": 5,
        "start_time": "2022-03-18T06:45:51.862Z"
      },
      {
        "duration": 6,
        "start_time": "2022-03-18T06:46:00.387Z"
      },
      {
        "duration": 5,
        "start_time": "2022-03-18T06:46:01.303Z"
      },
      {
        "duration": 14,
        "start_time": "2022-03-18T06:49:10.378Z"
      },
      {
        "duration": 2,
        "start_time": "2022-03-18T06:52:21.192Z"
      },
      {
        "duration": 4,
        "start_time": "2022-03-18T06:52:36.496Z"
      },
      {
        "duration": 4,
        "start_time": "2022-03-18T06:52:41.704Z"
      },
      {
        "duration": 11,
        "start_time": "2022-03-18T06:53:22.815Z"
      },
      {
        "duration": 9,
        "start_time": "2022-03-18T06:53:26.591Z"
      },
      {
        "duration": 136,
        "start_time": "2022-03-18T06:53:52.135Z"
      },
      {
        "duration": 2754,
        "start_time": "2022-03-18T06:54:01.126Z"
      },
      {
        "duration": 2850,
        "start_time": "2022-03-18T06:54:17.287Z"
      },
      {
        "duration": 15,
        "start_time": "2022-03-18T06:54:59.141Z"
      },
      {
        "duration": 5,
        "start_time": "2022-03-18T06:55:32.391Z"
      },
      {
        "duration": 8,
        "start_time": "2022-03-18T06:55:44.398Z"
      },
      {
        "duration": 12,
        "start_time": "2022-03-18T06:55:57.686Z"
      },
      {
        "duration": 13,
        "start_time": "2022-03-18T07:09:29.945Z"
      },
      {
        "duration": 6,
        "start_time": "2022-03-18T07:09:57.211Z"
      },
      {
        "duration": 7,
        "start_time": "2022-03-18T07:10:24.624Z"
      },
      {
        "duration": 22,
        "start_time": "2022-03-18T07:11:45.455Z"
      },
      {
        "duration": 25,
        "start_time": "2022-03-18T07:12:31.688Z"
      },
      {
        "duration": 10,
        "start_time": "2022-03-18T07:13:51.840Z"
      },
      {
        "duration": 14,
        "start_time": "2022-03-18T07:14:05.663Z"
      },
      {
        "duration": 12,
        "start_time": "2022-03-18T07:14:23.726Z"
      },
      {
        "duration": 10,
        "start_time": "2022-03-18T07:14:48.854Z"
      },
      {
        "duration": 13,
        "start_time": "2022-03-18T07:15:35.517Z"
      },
      {
        "duration": 7,
        "start_time": "2022-03-18T07:16:05.596Z"
      },
      {
        "duration": 8,
        "start_time": "2022-03-18T07:16:26.635Z"
      },
      {
        "duration": 7,
        "start_time": "2022-03-18T07:16:37.693Z"
      },
      {
        "duration": 6,
        "start_time": "2022-03-18T07:18:15.403Z"
      },
      {
        "duration": 4,
        "start_time": "2022-03-18T07:19:33.980Z"
      },
      {
        "duration": 7,
        "start_time": "2022-03-18T07:23:31.220Z"
      },
      {
        "duration": 4,
        "start_time": "2022-03-18T07:59:42.705Z"
      },
      {
        "duration": 5,
        "start_time": "2022-03-18T07:59:50.009Z"
      },
      {
        "duration": 84,
        "start_time": "2022-03-18T08:03:41.473Z"
      },
      {
        "duration": 83,
        "start_time": "2022-03-18T08:03:54.546Z"
      },
      {
        "duration": 87,
        "start_time": "2022-03-18T08:04:36.289Z"
      },
      {
        "duration": 6,
        "start_time": "2022-03-18T08:17:31.488Z"
      },
      {
        "duration": 5,
        "start_time": "2022-03-18T08:18:05.290Z"
      },
      {
        "duration": 6,
        "start_time": "2022-03-18T08:18:41.376Z"
      },
      {
        "duration": 5,
        "start_time": "2022-03-18T08:20:31.863Z"
      },
      {
        "duration": 9,
        "start_time": "2022-03-18T08:21:40.952Z"
      },
      {
        "duration": 127,
        "start_time": "2022-03-18T08:21:55.537Z"
      },
      {
        "duration": 14,
        "start_time": "2022-03-18T08:22:07.822Z"
      },
      {
        "duration": 6,
        "start_time": "2022-03-18T08:22:36.916Z"
      },
      {
        "duration": 6,
        "start_time": "2022-03-18T08:23:32.756Z"
      },
      {
        "duration": 5,
        "start_time": "2022-03-18T08:23:42.804Z"
      },
      {
        "duration": 6,
        "start_time": "2022-03-18T08:23:44.027Z"
      },
      {
        "duration": 5,
        "start_time": "2022-03-18T08:23:45.044Z"
      },
      {
        "duration": 9,
        "start_time": "2022-03-18T08:24:58.716Z"
      },
      {
        "duration": 1189,
        "start_time": "2022-03-19T04:55:41.713Z"
      },
      {
        "duration": 190,
        "start_time": "2022-03-19T04:55:42.904Z"
      },
      {
        "duration": 115,
        "start_time": "2022-03-19T04:55:43.095Z"
      },
      {
        "duration": 102,
        "start_time": "2022-03-19T04:55:43.212Z"
      },
      {
        "duration": 47,
        "start_time": "2022-03-19T04:55:43.316Z"
      },
      {
        "duration": 159,
        "start_time": "2022-03-19T04:55:43.365Z"
      },
      {
        "duration": 60,
        "start_time": "2022-03-19T04:55:43.526Z"
      },
      {
        "duration": 43,
        "start_time": "2022-03-19T04:55:43.588Z"
      },
      {
        "duration": 7,
        "start_time": "2022-03-19T04:55:43.633Z"
      },
      {
        "duration": 36,
        "start_time": "2022-03-19T04:55:43.641Z"
      },
      {
        "duration": 55,
        "start_time": "2022-03-19T04:55:43.678Z"
      },
      {
        "duration": 31,
        "start_time": "2022-03-19T04:55:43.735Z"
      },
      {
        "duration": 4,
        "start_time": "2022-03-19T04:55:43.781Z"
      },
      {
        "duration": 38,
        "start_time": "2022-03-19T04:55:43.789Z"
      },
      {
        "duration": 20,
        "start_time": "2022-03-19T04:55:43.829Z"
      },
      {
        "duration": 3,
        "start_time": "2022-03-19T04:55:43.850Z"
      },
      {
        "duration": 43,
        "start_time": "2022-03-19T04:55:43.880Z"
      },
      {
        "duration": 26,
        "start_time": "2022-03-19T04:55:43.925Z"
      },
      {
        "duration": 3,
        "start_time": "2022-03-19T04:55:43.953Z"
      },
      {
        "duration": 23,
        "start_time": "2022-03-19T04:55:43.958Z"
      },
      {
        "duration": 27,
        "start_time": "2022-03-19T04:55:43.982Z"
      },
      {
        "duration": 16,
        "start_time": "2022-03-19T04:55:44.010Z"
      },
      {
        "duration": 33,
        "start_time": "2022-03-19T04:55:44.027Z"
      },
      {
        "duration": 6,
        "start_time": "2022-03-19T04:55:44.061Z"
      },
      {
        "duration": 18,
        "start_time": "2022-03-19T04:55:44.069Z"
      },
      {
        "duration": 13,
        "start_time": "2022-03-19T04:55:44.088Z"
      },
      {
        "duration": 13,
        "start_time": "2022-03-19T04:55:44.103Z"
      },
      {
        "duration": 20,
        "start_time": "2022-03-19T04:55:44.117Z"
      },
      {
        "duration": 11,
        "start_time": "2022-03-19T04:55:44.138Z"
      },
      {
        "duration": 19,
        "start_time": "2022-03-19T04:55:44.150Z"
      },
      {
        "duration": 14,
        "start_time": "2022-03-19T04:55:44.170Z"
      },
      {
        "duration": 19,
        "start_time": "2022-03-19T04:55:44.185Z"
      },
      {
        "duration": 11,
        "start_time": "2022-03-19T04:55:44.205Z"
      },
      {
        "duration": 9,
        "start_time": "2022-03-19T04:55:44.217Z"
      },
      {
        "duration": 17,
        "start_time": "2022-03-19T04:55:44.227Z"
      },
      {
        "duration": 123,
        "start_time": "2022-03-19T04:55:44.246Z"
      },
      {
        "duration": 243,
        "start_time": "2022-03-19T04:55:44.370Z"
      },
      {
        "duration": 806,
        "start_time": "2022-03-19T04:55:44.615Z"
      },
      {
        "duration": 8,
        "start_time": "2022-03-19T04:55:45.422Z"
      },
      {
        "duration": 253,
        "start_time": "2022-03-19T04:55:45.431Z"
      },
      {
        "duration": 756,
        "start_time": "2022-03-19T04:55:45.688Z"
      },
      {
        "duration": 8,
        "start_time": "2022-03-19T04:55:46.446Z"
      },
      {
        "duration": 317,
        "start_time": "2022-03-19T04:55:46.455Z"
      },
      {
        "duration": 693,
        "start_time": "2022-03-19T04:55:46.774Z"
      },
      {
        "duration": 15,
        "start_time": "2022-03-19T04:55:47.469Z"
      },
      {
        "duration": 312,
        "start_time": "2022-03-19T04:55:47.486Z"
      },
      {
        "duration": 13,
        "start_time": "2022-03-19T04:55:47.800Z"
      },
      {
        "duration": 11,
        "start_time": "2022-03-19T04:55:47.815Z"
      },
      {
        "duration": 155,
        "start_time": "2022-03-19T04:55:47.828Z"
      },
      {
        "duration": 130,
        "start_time": "2022-03-19T04:55:47.984Z"
      },
      {
        "duration": 149,
        "start_time": "2022-03-19T04:55:48.116Z"
      },
      {
        "duration": 4,
        "start_time": "2022-03-19T04:55:48.267Z"
      },
      {
        "duration": 4,
        "start_time": "2022-03-19T04:55:48.281Z"
      },
      {
        "duration": 99,
        "start_time": "2022-03-19T04:55:48.286Z"
      },
      {
        "duration": 6,
        "start_time": "2022-03-19T04:55:48.386Z"
      },
      {
        "duration": 8,
        "start_time": "2022-03-19T04:55:48.393Z"
      },
      {
        "duration": 6,
        "start_time": "2022-03-19T04:55:48.403Z"
      },
      {
        "duration": 4,
        "start_time": "2022-03-19T04:55:48.411Z"
      },
      {
        "duration": 8,
        "start_time": "2022-03-19T04:55:48.416Z"
      },
      {
        "duration": 7,
        "start_time": "2022-03-19T04:55:48.425Z"
      },
      {
        "duration": 6,
        "start_time": "2022-03-19T04:55:48.433Z"
      },
      {
        "duration": 6,
        "start_time": "2022-03-19T04:55:48.440Z"
      },
      {
        "duration": 5,
        "start_time": "2022-03-19T04:57:01.313Z"
      },
      {
        "duration": 4,
        "start_time": "2022-03-19T05:26:19.421Z"
      },
      {
        "duration": 4,
        "start_time": "2022-03-19T05:26:56.644Z"
      },
      {
        "duration": 206,
        "start_time": "2022-03-19T05:26:56.649Z"
      },
      {
        "duration": 113,
        "start_time": "2022-03-19T05:26:56.861Z"
      },
      {
        "duration": 105,
        "start_time": "2022-03-19T05:26:56.980Z"
      },
      {
        "duration": 49,
        "start_time": "2022-03-19T05:26:57.087Z"
      },
      {
        "duration": 158,
        "start_time": "2022-03-19T05:26:57.138Z"
      },
      {
        "duration": 49,
        "start_time": "2022-03-19T05:26:57.297Z"
      },
      {
        "duration": 46,
        "start_time": "2022-03-19T05:26:57.347Z"
      },
      {
        "duration": 6,
        "start_time": "2022-03-19T05:26:57.395Z"
      },
      {
        "duration": 31,
        "start_time": "2022-03-19T05:26:57.403Z"
      },
      {
        "duration": 61,
        "start_time": "2022-03-19T05:26:57.435Z"
      },
      {
        "duration": 26,
        "start_time": "2022-03-19T05:26:57.498Z"
      },
      {
        "duration": 3,
        "start_time": "2022-03-19T05:26:57.527Z"
      },
      {
        "duration": 58,
        "start_time": "2022-03-19T05:26:57.532Z"
      },
      {
        "duration": 19,
        "start_time": "2022-03-19T05:26:57.592Z"
      },
      {
        "duration": 4,
        "start_time": "2022-03-19T05:26:57.612Z"
      },
      {
        "duration": 66,
        "start_time": "2022-03-19T05:26:57.618Z"
      },
      {
        "duration": 28,
        "start_time": "2022-03-19T05:26:57.686Z"
      },
      {
        "duration": 4,
        "start_time": "2022-03-19T05:26:57.716Z"
      },
      {
        "duration": 4,
        "start_time": "2022-03-19T05:26:57.722Z"
      },
      {
        "duration": 17,
        "start_time": "2022-03-19T05:26:57.728Z"
      },
      {
        "duration": 50,
        "start_time": "2022-03-19T05:26:57.747Z"
      },
      {
        "duration": 19,
        "start_time": "2022-03-19T05:26:57.798Z"
      },
      {
        "duration": 9,
        "start_time": "2022-03-19T05:26:57.818Z"
      },
      {
        "duration": 17,
        "start_time": "2022-03-19T05:26:57.828Z"
      },
      {
        "duration": 4,
        "start_time": "2022-03-19T05:26:57.846Z"
      },
      {
        "duration": 3,
        "start_time": "2022-03-19T05:26:57.881Z"
      },
      {
        "duration": 5,
        "start_time": "2022-03-19T05:26:57.886Z"
      },
      {
        "duration": 7,
        "start_time": "2022-03-19T05:26:57.892Z"
      },
      {
        "duration": 4,
        "start_time": "2022-03-19T05:26:57.901Z"
      },
      {
        "duration": 7,
        "start_time": "2022-03-19T05:26:57.907Z"
      },
      {
        "duration": 8,
        "start_time": "2022-03-19T05:26:57.915Z"
      },
      {
        "duration": 13,
        "start_time": "2022-03-19T05:26:57.925Z"
      },
      {
        "duration": 9,
        "start_time": "2022-03-19T05:26:57.940Z"
      },
      {
        "duration": 35,
        "start_time": "2022-03-19T05:26:57.950Z"
      },
      {
        "duration": 82,
        "start_time": "2022-03-19T05:26:57.986Z"
      },
      {
        "duration": 242,
        "start_time": "2022-03-19T05:26:58.080Z"
      },
      {
        "duration": 885,
        "start_time": "2022-03-19T05:26:58.323Z"
      },
      {
        "duration": 8,
        "start_time": "2022-03-19T05:26:59.210Z"
      },
      {
        "duration": 280,
        "start_time": "2022-03-19T05:26:59.219Z"
      },
      {
        "duration": 693,
        "start_time": "2022-03-19T05:26:59.500Z"
      },
      {
        "duration": 8,
        "start_time": "2022-03-19T05:27:00.194Z"
      },
      {
        "duration": 248,
        "start_time": "2022-03-19T05:27:00.203Z"
      },
      {
        "duration": 705,
        "start_time": "2022-03-19T05:27:00.452Z"
      },
      {
        "duration": 7,
        "start_time": "2022-03-19T05:27:01.159Z"
      },
      {
        "duration": 396,
        "start_time": "2022-03-19T05:27:01.168Z"
      },
      {
        "duration": 17,
        "start_time": "2022-03-19T05:27:01.566Z"
      },
      {
        "duration": 14,
        "start_time": "2022-03-19T05:27:01.585Z"
      },
      {
        "duration": 149,
        "start_time": "2022-03-19T05:27:01.601Z"
      },
      {
        "duration": 127,
        "start_time": "2022-03-19T05:27:01.751Z"
      },
      {
        "duration": 143,
        "start_time": "2022-03-19T05:27:01.881Z"
      },
      {
        "duration": 4,
        "start_time": "2022-03-19T05:27:02.025Z"
      },
      {
        "duration": 9,
        "start_time": "2022-03-19T05:27:02.031Z"
      },
      {
        "duration": 98,
        "start_time": "2022-03-19T05:27:02.042Z"
      },
      {
        "duration": 6,
        "start_time": "2022-03-19T05:27:02.141Z"
      },
      {
        "duration": 8,
        "start_time": "2022-03-19T05:27:02.149Z"
      },
      {
        "duration": 7,
        "start_time": "2022-03-19T05:27:02.159Z"
      },
      {
        "duration": 16,
        "start_time": "2022-03-19T05:27:02.167Z"
      },
      {
        "duration": 10,
        "start_time": "2022-03-19T05:27:02.185Z"
      },
      {
        "duration": 9,
        "start_time": "2022-03-19T05:27:02.196Z"
      },
      {
        "duration": 7,
        "start_time": "2022-03-19T05:27:02.207Z"
      },
      {
        "duration": 4,
        "start_time": "2022-03-19T05:27:07.854Z"
      },
      {
        "duration": 22,
        "start_time": "2022-03-19T05:42:07.546Z"
      },
      {
        "duration": 17,
        "start_time": "2022-03-19T05:43:21.323Z"
      },
      {
        "duration": 21,
        "start_time": "2022-03-19T05:44:07.048Z"
      },
      {
        "duration": 14,
        "start_time": "2022-03-19T05:45:32.469Z"
      },
      {
        "duration": 14,
        "start_time": "2022-03-19T05:45:41.756Z"
      },
      {
        "duration": 22,
        "start_time": "2022-03-19T05:45:53.467Z"
      },
      {
        "duration": 4,
        "start_time": "2022-03-19T05:47:11.570Z"
      },
      {
        "duration": 6,
        "start_time": "2022-03-19T05:47:26.020Z"
      },
      {
        "duration": 4,
        "start_time": "2022-03-19T05:47:30.153Z"
      },
      {
        "duration": 4,
        "start_time": "2022-03-19T05:47:44.441Z"
      },
      {
        "duration": 194,
        "start_time": "2022-03-19T05:48:41.015Z"
      },
      {
        "duration": 7,
        "start_time": "2022-03-19T05:48:47.513Z"
      },
      {
        "duration": 100,
        "start_time": "2022-03-19T05:49:01.512Z"
      },
      {
        "duration": 6,
        "start_time": "2022-03-19T05:49:15.321Z"
      },
      {
        "duration": 5,
        "start_time": "2022-03-19T05:49:53.109Z"
      },
      {
        "duration": 10,
        "start_time": "2022-03-19T05:51:26.710Z"
      },
      {
        "duration": 10,
        "start_time": "2022-03-19T05:51:41.098Z"
      },
      {
        "duration": 10,
        "start_time": "2022-03-19T05:52:00.809Z"
      },
      {
        "duration": 7,
        "start_time": "2022-03-19T05:52:41.526Z"
      },
      {
        "duration": 11,
        "start_time": "2022-03-19T05:52:43.618Z"
      },
      {
        "duration": 9,
        "start_time": "2022-03-19T05:53:01.160Z"
      },
      {
        "duration": 11,
        "start_time": "2022-03-19T05:53:05.195Z"
      },
      {
        "duration": 12,
        "start_time": "2022-03-19T06:02:18.490Z"
      },
      {
        "duration": 12,
        "start_time": "2022-03-19T06:02:35.448Z"
      },
      {
        "duration": 8,
        "start_time": "2022-03-19T06:04:44.267Z"
      },
      {
        "duration": 11,
        "start_time": "2022-03-19T06:05:49.820Z"
      },
      {
        "duration": 11,
        "start_time": "2022-03-19T06:05:54.097Z"
      },
      {
        "duration": 12,
        "start_time": "2022-03-19T06:06:01.087Z"
      },
      {
        "duration": 13,
        "start_time": "2022-03-19T06:06:09.032Z"
      },
      {
        "duration": 12,
        "start_time": "2022-03-19T06:06:18.186Z"
      },
      {
        "duration": 12,
        "start_time": "2022-03-19T06:06:21.926Z"
      },
      {
        "duration": 243,
        "start_time": "2022-03-19T06:10:02.823Z"
      },
      {
        "duration": 244,
        "start_time": "2022-03-19T06:10:19.794Z"
      },
      {
        "duration": 236,
        "start_time": "2022-03-19T06:10:39.586Z"
      },
      {
        "duration": 366,
        "start_time": "2022-03-19T06:10:49.696Z"
      },
      {
        "duration": 291,
        "start_time": "2022-03-19T06:11:03.308Z"
      },
      {
        "duration": 282,
        "start_time": "2022-03-19T06:11:07.869Z"
      },
      {
        "duration": 287,
        "start_time": "2022-03-19T06:11:13.533Z"
      },
      {
        "duration": 211,
        "start_time": "2022-03-19T06:12:16.591Z"
      },
      {
        "duration": 111,
        "start_time": "2022-03-19T06:12:24.756Z"
      },
      {
        "duration": 235,
        "start_time": "2022-03-19T06:13:21.849Z"
      },
      {
        "duration": 314,
        "start_time": "2022-03-19T06:13:37.828Z"
      },
      {
        "duration": 14,
        "start_time": "2022-03-19T06:14:23.908Z"
      },
      {
        "duration": 233,
        "start_time": "2022-03-19T06:14:56.226Z"
      },
      {
        "duration": 247,
        "start_time": "2022-03-19T06:15:06.539Z"
      },
      {
        "duration": 14,
        "start_time": "2022-03-19T06:15:14.197Z"
      },
      {
        "duration": 33,
        "start_time": "2022-03-19T06:15:48.350Z"
      },
      {
        "duration": 24,
        "start_time": "2022-03-19T06:16:27.326Z"
      },
      {
        "duration": 8,
        "start_time": "2022-03-19T06:17:32.748Z"
      },
      {
        "duration": 14,
        "start_time": "2022-03-19T06:17:35.496Z"
      },
      {
        "duration": 14,
        "start_time": "2022-03-19T06:18:02.154Z"
      },
      {
        "duration": 16,
        "start_time": "2022-03-19T06:18:05.961Z"
      },
      {
        "duration": 16,
        "start_time": "2022-03-19T06:18:15.539Z"
      },
      {
        "duration": 28,
        "start_time": "2022-03-19T06:18:31.273Z"
      },
      {
        "duration": 22,
        "start_time": "2022-03-19T06:18:54.305Z"
      },
      {
        "duration": 28,
        "start_time": "2022-03-19T06:19:05.762Z"
      },
      {
        "duration": 28,
        "start_time": "2022-03-19T06:19:36.490Z"
      },
      {
        "duration": 239,
        "start_time": "2022-03-19T06:20:22.595Z"
      },
      {
        "duration": 14,
        "start_time": "2022-03-19T06:20:40.654Z"
      },
      {
        "duration": 343,
        "start_time": "2022-03-19T06:20:53.605Z"
      },
      {
        "duration": 309,
        "start_time": "2022-03-19T06:21:55.696Z"
      },
      {
        "duration": 690,
        "start_time": "2022-03-19T06:23:24.646Z"
      },
      {
        "duration": 689,
        "start_time": "2022-03-19T06:23:38.339Z"
      },
      {
        "duration": 687,
        "start_time": "2022-03-19T06:23:45.416Z"
      },
      {
        "duration": 4,
        "start_time": "2022-03-19T06:37:22.203Z"
      },
      {
        "duration": 193,
        "start_time": "2022-03-19T06:37:22.209Z"
      },
      {
        "duration": 118,
        "start_time": "2022-03-19T06:37:22.404Z"
      },
      {
        "duration": 107,
        "start_time": "2022-03-19T06:37:22.523Z"
      },
      {
        "duration": 58,
        "start_time": "2022-03-19T06:37:22.631Z"
      },
      {
        "duration": 156,
        "start_time": "2022-03-19T06:37:22.691Z"
      },
      {
        "duration": 69,
        "start_time": "2022-03-19T06:37:22.849Z"
      },
      {
        "duration": 47,
        "start_time": "2022-03-19T06:37:22.920Z"
      },
      {
        "duration": 7,
        "start_time": "2022-03-19T06:37:22.969Z"
      },
      {
        "duration": 32,
        "start_time": "2022-03-19T06:37:22.977Z"
      },
      {
        "duration": 56,
        "start_time": "2022-03-19T06:37:23.012Z"
      },
      {
        "duration": 30,
        "start_time": "2022-03-19T06:37:23.070Z"
      },
      {
        "duration": 3,
        "start_time": "2022-03-19T06:37:23.102Z"
      },
      {
        "duration": 40,
        "start_time": "2022-03-19T06:37:23.107Z"
      },
      {
        "duration": 39,
        "start_time": "2022-03-19T06:37:23.148Z"
      },
      {
        "duration": 3,
        "start_time": "2022-03-19T06:37:23.189Z"
      },
      {
        "duration": 54,
        "start_time": "2022-03-19T06:37:23.193Z"
      },
      {
        "duration": 43,
        "start_time": "2022-03-19T06:37:23.248Z"
      },
      {
        "duration": 4,
        "start_time": "2022-03-19T06:37:23.292Z"
      },
      {
        "duration": 9,
        "start_time": "2022-03-19T06:37:23.297Z"
      },
      {
        "duration": 17,
        "start_time": "2022-03-19T06:37:23.307Z"
      },
      {
        "duration": 14,
        "start_time": "2022-03-19T06:37:23.325Z"
      },
      {
        "duration": 13,
        "start_time": "2022-03-19T06:37:23.340Z"
      },
      {
        "duration": 27,
        "start_time": "2022-03-19T06:37:23.354Z"
      },
      {
        "duration": 15,
        "start_time": "2022-03-19T06:37:23.383Z"
      },
      {
        "duration": 3,
        "start_time": "2022-03-19T06:37:23.400Z"
      },
      {
        "duration": 9,
        "start_time": "2022-03-19T06:37:23.404Z"
      },
      {
        "duration": 8,
        "start_time": "2022-03-19T06:37:23.414Z"
      },
      {
        "duration": 9,
        "start_time": "2022-03-19T06:37:23.425Z"
      },
      {
        "duration": 9,
        "start_time": "2022-03-19T06:37:23.435Z"
      },
      {
        "duration": 8,
        "start_time": "2022-03-19T06:37:23.446Z"
      },
      {
        "duration": 28,
        "start_time": "2022-03-19T06:37:23.455Z"
      },
      {
        "duration": 13,
        "start_time": "2022-03-19T06:37:23.484Z"
      },
      {
        "duration": 11,
        "start_time": "2022-03-19T06:37:23.498Z"
      },
      {
        "duration": 17,
        "start_time": "2022-03-19T06:37:23.510Z"
      },
      {
        "duration": 85,
        "start_time": "2022-03-19T06:37:23.529Z"
      },
      {
        "duration": 238,
        "start_time": "2022-03-19T06:37:23.615Z"
      },
      {
        "duration": 919,
        "start_time": "2022-03-19T06:37:23.855Z"
      },
      {
        "duration": 258,
        "start_time": "2022-03-19T06:37:24.775Z"
      },
      {
        "duration": 716,
        "start_time": "2022-03-19T06:37:25.034Z"
      },
      {
        "duration": 243,
        "start_time": "2022-03-19T06:37:25.751Z"
      },
      {
        "duration": 712,
        "start_time": "2022-03-19T06:37:25.995Z"
      },
      {
        "duration": 382,
        "start_time": "2022-03-19T06:37:26.709Z"
      },
      {
        "duration": 13,
        "start_time": "2022-03-19T06:37:27.092Z"
      },
      {
        "duration": 16,
        "start_time": "2022-03-19T06:37:27.107Z"
      },
      {
        "duration": 136,
        "start_time": "2022-03-19T06:37:27.125Z"
      },
      {
        "duration": 130,
        "start_time": "2022-03-19T06:37:27.263Z"
      },
      {
        "duration": 142,
        "start_time": "2022-03-19T06:37:27.394Z"
      },
      {
        "duration": 3,
        "start_time": "2022-03-19T06:37:27.538Z"
      },
      {
        "duration": 5,
        "start_time": "2022-03-19T06:37:27.543Z"
      },
      {
        "duration": 93,
        "start_time": "2022-03-19T06:37:27.550Z"
      },
      {
        "duration": 297,
        "start_time": "2022-03-19T06:37:27.644Z"
      },
      {
        "duration": 698,
        "start_time": "2022-03-19T06:37:27.943Z"
      },
      {
        "duration": 5,
        "start_time": "2022-03-19T06:37:28.643Z"
      },
      {
        "duration": 12,
        "start_time": "2022-03-19T06:37:28.650Z"
      },
      {
        "duration": 18,
        "start_time": "2022-03-19T06:37:28.663Z"
      },
      {
        "duration": 3,
        "start_time": "2022-03-19T06:37:28.682Z"
      },
      {
        "duration": 9,
        "start_time": "2022-03-19T06:37:28.686Z"
      },
      {
        "duration": 8,
        "start_time": "2022-03-19T06:37:28.696Z"
      },
      {
        "duration": 7,
        "start_time": "2022-03-19T06:37:28.706Z"
      },
      {
        "duration": 5,
        "start_time": "2022-03-19T06:37:28.714Z"
      },
      {
        "duration": 144,
        "start_time": "2022-03-19T06:38:15.704Z"
      },
      {
        "duration": 125,
        "start_time": "2022-03-19T06:38:27.505Z"
      },
      {
        "duration": 223,
        "start_time": "2022-03-19T06:38:42.183Z"
      },
      {
        "duration": 1873,
        "start_time": "2022-03-29T16:44:57.741Z"
      },
      {
        "duration": 245,
        "start_time": "2022-03-29T16:44:59.620Z"
      },
      {
        "duration": 187,
        "start_time": "2022-03-29T16:44:59.868Z"
      },
      {
        "duration": 153,
        "start_time": "2022-03-29T16:45:00.060Z"
      },
      {
        "duration": 113,
        "start_time": "2022-03-29T16:45:00.216Z"
      },
      {
        "duration": 231,
        "start_time": "2022-03-29T16:45:00.332Z"
      },
      {
        "duration": 98,
        "start_time": "2022-03-29T16:45:00.566Z"
      },
      {
        "duration": 50,
        "start_time": "2022-03-29T16:45:00.681Z"
      },
      {
        "duration": 11,
        "start_time": "2022-03-29T16:45:00.733Z"
      },
      {
        "duration": 58,
        "start_time": "2022-03-29T16:45:00.750Z"
      },
      {
        "duration": 114,
        "start_time": "2022-03-29T16:45:00.810Z"
      },
      {
        "duration": 56,
        "start_time": "2022-03-29T16:45:00.927Z"
      },
      {
        "duration": 6,
        "start_time": "2022-03-29T16:45:00.986Z"
      },
      {
        "duration": 66,
        "start_time": "2022-03-29T16:45:00.994Z"
      },
      {
        "duration": 50,
        "start_time": "2022-03-29T16:45:01.062Z"
      },
      {
        "duration": 46,
        "start_time": "2022-03-29T16:45:01.114Z"
      },
      {
        "duration": 111,
        "start_time": "2022-03-29T16:45:01.163Z"
      },
      {
        "duration": 97,
        "start_time": "2022-03-29T16:45:01.276Z"
      },
      {
        "duration": 78,
        "start_time": "2022-03-29T16:45:01.375Z"
      },
      {
        "duration": 42,
        "start_time": "2022-03-29T16:45:01.455Z"
      },
      {
        "duration": 59,
        "start_time": "2022-03-29T16:45:01.499Z"
      },
      {
        "duration": 39,
        "start_time": "2022-03-29T16:45:01.560Z"
      },
      {
        "duration": 115,
        "start_time": "2022-03-29T16:45:01.602Z"
      },
      {
        "duration": 45,
        "start_time": "2022-03-29T16:45:01.720Z"
      },
      {
        "duration": 69,
        "start_time": "2022-03-29T16:45:01.767Z"
      },
      {
        "duration": 24,
        "start_time": "2022-03-29T16:45:01.838Z"
      },
      {
        "duration": 16,
        "start_time": "2022-03-29T16:45:01.865Z"
      },
      {
        "duration": 39,
        "start_time": "2022-03-29T16:45:01.887Z"
      },
      {
        "duration": 76,
        "start_time": "2022-03-29T16:45:01.929Z"
      },
      {
        "duration": 68,
        "start_time": "2022-03-29T16:45:02.008Z"
      },
      {
        "duration": 54,
        "start_time": "2022-03-29T16:45:02.079Z"
      },
      {
        "duration": 42,
        "start_time": "2022-03-29T16:45:02.136Z"
      },
      {
        "duration": 39,
        "start_time": "2022-03-29T16:45:02.181Z"
      },
      {
        "duration": 97,
        "start_time": "2022-03-29T16:45:02.223Z"
      },
      {
        "duration": 89,
        "start_time": "2022-03-29T16:45:02.322Z"
      },
      {
        "duration": 207,
        "start_time": "2022-03-29T16:45:02.414Z"
      },
      {
        "duration": 591,
        "start_time": "2022-03-29T16:45:02.623Z"
      },
      {
        "duration": 2069,
        "start_time": "2022-03-29T16:45:03.216Z"
      },
      {
        "duration": 650,
        "start_time": "2022-03-29T16:45:05.288Z"
      },
      {
        "duration": 1784,
        "start_time": "2022-03-29T16:45:05.941Z"
      },
      {
        "duration": 589,
        "start_time": "2022-03-29T16:45:07.728Z"
      },
      {
        "duration": 1271,
        "start_time": "2022-03-29T16:45:08.320Z"
      },
      {
        "duration": 556,
        "start_time": "2022-03-29T16:45:09.594Z"
      },
      {
        "duration": 32,
        "start_time": "2022-03-29T16:45:10.152Z"
      },
      {
        "duration": 31,
        "start_time": "2022-03-29T16:45:10.186Z"
      },
      {
        "duration": 251,
        "start_time": "2022-03-29T16:45:10.220Z"
      },
      {
        "duration": 238,
        "start_time": "2022-03-29T16:45:10.473Z"
      },
      {
        "duration": 347,
        "start_time": "2022-03-29T16:45:10.714Z"
      },
      {
        "duration": 7,
        "start_time": "2022-03-29T16:45:11.064Z"
      },
      {
        "duration": 15,
        "start_time": "2022-03-29T16:45:11.084Z"
      },
      {
        "duration": 209,
        "start_time": "2022-03-29T16:45:11.102Z"
      },
      {
        "duration": 717,
        "start_time": "2022-03-29T16:45:11.314Z"
      },
      {
        "duration": 2077,
        "start_time": "2022-03-29T16:45:12.034Z"
      },
      {
        "duration": 9,
        "start_time": "2022-03-29T16:45:14.114Z"
      },
      {
        "duration": 12,
        "start_time": "2022-03-29T16:45:14.125Z"
      },
      {
        "duration": 25,
        "start_time": "2022-03-29T16:45:14.139Z"
      },
      {
        "duration": 16,
        "start_time": "2022-03-29T16:45:14.167Z"
      },
      {
        "duration": 31,
        "start_time": "2022-03-29T16:45:14.186Z"
      },
      {
        "duration": 13,
        "start_time": "2022-03-29T16:45:14.220Z"
      },
      {
        "duration": 17,
        "start_time": "2022-03-29T16:45:14.235Z"
      },
      {
        "duration": 16,
        "start_time": "2022-03-29T16:45:14.255Z"
      },
      {
        "duration": 6,
        "start_time": "2022-03-29T17:17:24.120Z"
      },
      {
        "duration": 5,
        "start_time": "2022-03-29T17:17:32.713Z"
      },
      {
        "duration": 4,
        "start_time": "2022-03-29T17:17:52.823Z"
      },
      {
        "duration": 26,
        "start_time": "2022-03-29T17:36:19.058Z"
      },
      {
        "duration": 161,
        "start_time": "2022-03-29T17:49:30.530Z"
      },
      {
        "duration": 47,
        "start_time": "2022-03-29T17:49:37.446Z"
      },
      {
        "duration": 1137,
        "start_time": "2022-03-30T06:49:32.013Z"
      },
      {
        "duration": 187,
        "start_time": "2022-03-30T06:49:33.152Z"
      },
      {
        "duration": 130,
        "start_time": "2022-03-30T06:49:33.341Z"
      },
      {
        "duration": 102,
        "start_time": "2022-03-30T06:49:33.472Z"
      },
      {
        "duration": 63,
        "start_time": "2022-03-30T06:49:33.576Z"
      },
      {
        "duration": 150,
        "start_time": "2022-03-30T06:49:33.641Z"
      },
      {
        "duration": 66,
        "start_time": "2022-03-30T06:49:33.793Z"
      },
      {
        "duration": 43,
        "start_time": "2022-03-30T06:49:33.861Z"
      },
      {
        "duration": 7,
        "start_time": "2022-03-30T06:49:33.905Z"
      },
      {
        "duration": 52,
        "start_time": "2022-03-30T06:49:33.914Z"
      },
      {
        "duration": 59,
        "start_time": "2022-03-30T06:49:33.968Z"
      },
      {
        "duration": 28,
        "start_time": "2022-03-30T06:49:34.028Z"
      },
      {
        "duration": 8,
        "start_time": "2022-03-30T06:49:34.058Z"
      },
      {
        "duration": 54,
        "start_time": "2022-03-30T06:49:34.069Z"
      },
      {
        "duration": 18,
        "start_time": "2022-03-30T06:49:34.125Z"
      },
      {
        "duration": 4,
        "start_time": "2022-03-30T06:49:34.144Z"
      },
      {
        "duration": 64,
        "start_time": "2022-03-30T06:49:34.149Z"
      },
      {
        "duration": 27,
        "start_time": "2022-03-30T06:49:34.215Z"
      },
      {
        "duration": 4,
        "start_time": "2022-03-30T06:49:34.244Z"
      },
      {
        "duration": 4,
        "start_time": "2022-03-30T06:49:34.250Z"
      },
      {
        "duration": 14,
        "start_time": "2022-03-30T06:49:34.255Z"
      },
      {
        "duration": 14,
        "start_time": "2022-03-30T06:49:34.302Z"
      },
      {
        "duration": 15,
        "start_time": "2022-03-30T06:49:34.318Z"
      },
      {
        "duration": 7,
        "start_time": "2022-03-30T06:49:34.334Z"
      },
      {
        "duration": 15,
        "start_time": "2022-03-30T06:49:34.342Z"
      },
      {
        "duration": 3,
        "start_time": "2022-03-30T06:49:34.359Z"
      },
      {
        "duration": 38,
        "start_time": "2022-03-30T06:49:34.363Z"
      },
      {
        "duration": 3,
        "start_time": "2022-03-30T06:49:34.403Z"
      },
      {
        "duration": 7,
        "start_time": "2022-03-30T06:49:34.408Z"
      },
      {
        "duration": 7,
        "start_time": "2022-03-30T06:49:34.416Z"
      },
      {
        "duration": 12,
        "start_time": "2022-03-30T06:49:34.424Z"
      },
      {
        "duration": 15,
        "start_time": "2022-03-30T06:49:34.437Z"
      },
      {
        "duration": 11,
        "start_time": "2022-03-30T06:49:34.454Z"
      },
      {
        "duration": 12,
        "start_time": "2022-03-30T06:49:34.466Z"
      },
      {
        "duration": 24,
        "start_time": "2022-03-30T06:49:34.480Z"
      },
      {
        "duration": 98,
        "start_time": "2022-03-30T06:49:34.505Z"
      },
      {
        "duration": 264,
        "start_time": "2022-03-30T06:49:34.604Z"
      },
      {
        "duration": 812,
        "start_time": "2022-03-30T06:49:34.870Z"
      },
      {
        "duration": 268,
        "start_time": "2022-03-30T06:49:35.683Z"
      },
      {
        "duration": 711,
        "start_time": "2022-03-30T06:49:35.952Z"
      },
      {
        "duration": 346,
        "start_time": "2022-03-30T06:49:36.666Z"
      },
      {
        "duration": 698,
        "start_time": "2022-03-30T06:49:37.013Z"
      },
      {
        "duration": 310,
        "start_time": "2022-03-30T06:49:37.713Z"
      },
      {
        "duration": 14,
        "start_time": "2022-03-30T06:49:38.024Z"
      },
      {
        "duration": 12,
        "start_time": "2022-03-30T06:49:38.039Z"
      },
      {
        "duration": 162,
        "start_time": "2022-03-30T06:49:38.053Z"
      },
      {
        "duration": 145,
        "start_time": "2022-03-30T06:49:38.216Z"
      },
      {
        "duration": 172,
        "start_time": "2022-03-30T06:49:38.363Z"
      },
      {
        "duration": 5,
        "start_time": "2022-03-30T06:49:38.538Z"
      },
      {
        "duration": 15,
        "start_time": "2022-03-30T06:49:38.544Z"
      },
      {
        "duration": 96,
        "start_time": "2022-03-30T06:49:38.560Z"
      },
      {
        "duration": 313,
        "start_time": "2022-03-30T06:49:38.657Z"
      },
      {
        "duration": 782,
        "start_time": "2022-03-30T06:49:38.971Z"
      },
      {
        "duration": 6,
        "start_time": "2022-03-30T06:49:39.755Z"
      },
      {
        "duration": 6,
        "start_time": "2022-03-30T06:49:39.763Z"
      },
      {
        "duration": 12,
        "start_time": "2022-03-30T06:49:39.770Z"
      },
      {
        "duration": 6,
        "start_time": "2022-03-30T06:49:39.784Z"
      },
      {
        "duration": 7,
        "start_time": "2022-03-30T06:49:39.802Z"
      },
      {
        "duration": 7,
        "start_time": "2022-03-30T06:49:39.811Z"
      },
      {
        "duration": 7,
        "start_time": "2022-03-30T06:49:39.819Z"
      },
      {
        "duration": 8,
        "start_time": "2022-03-30T06:49:39.827Z"
      },
      {
        "duration": 1314,
        "start_time": "2022-03-30T07:45:05.158Z"
      },
      {
        "duration": 197,
        "start_time": "2022-03-30T07:45:06.474Z"
      },
      {
        "duration": 135,
        "start_time": "2022-03-30T07:45:06.672Z"
      },
      {
        "duration": 120,
        "start_time": "2022-03-30T07:45:06.809Z"
      },
      {
        "duration": 100,
        "start_time": "2022-03-30T07:45:06.931Z"
      },
      {
        "duration": 170,
        "start_time": "2022-03-30T07:45:07.033Z"
      },
      {
        "duration": 59,
        "start_time": "2022-03-30T07:45:07.205Z"
      },
      {
        "duration": 58,
        "start_time": "2022-03-30T07:45:07.265Z"
      },
      {
        "duration": 10,
        "start_time": "2022-03-30T07:45:07.325Z"
      },
      {
        "duration": 52,
        "start_time": "2022-03-30T07:45:07.338Z"
      },
      {
        "duration": 64,
        "start_time": "2022-03-30T07:45:07.391Z"
      },
      {
        "duration": 45,
        "start_time": "2022-03-30T07:45:07.456Z"
      },
      {
        "duration": 5,
        "start_time": "2022-03-30T07:45:07.503Z"
      },
      {
        "duration": 53,
        "start_time": "2022-03-30T07:45:07.509Z"
      },
      {
        "duration": 21,
        "start_time": "2022-03-30T07:45:07.563Z"
      },
      {
        "duration": 4,
        "start_time": "2022-03-30T07:45:07.602Z"
      },
      {
        "duration": 65,
        "start_time": "2022-03-30T07:45:07.608Z"
      },
      {
        "duration": 36,
        "start_time": "2022-03-30T07:45:07.675Z"
      },
      {
        "duration": 4,
        "start_time": "2022-03-30T07:45:07.712Z"
      },
      {
        "duration": 12,
        "start_time": "2022-03-30T07:45:07.717Z"
      },
      {
        "duration": 36,
        "start_time": "2022-03-30T07:45:07.731Z"
      },
      {
        "duration": 18,
        "start_time": "2022-03-30T07:45:07.769Z"
      },
      {
        "duration": 14,
        "start_time": "2022-03-30T07:45:07.788Z"
      },
      {
        "duration": 9,
        "start_time": "2022-03-30T07:45:07.804Z"
      },
      {
        "duration": 17,
        "start_time": "2022-03-30T07:45:07.815Z"
      },
      {
        "duration": 5,
        "start_time": "2022-03-30T07:45:07.834Z"
      },
      {
        "duration": 20,
        "start_time": "2022-03-30T07:45:07.841Z"
      },
      {
        "duration": 6,
        "start_time": "2022-03-30T07:45:07.866Z"
      },
      {
        "duration": 30,
        "start_time": "2022-03-30T07:45:07.873Z"
      },
      {
        "duration": 12,
        "start_time": "2022-03-30T07:45:07.905Z"
      },
      {
        "duration": 22,
        "start_time": "2022-03-30T07:45:07.919Z"
      },
      {
        "duration": 27,
        "start_time": "2022-03-30T07:45:07.943Z"
      },
      {
        "duration": 17,
        "start_time": "2022-03-30T07:45:07.971Z"
      },
      {
        "duration": 12,
        "start_time": "2022-03-30T07:45:07.990Z"
      },
      {
        "duration": 30,
        "start_time": "2022-03-30T07:45:08.004Z"
      },
      {
        "duration": 101,
        "start_time": "2022-03-30T07:45:08.036Z"
      },
      {
        "duration": 263,
        "start_time": "2022-03-30T07:45:08.139Z"
      },
      {
        "duration": 976,
        "start_time": "2022-03-30T07:45:08.404Z"
      },
      {
        "duration": 279,
        "start_time": "2022-03-30T07:45:09.382Z"
      },
      {
        "duration": 721,
        "start_time": "2022-03-30T07:45:09.663Z"
      },
      {
        "duration": 353,
        "start_time": "2022-03-30T07:45:10.386Z"
      },
      {
        "duration": 765,
        "start_time": "2022-03-30T07:45:10.741Z"
      },
      {
        "duration": 339,
        "start_time": "2022-03-30T07:45:11.508Z"
      },
      {
        "duration": 13,
        "start_time": "2022-03-30T07:45:11.848Z"
      },
      {
        "duration": 14,
        "start_time": "2022-03-30T07:45:11.863Z"
      },
      {
        "duration": 160,
        "start_time": "2022-03-30T07:45:11.879Z"
      },
      {
        "duration": 153,
        "start_time": "2022-03-30T07:45:12.040Z"
      },
      {
        "duration": 163,
        "start_time": "2022-03-30T07:45:12.195Z"
      },
      {
        "duration": 5,
        "start_time": "2022-03-30T07:45:12.361Z"
      },
      {
        "duration": 6,
        "start_time": "2022-03-30T07:45:12.368Z"
      },
      {
        "duration": 105,
        "start_time": "2022-03-30T07:45:12.375Z"
      },
      {
        "duration": 329,
        "start_time": "2022-03-30T07:45:12.481Z"
      },
      {
        "duration": 827,
        "start_time": "2022-03-30T07:45:12.812Z"
      },
      {
        "duration": 5,
        "start_time": "2022-03-30T07:45:13.641Z"
      },
      {
        "duration": 7,
        "start_time": "2022-03-30T07:45:13.648Z"
      },
      {
        "duration": 13,
        "start_time": "2022-03-30T07:45:13.657Z"
      },
      {
        "duration": 10,
        "start_time": "2022-03-30T07:45:13.671Z"
      },
      {
        "duration": 27,
        "start_time": "2022-03-30T07:45:13.682Z"
      },
      {
        "duration": 8,
        "start_time": "2022-03-30T07:45:13.711Z"
      },
      {
        "duration": 6,
        "start_time": "2022-03-30T07:45:13.721Z"
      },
      {
        "duration": 6,
        "start_time": "2022-03-30T07:45:13.728Z"
      },
      {
        "duration": 47,
        "start_time": "2022-03-30T09:09:25.725Z"
      },
      {
        "duration": 1376,
        "start_time": "2022-03-30T09:09:31.291Z"
      },
      {
        "duration": 194,
        "start_time": "2022-03-30T09:09:32.669Z"
      },
      {
        "duration": 144,
        "start_time": "2022-03-30T09:09:32.865Z"
      },
      {
        "duration": 108,
        "start_time": "2022-03-30T09:09:33.012Z"
      },
      {
        "duration": 69,
        "start_time": "2022-03-30T09:09:33.122Z"
      },
      {
        "duration": 171,
        "start_time": "2022-03-30T09:09:33.192Z"
      },
      {
        "duration": 75,
        "start_time": "2022-03-30T09:09:33.365Z"
      },
      {
        "duration": 32,
        "start_time": "2022-03-30T09:09:33.442Z"
      },
      {
        "duration": 7,
        "start_time": "2022-03-30T09:09:33.476Z"
      },
      {
        "duration": 28,
        "start_time": "2022-03-30T09:09:33.486Z"
      },
      {
        "duration": 60,
        "start_time": "2022-03-30T09:09:33.534Z"
      },
      {
        "duration": 0,
        "start_time": "2022-03-30T09:09:33.597Z"
      },
      {
        "duration": 0,
        "start_time": "2022-03-30T09:09:33.598Z"
      },
      {
        "duration": 0,
        "start_time": "2022-03-30T09:09:33.599Z"
      },
      {
        "duration": 0,
        "start_time": "2022-03-30T09:09:33.600Z"
      },
      {
        "duration": 0,
        "start_time": "2022-03-30T09:09:33.601Z"
      },
      {
        "duration": 0,
        "start_time": "2022-03-30T09:09:33.603Z"
      },
      {
        "duration": 0,
        "start_time": "2022-03-30T09:09:33.604Z"
      },
      {
        "duration": 0,
        "start_time": "2022-03-30T09:09:33.605Z"
      },
      {
        "duration": 0,
        "start_time": "2022-03-30T09:09:33.606Z"
      },
      {
        "duration": 0,
        "start_time": "2022-03-30T09:09:33.633Z"
      },
      {
        "duration": 0,
        "start_time": "2022-03-30T09:09:33.634Z"
      },
      {
        "duration": 0,
        "start_time": "2022-03-30T09:09:33.635Z"
      },
      {
        "duration": 0,
        "start_time": "2022-03-30T09:09:33.636Z"
      },
      {
        "duration": 0,
        "start_time": "2022-03-30T09:09:33.637Z"
      },
      {
        "duration": 0,
        "start_time": "2022-03-30T09:09:33.638Z"
      },
      {
        "duration": 0,
        "start_time": "2022-03-30T09:09:33.639Z"
      },
      {
        "duration": 0,
        "start_time": "2022-03-30T09:09:33.640Z"
      },
      {
        "duration": 0,
        "start_time": "2022-03-30T09:09:33.642Z"
      },
      {
        "duration": 0,
        "start_time": "2022-03-30T09:09:33.643Z"
      },
      {
        "duration": 0,
        "start_time": "2022-03-30T09:09:33.644Z"
      },
      {
        "duration": 0,
        "start_time": "2022-03-30T09:09:33.645Z"
      },
      {
        "duration": 0,
        "start_time": "2022-03-30T09:09:33.646Z"
      },
      {
        "duration": 0,
        "start_time": "2022-03-30T09:09:33.647Z"
      },
      {
        "duration": 0,
        "start_time": "2022-03-30T09:09:33.648Z"
      },
      {
        "duration": 0,
        "start_time": "2022-03-30T09:09:33.650Z"
      },
      {
        "duration": 0,
        "start_time": "2022-03-30T09:09:33.651Z"
      },
      {
        "duration": 0,
        "start_time": "2022-03-30T09:09:33.652Z"
      },
      {
        "duration": 0,
        "start_time": "2022-03-30T09:09:33.653Z"
      },
      {
        "duration": 0,
        "start_time": "2022-03-30T09:09:33.654Z"
      },
      {
        "duration": 0,
        "start_time": "2022-03-30T09:09:33.655Z"
      },
      {
        "duration": 0,
        "start_time": "2022-03-30T09:09:33.656Z"
      },
      {
        "duration": 0,
        "start_time": "2022-03-30T09:09:33.657Z"
      },
      {
        "duration": 0,
        "start_time": "2022-03-30T09:09:33.658Z"
      },
      {
        "duration": 0,
        "start_time": "2022-03-30T09:09:33.659Z"
      },
      {
        "duration": 0,
        "start_time": "2022-03-30T09:09:33.660Z"
      },
      {
        "duration": 0,
        "start_time": "2022-03-30T09:09:33.662Z"
      },
      {
        "duration": 0,
        "start_time": "2022-03-30T09:09:33.663Z"
      },
      {
        "duration": 0,
        "start_time": "2022-03-30T09:09:33.664Z"
      },
      {
        "duration": 0,
        "start_time": "2022-03-30T09:09:33.665Z"
      },
      {
        "duration": 0,
        "start_time": "2022-03-30T09:09:33.666Z"
      },
      {
        "duration": 0,
        "start_time": "2022-03-30T09:09:33.667Z"
      },
      {
        "duration": 0,
        "start_time": "2022-03-30T09:09:33.668Z"
      },
      {
        "duration": 0,
        "start_time": "2022-03-30T09:09:33.669Z"
      },
      {
        "duration": 0,
        "start_time": "2022-03-30T09:09:33.670Z"
      },
      {
        "duration": 0,
        "start_time": "2022-03-30T09:09:33.671Z"
      },
      {
        "duration": 0,
        "start_time": "2022-03-30T09:09:33.732Z"
      },
      {
        "duration": 0,
        "start_time": "2022-03-30T09:09:33.734Z"
      },
      {
        "duration": 0,
        "start_time": "2022-03-30T09:09:33.735Z"
      },
      {
        "duration": 0,
        "start_time": "2022-03-30T09:09:33.736Z"
      },
      {
        "duration": 0,
        "start_time": "2022-03-30T09:09:33.737Z"
      },
      {
        "duration": 0,
        "start_time": "2022-03-30T09:09:33.738Z"
      },
      {
        "duration": 9,
        "start_time": "2022-03-30T09:10:01.499Z"
      },
      {
        "duration": 5,
        "start_time": "2022-03-30T09:10:13.599Z"
      },
      {
        "duration": 3,
        "start_time": "2022-03-30T09:20:08.640Z"
      },
      {
        "duration": 176,
        "start_time": "2022-03-30T09:20:22.531Z"
      },
      {
        "duration": 11,
        "start_time": "2022-03-30T09:22:37.561Z"
      },
      {
        "duration": 6,
        "start_time": "2022-03-30T09:23:02.221Z"
      },
      {
        "duration": 8,
        "start_time": "2022-03-30T09:25:14.307Z"
      },
      {
        "duration": 3,
        "start_time": "2022-03-30T09:27:35.570Z"
      },
      {
        "duration": 3,
        "start_time": "2022-03-30T09:29:56.818Z"
      },
      {
        "duration": 183,
        "start_time": "2022-03-30T09:29:56.824Z"
      },
      {
        "duration": 133,
        "start_time": "2022-03-30T09:29:57.009Z"
      },
      {
        "duration": 110,
        "start_time": "2022-03-30T09:29:57.143Z"
      },
      {
        "duration": 56,
        "start_time": "2022-03-30T09:29:57.254Z"
      },
      {
        "duration": 174,
        "start_time": "2022-03-30T09:29:57.312Z"
      },
      {
        "duration": 84,
        "start_time": "2022-03-30T09:29:57.488Z"
      },
      {
        "duration": 36,
        "start_time": "2022-03-30T09:29:57.574Z"
      },
      {
        "duration": 8,
        "start_time": "2022-03-30T09:29:57.612Z"
      },
      {
        "duration": 27,
        "start_time": "2022-03-30T09:29:57.634Z"
      },
      {
        "duration": 4,
        "start_time": "2022-03-30T09:29:57.662Z"
      },
      {
        "duration": 14,
        "start_time": "2022-03-30T09:29:57.668Z"
      },
      {
        "duration": 190,
        "start_time": "2022-03-30T09:29:57.684Z"
      },
      {
        "duration": 5,
        "start_time": "2022-03-30T09:30:14.812Z"
      },
      {
        "duration": 58,
        "start_time": "2022-03-30T09:30:19.947Z"
      },
      {
        "duration": 25,
        "start_time": "2022-03-30T09:30:51.507Z"
      },
      {
        "duration": 4,
        "start_time": "2022-03-30T09:31:38.865Z"
      },
      {
        "duration": 187,
        "start_time": "2022-03-30T09:31:38.873Z"
      },
      {
        "duration": 140,
        "start_time": "2022-03-30T09:31:39.062Z"
      },
      {
        "duration": 110,
        "start_time": "2022-03-30T09:31:39.204Z"
      },
      {
        "duration": 68,
        "start_time": "2022-03-30T09:31:39.316Z"
      },
      {
        "duration": 168,
        "start_time": "2022-03-30T09:31:39.386Z"
      },
      {
        "duration": 77,
        "start_time": "2022-03-30T09:31:39.556Z"
      },
      {
        "duration": 33,
        "start_time": "2022-03-30T09:31:39.634Z"
      },
      {
        "duration": 8,
        "start_time": "2022-03-30T09:31:39.669Z"
      },
      {
        "duration": 34,
        "start_time": "2022-03-30T09:31:39.678Z"
      },
      {
        "duration": 21,
        "start_time": "2022-03-30T09:31:39.714Z"
      },
      {
        "duration": 8,
        "start_time": "2022-03-30T09:31:39.737Z"
      },
      {
        "duration": 190,
        "start_time": "2022-03-30T09:31:39.747Z"
      },
      {
        "duration": 37,
        "start_time": "2022-03-30T09:31:41.668Z"
      },
      {
        "duration": 25,
        "start_time": "2022-03-30T09:31:46.903Z"
      },
      {
        "duration": 116,
        "start_time": "2022-03-30T09:35:26.421Z"
      },
      {
        "duration": 6,
        "start_time": "2022-03-30T09:35:40.501Z"
      },
      {
        "duration": 15,
        "start_time": "2022-03-30T09:42:03.653Z"
      },
      {
        "duration": 33,
        "start_time": "2022-03-30T09:42:09.668Z"
      },
      {
        "duration": 30,
        "start_time": "2022-03-30T09:42:18.530Z"
      },
      {
        "duration": 4,
        "start_time": "2022-03-30T09:42:23.180Z"
      },
      {
        "duration": 4,
        "start_time": "2022-03-30T09:42:27.408Z"
      },
      {
        "duration": 40,
        "start_time": "2022-03-30T09:42:27.416Z"
      },
      {
        "duration": 20,
        "start_time": "2022-03-30T09:42:27.457Z"
      },
      {
        "duration": 4,
        "start_time": "2022-03-30T09:42:27.478Z"
      },
      {
        "duration": 75,
        "start_time": "2022-03-30T09:42:27.483Z"
      },
      {
        "duration": 29,
        "start_time": "2022-03-30T09:42:27.560Z"
      },
      {
        "duration": 4,
        "start_time": "2022-03-30T09:42:27.591Z"
      },
      {
        "duration": 37,
        "start_time": "2022-03-30T09:42:27.596Z"
      },
      {
        "duration": 22,
        "start_time": "2022-03-30T09:42:27.635Z"
      },
      {
        "duration": 15,
        "start_time": "2022-03-30T09:42:27.659Z"
      },
      {
        "duration": 16,
        "start_time": "2022-03-30T09:42:27.676Z"
      },
      {
        "duration": 8,
        "start_time": "2022-03-30T09:42:27.693Z"
      },
      {
        "duration": 43,
        "start_time": "2022-03-30T09:42:27.703Z"
      },
      {
        "duration": 4,
        "start_time": "2022-03-30T09:42:27.748Z"
      },
      {
        "duration": 7,
        "start_time": "2022-03-30T09:42:27.754Z"
      },
      {
        "duration": 5,
        "start_time": "2022-03-30T09:42:27.763Z"
      },
      {
        "duration": 9,
        "start_time": "2022-03-30T09:42:27.769Z"
      },
      {
        "duration": 6,
        "start_time": "2022-03-30T09:42:27.779Z"
      },
      {
        "duration": 8,
        "start_time": "2022-03-30T09:42:27.786Z"
      },
      {
        "duration": 45,
        "start_time": "2022-03-30T09:42:27.796Z"
      },
      {
        "duration": 4,
        "start_time": "2022-03-30T09:42:27.843Z"
      },
      {
        "duration": 11,
        "start_time": "2022-03-30T09:42:27.848Z"
      },
      {
        "duration": 13,
        "start_time": "2022-03-30T09:42:27.861Z"
      },
      {
        "duration": 114,
        "start_time": "2022-03-30T09:42:27.875Z"
      },
      {
        "duration": 276,
        "start_time": "2022-03-30T09:42:27.990Z"
      },
      {
        "duration": 820,
        "start_time": "2022-03-30T09:42:28.267Z"
      },
      {
        "duration": 277,
        "start_time": "2022-03-30T09:42:29.088Z"
      },
      {
        "duration": 722,
        "start_time": "2022-03-30T09:42:29.369Z"
      },
      {
        "duration": 354,
        "start_time": "2022-03-30T09:42:30.092Z"
      },
      {
        "duration": 820,
        "start_time": "2022-03-30T09:42:30.448Z"
      },
      {
        "duration": 681,
        "start_time": "2022-03-30T09:42:31.270Z"
      },
      {
        "duration": 14,
        "start_time": "2022-03-30T09:42:31.953Z"
      },
      {
        "duration": 73,
        "start_time": "2022-03-30T09:42:31.969Z"
      },
      {
        "duration": 304,
        "start_time": "2022-03-30T09:42:32.043Z"
      },
      {
        "duration": 287,
        "start_time": "2022-03-30T09:42:32.349Z"
      },
      {
        "duration": 316,
        "start_time": "2022-03-30T09:42:32.638Z"
      },
      {
        "duration": 4,
        "start_time": "2022-03-30T09:42:32.956Z"
      },
      {
        "duration": 7,
        "start_time": "2022-03-30T09:42:32.961Z"
      },
      {
        "duration": 101,
        "start_time": "2022-03-30T09:42:32.969Z"
      },
      {
        "duration": 333,
        "start_time": "2022-03-30T09:42:33.072Z"
      },
      {
        "duration": 795,
        "start_time": "2022-03-30T09:42:33.407Z"
      },
      {
        "duration": 5,
        "start_time": "2022-03-30T09:42:34.204Z"
      },
      {
        "duration": 10,
        "start_time": "2022-03-30T09:42:34.211Z"
      },
      {
        "duration": 12,
        "start_time": "2022-03-30T09:42:34.223Z"
      },
      {
        "duration": 4,
        "start_time": "2022-03-30T09:42:34.237Z"
      },
      {
        "duration": 11,
        "start_time": "2022-03-30T09:42:34.242Z"
      },
      {
        "duration": 9,
        "start_time": "2022-03-30T09:42:34.255Z"
      },
      {
        "duration": 6,
        "start_time": "2022-03-30T09:42:34.266Z"
      },
      {
        "duration": 5,
        "start_time": "2022-03-30T09:42:34.274Z"
      },
      {
        "duration": 114,
        "start_time": "2022-03-30T09:50:06.476Z"
      },
      {
        "duration": 1381,
        "start_time": "2022-03-31T04:59:25.570Z"
      },
      {
        "duration": 198,
        "start_time": "2022-03-31T04:59:26.953Z"
      },
      {
        "duration": 150,
        "start_time": "2022-03-31T04:59:27.153Z"
      },
      {
        "duration": 116,
        "start_time": "2022-03-31T04:59:27.310Z"
      },
      {
        "duration": 62,
        "start_time": "2022-03-31T04:59:27.427Z"
      },
      {
        "duration": 174,
        "start_time": "2022-03-31T04:59:27.509Z"
      },
      {
        "duration": 80,
        "start_time": "2022-03-31T04:59:27.685Z"
      },
      {
        "duration": 43,
        "start_time": "2022-03-31T04:59:27.767Z"
      },
      {
        "duration": 12,
        "start_time": "2022-03-31T04:59:27.813Z"
      },
      {
        "duration": 27,
        "start_time": "2022-03-31T04:59:27.828Z"
      },
      {
        "duration": 4,
        "start_time": "2022-03-31T04:59:27.857Z"
      },
      {
        "duration": 5,
        "start_time": "2022-03-31T04:59:27.863Z"
      },
      {
        "duration": 209,
        "start_time": "2022-03-31T04:59:27.870Z"
      },
      {
        "duration": 6,
        "start_time": "2022-03-31T04:59:40.038Z"
      },
      {
        "duration": 57,
        "start_time": "2022-03-31T05:00:33.734Z"
      },
      {
        "duration": 26,
        "start_time": "2022-03-31T05:01:23.949Z"
      },
      {
        "duration": 9,
        "start_time": "2022-03-31T05:17:23.115Z"
      },
      {
        "duration": 5,
        "start_time": "2022-03-31T05:21:46.349Z"
      },
      {
        "duration": 99,
        "start_time": "2022-03-31T07:18:04.239Z"
      },
      {
        "duration": 3,
        "start_time": "2022-03-31T07:18:09.004Z"
      },
      {
        "duration": 203,
        "start_time": "2022-03-31T07:18:09.012Z"
      },
      {
        "duration": 143,
        "start_time": "2022-03-31T07:18:09.218Z"
      },
      {
        "duration": 112,
        "start_time": "2022-03-31T07:18:09.362Z"
      },
      {
        "duration": 79,
        "start_time": "2022-03-31T07:18:09.477Z"
      },
      {
        "duration": 182,
        "start_time": "2022-03-31T07:18:09.558Z"
      },
      {
        "duration": 81,
        "start_time": "2022-03-31T07:18:09.742Z"
      },
      {
        "duration": 31,
        "start_time": "2022-03-31T07:18:09.825Z"
      },
      {
        "duration": 8,
        "start_time": "2022-03-31T07:18:09.858Z"
      },
      {
        "duration": 56,
        "start_time": "2022-03-31T07:18:09.868Z"
      },
      {
        "duration": 6,
        "start_time": "2022-03-31T07:18:09.927Z"
      },
      {
        "duration": 4,
        "start_time": "2022-03-31T07:18:09.935Z"
      },
      {
        "duration": 222,
        "start_time": "2022-03-31T07:18:09.941Z"
      },
      {
        "duration": 73,
        "start_time": "2022-03-31T07:18:10.164Z"
      },
      {
        "duration": 7,
        "start_time": "2022-03-31T07:18:10.239Z"
      },
      {
        "duration": 31,
        "start_time": "2022-03-31T07:18:10.248Z"
      },
      {
        "duration": 4,
        "start_time": "2022-03-31T07:18:10.280Z"
      },
      {
        "duration": 59,
        "start_time": "2022-03-31T07:18:10.285Z"
      },
      {
        "duration": 20,
        "start_time": "2022-03-31T07:18:10.345Z"
      },
      {
        "duration": 4,
        "start_time": "2022-03-31T07:18:10.366Z"
      },
      {
        "duration": 57,
        "start_time": "2022-03-31T07:18:10.371Z"
      },
      {
        "duration": 28,
        "start_time": "2022-03-31T07:18:10.430Z"
      },
      {
        "duration": 3,
        "start_time": "2022-03-31T07:18:10.460Z"
      },
      {
        "duration": 8,
        "start_time": "2022-03-31T07:18:10.465Z"
      },
      {
        "duration": 5,
        "start_time": "2022-03-31T07:18:10.475Z"
      },
      {
        "duration": 15,
        "start_time": "2022-03-31T07:18:10.482Z"
      },
      {
        "duration": 21,
        "start_time": "2022-03-31T07:18:10.498Z"
      },
      {
        "duration": 20,
        "start_time": "2022-03-31T07:18:14.602Z"
      },
      {
        "duration": 5,
        "start_time": "2022-03-31T07:18:21.721Z"
      },
      {
        "duration": 1355,
        "start_time": "2022-03-31T07:18:42.287Z"
      },
      {
        "duration": 5,
        "start_time": "2022-03-31T07:20:47.026Z"
      },
      {
        "duration": 13,
        "start_time": "2022-03-31T07:22:14.731Z"
      },
      {
        "duration": 14,
        "start_time": "2022-03-31T07:22:19.373Z"
      },
      {
        "duration": 7,
        "start_time": "2022-03-31T07:23:04.173Z"
      },
      {
        "duration": 7,
        "start_time": "2022-03-31T07:24:02.770Z"
      },
      {
        "duration": 5,
        "start_time": "2022-03-31T07:24:33.531Z"
      },
      {
        "duration": 4,
        "start_time": "2022-03-31T07:24:40.579Z"
      },
      {
        "duration": 5,
        "start_time": "2022-03-31T07:25:04.420Z"
      },
      {
        "duration": 5,
        "start_time": "2022-03-31T07:25:09.148Z"
      },
      {
        "duration": 7,
        "start_time": "2022-03-31T07:25:24.028Z"
      },
      {
        "duration": 13,
        "start_time": "2022-03-31T07:26:13.942Z"
      },
      {
        "duration": 5,
        "start_time": "2022-03-31T07:26:27.042Z"
      },
      {
        "duration": 4,
        "start_time": "2022-03-31T07:26:36.402Z"
      },
      {
        "duration": 10,
        "start_time": "2022-03-31T07:29:12.043Z"
      },
      {
        "duration": 9,
        "start_time": "2022-03-31T07:30:07.370Z"
      },
      {
        "duration": 5,
        "start_time": "2022-03-31T07:30:21.137Z"
      },
      {
        "duration": 6,
        "start_time": "2022-03-31T07:30:32.978Z"
      },
      {
        "duration": 13,
        "start_time": "2022-03-31T07:39:12.236Z"
      },
      {
        "duration": 11,
        "start_time": "2022-03-31T07:39:56.367Z"
      },
      {
        "duration": 16,
        "start_time": "2022-03-31T07:40:13.985Z"
      },
      {
        "duration": 11,
        "start_time": "2022-03-31T07:40:31.733Z"
      },
      {
        "duration": 11,
        "start_time": "2022-03-31T07:40:48.114Z"
      },
      {
        "duration": 8,
        "start_time": "2022-03-31T07:41:50.575Z"
      },
      {
        "duration": 17,
        "start_time": "2022-03-31T07:41:55.711Z"
      },
      {
        "duration": 19,
        "start_time": "2022-03-31T07:42:26.765Z"
      },
      {
        "duration": 13,
        "start_time": "2022-03-31T07:42:33.940Z"
      },
      {
        "duration": 15,
        "start_time": "2022-03-31T07:42:42.472Z"
      },
      {
        "duration": 7,
        "start_time": "2022-03-31T07:44:11.802Z"
      },
      {
        "duration": 6,
        "start_time": "2022-03-31T07:44:47.668Z"
      },
      {
        "duration": 10,
        "start_time": "2022-03-31T07:46:20.153Z"
      },
      {
        "duration": 13,
        "start_time": "2022-03-31T07:46:50.641Z"
      },
      {
        "duration": 8,
        "start_time": "2022-03-31T07:49:29.157Z"
      },
      {
        "duration": 7,
        "start_time": "2022-03-31T07:49:43.169Z"
      },
      {
        "duration": 8,
        "start_time": "2022-03-31T07:49:46.630Z"
      },
      {
        "duration": 6,
        "start_time": "2022-03-31T07:50:09.055Z"
      },
      {
        "duration": 4,
        "start_time": "2022-03-31T07:50:20.059Z"
      },
      {
        "duration": 4,
        "start_time": "2022-03-31T07:50:23.347Z"
      },
      {
        "duration": 3,
        "start_time": "2022-03-31T07:50:26.911Z"
      },
      {
        "duration": 4,
        "start_time": "2022-03-31T07:50:42.926Z"
      },
      {
        "duration": 3,
        "start_time": "2022-03-31T07:51:11.840Z"
      },
      {
        "duration": 12,
        "start_time": "2022-03-31T07:51:56.453Z"
      },
      {
        "duration": 12,
        "start_time": "2022-03-31T07:52:10.557Z"
      },
      {
        "duration": 6,
        "start_time": "2022-03-31T07:52:25.949Z"
      },
      {
        "duration": 11,
        "start_time": "2022-03-31T07:52:40.127Z"
      },
      {
        "duration": 40,
        "start_time": "2022-03-31T07:53:01.237Z"
      },
      {
        "duration": 12,
        "start_time": "2022-03-31T07:54:13.677Z"
      },
      {
        "duration": 11,
        "start_time": "2022-03-31T07:54:28.406Z"
      },
      {
        "duration": 13,
        "start_time": "2022-03-31T07:54:34.225Z"
      },
      {
        "duration": 10,
        "start_time": "2022-03-31T07:54:39.835Z"
      },
      {
        "duration": 5,
        "start_time": "2022-03-31T07:55:35.545Z"
      },
      {
        "duration": 5,
        "start_time": "2022-03-31T07:57:40.867Z"
      },
      {
        "duration": 5,
        "start_time": "2022-03-31T07:57:56.194Z"
      },
      {
        "duration": 4,
        "start_time": "2022-03-31T08:01:51.776Z"
      },
      {
        "duration": 190,
        "start_time": "2022-03-31T08:01:51.784Z"
      },
      {
        "duration": 113,
        "start_time": "2022-03-31T08:01:51.977Z"
      },
      {
        "duration": 106,
        "start_time": "2022-03-31T08:01:52.092Z"
      },
      {
        "duration": 52,
        "start_time": "2022-03-31T08:01:52.208Z"
      },
      {
        "duration": 166,
        "start_time": "2022-03-31T08:01:52.262Z"
      },
      {
        "duration": 54,
        "start_time": "2022-03-31T08:01:52.430Z"
      },
      {
        "duration": 42,
        "start_time": "2022-03-31T08:01:52.486Z"
      },
      {
        "duration": 7,
        "start_time": "2022-03-31T08:01:52.530Z"
      },
      {
        "duration": 25,
        "start_time": "2022-03-31T08:01:52.538Z"
      },
      {
        "duration": 4,
        "start_time": "2022-03-31T08:01:52.565Z"
      },
      {
        "duration": 39,
        "start_time": "2022-03-31T08:01:52.570Z"
      },
      {
        "duration": 179,
        "start_time": "2022-03-31T08:01:52.611Z"
      },
      {
        "duration": 74,
        "start_time": "2022-03-31T08:01:52.792Z"
      },
      {
        "duration": 7,
        "start_time": "2022-03-31T08:01:52.868Z"
      },
      {
        "duration": 48,
        "start_time": "2022-03-31T08:01:52.877Z"
      },
      {
        "duration": 4,
        "start_time": "2022-03-31T08:01:52.927Z"
      },
      {
        "duration": 41,
        "start_time": "2022-03-31T08:01:52.932Z"
      },
      {
        "duration": 38,
        "start_time": "2022-03-31T08:01:52.974Z"
      },
      {
        "duration": 4,
        "start_time": "2022-03-31T08:01:53.013Z"
      },
      {
        "duration": 48,
        "start_time": "2022-03-31T08:01:53.018Z"
      },
      {
        "duration": 45,
        "start_time": "2022-03-31T08:01:53.067Z"
      },
      {
        "duration": 3,
        "start_time": "2022-03-31T08:01:53.113Z"
      },
      {
        "duration": 5,
        "start_time": "2022-03-31T08:01:53.118Z"
      },
      {
        "duration": 7,
        "start_time": "2022-03-31T08:01:53.125Z"
      },
      {
        "duration": 16,
        "start_time": "2022-03-31T08:01:53.133Z"
      },
      {
        "duration": 14,
        "start_time": "2022-03-31T08:01:53.150Z"
      },
      {
        "duration": 45,
        "start_time": "2022-03-31T08:01:53.165Z"
      },
      {
        "duration": 9,
        "start_time": "2022-03-31T08:01:53.212Z"
      },
      {
        "duration": 45,
        "start_time": "2022-03-31T08:01:53.222Z"
      },
      {
        "duration": 13,
        "start_time": "2022-03-31T08:01:53.270Z"
      },
      {
        "duration": 18,
        "start_time": "2022-03-31T08:01:57.509Z"
      },
      {
        "duration": 995,
        "start_time": "2022-03-31T08:14:55.620Z"
      },
      {
        "duration": 5,
        "start_time": "2022-03-31T08:15:02.070Z"
      },
      {
        "duration": 19,
        "start_time": "2022-03-31T08:18:18.836Z"
      },
      {
        "duration": 10,
        "start_time": "2022-03-31T08:18:28.938Z"
      },
      {
        "duration": 43,
        "start_time": "2022-03-31T08:19:06.918Z"
      },
      {
        "duration": 12,
        "start_time": "2022-03-31T08:19:15.870Z"
      },
      {
        "duration": 30,
        "start_time": "2022-03-31T08:19:27.537Z"
      },
      {
        "duration": 28,
        "start_time": "2022-03-31T08:19:51.114Z"
      },
      {
        "duration": 41,
        "start_time": "2022-03-31T08:20:39.081Z"
      },
      {
        "duration": 40,
        "start_time": "2022-03-31T08:20:57.897Z"
      },
      {
        "duration": 44,
        "start_time": "2022-03-31T08:32:00.383Z"
      },
      {
        "duration": 29,
        "start_time": "2022-03-31T08:32:18.605Z"
      },
      {
        "duration": 26,
        "start_time": "2022-03-31T08:32:33.924Z"
      },
      {
        "duration": 4,
        "start_time": "2022-03-31T08:32:41.891Z"
      },
      {
        "duration": 183,
        "start_time": "2022-03-31T08:32:41.898Z"
      },
      {
        "duration": 116,
        "start_time": "2022-03-31T08:32:42.083Z"
      },
      {
        "duration": 103,
        "start_time": "2022-03-31T08:32:42.208Z"
      },
      {
        "duration": 51,
        "start_time": "2022-03-31T08:32:42.313Z"
      },
      {
        "duration": 164,
        "start_time": "2022-03-31T08:32:42.366Z"
      },
      {
        "duration": 53,
        "start_time": "2022-03-31T08:32:42.531Z"
      },
      {
        "duration": 39,
        "start_time": "2022-03-31T08:32:42.586Z"
      },
      {
        "duration": 8,
        "start_time": "2022-03-31T08:32:42.626Z"
      },
      {
        "duration": 25,
        "start_time": "2022-03-31T08:32:42.635Z"
      },
      {
        "duration": 4,
        "start_time": "2022-03-31T08:32:42.662Z"
      },
      {
        "duration": 4,
        "start_time": "2022-03-31T08:32:42.668Z"
      },
      {
        "duration": 188,
        "start_time": "2022-03-31T08:32:42.674Z"
      },
      {
        "duration": 68,
        "start_time": "2022-03-31T08:32:42.864Z"
      },
      {
        "duration": 6,
        "start_time": "2022-03-31T08:32:42.933Z"
      },
      {
        "duration": 24,
        "start_time": "2022-03-31T08:32:42.941Z"
      },
      {
        "duration": 3,
        "start_time": "2022-03-31T08:32:42.967Z"
      },
      {
        "duration": 68,
        "start_time": "2022-03-31T08:32:42.972Z"
      },
      {
        "duration": 16,
        "start_time": "2022-03-31T08:32:43.042Z"
      },
      {
        "duration": 3,
        "start_time": "2022-03-31T08:32:43.059Z"
      },
      {
        "duration": 67,
        "start_time": "2022-03-31T08:32:43.064Z"
      },
      {
        "duration": 27,
        "start_time": "2022-03-31T08:32:43.132Z"
      },
      {
        "duration": 4,
        "start_time": "2022-03-31T08:32:43.162Z"
      },
      {
        "duration": 5,
        "start_time": "2022-03-31T08:32:43.167Z"
      },
      {
        "duration": 35,
        "start_time": "2022-03-31T08:32:43.174Z"
      },
      {
        "duration": 15,
        "start_time": "2022-03-31T08:32:43.211Z"
      },
      {
        "duration": 16,
        "start_time": "2022-03-31T08:32:43.227Z"
      },
      {
        "duration": 16,
        "start_time": "2022-03-31T08:32:43.245Z"
      },
      {
        "duration": 8,
        "start_time": "2022-03-31T08:32:43.264Z"
      },
      {
        "duration": 28,
        "start_time": "2022-03-31T08:32:52.585Z"
      },
      {
        "duration": 16,
        "start_time": "2022-03-31T08:35:28.658Z"
      },
      {
        "duration": 36,
        "start_time": "2022-03-31T08:36:40.938Z"
      },
      {
        "duration": 23,
        "start_time": "2022-03-31T08:37:13.530Z"
      },
      {
        "duration": 4,
        "start_time": "2022-03-31T08:44:52.037Z"
      },
      {
        "duration": 31,
        "start_time": "2022-03-31T08:45:09.693Z"
      },
      {
        "duration": 8,
        "start_time": "2022-03-31T08:45:52.108Z"
      },
      {
        "duration": 952,
        "start_time": "2022-03-31T08:46:33.749Z"
      },
      {
        "duration": 1287,
        "start_time": "2022-03-31T08:46:52.433Z"
      },
      {
        "duration": 25,
        "start_time": "2022-03-31T08:48:20.732Z"
      },
      {
        "duration": 92,
        "start_time": "2022-03-31T08:50:37.654Z"
      },
      {
        "duration": 6,
        "start_time": "2022-03-31T08:51:13.614Z"
      },
      {
        "duration": 6,
        "start_time": "2022-03-31T08:51:47.378Z"
      },
      {
        "duration": 470,
        "start_time": "2022-03-31T08:52:10.880Z"
      },
      {
        "duration": 2,
        "start_time": "2022-03-31T08:54:14.242Z"
      },
      {
        "duration": 8,
        "start_time": "2022-03-31T08:54:16.744Z"
      },
      {
        "duration": 5,
        "start_time": "2022-03-31T08:55:11.456Z"
      },
      {
        "duration": 7,
        "start_time": "2022-03-31T08:55:44.576Z"
      },
      {
        "duration": 5,
        "start_time": "2022-03-31T08:55:47.022Z"
      },
      {
        "duration": 7,
        "start_time": "2022-03-31T08:55:52.979Z"
      },
      {
        "duration": 1210,
        "start_time": "2022-03-31T08:56:11.394Z"
      },
      {
        "duration": 4,
        "start_time": "2022-03-31T08:56:21.616Z"
      },
      {
        "duration": 7,
        "start_time": "2022-03-31T08:56:28.311Z"
      },
      {
        "duration": 3,
        "start_time": "2022-03-31T08:57:23.463Z"
      },
      {
        "duration": 15,
        "start_time": "2022-03-31T08:57:33.704Z"
      },
      {
        "duration": 2,
        "start_time": "2022-03-31T08:57:45.480Z"
      },
      {
        "duration": 16,
        "start_time": "2022-03-31T08:57:48.998Z"
      },
      {
        "duration": 3,
        "start_time": "2022-03-31T08:57:55.799Z"
      },
      {
        "duration": 16,
        "start_time": "2022-03-31T08:57:58.990Z"
      },
      {
        "duration": 3,
        "start_time": "2022-03-31T08:58:21.825Z"
      },
      {
        "duration": 16,
        "start_time": "2022-03-31T08:58:23.269Z"
      },
      {
        "duration": 5,
        "start_time": "2022-03-31T08:59:00.093Z"
      },
      {
        "duration": 8,
        "start_time": "2022-03-31T08:59:33.893Z"
      },
      {
        "duration": 17,
        "start_time": "2022-03-31T08:59:45.284Z"
      },
      {
        "duration": 7,
        "start_time": "2022-03-31T09:01:07.397Z"
      },
      {
        "duration": 15,
        "start_time": "2022-03-31T09:02:24.772Z"
      },
      {
        "duration": 6,
        "start_time": "2022-03-31T09:04:54.010Z"
      },
      {
        "duration": 5,
        "start_time": "2022-03-31T09:05:34.354Z"
      },
      {
        "duration": 8,
        "start_time": "2022-03-31T09:05:38.570Z"
      },
      {
        "duration": 8,
        "start_time": "2022-03-31T09:05:45.410Z"
      },
      {
        "duration": 9,
        "start_time": "2022-03-31T09:05:46.873Z"
      },
      {
        "duration": 8,
        "start_time": "2022-03-31T09:06:31.770Z"
      },
      {
        "duration": 11,
        "start_time": "2022-03-31T09:08:44.889Z"
      },
      {
        "duration": 12,
        "start_time": "2022-03-31T09:09:27.144Z"
      },
      {
        "duration": 4,
        "start_time": "2022-03-31T09:09:48.505Z"
      },
      {
        "duration": 4,
        "start_time": "2022-03-31T09:09:49.654Z"
      },
      {
        "duration": 4,
        "start_time": "2022-03-31T09:09:50.655Z"
      },
      {
        "duration": 7,
        "start_time": "2022-03-31T09:09:51.751Z"
      },
      {
        "duration": 31,
        "start_time": "2022-03-31T09:09:58.919Z"
      },
      {
        "duration": 36,
        "start_time": "2022-03-31T09:10:23.421Z"
      },
      {
        "duration": 36,
        "start_time": "2022-03-31T09:13:51.399Z"
      },
      {
        "duration": 8,
        "start_time": "2022-03-31T09:18:37.613Z"
      },
      {
        "duration": 3,
        "start_time": "2022-03-31T09:18:44.709Z"
      },
      {
        "duration": 209,
        "start_time": "2022-03-31T09:18:44.714Z"
      },
      {
        "duration": 129,
        "start_time": "2022-03-31T09:18:44.925Z"
      },
      {
        "duration": 112,
        "start_time": "2022-03-31T09:18:45.056Z"
      },
      {
        "duration": 66,
        "start_time": "2022-03-31T09:18:45.171Z"
      },
      {
        "duration": 161,
        "start_time": "2022-03-31T09:18:45.239Z"
      },
      {
        "duration": 57,
        "start_time": "2022-03-31T09:18:45.409Z"
      },
      {
        "duration": 43,
        "start_time": "2022-03-31T09:18:45.468Z"
      },
      {
        "duration": 8,
        "start_time": "2022-03-31T09:18:45.513Z"
      },
      {
        "duration": 27,
        "start_time": "2022-03-31T09:18:45.522Z"
      },
      {
        "duration": 4,
        "start_time": "2022-03-31T09:18:45.552Z"
      },
      {
        "duration": 7,
        "start_time": "2022-03-31T09:18:45.557Z"
      },
      {
        "duration": 184,
        "start_time": "2022-03-31T09:18:45.565Z"
      },
      {
        "duration": 69,
        "start_time": "2022-03-31T09:18:45.750Z"
      },
      {
        "duration": 6,
        "start_time": "2022-03-31T09:18:45.820Z"
      },
      {
        "duration": 24,
        "start_time": "2022-03-31T09:18:45.829Z"
      },
      {
        "duration": 3,
        "start_time": "2022-03-31T09:18:45.855Z"
      },
      {
        "duration": 67,
        "start_time": "2022-03-31T09:18:45.860Z"
      },
      {
        "duration": 15,
        "start_time": "2022-03-31T09:18:45.929Z"
      },
      {
        "duration": 3,
        "start_time": "2022-03-31T09:18:45.946Z"
      },
      {
        "duration": 64,
        "start_time": "2022-03-31T09:18:45.950Z"
      },
      {
        "duration": 20,
        "start_time": "2022-03-31T09:18:46.016Z"
      },
      {
        "duration": 3,
        "start_time": "2022-03-31T09:18:46.038Z"
      },
      {
        "duration": 5,
        "start_time": "2022-03-31T09:18:46.043Z"
      },
      {
        "duration": 6,
        "start_time": "2022-03-31T09:18:46.049Z"
      },
      {
        "duration": 15,
        "start_time": "2022-03-31T09:18:46.057Z"
      },
      {
        "duration": 48,
        "start_time": "2022-03-31T09:18:46.074Z"
      },
      {
        "duration": 15,
        "start_time": "2022-03-31T09:18:46.123Z"
      },
      {
        "duration": 8,
        "start_time": "2022-03-31T09:18:46.141Z"
      },
      {
        "duration": 66,
        "start_time": "2022-03-31T09:18:46.150Z"
      },
      {
        "duration": 26,
        "start_time": "2022-03-31T09:18:46.217Z"
      },
      {
        "duration": 14,
        "start_time": "2022-03-31T09:18:46.245Z"
      },
      {
        "duration": 21,
        "start_time": "2022-03-31T09:18:46.261Z"
      },
      {
        "duration": 25,
        "start_time": "2022-03-31T09:18:46.284Z"
      },
      {
        "duration": 8,
        "start_time": "2022-03-31T09:18:46.310Z"
      },
      {
        "duration": 5,
        "start_time": "2022-03-31T09:18:46.319Z"
      },
      {
        "duration": 7,
        "start_time": "2022-03-31T09:18:46.325Z"
      },
      {
        "duration": 9,
        "start_time": "2022-03-31T09:18:46.333Z"
      },
      {
        "duration": 1524,
        "start_time": "2022-03-31T09:18:46.343Z"
      },
      {
        "duration": 0,
        "start_time": "2022-03-31T09:18:47.869Z"
      },
      {
        "duration": 0,
        "start_time": "2022-03-31T09:18:47.870Z"
      },
      {
        "duration": 0,
        "start_time": "2022-03-31T09:18:47.871Z"
      },
      {
        "duration": 0,
        "start_time": "2022-03-31T09:18:47.872Z"
      },
      {
        "duration": 0,
        "start_time": "2022-03-31T09:18:47.873Z"
      },
      {
        "duration": 0,
        "start_time": "2022-03-31T09:18:47.875Z"
      },
      {
        "duration": 0,
        "start_time": "2022-03-31T09:18:47.876Z"
      },
      {
        "duration": 0,
        "start_time": "2022-03-31T09:18:47.877Z"
      },
      {
        "duration": 0,
        "start_time": "2022-03-31T09:18:47.878Z"
      },
      {
        "duration": 0,
        "start_time": "2022-03-31T09:18:47.879Z"
      },
      {
        "duration": 0,
        "start_time": "2022-03-31T09:18:47.880Z"
      },
      {
        "duration": 0,
        "start_time": "2022-03-31T09:18:47.881Z"
      },
      {
        "duration": 0,
        "start_time": "2022-03-31T09:18:47.882Z"
      },
      {
        "duration": 0,
        "start_time": "2022-03-31T09:18:47.882Z"
      },
      {
        "duration": 0,
        "start_time": "2022-03-31T09:18:47.884Z"
      },
      {
        "duration": 0,
        "start_time": "2022-03-31T09:18:47.885Z"
      },
      {
        "duration": 0,
        "start_time": "2022-03-31T09:18:47.886Z"
      },
      {
        "duration": 0,
        "start_time": "2022-03-31T09:18:47.887Z"
      },
      {
        "duration": 0,
        "start_time": "2022-03-31T09:18:47.888Z"
      },
      {
        "duration": 0,
        "start_time": "2022-03-31T09:18:47.889Z"
      },
      {
        "duration": 0,
        "start_time": "2022-03-31T09:18:47.890Z"
      },
      {
        "duration": 0,
        "start_time": "2022-03-31T09:18:47.891Z"
      },
      {
        "duration": 8,
        "start_time": "2022-03-31T09:18:50.754Z"
      },
      {
        "duration": 5,
        "start_time": "2022-03-31T09:19:29.846Z"
      },
      {
        "duration": 26,
        "start_time": "2022-03-31T09:19:49.735Z"
      },
      {
        "duration": 4,
        "start_time": "2022-03-31T09:19:55.520Z"
      },
      {
        "duration": 184,
        "start_time": "2022-03-31T09:19:55.526Z"
      },
      {
        "duration": 127,
        "start_time": "2022-03-31T09:19:55.712Z"
      },
      {
        "duration": 106,
        "start_time": "2022-03-31T09:19:55.841Z"
      },
      {
        "duration": 67,
        "start_time": "2022-03-31T09:19:55.950Z"
      },
      {
        "duration": 146,
        "start_time": "2022-03-31T09:19:56.019Z"
      },
      {
        "duration": 66,
        "start_time": "2022-03-31T09:19:56.167Z"
      },
      {
        "duration": 31,
        "start_time": "2022-03-31T09:19:56.235Z"
      },
      {
        "duration": 7,
        "start_time": "2022-03-31T09:19:56.267Z"
      },
      {
        "duration": 39,
        "start_time": "2022-03-31T09:19:56.276Z"
      },
      {
        "duration": 4,
        "start_time": "2022-03-31T09:19:56.317Z"
      },
      {
        "duration": 5,
        "start_time": "2022-03-31T09:19:56.322Z"
      },
      {
        "duration": 159,
        "start_time": "2022-03-31T09:19:56.329Z"
      },
      {
        "duration": 67,
        "start_time": "2022-03-31T09:19:56.489Z"
      },
      {
        "duration": 6,
        "start_time": "2022-03-31T09:19:56.557Z"
      },
      {
        "duration": 44,
        "start_time": "2022-03-31T09:19:56.565Z"
      },
      {
        "duration": 3,
        "start_time": "2022-03-31T09:19:56.611Z"
      },
      {
        "duration": 39,
        "start_time": "2022-03-31T09:19:56.616Z"
      },
      {
        "duration": 15,
        "start_time": "2022-03-31T09:19:56.657Z"
      },
      {
        "duration": 3,
        "start_time": "2022-03-31T09:19:56.673Z"
      },
      {
        "duration": 72,
        "start_time": "2022-03-31T09:19:56.678Z"
      },
      {
        "duration": 25,
        "start_time": "2022-03-31T09:19:56.752Z"
      },
      {
        "duration": 4,
        "start_time": "2022-03-31T09:19:56.778Z"
      },
      {
        "duration": 27,
        "start_time": "2022-03-31T09:19:56.783Z"
      },
      {
        "duration": 11,
        "start_time": "2022-03-31T09:19:56.811Z"
      },
      {
        "duration": 21,
        "start_time": "2022-03-31T09:19:56.823Z"
      },
      {
        "duration": 14,
        "start_time": "2022-03-31T09:19:56.846Z"
      },
      {
        "duration": 15,
        "start_time": "2022-03-31T09:19:56.861Z"
      },
      {
        "duration": 29,
        "start_time": "2022-03-31T09:19:56.880Z"
      },
      {
        "duration": 41,
        "start_time": "2022-03-31T09:19:56.911Z"
      },
      {
        "duration": 27,
        "start_time": "2022-03-31T09:19:56.954Z"
      },
      {
        "duration": 36,
        "start_time": "2022-03-31T09:19:56.982Z"
      },
      {
        "duration": 20,
        "start_time": "2022-03-31T09:19:57.019Z"
      },
      {
        "duration": 4,
        "start_time": "2022-03-31T09:19:57.041Z"
      },
      {
        "duration": 10,
        "start_time": "2022-03-31T09:19:57.046Z"
      },
      {
        "duration": 6,
        "start_time": "2022-03-31T09:19:57.058Z"
      },
      {
        "duration": 11,
        "start_time": "2022-03-31T09:19:57.066Z"
      },
      {
        "duration": 33,
        "start_time": "2022-03-31T09:19:57.079Z"
      },
      {
        "duration": 1154,
        "start_time": "2022-03-31T09:19:57.114Z"
      },
      {
        "duration": 0,
        "start_time": "2022-03-31T09:19:58.270Z"
      },
      {
        "duration": 0,
        "start_time": "2022-03-31T09:19:58.272Z"
      },
      {
        "duration": 0,
        "start_time": "2022-03-31T09:19:58.273Z"
      },
      {
        "duration": 0,
        "start_time": "2022-03-31T09:19:58.275Z"
      },
      {
        "duration": 0,
        "start_time": "2022-03-31T09:19:58.277Z"
      },
      {
        "duration": 0,
        "start_time": "2022-03-31T09:19:58.278Z"
      },
      {
        "duration": 0,
        "start_time": "2022-03-31T09:19:58.280Z"
      },
      {
        "duration": 0,
        "start_time": "2022-03-31T09:19:58.281Z"
      },
      {
        "duration": 0,
        "start_time": "2022-03-31T09:19:58.283Z"
      },
      {
        "duration": 0,
        "start_time": "2022-03-31T09:19:58.284Z"
      },
      {
        "duration": 0,
        "start_time": "2022-03-31T09:19:58.286Z"
      },
      {
        "duration": 0,
        "start_time": "2022-03-31T09:19:58.287Z"
      },
      {
        "duration": 0,
        "start_time": "2022-03-31T09:19:58.289Z"
      },
      {
        "duration": 0,
        "start_time": "2022-03-31T09:19:58.290Z"
      },
      {
        "duration": 0,
        "start_time": "2022-03-31T09:19:58.292Z"
      },
      {
        "duration": 0,
        "start_time": "2022-03-31T09:19:58.293Z"
      },
      {
        "duration": 0,
        "start_time": "2022-03-31T09:19:58.295Z"
      },
      {
        "duration": 0,
        "start_time": "2022-03-31T09:19:58.296Z"
      },
      {
        "duration": 0,
        "start_time": "2022-03-31T09:19:58.298Z"
      },
      {
        "duration": 0,
        "start_time": "2022-03-31T09:19:58.299Z"
      },
      {
        "duration": 0,
        "start_time": "2022-03-31T09:19:58.300Z"
      },
      {
        "duration": 0,
        "start_time": "2022-03-31T09:19:58.302Z"
      },
      {
        "duration": 27,
        "start_time": "2022-03-31T09:20:01.709Z"
      },
      {
        "duration": 10,
        "start_time": "2022-03-31T09:20:11.938Z"
      },
      {
        "duration": 20,
        "start_time": "2022-03-31T09:20:16.578Z"
      },
      {
        "duration": 148,
        "start_time": "2022-03-31T09:20:19.411Z"
      },
      {
        "duration": 12,
        "start_time": "2022-03-31T09:20:29.474Z"
      },
      {
        "duration": 3,
        "start_time": "2022-03-31T09:20:37.329Z"
      },
      {
        "duration": 186,
        "start_time": "2022-03-31T09:20:37.336Z"
      },
      {
        "duration": 131,
        "start_time": "2022-03-31T09:20:37.524Z"
      },
      {
        "duration": 128,
        "start_time": "2022-03-31T09:20:37.657Z"
      },
      {
        "duration": 63,
        "start_time": "2022-03-31T09:20:37.787Z"
      },
      {
        "duration": 167,
        "start_time": "2022-03-31T09:20:37.852Z"
      },
      {
        "duration": 58,
        "start_time": "2022-03-31T09:20:38.021Z"
      },
      {
        "duration": 46,
        "start_time": "2022-03-31T09:20:38.081Z"
      },
      {
        "duration": 8,
        "start_time": "2022-03-31T09:20:38.129Z"
      },
      {
        "duration": 32,
        "start_time": "2022-03-31T09:20:38.138Z"
      },
      {
        "duration": 5,
        "start_time": "2022-03-31T09:20:38.173Z"
      },
      {
        "duration": 8,
        "start_time": "2022-03-31T09:20:38.179Z"
      },
      {
        "duration": 197,
        "start_time": "2022-03-31T09:20:38.189Z"
      },
      {
        "duration": 70,
        "start_time": "2022-03-31T09:20:38.387Z"
      },
      {
        "duration": 7,
        "start_time": "2022-03-31T09:20:38.459Z"
      },
      {
        "duration": 48,
        "start_time": "2022-03-31T09:20:38.467Z"
      },
      {
        "duration": 4,
        "start_time": "2022-03-31T09:20:38.517Z"
      },
      {
        "duration": 43,
        "start_time": "2022-03-31T09:20:38.522Z"
      },
      {
        "duration": 18,
        "start_time": "2022-03-31T09:20:38.567Z"
      },
      {
        "duration": 4,
        "start_time": "2022-03-31T09:20:38.609Z"
      },
      {
        "duration": 53,
        "start_time": "2022-03-31T09:20:38.615Z"
      },
      {
        "duration": 51,
        "start_time": "2022-03-31T09:20:38.669Z"
      },
      {
        "duration": 4,
        "start_time": "2022-03-31T09:20:38.722Z"
      },
      {
        "duration": 9,
        "start_time": "2022-03-31T09:20:38.727Z"
      },
      {
        "duration": 11,
        "start_time": "2022-03-31T09:20:38.738Z"
      },
      {
        "duration": 21,
        "start_time": "2022-03-31T09:20:38.750Z"
      },
      {
        "duration": 15,
        "start_time": "2022-03-31T09:20:38.773Z"
      },
      {
        "duration": 17,
        "start_time": "2022-03-31T09:20:38.808Z"
      },
      {
        "duration": 9,
        "start_time": "2022-03-31T09:20:38.829Z"
      },
      {
        "duration": 42,
        "start_time": "2022-03-31T09:20:38.839Z"
      },
      {
        "duration": 29,
        "start_time": "2022-03-31T09:20:38.908Z"
      },
      {
        "duration": 16,
        "start_time": "2022-03-31T09:20:38.939Z"
      },
      {
        "duration": 23,
        "start_time": "2022-03-31T09:20:38.956Z"
      },
      {
        "duration": 30,
        "start_time": "2022-03-31T09:20:38.980Z"
      },
      {
        "duration": 20,
        "start_time": "2022-03-31T09:20:39.011Z"
      },
      {
        "duration": 10,
        "start_time": "2022-03-31T09:20:39.033Z"
      },
      {
        "duration": 9,
        "start_time": "2022-03-31T09:20:39.045Z"
      },
      {
        "duration": 9,
        "start_time": "2022-03-31T09:20:39.056Z"
      },
      {
        "duration": 1674,
        "start_time": "2022-03-31T09:20:39.067Z"
      },
      {
        "duration": 0,
        "start_time": "2022-03-31T09:20:40.743Z"
      },
      {
        "duration": 0,
        "start_time": "2022-03-31T09:20:40.745Z"
      },
      {
        "duration": 0,
        "start_time": "2022-03-31T09:20:40.746Z"
      },
      {
        "duration": 0,
        "start_time": "2022-03-31T09:20:40.748Z"
      },
      {
        "duration": 0,
        "start_time": "2022-03-31T09:20:40.749Z"
      },
      {
        "duration": 0,
        "start_time": "2022-03-31T09:20:40.751Z"
      },
      {
        "duration": 0,
        "start_time": "2022-03-31T09:20:40.752Z"
      },
      {
        "duration": 0,
        "start_time": "2022-03-31T09:20:40.754Z"
      },
      {
        "duration": 0,
        "start_time": "2022-03-31T09:20:40.755Z"
      },
      {
        "duration": 0,
        "start_time": "2022-03-31T09:20:40.756Z"
      },
      {
        "duration": 0,
        "start_time": "2022-03-31T09:20:40.757Z"
      },
      {
        "duration": 0,
        "start_time": "2022-03-31T09:20:40.759Z"
      },
      {
        "duration": 0,
        "start_time": "2022-03-31T09:20:40.760Z"
      },
      {
        "duration": 0,
        "start_time": "2022-03-31T09:20:40.761Z"
      },
      {
        "duration": 0,
        "start_time": "2022-03-31T09:20:40.762Z"
      },
      {
        "duration": 0,
        "start_time": "2022-03-31T09:20:40.763Z"
      },
      {
        "duration": 0,
        "start_time": "2022-03-31T09:20:40.764Z"
      },
      {
        "duration": 0,
        "start_time": "2022-03-31T09:20:40.765Z"
      },
      {
        "duration": 0,
        "start_time": "2022-03-31T09:20:40.766Z"
      },
      {
        "duration": 0,
        "start_time": "2022-03-31T09:20:40.767Z"
      },
      {
        "duration": 0,
        "start_time": "2022-03-31T09:20:40.768Z"
      },
      {
        "duration": 0,
        "start_time": "2022-03-31T09:20:40.770Z"
      },
      {
        "duration": 0,
        "start_time": "2022-03-31T09:20:40.770Z"
      },
      {
        "duration": 0,
        "start_time": "2022-03-31T09:20:40.772Z"
      },
      {
        "duration": 0,
        "start_time": "2022-03-31T09:20:40.772Z"
      },
      {
        "duration": 0,
        "start_time": "2022-03-31T09:20:40.773Z"
      },
      {
        "duration": 0,
        "start_time": "2022-03-31T09:20:40.774Z"
      },
      {
        "duration": 0,
        "start_time": "2022-03-31T09:20:40.775Z"
      },
      {
        "duration": 0,
        "start_time": "2022-03-31T09:20:40.776Z"
      },
      {
        "duration": 0,
        "start_time": "2022-03-31T09:20:40.777Z"
      },
      {
        "duration": 0,
        "start_time": "2022-03-31T09:20:40.778Z"
      },
      {
        "duration": 0,
        "start_time": "2022-03-31T09:20:40.779Z"
      },
      {
        "duration": 0,
        "start_time": "2022-03-31T09:20:40.780Z"
      },
      {
        "duration": 0,
        "start_time": "2022-03-31T09:20:40.809Z"
      },
      {
        "duration": 0,
        "start_time": "2022-03-31T09:20:40.810Z"
      },
      {
        "duration": 0,
        "start_time": "2022-03-31T09:20:40.811Z"
      },
      {
        "duration": 0,
        "start_time": "2022-03-31T09:20:40.812Z"
      },
      {
        "duration": 0,
        "start_time": "2022-03-31T09:20:40.813Z"
      },
      {
        "duration": 0,
        "start_time": "2022-03-31T09:20:40.814Z"
      },
      {
        "duration": 0,
        "start_time": "2022-03-31T09:20:40.814Z"
      },
      {
        "duration": 11,
        "start_time": "2022-03-31T09:20:55.769Z"
      },
      {
        "duration": 4,
        "start_time": "2022-03-31T09:22:26.544Z"
      },
      {
        "duration": 183,
        "start_time": "2022-03-31T09:22:26.554Z"
      },
      {
        "duration": 143,
        "start_time": "2022-03-31T09:22:26.739Z"
      },
      {
        "duration": 126,
        "start_time": "2022-03-31T09:22:26.883Z"
      },
      {
        "duration": 50,
        "start_time": "2022-03-31T09:22:27.011Z"
      },
      {
        "duration": 168,
        "start_time": "2022-03-31T09:22:27.062Z"
      },
      {
        "duration": 54,
        "start_time": "2022-03-31T09:22:27.231Z"
      },
      {
        "duration": 41,
        "start_time": "2022-03-31T09:22:27.287Z"
      },
      {
        "duration": 8,
        "start_time": "2022-03-31T09:22:27.330Z"
      },
      {
        "duration": 28,
        "start_time": "2022-03-31T09:22:27.339Z"
      },
      {
        "duration": 5,
        "start_time": "2022-03-31T09:22:27.370Z"
      },
      {
        "duration": 34,
        "start_time": "2022-03-31T09:22:27.376Z"
      },
      {
        "duration": 177,
        "start_time": "2022-03-31T09:22:27.412Z"
      },
      {
        "duration": 64,
        "start_time": "2022-03-31T09:22:27.591Z"
      },
      {
        "duration": 7,
        "start_time": "2022-03-31T09:22:27.657Z"
      },
      {
        "duration": 52,
        "start_time": "2022-03-31T09:22:27.666Z"
      },
      {
        "duration": 4,
        "start_time": "2022-03-31T09:22:27.719Z"
      },
      {
        "duration": 40,
        "start_time": "2022-03-31T09:22:27.725Z"
      },
      {
        "duration": 18,
        "start_time": "2022-03-31T09:22:27.767Z"
      },
      {
        "duration": 25,
        "start_time": "2022-03-31T09:22:27.786Z"
      },
      {
        "duration": 47,
        "start_time": "2022-03-31T09:22:27.812Z"
      },
      {
        "duration": 48,
        "start_time": "2022-03-31T09:22:27.861Z"
      },
      {
        "duration": 3,
        "start_time": "2022-03-31T09:22:27.911Z"
      },
      {
        "duration": 4,
        "start_time": "2022-03-31T09:22:27.916Z"
      },
      {
        "duration": 5,
        "start_time": "2022-03-31T09:22:27.922Z"
      },
      {
        "duration": 14,
        "start_time": "2022-03-31T09:22:27.929Z"
      },
      {
        "duration": 14,
        "start_time": "2022-03-31T09:22:27.944Z"
      },
      {
        "duration": 14,
        "start_time": "2022-03-31T09:22:27.959Z"
      },
      {
        "duration": 8,
        "start_time": "2022-03-31T09:22:28.010Z"
      },
      {
        "duration": 39,
        "start_time": "2022-03-31T09:22:28.020Z"
      },
      {
        "duration": 48,
        "start_time": "2022-03-31T09:22:28.061Z"
      },
      {
        "duration": 15,
        "start_time": "2022-03-31T09:22:28.111Z"
      },
      {
        "duration": 22,
        "start_time": "2022-03-31T09:22:28.127Z"
      },
      {
        "duration": 5,
        "start_time": "2022-03-31T09:22:28.150Z"
      },
      {
        "duration": 7,
        "start_time": "2022-03-31T09:22:28.157Z"
      },
      {
        "duration": 4,
        "start_time": "2022-03-31T09:22:28.166Z"
      },
      {
        "duration": 39,
        "start_time": "2022-03-31T09:22:28.171Z"
      },
      {
        "duration": 11,
        "start_time": "2022-03-31T09:22:28.212Z"
      },
      {
        "duration": 1235,
        "start_time": "2022-03-31T09:22:28.225Z"
      },
      {
        "duration": 0,
        "start_time": "2022-03-31T09:22:29.462Z"
      },
      {
        "duration": 0,
        "start_time": "2022-03-31T09:22:29.463Z"
      },
      {
        "duration": 0,
        "start_time": "2022-03-31T09:22:29.465Z"
      },
      {
        "duration": 0,
        "start_time": "2022-03-31T09:22:29.466Z"
      },
      {
        "duration": 0,
        "start_time": "2022-03-31T09:22:29.468Z"
      },
      {
        "duration": 0,
        "start_time": "2022-03-31T09:22:29.469Z"
      },
      {
        "duration": 0,
        "start_time": "2022-03-31T09:22:29.470Z"
      },
      {
        "duration": 0,
        "start_time": "2022-03-31T09:22:29.472Z"
      },
      {
        "duration": 0,
        "start_time": "2022-03-31T09:22:29.473Z"
      },
      {
        "duration": 0,
        "start_time": "2022-03-31T09:22:29.475Z"
      },
      {
        "duration": 0,
        "start_time": "2022-03-31T09:22:29.476Z"
      },
      {
        "duration": 0,
        "start_time": "2022-03-31T09:22:29.476Z"
      },
      {
        "duration": 0,
        "start_time": "2022-03-31T09:22:29.478Z"
      },
      {
        "duration": 0,
        "start_time": "2022-03-31T09:22:29.479Z"
      },
      {
        "duration": 0,
        "start_time": "2022-03-31T09:22:29.480Z"
      },
      {
        "duration": 0,
        "start_time": "2022-03-31T09:22:29.481Z"
      },
      {
        "duration": 0,
        "start_time": "2022-03-31T09:22:29.482Z"
      },
      {
        "duration": 0,
        "start_time": "2022-03-31T09:22:29.483Z"
      },
      {
        "duration": 0,
        "start_time": "2022-03-31T09:22:29.484Z"
      },
      {
        "duration": 0,
        "start_time": "2022-03-31T09:22:29.485Z"
      },
      {
        "duration": 0,
        "start_time": "2022-03-31T09:22:29.486Z"
      },
      {
        "duration": 0,
        "start_time": "2022-03-31T09:22:29.487Z"
      },
      {
        "duration": 0,
        "start_time": "2022-03-31T09:22:29.488Z"
      },
      {
        "duration": 0,
        "start_time": "2022-03-31T09:22:29.490Z"
      },
      {
        "duration": 0,
        "start_time": "2022-03-31T09:22:29.490Z"
      },
      {
        "duration": 0,
        "start_time": "2022-03-31T09:22:29.491Z"
      },
      {
        "duration": 0,
        "start_time": "2022-03-31T09:22:29.492Z"
      },
      {
        "duration": 0,
        "start_time": "2022-03-31T09:22:29.493Z"
      },
      {
        "duration": 0,
        "start_time": "2022-03-31T09:22:29.494Z"
      },
      {
        "duration": 0,
        "start_time": "2022-03-31T09:22:29.495Z"
      },
      {
        "duration": 0,
        "start_time": "2022-03-31T09:22:29.496Z"
      },
      {
        "duration": 0,
        "start_time": "2022-03-31T09:22:29.497Z"
      },
      {
        "duration": 0,
        "start_time": "2022-03-31T09:22:29.498Z"
      },
      {
        "duration": 0,
        "start_time": "2022-03-31T09:22:29.499Z"
      },
      {
        "duration": 0,
        "start_time": "2022-03-31T09:22:29.508Z"
      },
      {
        "duration": 0,
        "start_time": "2022-03-31T09:22:29.509Z"
      },
      {
        "duration": 0,
        "start_time": "2022-03-31T09:22:29.510Z"
      },
      {
        "duration": 0,
        "start_time": "2022-03-31T09:22:29.511Z"
      },
      {
        "duration": 0,
        "start_time": "2022-03-31T09:22:29.512Z"
      },
      {
        "duration": 0,
        "start_time": "2022-03-31T09:22:29.513Z"
      },
      {
        "duration": 5,
        "start_time": "2022-03-31T09:22:55.070Z"
      },
      {
        "duration": 11,
        "start_time": "2022-03-31T09:22:55.077Z"
      },
      {
        "duration": 6,
        "start_time": "2022-03-31T09:22:55.089Z"
      },
      {
        "duration": 11,
        "start_time": "2022-03-31T09:22:55.097Z"
      },
      {
        "duration": 5,
        "start_time": "2022-03-31T09:22:55.109Z"
      },
      {
        "duration": 8,
        "start_time": "2022-03-31T09:22:55.116Z"
      },
      {
        "duration": 12,
        "start_time": "2022-03-31T09:22:55.125Z"
      },
      {
        "duration": 4,
        "start_time": "2022-03-31T09:22:55.139Z"
      },
      {
        "duration": 8,
        "start_time": "2022-03-31T09:22:55.144Z"
      },
      {
        "duration": 12,
        "start_time": "2022-03-31T09:22:55.153Z"
      },
      {
        "duration": 68,
        "start_time": "2022-03-31T09:22:55.166Z"
      },
      {
        "duration": 102,
        "start_time": "2022-03-31T09:22:55.236Z"
      },
      {
        "duration": 276,
        "start_time": "2022-03-31T09:22:55.340Z"
      },
      {
        "duration": 720,
        "start_time": "2022-03-31T09:22:55.618Z"
      },
      {
        "duration": 364,
        "start_time": "2022-03-31T09:22:56.339Z"
      },
      {
        "duration": 727,
        "start_time": "2022-03-31T09:22:56.705Z"
      },
      {
        "duration": 290,
        "start_time": "2022-03-31T09:22:57.435Z"
      },
      {
        "duration": 722,
        "start_time": "2022-03-31T09:22:57.726Z"
      },
      {
        "duration": 359,
        "start_time": "2022-03-31T09:22:58.449Z"
      },
      {
        "duration": 13,
        "start_time": "2022-03-31T09:22:58.810Z"
      },
      {
        "duration": 13,
        "start_time": "2022-03-31T09:22:58.824Z"
      },
      {
        "duration": 187,
        "start_time": "2022-03-31T09:22:58.838Z"
      },
      {
        "duration": 28,
        "start_time": "2022-03-31T09:22:59.027Z"
      },
      {
        "duration": 10,
        "start_time": "2022-03-31T09:22:59.056Z"
      },
      {
        "duration": 73,
        "start_time": "2022-03-31T09:22:59.068Z"
      },
      {
        "duration": 0,
        "start_time": "2022-03-31T09:22:59.142Z"
      },
      {
        "duration": 0,
        "start_time": "2022-03-31T09:22:59.164Z"
      },
      {
        "duration": 0,
        "start_time": "2022-03-31T09:22:59.166Z"
      },
      {
        "duration": 0,
        "start_time": "2022-03-31T09:22:59.167Z"
      },
      {
        "duration": 0,
        "start_time": "2022-03-31T09:22:59.169Z"
      },
      {
        "duration": 0,
        "start_time": "2022-03-31T09:22:59.170Z"
      },
      {
        "duration": 0,
        "start_time": "2022-03-31T09:22:59.176Z"
      },
      {
        "duration": 0,
        "start_time": "2022-03-31T09:22:59.177Z"
      },
      {
        "duration": 0,
        "start_time": "2022-03-31T09:22:59.178Z"
      },
      {
        "duration": 0,
        "start_time": "2022-03-31T09:22:59.179Z"
      },
      {
        "duration": 0,
        "start_time": "2022-03-31T09:22:59.184Z"
      },
      {
        "duration": 0,
        "start_time": "2022-03-31T09:22:59.185Z"
      },
      {
        "duration": 0,
        "start_time": "2022-03-31T09:22:59.198Z"
      },
      {
        "duration": 0,
        "start_time": "2022-03-31T09:22:59.199Z"
      },
      {
        "duration": 0,
        "start_time": "2022-03-31T09:22:59.200Z"
      },
      {
        "duration": 28,
        "start_time": "2022-03-31T09:23:41.089Z"
      },
      {
        "duration": 12,
        "start_time": "2022-03-31T09:23:46.541Z"
      },
      {
        "duration": 236,
        "start_time": "2022-03-31T09:27:23.955Z"
      },
      {
        "duration": 142,
        "start_time": "2022-03-31T09:27:47.630Z"
      },
      {
        "duration": 8,
        "start_time": "2022-03-31T09:27:59.950Z"
      },
      {
        "duration": 145,
        "start_time": "2022-03-31T09:28:03.925Z"
      },
      {
        "duration": 219,
        "start_time": "2022-03-31T09:28:14.830Z"
      },
      {
        "duration": 1381,
        "start_time": "2022-04-01T01:42:44.777Z"
      },
      {
        "duration": 189,
        "start_time": "2022-04-01T01:42:46.159Z"
      },
      {
        "duration": 123,
        "start_time": "2022-04-01T01:42:46.349Z"
      },
      {
        "duration": 104,
        "start_time": "2022-04-01T01:42:46.475Z"
      },
      {
        "duration": 53,
        "start_time": "2022-04-01T01:42:46.581Z"
      },
      {
        "duration": 155,
        "start_time": "2022-04-01T01:42:46.636Z"
      },
      {
        "duration": 59,
        "start_time": "2022-04-01T01:42:46.793Z"
      },
      {
        "duration": 43,
        "start_time": "2022-04-01T01:42:46.853Z"
      },
      {
        "duration": 8,
        "start_time": "2022-04-01T01:42:46.902Z"
      },
      {
        "duration": 31,
        "start_time": "2022-04-01T01:42:46.914Z"
      },
      {
        "duration": 4,
        "start_time": "2022-04-01T01:42:46.947Z"
      },
      {
        "duration": 4,
        "start_time": "2022-04-01T01:42:46.953Z"
      },
      {
        "duration": 174,
        "start_time": "2022-04-01T01:42:46.959Z"
      },
      {
        "duration": 67,
        "start_time": "2022-04-01T01:42:47.134Z"
      },
      {
        "duration": 7,
        "start_time": "2022-04-01T01:42:47.202Z"
      },
      {
        "duration": 29,
        "start_time": "2022-04-01T01:42:47.210Z"
      },
      {
        "duration": 3,
        "start_time": "2022-04-01T01:42:47.241Z"
      },
      {
        "duration": 61,
        "start_time": "2022-04-01T01:42:47.246Z"
      },
      {
        "duration": 19,
        "start_time": "2022-04-01T01:42:47.309Z"
      },
      {
        "duration": 4,
        "start_time": "2022-04-01T01:42:47.329Z"
      },
      {
        "duration": 70,
        "start_time": "2022-04-01T01:42:47.334Z"
      },
      {
        "duration": 28,
        "start_time": "2022-04-01T01:42:47.405Z"
      },
      {
        "duration": 3,
        "start_time": "2022-04-01T01:42:47.434Z"
      },
      {
        "duration": 14,
        "start_time": "2022-04-01T01:42:47.439Z"
      },
      {
        "duration": 9,
        "start_time": "2022-04-01T01:42:47.454Z"
      },
      {
        "duration": 24,
        "start_time": "2022-04-01T01:42:47.464Z"
      },
      {
        "duration": 17,
        "start_time": "2022-04-01T01:42:47.489Z"
      },
      {
        "duration": 15,
        "start_time": "2022-04-01T01:42:47.509Z"
      },
      {
        "duration": 7,
        "start_time": "2022-04-01T01:42:47.525Z"
      },
      {
        "duration": 54,
        "start_time": "2022-04-01T01:42:47.533Z"
      },
      {
        "duration": 26,
        "start_time": "2022-04-01T01:42:47.601Z"
      },
      {
        "duration": 14,
        "start_time": "2022-04-01T01:42:47.628Z"
      },
      {
        "duration": 21,
        "start_time": "2022-04-01T01:42:47.643Z"
      },
      {
        "duration": 4,
        "start_time": "2022-04-01T01:42:47.665Z"
      },
      {
        "duration": 40,
        "start_time": "2022-04-01T01:42:47.671Z"
      },
      {
        "duration": 10,
        "start_time": "2022-04-01T01:42:47.713Z"
      },
      {
        "duration": 6,
        "start_time": "2022-04-01T01:42:47.724Z"
      },
      {
        "duration": 12,
        "start_time": "2022-04-01T01:42:47.732Z"
      },
      {
        "duration": 12,
        "start_time": "2022-04-01T01:42:47.745Z"
      },
      {
        "duration": 15,
        "start_time": "2022-04-01T01:42:47.758Z"
      },
      {
        "duration": 17,
        "start_time": "2022-04-01T01:42:47.774Z"
      },
      {
        "duration": 14,
        "start_time": "2022-04-01T01:42:47.792Z"
      },
      {
        "duration": 19,
        "start_time": "2022-04-01T01:42:47.807Z"
      },
      {
        "duration": 21,
        "start_time": "2022-04-01T01:42:47.828Z"
      },
      {
        "duration": 25,
        "start_time": "2022-04-01T01:42:47.850Z"
      },
      {
        "duration": 13,
        "start_time": "2022-04-01T01:42:47.876Z"
      },
      {
        "duration": 26,
        "start_time": "2022-04-01T01:42:47.890Z"
      },
      {
        "duration": 19,
        "start_time": "2022-04-01T01:42:47.918Z"
      },
      {
        "duration": 52,
        "start_time": "2022-04-01T01:42:47.938Z"
      },
      {
        "duration": 92,
        "start_time": "2022-04-01T01:42:47.991Z"
      },
      {
        "duration": 262,
        "start_time": "2022-04-01T01:42:48.084Z"
      },
      {
        "duration": 680,
        "start_time": "2022-04-01T01:42:48.348Z"
      },
      {
        "duration": 275,
        "start_time": "2022-04-01T01:42:49.030Z"
      },
      {
        "duration": 712,
        "start_time": "2022-04-01T01:42:49.306Z"
      },
      {
        "duration": 332,
        "start_time": "2022-04-01T01:42:50.019Z"
      },
      {
        "duration": 695,
        "start_time": "2022-04-01T01:42:50.353Z"
      },
      {
        "duration": 314,
        "start_time": "2022-04-01T01:42:51.050Z"
      },
      {
        "duration": 12,
        "start_time": "2022-04-01T01:42:51.366Z"
      },
      {
        "duration": 27,
        "start_time": "2022-04-01T01:42:51.380Z"
      },
      {
        "duration": 140,
        "start_time": "2022-04-01T01:42:51.409Z"
      },
      {
        "duration": 140,
        "start_time": "2022-04-01T01:42:51.551Z"
      },
      {
        "duration": 205,
        "start_time": "2022-04-01T01:42:51.693Z"
      },
      {
        "duration": 129,
        "start_time": "2022-04-01T01:42:51.900Z"
      },
      {
        "duration": 226,
        "start_time": "2022-04-01T01:42:52.030Z"
      },
      {
        "duration": 4,
        "start_time": "2022-04-01T01:42:52.257Z"
      },
      {
        "duration": 6,
        "start_time": "2022-04-01T01:42:52.263Z"
      },
      {
        "duration": 108,
        "start_time": "2022-04-01T01:42:52.270Z"
      },
      {
        "duration": 317,
        "start_time": "2022-04-01T01:42:52.381Z"
      },
      {
        "duration": 703,
        "start_time": "2022-04-01T01:42:52.700Z"
      },
      {
        "duration": 5,
        "start_time": "2022-04-01T01:42:53.405Z"
      },
      {
        "duration": 6,
        "start_time": "2022-04-01T01:42:53.412Z"
      },
      {
        "duration": 5,
        "start_time": "2022-04-01T01:42:53.420Z"
      },
      {
        "duration": 5,
        "start_time": "2022-04-01T01:42:53.427Z"
      },
      {
        "duration": 9,
        "start_time": "2022-04-01T01:42:53.433Z"
      },
      {
        "duration": 8,
        "start_time": "2022-04-01T01:42:53.443Z"
      },
      {
        "duration": 7,
        "start_time": "2022-04-01T01:42:53.453Z"
      },
      {
        "duration": 42,
        "start_time": "2022-04-01T01:42:53.462Z"
      },
      {
        "duration": 33,
        "start_time": "2022-04-01T01:44:18.837Z"
      },
      {
        "duration": 20,
        "start_time": "2022-04-01T01:44:56.899Z"
      },
      {
        "duration": 23,
        "start_time": "2022-04-01T01:46:03.534Z"
      },
      {
        "duration": 5,
        "start_time": "2022-04-01T01:48:17.257Z"
      },
      {
        "duration": 5,
        "start_time": "2022-04-01T01:48:23.985Z"
      },
      {
        "duration": 15,
        "start_time": "2022-04-01T01:48:45.153Z"
      },
      {
        "duration": 20,
        "start_time": "2022-04-01T01:48:54.096Z"
      },
      {
        "duration": 17,
        "start_time": "2022-04-01T02:01:54.160Z"
      },
      {
        "duration": 3,
        "start_time": "2022-04-01T02:01:59.526Z"
      },
      {
        "duration": 184,
        "start_time": "2022-04-01T02:01:59.532Z"
      },
      {
        "duration": 138,
        "start_time": "2022-04-01T02:01:59.719Z"
      },
      {
        "duration": 109,
        "start_time": "2022-04-01T02:01:59.859Z"
      },
      {
        "duration": 64,
        "start_time": "2022-04-01T02:01:59.970Z"
      },
      {
        "duration": 171,
        "start_time": "2022-04-01T02:02:00.036Z"
      },
      {
        "duration": 57,
        "start_time": "2022-04-01T02:02:00.208Z"
      },
      {
        "duration": 43,
        "start_time": "2022-04-01T02:02:00.267Z"
      },
      {
        "duration": 7,
        "start_time": "2022-04-01T02:02:00.311Z"
      },
      {
        "duration": 32,
        "start_time": "2022-04-01T02:02:00.320Z"
      },
      {
        "duration": 5,
        "start_time": "2022-04-01T02:02:00.354Z"
      },
      {
        "duration": 7,
        "start_time": "2022-04-01T02:02:00.360Z"
      },
      {
        "duration": 189,
        "start_time": "2022-04-01T02:02:00.369Z"
      },
      {
        "duration": 75,
        "start_time": "2022-04-01T02:02:00.560Z"
      },
      {
        "duration": 128,
        "start_time": "2022-04-01T02:08:23.198Z"
      },
      {
        "duration": 157,
        "start_time": "2022-04-01T02:09:37.481Z"
      },
      {
        "duration": 102,
        "start_time": "2022-04-01T02:11:09.653Z"
      },
      {
        "duration": 156,
        "start_time": "2022-04-01T02:11:21.192Z"
      },
      {
        "duration": 127,
        "start_time": "2022-04-01T02:11:41.619Z"
      },
      {
        "duration": 128,
        "start_time": "2022-04-01T02:11:46.123Z"
      },
      {
        "duration": 203,
        "start_time": "2022-04-01T02:14:24.126Z"
      },
      {
        "duration": 127,
        "start_time": "2022-04-01T02:17:03.675Z"
      },
      {
        "duration": 27,
        "start_time": "2022-04-01T02:19:37.450Z"
      },
      {
        "duration": 133,
        "start_time": "2022-04-01T02:20:21.677Z"
      },
      {
        "duration": 112,
        "start_time": "2022-04-01T02:20:38.385Z"
      },
      {
        "duration": 127,
        "start_time": "2022-04-01T02:20:42.721Z"
      },
      {
        "duration": 132,
        "start_time": "2022-04-01T02:22:05.465Z"
      },
      {
        "duration": 138,
        "start_time": "2022-04-01T02:22:56.513Z"
      },
      {
        "duration": 149,
        "start_time": "2022-04-01T02:23:05.689Z"
      },
      {
        "duration": 146,
        "start_time": "2022-04-01T02:24:02.956Z"
      },
      {
        "duration": 135,
        "start_time": "2022-04-01T02:28:16.829Z"
      },
      {
        "duration": 4,
        "start_time": "2022-04-01T02:31:46.007Z"
      },
      {
        "duration": 5,
        "start_time": "2022-04-01T02:37:08.034Z"
      },
      {
        "duration": 30,
        "start_time": "2022-04-01T03:08:04.509Z"
      },
      {
        "duration": 231,
        "start_time": "2022-04-01T03:08:47.136Z"
      },
      {
        "duration": 4,
        "start_time": "2022-04-01T03:09:00.156Z"
      },
      {
        "duration": 7,
        "start_time": "2022-04-01T03:09:05.605Z"
      },
      {
        "duration": 2,
        "start_time": "2022-04-01T03:10:48.493Z"
      },
      {
        "duration": 4,
        "start_time": "2022-04-01T03:10:55.212Z"
      },
      {
        "duration": 9,
        "start_time": "2022-04-01T03:11:04.332Z"
      },
      {
        "duration": 4,
        "start_time": "2022-04-01T03:11:12.060Z"
      },
      {
        "duration": 7,
        "start_time": "2022-04-01T03:11:18.624Z"
      },
      {
        "duration": 7,
        "start_time": "2022-04-01T03:12:27.167Z"
      },
      {
        "duration": 7,
        "start_time": "2022-04-01T03:12:31.148Z"
      },
      {
        "duration": 9,
        "start_time": "2022-04-01T03:13:24.011Z"
      },
      {
        "duration": 7,
        "start_time": "2022-04-01T03:13:37.730Z"
      },
      {
        "duration": 3068,
        "start_time": "2022-04-01T03:13:39.744Z"
      },
      {
        "duration": 7,
        "start_time": "2022-04-01T03:13:57.557Z"
      },
      {
        "duration": 3,
        "start_time": "2022-04-01T03:14:42.215Z"
      },
      {
        "duration": 17,
        "start_time": "2022-04-01T03:14:46.006Z"
      },
      {
        "duration": 17,
        "start_time": "2022-04-01T03:15:25.381Z"
      },
      {
        "duration": 2,
        "start_time": "2022-04-01T03:15:43.781Z"
      },
      {
        "duration": 3066,
        "start_time": "2022-04-01T03:15:45.490Z"
      },
      {
        "duration": 7,
        "start_time": "2022-04-01T03:15:52.707Z"
      },
      {
        "duration": 7,
        "start_time": "2022-04-01T03:15:56.995Z"
      },
      {
        "duration": 7,
        "start_time": "2022-04-01T03:15:57.728Z"
      },
      {
        "duration": 8,
        "start_time": "2022-04-01T03:15:58.352Z"
      },
      {
        "duration": 7,
        "start_time": "2022-04-01T03:16:00.657Z"
      },
      {
        "duration": 7,
        "start_time": "2022-04-01T03:16:02.569Z"
      },
      {
        "duration": 4,
        "start_time": "2022-04-01T03:16:36.849Z"
      },
      {
        "duration": 8,
        "start_time": "2022-04-01T03:16:47.849Z"
      },
      {
        "duration": 8,
        "start_time": "2022-04-01T03:16:53.415Z"
      },
      {
        "duration": 2492,
        "start_time": "2022-04-01T03:17:22.705Z"
      },
      {
        "duration": 4,
        "start_time": "2022-04-01T03:56:53.733Z"
      },
      {
        "duration": 11,
        "start_time": "2022-04-01T03:57:02.488Z"
      },
      {
        "duration": 4,
        "start_time": "2022-04-01T03:57:24.045Z"
      },
      {
        "duration": 7,
        "start_time": "2022-04-01T03:57:26.971Z"
      },
      {
        "duration": 16,
        "start_time": "2022-04-01T04:02:31.818Z"
      },
      {
        "duration": 7,
        "start_time": "2022-04-01T04:02:38.526Z"
      },
      {
        "duration": 16,
        "start_time": "2022-04-01T04:02:44.438Z"
      },
      {
        "duration": 17,
        "start_time": "2022-04-01T04:02:50.029Z"
      },
      {
        "duration": 16,
        "start_time": "2022-04-01T04:02:53.226Z"
      },
      {
        "duration": 6,
        "start_time": "2022-04-01T04:03:08.325Z"
      },
      {
        "duration": 5,
        "start_time": "2022-04-01T04:03:26.261Z"
      },
      {
        "duration": 8,
        "start_time": "2022-04-01T04:03:29.821Z"
      },
      {
        "duration": 7,
        "start_time": "2022-04-01T04:03:38.891Z"
      },
      {
        "duration": 8,
        "start_time": "2022-04-01T04:03:39.661Z"
      },
      {
        "duration": 3,
        "start_time": "2022-04-01T04:06:09.243Z"
      },
      {
        "duration": 7,
        "start_time": "2022-04-01T04:08:49.983Z"
      },
      {
        "duration": 15,
        "start_time": "2022-04-01T04:08:58.210Z"
      },
      {
        "duration": 3,
        "start_time": "2022-04-01T04:09:01.569Z"
      },
      {
        "duration": 9,
        "start_time": "2022-04-01T04:09:03.553Z"
      },
      {
        "duration": 3,
        "start_time": "2022-04-01T04:11:22.592Z"
      },
      {
        "duration": 32,
        "start_time": "2022-04-01T04:16:23.896Z"
      },
      {
        "duration": 3,
        "start_time": "2022-04-01T04:19:17.406Z"
      },
      {
        "duration": 3,
        "start_time": "2022-04-01T04:19:49.869Z"
      },
      {
        "duration": 4,
        "start_time": "2022-04-01T04:20:06.599Z"
      },
      {
        "duration": 122,
        "start_time": "2022-04-01T04:24:06.874Z"
      },
      {
        "duration": 6,
        "start_time": "2022-04-01T04:24:22.775Z"
      },
      {
        "duration": 7,
        "start_time": "2022-04-01T04:24:42.405Z"
      },
      {
        "duration": 7,
        "start_time": "2022-04-01T04:24:56.852Z"
      },
      {
        "duration": 5,
        "start_time": "2022-04-01T04:25:44.222Z"
      },
      {
        "duration": 6,
        "start_time": "2022-04-01T04:26:10.686Z"
      },
      {
        "duration": 7,
        "start_time": "2022-04-01T04:26:18.840Z"
      },
      {
        "duration": 4,
        "start_time": "2022-04-01T04:28:35.825Z"
      },
      {
        "duration": 121,
        "start_time": "2022-04-01T04:28:37.349Z"
      },
      {
        "duration": 6,
        "start_time": "2022-04-01T04:28:48.429Z"
      },
      {
        "duration": 12,
        "start_time": "2022-04-01T04:28:57.735Z"
      },
      {
        "duration": 6,
        "start_time": "2022-04-01T04:29:12.816Z"
      },
      {
        "duration": 122,
        "start_time": "2022-04-01T04:31:06.746Z"
      },
      {
        "duration": 121,
        "start_time": "2022-04-01T04:31:14.135Z"
      },
      {
        "duration": 7,
        "start_time": "2022-04-01T04:31:30.492Z"
      },
      {
        "duration": 4,
        "start_time": "2022-04-01T04:44:20.739Z"
      },
      {
        "duration": 212,
        "start_time": "2022-04-01T04:44:20.746Z"
      },
      {
        "duration": 169,
        "start_time": "2022-04-01T04:44:20.960Z"
      },
      {
        "duration": 122,
        "start_time": "2022-04-01T04:44:21.131Z"
      },
      {
        "duration": 74,
        "start_time": "2022-04-01T04:44:21.256Z"
      },
      {
        "duration": 169,
        "start_time": "2022-04-01T04:44:21.332Z"
      },
      {
        "duration": 61,
        "start_time": "2022-04-01T04:44:21.503Z"
      },
      {
        "duration": 45,
        "start_time": "2022-04-01T04:44:21.566Z"
      },
      {
        "duration": 8,
        "start_time": "2022-04-01T04:44:21.613Z"
      },
      {
        "duration": 32,
        "start_time": "2022-04-01T04:44:21.623Z"
      },
      {
        "duration": 5,
        "start_time": "2022-04-01T04:44:21.659Z"
      },
      {
        "duration": 36,
        "start_time": "2022-04-01T04:44:21.665Z"
      },
      {
        "duration": 175,
        "start_time": "2022-04-01T04:44:21.703Z"
      },
      {
        "duration": 69,
        "start_time": "2022-04-01T04:44:21.880Z"
      },
      {
        "duration": 7,
        "start_time": "2022-04-01T04:44:21.951Z"
      },
      {
        "duration": 42,
        "start_time": "2022-04-01T04:44:21.960Z"
      },
      {
        "duration": 4,
        "start_time": "2022-04-01T04:44:22.003Z"
      },
      {
        "duration": 38,
        "start_time": "2022-04-01T04:44:22.008Z"
      },
      {
        "duration": 19,
        "start_time": "2022-04-01T04:44:22.048Z"
      },
      {
        "duration": 3,
        "start_time": "2022-04-01T04:44:22.069Z"
      },
      {
        "duration": 46,
        "start_time": "2022-04-01T04:44:22.101Z"
      },
      {
        "duration": 28,
        "start_time": "2022-04-01T04:44:22.148Z"
      },
      {
        "duration": 24,
        "start_time": "2022-04-01T04:44:22.178Z"
      },
      {
        "duration": 4,
        "start_time": "2022-04-01T04:44:22.204Z"
      },
      {
        "duration": 6,
        "start_time": "2022-04-01T04:44:22.209Z"
      },
      {
        "duration": 14,
        "start_time": "2022-04-01T04:44:22.217Z"
      },
      {
        "duration": 14,
        "start_time": "2022-04-01T04:44:22.232Z"
      },
      {
        "duration": 14,
        "start_time": "2022-04-01T04:44:22.248Z"
      },
      {
        "duration": 39,
        "start_time": "2022-04-01T04:44:22.266Z"
      },
      {
        "duration": 39,
        "start_time": "2022-04-01T04:44:22.306Z"
      },
      {
        "duration": 24,
        "start_time": "2022-04-01T04:44:22.347Z"
      },
      {
        "duration": 37,
        "start_time": "2022-04-01T04:44:22.373Z"
      },
      {
        "duration": 19,
        "start_time": "2022-04-01T04:44:22.412Z"
      },
      {
        "duration": 4,
        "start_time": "2022-04-01T04:44:22.433Z"
      },
      {
        "duration": 5,
        "start_time": "2022-04-01T04:44:22.438Z"
      },
      {
        "duration": 4,
        "start_time": "2022-04-01T04:44:22.445Z"
      },
      {
        "duration": 10,
        "start_time": "2022-04-01T04:44:22.451Z"
      },
      {
        "duration": 7,
        "start_time": "2022-04-01T04:44:22.463Z"
      },
      {
        "duration": 148,
        "start_time": "2022-04-01T04:44:22.471Z"
      },
      {
        "duration": 7,
        "start_time": "2022-04-01T04:44:22.620Z"
      },
      {
        "duration": 5,
        "start_time": "2022-04-01T04:44:22.628Z"
      },
      {
        "duration": 8,
        "start_time": "2022-04-01T04:44:22.635Z"
      },
      {
        "duration": 11,
        "start_time": "2022-04-01T04:44:22.644Z"
      },
      {
        "duration": 4,
        "start_time": "2022-04-01T04:44:22.657Z"
      },
      {
        "duration": 38,
        "start_time": "2022-04-01T04:44:22.663Z"
      },
      {
        "duration": 12,
        "start_time": "2022-04-01T04:44:22.702Z"
      },
      {
        "duration": 33,
        "start_time": "2022-04-01T04:44:22.716Z"
      },
      {
        "duration": 102,
        "start_time": "2022-04-01T04:44:22.750Z"
      },
      {
        "duration": 353,
        "start_time": "2022-04-01T04:44:22.854Z"
      },
      {
        "duration": 685,
        "start_time": "2022-04-01T04:44:23.209Z"
      },
      {
        "duration": 273,
        "start_time": "2022-04-01T04:44:23.895Z"
      },
      {
        "duration": 695,
        "start_time": "2022-04-01T04:44:24.170Z"
      },
      {
        "duration": 267,
        "start_time": "2022-04-01T04:44:24.867Z"
      },
      {
        "duration": 772,
        "start_time": "2022-04-01T04:44:25.135Z"
      },
      {
        "duration": 315,
        "start_time": "2022-04-01T04:44:25.909Z"
      },
      {
        "duration": 15,
        "start_time": "2022-04-01T04:44:26.225Z"
      },
      {
        "duration": 14,
        "start_time": "2022-04-01T04:44:26.242Z"
      },
      {
        "duration": 164,
        "start_time": "2022-04-01T04:44:26.258Z"
      },
      {
        "duration": 139,
        "start_time": "2022-04-01T04:44:26.424Z"
      },
      {
        "duration": 130,
        "start_time": "2022-04-01T04:44:26.565Z"
      },
      {
        "duration": 133,
        "start_time": "2022-04-01T04:44:26.701Z"
      },
      {
        "duration": 146,
        "start_time": "2022-04-01T04:44:26.836Z"
      },
      {
        "duration": 136,
        "start_time": "2022-04-01T04:44:26.983Z"
      },
      {
        "duration": 4,
        "start_time": "2022-04-01T04:44:27.121Z"
      },
      {
        "duration": 5,
        "start_time": "2022-04-01T04:44:27.127Z"
      },
      {
        "duration": 112,
        "start_time": "2022-04-01T04:44:27.134Z"
      },
      {
        "duration": 132,
        "start_time": "2022-04-01T04:44:27.247Z"
      },
      {
        "duration": 431,
        "start_time": "2022-04-01T04:44:27.380Z"
      },
      {
        "duration": 726,
        "start_time": "2022-04-01T04:44:27.813Z"
      },
      {
        "duration": 6,
        "start_time": "2022-04-01T04:44:28.540Z"
      },
      {
        "duration": 7,
        "start_time": "2022-04-01T04:44:28.548Z"
      },
      {
        "duration": 5,
        "start_time": "2022-04-01T04:44:28.557Z"
      },
      {
        "duration": 6,
        "start_time": "2022-04-01T04:44:28.563Z"
      },
      {
        "duration": 31,
        "start_time": "2022-04-01T04:44:28.570Z"
      },
      {
        "duration": 11,
        "start_time": "2022-04-01T04:44:28.602Z"
      },
      {
        "duration": 7,
        "start_time": "2022-04-01T04:44:28.615Z"
      },
      {
        "duration": 6,
        "start_time": "2022-04-01T04:44:28.624Z"
      },
      {
        "duration": 7,
        "start_time": "2022-04-01T04:44:28.632Z"
      },
      {
        "duration": 10,
        "start_time": "2022-04-01T04:44:28.641Z"
      },
      {
        "duration": 4,
        "start_time": "2022-04-01T04:49:36.345Z"
      },
      {
        "duration": 189,
        "start_time": "2022-04-01T04:49:36.351Z"
      },
      {
        "duration": 141,
        "start_time": "2022-04-01T04:49:36.542Z"
      },
      {
        "duration": 128,
        "start_time": "2022-04-01T04:49:36.684Z"
      },
      {
        "duration": 50,
        "start_time": "2022-04-01T04:49:36.814Z"
      },
      {
        "duration": 166,
        "start_time": "2022-04-01T04:49:36.866Z"
      },
      {
        "duration": 68,
        "start_time": "2022-04-01T04:49:37.033Z"
      },
      {
        "duration": 43,
        "start_time": "2022-04-01T04:49:37.103Z"
      },
      {
        "duration": 7,
        "start_time": "2022-04-01T04:49:37.147Z"
      },
      {
        "duration": 29,
        "start_time": "2022-04-01T04:49:37.155Z"
      },
      {
        "duration": 4,
        "start_time": "2022-04-01T04:49:37.187Z"
      },
      {
        "duration": 10,
        "start_time": "2022-04-01T04:49:37.192Z"
      },
      {
        "duration": 167,
        "start_time": "2022-04-01T04:49:37.203Z"
      },
      {
        "duration": 71,
        "start_time": "2022-04-01T04:49:37.372Z"
      },
      {
        "duration": 6,
        "start_time": "2022-04-01T04:49:37.444Z"
      },
      {
        "duration": 24,
        "start_time": "2022-04-01T04:49:37.452Z"
      },
      {
        "duration": 3,
        "start_time": "2022-04-01T04:49:37.478Z"
      },
      {
        "duration": 39,
        "start_time": "2022-04-01T04:49:37.501Z"
      },
      {
        "duration": 19,
        "start_time": "2022-04-01T04:49:37.542Z"
      },
      {
        "duration": 4,
        "start_time": "2022-04-01T04:49:37.562Z"
      },
      {
        "duration": 71,
        "start_time": "2022-04-01T04:49:37.567Z"
      },
      {
        "duration": 30,
        "start_time": "2022-04-01T04:49:37.639Z"
      },
      {
        "duration": 4,
        "start_time": "2022-04-01T04:49:37.670Z"
      },
      {
        "duration": 28,
        "start_time": "2022-04-01T04:49:37.676Z"
      },
      {
        "duration": 7,
        "start_time": "2022-04-01T04:49:37.705Z"
      },
      {
        "duration": 14,
        "start_time": "2022-04-01T04:49:37.714Z"
      },
      {
        "duration": 15,
        "start_time": "2022-04-01T04:49:37.730Z"
      },
      {
        "duration": 16,
        "start_time": "2022-04-01T04:49:37.746Z"
      },
      {
        "duration": 37,
        "start_time": "2022-04-01T04:49:37.766Z"
      },
      {
        "duration": 39,
        "start_time": "2022-04-01T04:49:37.805Z"
      },
      {
        "duration": 24,
        "start_time": "2022-04-01T04:49:37.846Z"
      },
      {
        "duration": 34,
        "start_time": "2022-04-01T04:49:37.872Z"
      },
      {
        "duration": 21,
        "start_time": "2022-04-01T04:49:37.908Z"
      },
      {
        "duration": 4,
        "start_time": "2022-04-01T04:49:37.931Z"
      },
      {
        "duration": 12,
        "start_time": "2022-04-01T04:49:37.936Z"
      },
      {
        "duration": 5,
        "start_time": "2022-04-01T04:49:37.949Z"
      },
      {
        "duration": 8,
        "start_time": "2022-04-01T04:49:37.955Z"
      },
      {
        "duration": 10,
        "start_time": "2022-04-01T04:49:37.965Z"
      },
      {
        "duration": 144,
        "start_time": "2022-04-01T04:49:37.976Z"
      },
      {
        "duration": 5,
        "start_time": "2022-04-01T04:49:38.122Z"
      },
      {
        "duration": 6,
        "start_time": "2022-04-01T04:49:38.129Z"
      },
      {
        "duration": 12,
        "start_time": "2022-04-01T04:49:38.136Z"
      },
      {
        "duration": 11,
        "start_time": "2022-04-01T04:49:38.150Z"
      },
      {
        "duration": 8,
        "start_time": "2022-04-01T04:49:38.163Z"
      },
      {
        "duration": 28,
        "start_time": "2022-04-01T04:49:38.173Z"
      },
      {
        "duration": 11,
        "start_time": "2022-04-01T04:49:38.203Z"
      },
      {
        "duration": 35,
        "start_time": "2022-04-01T04:49:38.215Z"
      },
      {
        "duration": 121,
        "start_time": "2022-04-01T04:49:38.251Z"
      },
      {
        "duration": 275,
        "start_time": "2022-04-01T04:49:38.375Z"
      },
      {
        "duration": 692,
        "start_time": "2022-04-01T04:49:38.651Z"
      },
      {
        "duration": 265,
        "start_time": "2022-04-01T04:49:39.345Z"
      },
      {
        "duration": 807,
        "start_time": "2022-04-01T04:49:39.611Z"
      },
      {
        "duration": 257,
        "start_time": "2022-04-01T04:49:40.419Z"
      },
      {
        "duration": 716,
        "start_time": "2022-04-01T04:49:40.678Z"
      },
      {
        "duration": 323,
        "start_time": "2022-04-01T04:49:41.395Z"
      },
      {
        "duration": 13,
        "start_time": "2022-04-01T04:49:41.719Z"
      },
      {
        "duration": 14,
        "start_time": "2022-04-01T04:49:41.734Z"
      },
      {
        "duration": 158,
        "start_time": "2022-04-01T04:49:41.750Z"
      },
      {
        "duration": 143,
        "start_time": "2022-04-01T04:49:41.909Z"
      },
      {
        "duration": 135,
        "start_time": "2022-04-01T04:49:42.053Z"
      },
      {
        "duration": 230,
        "start_time": "2022-04-01T04:49:42.189Z"
      },
      {
        "duration": 146,
        "start_time": "2022-04-01T04:49:42.421Z"
      },
      {
        "duration": 134,
        "start_time": "2022-04-01T04:49:42.569Z"
      },
      {
        "duration": 4,
        "start_time": "2022-04-01T04:49:42.704Z"
      },
      {
        "duration": 5,
        "start_time": "2022-04-01T04:49:42.710Z"
      },
      {
        "duration": 95,
        "start_time": "2022-04-01T04:49:42.717Z"
      },
      {
        "duration": 140,
        "start_time": "2022-04-01T04:49:42.813Z"
      },
      {
        "duration": 303,
        "start_time": "2022-04-01T04:49:42.955Z"
      },
      {
        "duration": 678,
        "start_time": "2022-04-01T04:49:43.260Z"
      },
      {
        "duration": 6,
        "start_time": "2022-04-01T04:49:43.940Z"
      },
      {
        "duration": 7,
        "start_time": "2022-04-01T04:49:43.948Z"
      },
      {
        "duration": 7,
        "start_time": "2022-04-01T04:49:43.956Z"
      },
      {
        "duration": 7,
        "start_time": "2022-04-01T04:49:43.964Z"
      },
      {
        "duration": 28,
        "start_time": "2022-04-01T04:49:43.973Z"
      },
      {
        "duration": 7,
        "start_time": "2022-04-01T04:49:44.003Z"
      },
      {
        "duration": 7,
        "start_time": "2022-04-01T04:49:44.012Z"
      },
      {
        "duration": 7,
        "start_time": "2022-04-01T04:49:44.020Z"
      },
      {
        "duration": 7,
        "start_time": "2022-04-01T04:49:44.029Z"
      },
      {
        "duration": 9,
        "start_time": "2022-04-01T04:49:44.038Z"
      },
      {
        "duration": 1145,
        "start_time": "2022-04-01T12:22:41.069Z"
      },
      {
        "duration": 174,
        "start_time": "2022-04-01T12:22:42.216Z"
      },
      {
        "duration": 107,
        "start_time": "2022-04-01T12:22:42.392Z"
      },
      {
        "duration": 102,
        "start_time": "2022-04-01T12:22:42.501Z"
      },
      {
        "duration": 48,
        "start_time": "2022-04-01T12:22:42.604Z"
      },
      {
        "duration": 157,
        "start_time": "2022-04-01T12:22:42.654Z"
      },
      {
        "duration": 71,
        "start_time": "2022-04-01T12:22:42.813Z"
      },
      {
        "duration": 44,
        "start_time": "2022-04-01T12:22:42.885Z"
      },
      {
        "duration": 7,
        "start_time": "2022-04-01T12:22:42.930Z"
      },
      {
        "duration": 30,
        "start_time": "2022-04-01T12:22:42.940Z"
      },
      {
        "duration": 4,
        "start_time": "2022-04-01T12:22:42.971Z"
      },
      {
        "duration": 7,
        "start_time": "2022-04-01T12:22:42.976Z"
      },
      {
        "duration": 148,
        "start_time": "2022-04-01T12:22:42.984Z"
      },
      {
        "duration": 63,
        "start_time": "2022-04-01T12:22:43.134Z"
      },
      {
        "duration": 5,
        "start_time": "2022-04-01T12:22:43.199Z"
      },
      {
        "duration": 26,
        "start_time": "2022-04-01T12:22:43.206Z"
      },
      {
        "duration": 4,
        "start_time": "2022-04-01T12:22:43.233Z"
      },
      {
        "duration": 63,
        "start_time": "2022-04-01T12:22:43.238Z"
      },
      {
        "duration": 17,
        "start_time": "2022-04-01T12:22:43.303Z"
      },
      {
        "duration": 3,
        "start_time": "2022-04-01T12:22:43.322Z"
      },
      {
        "duration": 61,
        "start_time": "2022-04-01T12:22:43.326Z"
      },
      {
        "duration": 24,
        "start_time": "2022-04-01T12:22:43.389Z"
      },
      {
        "duration": 3,
        "start_time": "2022-04-01T12:22:43.414Z"
      },
      {
        "duration": 4,
        "start_time": "2022-04-01T12:22:43.419Z"
      },
      {
        "duration": 6,
        "start_time": "2022-04-01T12:22:43.425Z"
      },
      {
        "duration": 14,
        "start_time": "2022-04-01T12:22:43.433Z"
      },
      {
        "duration": 41,
        "start_time": "2022-04-01T12:22:43.448Z"
      },
      {
        "duration": 13,
        "start_time": "2022-04-01T12:22:43.493Z"
      },
      {
        "duration": 7,
        "start_time": "2022-04-01T12:22:43.507Z"
      },
      {
        "duration": 37,
        "start_time": "2022-04-01T12:22:43.515Z"
      },
      {
        "duration": 45,
        "start_time": "2022-04-01T12:22:43.553Z"
      },
      {
        "duration": 12,
        "start_time": "2022-04-01T12:22:43.600Z"
      },
      {
        "duration": 21,
        "start_time": "2022-04-01T12:22:43.614Z"
      },
      {
        "duration": 4,
        "start_time": "2022-04-01T12:22:43.637Z"
      },
      {
        "duration": 5,
        "start_time": "2022-04-01T12:22:43.643Z"
      },
      {
        "duration": 32,
        "start_time": "2022-04-01T12:22:43.649Z"
      },
      {
        "duration": 8,
        "start_time": "2022-04-01T12:22:43.683Z"
      },
      {
        "duration": 4,
        "start_time": "2022-04-01T12:22:43.692Z"
      },
      {
        "duration": 135,
        "start_time": "2022-04-01T12:22:43.698Z"
      },
      {
        "duration": 7,
        "start_time": "2022-04-01T12:22:43.834Z"
      },
      {
        "duration": 10,
        "start_time": "2022-04-01T12:22:43.842Z"
      },
      {
        "duration": 11,
        "start_time": "2022-04-01T12:22:43.854Z"
      },
      {
        "duration": 22,
        "start_time": "2022-04-01T12:22:43.867Z"
      },
      {
        "duration": 6,
        "start_time": "2022-04-01T12:22:43.891Z"
      },
      {
        "duration": 11,
        "start_time": "2022-04-01T12:22:43.898Z"
      },
      {
        "duration": 16,
        "start_time": "2022-04-01T12:22:43.910Z"
      },
      {
        "duration": 36,
        "start_time": "2022-04-01T12:22:43.927Z"
      },
      {
        "duration": 94,
        "start_time": "2022-04-01T12:22:43.965Z"
      },
      {
        "duration": 258,
        "start_time": "2022-04-01T12:22:44.060Z"
      },
      {
        "duration": 682,
        "start_time": "2022-04-01T12:22:44.319Z"
      },
      {
        "duration": 265,
        "start_time": "2022-04-01T12:22:45.002Z"
      },
      {
        "duration": 715,
        "start_time": "2022-04-01T12:22:45.268Z"
      },
      {
        "duration": 339,
        "start_time": "2022-04-01T12:22:45.984Z"
      },
      {
        "duration": 682,
        "start_time": "2022-04-01T12:22:46.324Z"
      },
      {
        "duration": 308,
        "start_time": "2022-04-01T12:22:47.007Z"
      },
      {
        "duration": 12,
        "start_time": "2022-04-01T12:22:47.316Z"
      },
      {
        "duration": 12,
        "start_time": "2022-04-01T12:22:47.330Z"
      },
      {
        "duration": 151,
        "start_time": "2022-04-01T12:22:47.344Z"
      },
      {
        "duration": 140,
        "start_time": "2022-04-01T12:22:47.497Z"
      },
      {
        "duration": 139,
        "start_time": "2022-04-01T12:22:47.639Z"
      },
      {
        "duration": 128,
        "start_time": "2022-04-01T12:22:47.780Z"
      },
      {
        "duration": 132,
        "start_time": "2022-04-01T12:22:47.909Z"
      },
      {
        "duration": 196,
        "start_time": "2022-04-01T12:22:48.042Z"
      },
      {
        "duration": 4,
        "start_time": "2022-04-01T12:22:48.240Z"
      },
      {
        "duration": 7,
        "start_time": "2022-04-01T12:22:48.246Z"
      },
      {
        "duration": 96,
        "start_time": "2022-04-01T12:22:48.254Z"
      },
      {
        "duration": 133,
        "start_time": "2022-04-01T12:22:48.351Z"
      },
      {
        "duration": 308,
        "start_time": "2022-04-01T12:22:48.486Z"
      },
      {
        "duration": 687,
        "start_time": "2022-04-01T12:22:48.796Z"
      },
      {
        "duration": 5,
        "start_time": "2022-04-01T12:22:49.485Z"
      },
      {
        "duration": 20,
        "start_time": "2022-04-01T12:22:49.491Z"
      },
      {
        "duration": 20,
        "start_time": "2022-04-01T12:22:49.512Z"
      },
      {
        "duration": 6,
        "start_time": "2022-04-01T12:22:49.533Z"
      },
      {
        "duration": 13,
        "start_time": "2022-04-01T12:22:49.541Z"
      },
      {
        "duration": 14,
        "start_time": "2022-04-01T12:22:49.555Z"
      },
      {
        "duration": 29,
        "start_time": "2022-04-01T12:22:49.570Z"
      },
      {
        "duration": 12,
        "start_time": "2022-04-01T12:22:49.600Z"
      },
      {
        "duration": 22,
        "start_time": "2022-04-01T12:22:49.613Z"
      },
      {
        "duration": 30,
        "start_time": "2022-04-01T12:22:49.637Z"
      },
      {
        "duration": 1093,
        "start_time": "2022-04-01T12:59:35.956Z"
      },
      {
        "duration": 166,
        "start_time": "2022-04-01T12:59:37.051Z"
      },
      {
        "duration": 120,
        "start_time": "2022-04-01T12:59:37.219Z"
      },
      {
        "duration": 102,
        "start_time": "2022-04-01T12:59:37.341Z"
      },
      {
        "duration": 60,
        "start_time": "2022-04-01T12:59:37.444Z"
      },
      {
        "duration": 144,
        "start_time": "2022-04-01T12:59:37.505Z"
      },
      {
        "duration": 61,
        "start_time": "2022-04-01T12:59:37.651Z"
      },
      {
        "duration": 45,
        "start_time": "2022-04-01T12:59:37.714Z"
      },
      {
        "duration": 7,
        "start_time": "2022-04-01T12:59:37.760Z"
      },
      {
        "duration": 30,
        "start_time": "2022-04-01T12:59:37.770Z"
      },
      {
        "duration": 4,
        "start_time": "2022-04-01T12:59:37.801Z"
      },
      {
        "duration": 4,
        "start_time": "2022-04-01T12:59:37.807Z"
      },
      {
        "duration": 158,
        "start_time": "2022-04-01T12:59:37.813Z"
      },
      {
        "duration": 62,
        "start_time": "2022-04-01T12:59:37.972Z"
      },
      {
        "duration": 6,
        "start_time": "2022-04-01T12:59:38.036Z"
      },
      {
        "duration": 53,
        "start_time": "2022-04-01T12:59:38.044Z"
      },
      {
        "duration": 4,
        "start_time": "2022-04-01T12:59:38.098Z"
      },
      {
        "duration": 40,
        "start_time": "2022-04-01T12:59:38.104Z"
      },
      {
        "duration": 39,
        "start_time": "2022-04-01T12:59:38.145Z"
      },
      {
        "duration": 4,
        "start_time": "2022-04-01T12:59:38.186Z"
      },
      {
        "duration": 45,
        "start_time": "2022-04-01T12:59:38.191Z"
      },
      {
        "duration": 46,
        "start_time": "2022-04-01T12:59:38.238Z"
      },
      {
        "duration": 4,
        "start_time": "2022-04-01T12:59:38.286Z"
      },
      {
        "duration": 4,
        "start_time": "2022-04-01T12:59:38.291Z"
      },
      {
        "duration": 8,
        "start_time": "2022-04-01T12:59:38.297Z"
      },
      {
        "duration": 14,
        "start_time": "2022-04-01T12:59:38.306Z"
      },
      {
        "duration": 12,
        "start_time": "2022-04-01T12:59:38.321Z"
      },
      {
        "duration": 12,
        "start_time": "2022-04-01T12:59:38.336Z"
      },
      {
        "duration": 35,
        "start_time": "2022-04-01T12:59:38.350Z"
      },
      {
        "duration": 37,
        "start_time": "2022-04-01T12:59:38.387Z"
      },
      {
        "duration": 23,
        "start_time": "2022-04-01T12:59:38.425Z"
      },
      {
        "duration": 33,
        "start_time": "2022-04-01T12:59:38.449Z"
      },
      {
        "duration": 20,
        "start_time": "2022-04-01T12:59:38.483Z"
      },
      {
        "duration": 4,
        "start_time": "2022-04-01T12:59:38.504Z"
      },
      {
        "duration": 7,
        "start_time": "2022-04-01T12:59:38.509Z"
      },
      {
        "duration": 5,
        "start_time": "2022-04-01T12:59:38.518Z"
      },
      {
        "duration": 8,
        "start_time": "2022-04-01T12:59:38.524Z"
      },
      {
        "duration": 4,
        "start_time": "2022-04-01T12:59:38.534Z"
      },
      {
        "duration": 135,
        "start_time": "2022-04-01T12:59:38.539Z"
      },
      {
        "duration": 9,
        "start_time": "2022-04-01T12:59:38.675Z"
      },
      {
        "duration": 22,
        "start_time": "2022-04-01T12:59:38.685Z"
      },
      {
        "duration": 18,
        "start_time": "2022-04-01T12:59:38.709Z"
      },
      {
        "duration": 25,
        "start_time": "2022-04-01T12:59:38.729Z"
      },
      {
        "duration": 5,
        "start_time": "2022-04-01T12:59:38.756Z"
      },
      {
        "duration": 29,
        "start_time": "2022-04-01T12:59:38.762Z"
      },
      {
        "duration": 20,
        "start_time": "2022-04-01T12:59:38.793Z"
      },
      {
        "duration": 42,
        "start_time": "2022-04-01T12:59:38.815Z"
      },
      {
        "duration": 86,
        "start_time": "2022-04-01T12:59:38.858Z"
      },
      {
        "duration": 249,
        "start_time": "2022-04-01T12:59:38.946Z"
      },
      {
        "duration": 662,
        "start_time": "2022-04-01T12:59:39.197Z"
      },
      {
        "duration": 250,
        "start_time": "2022-04-01T12:59:39.860Z"
      },
      {
        "duration": 662,
        "start_time": "2022-04-01T12:59:40.111Z"
      },
      {
        "duration": 313,
        "start_time": "2022-04-01T12:59:40.775Z"
      },
      {
        "duration": 641,
        "start_time": "2022-04-01T12:59:41.090Z"
      },
      {
        "duration": 304,
        "start_time": "2022-04-01T12:59:41.732Z"
      },
      {
        "duration": 11,
        "start_time": "2022-04-01T12:59:42.038Z"
      },
      {
        "duration": 10,
        "start_time": "2022-04-01T12:59:42.051Z"
      },
      {
        "duration": 144,
        "start_time": "2022-04-01T12:59:42.063Z"
      },
      {
        "duration": 133,
        "start_time": "2022-04-01T12:59:42.209Z"
      },
      {
        "duration": 127,
        "start_time": "2022-04-01T12:59:42.343Z"
      },
      {
        "duration": 123,
        "start_time": "2022-04-01T12:59:42.471Z"
      },
      {
        "duration": 136,
        "start_time": "2022-04-01T12:59:42.596Z"
      },
      {
        "duration": 190,
        "start_time": "2022-04-01T12:59:42.733Z"
      },
      {
        "duration": 4,
        "start_time": "2022-04-01T12:59:42.924Z"
      },
      {
        "duration": 9,
        "start_time": "2022-04-01T12:59:42.929Z"
      },
      {
        "duration": 88,
        "start_time": "2022-04-01T12:59:42.939Z"
      },
      {
        "duration": 131,
        "start_time": "2022-04-01T12:59:43.029Z"
      },
      {
        "duration": 298,
        "start_time": "2022-04-01T12:59:43.161Z"
      },
      {
        "duration": 675,
        "start_time": "2022-04-01T12:59:43.460Z"
      },
      {
        "duration": 5,
        "start_time": "2022-04-01T12:59:44.136Z"
      },
      {
        "duration": 7,
        "start_time": "2022-04-01T12:59:44.142Z"
      },
      {
        "duration": 5,
        "start_time": "2022-04-01T12:59:44.150Z"
      },
      {
        "duration": 24,
        "start_time": "2022-04-01T12:59:44.157Z"
      },
      {
        "duration": 3,
        "start_time": "2022-04-01T12:59:44.182Z"
      },
      {
        "duration": 25,
        "start_time": "2022-04-01T12:59:44.187Z"
      },
      {
        "duration": 27,
        "start_time": "2022-04-01T12:59:44.213Z"
      },
      {
        "duration": 14,
        "start_time": "2022-04-01T12:59:44.242Z"
      },
      {
        "duration": 11,
        "start_time": "2022-04-01T12:59:44.257Z"
      },
      {
        "duration": 30,
        "start_time": "2022-04-01T12:59:44.269Z"
      },
      {
        "duration": 3,
        "start_time": "2022-04-01T13:13:19.065Z"
      },
      {
        "duration": 5,
        "start_time": "2022-04-01T13:13:20.568Z"
      },
      {
        "duration": 2,
        "start_time": "2022-04-01T13:13:24.012Z"
      },
      {
        "duration": 5,
        "start_time": "2022-04-01T13:13:24.564Z"
      },
      {
        "duration": 91,
        "start_time": "2022-04-01T13:13:42.808Z"
      },
      {
        "duration": 3,
        "start_time": "2022-04-01T13:13:59.320Z"
      },
      {
        "duration": 3,
        "start_time": "2022-04-01T13:14:22.991Z"
      },
      {
        "duration": 3,
        "start_time": "2022-04-01T13:14:38.182Z"
      },
      {
        "duration": 3,
        "start_time": "2022-04-01T13:14:44.329Z"
      },
      {
        "duration": 3,
        "start_time": "2022-04-01T13:14:54.271Z"
      },
      {
        "duration": 3,
        "start_time": "2022-04-01T13:15:02.168Z"
      },
      {
        "duration": 3,
        "start_time": "2022-04-01T13:15:05.236Z"
      },
      {
        "duration": 2,
        "start_time": "2022-04-01T13:16:42.367Z"
      },
      {
        "duration": 4,
        "start_time": "2022-04-01T13:16:43.413Z"
      }
    ],
    "kernelspec": {
      "display_name": "Python 3 (ipykernel)",
      "language": "python",
      "name": "python3"
    },
    "language_info": {
      "codemirror_mode": {
        "name": "ipython",
        "version": 3
      },
      "file_extension": ".py",
      "mimetype": "text/x-python",
      "name": "python",
      "nbconvert_exporter": "python",
      "pygments_lexer": "ipython3",
      "version": "3.9.5"
    },
    "toc": {
      "base_numbering": 1,
      "nav_menu": {},
      "number_sections": true,
      "sideBar": true,
      "skip_h1_title": true,
      "title_cell": "Table of Contents",
      "title_sidebar": "Contents",
      "toc_cell": false,
      "toc_position": {
        "height": "calc(100% - 180px)",
        "left": "10px",
        "top": "150px",
        "width": "366.391px"
      },
      "toc_section_display": true,
      "toc_window_display": false
    },
    "colab": {
      "name": "Best rate.ipynb",
      "provenance": [],
      "collapsed_sections": []
    }
  },
  "nbformat": 4,
  "nbformat_minor": 0
}
