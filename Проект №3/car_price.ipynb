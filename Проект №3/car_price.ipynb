{
  "cells": [
    {
      "cell_type": "markdown",
      "metadata": {
        "id": "wt3FJhUI7cpa"
      },
      "source": [
        "# \"Предсказание стоимости авто\""
      ]
    },
    {
      "cell_type": "markdown",
      "metadata": {
        "id": "qT5TubUy7cpc"
      },
      "source": [
        "# Описание проекта"
      ]
    },
    {
      "cell_type": "markdown",
      "metadata": {
        "id": "BcRCAIa_7cpe"
      },
      "source": [
        "**Дано** - исторические данные по объявлением о продаже автомобилей; <br/>\n",
        "\n",
        "\n",
        "**Задача** - разработать оценщик стоимости автомобилей с использованием лучшей модели по метрике RMSE. Также важными параметрами являеются скорость обучения и предсказания.<br/>\n",
        "\n",
        "Сравнивать будем модели:<br/>\n",
        "- Дерева решений;\n",
        "- Случайный лес;\n",
        "- Классический бустинг Light GBM."
      ]
    },
    {
      "cell_type": "markdown",
      "metadata": {
        "id": "Er9oLBIz7cpp"
      },
      "source": [
        "## Шаг 1 - Чтение и загрузка данных"
      ]
    },
    {
      "cell_type": "markdown",
      "metadata": {
        "id": "bZ0lZeF87cpr"
      },
      "source": [
        "На данном шаге загрузим необходимые бибилотеки, настроим блокнот и загрузим данные."
      ]
    },
    {
      "cell_type": "code",
      "execution_count": 1,
      "metadata": {
        "id": "ETcQWzvA7cps"
      },
      "outputs": [],
      "source": [
        "# импорт библиотек\n",
        "import pandas as pd\n",
        "import numpy as np\n",
        "import matplotlib.pyplot as plt\n",
        "import seaborn as sns\n",
        "from sklearn.tree import DecisionTreeRegressor\n",
        "from sklearn.ensemble import RandomForestRegressor\n",
        "from sklearn.model_selection import GridSearchCV\n",
        "from sklearn.preprocessing import OrdinalEncoder\n",
        "import lightgbm as lgb\n",
        "\n",
        "from sklearn.linear_model import LinearRegression\n",
        "\n",
        "from sklearn.metrics import mean_squared_error\n",
        "\n",
        "from sklearn.model_selection import train_test_split"
      ]
    },
    {
      "cell_type": "code",
      "source": [
        "!pip install catboost"
      ],
      "metadata": {
        "colab": {
          "base_uri": "https://localhost:8080/"
        },
        "id": "OEPonPEBmgXd",
        "outputId": "a1f7dace-267e-4399-a56f-c108d0a4941c"
      },
      "execution_count": 32,
      "outputs": [
        {
          "output_type": "stream",
          "name": "stdout",
          "text": [
            "Looking in indexes: https://pypi.org/simple, https://us-python.pkg.dev/colab-wheels/public/simple/\n",
            "Collecting catboost\n",
            "  Downloading catboost-1.0.6-cp37-none-manylinux1_x86_64.whl (76.6 MB)\n",
            "\u001b[K     |████████████████████████████████| 76.6 MB 1.2 MB/s \n",
            "\u001b[?25hRequirement already satisfied: plotly in /usr/local/lib/python3.7/dist-packages (from catboost) (5.5.0)\n",
            "Requirement already satisfied: numpy>=1.16.0 in /usr/local/lib/python3.7/dist-packages (from catboost) (1.21.6)\n",
            "Requirement already satisfied: matplotlib in /usr/local/lib/python3.7/dist-packages (from catboost) (3.2.2)\n",
            "Requirement already satisfied: six in /usr/local/lib/python3.7/dist-packages (from catboost) (1.15.0)\n",
            "Requirement already satisfied: pandas>=0.24.0 in /usr/local/lib/python3.7/dist-packages (from catboost) (1.3.5)\n",
            "Requirement already satisfied: scipy in /usr/local/lib/python3.7/dist-packages (from catboost) (1.7.3)\n",
            "Requirement already satisfied: graphviz in /usr/local/lib/python3.7/dist-packages (from catboost) (0.10.1)\n",
            "Requirement already satisfied: pytz>=2017.3 in /usr/local/lib/python3.7/dist-packages (from pandas>=0.24.0->catboost) (2022.1)\n",
            "Requirement already satisfied: python-dateutil>=2.7.3 in /usr/local/lib/python3.7/dist-packages (from pandas>=0.24.0->catboost) (2.8.2)\n",
            "Requirement already satisfied: kiwisolver>=1.0.1 in /usr/local/lib/python3.7/dist-packages (from matplotlib->catboost) (1.4.4)\n",
            "Requirement already satisfied: cycler>=0.10 in /usr/local/lib/python3.7/dist-packages (from matplotlib->catboost) (0.11.0)\n",
            "Requirement already satisfied: pyparsing!=2.0.4,!=2.1.2,!=2.1.6,>=2.0.1 in /usr/local/lib/python3.7/dist-packages (from matplotlib->catboost) (3.0.9)\n",
            "Requirement already satisfied: typing-extensions in /usr/local/lib/python3.7/dist-packages (from kiwisolver>=1.0.1->matplotlib->catboost) (4.1.1)\n",
            "Requirement already satisfied: tenacity>=6.2.0 in /usr/local/lib/python3.7/dist-packages (from plotly->catboost) (8.0.1)\n",
            "Installing collected packages: catboost\n",
            "Successfully installed catboost-1.0.6\n"
          ]
        }
      ]
    },
    {
      "cell_type": "code",
      "source": [
        "from catboost import CatBoostRegressor\n",
        "from catboost import cv, Pool"
      ],
      "metadata": {
        "id": "BvHXBgrtnyXD"
      },
      "execution_count": 33,
      "outputs": []
    },
    {
      "cell_type": "code",
      "execution_count": 3,
      "metadata": {
        "id": "LgJArSUb7cpx"
      },
      "outputs": [],
      "source": [
        "# настроим тёмную тему для графиков \n",
        "plt.style.use('dark_background')\n",
        "\n",
        "# отключим предупреждения matplotlib \n",
        "import warnings\n",
        "warnings.filterwarnings('ignore')"
      ]
    },
    {
      "cell_type": "code",
      "execution_count": 4,
      "metadata": {
        "scrolled": true,
        "id": "wKzKrzOT7cpy",
        "outputId": "91e7f178-854f-4865-b4eb-3e9f108f0122",
        "colab": {
          "base_uri": "https://localhost:8080/",
          "height": 418
        }
      },
      "outputs": [
        {
          "output_type": "execute_result",
          "data": {
            "text/plain": [
              "           DateCrawled  Price VehicleType  RegistrationYear Gearbox  Power  \\\n",
              "0  2016-03-24 11:52:17    480         NaN              1993  manual      0   \n",
              "1  2016-03-24 10:58:45  18300       coupe              2011  manual    190   \n",
              "2  2016-03-14 12:52:21   9800         suv              2004    auto    163   \n",
              "3  2016-03-17 16:54:04   1500       small              2001  manual     75   \n",
              "4  2016-03-31 17:25:20   3600       small              2008  manual     69   \n",
              "\n",
              "   Model  Kilometer  RegistrationMonth  FuelType       Brand NotRepaired  \\\n",
              "0   golf     150000                  0    petrol  volkswagen         NaN   \n",
              "1    NaN     125000                  5  gasoline        audi         yes   \n",
              "2  grand     125000                  8  gasoline        jeep         NaN   \n",
              "3   golf     150000                  6    petrol  volkswagen          no   \n",
              "4  fabia      90000                  7  gasoline       skoda          no   \n",
              "\n",
              "           DateCreated  NumberOfPictures  PostalCode             LastSeen  \n",
              "0  2016-03-24 00:00:00                 0       70435  2016-04-07 03:16:57  \n",
              "1  2016-03-24 00:00:00                 0       66954  2016-04-07 01:46:50  \n",
              "2  2016-03-14 00:00:00                 0       90480  2016-04-05 12:47:46  \n",
              "3  2016-03-17 00:00:00                 0       91074  2016-03-17 17:40:17  \n",
              "4  2016-03-31 00:00:00                 0       60437  2016-04-06 10:17:21  "
            ],
            "text/html": [
              "\n",
              "  <div id=\"df-76fe1498-faf8-42e1-b95f-891de8af3a9f\">\n",
              "    <div class=\"colab-df-container\">\n",
              "      <div>\n",
              "<style scoped>\n",
              "    .dataframe tbody tr th:only-of-type {\n",
              "        vertical-align: middle;\n",
              "    }\n",
              "\n",
              "    .dataframe tbody tr th {\n",
              "        vertical-align: top;\n",
              "    }\n",
              "\n",
              "    .dataframe thead th {\n",
              "        text-align: right;\n",
              "    }\n",
              "</style>\n",
              "<table border=\"1\" class=\"dataframe\">\n",
              "  <thead>\n",
              "    <tr style=\"text-align: right;\">\n",
              "      <th></th>\n",
              "      <th>DateCrawled</th>\n",
              "      <th>Price</th>\n",
              "      <th>VehicleType</th>\n",
              "      <th>RegistrationYear</th>\n",
              "      <th>Gearbox</th>\n",
              "      <th>Power</th>\n",
              "      <th>Model</th>\n",
              "      <th>Kilometer</th>\n",
              "      <th>RegistrationMonth</th>\n",
              "      <th>FuelType</th>\n",
              "      <th>Brand</th>\n",
              "      <th>NotRepaired</th>\n",
              "      <th>DateCreated</th>\n",
              "      <th>NumberOfPictures</th>\n",
              "      <th>PostalCode</th>\n",
              "      <th>LastSeen</th>\n",
              "    </tr>\n",
              "  </thead>\n",
              "  <tbody>\n",
              "    <tr>\n",
              "      <th>0</th>\n",
              "      <td>2016-03-24 11:52:17</td>\n",
              "      <td>480</td>\n",
              "      <td>NaN</td>\n",
              "      <td>1993</td>\n",
              "      <td>manual</td>\n",
              "      <td>0</td>\n",
              "      <td>golf</td>\n",
              "      <td>150000</td>\n",
              "      <td>0</td>\n",
              "      <td>petrol</td>\n",
              "      <td>volkswagen</td>\n",
              "      <td>NaN</td>\n",
              "      <td>2016-03-24 00:00:00</td>\n",
              "      <td>0</td>\n",
              "      <td>70435</td>\n",
              "      <td>2016-04-07 03:16:57</td>\n",
              "    </tr>\n",
              "    <tr>\n",
              "      <th>1</th>\n",
              "      <td>2016-03-24 10:58:45</td>\n",
              "      <td>18300</td>\n",
              "      <td>coupe</td>\n",
              "      <td>2011</td>\n",
              "      <td>manual</td>\n",
              "      <td>190</td>\n",
              "      <td>NaN</td>\n",
              "      <td>125000</td>\n",
              "      <td>5</td>\n",
              "      <td>gasoline</td>\n",
              "      <td>audi</td>\n",
              "      <td>yes</td>\n",
              "      <td>2016-03-24 00:00:00</td>\n",
              "      <td>0</td>\n",
              "      <td>66954</td>\n",
              "      <td>2016-04-07 01:46:50</td>\n",
              "    </tr>\n",
              "    <tr>\n",
              "      <th>2</th>\n",
              "      <td>2016-03-14 12:52:21</td>\n",
              "      <td>9800</td>\n",
              "      <td>suv</td>\n",
              "      <td>2004</td>\n",
              "      <td>auto</td>\n",
              "      <td>163</td>\n",
              "      <td>grand</td>\n",
              "      <td>125000</td>\n",
              "      <td>8</td>\n",
              "      <td>gasoline</td>\n",
              "      <td>jeep</td>\n",
              "      <td>NaN</td>\n",
              "      <td>2016-03-14 00:00:00</td>\n",
              "      <td>0</td>\n",
              "      <td>90480</td>\n",
              "      <td>2016-04-05 12:47:46</td>\n",
              "    </tr>\n",
              "    <tr>\n",
              "      <th>3</th>\n",
              "      <td>2016-03-17 16:54:04</td>\n",
              "      <td>1500</td>\n",
              "      <td>small</td>\n",
              "      <td>2001</td>\n",
              "      <td>manual</td>\n",
              "      <td>75</td>\n",
              "      <td>golf</td>\n",
              "      <td>150000</td>\n",
              "      <td>6</td>\n",
              "      <td>petrol</td>\n",
              "      <td>volkswagen</td>\n",
              "      <td>no</td>\n",
              "      <td>2016-03-17 00:00:00</td>\n",
              "      <td>0</td>\n",
              "      <td>91074</td>\n",
              "      <td>2016-03-17 17:40:17</td>\n",
              "    </tr>\n",
              "    <tr>\n",
              "      <th>4</th>\n",
              "      <td>2016-03-31 17:25:20</td>\n",
              "      <td>3600</td>\n",
              "      <td>small</td>\n",
              "      <td>2008</td>\n",
              "      <td>manual</td>\n",
              "      <td>69</td>\n",
              "      <td>fabia</td>\n",
              "      <td>90000</td>\n",
              "      <td>7</td>\n",
              "      <td>gasoline</td>\n",
              "      <td>skoda</td>\n",
              "      <td>no</td>\n",
              "      <td>2016-03-31 00:00:00</td>\n",
              "      <td>0</td>\n",
              "      <td>60437</td>\n",
              "      <td>2016-04-06 10:17:21</td>\n",
              "    </tr>\n",
              "  </tbody>\n",
              "</table>\n",
              "</div>\n",
              "      <button class=\"colab-df-convert\" onclick=\"convertToInteractive('df-76fe1498-faf8-42e1-b95f-891de8af3a9f')\"\n",
              "              title=\"Convert this dataframe to an interactive table.\"\n",
              "              style=\"display:none;\">\n",
              "        \n",
              "  <svg xmlns=\"http://www.w3.org/2000/svg\" height=\"24px\"viewBox=\"0 0 24 24\"\n",
              "       width=\"24px\">\n",
              "    <path d=\"M0 0h24v24H0V0z\" fill=\"none\"/>\n",
              "    <path d=\"M18.56 5.44l.94 2.06.94-2.06 2.06-.94-2.06-.94-.94-2.06-.94 2.06-2.06.94zm-11 1L8.5 8.5l.94-2.06 2.06-.94-2.06-.94L8.5 2.5l-.94 2.06-2.06.94zm10 10l.94 2.06.94-2.06 2.06-.94-2.06-.94-.94-2.06-.94 2.06-2.06.94z\"/><path d=\"M17.41 7.96l-1.37-1.37c-.4-.4-.92-.59-1.43-.59-.52 0-1.04.2-1.43.59L10.3 9.45l-7.72 7.72c-.78.78-.78 2.05 0 2.83L4 21.41c.39.39.9.59 1.41.59.51 0 1.02-.2 1.41-.59l7.78-7.78 2.81-2.81c.8-.78.8-2.07 0-2.86zM5.41 20L4 18.59l7.72-7.72 1.47 1.35L5.41 20z\"/>\n",
              "  </svg>\n",
              "      </button>\n",
              "      \n",
              "  <style>\n",
              "    .colab-df-container {\n",
              "      display:flex;\n",
              "      flex-wrap:wrap;\n",
              "      gap: 12px;\n",
              "    }\n",
              "\n",
              "    .colab-df-convert {\n",
              "      background-color: #E8F0FE;\n",
              "      border: none;\n",
              "      border-radius: 50%;\n",
              "      cursor: pointer;\n",
              "      display: none;\n",
              "      fill: #1967D2;\n",
              "      height: 32px;\n",
              "      padding: 0 0 0 0;\n",
              "      width: 32px;\n",
              "    }\n",
              "\n",
              "    .colab-df-convert:hover {\n",
              "      background-color: #E2EBFA;\n",
              "      box-shadow: 0px 1px 2px rgba(60, 64, 67, 0.3), 0px 1px 3px 1px rgba(60, 64, 67, 0.15);\n",
              "      fill: #174EA6;\n",
              "    }\n",
              "\n",
              "    [theme=dark] .colab-df-convert {\n",
              "      background-color: #3B4455;\n",
              "      fill: #D2E3FC;\n",
              "    }\n",
              "\n",
              "    [theme=dark] .colab-df-convert:hover {\n",
              "      background-color: #434B5C;\n",
              "      box-shadow: 0px 1px 3px 1px rgba(0, 0, 0, 0.15);\n",
              "      filter: drop-shadow(0px 1px 2px rgba(0, 0, 0, 0.3));\n",
              "      fill: #FFFFFF;\n",
              "    }\n",
              "  </style>\n",
              "\n",
              "      <script>\n",
              "        const buttonEl =\n",
              "          document.querySelector('#df-76fe1498-faf8-42e1-b95f-891de8af3a9f button.colab-df-convert');\n",
              "        buttonEl.style.display =\n",
              "          google.colab.kernel.accessAllowed ? 'block' : 'none';\n",
              "\n",
              "        async function convertToInteractive(key) {\n",
              "          const element = document.querySelector('#df-76fe1498-faf8-42e1-b95f-891de8af3a9f');\n",
              "          const dataTable =\n",
              "            await google.colab.kernel.invokeFunction('convertToInteractive',\n",
              "                                                     [key], {});\n",
              "          if (!dataTable) return;\n",
              "\n",
              "          const docLinkHtml = 'Like what you see? Visit the ' +\n",
              "            '<a target=\"_blank\" href=https://colab.research.google.com/notebooks/data_table.ipynb>data table notebook</a>'\n",
              "            + ' to learn more about interactive tables.';\n",
              "          element.innerHTML = '';\n",
              "          dataTable['output_type'] = 'display_data';\n",
              "          await google.colab.output.renderOutput(dataTable, element);\n",
              "          const docLink = document.createElement('div');\n",
              "          docLink.innerHTML = docLinkHtml;\n",
              "          element.appendChild(docLink);\n",
              "        }\n",
              "      </script>\n",
              "    </div>\n",
              "  </div>\n",
              "  "
            ]
          },
          "metadata": {},
          "execution_count": 4
        }
      ],
      "source": [
        "# чтение данных\n",
        "df = pd.read_csv('/content/drive/MyDrive/Data Science/Проекты/3 модуль/Проект 2_Численные методы/autos.csv')\n",
        "df.head()"
      ]
    },
    {
      "cell_type": "markdown",
      "metadata": {
        "id": "d5rpNmxM7cp1"
      },
      "source": [
        "Бибилотеки и данные загружены успешно. Приступим к EDA."
      ]
    },
    {
      "cell_type": "markdown",
      "metadata": {
        "id": "UMoO9n697cp2"
      },
      "source": [
        "## Шаг 2 - EDA"
      ]
    },
    {
      "cell_type": "markdown",
      "metadata": {
        "id": "fEUAAVpR7cp3"
      },
      "source": [
        "На данном шаге проведём разведовательный анализ данных. Будем только смотреть, изменять данные не будем."
      ]
    },
    {
      "cell_type": "code",
      "execution_count": 5,
      "metadata": {
        "id": "aOPDCDHk7cp4",
        "outputId": "2a45c312-cb4c-40cf-9d61-9bcdd9609de4",
        "colab": {
          "base_uri": "https://localhost:8080/"
        }
      },
      "outputs": [
        {
          "output_type": "execute_result",
          "data": {
            "text/plain": [
              "(354369, 16)"
            ]
          },
          "metadata": {},
          "execution_count": 5
        }
      ],
      "source": [
        "# размерность датасета\n",
        "df.shape"
      ]
    },
    {
      "cell_type": "markdown",
      "metadata": {
        "id": "cwrrT3N97cp5"
      },
      "source": [
        "Датасет достаточно большой"
      ]
    },
    {
      "cell_type": "code",
      "execution_count": 6,
      "metadata": {
        "scrolled": false,
        "id": "vyRy15FP7cp6",
        "outputId": "0f03b669-2fa9-4993-82b4-ce6c96c330ca",
        "colab": {
          "base_uri": "https://localhost:8080/"
        }
      },
      "outputs": [
        {
          "output_type": "stream",
          "name": "stdout",
          "text": [
            "<class 'pandas.core.frame.DataFrame'>\n",
            "RangeIndex: 354369 entries, 0 to 354368\n",
            "Data columns (total 16 columns):\n",
            " #   Column             Non-Null Count   Dtype \n",
            "---  ------             --------------   ----- \n",
            " 0   DateCrawled        354369 non-null  object\n",
            " 1   Price              354369 non-null  int64 \n",
            " 2   VehicleType        316879 non-null  object\n",
            " 3   RegistrationYear   354369 non-null  int64 \n",
            " 4   Gearbox            334536 non-null  object\n",
            " 5   Power              354369 non-null  int64 \n",
            " 6   Model              334664 non-null  object\n",
            " 7   Kilometer          354369 non-null  int64 \n",
            " 8   RegistrationMonth  354369 non-null  int64 \n",
            " 9   FuelType           321474 non-null  object\n",
            " 10  Brand              354369 non-null  object\n",
            " 11  NotRepaired        283215 non-null  object\n",
            " 12  DateCreated        354369 non-null  object\n",
            " 13  NumberOfPictures   354369 non-null  int64 \n",
            " 14  PostalCode         354369 non-null  int64 \n",
            " 15  LastSeen           354369 non-null  object\n",
            "dtypes: int64(7), object(9)\n",
            "memory usage: 43.3+ MB\n"
          ]
        }
      ],
      "source": [
        "# общая информация\n",
        "df.info()"
      ]
    },
    {
      "cell_type": "code",
      "execution_count": 7,
      "metadata": {
        "id": "7ylxFVRC7cp7",
        "outputId": "24a91060-d8cd-47f3-9f79-7c3fd546df05",
        "colab": {
          "base_uri": "https://localhost:8080/",
          "height": 297
        }
      },
      "outputs": [
        {
          "output_type": "execute_result",
          "data": {
            "text/plain": [
              "               Price  RegistrationYear          Power      Kilometer  \\\n",
              "count  354369.000000     354369.000000  354369.000000  354369.000000   \n",
              "mean     4416.656776       2004.234448     110.094337  128211.172535   \n",
              "std      4514.158514         90.227958     189.850405   37905.341530   \n",
              "min         0.000000       1000.000000       0.000000    5000.000000   \n",
              "25%      1050.000000       1999.000000      69.000000  125000.000000   \n",
              "50%      2700.000000       2003.000000     105.000000  150000.000000   \n",
              "75%      6400.000000       2008.000000     143.000000  150000.000000   \n",
              "max     20000.000000       9999.000000   20000.000000  150000.000000   \n",
              "\n",
              "       RegistrationMonth  NumberOfPictures     PostalCode  \n",
              "count      354369.000000          354369.0  354369.000000  \n",
              "mean            5.714645               0.0   50508.689087  \n",
              "std             3.726421               0.0   25783.096248  \n",
              "min             0.000000               0.0    1067.000000  \n",
              "25%             3.000000               0.0   30165.000000  \n",
              "50%             6.000000               0.0   49413.000000  \n",
              "75%             9.000000               0.0   71083.000000  \n",
              "max            12.000000               0.0   99998.000000  "
            ],
            "text/html": [
              "\n",
              "  <div id=\"df-0989c1ca-8785-4e5d-9d0f-15de1b4fa293\">\n",
              "    <div class=\"colab-df-container\">\n",
              "      <div>\n",
              "<style scoped>\n",
              "    .dataframe tbody tr th:only-of-type {\n",
              "        vertical-align: middle;\n",
              "    }\n",
              "\n",
              "    .dataframe tbody tr th {\n",
              "        vertical-align: top;\n",
              "    }\n",
              "\n",
              "    .dataframe thead th {\n",
              "        text-align: right;\n",
              "    }\n",
              "</style>\n",
              "<table border=\"1\" class=\"dataframe\">\n",
              "  <thead>\n",
              "    <tr style=\"text-align: right;\">\n",
              "      <th></th>\n",
              "      <th>Price</th>\n",
              "      <th>RegistrationYear</th>\n",
              "      <th>Power</th>\n",
              "      <th>Kilometer</th>\n",
              "      <th>RegistrationMonth</th>\n",
              "      <th>NumberOfPictures</th>\n",
              "      <th>PostalCode</th>\n",
              "    </tr>\n",
              "  </thead>\n",
              "  <tbody>\n",
              "    <tr>\n",
              "      <th>count</th>\n",
              "      <td>354369.000000</td>\n",
              "      <td>354369.000000</td>\n",
              "      <td>354369.000000</td>\n",
              "      <td>354369.000000</td>\n",
              "      <td>354369.000000</td>\n",
              "      <td>354369.0</td>\n",
              "      <td>354369.000000</td>\n",
              "    </tr>\n",
              "    <tr>\n",
              "      <th>mean</th>\n",
              "      <td>4416.656776</td>\n",
              "      <td>2004.234448</td>\n",
              "      <td>110.094337</td>\n",
              "      <td>128211.172535</td>\n",
              "      <td>5.714645</td>\n",
              "      <td>0.0</td>\n",
              "      <td>50508.689087</td>\n",
              "    </tr>\n",
              "    <tr>\n",
              "      <th>std</th>\n",
              "      <td>4514.158514</td>\n",
              "      <td>90.227958</td>\n",
              "      <td>189.850405</td>\n",
              "      <td>37905.341530</td>\n",
              "      <td>3.726421</td>\n",
              "      <td>0.0</td>\n",
              "      <td>25783.096248</td>\n",
              "    </tr>\n",
              "    <tr>\n",
              "      <th>min</th>\n",
              "      <td>0.000000</td>\n",
              "      <td>1000.000000</td>\n",
              "      <td>0.000000</td>\n",
              "      <td>5000.000000</td>\n",
              "      <td>0.000000</td>\n",
              "      <td>0.0</td>\n",
              "      <td>1067.000000</td>\n",
              "    </tr>\n",
              "    <tr>\n",
              "      <th>25%</th>\n",
              "      <td>1050.000000</td>\n",
              "      <td>1999.000000</td>\n",
              "      <td>69.000000</td>\n",
              "      <td>125000.000000</td>\n",
              "      <td>3.000000</td>\n",
              "      <td>0.0</td>\n",
              "      <td>30165.000000</td>\n",
              "    </tr>\n",
              "    <tr>\n",
              "      <th>50%</th>\n",
              "      <td>2700.000000</td>\n",
              "      <td>2003.000000</td>\n",
              "      <td>105.000000</td>\n",
              "      <td>150000.000000</td>\n",
              "      <td>6.000000</td>\n",
              "      <td>0.0</td>\n",
              "      <td>49413.000000</td>\n",
              "    </tr>\n",
              "    <tr>\n",
              "      <th>75%</th>\n",
              "      <td>6400.000000</td>\n",
              "      <td>2008.000000</td>\n",
              "      <td>143.000000</td>\n",
              "      <td>150000.000000</td>\n",
              "      <td>9.000000</td>\n",
              "      <td>0.0</td>\n",
              "      <td>71083.000000</td>\n",
              "    </tr>\n",
              "    <tr>\n",
              "      <th>max</th>\n",
              "      <td>20000.000000</td>\n",
              "      <td>9999.000000</td>\n",
              "      <td>20000.000000</td>\n",
              "      <td>150000.000000</td>\n",
              "      <td>12.000000</td>\n",
              "      <td>0.0</td>\n",
              "      <td>99998.000000</td>\n",
              "    </tr>\n",
              "  </tbody>\n",
              "</table>\n",
              "</div>\n",
              "      <button class=\"colab-df-convert\" onclick=\"convertToInteractive('df-0989c1ca-8785-4e5d-9d0f-15de1b4fa293')\"\n",
              "              title=\"Convert this dataframe to an interactive table.\"\n",
              "              style=\"display:none;\">\n",
              "        \n",
              "  <svg xmlns=\"http://www.w3.org/2000/svg\" height=\"24px\"viewBox=\"0 0 24 24\"\n",
              "       width=\"24px\">\n",
              "    <path d=\"M0 0h24v24H0V0z\" fill=\"none\"/>\n",
              "    <path d=\"M18.56 5.44l.94 2.06.94-2.06 2.06-.94-2.06-.94-.94-2.06-.94 2.06-2.06.94zm-11 1L8.5 8.5l.94-2.06 2.06-.94-2.06-.94L8.5 2.5l-.94 2.06-2.06.94zm10 10l.94 2.06.94-2.06 2.06-.94-2.06-.94-.94-2.06-.94 2.06-2.06.94z\"/><path d=\"M17.41 7.96l-1.37-1.37c-.4-.4-.92-.59-1.43-.59-.52 0-1.04.2-1.43.59L10.3 9.45l-7.72 7.72c-.78.78-.78 2.05 0 2.83L4 21.41c.39.39.9.59 1.41.59.51 0 1.02-.2 1.41-.59l7.78-7.78 2.81-2.81c.8-.78.8-2.07 0-2.86zM5.41 20L4 18.59l7.72-7.72 1.47 1.35L5.41 20z\"/>\n",
              "  </svg>\n",
              "      </button>\n",
              "      \n",
              "  <style>\n",
              "    .colab-df-container {\n",
              "      display:flex;\n",
              "      flex-wrap:wrap;\n",
              "      gap: 12px;\n",
              "    }\n",
              "\n",
              "    .colab-df-convert {\n",
              "      background-color: #E8F0FE;\n",
              "      border: none;\n",
              "      border-radius: 50%;\n",
              "      cursor: pointer;\n",
              "      display: none;\n",
              "      fill: #1967D2;\n",
              "      height: 32px;\n",
              "      padding: 0 0 0 0;\n",
              "      width: 32px;\n",
              "    }\n",
              "\n",
              "    .colab-df-convert:hover {\n",
              "      background-color: #E2EBFA;\n",
              "      box-shadow: 0px 1px 2px rgba(60, 64, 67, 0.3), 0px 1px 3px 1px rgba(60, 64, 67, 0.15);\n",
              "      fill: #174EA6;\n",
              "    }\n",
              "\n",
              "    [theme=dark] .colab-df-convert {\n",
              "      background-color: #3B4455;\n",
              "      fill: #D2E3FC;\n",
              "    }\n",
              "\n",
              "    [theme=dark] .colab-df-convert:hover {\n",
              "      background-color: #434B5C;\n",
              "      box-shadow: 0px 1px 3px 1px rgba(0, 0, 0, 0.15);\n",
              "      filter: drop-shadow(0px 1px 2px rgba(0, 0, 0, 0.3));\n",
              "      fill: #FFFFFF;\n",
              "    }\n",
              "  </style>\n",
              "\n",
              "      <script>\n",
              "        const buttonEl =\n",
              "          document.querySelector('#df-0989c1ca-8785-4e5d-9d0f-15de1b4fa293 button.colab-df-convert');\n",
              "        buttonEl.style.display =\n",
              "          google.colab.kernel.accessAllowed ? 'block' : 'none';\n",
              "\n",
              "        async function convertToInteractive(key) {\n",
              "          const element = document.querySelector('#df-0989c1ca-8785-4e5d-9d0f-15de1b4fa293');\n",
              "          const dataTable =\n",
              "            await google.colab.kernel.invokeFunction('convertToInteractive',\n",
              "                                                     [key], {});\n",
              "          if (!dataTable) return;\n",
              "\n",
              "          const docLinkHtml = 'Like what you see? Visit the ' +\n",
              "            '<a target=\"_blank\" href=https://colab.research.google.com/notebooks/data_table.ipynb>data table notebook</a>'\n",
              "            + ' to learn more about interactive tables.';\n",
              "          element.innerHTML = '';\n",
              "          dataTable['output_type'] = 'display_data';\n",
              "          await google.colab.output.renderOutput(dataTable, element);\n",
              "          const docLink = document.createElement('div');\n",
              "          docLink.innerHTML = docLinkHtml;\n",
              "          element.appendChild(docLink);\n",
              "        }\n",
              "      </script>\n",
              "    </div>\n",
              "  </div>\n",
              "  "
            ]
          },
          "metadata": {},
          "execution_count": 7
        }
      ],
      "source": [
        "# общая инофрмация\n",
        "df.describe()"
      ]
    },
    {
      "cell_type": "markdown",
      "metadata": {
        "id": "14FMNVQk7cp9"
      },
      "source": [
        "Из данных видим следующие особенности: есть цена равная 0, год регистрации 1000 и 9999, мощность 0 л.с. и 20000 л.с., нулевой месяц регистрации, нулевое количесвто фото (бесполезный столбец). <br/>\n",
        "\n",
        "Данные особенности являются аномалиями, о которых необходимо помнить. Менять или преобразовывать данные в этом плане не будем - будем работать с реальными данными - такими какие есть."
      ]
    },
    {
      "cell_type": "code",
      "execution_count": 8,
      "metadata": {
        "id": "COgaHH3z7cp_",
        "outputId": "ee5feb83-f6a3-4c2c-a415-507f9a2238fb",
        "colab": {
          "base_uri": "https://localhost:8080/"
        }
      },
      "outputs": [
        {
          "output_type": "execute_result",
          "data": {
            "text/plain": [
              "NotRepaired          0.200791\n",
              "VehicleType          0.105794\n",
              "FuelType             0.092827\n",
              "Gearbox              0.055967\n",
              "Model                0.055606\n",
              "DateCrawled          0.000000\n",
              "Price                0.000000\n",
              "RegistrationYear     0.000000\n",
              "Power                0.000000\n",
              "Kilometer            0.000000\n",
              "RegistrationMonth    0.000000\n",
              "Brand                0.000000\n",
              "DateCreated          0.000000\n",
              "NumberOfPictures     0.000000\n",
              "PostalCode           0.000000\n",
              "LastSeen             0.000000\n",
              "dtype: float64"
            ]
          },
          "metadata": {},
          "execution_count": 8
        }
      ],
      "source": [
        "# пропуски\n",
        "df.isna().mean().sort_values(ascending = False)"
      ]
    },
    {
      "cell_type": "markdown",
      "metadata": {
        "id": "urjBf5sT7cqA"
      },
      "source": [
        "В датасете в некоторых столбцах имеется до 20% пропусков. С ними будет необходимо провести работу. "
      ]
    },
    {
      "cell_type": "code",
      "execution_count": 10,
      "metadata": {
        "id": "WcUFYENx7cqD",
        "outputId": "4eada90d-f031-4fb2-add2-acf5600a998a",
        "colab": {
          "base_uri": "https://localhost:8080/",
          "height": 336
        }
      },
      "outputs": [
        {
          "output_type": "display_data",
          "data": {
            "text/plain": [
              "<Figure size 504x360 with 1 Axes>"
            ],
            "image/png": "[encoded data removed]"
          },
          "metadata": {}
        }
      ],
      "source": [
        "# гистограмма Price\n",
        "plt.title('Гистограмма Price')\n",
        "df['Price'].hist(figsize=(7,5));"
      ]
    },
    {
      "cell_type": "code",
      "execution_count": 11,
      "metadata": {
        "id": "MjW-ksYP7cqE",
        "outputId": "14d600db-fa3d-45fb-cb4d-7c5a89aec85b",
        "colab": {
          "base_uri": "https://localhost:8080/"
        }
      },
      "outputs": [
        {
          "output_type": "stream",
          "name": "stdout",
          "text": [
            "Количество объявлений с аномально низкой ценой:\n"
          ]
        },
        {
          "output_type": "execute_result",
          "data": {
            "text/plain": [
              "13314"
            ]
          },
          "metadata": {},
          "execution_count": 11
        }
      ],
      "source": [
        "# количество авто по оцень малой цене\n",
        "print(\"Количество объявлений с аномально низкой ценой:\")\n",
        "df['Price'][df['Price'] < 100].count()"
      ]
    },
    {
      "cell_type": "markdown",
      "metadata": {
        "id": "bFWxSQn17cqE"
      },
      "source": [
        "Целевой признак не имеет выбросов вправо, хотя имеет очень малое значение. В дальнейшем целесообразно их удалить"
      ]
    },
    {
      "cell_type": "markdown",
      "metadata": {
        "id": "KYAyMowl7cqF"
      },
      "source": [
        "**Выводы по результатам EDA:**<br/>\n",
        "- имеем датасет размерностью (354369, 16);\n",
        "- в датасете есть аномалии. Для достижения максимального качества моделей от таких данных лучше избавиться, но для правдоподобности с аномалиями ничего делать не будем;\n",
        "- есть как численные, так и категориальные признаки. Категориальные будет необходимо преобразовать при помощи кодирования;\n",
        "- имеем от 5%  до 20% пропусков. Работа с ними будет проведена на следующих этапах.\n",
        "\n",
        "На следующем шаге проведём предобработку данных - выделим тестовую выборку для проверки, проведём работу с пропусками, сделаем кодирование."
      ]
    },
    {
      "cell_type": "markdown",
      "metadata": {
        "id": "NQMoWRwd7cqG"
      },
      "source": [
        "## Шаг 3 - Подготовка и предобработка данных"
      ]
    },
    {
      "cell_type": "markdown",
      "metadata": {
        "id": "hOV-bn8e7cqH"
      },
      "source": [
        "На данном шаге подготовим данные для моделей"
      ]
    },
    {
      "cell_type": "markdown",
      "metadata": {
        "id": "DZ2uh1Vq7cqN"
      },
      "source": [
        "### Удаление ненужных столбцов"
      ]
    },
    {
      "cell_type": "markdown",
      "metadata": {
        "id": "nrnn0sGz7cqO"
      },
      "source": [
        "Удалим столбцы, которые содержат данные времени, потому как они не несут пользу для моделей, а так же столбец `NumberOfPictures` так как он пустой"
      ]
    },
    {
      "cell_type": "code",
      "execution_count": 12,
      "metadata": {
        "id": "fU_kH5dT7cqQ"
      },
      "outputs": [],
      "source": [
        "# удаление столбцов\n",
        "df = df.drop(['DateCrawled', 'DateCreated', 'LastSeen', 'NumberOfPictures'], axis = 1)"
      ]
    },
    {
      "cell_type": "code",
      "execution_count": 13,
      "metadata": {
        "id": "vkFGHpAS7cqQ",
        "outputId": "bae9e3df-26da-45d3-e493-bc01c90e3922",
        "colab": {
          "base_uri": "https://localhost:8080/",
          "height": 204
        }
      },
      "outputs": [
        {
          "output_type": "execute_result",
          "data": {
            "text/plain": [
              "   Price VehicleType  RegistrationYear Gearbox  Power  Model  Kilometer  \\\n",
              "0    480         NaN              1993  manual      0   golf     150000   \n",
              "1  18300       coupe              2011  manual    190    NaN     125000   \n",
              "2   9800         suv              2004    auto    163  grand     125000   \n",
              "3   1500       small              2001  manual     75   golf     150000   \n",
              "4   3600       small              2008  manual     69  fabia      90000   \n",
              "\n",
              "   RegistrationMonth  FuelType       Brand NotRepaired  PostalCode  \n",
              "0                  0    petrol  volkswagen         NaN       70435  \n",
              "1                  5  gasoline        audi         yes       66954  \n",
              "2                  8  gasoline        jeep         NaN       90480  \n",
              "3                  6    petrol  volkswagen          no       91074  \n",
              "4                  7  gasoline       skoda          no       60437  "
            ],
            "text/html": [
              "\n",
              "  <div id=\"df-99650b77-4552-4825-b732-b44a6683b8a5\">\n",
              "    <div class=\"colab-df-container\">\n",
              "      <div>\n",
              "<style scoped>\n",
              "    .dataframe tbody tr th:only-of-type {\n",
              "        vertical-align: middle;\n",
              "    }\n",
              "\n",
              "    .dataframe tbody tr th {\n",
              "        vertical-align: top;\n",
              "    }\n",
              "\n",
              "    .dataframe thead th {\n",
              "        text-align: right;\n",
              "    }\n",
              "</style>\n",
              "<table border=\"1\" class=\"dataframe\">\n",
              "  <thead>\n",
              "    <tr style=\"text-align: right;\">\n",
              "      <th></th>\n",
              "      <th>Price</th>\n",
              "      <th>VehicleType</th>\n",
              "      <th>RegistrationYear</th>\n",
              "      <th>Gearbox</th>\n",
              "      <th>Power</th>\n",
              "      <th>Model</th>\n",
              "      <th>Kilometer</th>\n",
              "      <th>RegistrationMonth</th>\n",
              "      <th>FuelType</th>\n",
              "      <th>Brand</th>\n",
              "      <th>NotRepaired</th>\n",
              "      <th>PostalCode</th>\n",
              "    </tr>\n",
              "  </thead>\n",
              "  <tbody>\n",
              "    <tr>\n",
              "      <th>0</th>\n",
              "      <td>480</td>\n",
              "      <td>NaN</td>\n",
              "      <td>1993</td>\n",
              "      <td>manual</td>\n",
              "      <td>0</td>\n",
              "      <td>golf</td>\n",
              "      <td>150000</td>\n",
              "      <td>0</td>\n",
              "      <td>petrol</td>\n",
              "      <td>volkswagen</td>\n",
              "      <td>NaN</td>\n",
              "      <td>70435</td>\n",
              "    </tr>\n",
              "    <tr>\n",
              "      <th>1</th>\n",
              "      <td>18300</td>\n",
              "      <td>coupe</td>\n",
              "      <td>2011</td>\n",
              "      <td>manual</td>\n",
              "      <td>190</td>\n",
              "      <td>NaN</td>\n",
              "      <td>125000</td>\n",
              "      <td>5</td>\n",
              "      <td>gasoline</td>\n",
              "      <td>audi</td>\n",
              "      <td>yes</td>\n",
              "      <td>66954</td>\n",
              "    </tr>\n",
              "    <tr>\n",
              "      <th>2</th>\n",
              "      <td>9800</td>\n",
              "      <td>suv</td>\n",
              "      <td>2004</td>\n",
              "      <td>auto</td>\n",
              "      <td>163</td>\n",
              "      <td>grand</td>\n",
              "      <td>125000</td>\n",
              "      <td>8</td>\n",
              "      <td>gasoline</td>\n",
              "      <td>jeep</td>\n",
              "      <td>NaN</td>\n",
              "      <td>90480</td>\n",
              "    </tr>\n",
              "    <tr>\n",
              "      <th>3</th>\n",
              "      <td>1500</td>\n",
              "      <td>small</td>\n",
              "      <td>2001</td>\n",
              "      <td>manual</td>\n",
              "      <td>75</td>\n",
              "      <td>golf</td>\n",
              "      <td>150000</td>\n",
              "      <td>6</td>\n",
              "      <td>petrol</td>\n",
              "      <td>volkswagen</td>\n",
              "      <td>no</td>\n",
              "      <td>91074</td>\n",
              "    </tr>\n",
              "    <tr>\n",
              "      <th>4</th>\n",
              "      <td>3600</td>\n",
              "      <td>small</td>\n",
              "      <td>2008</td>\n",
              "      <td>manual</td>\n",
              "      <td>69</td>\n",
              "      <td>fabia</td>\n",
              "      <td>90000</td>\n",
              "      <td>7</td>\n",
              "      <td>gasoline</td>\n",
              "      <td>skoda</td>\n",
              "      <td>no</td>\n",
              "      <td>60437</td>\n",
              "    </tr>\n",
              "  </tbody>\n",
              "</table>\n",
              "</div>\n",
              "      <button class=\"colab-df-convert\" onclick=\"convertToInteractive('df-99650b77-4552-4825-b732-b44a6683b8a5')\"\n",
              "              title=\"Convert this dataframe to an interactive table.\"\n",
              "              style=\"display:none;\">\n",
              "        \n",
              "  <svg xmlns=\"http://www.w3.org/2000/svg\" height=\"24px\"viewBox=\"0 0 24 24\"\n",
              "       width=\"24px\">\n",
              "    <path d=\"M0 0h24v24H0V0z\" fill=\"none\"/>\n",
              "    <path d=\"M18.56 5.44l.94 2.06.94-2.06 2.06-.94-2.06-.94-.94-2.06-.94 2.06-2.06.94zm-11 1L8.5 8.5l.94-2.06 2.06-.94-2.06-.94L8.5 2.5l-.94 2.06-2.06.94zm10 10l.94 2.06.94-2.06 2.06-.94-2.06-.94-.94-2.06-.94 2.06-2.06.94z\"/><path d=\"M17.41 7.96l-1.37-1.37c-.4-.4-.92-.59-1.43-.59-.52 0-1.04.2-1.43.59L10.3 9.45l-7.72 7.72c-.78.78-.78 2.05 0 2.83L4 21.41c.39.39.9.59 1.41.59.51 0 1.02-.2 1.41-.59l7.78-7.78 2.81-2.81c.8-.78.8-2.07 0-2.86zM5.41 20L4 18.59l7.72-7.72 1.47 1.35L5.41 20z\"/>\n",
              "  </svg>\n",
              "      </button>\n",
              "      \n",
              "  <style>\n",
              "    .colab-df-container {\n",
              "      display:flex;\n",
              "      flex-wrap:wrap;\n",
              "      gap: 12px;\n",
              "    }\n",
              "\n",
              "    .colab-df-convert {\n",
              "      background-color: #E8F0FE;\n",
              "      border: none;\n",
              "      border-radius: 50%;\n",
              "      cursor: pointer;\n",
              "      display: none;\n",
              "      fill: #1967D2;\n",
              "      height: 32px;\n",
              "      padding: 0 0 0 0;\n",
              "      width: 32px;\n",
              "    }\n",
              "\n",
              "    .colab-df-convert:hover {\n",
              "      background-color: #E2EBFA;\n",
              "      box-shadow: 0px 1px 2px rgba(60, 64, 67, 0.3), 0px 1px 3px 1px rgba(60, 64, 67, 0.15);\n",
              "      fill: #174EA6;\n",
              "    }\n",
              "\n",
              "    [theme=dark] .colab-df-convert {\n",
              "      background-color: #3B4455;\n",
              "      fill: #D2E3FC;\n",
              "    }\n",
              "\n",
              "    [theme=dark] .colab-df-convert:hover {\n",
              "      background-color: #434B5C;\n",
              "      box-shadow: 0px 1px 3px 1px rgba(0, 0, 0, 0.15);\n",
              "      filter: drop-shadow(0px 1px 2px rgba(0, 0, 0, 0.3));\n",
              "      fill: #FFFFFF;\n",
              "    }\n",
              "  </style>\n",
              "\n",
              "      <script>\n",
              "        const buttonEl =\n",
              "          document.querySelector('#df-99650b77-4552-4825-b732-b44a6683b8a5 button.colab-df-convert');\n",
              "        buttonEl.style.display =\n",
              "          google.colab.kernel.accessAllowed ? 'block' : 'none';\n",
              "\n",
              "        async function convertToInteractive(key) {\n",
              "          const element = document.querySelector('#df-99650b77-4552-4825-b732-b44a6683b8a5');\n",
              "          const dataTable =\n",
              "            await google.colab.kernel.invokeFunction('convertToInteractive',\n",
              "                                                     [key], {});\n",
              "          if (!dataTable) return;\n",
              "\n",
              "          const docLinkHtml = 'Like what you see? Visit the ' +\n",
              "            '<a target=\"_blank\" href=https://colab.research.google.com/notebooks/data_table.ipynb>data table notebook</a>'\n",
              "            + ' to learn more about interactive tables.';\n",
              "          element.innerHTML = '';\n",
              "          dataTable['output_type'] = 'display_data';\n",
              "          await google.colab.output.renderOutput(dataTable, element);\n",
              "          const docLink = document.createElement('div');\n",
              "          docLink.innerHTML = docLinkHtml;\n",
              "          element.appendChild(docLink);\n",
              "        }\n",
              "      </script>\n",
              "    </div>\n",
              "  </div>\n",
              "  "
            ]
          },
          "metadata": {},
          "execution_count": 13
        }
      ],
      "source": [
        "df.head()"
      ]
    },
    {
      "cell_type": "markdown",
      "metadata": {
        "id": "ylKGmhum7cqS"
      },
      "source": [
        "Столбцы удалены успешно"
      ]
    },
    {
      "cell_type": "markdown",
      "metadata": {
        "id": "kM2GgcFc7cqT"
      },
      "source": [
        "### Заполнение пропусков и работа с аномалиями"
      ]
    },
    {
      "cell_type": "markdown",
      "metadata": {
        "id": "lJc2789Z7cqU"
      },
      "source": [
        "В столбце `NotRepaired`\tпропуски заменим \"заглушкой\", потому как удалять строки с пропусками в этом столбце нецелесообразно - из порядка 20%, а достоврено заполнить у нас нет возможности."
      ]
    },
    {
      "cell_type": "code",
      "execution_count": 14,
      "metadata": {
        "id": "3HNIkNB-7cqb",
        "outputId": "18751b56-e300-4b20-d0fd-d1a9861a0633",
        "colab": {
          "base_uri": "https://localhost:8080/"
        }
      },
      "outputs": [
        {
          "output_type": "execute_result",
          "data": {
            "text/plain": [
              "array(['not_info', 'yes', 'no'], dtype=object)"
            ]
          },
          "metadata": {},
          "execution_count": 14
        }
      ],
      "source": [
        "# Заполнение пропусков заглушкой 'not_info'\n",
        "df['NotRepaired'] = df['NotRepaired'].fillna('not_info')\n",
        "\n",
        "# проверка заполнения\n",
        "df['NotRepaired'].unique()"
      ]
    },
    {
      "cell_type": "markdown",
      "metadata": {
        "id": "As1nhFnv7cqi"
      },
      "source": [
        "Колонку модель так же не представляется заполнить должным образом. Поставим \"Заглушку\"."
      ]
    },
    {
      "cell_type": "code",
      "execution_count": 15,
      "metadata": {
        "id": "qhq6OU2k7cqj",
        "outputId": "3b0aecf4-8615-42e0-b4b6-162df7b6f88b",
        "colab": {
          "base_uri": "https://localhost:8080/"
        }
      },
      "outputs": [
        {
          "output_type": "execute_result",
          "data": {
            "text/plain": [
              "0"
            ]
          },
          "metadata": {},
          "execution_count": 15
        }
      ],
      "source": [
        "# Заполнение пропусков заглушкой 'not_info'\n",
        "df['Model'] = df['Model'].fillna('not_info')\n",
        "\n",
        "# проверка заполнения\n",
        "df['Model'].isna().sum()"
      ]
    },
    {
      "cell_type": "markdown",
      "metadata": {
        "id": "-mO_yCt27cql"
      },
      "source": [
        "Заполнение пропусков прошло успешно "
      ]
    },
    {
      "cell_type": "markdown",
      "metadata": {
        "id": "WfnxhMPd7cqm"
      },
      "source": [
        "Нужно удалить нулевые значения цены и мощности. Также можно задать диапазон по минимальным и максимальным значениям цены и мощности.\n",
        "    \n",
        "Есть аномалии в годе регистрации авто. Год регистрации не может превышать дату скачивания анкеты (2016 год), а также желательно ограничить минимальное значение года на уровне 1950-60 годов.\n",
        "    \n",
        "Рекомендуется удалить колонку с почтовым индексов. Можно конечно индекс перевести в название региона и сделать как категориальную переменную.\n"
      ]
    },
    {
      "cell_type": "markdown",
      "metadata": {
        "id": "lcME8zvk7cqo"
      },
      "source": [
        "Отфильтруем объявления по мощности. Зададим нижнюю границу в 20 л.с., а верхнюю в 500 л.с."
      ]
    },
    {
      "cell_type": "code",
      "execution_count": 16,
      "metadata": {
        "id": "CFp49Exy7cqp",
        "outputId": "521ef41c-8be8-43d5-c4e3-c20219cc5d0e",
        "colab": {
          "base_uri": "https://localhost:8080/",
          "height": 336
        }
      },
      "outputs": [
        {
          "output_type": "display_data",
          "data": {
            "text/plain": [
              "<Figure size 504x360 with 1 Axes>"
            ],
            "image/png": "[encoded data removed]"
          },
          "metadata": {}
        }
      ],
      "source": [
        "# отфильтруем объявления по мощности\n",
        "df = df[(df['Power'] < 500) & (df['Power'] > 20)]\n",
        "\n",
        "# гистограмма по мощности \n",
        "plt.title('Гистограмма Power')\n",
        "df['Power'].hist(figsize=(7,5));"
      ]
    },
    {
      "cell_type": "markdown",
      "metadata": {
        "id": "yoZkMFxE7cqq"
      },
      "source": [
        "Фильтрация по мощности прошло успешно"
      ]
    },
    {
      "cell_type": "markdown",
      "metadata": {
        "id": "fDVdjWE37cqq"
      },
      "source": [
        "Отфильтруем значения по цене"
      ]
    },
    {
      "cell_type": "code",
      "execution_count": 17,
      "metadata": {
        "id": "UQ5wb5WE7cqr",
        "outputId": "4394bf3f-0300-4e6e-d871-4a9f304c834a",
        "colab": {
          "base_uri": "https://localhost:8080/",
          "height": 336
        }
      },
      "outputs": [
        {
          "output_type": "display_data",
          "data": {
            "text/plain": [
              "<Figure size 504x360 with 1 Axes>"
            ],
            "image/png": "[encoded data removed]"
          },
          "metadata": {}
        }
      ],
      "source": [
        "# отфильтруем объявления по цене\n",
        "df = df[df['Price'] > 100]\n",
        "\n",
        "# гистограмма по цене \n",
        "plt.title('Гистограмма Price')\n",
        "df['Price'].hist(figsize=(7,5));"
      ]
    },
    {
      "cell_type": "markdown",
      "metadata": {
        "id": "rKSNneVi7cqs"
      },
      "source": [
        "Фильтрация по цене прошла успешно"
      ]
    },
    {
      "cell_type": "code",
      "execution_count": 18,
      "metadata": {
        "id": "dbkS4a2u7cqt",
        "outputId": "ce4bb4b4-a41d-4bb7-e90a-ab96492ccb92",
        "colab": {
          "base_uri": "https://localhost:8080/",
          "height": 336
        }
      },
      "outputs": [
        {
          "output_type": "display_data",
          "data": {
            "text/plain": [
              "<Figure size 504x360 with 1 Axes>"
            ],
            "image/png": "[encoded data removed]"
          },
          "metadata": {}
        }
      ],
      "source": [
        "# отфильтруем объявления по году\n",
        "df = df[(df['RegistrationYear'] > 1960) &  (df['RegistrationYear'] < 2016)]\n",
        "\n",
        "# гистограмма по году \n",
        "plt.title('Гистограмма RegistrationYear')\n",
        "df['RegistrationYear'].hist(figsize=(7,5));"
      ]
    },
    {
      "cell_type": "markdown",
      "metadata": {
        "id": "YO0DPUcI7cqu"
      },
      "source": [
        "Фильтрация по году прошла успешно"
      ]
    },
    {
      "cell_type": "markdown",
      "metadata": {
        "id": "Uc-jRLma7cqv"
      },
      "source": [
        "Удаление колонок"
      ]
    },
    {
      "cell_type": "code",
      "execution_count": 19,
      "metadata": {
        "id": "ZzD_i6cT7cqv",
        "outputId": "1e9abcd1-8b0c-4882-9a69-c854948f8618",
        "colab": {
          "base_uri": "https://localhost:8080/",
          "height": 204
        }
      },
      "outputs": [
        {
          "output_type": "execute_result",
          "data": {
            "text/plain": [
              "   Price VehicleType  RegistrationYear Gearbox  Power     Model  Kilometer  \\\n",
              "1  18300       coupe              2011  manual    190  not_info     125000   \n",
              "2   9800         suv              2004    auto    163     grand     125000   \n",
              "3   1500       small              2001  manual     75      golf     150000   \n",
              "4   3600       small              2008  manual     69     fabia      90000   \n",
              "5    650       sedan              1995  manual    102       3er     150000   \n",
              "\n",
              "   FuelType       Brand NotRepaired  \n",
              "1  gasoline        audi         yes  \n",
              "2  gasoline        jeep    not_info  \n",
              "3    petrol  volkswagen          no  \n",
              "4  gasoline       skoda          no  \n",
              "5    petrol         bmw         yes  "
            ],
            "text/html": [
              "\n",
              "  <div id=\"df-58893994-cf43-40a8-94a4-5d27edcb3350\">\n",
              "    <div class=\"colab-df-container\">\n",
              "      <div>\n",
              "<style scoped>\n",
              "    .dataframe tbody tr th:only-of-type {\n",
              "        vertical-align: middle;\n",
              "    }\n",
              "\n",
              "    .dataframe tbody tr th {\n",
              "        vertical-align: top;\n",
              "    }\n",
              "\n",
              "    .dataframe thead th {\n",
              "        text-align: right;\n",
              "    }\n",
              "</style>\n",
              "<table border=\"1\" class=\"dataframe\">\n",
              "  <thead>\n",
              "    <tr style=\"text-align: right;\">\n",
              "      <th></th>\n",
              "      <th>Price</th>\n",
              "      <th>VehicleType</th>\n",
              "      <th>RegistrationYear</th>\n",
              "      <th>Gearbox</th>\n",
              "      <th>Power</th>\n",
              "      <th>Model</th>\n",
              "      <th>Kilometer</th>\n",
              "      <th>FuelType</th>\n",
              "      <th>Brand</th>\n",
              "      <th>NotRepaired</th>\n",
              "    </tr>\n",
              "  </thead>\n",
              "  <tbody>\n",
              "    <tr>\n",
              "      <th>1</th>\n",
              "      <td>18300</td>\n",
              "      <td>coupe</td>\n",
              "      <td>2011</td>\n",
              "      <td>manual</td>\n",
              "      <td>190</td>\n",
              "      <td>not_info</td>\n",
              "      <td>125000</td>\n",
              "      <td>gasoline</td>\n",
              "      <td>audi</td>\n",
              "      <td>yes</td>\n",
              "    </tr>\n",
              "    <tr>\n",
              "      <th>2</th>\n",
              "      <td>9800</td>\n",
              "      <td>suv</td>\n",
              "      <td>2004</td>\n",
              "      <td>auto</td>\n",
              "      <td>163</td>\n",
              "      <td>grand</td>\n",
              "      <td>125000</td>\n",
              "      <td>gasoline</td>\n",
              "      <td>jeep</td>\n",
              "      <td>not_info</td>\n",
              "    </tr>\n",
              "    <tr>\n",
              "      <th>3</th>\n",
              "      <td>1500</td>\n",
              "      <td>small</td>\n",
              "      <td>2001</td>\n",
              "      <td>manual</td>\n",
              "      <td>75</td>\n",
              "      <td>golf</td>\n",
              "      <td>150000</td>\n",
              "      <td>petrol</td>\n",
              "      <td>volkswagen</td>\n",
              "      <td>no</td>\n",
              "    </tr>\n",
              "    <tr>\n",
              "      <th>4</th>\n",
              "      <td>3600</td>\n",
              "      <td>small</td>\n",
              "      <td>2008</td>\n",
              "      <td>manual</td>\n",
              "      <td>69</td>\n",
              "      <td>fabia</td>\n",
              "      <td>90000</td>\n",
              "      <td>gasoline</td>\n",
              "      <td>skoda</td>\n",
              "      <td>no</td>\n",
              "    </tr>\n",
              "    <tr>\n",
              "      <th>5</th>\n",
              "      <td>650</td>\n",
              "      <td>sedan</td>\n",
              "      <td>1995</td>\n",
              "      <td>manual</td>\n",
              "      <td>102</td>\n",
              "      <td>3er</td>\n",
              "      <td>150000</td>\n",
              "      <td>petrol</td>\n",
              "      <td>bmw</td>\n",
              "      <td>yes</td>\n",
              "    </tr>\n",
              "  </tbody>\n",
              "</table>\n",
              "</div>\n",
              "      <button class=\"colab-df-convert\" onclick=\"convertToInteractive('df-58893994-cf43-40a8-94a4-5d27edcb3350')\"\n",
              "              title=\"Convert this dataframe to an interactive table.\"\n",
              "              style=\"display:none;\">\n",
              "        \n",
              "  <svg xmlns=\"http://www.w3.org/2000/svg\" height=\"24px\"viewBox=\"0 0 24 24\"\n",
              "       width=\"24px\">\n",
              "    <path d=\"M0 0h24v24H0V0z\" fill=\"none\"/>\n",
              "    <path d=\"M18.56 5.44l.94 2.06.94-2.06 2.06-.94-2.06-.94-.94-2.06-.94 2.06-2.06.94zm-11 1L8.5 8.5l.94-2.06 2.06-.94-2.06-.94L8.5 2.5l-.94 2.06-2.06.94zm10 10l.94 2.06.94-2.06 2.06-.94-2.06-.94-.94-2.06-.94 2.06-2.06.94z\"/><path d=\"M17.41 7.96l-1.37-1.37c-.4-.4-.92-.59-1.43-.59-.52 0-1.04.2-1.43.59L10.3 9.45l-7.72 7.72c-.78.78-.78 2.05 0 2.83L4 21.41c.39.39.9.59 1.41.59.51 0 1.02-.2 1.41-.59l7.78-7.78 2.81-2.81c.8-.78.8-2.07 0-2.86zM5.41 20L4 18.59l7.72-7.72 1.47 1.35L5.41 20z\"/>\n",
              "  </svg>\n",
              "      </button>\n",
              "      \n",
              "  <style>\n",
              "    .colab-df-container {\n",
              "      display:flex;\n",
              "      flex-wrap:wrap;\n",
              "      gap: 12px;\n",
              "    }\n",
              "\n",
              "    .colab-df-convert {\n",
              "      background-color: #E8F0FE;\n",
              "      border: none;\n",
              "      border-radius: 50%;\n",
              "      cursor: pointer;\n",
              "      display: none;\n",
              "      fill: #1967D2;\n",
              "      height: 32px;\n",
              "      padding: 0 0 0 0;\n",
              "      width: 32px;\n",
              "    }\n",
              "\n",
              "    .colab-df-convert:hover {\n",
              "      background-color: #E2EBFA;\n",
              "      box-shadow: 0px 1px 2px rgba(60, 64, 67, 0.3), 0px 1px 3px 1px rgba(60, 64, 67, 0.15);\n",
              "      fill: #174EA6;\n",
              "    }\n",
              "\n",
              "    [theme=dark] .colab-df-convert {\n",
              "      background-color: #3B4455;\n",
              "      fill: #D2E3FC;\n",
              "    }\n",
              "\n",
              "    [theme=dark] .colab-df-convert:hover {\n",
              "      background-color: #434B5C;\n",
              "      box-shadow: 0px 1px 3px 1px rgba(0, 0, 0, 0.15);\n",
              "      filter: drop-shadow(0px 1px 2px rgba(0, 0, 0, 0.3));\n",
              "      fill: #FFFFFF;\n",
              "    }\n",
              "  </style>\n",
              "\n",
              "      <script>\n",
              "        const buttonEl =\n",
              "          document.querySelector('#df-58893994-cf43-40a8-94a4-5d27edcb3350 button.colab-df-convert');\n",
              "        buttonEl.style.display =\n",
              "          google.colab.kernel.accessAllowed ? 'block' : 'none';\n",
              "\n",
              "        async function convertToInteractive(key) {\n",
              "          const element = document.querySelector('#df-58893994-cf43-40a8-94a4-5d27edcb3350');\n",
              "          const dataTable =\n",
              "            await google.colab.kernel.invokeFunction('convertToInteractive',\n",
              "                                                     [key], {});\n",
              "          if (!dataTable) return;\n",
              "\n",
              "          const docLinkHtml = 'Like what you see? Visit the ' +\n",
              "            '<a target=\"_blank\" href=https://colab.research.google.com/notebooks/data_table.ipynb>data table notebook</a>'\n",
              "            + ' to learn more about interactive tables.';\n",
              "          element.innerHTML = '';\n",
              "          dataTable['output_type'] = 'display_data';\n",
              "          await google.colab.output.renderOutput(dataTable, element);\n",
              "          const docLink = document.createElement('div');\n",
              "          docLink.innerHTML = docLinkHtml;\n",
              "          element.appendChild(docLink);\n",
              "        }\n",
              "      </script>\n",
              "    </div>\n",
              "  </div>\n",
              "  "
            ]
          },
          "metadata": {},
          "execution_count": 19
        }
      ],
      "source": [
        "# удалим колонку с почтовым индексом\n",
        "df = df.drop(['PostalCode', 'RegistrationMonth'], axis = 1)\n",
        "df.head()"
      ]
    },
    {
      "cell_type": "markdown",
      "metadata": {
        "id": "0zBsoQET7cqw"
      },
      "source": [
        "Удаление столбца прошло успешно"
      ]
    },
    {
      "cell_type": "markdown",
      "metadata": {
        "id": "KeXmLuXI7cqx"
      },
      "source": [
        "Провекра на дубликаты"
      ]
    },
    {
      "cell_type": "code",
      "execution_count": 20,
      "metadata": {
        "id": "Y86HPGJ97cqy",
        "outputId": "a62a9312-e963-4391-ce39-9fb3c5d38178",
        "colab": {
          "base_uri": "https://localhost:8080/"
        }
      },
      "outputs": [
        {
          "output_type": "execute_result",
          "data": {
            "text/plain": [
              "38633"
            ]
          },
          "metadata": {},
          "execution_count": 20
        }
      ],
      "source": [
        "# проверка на дубликаты \n",
        "df.duplicated().sum()"
      ]
    },
    {
      "cell_type": "markdown",
      "metadata": {
        "id": "s8SyVg207cqz"
      },
      "source": [
        "Удаление дубликатов"
      ]
    },
    {
      "cell_type": "code",
      "execution_count": 21,
      "metadata": {
        "id": "32ZH_whq7cqz",
        "outputId": "fb448f34-2b91-4e5e-ceb8-a71661266f35",
        "colab": {
          "base_uri": "https://localhost:8080/"
        }
      },
      "outputs": [
        {
          "output_type": "execute_result",
          "data": {
            "text/plain": [
              "0"
            ]
          },
          "metadata": {},
          "execution_count": 21
        }
      ],
      "source": [
        "# удаление дубликатов\n",
        "df = df.drop_duplicates(ignore_index = True)\n",
        "df.duplicated().sum()"
      ]
    },
    {
      "cell_type": "markdown",
      "metadata": {
        "id": "OC-BuvM57cq0"
      },
      "source": [
        "Удаление дубликатов прошло успешно"
      ]
    },
    {
      "cell_type": "markdown",
      "metadata": {
        "id": "5BdbA5zm7cq1"
      },
      "source": [
        "### Разделение на train и test"
      ]
    },
    {
      "cell_type": "markdown",
      "metadata": {
        "id": "d8EjnwFF7cq1"
      },
      "source": [
        "Разделим данные на тренировочную и тестовую выборки. Тестовую \"отложим в сторонку\", как будто эта часть данных нам неизвестна."
      ]
    },
    {
      "cell_type": "code",
      "execution_count": 22,
      "metadata": {
        "id": "ixvQImtv7cq2"
      },
      "outputs": [],
      "source": [
        "# обозначим фичи и таргет\n",
        "X = ['VehicleType', 'RegistrationYear', 'Gearbox', 'Power', \n",
        "     'Model', 'Kilometer', 'FuelType', \n",
        "     'Brand', 'NotRepaired']\n",
        "       \n",
        "y = ['Price']"
      ]
    },
    {
      "cell_type": "code",
      "execution_count": 23,
      "metadata": {
        "id": "lK3B2eyR7cq2"
      },
      "outputs": [],
      "source": [
        "# разделим на train и test\n",
        "X_train, X_test, y_train, y_test = train_test_split(df[X], df[y], \n",
        "                                                    train_size=0.8, \n",
        "                                                    test_size=0.2, \n",
        "                                                    random_state=1)"
      ]
    },
    {
      "cell_type": "code",
      "execution_count": 24,
      "metadata": {
        "id": "eOi9WJKv7cq3",
        "outputId": "9d6ef384-38a1-4bd7-98bc-f92ae4f1e1c3",
        "colab": {
          "base_uri": "https://localhost:8080/"
        }
      },
      "outputs": [
        {
          "output_type": "execute_result",
          "data": {
            "text/plain": [
              "0.7999967901264289"
            ]
          },
          "metadata": {},
          "execution_count": 24
        }
      ],
      "source": [
        "# проверка правильности разделения\n",
        "#  в результате должно быть 0.8\n",
        "len(X_train) / (len(X_train) + len(X_test))"
      ]
    },
    {
      "cell_type": "markdown",
      "metadata": {
        "id": "lKo7G3WL7cq4"
      },
      "source": [
        "Разделение прошло успешно"
      ]
    },
    {
      "cell_type": "markdown",
      "metadata": {
        "id": "yHWW9F2v7cq5"
      },
      "source": [
        "### Заполнение пропусков_2"
      ]
    },
    {
      "cell_type": "markdown",
      "metadata": {
        "id": "4Aa_S7-g7cq5"
      },
      "source": [
        "Создадим класс для заполнения пропусков самым частым значением (most frequent)"
      ]
    },
    {
      "cell_type": "code",
      "execution_count": 25,
      "metadata": {
        "id": "BeaFTeR_7cq6"
      },
      "outputs": [],
      "source": [
        "from sklearn.base import TransformerMixin\n",
        "\n",
        "class SeriesImputer(TransformerMixin):\n",
        "\n",
        "    def __init__(self):\n",
        "        \"\"\"Заполняет пропуски самым часто встречающимся значением\"\"\"\n",
        "\n",
        "    def fit(self, X, y=None):\n",
        "        if X.dtype == np.dtype('O'): \n",
        "            self.fill = X.value_counts().index[0]\n",
        "        \n",
        "        return self\n",
        "    \n",
        "    def transform(self, X, y=None):\n",
        "        return X.fillna(self.fill)"
      ]
    },
    {
      "cell_type": "markdown",
      "metadata": {
        "id": "KMLrWcyg7cq7"
      },
      "source": [
        "Заполним пропуски"
      ]
    },
    {
      "cell_type": "code",
      "execution_count": 26,
      "metadata": {
        "id": "2Rz-bKdS7cq7"
      },
      "outputs": [],
      "source": [
        "# столбец 'VehicleType'\n",
        "imputer_vt = SeriesImputer()\n",
        "imputer_vt.fit(X_train['VehicleType'])\n",
        "\n",
        "X_train['VehicleType'] = imputer_vt.transform(X_train['VehicleType'])\n",
        "X_test['VehicleType'] = imputer_vt.transform(X_test['VehicleType'])"
      ]
    },
    {
      "cell_type": "code",
      "execution_count": 27,
      "metadata": {
        "id": "-sUixCgz7cq8"
      },
      "outputs": [],
      "source": [
        "# столбец 'FuelType'\n",
        "imputer_ft = SeriesImputer()\n",
        "imputer_ft.fit(X_train['FuelType'])\n",
        "\n",
        "X_train['FuelType'] = imputer_ft.transform(X_train['FuelType'])\n",
        "X_test['FuelType'] = imputer_ft.transform(X_test['FuelType'])"
      ]
    },
    {
      "cell_type": "code",
      "execution_count": 28,
      "metadata": {
        "id": "nivX_QK87cq9"
      },
      "outputs": [],
      "source": [
        "# столбец 'Gearbox'\n",
        "imputer_gb = SeriesImputer()\n",
        "imputer_gb.fit(X_train['Gearbox'])\n",
        "\n",
        "X_train['Gearbox'] = imputer_gb.transform(X_train['Gearbox'])\n",
        "X_test['Gearbox'] = imputer_gb.transform(X_test['Gearbox'])"
      ]
    },
    {
      "cell_type": "markdown",
      "metadata": {
        "id": "aotFPuM77cq-"
      },
      "source": [
        "Проверим заполнение пропусков"
      ]
    },
    {
      "cell_type": "code",
      "execution_count": 29,
      "metadata": {
        "id": "3toCMeG47cq-",
        "outputId": "7580303d-0eb1-40a8-a934-b3c495ca0c47",
        "colab": {
          "base_uri": "https://localhost:8080/"
        }
      },
      "outputs": [
        {
          "output_type": "stream",
          "name": "stdout",
          "text": [
            "Пропуски в X_train: 0\n",
            "Пропуски в X_test: 0\n"
          ]
        }
      ],
      "source": [
        "# выведем колмчесвто прпоусков на экран\n",
        "print(\"Пропуски в X_train:\", X_train.isna().sum().sum())\n",
        "print(\"Пропуски в X_test:\", X_test.isna().sum().sum())"
      ]
    },
    {
      "cell_type": "markdown",
      "metadata": {
        "id": "P2anQVlO7cq_"
      },
      "source": [
        "Заполнение пропусков прошло успешно"
      ]
    },
    {
      "cell_type": "markdown",
      "metadata": {
        "id": "-fKYBtia7crB"
      },
      "source": [
        "### Кодирование категориальных переменных"
      ]
    },
    {
      "cell_type": "markdown",
      "metadata": {
        "id": "AKqehD007crC"
      },
      "source": [
        "Ввиду того как мы используем модели деревьев, будем использовать `OrdinalEncoder`"
      ]
    },
    {
      "cell_type": "code",
      "execution_count": 30,
      "metadata": {
        "id": "awALbntv7crC"
      },
      "outputs": [],
      "source": [
        "# объявим список категориальных столбцов\n",
        "object_cols = ['VehicleType', 'Gearbox', 'Model', 'FuelType', 'Brand', 'NotRepaired']"
      ]
    },
    {
      "cell_type": "code",
      "execution_count": 31,
      "metadata": {
        "id": "dlBA7OKW7crC"
      },
      "outputs": [],
      "source": [
        "# проведём кодирование\n",
        "ordinal_encoder = OrdinalEncoder(handle_unknown='use_encoded_value', unknown_value=-1)\n",
        "\n",
        "# создадим копию сетов\n",
        "X_train_code = X_train.copy()\n",
        "X_test_code = X_test.copy()\n",
        "\n",
        "X_train_code[object_cols] = ordinal_encoder.fit_transform(X_train_code[object_cols])\n",
        "X_test_code[object_cols] = ordinal_encoder.transform(X_test_code[object_cols])"
      ]
    },
    {
      "cell_type": "markdown",
      "metadata": {
        "id": "Cr0vid8B7crD"
      },
      "source": [
        "Кодирование проведено успешно"
      ]
    },
    {
      "cell_type": "markdown",
      "metadata": {
        "id": "nb6kxZ6Z7crE"
      },
      "source": [
        "### Выводы по Шагу 3"
      ]
    },
    {
      "cell_type": "markdown",
      "metadata": {
        "id": "pcFklrYU7crE"
      },
      "source": [
        "На данном шаге: <br/>\n",
        "- удалили столбцы, которые не понадобятся в обучении;\n",
        "- разделили на тренировочную и тестовую выборки;\n",
        "- заполнили пропуски путем \"заглушек\" и наиболее частых значений;\n",
        "- провели кодирвоание категориальных переменных.\n",
        "\n",
        "На следующем шаге обучим модели и подберём оптимальные гиперпараметры"
      ]
    },
    {
      "cell_type": "markdown",
      "metadata": {
        "id": "oSuVmu7y7crE"
      },
      "source": [
        "## Шаг 4 - Обучение моделей"
      ]
    },
    {
      "cell_type": "markdown",
      "metadata": {
        "id": "GhlM4DBw7crF"
      },
      "source": [
        "### Дерево решений"
      ]
    },
    {
      "cell_type": "markdown",
      "metadata": {
        "id": "G1aoVDaS7crF"
      },
      "source": [
        "На кросс-валидации подберём лучший параметр"
      ]
    },
    {
      "cell_type": "code",
      "execution_count": 34,
      "metadata": {
        "id": "AAZaZX5d7crG",
        "outputId": "759eb558-12ed-4300-c4f0-3ce8450ddace",
        "colab": {
          "base_uri": "https://localhost:8080/"
        }
      },
      "outputs": [
        {
          "output_type": "stream",
          "name": "stdout",
          "text": [
            "CPU times: user 747 ms, sys: 53.5 ms, total: 801 ms\n",
            "Wall time: 9.63 s\n"
          ]
        }
      ],
      "source": [
        "%%time\n",
        "model_tr = DecisionTreeRegressor(random_state = 1)\n",
        "\n",
        "parametrs = {'max_depth': range (1,15,2)}  \n",
        "\n",
        "grid = GridSearchCV(model_tr, parametrs, cv=5, n_jobs=-1)\n",
        "\n",
        "grid.fit(X_train_code, y_train)\n",
        "\n",
        "best_tr = grid.best_params_\n",
        "best_tr "
      ]
    },
    {
      "cell_type": "markdown",
      "metadata": {
        "id": "SGYoBElp7crG"
      },
      "source": [
        "Обучим модель и посчитаем метрику RMSE"
      ]
    },
    {
      "cell_type": "code",
      "execution_count": 35,
      "metadata": {
        "id": "EjmrgWU87crH",
        "outputId": "2bb4e7fd-2847-41f2-f40f-20fef11c6967",
        "colab": {
          "base_uri": "https://localhost:8080/"
        }
      },
      "outputs": [
        {
          "output_type": "stream",
          "name": "stdout",
          "text": [
            "CPU times: user 2 µs, sys: 0 ns, total: 2 µs\n",
            "Wall time: 6.2 µs\n"
          ]
        },
        {
          "output_type": "execute_result",
          "data": {
            "text/plain": [
              "1832.7509976503784"
            ]
          },
          "metadata": {},
          "execution_count": 35
        }
      ],
      "source": [
        "%time\n",
        "model_tr = DecisionTreeRegressor(random_state = 1, \n",
        "                                 max_depth = best_tr['max_depth'])\n",
        "\n",
        "model_tr.fit(X_train_code, y_train)\n",
        "result_tr = model_tr.predict(X_test_code)\n",
        "mean_squared_error(y_test, result_tr, squared=False)"
      ]
    },
    {
      "cell_type": "markdown",
      "metadata": {
        "id": "ZWbCBn5o7crH"
      },
      "source": [
        "### Случайный лес"
      ]
    },
    {
      "cell_type": "markdown",
      "metadata": {
        "id": "EGQWHZYf7crI"
      },
      "source": [
        "Кросс-валидация на случайном лесе занимает очень много времени. Поэтому примем глубину дерева равной 13, а количесвто n_estimators оставим дефолтным."
      ]
    },
    {
      "cell_type": "code",
      "execution_count": 36,
      "metadata": {
        "id": "keUEBw_W7crI",
        "outputId": "f246c0ea-b598-4da4-9ebf-b9e54a89d48d",
        "colab": {
          "base_uri": "https://localhost:8080/"
        }
      },
      "outputs": [
        {
          "output_type": "stream",
          "name": "stdout",
          "text": [
            "CPU times: user 35.4 s, sys: 4.49 ms, total: 35.4 s\n",
            "Wall time: 36.7 s\n"
          ]
        }
      ],
      "source": [
        "%%time\n",
        "model_fr = RandomForestRegressor(random_state = 1, n_estimators=100, max_depth=13)\n",
        "model_fr.fit(X_train_code, y_train)\n",
        "result_fr = model_fr.predict(X_test_code)\n"
      ]
    },
    {
      "cell_type": "code",
      "source": [
        "# RMSE на test для случайного леса\n",
        "(y_test, result_fr, squared=False)"
      ],
      "metadata": {
        "colab": {
          "base_uri": "https://localhost:8080/"
        },
        "id": "WFoDBcTJowtO",
        "outputId": "872d3828-bcaf-40a3-bfdb-ec04ca89a40c"
      },
      "execution_count": 37,
      "outputs": [
        {
          "output_type": "execute_result",
          "data": {
            "text/plain": [
              "1665.4860273476183"
            ]
          },
          "metadata": {},
          "execution_count": 37
        }
      ]
    },
    {
      "cell_type": "markdown",
      "metadata": {
        "id": "8G0Xkvq37crJ"
      },
      "source": [
        "### Light GBM"
      ]
    },
    {
      "cell_type": "code",
      "execution_count": null,
      "metadata": {
        "id": "ghVoo7C67crL"
      },
      "outputs": [],
      "source": [
        "# кодирование категориальных фичей\n",
        "X_train[object_cols] = X_train[object_cols].astype('category')\n",
        "X_test[object_cols] = X_test[object_cols].astype('category')"
      ]
    },
    {
      "cell_type": "markdown",
      "metadata": {
        "id": "9MLhBYb77crM"
      },
      "source": [
        "Обучим модель LightGBM"
      ]
    },
    {
      "cell_type": "code",
      "execution_count": null,
      "metadata": {
        "scrolled": true,
        "id": "_6eNsZLq7crM"
      },
      "outputs": [],
      "source": [
        "%%time\n",
        "train_dataset = lgb.Dataset(X_train, y_train, feature_name=X)\n",
        "valid_dataset = lgb.Dataset(X_test,  y_test, feature_name=X)\n",
        "\n",
        "booster = lgb.train({\"objective\": \"regression\"},\n",
        "                    train_set=train_dataset, valid_sets=(valid_dataset,),\n",
        "                    num_boost_round=100)"
      ]
    },
    {
      "cell_type": "code",
      "execution_count": null,
      "metadata": {
        "id": "0ZNm3raZ7crN",
        "outputId": "4fc45934-291f-465b-a302-e7bc839a9d3f"
      },
      "outputs": [
        {
          "data": {
            "text/plain": [
              "1575.271281226678"
            ]
          },
          "execution_count": 370,
          "metadata": {},
          "output_type": "execute_result"
        }
      ],
      "source": [
        "# предсказание и расчёт метрики RMSE\n",
        "test_preds = booster.predict(X_test)\n",
        "mean_squared_error(y_test, test_preds, squared=False)"
      ]
    },
    {
      "cell_type": "markdown",
      "source": [
        "### CatBoost"
      ],
      "metadata": {
        "id": "xt-KpNjNOclJ"
      }
    },
    {
      "cell_type": "code",
      "source": [
        "# создание Pool\n",
        "train_data = Pool (data = X_train_code,\n",
        "                   label = y_train)"
      ],
      "metadata": {
        "id": "6nXUP5E6x7wL"
      },
      "execution_count": 38,
      "outputs": []
    },
    {
      "cell_type": "markdown",
      "source": [
        "Эмпирически подобрали такой learning_rate, при котором точка переробучения случается ближе к 1000 итераций на кросс-валдиации (982 итерации)"
      ],
      "metadata": {
        "id": "sPUESsKHptxj"
      }
    },
    {
      "cell_type": "code",
      "source": [
        "# Словарь параметров \n",
        "params = {'eval_metric' : 'RMSE',\n",
        "          'iterations' : 982,\n",
        "          'loss_function':'RMSE',\n",
        "          'learning_rate' : 0.37,\n",
        "          'random_seed' : 1,\n",
        "          'verbose' : 100}"
      ],
      "metadata": {
        "id": "txjcMx2o0T7a"
      },
      "execution_count": 39,
      "outputs": []
    },
    {
      "cell_type": "code",
      "source": [
        "# кросс-валидация\n",
        "cv_data = cv(\n",
        "                params = params,\n",
        "                pool=train_data,  \n",
        "                fold_count=5,\n",
        "                shuffle=True,\n",
        "                partition_random_seed=0,\n",
        "                verbose=False,\n",
        "                early_stopping_rounds=200\n",
        "            )"
      ],
      "metadata": {
        "colab": {
          "base_uri": "https://localhost:8080/"
        },
        "id": "mw_w4lAOz8I2",
        "outputId": "e606f555-f827-42a3-d86a-8ad2b0bc3f15"
      },
      "execution_count": 40,
      "outputs": [
        {
          "output_type": "stream",
          "name": "stdout",
          "text": [
            "Training on fold [0/5]\n",
            "\n",
            "bestTest = 1578.456031\n",
            "bestIteration = 977\n",
            "\n",
            "Training on fold [1/5]\n",
            "\n",
            "bestTest = 1562.111659\n",
            "bestIteration = 879\n",
            "\n",
            "Training on fold [2/5]\n",
            "\n",
            "bestTest = 1573.778025\n",
            "bestIteration = 919\n",
            "\n",
            "Training on fold [3/5]\n",
            "\n",
            "bestTest = 1587.946794\n",
            "bestIteration = 925\n",
            "\n",
            "Training on fold [4/5]\n",
            "\n",
            "bestTest = 1587.892737\n",
            "bestIteration = 975\n",
            "\n"
          ]
        }
      ]
    },
    {
      "cell_type": "code",
      "source": [
        "#  датасет после кросс-валидации\n",
        "cv_data\n",
        "min_rmse=cv_data['test-RMSE-mean'].min()\n",
        "cv_data[cv_data['test-RMSE-mean'] == min_rmse]"
      ],
      "metadata": {
        "colab": {
          "base_uri": "https://localhost:8080/",
          "height": 80
        },
        "id": "M6RlOIF232R2",
        "outputId": "bc6a4ef9-73ba-4e4d-deee-3b8429f9abac"
      },
      "execution_count": 41,
      "outputs": [
        {
          "output_type": "execute_result",
          "data": {
            "text/plain": [
              "     iterations  test-RMSE-mean  test-RMSE-std  train-RMSE-mean  \\\n",
              "978         978     1578.320143      10.702457      1372.562117   \n",
              "\n",
              "     train-RMSE-std  \n",
              "978        1.718191  "
            ],
            "text/html": [
              "\n",
              "  <div id=\"df-35fc2b24-b7a6-42db-ab64-956c44b7a8e9\">\n",
              "    <div class=\"colab-df-container\">\n",
              "      <div>\n",
              "<style scoped>\n",
              "    .dataframe tbody tr th:only-of-type {\n",
              "        vertical-align: middle;\n",
              "    }\n",
              "\n",
              "    .dataframe tbody tr th {\n",
              "        vertical-align: top;\n",
              "    }\n",
              "\n",
              "    .dataframe thead th {\n",
              "        text-align: right;\n",
              "    }\n",
              "</style>\n",
              "<table border=\"1\" class=\"dataframe\">\n",
              "  <thead>\n",
              "    <tr style=\"text-align: right;\">\n",
              "      <th></th>\n",
              "      <th>iterations</th>\n",
              "      <th>test-RMSE-mean</th>\n",
              "      <th>test-RMSE-std</th>\n",
              "      <th>train-RMSE-mean</th>\n",
              "      <th>train-RMSE-std</th>\n",
              "    </tr>\n",
              "  </thead>\n",
              "  <tbody>\n",
              "    <tr>\n",
              "      <th>978</th>\n",
              "      <td>978</td>\n",
              "      <td>1578.320143</td>\n",
              "      <td>10.702457</td>\n",
              "      <td>1372.562117</td>\n",
              "      <td>1.718191</td>\n",
              "    </tr>\n",
              "  </tbody>\n",
              "</table>\n",
              "</div>\n",
              "      <button class=\"colab-df-convert\" onclick=\"convertToInteractive('df-35fc2b24-b7a6-42db-ab64-956c44b7a8e9')\"\n",
              "              title=\"Convert this dataframe to an interactive table.\"\n",
              "              style=\"display:none;\">\n",
              "        \n",
              "  <svg xmlns=\"http://www.w3.org/2000/svg\" height=\"24px\"viewBox=\"0 0 24 24\"\n",
              "       width=\"24px\">\n",
              "    <path d=\"M0 0h24v24H0V0z\" fill=\"none\"/>\n",
              "    <path d=\"M18.56 5.44l.94 2.06.94-2.06 2.06-.94-2.06-.94-.94-2.06-.94 2.06-2.06.94zm-11 1L8.5 8.5l.94-2.06 2.06-.94-2.06-.94L8.5 2.5l-.94 2.06-2.06.94zm10 10l.94 2.06.94-2.06 2.06-.94-2.06-.94-.94-2.06-.94 2.06-2.06.94z\"/><path d=\"M17.41 7.96l-1.37-1.37c-.4-.4-.92-.59-1.43-.59-.52 0-1.04.2-1.43.59L10.3 9.45l-7.72 7.72c-.78.78-.78 2.05 0 2.83L4 21.41c.39.39.9.59 1.41.59.51 0 1.02-.2 1.41-.59l7.78-7.78 2.81-2.81c.8-.78.8-2.07 0-2.86zM5.41 20L4 18.59l7.72-7.72 1.47 1.35L5.41 20z\"/>\n",
              "  </svg>\n",
              "      </button>\n",
              "      \n",
              "  <style>\n",
              "    .colab-df-container {\n",
              "      display:flex;\n",
              "      flex-wrap:wrap;\n",
              "      gap: 12px;\n",
              "    }\n",
              "\n",
              "    .colab-df-convert {\n",
              "      background-color: #E8F0FE;\n",
              "      border: none;\n",
              "      border-radius: 50%;\n",
              "      cursor: pointer;\n",
              "      display: none;\n",
              "      fill: #1967D2;\n",
              "      height: 32px;\n",
              "      padding: 0 0 0 0;\n",
              "      width: 32px;\n",
              "    }\n",
              "\n",
              "    .colab-df-convert:hover {\n",
              "      background-color: #E2EBFA;\n",
              "      box-shadow: 0px 1px 2px rgba(60, 64, 67, 0.3), 0px 1px 3px 1px rgba(60, 64, 67, 0.15);\n",
              "      fill: #174EA6;\n",
              "    }\n",
              "\n",
              "    [theme=dark] .colab-df-convert {\n",
              "      background-color: #3B4455;\n",
              "      fill: #D2E3FC;\n",
              "    }\n",
              "\n",
              "    [theme=dark] .colab-df-convert:hover {\n",
              "      background-color: #434B5C;\n",
              "      box-shadow: 0px 1px 3px 1px rgba(0, 0, 0, 0.15);\n",
              "      filter: drop-shadow(0px 1px 2px rgba(0, 0, 0, 0.3));\n",
              "      fill: #FFFFFF;\n",
              "    }\n",
              "  </style>\n",
              "\n",
              "      <script>\n",
              "        const buttonEl =\n",
              "          document.querySelector('#df-35fc2b24-b7a6-42db-ab64-956c44b7a8e9 button.colab-df-convert');\n",
              "        buttonEl.style.display =\n",
              "          google.colab.kernel.accessAllowed ? 'block' : 'none';\n",
              "\n",
              "        async function convertToInteractive(key) {\n",
              "          const element = document.querySelector('#df-35fc2b24-b7a6-42db-ab64-956c44b7a8e9');\n",
              "          const dataTable =\n",
              "            await google.colab.kernel.invokeFunction('convertToInteractive',\n",
              "                                                     [key], {});\n",
              "          if (!dataTable) return;\n",
              "\n",
              "          const docLinkHtml = 'Like what you see? Visit the ' +\n",
              "            '<a target=\"_blank\" href=https://colab.research.google.com/notebooks/data_table.ipynb>data table notebook</a>'\n",
              "            + ' to learn more about interactive tables.';\n",
              "          element.innerHTML = '';\n",
              "          dataTable['output_type'] = 'display_data';\n",
              "          await google.colab.output.renderOutput(dataTable, element);\n",
              "          const docLink = document.createElement('div');\n",
              "          docLink.innerHTML = docLinkHtml;\n",
              "          element.appendChild(docLink);\n",
              "        }\n",
              "      </script>\n",
              "    </div>\n",
              "  </div>\n",
              "  "
            ]
          },
          "metadata": {},
          "execution_count": 41
        }
      ]
    },
    {
      "cell_type": "code",
      "source": [
        "# создание модели с учетом CV\n",
        "model_cv=CatBoostRegressor(**params)"
      ],
      "metadata": {
        "id": "shTYZjct8U6o"
      },
      "execution_count": 42,
      "outputs": []
    },
    {
      "cell_type": "code",
      "source": [
        "#model_cv.fit(train_data, use_best_model=True, eval_set=(X_test_code, y_test))"
      ],
      "metadata": {
        "id": "JkgiBuEJqYma"
      },
      "execution_count": null,
      "outputs": []
    },
    {
      "cell_type": "code",
      "source": [
        "# обучение модели \n",
        "model_cv.fit(train_data)"
      ],
      "metadata": {
        "colab": {
          "base_uri": "https://localhost:8080/"
        },
        "id": "rUpfWVfR8oGD",
        "outputId": "0184dca0-aab3-4829-dde0-7104845a5c90"
      },
      "execution_count": 43,
      "outputs": [
        {
          "output_type": "stream",
          "name": "stderr",
          "text": [
            "You should provide test set for use best model. use_best_model parameter has been switched to false value.\n"
          ]
        },
        {
          "output_type": "stream",
          "name": "stdout",
          "text": [
            "0:\tlearn: 3565.7951976\ttotal: 43.9ms\tremaining: 43s\n",
            "100:\tlearn: 1625.7559167\ttotal: 3.07s\tremaining: 26.8s\n",
            "200:\tlearn: 1554.3999876\ttotal: 4.94s\tremaining: 19.2s\n",
            "300:\tlearn: 1513.1789717\ttotal: 6.81s\tremaining: 15.4s\n",
            "400:\tlearn: 1485.0100381\ttotal: 8.65s\tremaining: 12.5s\n",
            "500:\tlearn: 1461.6911886\ttotal: 11s\tremaining: 10.6s\n",
            "600:\tlearn: 1442.4843450\ttotal: 14s\tremaining: 8.85s\n",
            "700:\tlearn: 1426.8619411\ttotal: 16.8s\tremaining: 6.75s\n",
            "800:\tlearn: 1413.8587211\ttotal: 18.7s\tremaining: 4.23s\n",
            "900:\tlearn: 1400.3035390\ttotal: 20.6s\tremaining: 1.85s\n",
            "981:\tlearn: 1390.7841216\ttotal: 22.1s\tremaining: 0us\n"
          ]
        },
        {
          "output_type": "execute_result",
          "data": {
            "text/plain": [
              "<catboost.core.CatBoostRegressor at 0x7f4394713d90>"
            ]
          },
          "metadata": {},
          "execution_count": 43
        }
      ]
    },
    {
      "cell_type": "code",
      "source": [
        "# предсказание \n",
        "result_catboost=model_cv.predict(X_test_code)\n",
        "\n",
        "# RMSE с использованием параметров полученных на кросс-валидации \n",
        "mean_squared_error(y_test, result_catboost, squared=False)"
      ],
      "metadata": {
        "colab": {
          "base_uri": "https://localhost:8080/"
        },
        "id": "tcehRbjh83hs",
        "outputId": "112cb34b-4a57-412a-be3b-cb85c1913a05"
      },
      "execution_count": 45,
      "outputs": [
        {
          "output_type": "execute_result",
          "data": {
            "text/plain": [
              "1551.0659126270841"
            ]
          },
          "metadata": {},
          "execution_count": 45
        }
      ]
    },
    {
      "cell_type": "markdown",
      "metadata": {
        "id": "sXe_MTfP7crO"
      },
      "source": [
        "### Выводы по Шагу 4"
      ]
    },
    {
      "cell_type": "markdown",
      "metadata": {
        "id": "Y_HMwcyJ7crO"
      },
      "source": [
        "На данном шаге были обучены модели дерева решений, случайного леса и LightGBM, CatBoost, расчитана метрика RMSE. \n",
        "\n",
        "На следующем шаге сравним модели"
      ]
    },
    {
      "cell_type": "markdown",
      "metadata": {
        "id": "PFPkVyLL7crP"
      },
      "source": [
        "## Сравнение моделей"
      ]
    },
    {
      "cell_type": "markdown",
      "metadata": {
        "id": "FqU_bkuz7crP"
      },
      "source": [
        "На данном шаге проведём сравнение моеделей по важным для заказчика метрикам"
      ]
    },
    {
      "cell_type": "code",
      "execution_count": 46,
      "metadata": {
        "id": "jNLADtH67crQ",
        "outputId": "4d3bd5e6-181a-4847-de58-176536c0a636",
        "colab": {
          "base_uri": "https://localhost:8080/",
          "height": 173
        }
      },
      "outputs": [
        {
          "output_type": "execute_result",
          "data": {
            "text/plain": [
              "          RMSE\n",
              "Tree      1832\n",
              "Forest    1665\n",
              "LightGBM  1575\n",
              "Catboost  1551"
            ],
            "text/html": [
              "\n",
              "  <div id=\"df-4c84e267-96a3-4c06-9a27-80cac6db4c23\">\n",
              "    <div class=\"colab-df-container\">\n",
              "      <div>\n",
              "<style scoped>\n",
              "    .dataframe tbody tr th:only-of-type {\n",
              "        vertical-align: middle;\n",
              "    }\n",
              "\n",
              "    .dataframe tbody tr th {\n",
              "        vertical-align: top;\n",
              "    }\n",
              "\n",
              "    .dataframe thead th {\n",
              "        text-align: right;\n",
              "    }\n",
              "</style>\n",
              "<table border=\"1\" class=\"dataframe\">\n",
              "  <thead>\n",
              "    <tr style=\"text-align: right;\">\n",
              "      <th></th>\n",
              "      <th>RMSE</th>\n",
              "    </tr>\n",
              "  </thead>\n",
              "  <tbody>\n",
              "    <tr>\n",
              "      <th>Tree</th>\n",
              "      <td>1832</td>\n",
              "    </tr>\n",
              "    <tr>\n",
              "      <th>Forest</th>\n",
              "      <td>1665</td>\n",
              "    </tr>\n",
              "    <tr>\n",
              "      <th>LightGBM</th>\n",
              "      <td>1575</td>\n",
              "    </tr>\n",
              "    <tr>\n",
              "      <th>Catboost</th>\n",
              "      <td>1551</td>\n",
              "    </tr>\n",
              "  </tbody>\n",
              "</table>\n",
              "</div>\n",
              "      <button class=\"colab-df-convert\" onclick=\"convertToInteractive('df-4c84e267-96a3-4c06-9a27-80cac6db4c23')\"\n",
              "              title=\"Convert this dataframe to an interactive table.\"\n",
              "              style=\"display:none;\">\n",
              "        \n",
              "  <svg xmlns=\"http://www.w3.org/2000/svg\" height=\"24px\"viewBox=\"0 0 24 24\"\n",
              "       width=\"24px\">\n",
              "    <path d=\"M0 0h24v24H0V0z\" fill=\"none\"/>\n",
              "    <path d=\"M18.56 5.44l.94 2.06.94-2.06 2.06-.94-2.06-.94-.94-2.06-.94 2.06-2.06.94zm-11 1L8.5 8.5l.94-2.06 2.06-.94-2.06-.94L8.5 2.5l-.94 2.06-2.06.94zm10 10l.94 2.06.94-2.06 2.06-.94-2.06-.94-.94-2.06-.94 2.06-2.06.94z\"/><path d=\"M17.41 7.96l-1.37-1.37c-.4-.4-.92-.59-1.43-.59-.52 0-1.04.2-1.43.59L10.3 9.45l-7.72 7.72c-.78.78-.78 2.05 0 2.83L4 21.41c.39.39.9.59 1.41.59.51 0 1.02-.2 1.41-.59l7.78-7.78 2.81-2.81c.8-.78.8-2.07 0-2.86zM5.41 20L4 18.59l7.72-7.72 1.47 1.35L5.41 20z\"/>\n",
              "  </svg>\n",
              "      </button>\n",
              "      \n",
              "  <style>\n",
              "    .colab-df-container {\n",
              "      display:flex;\n",
              "      flex-wrap:wrap;\n",
              "      gap: 12px;\n",
              "    }\n",
              "\n",
              "    .colab-df-convert {\n",
              "      background-color: #E8F0FE;\n",
              "      border: none;\n",
              "      border-radius: 50%;\n",
              "      cursor: pointer;\n",
              "      display: none;\n",
              "      fill: #1967D2;\n",
              "      height: 32px;\n",
              "      padding: 0 0 0 0;\n",
              "      width: 32px;\n",
              "    }\n",
              "\n",
              "    .colab-df-convert:hover {\n",
              "      background-color: #E2EBFA;\n",
              "      box-shadow: 0px 1px 2px rgba(60, 64, 67, 0.3), 0px 1px 3px 1px rgba(60, 64, 67, 0.15);\n",
              "      fill: #174EA6;\n",
              "    }\n",
              "\n",
              "    [theme=dark] .colab-df-convert {\n",
              "      background-color: #3B4455;\n",
              "      fill: #D2E3FC;\n",
              "    }\n",
              "\n",
              "    [theme=dark] .colab-df-convert:hover {\n",
              "      background-color: #434B5C;\n",
              "      box-shadow: 0px 1px 3px 1px rgba(0, 0, 0, 0.15);\n",
              "      filter: drop-shadow(0px 1px 2px rgba(0, 0, 0, 0.3));\n",
              "      fill: #FFFFFF;\n",
              "    }\n",
              "  </style>\n",
              "\n",
              "      <script>\n",
              "        const buttonEl =\n",
              "          document.querySelector('#df-4c84e267-96a3-4c06-9a27-80cac6db4c23 button.colab-df-convert');\n",
              "        buttonEl.style.display =\n",
              "          google.colab.kernel.accessAllowed ? 'block' : 'none';\n",
              "\n",
              "        async function convertToInteractive(key) {\n",
              "          const element = document.querySelector('#df-4c84e267-96a3-4c06-9a27-80cac6db4c23');\n",
              "          const dataTable =\n",
              "            await google.colab.kernel.invokeFunction('convertToInteractive',\n",
              "                                                     [key], {});\n",
              "          if (!dataTable) return;\n",
              "\n",
              "          const docLinkHtml = 'Like what you see? Visit the ' +\n",
              "            '<a target=\"_blank\" href=https://colab.research.google.com/notebooks/data_table.ipynb>data table notebook</a>'\n",
              "            + ' to learn more about interactive tables.';\n",
              "          element.innerHTML = '';\n",
              "          dataTable['output_type'] = 'display_data';\n",
              "          await google.colab.output.renderOutput(dataTable, element);\n",
              "          const docLink = document.createElement('div');\n",
              "          docLink.innerHTML = docLinkHtml;\n",
              "          element.appendChild(docLink);\n",
              "        }\n",
              "      </script>\n",
              "    </div>\n",
              "  </div>\n",
              "  "
            ]
          },
          "metadata": {},
          "execution_count": 46
        }
      ],
      "source": [
        "# создадим датасет для сравнения\n",
        "final = pd.DataFrame({'RMSE' : [1832, 1665, 1575, 1551]},\n",
        "                     index = ['Tree', 'Forest', 'LightGBM', 'Catboost'])\n",
        "final"
      ]
    },
    {
      "cell_type": "markdown",
      "metadata": {
        "id": "LLmv9AxQ7crT"
      },
      "source": [
        "Из таблицы видим: <br/>\n",
        "- что у дерева решений самый низкий скор. \n",
        "- у случайного леса скор лучше чем у дерева, но и меньше чем у бустинга;\n",
        "- наилучший скор у бустинга, причём CatBoost на кросс-валидации показал себя лучше чем LightGBM."
      ]
    },
    {
      "cell_type": "markdown",
      "metadata": {
        "id": "aok6FjC47crT"
      },
      "source": [
        "## Выводы"
      ]
    },
    {
      "cell_type": "markdown",
      "metadata": {
        "id": "2S3qAMWU7crU"
      },
      "source": [
        "В данном проекте было проведено срвнение трёх моделе машинного обучекния на основе дерева решений для предсказания цены на автомобили. Критерием сравнения был скор и время обучения и предсказания. "
      ]
    },
    {
      "cell_type": "markdown",
      "metadata": {
        "id": "RtH_iPej7crW"
      },
      "source": [
        "Для заказчика я бы порекомендовал модель бустинга, так как у неё самый лучший скор"
      ]
    }
  ],
  "metadata": {
    "ExecuteTimeLog": [
      {
        "duration": 1593,
        "start_time": "2022-06-30T14:14:45.317Z"
      },
      {
        "duration": 4,
        "start_time": "2022-06-30T14:15:16.415Z"
      },
      {
        "duration": 3,
        "start_time": "2022-06-30T14:15:47.890Z"
      },
      {
        "duration": 3,
        "start_time": "2022-06-30T14:16:09.349Z"
      },
      {
        "duration": 119,
        "start_time": "2022-06-30T14:16:36.832Z"
      },
      {
        "duration": 1164,
        "start_time": "2022-06-30T14:16:54.680Z"
      },
      {
        "duration": 4,
        "start_time": "2022-06-30T14:19:06.408Z"
      },
      {
        "duration": 147,
        "start_time": "2022-06-30T14:19:21.047Z"
      },
      {
        "duration": 140,
        "start_time": "2022-06-30T14:20:38.063Z"
      },
      {
        "duration": 100,
        "start_time": "2022-06-30T14:20:57.293Z"
      },
      {
        "duration": 457,
        "start_time": "2022-06-30T14:25:49.202Z"
      },
      {
        "duration": 184,
        "start_time": "2022-06-30T14:26:19.068Z"
      },
      {
        "duration": 29,
        "start_time": "2022-06-30T14:27:11.218Z"
      },
      {
        "duration": 6,
        "start_time": "2022-06-30T14:27:25.780Z"
      },
      {
        "duration": 11,
        "start_time": "2022-06-30T14:27:54.640Z"
      },
      {
        "duration": 7,
        "start_time": "2022-06-30T14:28:02.976Z"
      },
      {
        "duration": 7,
        "start_time": "2022-06-30T14:28:07.570Z"
      },
      {
        "duration": 8,
        "start_time": "2022-06-30T14:35:54.499Z"
      },
      {
        "duration": 1535,
        "start_time": "2022-07-01T06:16:00.567Z"
      },
      {
        "duration": 3,
        "start_time": "2022-07-01T06:16:02.104Z"
      },
      {
        "duration": 1055,
        "start_time": "2022-07-01T06:16:02.108Z"
      },
      {
        "duration": 4,
        "start_time": "2022-07-01T06:16:03.165Z"
      },
      {
        "duration": 139,
        "start_time": "2022-07-01T06:16:03.170Z"
      },
      {
        "duration": 91,
        "start_time": "2022-07-01T06:16:03.311Z"
      },
      {
        "duration": 129,
        "start_time": "2022-07-01T06:16:03.403Z"
      },
      {
        "duration": 442,
        "start_time": "2022-07-01T06:16:03.534Z"
      },
      {
        "duration": 171,
        "start_time": "2022-07-01T06:16:03.978Z"
      },
      {
        "duration": 8,
        "start_time": "2022-07-01T06:16:04.152Z"
      },
      {
        "duration": 29,
        "start_time": "2022-07-01T06:22:09.414Z"
      },
      {
        "duration": 99,
        "start_time": "2022-07-01T06:22:20.573Z"
      },
      {
        "duration": 14,
        "start_time": "2022-07-01T06:22:59.012Z"
      },
      {
        "duration": 23,
        "start_time": "2022-07-01T06:25:32.240Z"
      },
      {
        "duration": 42,
        "start_time": "2022-07-01T06:26:27.903Z"
      },
      {
        "duration": 1665,
        "start_time": "2022-07-01T13:14:21.057Z"
      },
      {
        "duration": 3,
        "start_time": "2022-07-01T13:14:22.724Z"
      },
      {
        "duration": 1072,
        "start_time": "2022-07-01T13:14:22.729Z"
      },
      {
        "duration": 4,
        "start_time": "2022-07-01T13:14:23.804Z"
      },
      {
        "duration": 141,
        "start_time": "2022-07-01T13:14:23.809Z"
      },
      {
        "duration": 101,
        "start_time": "2022-07-01T13:14:23.952Z"
      },
      {
        "duration": 126,
        "start_time": "2022-07-01T13:14:24.054Z"
      },
      {
        "duration": 436,
        "start_time": "2022-07-01T13:14:24.182Z"
      },
      {
        "duration": 185,
        "start_time": "2022-07-01T13:14:24.620Z"
      },
      {
        "duration": 9,
        "start_time": "2022-07-01T13:14:24.807Z"
      },
      {
        "duration": 27,
        "start_time": "2022-07-01T13:14:24.826Z"
      },
      {
        "duration": 14,
        "start_time": "2022-07-01T13:14:24.855Z"
      },
      {
        "duration": 58,
        "start_time": "2022-07-01T13:14:24.870Z"
      },
      {
        "duration": 2,
        "start_time": "2022-07-01T13:18:56.110Z"
      },
      {
        "duration": 106,
        "start_time": "2022-07-01T13:19:24.652Z"
      },
      {
        "duration": 3,
        "start_time": "2022-07-01T13:19:32.769Z"
      },
      {
        "duration": 4,
        "start_time": "2022-07-01T13:21:59.135Z"
      },
      {
        "duration": 20,
        "start_time": "2022-07-01T13:24:46.404Z"
      },
      {
        "duration": 32,
        "start_time": "2022-07-01T13:25:15.702Z"
      },
      {
        "duration": 20,
        "start_time": "2022-07-01T13:25:23.533Z"
      },
      {
        "duration": 23,
        "start_time": "2022-07-01T13:25:31.271Z"
      },
      {
        "duration": 39,
        "start_time": "2022-07-01T13:26:56.250Z"
      },
      {
        "duration": 34,
        "start_time": "2022-07-01T13:27:08.141Z"
      },
      {
        "duration": 4,
        "start_time": "2022-07-01T13:33:31.048Z"
      },
      {
        "duration": 123,
        "start_time": "2022-07-01T13:34:20.002Z"
      },
      {
        "duration": 14,
        "start_time": "2022-07-01T13:34:43.622Z"
      },
      {
        "duration": 4,
        "start_time": "2022-07-01T13:34:56.309Z"
      },
      {
        "duration": 14,
        "start_time": "2022-07-01T13:34:58.504Z"
      },
      {
        "duration": 5,
        "start_time": "2022-07-01T13:35:21.041Z"
      },
      {
        "duration": 73,
        "start_time": "2022-07-01T13:35:23.331Z"
      },
      {
        "duration": 4,
        "start_time": "2022-07-01T13:36:19.743Z"
      },
      {
        "duration": 22,
        "start_time": "2022-07-01T13:37:59.744Z"
      },
      {
        "duration": 37,
        "start_time": "2022-07-01T13:38:17.559Z"
      },
      {
        "duration": 19,
        "start_time": "2022-07-01T13:39:17.156Z"
      },
      {
        "duration": 63,
        "start_time": "2022-07-01T13:39:39.818Z"
      },
      {
        "duration": 3,
        "start_time": "2022-07-01T13:42:28.131Z"
      },
      {
        "duration": 5,
        "start_time": "2022-07-01T13:44:18.308Z"
      },
      {
        "duration": 79,
        "start_time": "2022-07-01T13:44:24.423Z"
      },
      {
        "duration": 62,
        "start_time": "2022-07-01T13:49:31.481Z"
      },
      {
        "duration": 157,
        "start_time": "2022-07-01T13:49:45.184Z"
      },
      {
        "duration": 15,
        "start_time": "2022-07-01T13:50:04.556Z"
      },
      {
        "duration": 144,
        "start_time": "2022-07-01T13:50:18.760Z"
      },
      {
        "duration": 15,
        "start_time": "2022-07-01T13:50:29.800Z"
      },
      {
        "duration": 14,
        "start_time": "2022-07-01T13:50:31.842Z"
      },
      {
        "duration": 148,
        "start_time": "2022-07-01T13:50:45.481Z"
      },
      {
        "duration": 150,
        "start_time": "2022-07-01T13:50:46.532Z"
      },
      {
        "duration": 153,
        "start_time": "2022-07-01T13:50:47.244Z"
      },
      {
        "duration": 17,
        "start_time": "2022-07-01T13:50:53.547Z"
      },
      {
        "duration": 26,
        "start_time": "2022-07-01T13:51:03.853Z"
      },
      {
        "duration": 60,
        "start_time": "2022-07-01T13:51:36.145Z"
      },
      {
        "duration": 63,
        "start_time": "2022-07-01T13:51:42.384Z"
      },
      {
        "duration": 64,
        "start_time": "2022-07-01T13:53:03.237Z"
      },
      {
        "duration": 88,
        "start_time": "2022-07-01T13:54:15.575Z"
      },
      {
        "duration": 9,
        "start_time": "2022-07-01T13:55:03.634Z"
      },
      {
        "duration": 70,
        "start_time": "2022-07-01T13:55:07.208Z"
      },
      {
        "duration": 84,
        "start_time": "2022-07-01T13:55:16.781Z"
      },
      {
        "duration": 111,
        "start_time": "2022-07-01T13:55:23.390Z"
      },
      {
        "duration": 101,
        "start_time": "2022-07-01T13:55:28.425Z"
      },
      {
        "duration": 83,
        "start_time": "2022-07-01T13:55:36.062Z"
      },
      {
        "duration": 86,
        "start_time": "2022-07-01T13:55:50.956Z"
      },
      {
        "duration": 4,
        "start_time": "2022-07-01T13:56:08.463Z"
      },
      {
        "duration": 28,
        "start_time": "2022-07-01T13:56:08.470Z"
      },
      {
        "duration": 847,
        "start_time": "2022-07-01T13:56:08.501Z"
      },
      {
        "duration": 4,
        "start_time": "2022-07-01T13:56:09.349Z"
      },
      {
        "duration": 226,
        "start_time": "2022-07-01T13:56:09.355Z"
      },
      {
        "duration": 98,
        "start_time": "2022-07-01T13:56:09.583Z"
      },
      {
        "duration": 124,
        "start_time": "2022-07-01T13:56:09.683Z"
      },
      {
        "duration": 418,
        "start_time": "2022-07-01T13:56:09.809Z"
      },
      {
        "duration": 170,
        "start_time": "2022-07-01T13:56:10.230Z"
      },
      {
        "duration": 7,
        "start_time": "2022-07-01T13:56:10.401Z"
      },
      {
        "duration": 31,
        "start_time": "2022-07-01T13:56:10.410Z"
      },
      {
        "duration": 15,
        "start_time": "2022-07-01T13:56:10.443Z"
      },
      {
        "duration": 54,
        "start_time": "2022-07-01T13:56:10.460Z"
      },
      {
        "duration": 42,
        "start_time": "2022-07-01T13:56:10.515Z"
      },
      {
        "duration": 6,
        "start_time": "2022-07-01T13:56:10.560Z"
      },
      {
        "duration": 117,
        "start_time": "2022-07-01T13:56:10.567Z"
      },
      {
        "duration": 5,
        "start_time": "2022-07-01T13:56:10.686Z"
      },
      {
        "duration": 26,
        "start_time": "2022-07-01T13:56:10.692Z"
      },
      {
        "duration": 82,
        "start_time": "2022-07-01T13:56:10.720Z"
      },
      {
        "duration": 52,
        "start_time": "2022-07-01T13:56:10.804Z"
      },
      {
        "duration": 51,
        "start_time": "2022-07-01T13:56:10.857Z"
      },
      {
        "duration": 106,
        "start_time": "2022-07-01T13:56:13.410Z"
      },
      {
        "duration": 4,
        "start_time": "2022-07-01T13:56:53.627Z"
      },
      {
        "duration": 8,
        "start_time": "2022-07-01T13:56:53.633Z"
      },
      {
        "duration": 771,
        "start_time": "2022-07-01T13:56:53.643Z"
      },
      {
        "duration": 10,
        "start_time": "2022-07-01T13:56:54.417Z"
      },
      {
        "duration": 133,
        "start_time": "2022-07-01T13:56:54.428Z"
      },
      {
        "duration": 93,
        "start_time": "2022-07-01T13:56:54.562Z"
      },
      {
        "duration": 131,
        "start_time": "2022-07-01T13:56:54.657Z"
      },
      {
        "duration": 405,
        "start_time": "2022-07-01T13:56:54.790Z"
      },
      {
        "duration": 167,
        "start_time": "2022-07-01T13:56:55.198Z"
      },
      {
        "duration": 7,
        "start_time": "2022-07-01T13:56:55.366Z"
      },
      {
        "duration": 19,
        "start_time": "2022-07-01T13:56:55.375Z"
      },
      {
        "duration": 11,
        "start_time": "2022-07-01T13:56:55.395Z"
      },
      {
        "duration": 39,
        "start_time": "2022-07-01T13:56:55.426Z"
      },
      {
        "duration": 36,
        "start_time": "2022-07-01T13:56:55.467Z"
      },
      {
        "duration": 23,
        "start_time": "2022-07-01T13:56:55.504Z"
      },
      {
        "duration": 114,
        "start_time": "2022-07-01T13:56:55.529Z"
      },
      {
        "duration": 4,
        "start_time": "2022-07-01T13:56:55.645Z"
      },
      {
        "duration": 9,
        "start_time": "2022-07-01T13:56:55.650Z"
      },
      {
        "duration": 68,
        "start_time": "2022-07-01T13:56:55.661Z"
      },
      {
        "duration": 43,
        "start_time": "2022-07-01T13:56:55.731Z"
      },
      {
        "duration": 61,
        "start_time": "2022-07-01T13:56:55.776Z"
      },
      {
        "duration": 79,
        "start_time": "2022-07-01T13:56:59.033Z"
      },
      {
        "duration": 3,
        "start_time": "2022-07-01T14:12:49.584Z"
      },
      {
        "duration": 1017,
        "start_time": "2022-07-01T14:13:21.707Z"
      },
      {
        "duration": 31,
        "start_time": "2022-07-01T14:13:29.112Z"
      },
      {
        "duration": 14,
        "start_time": "2022-07-01T14:13:40.912Z"
      },
      {
        "duration": 39153,
        "start_time": "2022-07-01T14:18:14.217Z"
      },
      {
        "duration": 37409,
        "start_time": "2022-07-01T14:19:47.955Z"
      },
      {
        "duration": 8,
        "start_time": "2022-07-01T14:20:43.789Z"
      },
      {
        "duration": 4,
        "start_time": "2022-07-01T14:20:50.961Z"
      },
      {
        "duration": 1203,
        "start_time": "2022-07-01T14:21:41.616Z"
      },
      {
        "duration": 1387,
        "start_time": "2022-07-01T14:21:50.913Z"
      },
      {
        "duration": 56,
        "start_time": "2022-07-01T14:23:53.763Z"
      },
      {
        "duration": 80,
        "start_time": "2022-07-01T14:24:52.801Z"
      },
      {
        "duration": 11,
        "start_time": "2022-07-01T14:25:40.736Z"
      },
      {
        "duration": 1411744,
        "start_time": "2022-07-01T14:25:47.407Z"
      },
      {
        "duration": 13378,
        "start_time": "2022-07-01T14:50:39.054Z"
      },
      {
        "duration": 352211,
        "start_time": "2022-07-01T14:51:22.973Z"
      },
      {
        "duration": 11,
        "start_time": "2022-07-01T14:57:15.186Z"
      },
      {
        "duration": 1464,
        "start_time": "2022-07-02T03:26:57.226Z"
      },
      {
        "duration": 4,
        "start_time": "2022-07-02T03:26:58.692Z"
      },
      {
        "duration": 943,
        "start_time": "2022-07-02T03:26:58.697Z"
      },
      {
        "duration": 3,
        "start_time": "2022-07-02T03:26:59.642Z"
      },
      {
        "duration": 100,
        "start_time": "2022-07-02T03:26:59.647Z"
      },
      {
        "duration": 80,
        "start_time": "2022-07-02T03:26:59.750Z"
      },
      {
        "duration": 101,
        "start_time": "2022-07-02T03:26:59.832Z"
      },
      {
        "duration": 418,
        "start_time": "2022-07-02T03:26:59.935Z"
      },
      {
        "duration": 162,
        "start_time": "2022-07-02T03:27:00.355Z"
      },
      {
        "duration": 8,
        "start_time": "2022-07-02T03:27:00.519Z"
      },
      {
        "duration": 33,
        "start_time": "2022-07-02T03:27:00.528Z"
      },
      {
        "duration": 11,
        "start_time": "2022-07-02T03:27:00.562Z"
      },
      {
        "duration": 42,
        "start_time": "2022-07-02T03:27:00.575Z"
      },
      {
        "duration": 42,
        "start_time": "2022-07-02T03:27:00.620Z"
      },
      {
        "duration": 3,
        "start_time": "2022-07-02T03:27:00.664Z"
      },
      {
        "duration": 123,
        "start_time": "2022-07-02T03:27:00.669Z"
      },
      {
        "duration": 4,
        "start_time": "2022-07-02T03:27:00.793Z"
      },
      {
        "duration": 10,
        "start_time": "2022-07-02T03:27:00.798Z"
      },
      {
        "duration": 44,
        "start_time": "2022-07-02T03:27:00.810Z"
      },
      {
        "duration": 36,
        "start_time": "2022-07-02T03:27:00.855Z"
      },
      {
        "duration": 43,
        "start_time": "2022-07-02T03:27:00.893Z"
      },
      {
        "duration": 76,
        "start_time": "2022-07-02T03:27:00.938Z"
      },
      {
        "duration": 22,
        "start_time": "2022-07-02T03:27:01.015Z"
      },
      {
        "duration": 914,
        "start_time": "2022-07-02T03:27:01.038Z"
      },
      {
        "duration": 12,
        "start_time": "2022-07-02T03:27:01.954Z"
      },
      {
        "duration": 31902,
        "start_time": "2022-07-02T03:27:01.967Z"
      },
      {
        "duration": 1079,
        "start_time": "2022-07-02T03:27:33.871Z"
      },
      {
        "duration": 1032,
        "start_time": "2022-07-02T03:27:39.875Z"
      },
      {
        "duration": 46,
        "start_time": "2022-07-02T03:30:22.558Z"
      },
      {
        "duration": 102,
        "start_time": "2022-07-02T03:30:33.349Z"
      },
      {
        "duration": 132136,
        "start_time": "2022-07-02T03:31:43.228Z"
      },
      {
        "duration": 4,
        "start_time": "2022-07-02T03:34:02.816Z"
      },
      {
        "duration": 972,
        "start_time": "2022-07-02T03:34:12.820Z"
      },
      {
        "duration": 133132,
        "start_time": "2022-07-02T03:34:26.668Z"
      },
      {
        "duration": 14652,
        "start_time": "2022-07-02T03:37:12.617Z"
      },
      {
        "duration": 899,
        "start_time": "2022-07-02T03:37:27.270Z"
      },
      {
        "duration": 6,
        "start_time": "2022-07-02T03:37:29.900Z"
      },
      {
        "duration": 37,
        "start_time": "2022-07-02T03:45:50.456Z"
      },
      {
        "duration": 17133,
        "start_time": "2022-07-02T03:45:53.434Z"
      },
      {
        "duration": 7,
        "start_time": "2022-07-02T04:00:59.677Z"
      },
      {
        "duration": 7,
        "start_time": "2022-07-02T04:01:20.898Z"
      },
      {
        "duration": 7,
        "start_time": "2022-07-02T04:01:27.183Z"
      },
      {
        "duration": 71,
        "start_time": "2022-07-02T04:03:09.867Z"
      },
      {
        "duration": 8,
        "start_time": "2022-07-02T04:03:49.551Z"
      },
      {
        "duration": 7,
        "start_time": "2022-07-02T04:04:06.341Z"
      },
      {
        "duration": 8,
        "start_time": "2022-07-02T04:04:25.583Z"
      },
      {
        "duration": 1654,
        "start_time": "2022-07-02T06:38:34.540Z"
      },
      {
        "duration": 2,
        "start_time": "2022-07-02T06:38:36.196Z"
      },
      {
        "duration": 983,
        "start_time": "2022-07-02T06:38:36.199Z"
      },
      {
        "duration": 3,
        "start_time": "2022-07-02T06:38:37.185Z"
      },
      {
        "duration": 118,
        "start_time": "2022-07-02T06:38:37.190Z"
      },
      {
        "duration": 89,
        "start_time": "2022-07-02T06:38:37.335Z"
      },
      {
        "duration": 97,
        "start_time": "2022-07-02T06:38:41.655Z"
      },
      {
        "duration": 404,
        "start_time": "2022-07-02T06:38:42.415Z"
      },
      {
        "duration": 151,
        "start_time": "2022-07-02T06:38:42.994Z"
      },
      {
        "duration": 8,
        "start_time": "2022-07-02T06:38:43.904Z"
      },
      {
        "duration": 26,
        "start_time": "2022-07-02T06:38:49.383Z"
      },
      {
        "duration": 10,
        "start_time": "2022-07-02T06:38:49.504Z"
      },
      {
        "duration": 41,
        "start_time": "2022-07-02T06:38:50.943Z"
      },
      {
        "duration": 26,
        "start_time": "2022-07-02T06:38:51.327Z"
      },
      {
        "duration": 3,
        "start_time": "2022-07-02T06:38:52.615Z"
      },
      {
        "duration": 111,
        "start_time": "2022-07-02T06:38:52.887Z"
      },
      {
        "duration": 4,
        "start_time": "2022-07-02T06:38:53.223Z"
      },
      {
        "duration": 12,
        "start_time": "2022-07-02T06:39:06.743Z"
      },
      {
        "duration": 56,
        "start_time": "2022-07-02T06:39:21.658Z"
      },
      {
        "duration": 4,
        "start_time": "2022-07-02T06:41:17.739Z"
      },
      {
        "duration": 36,
        "start_time": "2022-07-02T06:41:19.059Z"
      },
      {
        "duration": 34,
        "start_time": "2022-07-02T06:41:21.172Z"
      },
      {
        "duration": 36,
        "start_time": "2022-07-02T06:41:21.571Z"
      },
      {
        "duration": 82,
        "start_time": "2022-07-02T06:41:24.411Z"
      },
      {
        "duration": 55,
        "start_time": "2022-07-02T06:41:43.828Z"
      },
      {
        "duration": 22,
        "start_time": "2022-07-02T06:41:53.157Z"
      },
      {
        "duration": 53,
        "start_time": "2022-07-02T06:42:13.974Z"
      },
      {
        "duration": 10,
        "start_time": "2022-07-02T06:51:16.566Z"
      },
      {
        "duration": 69,
        "start_time": "2022-07-02T06:51:31.391Z"
      },
      {
        "duration": 2,
        "start_time": "2022-07-02T06:53:55.995Z"
      },
      {
        "duration": 897,
        "start_time": "2022-07-02T06:53:56.402Z"
      },
      {
        "duration": 12,
        "start_time": "2022-07-02T06:53:57.770Z"
      },
      {
        "duration": 33872,
        "start_time": "2022-07-02T06:54:11.127Z"
      },
      {
        "duration": 1150,
        "start_time": "2022-07-02T06:54:45.001Z"
      },
      {
        "duration": 21,
        "start_time": "2022-07-02T06:55:26.276Z"
      },
      {
        "duration": 1529,
        "start_time": "2022-07-03T02:05:57.752Z"
      },
      {
        "duration": 3,
        "start_time": "2022-07-03T02:05:59.283Z"
      },
      {
        "duration": 1136,
        "start_time": "2022-07-03T02:05:59.287Z"
      },
      {
        "duration": 3,
        "start_time": "2022-07-03T02:06:00.425Z"
      },
      {
        "duration": 109,
        "start_time": "2022-07-03T02:06:00.430Z"
      },
      {
        "duration": 93,
        "start_time": "2022-07-03T02:06:00.541Z"
      },
      {
        "duration": 116,
        "start_time": "2022-07-03T02:06:00.636Z"
      },
      {
        "duration": 467,
        "start_time": "2022-07-03T02:06:00.754Z"
      },
      {
        "duration": 173,
        "start_time": "2022-07-03T02:06:01.223Z"
      },
      {
        "duration": 9,
        "start_time": "2022-07-03T02:06:01.398Z"
      },
      {
        "duration": 43,
        "start_time": "2022-07-03T02:06:01.408Z"
      },
      {
        "duration": 14,
        "start_time": "2022-07-03T02:06:01.452Z"
      },
      {
        "duration": 56,
        "start_time": "2022-07-03T02:06:01.467Z"
      },
      {
        "duration": 46,
        "start_time": "2022-07-03T02:06:01.524Z"
      },
      {
        "duration": 3,
        "start_time": "2022-07-03T02:06:01.571Z"
      },
      {
        "duration": 132,
        "start_time": "2022-07-03T02:06:01.575Z"
      },
      {
        "duration": 4,
        "start_time": "2022-07-03T02:06:01.708Z"
      },
      {
        "duration": 7,
        "start_time": "2022-07-03T02:06:01.714Z"
      },
      {
        "duration": 52,
        "start_time": "2022-07-03T02:06:01.722Z"
      },
      {
        "duration": 36,
        "start_time": "2022-07-03T02:06:01.776Z"
      },
      {
        "duration": 48,
        "start_time": "2022-07-03T02:06:01.814Z"
      },
      {
        "duration": 77,
        "start_time": "2022-07-03T02:06:01.864Z"
      },
      {
        "duration": 8,
        "start_time": "2022-07-03T02:06:01.943Z"
      },
      {
        "duration": 1037,
        "start_time": "2022-07-03T02:06:01.952Z"
      },
      {
        "duration": 18,
        "start_time": "2022-07-03T02:06:02.991Z"
      },
      {
        "duration": 35362,
        "start_time": "2022-07-03T02:06:03.012Z"
      },
      {
        "duration": 1066,
        "start_time": "2022-07-03T02:06:38.376Z"
      },
      {
        "duration": 151979,
        "start_time": "2022-07-03T02:06:39.450Z"
      },
      {
        "duration": 1408,
        "start_time": "2022-07-03T02:14:52.393Z"
      },
      {
        "duration": 4,
        "start_time": "2022-07-03T02:14:53.804Z"
      },
      {
        "duration": 888,
        "start_time": "2022-07-03T02:14:53.809Z"
      },
      {
        "duration": 5,
        "start_time": "2022-07-03T02:14:54.699Z"
      },
      {
        "duration": 116,
        "start_time": "2022-07-03T02:14:54.706Z"
      },
      {
        "duration": 101,
        "start_time": "2022-07-03T02:14:54.824Z"
      },
      {
        "duration": 101,
        "start_time": "2022-07-03T02:14:54.927Z"
      },
      {
        "duration": 469,
        "start_time": "2022-07-03T02:14:55.029Z"
      },
      {
        "duration": 241,
        "start_time": "2022-07-03T02:14:55.500Z"
      },
      {
        "duration": 11,
        "start_time": "2022-07-03T02:14:55.751Z"
      },
      {
        "duration": 23,
        "start_time": "2022-07-03T02:14:55.764Z"
      },
      {
        "duration": 17,
        "start_time": "2022-07-03T02:14:55.790Z"
      },
      {
        "duration": 79,
        "start_time": "2022-07-03T02:14:55.809Z"
      },
      {
        "duration": 28,
        "start_time": "2022-07-03T02:14:55.889Z"
      },
      {
        "duration": 12,
        "start_time": "2022-07-03T02:14:55.919Z"
      },
      {
        "duration": 20,
        "start_time": "2022-07-03T02:14:55.932Z"
      },
      {
        "duration": 136,
        "start_time": "2022-07-03T02:14:55.954Z"
      },
      {
        "duration": 5,
        "start_time": "2022-07-03T02:14:56.091Z"
      },
      {
        "duration": 13,
        "start_time": "2022-07-03T02:14:56.098Z"
      },
      {
        "duration": 55,
        "start_time": "2022-07-03T02:14:56.113Z"
      },
      {
        "duration": 38,
        "start_time": "2022-07-03T02:14:56.169Z"
      },
      {
        "duration": 58,
        "start_time": "2022-07-03T02:14:56.209Z"
      },
      {
        "duration": 65,
        "start_time": "2022-07-03T02:14:56.268Z"
      },
      {
        "duration": 3,
        "start_time": "2022-07-03T02:14:56.352Z"
      },
      {
        "duration": 1133,
        "start_time": "2022-07-03T02:14:56.359Z"
      },
      {
        "duration": 21,
        "start_time": "2022-07-03T02:14:57.493Z"
      },
      {
        "duration": 35529,
        "start_time": "2022-07-03T02:14:57.516Z"
      },
      {
        "duration": 1155,
        "start_time": "2022-07-03T02:15:33.048Z"
      },
      {
        "duration": 152767,
        "start_time": "2022-07-03T02:15:34.205Z"
      },
      {
        "duration": 283279,
        "start_time": "2022-07-03T02:18:06.974Z"
      },
      {
        "duration": 10,
        "start_time": "2022-07-03T02:22:50.255Z"
      },
      {
        "duration": 38,
        "start_time": "2022-07-03T02:24:05.610Z"
      },
      {
        "duration": 24,
        "start_time": "2022-07-03T02:25:05.417Z"
      },
      {
        "duration": 4,
        "start_time": "2022-07-03T02:25:16.224Z"
      },
      {
        "duration": 8,
        "start_time": "2022-07-03T02:25:16.231Z"
      },
      {
        "duration": 749,
        "start_time": "2022-07-03T02:25:16.241Z"
      },
      {
        "duration": 4,
        "start_time": "2022-07-03T02:25:16.993Z"
      },
      {
        "duration": 112,
        "start_time": "2022-07-03T02:25:16.999Z"
      },
      {
        "duration": 90,
        "start_time": "2022-07-03T02:25:17.112Z"
      },
      {
        "duration": 100,
        "start_time": "2022-07-03T02:25:17.203Z"
      },
      {
        "duration": 384,
        "start_time": "2022-07-03T02:25:17.305Z"
      },
      {
        "duration": 152,
        "start_time": "2022-07-03T02:25:17.691Z"
      },
      {
        "duration": 11,
        "start_time": "2022-07-03T02:25:17.845Z"
      },
      {
        "duration": 18,
        "start_time": "2022-07-03T02:25:17.858Z"
      },
      {
        "duration": 11,
        "start_time": "2022-07-03T02:25:17.878Z"
      },
      {
        "duration": 62,
        "start_time": "2022-07-03T02:25:17.891Z"
      },
      {
        "duration": 27,
        "start_time": "2022-07-03T02:25:17.954Z"
      },
      {
        "duration": 25,
        "start_time": "2022-07-03T02:25:20.699Z"
      },
      {
        "duration": 205,
        "start_time": "2022-07-03T02:25:58.682Z"
      },
      {
        "duration": 128,
        "start_time": "2022-07-03T02:27:18.463Z"
      },
      {
        "duration": 157,
        "start_time": "2022-07-03T02:27:30.167Z"
      },
      {
        "duration": 138,
        "start_time": "2022-07-03T02:27:36.870Z"
      },
      {
        "duration": 144,
        "start_time": "2022-07-03T02:28:03.886Z"
      },
      {
        "duration": 12,
        "start_time": "2022-07-03T02:28:25.939Z"
      },
      {
        "duration": 155,
        "start_time": "2022-07-03T02:28:44.469Z"
      },
      {
        "duration": 189,
        "start_time": "2022-07-03T02:29:04.426Z"
      },
      {
        "duration": 149,
        "start_time": "2022-07-03T02:31:04.056Z"
      },
      {
        "duration": 143,
        "start_time": "2022-07-03T02:39:39.459Z"
      },
      {
        "duration": 162,
        "start_time": "2022-07-03T02:41:35.239Z"
      },
      {
        "duration": 169,
        "start_time": "2022-07-03T02:41:55.191Z"
      },
      {
        "duration": 4,
        "start_time": "2022-07-03T02:42:06.435Z"
      },
      {
        "duration": 7,
        "start_time": "2022-07-03T02:42:06.441Z"
      },
      {
        "duration": 767,
        "start_time": "2022-07-03T02:42:06.450Z"
      },
      {
        "duration": 5,
        "start_time": "2022-07-03T02:42:07.219Z"
      },
      {
        "duration": 150,
        "start_time": "2022-07-03T02:42:07.227Z"
      },
      {
        "duration": 185,
        "start_time": "2022-07-03T02:42:07.378Z"
      },
      {
        "duration": 120,
        "start_time": "2022-07-03T02:42:07.565Z"
      },
      {
        "duration": 391,
        "start_time": "2022-07-03T02:42:07.686Z"
      },
      {
        "duration": 176,
        "start_time": "2022-07-03T02:42:08.079Z"
      },
      {
        "duration": 9,
        "start_time": "2022-07-03T02:42:08.257Z"
      },
      {
        "duration": 24,
        "start_time": "2022-07-03T02:42:08.269Z"
      },
      {
        "duration": 13,
        "start_time": "2022-07-03T02:42:08.295Z"
      },
      {
        "duration": 63,
        "start_time": "2022-07-03T02:42:08.310Z"
      },
      {
        "duration": 27,
        "start_time": "2022-07-03T02:42:08.374Z"
      },
      {
        "duration": 171,
        "start_time": "2022-07-03T02:42:08.403Z"
      },
      {
        "duration": 135,
        "start_time": "2022-07-03T02:42:21.852Z"
      },
      {
        "duration": 139,
        "start_time": "2022-07-03T02:42:29.181Z"
      },
      {
        "duration": 4,
        "start_time": "2022-07-03T02:42:45.891Z"
      },
      {
        "duration": 204,
        "start_time": "2022-07-03T02:43:29.347Z"
      },
      {
        "duration": 31,
        "start_time": "2022-07-03T02:44:43.725Z"
      },
      {
        "duration": 7,
        "start_time": "2022-07-03T02:44:54.502Z"
      },
      {
        "duration": 127,
        "start_time": "2022-07-03T02:44:58.835Z"
      },
      {
        "duration": 8,
        "start_time": "2022-07-03T02:45:37.430Z"
      },
      {
        "duration": 129,
        "start_time": "2022-07-03T02:46:18.674Z"
      },
      {
        "duration": 126,
        "start_time": "2022-07-03T02:46:28.955Z"
      },
      {
        "duration": 117,
        "start_time": "2022-07-03T02:46:37.782Z"
      },
      {
        "duration": 140,
        "start_time": "2022-07-03T02:46:41.341Z"
      },
      {
        "duration": 130,
        "start_time": "2022-07-03T02:46:56.260Z"
      },
      {
        "duration": 140,
        "start_time": "2022-07-03T02:47:01.501Z"
      },
      {
        "duration": 130,
        "start_time": "2022-07-03T02:47:05.285Z"
      },
      {
        "duration": 4,
        "start_time": "2022-07-03T02:47:53.767Z"
      },
      {
        "duration": 268,
        "start_time": "2022-07-03T02:48:00.871Z"
      },
      {
        "duration": 130,
        "start_time": "2022-07-03T02:48:07.820Z"
      },
      {
        "duration": 166,
        "start_time": "2022-07-03T02:49:17.545Z"
      },
      {
        "duration": 178,
        "start_time": "2022-07-03T02:49:27.674Z"
      },
      {
        "duration": 4,
        "start_time": "2022-07-03T02:49:30.777Z"
      },
      {
        "duration": 15,
        "start_time": "2022-07-03T02:49:30.783Z"
      },
      {
        "duration": 791,
        "start_time": "2022-07-03T02:49:30.800Z"
      },
      {
        "duration": 4,
        "start_time": "2022-07-03T02:49:31.592Z"
      },
      {
        "duration": 191,
        "start_time": "2022-07-03T02:49:31.600Z"
      },
      {
        "duration": 121,
        "start_time": "2022-07-03T02:49:31.793Z"
      },
      {
        "duration": 136,
        "start_time": "2022-07-03T02:49:31.916Z"
      },
      {
        "duration": 393,
        "start_time": "2022-07-03T02:49:32.054Z"
      },
      {
        "duration": 171,
        "start_time": "2022-07-03T02:49:32.448Z"
      },
      {
        "duration": 7,
        "start_time": "2022-07-03T02:49:32.621Z"
      },
      {
        "duration": 34,
        "start_time": "2022-07-03T02:49:32.630Z"
      },
      {
        "duration": 16,
        "start_time": "2022-07-03T02:49:32.667Z"
      },
      {
        "duration": 66,
        "start_time": "2022-07-03T02:49:32.686Z"
      },
      {
        "duration": 38,
        "start_time": "2022-07-03T02:49:32.754Z"
      },
      {
        "duration": 171,
        "start_time": "2022-07-03T02:49:32.794Z"
      },
      {
        "duration": 176,
        "start_time": "2022-07-03T02:49:32.966Z"
      },
      {
        "duration": 154,
        "start_time": "2022-07-03T02:49:40.996Z"
      },
      {
        "duration": 135,
        "start_time": "2022-07-03T02:49:54.730Z"
      },
      {
        "duration": 150,
        "start_time": "2022-07-03T02:50:08.018Z"
      },
      {
        "duration": 39,
        "start_time": "2022-07-03T02:54:07.967Z"
      },
      {
        "duration": 13,
        "start_time": "2022-07-03T03:05:36.535Z"
      },
      {
        "duration": 3,
        "start_time": "2022-07-03T03:05:47.829Z"
      },
      {
        "duration": 10,
        "start_time": "2022-07-03T03:05:47.834Z"
      },
      {
        "duration": 696,
        "start_time": "2022-07-03T03:05:47.845Z"
      },
      {
        "duration": 9,
        "start_time": "2022-07-03T03:05:48.543Z"
      },
      {
        "duration": 116,
        "start_time": "2022-07-03T03:05:48.554Z"
      },
      {
        "duration": 100,
        "start_time": "2022-07-03T03:05:48.672Z"
      },
      {
        "duration": 97,
        "start_time": "2022-07-03T03:05:48.773Z"
      },
      {
        "duration": 389,
        "start_time": "2022-07-03T03:05:48.872Z"
      },
      {
        "duration": 194,
        "start_time": "2022-07-03T03:05:49.263Z"
      },
      {
        "duration": 7,
        "start_time": "2022-07-03T03:05:49.459Z"
      },
      {
        "duration": 22,
        "start_time": "2022-07-03T03:05:49.467Z"
      },
      {
        "duration": 23,
        "start_time": "2022-07-03T03:05:49.491Z"
      },
      {
        "duration": 52,
        "start_time": "2022-07-03T03:05:49.516Z"
      },
      {
        "duration": 28,
        "start_time": "2022-07-03T03:05:49.570Z"
      },
      {
        "duration": 165,
        "start_time": "2022-07-03T03:05:49.600Z"
      },
      {
        "duration": 179,
        "start_time": "2022-07-03T03:05:49.766Z"
      },
      {
        "duration": 153,
        "start_time": "2022-07-03T03:05:49.955Z"
      },
      {
        "duration": 44,
        "start_time": "2022-07-03T03:05:52.430Z"
      },
      {
        "duration": 154,
        "start_time": "2022-07-03T03:06:07.225Z"
      },
      {
        "duration": 153,
        "start_time": "2022-07-03T03:06:13.361Z"
      },
      {
        "duration": 195,
        "start_time": "2022-07-03T03:07:29.456Z"
      },
      {
        "duration": 177,
        "start_time": "2022-07-03T03:08:05.362Z"
      },
      {
        "duration": 10,
        "start_time": "2022-07-03T03:08:24.070Z"
      },
      {
        "duration": 10,
        "start_time": "2022-07-03T03:08:33.795Z"
      },
      {
        "duration": 231,
        "start_time": "2022-07-03T03:09:24.318Z"
      },
      {
        "duration": 4,
        "start_time": "2022-07-03T03:09:34.461Z"
      },
      {
        "duration": 197,
        "start_time": "2022-07-03T03:09:51.477Z"
      },
      {
        "duration": 5,
        "start_time": "2022-07-03T03:15:29.825Z"
      },
      {
        "duration": 10,
        "start_time": "2022-07-03T03:15:29.832Z"
      },
      {
        "duration": 817,
        "start_time": "2022-07-03T03:15:29.845Z"
      },
      {
        "duration": 5,
        "start_time": "2022-07-03T03:15:30.665Z"
      },
      {
        "duration": 112,
        "start_time": "2022-07-03T03:15:30.673Z"
      },
      {
        "duration": 96,
        "start_time": "2022-07-03T03:15:30.787Z"
      },
      {
        "duration": 105,
        "start_time": "2022-07-03T03:15:30.885Z"
      },
      {
        "duration": 380,
        "start_time": "2022-07-03T03:15:30.992Z"
      },
      {
        "duration": 168,
        "start_time": "2022-07-03T03:15:31.374Z"
      },
      {
        "duration": 11,
        "start_time": "2022-07-03T03:15:31.545Z"
      },
      {
        "duration": 28,
        "start_time": "2022-07-03T03:15:31.559Z"
      },
      {
        "duration": 27,
        "start_time": "2022-07-03T03:15:31.589Z"
      },
      {
        "duration": 45,
        "start_time": "2022-07-03T03:15:31.618Z"
      },
      {
        "duration": 52,
        "start_time": "2022-07-03T03:15:31.664Z"
      },
      {
        "duration": 277,
        "start_time": "2022-07-03T03:15:31.717Z"
      },
      {
        "duration": 178,
        "start_time": "2022-07-03T03:15:31.996Z"
      },
      {
        "duration": 155,
        "start_time": "2022-07-03T03:15:32.175Z"
      },
      {
        "duration": 43,
        "start_time": "2022-07-03T03:15:32.332Z"
      },
      {
        "duration": 161,
        "start_time": "2022-07-03T03:15:32.376Z"
      },
      {
        "duration": 163,
        "start_time": "2022-07-03T03:15:32.539Z"
      },
      {
        "duration": 3,
        "start_time": "2022-07-03T03:15:32.704Z"
      },
      {
        "duration": 18,
        "start_time": "2022-07-03T03:15:32.708Z"
      },
      {
        "duration": 0,
        "start_time": "2022-07-03T03:15:32.728Z"
      },
      {
        "duration": 0,
        "start_time": "2022-07-03T03:15:32.729Z"
      },
      {
        "duration": 0,
        "start_time": "2022-07-03T03:15:32.730Z"
      },
      {
        "duration": 0,
        "start_time": "2022-07-03T03:15:32.732Z"
      },
      {
        "duration": 0,
        "start_time": "2022-07-03T03:15:32.733Z"
      },
      {
        "duration": 0,
        "start_time": "2022-07-03T03:15:32.734Z"
      },
      {
        "duration": 0,
        "start_time": "2022-07-03T03:15:32.751Z"
      },
      {
        "duration": 0,
        "start_time": "2022-07-03T03:15:32.753Z"
      },
      {
        "duration": 0,
        "start_time": "2022-07-03T03:15:32.754Z"
      },
      {
        "duration": 3,
        "start_time": "2022-07-03T03:16:10.485Z"
      },
      {
        "duration": 79,
        "start_time": "2022-07-03T03:16:12.302Z"
      },
      {
        "duration": 5,
        "start_time": "2022-07-03T03:16:14.779Z"
      },
      {
        "duration": 6,
        "start_time": "2022-07-03T03:16:21.125Z"
      },
      {
        "duration": 32,
        "start_time": "2022-07-03T03:16:22.892Z"
      },
      {
        "duration": 50,
        "start_time": "2022-07-03T03:16:24.949Z"
      },
      {
        "duration": 50,
        "start_time": "2022-07-03T03:16:27.241Z"
      },
      {
        "duration": 55,
        "start_time": "2022-07-03T03:16:30.005Z"
      },
      {
        "duration": 4,
        "start_time": "2022-07-03T03:16:41.678Z"
      },
      {
        "duration": 11,
        "start_time": "2022-07-03T03:16:41.683Z"
      },
      {
        "duration": 731,
        "start_time": "2022-07-03T03:16:41.696Z"
      },
      {
        "duration": 3,
        "start_time": "2022-07-03T03:16:42.428Z"
      },
      {
        "duration": 112,
        "start_time": "2022-07-03T03:16:42.433Z"
      },
      {
        "duration": 83,
        "start_time": "2022-07-03T03:16:42.550Z"
      },
      {
        "duration": 109,
        "start_time": "2022-07-03T03:16:42.635Z"
      },
      {
        "duration": 398,
        "start_time": "2022-07-03T03:16:42.751Z"
      },
      {
        "duration": 155,
        "start_time": "2022-07-03T03:16:43.151Z"
      },
      {
        "duration": 8,
        "start_time": "2022-07-03T03:16:43.307Z"
      },
      {
        "duration": 33,
        "start_time": "2022-07-03T03:16:43.318Z"
      },
      {
        "duration": 12,
        "start_time": "2022-07-03T03:16:43.353Z"
      },
      {
        "duration": 38,
        "start_time": "2022-07-03T03:16:43.366Z"
      },
      {
        "duration": 45,
        "start_time": "2022-07-03T03:16:43.406Z"
      },
      {
        "duration": 167,
        "start_time": "2022-07-03T03:16:43.452Z"
      },
      {
        "duration": 173,
        "start_time": "2022-07-03T03:16:43.620Z"
      },
      {
        "duration": 159,
        "start_time": "2022-07-03T03:16:43.795Z"
      },
      {
        "duration": 46,
        "start_time": "2022-07-03T03:16:43.956Z"
      },
      {
        "duration": 201,
        "start_time": "2022-07-03T03:16:44.004Z"
      },
      {
        "duration": 164,
        "start_time": "2022-07-03T03:16:44.208Z"
      },
      {
        "duration": 4,
        "start_time": "2022-07-03T03:16:44.373Z"
      },
      {
        "duration": 142,
        "start_time": "2022-07-03T03:16:44.380Z"
      },
      {
        "duration": 5,
        "start_time": "2022-07-03T03:16:44.524Z"
      },
      {
        "duration": 8,
        "start_time": "2022-07-03T03:16:44.531Z"
      },
      {
        "duration": 67,
        "start_time": "2022-07-03T03:16:44.541Z"
      },
      {
        "duration": 54,
        "start_time": "2022-07-03T03:16:44.611Z"
      },
      {
        "duration": 32,
        "start_time": "2022-07-03T03:16:44.667Z"
      },
      {
        "duration": 91,
        "start_time": "2022-07-03T03:16:47.642Z"
      },
      {
        "duration": 271,
        "start_time": "2022-07-03T03:17:09.730Z"
      },
      {
        "duration": 54,
        "start_time": "2022-07-03T03:17:48.278Z"
      },
      {
        "duration": 5,
        "start_time": "2022-07-03T03:17:57.207Z"
      },
      {
        "duration": 63,
        "start_time": "2022-07-03T03:17:58.769Z"
      },
      {
        "duration": 55,
        "start_time": "2022-07-03T03:18:00.931Z"
      },
      {
        "duration": 53,
        "start_time": "2022-07-03T03:18:02.610Z"
      },
      {
        "duration": 75,
        "start_time": "2022-07-03T03:18:04.508Z"
      },
      {
        "duration": 35,
        "start_time": "2022-07-03T03:19:46.705Z"
      },
      {
        "duration": 10,
        "start_time": "2022-07-03T03:20:18.036Z"
      },
      {
        "duration": 63,
        "start_time": "2022-07-03T03:20:25.020Z"
      },
      {
        "duration": 6,
        "start_time": "2022-07-03T03:20:34.488Z"
      },
      {
        "duration": 103,
        "start_time": "2022-07-03T03:20:37.505Z"
      },
      {
        "duration": 4,
        "start_time": "2022-07-03T03:20:51.512Z"
      },
      {
        "duration": 7,
        "start_time": "2022-07-03T03:20:51.518Z"
      },
      {
        "duration": 722,
        "start_time": "2022-07-03T03:20:51.527Z"
      },
      {
        "duration": 4,
        "start_time": "2022-07-03T03:20:52.250Z"
      },
      {
        "duration": 111,
        "start_time": "2022-07-03T03:20:52.256Z"
      },
      {
        "duration": 96,
        "start_time": "2022-07-03T03:20:52.369Z"
      },
      {
        "duration": 114,
        "start_time": "2022-07-03T03:20:52.467Z"
      },
      {
        "duration": 379,
        "start_time": "2022-07-03T03:20:52.582Z"
      },
      {
        "duration": 162,
        "start_time": "2022-07-03T03:20:52.963Z"
      },
      {
        "duration": 8,
        "start_time": "2022-07-03T03:20:53.127Z"
      },
      {
        "duration": 36,
        "start_time": "2022-07-03T03:20:53.150Z"
      },
      {
        "duration": 37,
        "start_time": "2022-07-03T03:20:53.188Z"
      },
      {
        "duration": 72,
        "start_time": "2022-07-03T03:20:53.226Z"
      },
      {
        "duration": 35,
        "start_time": "2022-07-03T03:20:53.300Z"
      },
      {
        "duration": 181,
        "start_time": "2022-07-03T03:20:53.337Z"
      },
      {
        "duration": 173,
        "start_time": "2022-07-03T03:20:53.520Z"
      },
      {
        "duration": 160,
        "start_time": "2022-07-03T03:20:53.694Z"
      },
      {
        "duration": 34,
        "start_time": "2022-07-03T03:20:53.856Z"
      },
      {
        "duration": 172,
        "start_time": "2022-07-03T03:20:53.892Z"
      },
      {
        "duration": 290,
        "start_time": "2022-07-03T03:20:54.066Z"
      },
      {
        "duration": 3,
        "start_time": "2022-07-03T03:20:54.358Z"
      },
      {
        "duration": 147,
        "start_time": "2022-07-03T03:20:54.363Z"
      },
      {
        "duration": 5,
        "start_time": "2022-07-03T03:20:56.415Z"
      },
      {
        "duration": 45,
        "start_time": "2022-07-03T03:21:08.842Z"
      },
      {
        "duration": 45,
        "start_time": "2022-07-03T03:21:36.499Z"
      },
      {
        "duration": 5,
        "start_time": "2022-07-03T03:22:08.859Z"
      },
      {
        "duration": 34,
        "start_time": "2022-07-03T03:22:11.722Z"
      },
      {
        "duration": 46,
        "start_time": "2022-07-03T03:22:14.118Z"
      },
      {
        "duration": 31,
        "start_time": "2022-07-03T03:22:17.573Z"
      },
      {
        "duration": 44,
        "start_time": "2022-07-03T03:22:19.858Z"
      },
      {
        "duration": 55,
        "start_time": "2022-07-03T03:22:24.383Z"
      },
      {
        "duration": 52,
        "start_time": "2022-07-03T03:22:26.787Z"
      },
      {
        "duration": 66,
        "start_time": "2022-07-03T03:23:07.561Z"
      },
      {
        "duration": 6,
        "start_time": "2022-07-03T03:23:38.926Z"
      },
      {
        "duration": 720,
        "start_time": "2022-07-03T03:24:13.682Z"
      },
      {
        "duration": 588,
        "start_time": "2022-07-03T03:24:22.185Z"
      },
      {
        "duration": 621,
        "start_time": "2022-07-03T03:25:15.555Z"
      },
      {
        "duration": 555,
        "start_time": "2022-07-03T03:25:22.510Z"
      },
      {
        "duration": 811,
        "start_time": "2022-07-03T03:25:39.733Z"
      },
      {
        "duration": 5,
        "start_time": "2022-07-03T03:25:54.895Z"
      },
      {
        "duration": 8,
        "start_time": "2022-07-03T03:25:54.902Z"
      },
      {
        "duration": 761,
        "start_time": "2022-07-03T03:25:54.913Z"
      },
      {
        "duration": 4,
        "start_time": "2022-07-03T03:25:55.676Z"
      },
      {
        "duration": 121,
        "start_time": "2022-07-03T03:25:55.682Z"
      },
      {
        "duration": 103,
        "start_time": "2022-07-03T03:25:55.805Z"
      },
      {
        "duration": 105,
        "start_time": "2022-07-03T03:25:55.910Z"
      },
      {
        "duration": 424,
        "start_time": "2022-07-03T03:25:56.017Z"
      },
      {
        "duration": 188,
        "start_time": "2022-07-03T03:25:56.443Z"
      },
      {
        "duration": 7,
        "start_time": "2022-07-03T03:25:56.633Z"
      },
      {
        "duration": 17,
        "start_time": "2022-07-03T03:25:56.652Z"
      },
      {
        "duration": 11,
        "start_time": "2022-07-03T03:25:56.671Z"
      },
      {
        "duration": 40,
        "start_time": "2022-07-03T03:25:56.684Z"
      },
      {
        "duration": 54,
        "start_time": "2022-07-03T03:25:56.726Z"
      },
      {
        "duration": 192,
        "start_time": "2022-07-03T03:25:56.781Z"
      },
      {
        "duration": 8,
        "start_time": "2022-07-03T03:26:08.340Z"
      },
      {
        "duration": 7,
        "start_time": "2022-07-03T03:26:14.384Z"
      },
      {
        "duration": 63,
        "start_time": "2022-07-03T03:26:21.409Z"
      },
      {
        "duration": 169,
        "start_time": "2022-07-03T03:26:39.531Z"
      },
      {
        "duration": 322,
        "start_time": "2022-07-03T03:26:44.838Z"
      },
      {
        "duration": 27,
        "start_time": "2022-07-03T03:26:48.675Z"
      },
      {
        "duration": 126,
        "start_time": "2022-07-03T03:26:50.831Z"
      },
      {
        "duration": 273,
        "start_time": "2022-07-03T03:26:53.300Z"
      },
      {
        "duration": 3,
        "start_time": "2022-07-03T03:27:02.154Z"
      },
      {
        "duration": 72,
        "start_time": "2022-07-03T03:27:03.562Z"
      },
      {
        "duration": 4,
        "start_time": "2022-07-03T03:27:05.218Z"
      },
      {
        "duration": 4,
        "start_time": "2022-07-03T03:27:07.791Z"
      },
      {
        "duration": 4,
        "start_time": "2022-07-03T03:27:14.762Z"
      },
      {
        "duration": 9,
        "start_time": "2022-07-03T03:27:14.768Z"
      },
      {
        "duration": 715,
        "start_time": "2022-07-03T03:27:14.779Z"
      },
      {
        "duration": 3,
        "start_time": "2022-07-03T03:27:15.497Z"
      },
      {
        "duration": 124,
        "start_time": "2022-07-03T03:27:15.503Z"
      },
      {
        "duration": 98,
        "start_time": "2022-07-03T03:27:15.628Z"
      },
      {
        "duration": 104,
        "start_time": "2022-07-03T03:27:15.728Z"
      },
      {
        "duration": 397,
        "start_time": "2022-07-03T03:27:15.834Z"
      },
      {
        "duration": 154,
        "start_time": "2022-07-03T03:27:16.233Z"
      },
      {
        "duration": 8,
        "start_time": "2022-07-03T03:27:16.388Z"
      },
      {
        "duration": 19,
        "start_time": "2022-07-03T03:27:16.398Z"
      },
      {
        "duration": 32,
        "start_time": "2022-07-03T03:27:16.419Z"
      },
      {
        "duration": 34,
        "start_time": "2022-07-03T03:27:16.453Z"
      },
      {
        "duration": 28,
        "start_time": "2022-07-03T03:27:16.488Z"
      },
      {
        "duration": 174,
        "start_time": "2022-07-03T03:27:16.517Z"
      },
      {
        "duration": 180,
        "start_time": "2022-07-03T03:27:16.693Z"
      },
      {
        "duration": 165,
        "start_time": "2022-07-03T03:27:16.875Z"
      },
      {
        "duration": 44,
        "start_time": "2022-07-03T03:27:17.042Z"
      },
      {
        "duration": 145,
        "start_time": "2022-07-03T03:27:17.088Z"
      },
      {
        "duration": 252,
        "start_time": "2022-07-03T03:27:17.235Z"
      },
      {
        "duration": 4,
        "start_time": "2022-07-03T03:27:17.489Z"
      },
      {
        "duration": 79,
        "start_time": "2022-07-03T03:27:17.494Z"
      },
      {
        "duration": 4,
        "start_time": "2022-07-03T03:27:17.575Z"
      },
      {
        "duration": 9,
        "start_time": "2022-07-03T03:27:17.580Z"
      },
      {
        "duration": 31,
        "start_time": "2022-07-03T03:27:17.590Z"
      },
      {
        "duration": 47,
        "start_time": "2022-07-03T03:27:17.623Z"
      },
      {
        "duration": 29,
        "start_time": "2022-07-03T03:27:17.672Z"
      },
      {
        "duration": 51,
        "start_time": "2022-07-03T03:27:19.584Z"
      },
      {
        "duration": 4,
        "start_time": "2022-07-03T03:27:54.021Z"
      },
      {
        "duration": 133,
        "start_time": "2022-07-03T03:27:59.683Z"
      },
      {
        "duration": 4,
        "start_time": "2022-07-03T03:28:08.636Z"
      },
      {
        "duration": 11,
        "start_time": "2022-07-03T03:28:08.642Z"
      },
      {
        "duration": 718,
        "start_time": "2022-07-03T03:28:08.655Z"
      },
      {
        "duration": 4,
        "start_time": "2022-07-03T03:28:09.375Z"
      },
      {
        "duration": 111,
        "start_time": "2022-07-03T03:28:09.381Z"
      },
      {
        "duration": 101,
        "start_time": "2022-07-03T03:28:09.494Z"
      },
      {
        "duration": 103,
        "start_time": "2022-07-03T03:28:09.597Z"
      },
      {
        "duration": 393,
        "start_time": "2022-07-03T03:28:09.702Z"
      },
      {
        "duration": 205,
        "start_time": "2022-07-03T03:28:10.096Z"
      },
      {
        "duration": 9,
        "start_time": "2022-07-03T03:28:10.303Z"
      },
      {
        "duration": 37,
        "start_time": "2022-07-03T03:28:10.314Z"
      },
      {
        "duration": 11,
        "start_time": "2022-07-03T03:28:10.352Z"
      },
      {
        "duration": 34,
        "start_time": "2022-07-03T03:28:10.365Z"
      },
      {
        "duration": 51,
        "start_time": "2022-07-03T03:28:10.401Z"
      },
      {
        "duration": 160,
        "start_time": "2022-07-03T03:28:10.453Z"
      },
      {
        "duration": 165,
        "start_time": "2022-07-03T03:28:10.615Z"
      },
      {
        "duration": 151,
        "start_time": "2022-07-03T03:28:10.782Z"
      },
      {
        "duration": 28,
        "start_time": "2022-07-03T03:28:10.935Z"
      },
      {
        "duration": 123,
        "start_time": "2022-07-03T03:28:10.965Z"
      },
      {
        "duration": 239,
        "start_time": "2022-07-03T03:28:11.090Z"
      },
      {
        "duration": 3,
        "start_time": "2022-07-03T03:28:11.330Z"
      },
      {
        "duration": 72,
        "start_time": "2022-07-03T03:28:11.335Z"
      },
      {
        "duration": 4,
        "start_time": "2022-07-03T03:28:11.409Z"
      },
      {
        "duration": 6,
        "start_time": "2022-07-03T03:28:11.414Z"
      },
      {
        "duration": 33,
        "start_time": "2022-07-03T03:28:11.434Z"
      },
      {
        "duration": 30,
        "start_time": "2022-07-03T03:28:11.469Z"
      },
      {
        "duration": 29,
        "start_time": "2022-07-03T03:28:11.502Z"
      },
      {
        "duration": 59,
        "start_time": "2022-07-03T03:28:11.533Z"
      },
      {
        "duration": 3,
        "start_time": "2022-07-03T03:28:24.145Z"
      },
      {
        "duration": 248,
        "start_time": "2022-07-03T03:28:25.695Z"
      },
      {
        "duration": 3,
        "start_time": "2022-07-03T03:29:46.796Z"
      },
      {
        "duration": 4,
        "start_time": "2022-07-03T03:34:02.011Z"
      },
      {
        "duration": 10,
        "start_time": "2022-07-03T03:35:17.930Z"
      },
      {
        "duration": 25,
        "start_time": "2022-07-03T03:35:20.617Z"
      },
      {
        "duration": 611,
        "start_time": "2022-07-03T03:36:09.478Z"
      },
      {
        "duration": 667,
        "start_time": "2022-07-03T03:38:17.515Z"
      },
      {
        "duration": 61723,
        "start_time": "2022-07-03T03:38:36.629Z"
      },
      {
        "duration": 192,
        "start_time": "2022-07-03T03:42:11.206Z"
      },
      {
        "duration": 8019,
        "start_time": "2022-07-03T03:42:38.536Z"
      },
      {
        "duration": 428,
        "start_time": "2022-07-03T03:42:52.434Z"
      },
      {
        "duration": 69,
        "start_time": "2022-07-03T03:43:36.406Z"
      },
      {
        "duration": 29415,
        "start_time": "2022-07-03T03:44:00.670Z"
      },
      {
        "duration": 89,
        "start_time": "2022-07-03T04:05:51.865Z"
      },
      {
        "duration": 63,
        "start_time": "2022-07-03T04:06:11.611Z"
      },
      {
        "duration": 131,
        "start_time": "2022-07-03T04:06:31.789Z"
      },
      {
        "duration": 862,
        "start_time": "2022-07-03T04:07:03.563Z"
      },
      {
        "duration": 54,
        "start_time": "2022-07-03T04:07:26.439Z"
      },
      {
        "duration": 120,
        "start_time": "2022-07-03T04:10:28.984Z"
      },
      {
        "duration": 100,
        "start_time": "2022-07-03T04:10:49.256Z"
      },
      {
        "duration": 962,
        "start_time": "2022-07-03T04:10:59.891Z"
      },
      {
        "duration": 53,
        "start_time": "2022-07-03T04:11:34.680Z"
      },
      {
        "duration": 143476,
        "start_time": "2022-07-03T04:11:36.006Z"
      },
      {
        "duration": 13,
        "start_time": "2022-07-03T04:13:59.484Z"
      },
      {
        "duration": 14,
        "start_time": "2022-07-03T04:14:16.443Z"
      },
      {
        "duration": 19451,
        "start_time": "2022-07-03T04:14:18.075Z"
      },
      {
        "duration": 31158,
        "start_time": "2022-07-03T04:14:39.613Z"
      },
      {
        "duration": 46,
        "start_time": "2022-07-03T04:15:13.819Z"
      },
      {
        "duration": 59299,
        "start_time": "2022-07-03T04:15:37.055Z"
      },
      {
        "duration": 66,
        "start_time": "2022-07-03T04:16:47.295Z"
      },
      {
        "duration": 331240,
        "start_time": "2022-07-03T04:16:54.825Z"
      },
      {
        "duration": 513,
        "start_time": "2022-07-03T04:22:29.056Z"
      },
      {
        "duration": 10,
        "start_time": "2022-07-03T04:22:44.419Z"
      }
    ],
    "kernelspec": {
      "display_name": "Python 3 (ipykernel)",
      "language": "python",
      "name": "python3"
    },
    "language_info": {
      "codemirror_mode": {
        "name": "ipython",
        "version": 3
      },
      "file_extension": ".py",
      "mimetype": "text/x-python",
      "name": "python",
      "nbconvert_exporter": "python",
      "pygments_lexer": "ipython3",
      "version": "3.9.5"
    },
    "toc": {
      "base_numbering": 1,
      "nav_menu": {},
      "number_sections": true,
      "sideBar": true,
      "skip_h1_title": true,
      "title_cell": "Table of Contents",
      "title_sidebar": "Contents",
      "toc_cell": false,
      "toc_position": {
        "height": "calc(100% - 180px)",
        "left": "10px",
        "top": "150px",
        "width": "302.391px"
      },
      "toc_section_display": true,
      "toc_window_display": true
    },
    "colab": {
      "name": "car_price.ipynb",
      "provenance": [],
      "collapsed_sections": [],
      "toc_visible": true
    }
  },
  "nbformat": 4,
  "nbformat_minor": 0
}