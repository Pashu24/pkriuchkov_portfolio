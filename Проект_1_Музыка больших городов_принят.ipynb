{
 "cells": [
  {
   "cell_type": "markdown",
   "metadata": {},
   "source": [
    "<div style=\"border:solid green 2px; padding: 20px\">\n",
    "\n",
    "Привет, Павел 🖐\n",
    "\n",
    "Меня зовут Саша Данилевский, я буду делать ревью твоей работы по базовому Python. Если не против, давай будем общаться на «ты».\n",
    "<br><br>\n",
    "\n",
    "Ты уже проделал большую работу над проектом, но давай сделаем его еще лучше.\n",
    "Моя основная цель — не указать на совершенные тобою ошибки, а поделиться своим опытом и помочь тебе стать хорошим специалистом.\n",
    "    \n",
    "Давай зададим цветовые метки для комментариев:\n",
    "\n",
    "<div class=\"alert alert-danger\">\n",
    "<b>Комментарий ревьюера ❌:</b> Так я буду выделять критические ошибки, требующие обязательного исправления. Без них проект не может быть принят; </div>\n",
    "\n",
    "<div class=\"alert alert-warning\">\n",
    "<b>Комментарий ревьюера ⚠️:</b> Так я буду выделять то, что в следующий раз можно сделать по-другому. Один-два таких небольших замечаний в проекте допустимы, но если их будет больше — тебе будет необходимо внести исправления;</div>\n",
    "\n",
    "<div class=\"alert alert-success\">\n",
    "<b>Комментарий ревьюера ✔️:</b> Так я буду отмечать крутые решения, на которые можно опираться в будущих проектах.</div>\n",
    "    \n",
    "Хочу попросить тебя: если **что-то меняешь в проекте по моим рекомендациям — пиши об этом**. Используй для своих комментариев какой-либо цвет, отличный от используемых мной, так мне будет легче отследить изменения. Например, так:\n",
    "    \n",
    "<div class=\"alert alert-info\"> <b>Комментарий студента:</b> текст комментария</div>\n",
    "    \n",
    "Пожалуйста, **не перемещай**, **не изменяй** и **не удаляй** мои комментарии, чтобы повторная проверка твоего проекта прошла оперативнее.\n",
    "    \n",
    "🙏 Извини за долгое ожидание ревью. При следующих проверках SLA будет соблюдаться.\n",
    "</div>"
   ]
  },
  {
   "cell_type": "markdown",
   "metadata": {},
   "source": [
    "<div class=\"alert alert-info\"> <b>Комментарий студента:</b>\n",
    "    \n",
    "Привет, Саша! Рад знакомству! <br /> Спасибо за вдохновляющее вступпительное слово. В школе и в университете нам часто указывали на ошибки и часто за них ругаали. По старой привычке присуствует воленние, когда открываешь тетрадку с ревью. Но я приятно удивлён твоим подходом и подходом Яндекс.Практикума :)</div>\n",
    "\n",
    "<div class=\"alert alert-success\">\n",
    "<b>Комментарий ревьюера v2✔️:</b>\n",
    "    \n",
    "Но ты ведь действительно круто выполнил проект\n",
    "</div>"
   ]
  },
  {
   "cell_type": "markdown",
   "metadata": {
    "id": "E0vqbgi9ay0H"
   },
   "source": [
    "# Яндекс.Музыка"
   ]
  },
  {
   "cell_type": "markdown",
   "metadata": {
    "id": "VUC88oWjTJw2"
   },
   "source": [
    "Сравнение Москвы и Петербурга окружено мифами. Например:\n",
    " * Москва — мегаполис, подчинённый жёсткому ритму рабочей недели;\n",
    " * Петербург — культурная столица, со своими вкусами.\n",
    "\n",
    "На данных Яндекс.Музыки вы сравните поведение пользователей двух столиц.\n",
    "\n",
    "**Цель исследования** — проверьте три гипотезы:\n",
    "1. Активность пользователей зависит от дня недели. Причём в Москве и Петербурге это проявляется по-разному.\n",
    "2. В понедельник утром в Москве преобладают одни жанры, а в Петербурге — другие. Так же и вечером пятницы преобладают разные жанры — в зависимости от города. \n",
    "3. Москва и Петербург предпочитают разные жанры музыки. В Москве чаще слушают поп-музыку, в Петербурге — русский рэп.\n",
    "\n",
    "**Ход исследования**\n",
    "\n",
    "Данные о поведении пользователей вы получите из файла `yandex_music_project.csv`. О качестве данных ничего не известно. Поэтому перед проверкой гипотез понадобится обзор данных. \n",
    "\n",
    "Вы проверите данные на ошибки и оцените их влияние на исследование. Затем, на этапе предобработки вы поищете возможность исправить самые критичные ошибки данных.\n",
    " \n",
    "Таким образом, исследование пройдёт в три этапа:\n",
    " 1. Обзор данных.\n",
    " 2. Предобработка данных.\n",
    " 3. Проверка гипотез.\n",
    "\n"
   ]
  },
  {
   "cell_type": "markdown",
   "metadata": {},
   "source": [
    "**Учебная цель исследования**: повторить и закрепить пройденный материал по работе Pandas.\n",
    "\n",
    "**Практическая цель исследования:** проверить три вышеуказанные гипотезы. \n",
    "Полученный пайплайн, с внесением доработок, может быть поелзен \n",
    "при обработке данных для других городов и полной недели.\n",
    "\n"
   ]
  },
  {
   "cell_type": "markdown",
   "metadata": {
    "id": "Ml1hmfXC_Zcs"
   },
   "source": [
    "## Обзор данных\n",
    "\n",
    "Составьте первое представление о данных Яндекс.Музыки.\n",
    "\n",
    "\n"
   ]
  },
  {
   "cell_type": "markdown",
   "metadata": {
    "id": "57eAOGIz_Zcs"
   },
   "source": [
    "Основной инструмент аналитика — `pandas`. Импортируйте эту библиотеку."
   ]
  },
  {
   "cell_type": "code",
   "execution_count": 1,
   "metadata": {
    "id": "AXN7PHPN_Zcs"
   },
   "outputs": [],
   "source": [
    "# импорт библиотеки pandas\n",
    "import pandas as pd"
   ]
  },
  {
   "cell_type": "markdown",
   "metadata": {},
   "source": [
    "<div class=\"alert alert-success\">\n",
    "<b>Комментарий ревьюера ✔️:</b>\n",
    "    \n",
    "Отлично! Очень хорошо, что ты используешь сокращение `pd` для библиотеки `pandas`. Это очень удобно для дальнейшей работы. Это относится и к другим библиотекам, которые ты будешь использовать в будущем.\n",
    "</div>"
   ]
  },
  {
   "cell_type": "markdown",
   "metadata": {
    "id": "SG23P8tt_Zcs"
   },
   "source": [
    "Прочитайте файл `yandex_music_project.csv` из папки `/datasets` и сохраните его в переменной `df`:"
   ]
  },
  {
   "cell_type": "code",
   "execution_count": 2,
   "metadata": {
    "id": "fFVu7vqh_Zct"
   },
   "outputs": [],
   "source": [
    "# чтение файла с данными и сохранение в df\n",
    "df = pd.read_csv ('/datasets/yandex_music_project.csv')"
   ]
  },
  {
   "cell_type": "markdown",
   "metadata": {},
   "source": [
    "<div class=\"alert alert-success\">\n",
    "<b>Комментарий ревьюера ✔️:</b>\n",
    "    \n",
    "Верно, слэш в начале пути важен, так как указывает, что нужно искать файл в корневой папке. </div>"
   ]
  },
  {
   "cell_type": "markdown",
   "metadata": {
    "id": "rDoOMd3uTqnZ"
   },
   "source": [
    "Выведите на экран первые десять строк таблицы:"
   ]
  },
  {
   "cell_type": "code",
   "execution_count": 3,
   "metadata": {
    "id": "oWTVX3gW_Zct"
   },
   "outputs": [
    {
     "data": {
      "text/html": [
       "<div>\n",
       "<style scoped>\n",
       "    .dataframe tbody tr th:only-of-type {\n",
       "        vertical-align: middle;\n",
       "    }\n",
       "\n",
       "    .dataframe tbody tr th {\n",
       "        vertical-align: top;\n",
       "    }\n",
       "\n",
       "    .dataframe thead th {\n",
       "        text-align: right;\n",
       "    }\n",
       "</style>\n",
       "<table border=\"1\" class=\"dataframe\">\n",
       "  <thead>\n",
       "    <tr style=\"text-align: right;\">\n",
       "      <th></th>\n",
       "      <th>userID</th>\n",
       "      <th>Track</th>\n",
       "      <th>artist</th>\n",
       "      <th>genre</th>\n",
       "      <th>City</th>\n",
       "      <th>time</th>\n",
       "      <th>Day</th>\n",
       "    </tr>\n",
       "  </thead>\n",
       "  <tbody>\n",
       "    <tr>\n",
       "      <td>0</td>\n",
       "      <td>FFB692EC</td>\n",
       "      <td>Kamigata To Boots</td>\n",
       "      <td>The Mass Missile</td>\n",
       "      <td>rock</td>\n",
       "      <td>Saint-Petersburg</td>\n",
       "      <td>20:28:33</td>\n",
       "      <td>Wednesday</td>\n",
       "    </tr>\n",
       "    <tr>\n",
       "      <td>1</td>\n",
       "      <td>55204538</td>\n",
       "      <td>Delayed Because of Accident</td>\n",
       "      <td>Andreas Rönnberg</td>\n",
       "      <td>rock</td>\n",
       "      <td>Moscow</td>\n",
       "      <td>14:07:09</td>\n",
       "      <td>Friday</td>\n",
       "    </tr>\n",
       "    <tr>\n",
       "      <td>2</td>\n",
       "      <td>20EC38</td>\n",
       "      <td>Funiculì funiculà</td>\n",
       "      <td>Mario Lanza</td>\n",
       "      <td>pop</td>\n",
       "      <td>Saint-Petersburg</td>\n",
       "      <td>20:58:07</td>\n",
       "      <td>Wednesday</td>\n",
       "    </tr>\n",
       "    <tr>\n",
       "      <td>3</td>\n",
       "      <td>A3DD03C9</td>\n",
       "      <td>Dragons in the Sunset</td>\n",
       "      <td>Fire + Ice</td>\n",
       "      <td>folk</td>\n",
       "      <td>Saint-Petersburg</td>\n",
       "      <td>08:37:09</td>\n",
       "      <td>Monday</td>\n",
       "    </tr>\n",
       "    <tr>\n",
       "      <td>4</td>\n",
       "      <td>E2DC1FAE</td>\n",
       "      <td>Soul People</td>\n",
       "      <td>Space Echo</td>\n",
       "      <td>dance</td>\n",
       "      <td>Moscow</td>\n",
       "      <td>08:34:34</td>\n",
       "      <td>Monday</td>\n",
       "    </tr>\n",
       "    <tr>\n",
       "      <td>5</td>\n",
       "      <td>842029A1</td>\n",
       "      <td>Преданная</td>\n",
       "      <td>IMPERVTOR</td>\n",
       "      <td>rusrap</td>\n",
       "      <td>Saint-Petersburg</td>\n",
       "      <td>13:09:41</td>\n",
       "      <td>Friday</td>\n",
       "    </tr>\n",
       "    <tr>\n",
       "      <td>6</td>\n",
       "      <td>4CB90AA5</td>\n",
       "      <td>True</td>\n",
       "      <td>Roman Messer</td>\n",
       "      <td>dance</td>\n",
       "      <td>Moscow</td>\n",
       "      <td>13:00:07</td>\n",
       "      <td>Wednesday</td>\n",
       "    </tr>\n",
       "    <tr>\n",
       "      <td>7</td>\n",
       "      <td>F03E1C1F</td>\n",
       "      <td>Feeling This Way</td>\n",
       "      <td>Polina Griffith</td>\n",
       "      <td>dance</td>\n",
       "      <td>Moscow</td>\n",
       "      <td>20:47:49</td>\n",
       "      <td>Wednesday</td>\n",
       "    </tr>\n",
       "    <tr>\n",
       "      <td>8</td>\n",
       "      <td>8FA1D3BE</td>\n",
       "      <td>И вновь продолжается бой</td>\n",
       "      <td>NaN</td>\n",
       "      <td>ruspop</td>\n",
       "      <td>Moscow</td>\n",
       "      <td>09:17:40</td>\n",
       "      <td>Friday</td>\n",
       "    </tr>\n",
       "    <tr>\n",
       "      <td>9</td>\n",
       "      <td>E772D5C0</td>\n",
       "      <td>Pessimist</td>\n",
       "      <td>NaN</td>\n",
       "      <td>dance</td>\n",
       "      <td>Saint-Petersburg</td>\n",
       "      <td>21:20:49</td>\n",
       "      <td>Wednesday</td>\n",
       "    </tr>\n",
       "  </tbody>\n",
       "</table>\n",
       "</div>"
      ],
      "text/plain": [
       "     userID                        Track            artist   genre  \\\n",
       "0  FFB692EC            Kamigata To Boots  The Mass Missile    rock   \n",
       "1  55204538  Delayed Because of Accident  Andreas Rönnberg    rock   \n",
       "2    20EC38            Funiculì funiculà       Mario Lanza     pop   \n",
       "3  A3DD03C9        Dragons in the Sunset        Fire + Ice    folk   \n",
       "4  E2DC1FAE                  Soul People        Space Echo   dance   \n",
       "5  842029A1                    Преданная         IMPERVTOR  rusrap   \n",
       "6  4CB90AA5                         True      Roman Messer   dance   \n",
       "7  F03E1C1F             Feeling This Way   Polina Griffith   dance   \n",
       "8  8FA1D3BE     И вновь продолжается бой               NaN  ruspop   \n",
       "9  E772D5C0                    Pessimist               NaN   dance   \n",
       "\n",
       "             City        time        Day  \n",
       "0  Saint-Petersburg  20:28:33  Wednesday  \n",
       "1            Moscow  14:07:09     Friday  \n",
       "2  Saint-Petersburg  20:58:07  Wednesday  \n",
       "3  Saint-Petersburg  08:37:09     Monday  \n",
       "4            Moscow  08:34:34     Monday  \n",
       "5  Saint-Petersburg  13:09:41     Friday  \n",
       "6            Moscow  13:00:07  Wednesday  \n",
       "7            Moscow  20:47:49  Wednesday  \n",
       "8            Moscow  09:17:40     Friday  \n",
       "9  Saint-Petersburg  21:20:49  Wednesday  "
      ]
     },
     "execution_count": 3,
     "metadata": {},
     "output_type": "execute_result"
    }
   ],
   "source": [
    "# получение первых 10 строк таблицы df\n",
    "df.head(10)"
   ]
  },
  {
   "cell_type": "markdown",
   "metadata": {},
   "source": [
    "<div class=\"alert alert-success\">\n",
    "<b>Комментарий ревьюера ✔️:</b>\n",
    "    \n",
    "Верное использование `head()`.\n",
    "А еще есть аналогичный метод `tail()`, который возвращает последние строки датафрейма.\n",
    "\n",
    "`display()` здесь можно не использовать: последняя (а в нашем случае единственная) строка ячейки будет выведена сама.</div>"
   ]
  },
  {
   "cell_type": "markdown",
   "metadata": {
    "id": "EO73Kwic_Zct"
   },
   "source": [
    "Одной командой получить общую информацию о таблице:"
   ]
  },
  {
   "cell_type": "code",
   "execution_count": 4,
   "metadata": {},
   "outputs": [
    {
     "name": "stdout",
     "output_type": "stream",
     "text": [
      "<class 'pandas.core.frame.DataFrame'>\n",
      "RangeIndex: 65079 entries, 0 to 65078\n",
      "Data columns (total 7 columns):\n",
      "  userID    65079 non-null object\n",
      "Track       63848 non-null object\n",
      "artist      57876 non-null object\n",
      "genre       63881 non-null object\n",
      "  City      65079 non-null object\n",
      "time        65079 non-null object\n",
      "Day         65079 non-null object\n",
      "dtypes: object(7)\n",
      "memory usage: 3.5+ MB\n"
     ]
    }
   ],
   "source": [
    "df.info() # получим общую информацию о таблице df"
   ]
  },
  {
   "cell_type": "markdown",
   "metadata": {},
   "source": [
    "<div class=\"alert alert-success\">\n",
    "<b>Комментарий ревьюера ✔️:</b>\n",
    "    \n",
    "Именно, `info()` позволяет самым удобным и простым способом посмотреть подробную информацию о датафрейме.</div>"
   ]
  },
  {
   "cell_type": "markdown",
   "metadata": {
    "id": "TaQ2Iwbr_Zct"
   },
   "source": [
    "Итак, в таблице семь столбцов. Тип данных во всех столбцах — `object`.\n",
    "\n",
    "Согласно документации к данным:\n",
    "* `userID` — идентификатор пользователя;\n",
    "* `Track` — название трека;  \n",
    "* `artist` — имя исполнителя;\n",
    "* `genre` — название жанра;\n",
    "* `City` — город пользователя;\n",
    "* `time` — время начала прослушивания;\n",
    "* `Day` — день недели.\n",
    "\n",
    "В названиях колонок видны три нарушения стиля:\n",
    "1. Строчные буквы сочетаются с прописными.\n",
    "2. Встречаются пробелы.\n",
    "3. Найдите ещё одну проблему в названии колонок и опишите её в этом пункте.\n",
    "\n",
    "Количество значений в столбцах различается. Значит, в данных есть пропущенные значения.\n"
   ]
  },
  {
   "cell_type": "markdown",
   "metadata": {},
   "source": [
    "**Мой комментарий**\n",
    "\n",
    "Имеется слитная запись и \"верблюжий стиль\" - в столбце `userID` "
   ]
  },
  {
   "cell_type": "markdown",
   "metadata": {},
   "source": [
    "<div class=\"alert alert-success\">\n",
    "<b>Комментарий ревьюера ✔️:</b>\n",
    "\n",
    "Совершенно верно, не используется «змеиный» регистр.\n",
    "\n",
    "Ответ можно дать прям вместо формулировки.</div>"
   ]
  },
  {
   "cell_type": "markdown",
   "metadata": {
    "id": "MCB6-dXG_Zct"
   },
   "source": [
    "**Выводы**\n",
    "\n",
    "В каждой строке таблицы — данные о прослушанном треке. Часть колонок описывает саму композицию: название, исполнителя и жанр. Остальные данные рассказывают о пользователе: из какого он города, когда он слушал музыку. \n",
    "\n",
    "Предварительно можно утверждать, что, данных достаточно для проверки гипотез. Но встречаются пропуски в данных, а в названиях колонок — расхождения с хорошим стилем. \n",
    "\n",
    "\n",
    "Чтобы двигаться дальше, нужно устранить проблемы в данных."
   ]
  },
  {
   "cell_type": "markdown",
   "metadata": {
    "id": "SjYF6Ub9_Zct"
   },
   "source": [
    "## Предобработка данных\n",
    "Исправьте стиль в заголовках столбцов, исключите пропуски. Затем проверьте данные на дубликаты.\n",
    "\n",
    "Проверку будем проводять для явных и скрытых дубликатов."
   ]
  },
  {
   "cell_type": "markdown",
   "metadata": {
    "id": "dIaKXr29_Zct"
   },
   "source": [
    "### Стиль заголовков\n",
    "Выведите на экран названия столбцов:"
   ]
  },
  {
   "cell_type": "code",
   "execution_count": 5,
   "metadata": {
    "id": "oKOTdF_Q_Zct"
   },
   "outputs": [
    {
     "data": {
      "text/plain": [
       "Index(['  userID', 'Track', 'artist', 'genre', '  City  ', 'time', 'Day'], dtype='object')"
      ]
     },
     "execution_count": 5,
     "metadata": {},
     "output_type": "execute_result"
    }
   ],
   "source": [
    "# перечень названий столбцов таблицы df\n",
    "df.columns"
   ]
  },
  {
   "cell_type": "markdown",
   "metadata": {},
   "source": [
    "<div class=\"alert alert-success\">\n",
    "<b>Комментарий ревьюера ✔️:</b>\n",
    "    \n",
    "Ты верно используешь `columns` для решения задачи. Отлично, что ты здесь не использовал функцию `print()`: результат и так будет выведен, ведь это последняя строчка ячейки.</div>"
   ]
  },
  {
   "cell_type": "markdown",
   "metadata": {
    "id": "zj5534cv_Zct"
   },
   "source": [
    "Приведите названия в соответствие с хорошим стилем:\n",
    "* несколько слов в названии запишите в «змеином_регистре»,\n",
    "* все символы сделайте строчными,\n",
    "* устраните пробелы.\n",
    "\n",
    "Для этого переименуйте колонки так:\n",
    "* `'  userID'` → `'user_id'`;\n",
    "* `'Track'` → `'track'`;\n",
    "* `'  City  '` → `'city'`;\n",
    "* `'Day'` → `'day'`."
   ]
  },
  {
   "cell_type": "code",
   "execution_count": 6,
   "metadata": {
    "id": "ISlFqs5y_Zct"
   },
   "outputs": [],
   "source": [
    "# переименование столбцов\n",
    "df = df.rename (columns = {'  userID':'user_id', 'Track':'track', '  City  ':'city', 'Day':'day'})"
   ]
  },
  {
   "cell_type": "markdown",
   "metadata": {
    "id": "1dqbh00J_Zct"
   },
   "source": [
    "Проверьте результат. Для этого ещё раз выведите на экран названия столбцов:"
   ]
  },
  {
   "cell_type": "code",
   "execution_count": 7,
   "metadata": {
    "id": "d4NOAmTW_Zct"
   },
   "outputs": [
    {
     "data": {
      "text/plain": [
       "Index(['user_id', 'track', 'artist', 'genre', 'city', 'time', 'day'], dtype='object')"
      ]
     },
     "execution_count": 7,
     "metadata": {},
     "output_type": "execute_result"
    }
   ],
   "source": [
    "# проверка результатов после переименования столбцов\n",
    "# перечень названий столбцов\n",
    "df.columns"
   ]
  },
  {
   "cell_type": "markdown",
   "metadata": {},
   "source": [
    "<div class=\"alert alert-success\">\n",
    "<b>Комментарий ревьюера ✔️:</b>\n",
    "    \n",
    "Хороший выбор метода, так как `rename()` сработает, даже если изменится порядок столбцов. А это будет удобно, когда столбцов для переименования станет намного больше.\n",
    "</div>"
   ]
  },
  {
   "cell_type": "markdown",
   "metadata": {
    "id": "5ISfbcfY_Zct"
   },
   "source": [
    "### Пропуски значений\n",
    "Сначала посчитайте, сколько в таблице пропущенных значений. Для этого достаточно двух методов `pandas`:"
   ]
  },
  {
   "cell_type": "code",
   "execution_count": 8,
   "metadata": {
    "id": "RskX29qr_Zct"
   },
   "outputs": [
    {
     "data": {
      "text/plain": [
       "user_id       0\n",
       "track      1231\n",
       "artist     7203\n",
       "genre      1198\n",
       "city          0\n",
       "time          0\n",
       "day           0\n",
       "dtype: int64"
      ]
     },
     "execution_count": 8,
     "metadata": {},
     "output_type": "execute_result"
    }
   ],
   "source": [
    "# подсчёт пропусков\n",
    "df.isna().sum() # оценим количество пропусков "
   ]
  },
  {
   "cell_type": "markdown",
   "metadata": {},
   "source": [
    "<div class=\"alert alert-success\">\n",
    "<b>Комментарий ревьюера ✔️:</b>\n",
    "    \n",
    "Хорошо, что для нахождения пропущенных значений ты выбрал метод `isna()`. На самом деле, у него есть альтернативы, которые делают одно и то же (например, `isnull()`), но использование `isna()` все же предпочтительнее.\n",
    "</div>"
   ]
  },
  {
   "cell_type": "markdown",
   "metadata": {
    "id": "qubhgnlO_Zct"
   },
   "source": [
    "Не все пропущенные значения влияют на исследование. Так в `track` и `artist` пропуски не важны для вашей работы. Достаточно заменить их явными обозначениями.\n",
    "\n",
    "Но пропуски в `genre` могут помешать сравнению музыкальных вкусов в Москве и Санкт-Петербурге. На практике было бы правильно установить причину пропусков и восстановить данные. Такой возможности нет в учебном проекте. Придётся:\n",
    "* заполнить и эти пропуски явными обозначениями,\n",
    "* оценить, насколько они повредят расчётам. "
   ]
  },
  {
   "cell_type": "markdown",
   "metadata": {
    "id": "fSv2laPA_Zct"
   },
   "source": [
    "Замените пропущенные значения в столбцах `track`, `artist` и `genre` на строку `'unknown'`. Для этого создайте список `columns_to_replace`, переберите его элементы циклом `for` и для каждого столбца выполните замену пропущенных значений:"
   ]
  },
  {
   "cell_type": "code",
   "execution_count": 9,
   "metadata": {
    "id": "KplB5qWs_Zct"
   },
   "outputs": [],
   "source": [
    "# перебор названий столбцов в цикле и замена пропущенных значений на 'unknown'\n",
    "columns_to_replace = ['track', 'artist', 'genre']\n",
    "for column in columns_to_replace:\n",
    "    df[column] = df[column].fillna('unknown')"
   ]
  },
  {
   "cell_type": "markdown",
   "metadata": {
    "id": "Ilsm-MZo_Zct"
   },
   "source": [
    "Убедитесь, что в таблице не осталось пропусков. Для этого ещё раз посчитайте пропущенные значения."
   ]
  },
  {
   "cell_type": "code",
   "execution_count": 10,
   "metadata": {
    "id": "Tq4nYRX4_Zct"
   },
   "outputs": [
    {
     "data": {
      "text/plain": [
       "user_id    0\n",
       "track      0\n",
       "artist     0\n",
       "genre      0\n",
       "city       0\n",
       "time       0\n",
       "day        0\n",
       "dtype: int64"
      ]
     },
     "execution_count": 10,
     "metadata": {},
     "output_type": "execute_result"
    }
   ],
   "source": [
    "# подсчёт пропусков\n",
    "# оценим количество пропусков после заполнения пропущенных значений\n",
    "df.isna().sum() "
   ]
  },
  {
   "cell_type": "markdown",
   "metadata": {},
   "source": [
    "Повторный подсчёт пропусков показывает, что все пропущенные значения были заполнены"
   ]
  },
  {
   "cell_type": "markdown",
   "metadata": {},
   "source": [
    "<div class=\"alert alert-success\">\n",
    "<b>Комментарий ревьюера ✔️:</b>\n",
    "    \n",
    "Решение составлено совершенно верно, цикл отрабатывает без ошибок.\n",
    "</div>"
   ]
  },
  {
   "cell_type": "markdown",
   "metadata": {
    "id": "BWKRtBJ3_Zct"
   },
   "source": [
    "### Дубликаты\n",
    "Посчитайте явные дубликаты в таблице одной командой:"
   ]
  },
  {
   "cell_type": "code",
   "execution_count": 11,
   "metadata": {
    "id": "36eES_S0_Zct"
   },
   "outputs": [
    {
     "name": "stdout",
     "output_type": "stream",
     "text": [
      "Количесвто явных дубликатов:  3826\n"
     ]
    }
   ],
   "source": [
    "# подсчёт явных дубликатов\n",
    "ammount_dulicates = df.duplicated().sum()\n",
    "print ('Количесвто явных дубликатов: ', ammount_dulicates)"
   ]
  },
  {
   "cell_type": "markdown",
   "metadata": {},
   "source": [
    "<div class=\"alert alert-success\">\n",
    "<b>Комментарий ревьюера ✔️:</b>\n",
    "    \n",
    "Дубликаты найдены и подсчитаны верным и оптимальным способом.\n",
    "</div>"
   ]
  },
  {
   "cell_type": "markdown",
   "metadata": {
    "id": "Ot25h6XR_Zct"
   },
   "source": [
    "Вызовите специальный метод `pandas`, чтобы удалить явные дубликаты:"
   ]
  },
  {
   "cell_type": "code",
   "execution_count": 12,
   "metadata": {
    "id": "exFHq6tt_Zct"
   },
   "outputs": [
    {
     "name": "stdout",
     "output_type": "stream",
     "text": [
      "<class 'pandas.core.frame.DataFrame'>\n",
      "RangeIndex: 61253 entries, 0 to 61252\n",
      "Data columns (total 7 columns):\n",
      "user_id    61253 non-null object\n",
      "track      61253 non-null object\n",
      "artist     61253 non-null object\n",
      "genre      61253 non-null object\n",
      "city       61253 non-null object\n",
      "time       61253 non-null object\n",
      "day        61253 non-null object\n",
      "dtypes: object(7)\n",
      "memory usage: 3.3+ MB\n"
     ]
    }
   ],
   "source": [
    "# удаление явных дубликатов (с удалением старых индексов и формированием новых)\n",
    "df = df.drop_duplicates().reset_index (drop = True)\n",
    "df.info()"
   ]
  },
  {
   "cell_type": "markdown",
   "metadata": {},
   "source": [
    "До удаления дубликатов - 65079 строк.\n",
    "\n",
    "После удаления дубликатов - 61253 строки. \n",
    "\n"
   ]
  },
  {
   "cell_type": "markdown",
   "metadata": {
    "id": "Im2YwBEG_Zct"
   },
   "source": [
    "Ещё раз посчитайте явные дубликаты в таблице — убедитесь, что полностью от них избавились:"
   ]
  },
  {
   "cell_type": "code",
   "execution_count": 13,
   "metadata": {
    "id": "-8PuNWQ0_Zct"
   },
   "outputs": [
    {
     "name": "stdout",
     "output_type": "stream",
     "text": [
      "Количесвто явных дубликатов после удаления:  0\n"
     ]
    }
   ],
   "source": [
    "# повторная проверка на отсутствие дубликатов\n",
    "ammount_dulicates = df.duplicated().sum()\n",
    "print ('Количесвто явных дубликатов после удаления: ', ammount_dulicates)"
   ]
  },
  {
   "cell_type": "markdown",
   "metadata": {},
   "source": [
    "<div class=\"alert alert-success\">\n",
    "<b>Комментарий ревьюера ✔️:</b>\n",
    "    \n",
    "Верно! Хорошо, что умеешь удалять старые индексы с помощью параметра `drop`.\n",
    "</div>"
   ]
  },
  {
   "cell_type": "markdown",
   "metadata": {
    "id": "QlFBsxAr_Zct"
   },
   "source": [
    "Теперь избавьтесь от неявных дубликатов в колонке `genre`. Например, название одного и того же жанра может быть записано немного по-разному. Такие ошибки тоже повлияют на результат исследования."
   ]
  },
  {
   "cell_type": "markdown",
   "metadata": {
    "id": "eSjWwsOh_Zct"
   },
   "source": [
    "Выведите на экран список уникальных названий жанров, отсортированный в алфавитном порядке. Для этого:\n",
    "* извлеките нужный столбец датафрейма, \n",
    "* примените к нему метод сортировки,\n",
    "* для отсортированного столбца вызовите метод, который вернёт уникальные значения из столбца."
   ]
  },
  {
   "cell_type": "code",
   "execution_count": 14,
   "metadata": {
    "id": "JIUcqzZN_Zct"
   },
   "outputs": [
    {
     "name": "stdout",
     "output_type": "stream",
     "text": [
      "Количество уникальных жанров до удаления дубликатов:  290\n"
     ]
    },
    {
     "data": {
      "text/plain": [
       "array(['acid', 'acoustic', 'action', 'adult', 'africa', 'afrikaans',\n",
       "       'alternative', 'alternativepunk', 'ambient', 'americana',\n",
       "       'animated', 'anime', 'arabesk', 'arabic', 'arena',\n",
       "       'argentinetango', 'art', 'audiobook', 'author', 'avantgarde',\n",
       "       'axé', 'baile', 'balkan', 'beats', 'bigroom', 'black', 'bluegrass',\n",
       "       'blues', 'bollywood', 'bossa', 'brazilian', 'breakbeat', 'breaks',\n",
       "       'broadway', 'cantautori', 'cantopop', 'canzone', 'caribbean',\n",
       "       'caucasian', 'celtic', 'chamber', 'chanson', 'children', 'chill',\n",
       "       'chinese', 'choral', 'christian', 'christmas', 'classical',\n",
       "       'classicmetal', 'club', 'colombian', 'comedy', 'conjazz',\n",
       "       'contemporary', 'country', 'cuban', 'dance', 'dancehall',\n",
       "       'dancepop', 'dark', 'death', 'deep', 'deutschrock', 'deutschspr',\n",
       "       'dirty', 'disco', 'dnb', 'documentary', 'downbeat', 'downtempo',\n",
       "       'drum', 'dub', 'dubstep', 'eastern', 'easy', 'electronic',\n",
       "       'electropop', 'emo', 'entehno', 'epicmetal', 'estrada', 'ethnic',\n",
       "       'eurofolk', 'european', 'experimental', 'extrememetal', 'fado',\n",
       "       'fairytail', 'film', 'fitness', 'flamenco', 'folk', 'folklore',\n",
       "       'folkmetal', 'folkrock', 'folktronica', 'forró', 'frankreich',\n",
       "       'französisch', 'french', 'funk', 'future', 'gangsta', 'garage',\n",
       "       'german', 'ghazal', 'gitarre', 'glitch', 'gospel', 'gothic',\n",
       "       'grime', 'grunge', 'gypsy', 'handsup', \"hard'n'heavy\", 'hardcore',\n",
       "       'hardstyle', 'hardtechno', 'hip', 'hip-hop', 'hiphop',\n",
       "       'historisch', 'holiday', 'hop', 'horror', 'house', 'hymn', 'idm',\n",
       "       'independent', 'indian', 'indie', 'indipop', 'industrial',\n",
       "       'inspirational', 'instrumental', 'international', 'irish', 'jam',\n",
       "       'japanese', 'jazz', 'jewish', 'jpop', 'jungle', 'k-pop',\n",
       "       'karadeniz', 'karaoke', 'kayokyoku', 'korean', 'laiko', 'latin',\n",
       "       'latino', 'leftfield', 'local', 'lounge', 'loungeelectronic',\n",
       "       'lovers', 'malaysian', 'mandopop', 'marschmusik', 'meditative',\n",
       "       'mediterranean', 'melodic', 'metal', 'metalcore', 'mexican',\n",
       "       'middle', 'minimal', 'miscellaneous', 'modern', 'mood', 'mpb',\n",
       "       'muslim', 'native', 'neoklassik', 'neue', 'new', 'newage',\n",
       "       'newwave', 'nu', 'nujazz', 'numetal', 'oceania', 'old', 'opera',\n",
       "       'orchestral', 'other', 'piano', 'podcasts', 'pop', 'popdance',\n",
       "       'popelectronic', 'popeurodance', 'poprussian', 'post',\n",
       "       'posthardcore', 'postrock', 'power', 'progmetal', 'progressive',\n",
       "       'psychedelic', 'punjabi', 'punk', 'quebecois', 'ragga', 'ram',\n",
       "       'rancheras', 'rap', 'rave', 'reggae', 'reggaeton', 'regional',\n",
       "       'relax', 'religious', 'retro', 'rhythm', 'rnb', 'rnr', 'rock',\n",
       "       'rockabilly', 'rockalternative', 'rockindie', 'rockother',\n",
       "       'romance', 'roots', 'ruspop', 'rusrap', 'rusrock', 'russian',\n",
       "       'salsa', 'samba', 'scenic', 'schlager', 'self', 'sertanejo',\n",
       "       'shanson', 'shoegazing', 'showtunes', 'singer', 'ska', 'skarock',\n",
       "       'slow', 'smooth', 'soft', 'soul', 'soulful', 'sound', 'soundtrack',\n",
       "       'southern', 'specialty', 'speech', 'spiritual', 'sport',\n",
       "       'stonerrock', 'surf', 'swing', 'synthpop', 'synthrock',\n",
       "       'sängerportrait', 'tango', 'tanzorchester', 'taraftar', 'tatar',\n",
       "       'tech', 'techno', 'teen', 'thrash', 'top', 'traditional',\n",
       "       'tradjazz', 'trance', 'tribal', 'trip', 'triphop', 'tropical',\n",
       "       'türk', 'türkçe', 'ukrrock', 'unknown', 'urban', 'uzbek',\n",
       "       'variété', 'vi', 'videogame', 'vocal', 'western', 'world',\n",
       "       'worldbeat', 'ïîï', 'электроника'], dtype=object)"
      ]
     },
     "execution_count": 14,
     "metadata": {},
     "output_type": "execute_result"
    }
   ],
   "source": [
    "# Просмотр уникальных названий жанров\n",
    "\n",
    "# уникальные значения столбца \"жанр\", отсортированные в алфавитном порядке\n",
    "sorted_gerne_series = df['genre'].sort_values().unique() \n",
    "print ('Количество уникальных жанров до удаления дубликатов: ', len (sorted_gerne_series))\n",
    "sorted_gerne_series"
   ]
  },
  {
   "cell_type": "markdown",
   "metadata": {},
   "source": [
    "<div class=\"alert alert-success\">\n",
    "<b>Комментарий ревьюера ✔️:</b>\n",
    "    \n",
    "Список совсем не маленький — наверняка многие названия обозначают один и тот же жанр.\n",
    "</div>"
   ]
  },
  {
   "cell_type": "markdown",
   "metadata": {
    "id": "qej-Qmuo_Zct"
   },
   "source": [
    "Просмотрите список и найдите неявные дубликаты названия `hiphop`. Это могут быть названия с ошибками или альтернативные названия того же жанра.\n",
    "\n",
    "Вы увидите следующие неявные дубликаты:\n",
    "* *hip*,\n",
    "* *hop*,\n",
    "* *hip-hop*.\n",
    "\n",
    "Чтобы очистить от них таблицу, напишите функцию `replace_wrong_genres()` с двумя параметрами: \n",
    "* `wrong_genres` — список дубликатов,\n",
    "* `correct_genre` — строка с правильным значением.\n",
    "\n",
    "Функция должна исправить колонку `genre` в таблице `df`: заменить каждое значение из списка `wrong_genres` на значение из `correct_genre`."
   ]
  },
  {
   "cell_type": "code",
   "execution_count": 15,
   "metadata": {
    "id": "ErNDkmns_Zct"
   },
   "outputs": [],
   "source": [
    "# Функция для замены неявных дубликатов\n",
    "def replace_wrong_genres(wrong_genres, correct_genre):\n",
    "    for wrong_genre in wrong_genres:\n",
    "        df['genre'] = df['genre'].replace (wrong_genre, correct_genre)"
   ]
  },
  {
   "cell_type": "markdown",
   "metadata": {},
   "source": [
    "<div class=\"alert alert-success\">\n",
    "<b>Комментарий ревьюера ✔️:</b>\n",
    "    \n",
    "Функция написана верно.\n",
    "</div>"
   ]
  },
  {
   "cell_type": "markdown",
   "metadata": {
    "id": "aDoBJxbA_Zct"
   },
   "source": [
    "Вызовите `replace_wrong_genres()` и передайте ей такие аргументы, чтобы она устранила неявные дубликаты: вместо `hip`, `hop` и `hip-hop` в таблице должно быть значение `hiphop`:"
   ]
  },
  {
   "cell_type": "code",
   "execution_count": 16,
   "metadata": {
    "id": "YN5i2hpmSo09"
   },
   "outputs": [],
   "source": [
    "# Устранение неявных дубликатов 'hiphop'\n",
    "wrong_genres = ['hip', 'hip-hop', 'hop']\n",
    "correct_genre = 'hiphop'\n",
    "                \n",
    "replace_wrong_genres(wrong_genres, correct_genre)"
   ]
  },
  {
   "cell_type": "markdown",
   "metadata": {},
   "source": [
    "<div class=\"alert alert-success\">\n",
    "<b>Комментарий ревьюера ✔️:</b> \n",
    "    \n",
    "Отлично!\n",
    "</div>"
   ]
  },
  {
   "cell_type": "markdown",
   "metadata": {
    "id": "zQKF16_RG15m"
   },
   "source": [
    "Проверьте, что заменили неправильные названия:\n",
    "\n",
    "*   hip\n",
    "*   hop\n",
    "*   hip-hop\n",
    "\n",
    "Выведите отсортированный список уникальных значений столбца `genre`:"
   ]
  },
  {
   "cell_type": "code",
   "execution_count": 17,
   "metadata": {
    "id": "wvixALnFG15m"
   },
   "outputs": [
    {
     "name": "stdout",
     "output_type": "stream",
     "text": [
      "Количество уникальных жанров до удаления дубликатов:  290\n",
      "Количество уникальных жанров после удаления дубликатов:  287\n"
     ]
    },
    {
     "data": {
      "text/plain": [
       "array(['acid', 'acoustic', 'action', 'adult', 'africa', 'afrikaans',\n",
       "       'alternative', 'alternativepunk', 'ambient', 'americana',\n",
       "       'animated', 'anime', 'arabesk', 'arabic', 'arena',\n",
       "       'argentinetango', 'art', 'audiobook', 'author', 'avantgarde',\n",
       "       'axé', 'baile', 'balkan', 'beats', 'bigroom', 'black', 'bluegrass',\n",
       "       'blues', 'bollywood', 'bossa', 'brazilian', 'breakbeat', 'breaks',\n",
       "       'broadway', 'cantautori', 'cantopop', 'canzone', 'caribbean',\n",
       "       'caucasian', 'celtic', 'chamber', 'chanson', 'children', 'chill',\n",
       "       'chinese', 'choral', 'christian', 'christmas', 'classical',\n",
       "       'classicmetal', 'club', 'colombian', 'comedy', 'conjazz',\n",
       "       'contemporary', 'country', 'cuban', 'dance', 'dancehall',\n",
       "       'dancepop', 'dark', 'death', 'deep', 'deutschrock', 'deutschspr',\n",
       "       'dirty', 'disco', 'dnb', 'documentary', 'downbeat', 'downtempo',\n",
       "       'drum', 'dub', 'dubstep', 'eastern', 'easy', 'electronic',\n",
       "       'electropop', 'emo', 'entehno', 'epicmetal', 'estrada', 'ethnic',\n",
       "       'eurofolk', 'european', 'experimental', 'extrememetal', 'fado',\n",
       "       'fairytail', 'film', 'fitness', 'flamenco', 'folk', 'folklore',\n",
       "       'folkmetal', 'folkrock', 'folktronica', 'forró', 'frankreich',\n",
       "       'französisch', 'french', 'funk', 'future', 'gangsta', 'garage',\n",
       "       'german', 'ghazal', 'gitarre', 'glitch', 'gospel', 'gothic',\n",
       "       'grime', 'grunge', 'gypsy', 'handsup', \"hard'n'heavy\", 'hardcore',\n",
       "       'hardstyle', 'hardtechno', 'hiphop', 'historisch', 'holiday',\n",
       "       'horror', 'house', 'hymn', 'idm', 'independent', 'indian', 'indie',\n",
       "       'indipop', 'industrial', 'inspirational', 'instrumental',\n",
       "       'international', 'irish', 'jam', 'japanese', 'jazz', 'jewish',\n",
       "       'jpop', 'jungle', 'k-pop', 'karadeniz', 'karaoke', 'kayokyoku',\n",
       "       'korean', 'laiko', 'latin', 'latino', 'leftfield', 'local',\n",
       "       'lounge', 'loungeelectronic', 'lovers', 'malaysian', 'mandopop',\n",
       "       'marschmusik', 'meditative', 'mediterranean', 'melodic', 'metal',\n",
       "       'metalcore', 'mexican', 'middle', 'minimal', 'miscellaneous',\n",
       "       'modern', 'mood', 'mpb', 'muslim', 'native', 'neoklassik', 'neue',\n",
       "       'new', 'newage', 'newwave', 'nu', 'nujazz', 'numetal', 'oceania',\n",
       "       'old', 'opera', 'orchestral', 'other', 'piano', 'podcasts', 'pop',\n",
       "       'popdance', 'popelectronic', 'popeurodance', 'poprussian', 'post',\n",
       "       'posthardcore', 'postrock', 'power', 'progmetal', 'progressive',\n",
       "       'psychedelic', 'punjabi', 'punk', 'quebecois', 'ragga', 'ram',\n",
       "       'rancheras', 'rap', 'rave', 'reggae', 'reggaeton', 'regional',\n",
       "       'relax', 'religious', 'retro', 'rhythm', 'rnb', 'rnr', 'rock',\n",
       "       'rockabilly', 'rockalternative', 'rockindie', 'rockother',\n",
       "       'romance', 'roots', 'ruspop', 'rusrap', 'rusrock', 'russian',\n",
       "       'salsa', 'samba', 'scenic', 'schlager', 'self', 'sertanejo',\n",
       "       'shanson', 'shoegazing', 'showtunes', 'singer', 'ska', 'skarock',\n",
       "       'slow', 'smooth', 'soft', 'soul', 'soulful', 'sound', 'soundtrack',\n",
       "       'southern', 'specialty', 'speech', 'spiritual', 'sport',\n",
       "       'stonerrock', 'surf', 'swing', 'synthpop', 'synthrock',\n",
       "       'sängerportrait', 'tango', 'tanzorchester', 'taraftar', 'tatar',\n",
       "       'tech', 'techno', 'teen', 'thrash', 'top', 'traditional',\n",
       "       'tradjazz', 'trance', 'tribal', 'trip', 'triphop', 'tropical',\n",
       "       'türk', 'türkçe', 'ukrrock', 'unknown', 'urban', 'uzbek',\n",
       "       'variété', 'vi', 'videogame', 'vocal', 'western', 'world',\n",
       "       'worldbeat', 'ïîï', 'электроника'], dtype=object)"
      ]
     },
     "execution_count": 17,
     "metadata": {},
     "output_type": "execute_result"
    }
   ],
   "source": [
    "# Проверка на неявные дубликаты после удаления hiphop\n",
    "sorted_gerne_series_clean = df['genre'].sort_values().unique() \n",
    "print ('Количество уникальных жанров до удаления дубликатов: ', len (sorted_gerne_series))\n",
    "print ('Количество уникальных жанров после удаления дубликатов: ', len (sorted_gerne_series_clean))\n",
    "sorted_gerne_series_clean"
   ]
  },
  {
   "cell_type": "markdown",
   "metadata": {},
   "source": [
    "<div class=\"alert alert-success\">\n",
    "<b>Комментарий ревьюера ✔️:</b>\n",
    "    \n",
    "Отлично, дублей хип-хопа больше нет.\n",
    "</div>"
   ]
  },
  {
   "cell_type": "markdown",
   "metadata": {},
   "source": [
    "**При более внимательном изучении данных были ещё найдены неявные дубликаты:**\n",
    "\n",
    "- latin ('latin', 'latino');\n",
    "- turkey ('türk', 'türkçe');\n",
    "- электроника ('electronic').\n",
    "\n",
    "Удалим вышеописанные дубликаты"
   ]
  },
  {
   "cell_type": "code",
   "execution_count": 18,
   "metadata": {},
   "outputs": [],
   "source": [
    "# Устранение неявных дубликатов - latin ('latin', 'latino');\n",
    "wrong_genres = ['latin']\n",
    "correct_genre = 'latino'\n",
    "replace_wrong_genres(wrong_genres, correct_genre)\n",
    "\n",
    "# Устранение неявных дубликатов - turkey ('türk', 'türkçe');\n",
    "wrong_genres = ['türk', 'türkçe']\n",
    "correct_genre = 'turkey'\n",
    "replace_wrong_genres(wrong_genres, correct_genre)\n",
    "\n",
    "# Устранение неявных дубликатов - электроника ('electronic').\n",
    "wrong_genres = ['электроника']\n",
    "correct_genre = 'electronic'              \n",
    "replace_wrong_genres(wrong_genres, correct_genre)"
   ]
  },
  {
   "cell_type": "code",
   "execution_count": 19,
   "metadata": {},
   "outputs": [
    {
     "name": "stdout",
     "output_type": "stream",
     "text": [
      "Количество уникальных жанров до удаления дубликатов:  290\n",
      "Количество уникальных жанров после тщательного удаления дубликатов:  284\n"
     ]
    },
    {
     "data": {
      "text/plain": [
       "array(['acid', 'acoustic', 'action', 'adult', 'africa', 'afrikaans',\n",
       "       'alternative', 'alternativepunk', 'ambient', 'americana',\n",
       "       'animated', 'anime', 'arabesk', 'arabic', 'arena',\n",
       "       'argentinetango', 'art', 'audiobook', 'author', 'avantgarde',\n",
       "       'axé', 'baile', 'balkan', 'beats', 'bigroom', 'black', 'bluegrass',\n",
       "       'blues', 'bollywood', 'bossa', 'brazilian', 'breakbeat', 'breaks',\n",
       "       'broadway', 'cantautori', 'cantopop', 'canzone', 'caribbean',\n",
       "       'caucasian', 'celtic', 'chamber', 'chanson', 'children', 'chill',\n",
       "       'chinese', 'choral', 'christian', 'christmas', 'classical',\n",
       "       'classicmetal', 'club', 'colombian', 'comedy', 'conjazz',\n",
       "       'contemporary', 'country', 'cuban', 'dance', 'dancehall',\n",
       "       'dancepop', 'dark', 'death', 'deep', 'deutschrock', 'deutschspr',\n",
       "       'dirty', 'disco', 'dnb', 'documentary', 'downbeat', 'downtempo',\n",
       "       'drum', 'dub', 'dubstep', 'eastern', 'easy', 'electronic',\n",
       "       'electropop', 'emo', 'entehno', 'epicmetal', 'estrada', 'ethnic',\n",
       "       'eurofolk', 'european', 'experimental', 'extrememetal', 'fado',\n",
       "       'fairytail', 'film', 'fitness', 'flamenco', 'folk', 'folklore',\n",
       "       'folkmetal', 'folkrock', 'folktronica', 'forró', 'frankreich',\n",
       "       'französisch', 'french', 'funk', 'future', 'gangsta', 'garage',\n",
       "       'german', 'ghazal', 'gitarre', 'glitch', 'gospel', 'gothic',\n",
       "       'grime', 'grunge', 'gypsy', 'handsup', \"hard'n'heavy\", 'hardcore',\n",
       "       'hardstyle', 'hardtechno', 'hiphop', 'historisch', 'holiday',\n",
       "       'horror', 'house', 'hymn', 'idm', 'independent', 'indian', 'indie',\n",
       "       'indipop', 'industrial', 'inspirational', 'instrumental',\n",
       "       'international', 'irish', 'jam', 'japanese', 'jazz', 'jewish',\n",
       "       'jpop', 'jungle', 'k-pop', 'karadeniz', 'karaoke', 'kayokyoku',\n",
       "       'korean', 'laiko', 'latino', 'leftfield', 'local', 'lounge',\n",
       "       'loungeelectronic', 'lovers', 'malaysian', 'mandopop',\n",
       "       'marschmusik', 'meditative', 'mediterranean', 'melodic', 'metal',\n",
       "       'metalcore', 'mexican', 'middle', 'minimal', 'miscellaneous',\n",
       "       'modern', 'mood', 'mpb', 'muslim', 'native', 'neoklassik', 'neue',\n",
       "       'new', 'newage', 'newwave', 'nu', 'nujazz', 'numetal', 'oceania',\n",
       "       'old', 'opera', 'orchestral', 'other', 'piano', 'podcasts', 'pop',\n",
       "       'popdance', 'popelectronic', 'popeurodance', 'poprussian', 'post',\n",
       "       'posthardcore', 'postrock', 'power', 'progmetal', 'progressive',\n",
       "       'psychedelic', 'punjabi', 'punk', 'quebecois', 'ragga', 'ram',\n",
       "       'rancheras', 'rap', 'rave', 'reggae', 'reggaeton', 'regional',\n",
       "       'relax', 'religious', 'retro', 'rhythm', 'rnb', 'rnr', 'rock',\n",
       "       'rockabilly', 'rockalternative', 'rockindie', 'rockother',\n",
       "       'romance', 'roots', 'ruspop', 'rusrap', 'rusrock', 'russian',\n",
       "       'salsa', 'samba', 'scenic', 'schlager', 'self', 'sertanejo',\n",
       "       'shanson', 'shoegazing', 'showtunes', 'singer', 'ska', 'skarock',\n",
       "       'slow', 'smooth', 'soft', 'soul', 'soulful', 'sound', 'soundtrack',\n",
       "       'southern', 'specialty', 'speech', 'spiritual', 'sport',\n",
       "       'stonerrock', 'surf', 'swing', 'synthpop', 'synthrock',\n",
       "       'sängerportrait', 'tango', 'tanzorchester', 'taraftar', 'tatar',\n",
       "       'tech', 'techno', 'teen', 'thrash', 'top', 'traditional',\n",
       "       'tradjazz', 'trance', 'tribal', 'trip', 'triphop', 'tropical',\n",
       "       'turkey', 'ukrrock', 'unknown', 'urban', 'uzbek', 'variété', 'vi',\n",
       "       'videogame', 'vocal', 'western', 'world', 'worldbeat', 'ïîï'],\n",
       "      dtype=object)"
      ]
     },
     "execution_count": 19,
     "metadata": {},
     "output_type": "execute_result"
    }
   ],
   "source": [
    "# Проверка на неявные дубликаты после тщательного удаления (latin, turkey, электроника)\n",
    "\n",
    "sorted_gerne_series_clean = df['genre'].sort_values().unique() \n",
    "print ('Количество уникальных жанров до удаления дубликатов: ', len (sorted_gerne_series))\n",
    "print ('Количество уникальных жанров после тщательного удаления дубликатов: ', len (sorted_gerne_series_clean))\n",
    "sorted_gerne_series_clean"
   ]
  },
  {
   "cell_type": "markdown",
   "metadata": {
    "id": "jz6a9-7HQUDd"
   },
   "source": [
    "**Выводы**\n",
    "\n",
    "Предобработка обнаружила три проблемы в данных:\n",
    "\n",
    "- нарушения в стиле заголовков,\n",
    "- пропущенные значения,\n",
    "- дубликаты — явные\n",
    "- **неявные (hiphop, latino, turkey, electronic)**\n",
    "\n",
    "Вы исправили заголовки, чтобы упростить работу с таблицей. Без дубликатов исследование станет более точным.\n",
    "\n",
    "Пропущенные значения вы заменили на `'unknown'`. Ещё предстоит увидеть, не повредят ли исследованию пропуски в колонке `genre`.\n",
    "\n",
    "Теперь можно перейти к проверке гипотез. "
   ]
  },
  {
   "cell_type": "markdown",
   "metadata": {},
   "source": [
    "<div class=\"alert alert-success\">\n",
    "<b>Комментарий ревьюера ✔️:</b>\n",
    "    \n",
    "Верно! Ты молодец, что выходишь за рамки задания\n",
    "</div>"
   ]
  },
  {
   "cell_type": "markdown",
   "metadata": {
    "id": "WttZHXH0SqKk"
   },
   "source": [
    "## Проверка гипотез"
   ]
  },
  {
   "cell_type": "markdown",
   "metadata": {
    "id": "Im936VVi_Zcu"
   },
   "source": [
    "### Сравнение поведения пользователей двух столиц"
   ]
  },
  {
   "cell_type": "markdown",
   "metadata": {
    "id": "nwt_MuaL_Zcu"
   },
   "source": [
    "Первая гипотеза утверждает, что пользователи по-разному слушают музыку в Москве и Санкт-Петербурге. Проверьте это предположение по данным о трёх днях недели — понедельнике, среде и пятнице. Для этого:\n",
    "\n",
    "* Разделите пользователей Москвы и Санкт-Петербурга\n",
    "* Сравните, сколько треков послушала каждая группа пользователей в понедельник, среду и пятницу.\n"
   ]
  },
  {
   "cell_type": "markdown",
   "metadata": {
    "id": "8Dw_YMmT_Zcu"
   },
   "source": [
    "Для тренировки сначала выполните каждый из расчётов по отдельности. \n",
    "\n",
    "Оцените активность пользователей в каждом городе. Сгруппируйте данные по городу и посчитайте прослушивания в каждой группе.\n",
    "\n"
   ]
  },
  {
   "cell_type": "code",
   "execution_count": 20,
   "metadata": {
    "id": "0_Qs96oh_Zcu"
   },
   "outputs": [
    {
     "data": {
      "text/plain": [
       "city\n",
       "Moscow              42741\n",
       "Saint-Petersburg    18512\n",
       "Name: track, dtype: int64"
      ]
     },
     "execution_count": 20,
     "metadata": {},
     "output_type": "execute_result"
    }
   ],
   "source": [
    "# Подсчёт прослушиваний в каждом городе\n",
    "group_by_city = df.groupby('city')['track'].count()\n",
    "group_by_city "
   ]
  },
  {
   "cell_type": "markdown",
   "metadata": {
    "id": "dzli3w8o_Zcu"
   },
   "source": [
    "В Москве прослушиваний больше, чем в Петербурге. Из этого не следует, что московские пользователи чаще слушают музыку. Просто самих пользователей в Москве больше.\n",
    "\n",
    "Теперь сгруппируйте данные по дню недели и подсчитайте прослушивания в понедельник, среду и пятницу. Учтите, что в данных есть информация только о прослушиваниях только за эти дни.\n"
   ]
  },
  {
   "cell_type": "code",
   "execution_count": 21,
   "metadata": {
    "id": "uZMKjiJz_Zcu"
   },
   "outputs": [
    {
     "data": {
      "text/plain": [
       "day\n",
       "Friday       21840\n",
       "Monday       21354\n",
       "Wednesday    18059\n",
       "Name: track, dtype: int64"
      ]
     },
     "execution_count": 21,
     "metadata": {},
     "output_type": "execute_result"
    }
   ],
   "source": [
    "# Подсчёт прослушиваний в каждый из трёх дней\n",
    "group_by_day = df.groupby('day')['track'].count()\n",
    "group_by_day"
   ]
  },
  {
   "cell_type": "markdown",
   "metadata": {},
   "source": [
    "<div class=\"alert alert-success\">\n",
    "<b>Комментарий ревьюера ✔️:</b>\n",
    "    \n",
    "Отлично. Здесь можно считать количество по любому столбцу, так количество значений везде одинаковое.\n",
    "</div>"
   ]
  },
  {
   "cell_type": "markdown",
   "metadata": {
    "id": "cC2tNrlL_Zcu"
   },
   "source": [
    "В среднем пользователи из двух городов менее активны по средам. Но картина может измениться, если рассмотреть каждый город в отдельности."
   ]
  },
  {
   "cell_type": "markdown",
   "metadata": {
    "id": "POzs8bGa_Zcu"
   },
   "source": [
    "Вы видели, как работает группировка по городу и по дням недели. Теперь напишите функцию, которая объединит два эти расчёта.\n",
    "\n",
    "Создайте функцию `number_tracks()`, которая посчитает прослушивания для заданного дня и города. Ей понадобятся два параметра:\n",
    "* день недели,\n",
    "* название города.\n",
    "\n",
    "В функции сохраните в переменную строки исходной таблицы, у которых значение:\n",
    "  * в колонке `day` равно параметру `day`,\n",
    "  * в колонке `city` равно параметру `city`.\n",
    "\n",
    "Для этого примените последовательную фильтрацию с логической индексацией.\n",
    "\n",
    "Затем посчитайте значения в столбце `user_id` получившейся таблицы. Результат сохраните в новую переменную. Верните эту переменную из функции."
   ]
  },
  {
   "cell_type": "code",
   "execution_count": 22,
   "metadata": {
    "id": "Nz3GdQB1_Zcu"
   },
   "outputs": [],
   "source": [
    "# Функция для подсчёта прослушиваний для конкретного города и дня\n",
    "# С помощью последовательной фильтрации с логической индексацией она \n",
    "# сначала получит из исходной таблицы строки с нужным днём и городом (track_list)\n",
    "# методом count() посчитает количество значений в колонке user_id. (track_list_count) \n",
    "# Это количество функция вернёт в качестве результата (return track_list_count)\n",
    "\n",
    "# <создание функции number_tracks()>\n",
    "def number_tracks(day, city):  # Объявляется функция с двумя параметрами: day, city.\n",
    "    track_list = df[(df['day'] == day) & (df['city'] == city)]\n",
    "    track_list_count = track_list['user_id'].count()\n",
    "    return track_list_count"
   ]
  },
  {
   "cell_type": "markdown",
   "metadata": {},
   "source": [
    "<div class=\"alert alert-success\">\n",
    "<b>Комментарий ревьюера ✔️:</b>\n",
    "    \n",
    "Отличная функция.\n",
    "    \n",
    "Только советую следить за единообразием стиля твоего кода: где-то у тебя есть отступы, где-то нет.\n",
    "</div>\n",
    "\n",
    "<div class=\"alert alert-warning\">\n",
    "<s><b>Комментарий ревьюера ⚠️:</b>\n",
    "    \n",
    "Комментарии лучше оставлять НАД кодом. Так твой проект будет удобней и проще читать, будет сразу понятно, что делает твоя функция. Но это относится не только к коду функций.\n",
    "</s></div>"
   ]
  },
  {
   "cell_type": "markdown",
   "metadata": {},
   "source": [
    "<div class=\"alert alert-info\"> <b>Комментарий студента:</b>\n",
    "    \n",
    "Спасибо за замечания по поводу однообразия отступов и про помещение кода перед функцией. Я поправил :)</div>\n",
    "\n",
    "<div class=\"alert alert-success\">\n",
    "<b>Комментарий ревьюера v2✔️:</b>\n",
    "    \n",
    "👍\n",
    "</div>"
   ]
  },
  {
   "cell_type": "markdown",
   "metadata": {
    "id": "ytf7xFrFJQ2r"
   },
   "source": [
    "Вызовите `number_tracks()` шесть раз, меняя значение параметров — так, чтобы получить данные для каждого города в каждый из трёх дней."
   ]
  },
  {
   "cell_type": "markdown",
   "metadata": {},
   "source": [
    "**Автоматизируем процесс и создадим цикл для этой задачи**"
   ]
  },
  {
   "cell_type": "code",
   "execution_count": 23,
   "metadata": {},
   "outputs": [
    {
     "data": {
      "text/plain": [
       "[[15740, 5614], [11056, 7003], [15945, 5895]]"
      ]
     },
     "execution_count": 23,
     "metadata": {},
     "output_type": "execute_result"
    }
   ],
   "source": [
    "cities = ['Moscow', 'Saint-Petersburg'] # список городов\n",
    "days = ['Monday', 'Wednesday', 'Friday'] # список дней недели\n",
    "\n",
    "data_set_for_days = [] # создадим пустой список для сохраненния результатов в нём\n",
    "\n",
    "for day in days:\n",
    "    list_for_city = [] # создадим пустой список для записи результатов для каждого дня недели\n",
    "    for city in cities:    \n",
    "        list_for_city.append (number_tracks(day, city))\n",
    "    data_set_for_days.append (list_for_city) \n",
    "\n",
    "data_set_for_days"
   ]
  },
  {
   "cell_type": "markdown",
   "metadata": {
    "id": "7QXffbO-_Zcu"
   },
   "source": [
    "Создайте c помощью конструктора `pd.DataFrame` таблицу, где\n",
    "* названия колонок — `['city', 'monday', 'wednesday', 'friday']`;\n",
    "* данные — результаты, которые вы получили с помощью `number_tracks`."
   ]
  },
  {
   "cell_type": "code",
   "execution_count": 24,
   "metadata": {
    "id": "APAcLpOr_Zcu"
   },
   "outputs": [
    {
     "data": {
      "text/html": [
       "<div>\n",
       "<style scoped>\n",
       "    .dataframe tbody tr th:only-of-type {\n",
       "        vertical-align: middle;\n",
       "    }\n",
       "\n",
       "    .dataframe tbody tr th {\n",
       "        vertical-align: top;\n",
       "    }\n",
       "\n",
       "    .dataframe thead th {\n",
       "        text-align: right;\n",
       "    }\n",
       "</style>\n",
       "<table border=\"1\" class=\"dataframe\">\n",
       "  <thead>\n",
       "    <tr style=\"text-align: right;\">\n",
       "      <th></th>\n",
       "      <th>Moscow</th>\n",
       "      <th>Saint-Petersburg</th>\n",
       "    </tr>\n",
       "  </thead>\n",
       "  <tbody>\n",
       "    <tr>\n",
       "      <td>Monday</td>\n",
       "      <td>15740</td>\n",
       "      <td>5614</td>\n",
       "    </tr>\n",
       "    <tr>\n",
       "      <td>Wednesday</td>\n",
       "      <td>11056</td>\n",
       "      <td>7003</td>\n",
       "    </tr>\n",
       "    <tr>\n",
       "      <td>Friday</td>\n",
       "      <td>15945</td>\n",
       "      <td>5895</td>\n",
       "    </tr>\n",
       "  </tbody>\n",
       "</table>\n",
       "</div>"
      ],
      "text/plain": [
       "           Moscow  Saint-Petersburg\n",
       "Monday      15740              5614\n",
       "Wednesday   11056              7003\n",
       "Friday      15945              5895"
      ]
     },
     "execution_count": 24,
     "metadata": {},
     "output_type": "execute_result"
    }
   ],
   "source": [
    "# Таблица с результатами\n",
    "data_city_day = pd.DataFrame (data = data_set_for_days, columns = cities, index=days)\n",
    "data_city_day"
   ]
  },
  {
   "cell_type": "markdown",
   "metadata": {},
   "source": [
    "<div class=\"alert alert-success\">\n",
    "<b>Комментарий ревьюера ✔️:</b>\n",
    "    \n",
    "Все верно посчитано и перенесено в датафрейм.  Очень крутая автоматизация! Это точно поможет избежать возможных ошибок в будущем: например, если изменятся исходные данные, не придется все вручную исправлять.\n",
    "    \n",
    "Хотя в задании строки и столбцы должны быть поменяны местами, твое решение я точно принимаю 👍\n",
    "    \n",
    "Лайфхак: если нужно перевернуть датафрейм (транспонировать), можно сделать так: `data_city_day.T`\n",
    "</div>"
   ]
  },
  {
   "cell_type": "markdown",
   "metadata": {},
   "source": [
    "<div class=\"alert alert-info\"> <b>Комментарий студента:</b>\n",
    "    \n",
    "Спасибо за лайфак про транспонирование. Ниже я привел таблику в соответствие </div>"
   ]
  },
  {
   "cell_type": "code",
   "execution_count": 25,
   "metadata": {},
   "outputs": [
    {
     "data": {
      "text/html": [
       "<div>\n",
       "<style scoped>\n",
       "    .dataframe tbody tr th:only-of-type {\n",
       "        vertical-align: middle;\n",
       "    }\n",
       "\n",
       "    .dataframe tbody tr th {\n",
       "        vertical-align: top;\n",
       "    }\n",
       "\n",
       "    .dataframe thead th {\n",
       "        text-align: right;\n",
       "    }\n",
       "</style>\n",
       "<table border=\"1\" class=\"dataframe\">\n",
       "  <thead>\n",
       "    <tr style=\"text-align: right;\">\n",
       "      <th></th>\n",
       "      <th>Monday</th>\n",
       "      <th>Wednesday</th>\n",
       "      <th>Friday</th>\n",
       "    </tr>\n",
       "  </thead>\n",
       "  <tbody>\n",
       "    <tr>\n",
       "      <td>Moscow</td>\n",
       "      <td>15740</td>\n",
       "      <td>11056</td>\n",
       "      <td>15945</td>\n",
       "    </tr>\n",
       "    <tr>\n",
       "      <td>Saint-Petersburg</td>\n",
       "      <td>5614</td>\n",
       "      <td>7003</td>\n",
       "      <td>5895</td>\n",
       "    </tr>\n",
       "  </tbody>\n",
       "</table>\n",
       "</div>"
      ],
      "text/plain": [
       "                  Monday  Wednesday  Friday\n",
       "Moscow             15740      11056   15945\n",
       "Saint-Petersburg    5614       7003    5895"
      ]
     },
     "execution_count": 25,
     "metadata": {},
     "output_type": "execute_result"
    }
   ],
   "source": [
    "data_city_day.T "
   ]
  },
  {
   "cell_type": "markdown",
   "metadata": {},
   "source": [
    "<div class=\"alert alert-success\">\n",
    "<b>Комментарий ревьюера v2✔️:</b>\n",
    "    \n",
    "Да, так круто.\n",
    "</div>"
   ]
  },
  {
   "cell_type": "markdown",
   "metadata": {
    "id": "-EgPIHYu_Zcu"
   },
   "source": [
    "**Выводы**\n",
    "\n",
    "Данные показывают разницу поведения пользователей:\n",
    "\n",
    "- В Москве пик прослушиваний приходится на понедельник и пятницу, а в среду заметен спад.\n",
    "- В Петербурге, наоборот, больше слушают музыку по средам. Активность в понедельник и пятницу здесь почти в равной мере уступает среде.\n",
    "\n",
    "Значит, данные говорят в пользу первой гипотезы. \n",
    "\n",
    "Активность пользователей зависит от дня недели. Причём для Москвы и Санкт-Петербурга это проявляется по-разному"
   ]
  },
  {
   "cell_type": "markdown",
   "metadata": {
    "id": "atZAxtq4_Zcu"
   },
   "source": [
    "### Музыка в начале и в конце недели"
   ]
  },
  {
   "cell_type": "markdown",
   "metadata": {
    "id": "eXrQqXFH_Zcu"
   },
   "source": [
    "Согласно второй гипотезе, утром в понедельник в Москве преобладают одни жанры, а в Петербурге — другие. Так же и вечером пятницы преобладают разные жанры — в зависимости от города."
   ]
  },
  {
   "cell_type": "markdown",
   "metadata": {
    "id": "S8UcW6Hw_Zcu"
   },
   "source": [
    "Сохраните таблицы с данными в две переменные:\n",
    "* по Москве — в `moscow_general`;\n",
    "* по Санкт-Петербургу — в `spb_general`."
   ]
  },
  {
   "cell_type": "code",
   "execution_count": 26,
   "metadata": {
    "id": "qeaFfM_P_Zcu"
   },
   "outputs": [],
   "source": [
    "# получение таблицы moscow_general из тех строк таблицы df, для которых значение в столбце 'city' равно 'Moscow'\n",
    "# получение таблицы spb_general из тех строк таблицы df, для которых значение в столбце 'city' равно 'Saint-Petersburg'\n",
    "\n",
    "moscow_general = df[df['city'] == 'Moscow']\n",
    "spb_general = df[df['city'] == 'Saint-Petersburg']"
   ]
  },
  {
   "cell_type": "markdown",
   "metadata": {},
   "source": [
    "<div class=\"alert alert-success\">\n",
    "<b>Комментарий ревьюера ✔️:</b>\n",
    "    \n",
    "Ok.\n",
    "</div>"
   ]
  },
  {
   "cell_type": "markdown",
   "metadata": {
    "id": "MEJV-CX2_Zcu"
   },
   "source": [
    "Создайте функцию `genre_weekday()` с четырьмя параметрами:\n",
    "* таблица (датафрейм) с данными,\n",
    "* день недели,\n",
    "* начальная временная метка в формате 'hh:mm', \n",
    "* последняя временная метка в формате 'hh:mm'.\n",
    "\n",
    "Функция должна вернуть информацию о топ-10 жанров тех треков, которые прослушивали в указанный день, в промежутке между двумя отметками времени."
   ]
  },
  {
   "cell_type": "code",
   "execution_count": 27,
   "metadata": {},
   "outputs": [],
   "source": [
    "def genre_weekday(dataframe, day, time_1, time_2): # Объявление функции genre_weekday() с параметрами table, day, time_1, time_2\n",
    "    genre_df = dataframe[dataframe['day'] == day]  # фильтрация по дню недели\n",
    "    genre_df = genre_df [(genre_df['time'] > time_1) & (genre_df['time'] < time_2)]  # фильтрация по времени\n",
    "    genre_df_count = genre_df.groupby('genre')['track'].count() # группировка по жанру и подсчёт количесвта треков\n",
    "    genre_df_count_sorted =  genre_df_count.sort_values(ascending = False) # сортировка результата \n",
    "    return genre_df_count_sorted [:10]   "
   ]
  },
  {
   "cell_type": "markdown",
   "metadata": {},
   "source": [
    "<div class=\"alert alert-success\">\n",
    "<b>Комментарий ревьюера ✔️:</b>\n",
    "    \n",
    "Отлично, все требования к функции выполнены.\n",
    "    \n",
    "Только следи за тем, чтобы комментарии совпадали с кодом. Сейчас имена атрибутов расходятся.\n",
    "</div>"
   ]
  },
  {
   "cell_type": "markdown",
   "metadata": {},
   "source": [
    "<div class=\"alert alert-info\"> <b>Комментарий студента:</b>\n",
    "    \n",
    "Спасибо за замечание про расхождение имён атрибутов в коде и в комментариях. Имена   *time_1, time_2*   поправил </div>\n",
    "\n",
    "<div class=\"alert alert-success\">\n",
    "<b>Комментарий ревьюера v2✔️:</b>\n",
    "    \n",
    "👍\n",
    "</div>"
   ]
  },
  {
   "cell_type": "code",
   "execution_count": 28,
   "metadata": {},
   "outputs": [
    {
     "data": {
      "text/plain": [
       "genre\n",
       "pop            781\n",
       "dance          549\n",
       "electronic     480\n",
       "rock           474\n",
       "hiphop         286\n",
       "ruspop         186\n",
       "world          181\n",
       "rusrap         175\n",
       "alternative    164\n",
       "unknown        161\n",
       "Name: track, dtype: int64"
      ]
     },
     "execution_count": 28,
     "metadata": {},
     "output_type": "execute_result"
    }
   ],
   "source": [
    "# Мсоква. Понедельник. Утро\n",
    "genre_weekday (moscow_general, 'Monday', '07:00', '11:00')"
   ]
  },
  {
   "cell_type": "markdown",
   "metadata": {
    "id": "la2s2_PF_Zcu"
   },
   "source": [
    "Cравните результаты функции `genre_weekday()` для Москвы и Санкт-Петербурга в понедельник утром (с 7:00 до 11:00) и в пятницу вечером (с 17:00 до 23:00):"
   ]
  },
  {
   "cell_type": "code",
   "execution_count": 29,
   "metadata": {
    "id": "kwUcHPdy_Zcu"
   },
   "outputs": [
    {
     "data": {
      "text/plain": [
       "genre\n",
       "pop            218\n",
       "dance          182\n",
       "rock           162\n",
       "electronic     147\n",
       "hiphop          80\n",
       "ruspop          64\n",
       "alternative     58\n",
       "rusrap          55\n",
       "jazz            44\n",
       "classical       40\n",
       "Name: track, dtype: int64"
      ]
     },
     "execution_count": 29,
     "metadata": {},
     "output_type": "execute_result"
    }
   ],
   "source": [
    "# Спб. Понедельник. Утро\n",
    "genre_weekday (spb_general, 'Monday', '07:00', '11:00')"
   ]
  },
  {
   "cell_type": "code",
   "execution_count": 30,
   "metadata": {
    "id": "EzXVRE1o_Zcu"
   },
   "outputs": [
    {
     "data": {
      "text/plain": [
       "genre\n",
       "pop            713\n",
       "rock           517\n",
       "dance          495\n",
       "electronic     482\n",
       "hiphop         273\n",
       "world          208\n",
       "ruspop         170\n",
       "classical      163\n",
       "alternative    163\n",
       "rusrap         142\n",
       "Name: track, dtype: int64"
      ]
     },
     "execution_count": 30,
     "metadata": {},
     "output_type": "execute_result"
    }
   ],
   "source": [
    "# Мсоква. Пятница. Вечер\n",
    "genre_weekday (moscow_general, 'Friday', '17:00', '23:00')"
   ]
  },
  {
   "cell_type": "code",
   "execution_count": 31,
   "metadata": {
    "id": "JZaEKu5v_Zcu"
   },
   "outputs": [
    {
     "data": {
      "text/plain": [
       "genre\n",
       "pop            256\n",
       "rock           216\n",
       "electronic     216\n",
       "dance          210\n",
       "hiphop          97\n",
       "alternative     63\n",
       "jazz            61\n",
       "classical       60\n",
       "rusrap          59\n",
       "world           54\n",
       "Name: track, dtype: int64"
      ]
     },
     "execution_count": 31,
     "metadata": {},
     "output_type": "execute_result"
    }
   ],
   "source": [
    "# Спб. Пятница. Вечер\n",
    "genre_weekday (spb_general, 'Friday', '17:00', '23:00')"
   ]
  },
  {
   "cell_type": "markdown",
   "metadata": {},
   "source": [
    "<div class=\"alert alert-success\">\n",
    "<b>Комментарий ревьюера ✔️:</b>\n",
    "    \n",
    "Да, с помощью функции мы получили всю нужную информацию для того, чтобы сделать выводы.\n",
    "</div>"
   ]
  },
  {
   "cell_type": "markdown",
   "metadata": {
    "id": "wrCe4MNX_Zcu"
   },
   "source": [
    "**Выводы**\n",
    "\n",
    "Если сравнить топ-10 жанров в понедельник утром, можно сделать такие выводы:\n",
    "\n",
    "1. В Москве и Петербурге слушают похожую музыку. Единственное отличие — в московский рейтинг вошёл жанр “world”, а в петербургский — джаз и классика.\n",
    "\n",
    "2. В Москве пропущенных значений оказалось так много, что значение `'unknown'` заняло десятое место среди самых популярных жанров. Значит, пропущенные значения занимают существенную долю в данных и угрожают достоверности исследования.\n",
    "\n",
    "Вечер пятницы не меняет эту картину. Некоторые жанры поднимаются немного выше, другие спускаются, но в целом топ-10 остаётся тем же самым.\n",
    "\n",
    "Таким образом, вторая гипотеза подтвердилась лишь частично:\n",
    "* Пользователи слушают похожую музыку в начале недели и в конце.\n",
    "* Разница между Москвой и Петербургом не слишком выражена. В Москве чаще слушают русскую популярную музыку, в Петербурге — джаз.\n",
    "\n",
    "Однако пропуски в данных ставят под сомнение этот результат. В Москве их так много, что рейтинг топ-10 мог бы выглядеть иначе, если бы не утерянные  данные о жанрах."
   ]
  },
  {
   "cell_type": "markdown",
   "metadata": {
    "id": "JolODAqr_Zcu"
   },
   "source": [
    "### Жанровые предпочтения в Москве и Петербурге\n",
    "\n",
    "Гипотеза: Петербург — столица рэпа, музыку этого жанра там слушают чаще, чем в Москве.  А Москва — город контрастов, в котором, тем не менее, преобладает поп-музыка."
   ]
  },
  {
   "cell_type": "markdown",
   "metadata": {
    "id": "DlegSvaT_Zcu"
   },
   "source": [
    "Сгруппируйте таблицу `moscow_general` по жанру и посчитайте прослушивания треков каждого жанра методом `count()`. Затем отсортируйте результат в порядке убывания и сохраните его в таблице `moscow_genres`."
   ]
  },
  {
   "cell_type": "code",
   "execution_count": 32,
   "metadata": {
    "id": "r19lIPke_Zcu"
   },
   "outputs": [],
   "source": [
    "# одной строкой: группировка таблицы moscow_general по столбцу 'genre', \n",
    "# подсчёт числа значений 'genre' в этой группировке методом count(), \n",
    "# сортировка получившегося Series в порядке убывания и сохранение в moscow_genres\n",
    "\n",
    "moscow_genres = moscow_general.groupby('genre')['genre'].count().sort_values(ascending = False)\n"
   ]
  },
  {
   "cell_type": "markdown",
   "metadata": {
    "id": "6kMuomxTiIr8"
   },
   "source": [
    "Выведите на экран первые десять строк `moscow_genres`:"
   ]
  },
  {
   "cell_type": "code",
   "execution_count": 33,
   "metadata": {
    "id": "WhCSooF8_Zcv"
   },
   "outputs": [
    {
     "data": {
      "text/plain": [
       "genre\n",
       "pop            5892\n",
       "dance          4435\n",
       "rock           3965\n",
       "electronic     3786\n",
       "hiphop         2096\n",
       "classical      1616\n",
       "world          1432\n",
       "alternative    1379\n",
       "ruspop         1372\n",
       "rusrap         1161\n",
       "Name: genre, dtype: int64"
      ]
     },
     "execution_count": 33,
     "metadata": {},
     "output_type": "execute_result"
    }
   ],
   "source": [
    "# просмотр первых 10 строк moscow_genres\n",
    "moscow_genres[:10]"
   ]
  },
  {
   "cell_type": "markdown",
   "metadata": {},
   "source": [
    "<div class=\"alert alert-success\">\n",
    "<b>Комментарий ревьюера ✔️:</b>\n",
    "    \n",
    "Данные по Москве получены верно.\n",
    "</div>"
   ]
  },
  {
   "cell_type": "markdown",
   "metadata": {
    "id": "cnPG2vnN_Zcv"
   },
   "source": [
    "Теперь повторите то же и для Петербурга.\n",
    "\n",
    "Сгруппируйте таблицу `spb_general` по жанру. Посчитайте прослушивания треков каждого жанра. Результат отсортируйте в порядке убывания и сохраните в таблице `spb_genres`:\n"
   ]
  },
  {
   "cell_type": "code",
   "execution_count": 34,
   "metadata": {
    "id": "gluLIpE7_Zcv"
   },
   "outputs": [],
   "source": [
    "# одной строкой: группировка таблицы spb_general по столбцу 'genre', \n",
    "# подсчёт числа значений 'genre' в этой группировке методом count(), \n",
    "# сортировка получившегося Series в порядке убывания и сохранение в spb_genres\n",
    "\n",
    "spb_genres = spb_general.groupby('genre')['genre'].count().sort_values(ascending = False)"
   ]
  },
  {
   "cell_type": "markdown",
   "metadata": {
    "id": "5Doha_ODgyQ8"
   },
   "source": [
    "Выведите на экран первые десять строк `spb_genres`:"
   ]
  },
  {
   "cell_type": "code",
   "execution_count": 35,
   "metadata": {
    "id": "uaGJHjVU_Zcv"
   },
   "outputs": [
    {
     "data": {
      "text/plain": [
       "genre\n",
       "pop            2431\n",
       "dance          1932\n",
       "rock           1879\n",
       "electronic     1737\n",
       "hiphop          960\n",
       "alternative     649\n",
       "classical       646\n",
       "rusrap          564\n",
       "ruspop          538\n",
       "world           515\n",
       "Name: genre, dtype: int64"
      ]
     },
     "execution_count": 35,
     "metadata": {},
     "output_type": "execute_result"
    }
   ],
   "source": [
    "# просмотр первых 10 строк spb_genres\n",
    "spb_genres[:10]"
   ]
  },
  {
   "cell_type": "markdown",
   "metadata": {},
   "source": [
    "<div class=\"alert alert-success\">\n",
    "<b>Комментарий ревьюера ✔️:</b>\n",
    "    \n",
    "Данные по Петербургу тоже получены успешно.\n",
    "</div>"
   ]
  },
  {
   "cell_type": "markdown",
   "metadata": {
    "id": "RY51YJYu_Zcv"
   },
   "source": [
    "**Выводы**"
   ]
  },
  {
   "cell_type": "markdown",
   "metadata": {
    "id": "nVhnJEm__Zcv"
   },
   "source": [
    "Гипотеза частично подтвердилась:\n",
    "* Поп-музыка — самый популярный жанр в Москве, как и предполагала гипотеза. Более того, в топ-10 жанров встречается близкий жанр — русская популярная музыка.\n",
    "* Вопреки ожиданиям, рэп одинаково популярен в Москве и Петербурге. \n"
   ]
  },
  {
   "cell_type": "markdown",
   "metadata": {},
   "source": [
    "## Особенности в данных"
   ]
  },
  {
   "cell_type": "markdown",
   "metadata": {},
   "source": [
    "<div class=\"alert alert-info\"> <b>Комментарий студента:</b>\n",
    "    \n",
    "В процессе исселдования возникла гипотеза:\n",
    "Каждый пользователь слушал по одному треку каждого жанра. Никто не слушал, нарпимер, два трека Рэпа, или два трека Рока. <br /> Проверим гипотезу</div>"
   ]
  },
  {
   "cell_type": "code",
   "execution_count": 36,
   "metadata": {},
   "outputs": [
    {
     "data": {
      "text/html": [
       "<div>\n",
       "<style scoped>\n",
       "    .dataframe tbody tr th:only-of-type {\n",
       "        vertical-align: middle;\n",
       "    }\n",
       "\n",
       "    .dataframe tbody tr th {\n",
       "        vertical-align: top;\n",
       "    }\n",
       "\n",
       "    .dataframe thead tr th {\n",
       "        text-align: left;\n",
       "    }\n",
       "\n",
       "    .dataframe thead tr:last-of-type th {\n",
       "        text-align: right;\n",
       "    }\n",
       "</style>\n",
       "<table border=\"1\" class=\"dataframe\">\n",
       "  <thead>\n",
       "    <tr>\n",
       "      <th></th>\n",
       "      <th colspan=\"2\" halign=\"left\">track</th>\n",
       "    </tr>\n",
       "    <tr>\n",
       "      <th></th>\n",
       "      <th>count</th>\n",
       "      <th>unique</th>\n",
       "    </tr>\n",
       "    <tr>\n",
       "      <th>user_id</th>\n",
       "      <th></th>\n",
       "      <th></th>\n",
       "    </tr>\n",
       "  </thead>\n",
       "  <tbody>\n",
       "    <tr>\n",
       "      <td>10004220</td>\n",
       "      <td>3</td>\n",
       "      <td>[Aisha, Аиша – Гриша, The Age Of Self]</td>\n",
       "    </tr>\n",
       "    <tr>\n",
       "      <td>100173ED</td>\n",
       "      <td>1</td>\n",
       "      <td>[Contiuation of the Last Judgment]</td>\n",
       "    </tr>\n",
       "    <tr>\n",
       "      <td>1001CE90</td>\n",
       "      <td>7</td>\n",
       "      <td>[Lennart, Hellraiser III: Hell On Earth - Hell...</td>\n",
       "    </tr>\n",
       "    <tr>\n",
       "      <td>1002410A</td>\n",
       "      <td>3</td>\n",
       "      <td>[Wagogo Soothing Song (Tanzania), Baba Nam Kev...</td>\n",
       "    </tr>\n",
       "    <tr>\n",
       "      <td>100261F9</td>\n",
       "      <td>1</td>\n",
       "      <td>[Jump]</td>\n",
       "    </tr>\n",
       "    <tr>\n",
       "      <td>...</td>\n",
       "      <td>...</td>\n",
       "      <td>...</td>\n",
       "    </tr>\n",
       "    <tr>\n",
       "      <td>FFF965B2</td>\n",
       "      <td>2</td>\n",
       "      <td>[Coffee, Let Me Be The One]</td>\n",
       "    </tr>\n",
       "    <tr>\n",
       "      <td>FFF98D49</td>\n",
       "      <td>1</td>\n",
       "      <td>[Part XIV]</td>\n",
       "    </tr>\n",
       "    <tr>\n",
       "      <td>FFFBB52</td>\n",
       "      <td>4</td>\n",
       "      <td>[One More Night (As Made Famous By Maroon 5), ...</td>\n",
       "    </tr>\n",
       "    <tr>\n",
       "      <td>FFFD03A</td>\n",
       "      <td>1</td>\n",
       "      <td>[Five Nights at Freddy's: Night 3 (feat. NateW...</td>\n",
       "    </tr>\n",
       "    <tr>\n",
       "      <td>FFFF6AC5</td>\n",
       "      <td>1</td>\n",
       "      <td>[Tika's Groove]</td>\n",
       "    </tr>\n",
       "  </tbody>\n",
       "</table>\n",
       "<p>41748 rows × 2 columns</p>\n",
       "</div>"
      ],
      "text/plain": [
       "         track                                                   \n",
       "         count                                             unique\n",
       "user_id                                                          \n",
       "10004220     3             [Aisha, Аиша – Гриша, The Age Of Self]\n",
       "100173ED     1                 [Contiuation of the Last Judgment]\n",
       "1001CE90     7  [Lennart, Hellraiser III: Hell On Earth - Hell...\n",
       "1002410A     3  [Wagogo Soothing Song (Tanzania), Baba Nam Kev...\n",
       "100261F9     1                                             [Jump]\n",
       "...        ...                                                ...\n",
       "FFF965B2     2                        [Coffee, Let Me Be The One]\n",
       "FFF98D49     1                                         [Part XIV]\n",
       "FFFBB52      4  [One More Night (As Made Famous By Maroon 5), ...\n",
       "FFFD03A      1  [Five Nights at Freddy's: Night 3 (feat. NateW...\n",
       "FFFF6AC5     1                                    [Tika's Groove]\n",
       "\n",
       "[41748 rows x 2 columns]"
      ]
     },
     "execution_count": 36,
     "metadata": {},
     "output_type": "execute_result"
    }
   ],
   "source": [
    "# сгруппируем данные по 'user_id' и выведем для каждого пользователя список уникальных треков\n",
    "# и общее количество вхождений для треков (количество прослушиваний)\n",
    "track_count = df.groupby('user_id').agg({'track': ['count', 'unique']})\n",
    "track_count"
   ]
  },
  {
   "cell_type": "markdown",
   "metadata": {},
   "source": [
    "<div class=\"alert alert-info\"> <b>Комментарий студента:</b>\n",
    "    \n",
    "Теперь у нас есть список уникальных треков для каждого пользователя и количесвто прослушиваний. <br /> Подсчитаем общее количество прослушиваний и количество уникальных треков</div>\n"
   ]
  },
  {
   "cell_type": "code",
   "execution_count": 37,
   "metadata": {},
   "outputs": [
    {
     "data": {
      "text/html": [
       "<div>\n",
       "<style scoped>\n",
       "    .dataframe tbody tr th:only-of-type {\n",
       "        vertical-align: middle;\n",
       "    }\n",
       "\n",
       "    .dataframe tbody tr th {\n",
       "        vertical-align: top;\n",
       "    }\n",
       "\n",
       "    .dataframe thead th {\n",
       "        text-align: right;\n",
       "    }\n",
       "</style>\n",
       "<table border=\"1\" class=\"dataframe\">\n",
       "  <thead>\n",
       "    <tr style=\"text-align: right;\">\n",
       "      <th></th>\n",
       "      <th>Количество</th>\n",
       "    </tr>\n",
       "  </thead>\n",
       "  <tbody>\n",
       "    <tr>\n",
       "      <td>Уникальные треки</td>\n",
       "      <td>59573</td>\n",
       "    </tr>\n",
       "    <tr>\n",
       "      <td>Прослушивания</td>\n",
       "      <td>61253</td>\n",
       "    </tr>\n",
       "  </tbody>\n",
       "</table>\n",
       "</div>"
      ],
      "text/plain": [
       "                  Количество\n",
       "Уникальные треки       59573\n",
       "Прослушивания          61253"
      ]
     },
     "execution_count": 37,
     "metadata": {},
     "output_type": "execute_result"
    }
   ],
   "source": [
    "# длина списка уникальных треков для каждого пользователя\n",
    "track_unique_ammount = track_count['track']['unique'].apply (len)\n",
    "\n",
    "# суммарное количество уникальных треков для всех пользователей\n",
    "track_unique_sum = track_unique_ammount.sum() \n",
    "\n",
    "# общее количество прослушиваний для всех пользователей \n",
    "track_all = track_count['track']['count'].sum()\n",
    "\n",
    "\n",
    "# создадим табличку для отображения \n",
    "# в переменную data_df запишем полученные значения  \n",
    "data_df = [track_unique_sum, track_all] \n",
    "\n",
    "# названия строк\n",
    "index_df = ['Уникальные треки', 'Прослушивания']  \n",
    "\n",
    "# создание таблички\n",
    "unique_df = pd.DataFrame (data = data_df, index = index_df, columns = ['Количество'])\n",
    "unique_df"
   ]
  },
  {
   "cell_type": "markdown",
   "metadata": {},
   "source": [
    "<div class=\"alert alert-info\"> <b>Комментарий студента:</b>\n",
    "    \n",
    "Занчения гооврят о том, что общее количество прослушиваний больше, чем количество уникальных треков. Это значит, что некоторое треки были прослушаны более одного раза <br /> Гипотеза не подтвердилась</div>"
   ]
  },
  {
   "cell_type": "markdown",
   "metadata": {},
   "source": [
    "<div class=\"alert alert-success\">\n",
    "<b>Комментарий ревьюера ✔️:</b>\n",
    "    \n",
    "Не очень понятно, что ты хотел сделать здесь. Три твои группировки дадут одинаковое значение, так как все колонки без пропусков и содержат одинаковое число элементов.\n",
    "</div>"
   ]
  },
  {
   "cell_type": "markdown",
   "metadata": {},
   "source": [
    "<div class=\"alert alert-info\"> <b>Комментарий студента:</b>\n",
    "    \n",
    "И правда, я ошибся в первой редакции, подумав что действительно каждый слушал музыку по одному разу. Поддался когнитивному искажению и \"подогнал резульат под желаемый\". Спасибо за замечание.</div>\n",
    "\n",
    "<div class=\"alert alert-success\">\n",
    "<b>Комментарий ревьюера v2✔️:</b>\n",
    "    \n",
    "Вот, теперь с комментариями понятно, что ты делал.\n",
    "    \n",
    "Посчитать количество уникальных треков и жанров для каждого пользователя можно было группировкой: `df[df['track']!='unknown'].groupby(['user_id', 'genre', 'track'], as_index=False).agg({'time': 'nunique'}).sort_values(by='time', ascending = False)`.\n",
    "</div>"
   ]
  },
  {
   "cell_type": "code",
   "execution_count": 39,
   "metadata": {},
   "outputs": [
    {
     "data": {
      "text/html": [
       "<div>\n",
       "<style scoped>\n",
       "    .dataframe tbody tr th:only-of-type {\n",
       "        vertical-align: middle;\n",
       "    }\n",
       "\n",
       "    .dataframe tbody tr th {\n",
       "        vertical-align: top;\n",
       "    }\n",
       "\n",
       "    .dataframe thead th {\n",
       "        text-align: right;\n",
       "    }\n",
       "</style>\n",
       "<table border=\"1\" class=\"dataframe\">\n",
       "  <thead>\n",
       "    <tr style=\"text-align: right;\">\n",
       "      <th></th>\n",
       "      <th>user_id</th>\n",
       "      <th>track</th>\n",
       "      <th>artist</th>\n",
       "      <th>genre</th>\n",
       "      <th>city</th>\n",
       "      <th>time</th>\n",
       "      <th>day</th>\n",
       "    </tr>\n",
       "  </thead>\n",
       "  <tbody>\n",
       "    <tr>\n",
       "      <td>0</td>\n",
       "      <td>FFB692EC</td>\n",
       "      <td>Kamigata To Boots</td>\n",
       "      <td>The Mass Missile</td>\n",
       "      <td>rock</td>\n",
       "      <td>Saint-Petersburg</td>\n",
       "      <td>20:28:33</td>\n",
       "      <td>Wednesday</td>\n",
       "    </tr>\n",
       "    <tr>\n",
       "      <td>1</td>\n",
       "      <td>55204538</td>\n",
       "      <td>Delayed Because of Accident</td>\n",
       "      <td>Andreas Rönnberg</td>\n",
       "      <td>rock</td>\n",
       "      <td>Moscow</td>\n",
       "      <td>14:07:09</td>\n",
       "      <td>Friday</td>\n",
       "    </tr>\n",
       "    <tr>\n",
       "      <td>2</td>\n",
       "      <td>20EC38</td>\n",
       "      <td>Funiculì funiculà</td>\n",
       "      <td>Mario Lanza</td>\n",
       "      <td>pop</td>\n",
       "      <td>Saint-Petersburg</td>\n",
       "      <td>20:58:07</td>\n",
       "      <td>Wednesday</td>\n",
       "    </tr>\n",
       "    <tr>\n",
       "      <td>3</td>\n",
       "      <td>A3DD03C9</td>\n",
       "      <td>Dragons in the Sunset</td>\n",
       "      <td>Fire + Ice</td>\n",
       "      <td>folk</td>\n",
       "      <td>Saint-Petersburg</td>\n",
       "      <td>08:37:09</td>\n",
       "      <td>Monday</td>\n",
       "    </tr>\n",
       "    <tr>\n",
       "      <td>4</td>\n",
       "      <td>E2DC1FAE</td>\n",
       "      <td>Soul People</td>\n",
       "      <td>Space Echo</td>\n",
       "      <td>dance</td>\n",
       "      <td>Moscow</td>\n",
       "      <td>08:34:34</td>\n",
       "      <td>Monday</td>\n",
       "    </tr>\n",
       "  </tbody>\n",
       "</table>\n",
       "</div>"
      ],
      "text/plain": [
       "    user_id                        track            artist  genre  \\\n",
       "0  FFB692EC            Kamigata To Boots  The Mass Missile   rock   \n",
       "1  55204538  Delayed Because of Accident  Andreas Rönnberg   rock   \n",
       "2    20EC38            Funiculì funiculà       Mario Lanza    pop   \n",
       "3  A3DD03C9        Dragons in the Sunset        Fire + Ice   folk   \n",
       "4  E2DC1FAE                  Soul People        Space Echo  dance   \n",
       "\n",
       "               city      time        day  \n",
       "0  Saint-Petersburg  20:28:33  Wednesday  \n",
       "1            Moscow  14:07:09     Friday  \n",
       "2  Saint-Petersburg  20:58:07  Wednesday  \n",
       "3  Saint-Petersburg  08:37:09     Monday  \n",
       "4            Moscow  08:34:34     Monday  "
      ]
     },
     "execution_count": 39,
     "metadata": {},
     "output_type": "execute_result"
    }
   ],
   "source": [
    "df.head()"
   ]
  },
  {
   "cell_type": "code",
   "execution_count": 81,
   "metadata": {},
   "outputs": [
    {
     "data": {
      "text/plain": [
       "\"display (df[df['track']!='unknown'].groupby(['user_id', 'genre', 'track']).agg({'time': 'nunique'}).sort_values(by='time', ascending = False))\\ndisplay (df[df['track']!='unknown'].groupby(['user_id', 'genre', 'track']).agg({'track': 'count'}).loc['E2EA9731'])\\ndisplay (df[df['track']!='unknown'].groupby(['user_id', 'genre', 'track']).agg({'time': 'nunique'}).sort_values(by='time', ascending = False).loc['B3AEE0E'])\\n\\ndisplay (df[df['track']!='unknown'].groupby(['user_id', 'track'], as_index=False).agg({'time': 'nunique'}).sort_values(by='time', ascending = False).loc[40279])\\ndisplay (df[df['track']!='unknown'].groupby(['user_id', 'track'], as_index=False).agg({'time': 'nunique'}).sort_values(by='time', ascending = False))\""
      ]
     },
     "execution_count": 81,
     "metadata": {},
     "output_type": "execute_result"
    }
   ],
   "source": [
    "\"\"\"display (df[df['track']!='unknown'].groupby(['user_id', 'genre', 'track']).agg({'time': 'nunique'}).sort_values(by='time', ascending = False))\n",
    "display (df[df['track']!='unknown'].groupby(['user_id', 'genre', 'track']).agg({'track': 'count'}).loc['E2EA9731'])\n",
    "display (df[df['track']!='unknown'].groupby(['user_id', 'genre', 'track']).agg({'time': 'nunique'}).sort_values(by='time', ascending = False).loc['B3AEE0E'])\n",
    "\n",
    "display (df[df['track']!='unknown'].groupby(['user_id', 'track'], as_index=False).agg({'time': 'nunique'}).sort_values(by='time', ascending = False).loc[40279])\n",
    "display (df[df['track']!='unknown'].groupby(['user_id', 'track'], as_index=False).agg({'time': 'nunique'}).sort_values(by='time', ascending = False))\"\"\""
   ]
  },
  {
   "cell_type": "code",
   "execution_count": 52,
   "metadata": {},
   "outputs": [
    {
     "data": {
      "text/plain": [
       "user_id    41748\n",
       "track      47246\n",
       "artist     43606\n",
       "genre        284\n",
       "city           2\n",
       "time       20392\n",
       "day            3\n",
       "dtype: int64"
      ]
     },
     "metadata": {},
     "output_type": "display_data"
    },
    {
     "data": {
      "text/plain": [
       "user_id    41408\n",
       "track      47245\n",
       "artist     43606\n",
       "genre        283\n",
       "city           2\n",
       "time       20308\n",
       "day            3\n",
       "dtype: int64"
      ]
     },
     "execution_count": 52,
     "metadata": {},
     "output_type": "execute_result"
    }
   ],
   "source": [
    "df['user_id'].nunique()\n",
    "display (df.nunique())\n",
    "df[df['track']!='unknown'].nunique()"
   ]
  },
  {
   "cell_type": "markdown",
   "metadata": {
    "id": "ykKQ0N65_Zcv"
   },
   "source": [
    "## Итоги исследования"
   ]
  },
  {
   "cell_type": "markdown",
   "metadata": {
    "id": "tjUwbHb3_Zcv"
   },
   "source": [
    "Были проверены три гипотезы и установлено:\n",
    "\n",
    "1. День недели по-разному влияет на активность пользователей в Москве и Петербурге. \n",
    "\n",
    "**Первая гипотеза полностью подтвердилась.**\n",
    "\n",
    "2. Музыкальные предпочтения не сильно меняются в течение недели — будь то Москва или Петербург. Небольшие различия заметны в начале недели, по понедельникам:\n",
    "* в Москве слушают музыку жанра “world”,\n",
    "* в Петербурге — джаз и классику.\n",
    "\n",
    "**Вторая гипотеза подтвердилась частично.**\n",
    "Этот результат мог оказаться иным, если бы не пропуски в данных.\n",
    "\n",
    "3. Во вкусах пользователей Москвы и Петербурга больше общего чем различий. Вопреки ожиданиям, предпочтения жанров в Петербурге напоминают московские.\n",
    "\n",
    "**Третья гипотеза не подтвердилась**. \n",
    "Если различия в предпочтениях и существуют, на основной массе пользователей они незаметны.\n",
    "\n",
    "**На практике исследования содержат проверки статистических гипотез.**\n",
    "Из данных одного сервиса не всегда можно сделать вывод о всех жителях города.\n",
    "Проверки статистических гипотез покажут, насколько они достоверны, исходя из имеющихся данных. \n",
    "С методами проверок гипотез вы ещё познакомитесь в следующих темах."
   ]
  },
  {
   "cell_type": "markdown",
   "metadata": {},
   "source": [
    "В ходе выполнения работы были закреплены навыки работы с pandas. Полученная теория была применена на практике. \n",
    "Так же была обнаружена особенность в данных, связанная с уникальностью прослушиваемых композиций пользователей. \n",
    "Скорее всего это связанно с особеностями подготовки данного DataFrame\n",
    "**Учебная цель исследования была достигнута**\n",
    "\n",
    "Проверены три гипотезы. Полученный пайплайн может быть использован при анализе подобных данных для других городов и дней недели. Но перед этим его нужно доработать в соответсвующих местах. **Парктическая цель исследования была достигнута**\n",
    "\n"
   ]
  },
  {
   "cell_type": "markdown",
   "metadata": {},
   "source": [
    "<div style=\"border:solid green 2px; padding: 20px\">\n",
    "\n",
    "<b>Итоговый комментарий ревьюера</b>\n",
    "\n",
    "Павел, спасибо за проект! Заметно, что ты добросовестно поработал над проектом. Ты хорошо освоил базовый синтаксис Python, умеешь применять базовые методы библиотеки pandas, аккуратно и правильно пишешь код, стараешься писать оптимально. Проект производит хорошее общее впечатление. Ты однозначно движешься в верном направлении!\n",
    "    \n",
    "Желтые комментарии — на твое усмотрение: можно поправить сейчас, если есть время/силы/желание, а можно учесть уже в будущих проектах.\n",
    "    \n",
    "Я готов принять проект, но отправлю на доработку на случай, если у тебя есть вопросы. Если нет, то приму проект при следующей отправке. 🙂\n",
    "</div>"
   ]
  },
  {
   "cell_type": "markdown",
   "metadata": {},
   "source": [
    "<div class=\"alert alert-info\"> <b>Комментарий студента:</b>\n",
    "    \n",
    "Саша, спасибо за обратную связь. Приятно с тобой работать. Если будут дополнительные вопросы, замечания, то я с удовльствием их учту. </div>"
   ]
  },
  {
   "cell_type": "markdown",
   "metadata": {},
   "source": [
    "<div style=\"border:solid green 2px; padding: 20px\">\n",
    "\n",
    "<b>Итоговый комментарий ревьюера v2</b>\n",
    "\n",
    "Ты совершенно верно учел все мои замечания. Я дал тебе еще парочку новых комментариев. Надеюсь, все понятно.\n",
    "    \n",
    "Я принимаю твой проект и желаю успехов в будущих проектах 🖖\n",
    "</div>"
   ]
  },
  {
   "cell_type": "code",
   "execution_count": null,
   "metadata": {},
   "outputs": [],
   "source": []
  }
 ],
 "metadata": {
  "ExecuteTimeLog": [
   {
    "duration": 609,
    "start_time": "2022-01-24T04:39:34.816Z"
   },
   {
    "duration": 309,
    "start_time": "2022-01-24T04:42:23.851Z"
   },
   {
    "duration": 264,
    "start_time": "2022-01-24T04:42:30.266Z"
   },
   {
    "duration": 1945,
    "start_time": "2022-01-24T04:42:39.467Z"
   },
   {
    "duration": 141,
    "start_time": "2022-01-24T04:42:55.597Z"
   },
   {
    "duration": 143,
    "start_time": "2022-01-24T04:42:59.175Z"
   },
   {
    "duration": 16,
    "start_time": "2022-01-24T04:43:12.290Z"
   },
   {
    "duration": 8,
    "start_time": "2022-01-24T04:45:15.602Z"
   },
   {
    "duration": 25,
    "start_time": "2022-01-24T04:45:20.128Z"
   },
   {
    "duration": 45,
    "start_time": "2022-01-24T04:48:00.841Z"
   },
   {
    "duration": 320,
    "start_time": "2022-01-24T04:54:02.608Z"
   },
   {
    "duration": 7813,
    "start_time": "2022-01-24T04:54:58.260Z"
   },
   {
    "duration": 6791,
    "start_time": "2022-01-24T04:55:18.869Z"
   },
   {
    "duration": 44,
    "start_time": "2022-01-24T04:55:39.993Z"
   },
   {
    "duration": 3,
    "start_time": "2022-01-24T04:56:52.036Z"
   },
   {
    "duration": -122,
    "start_time": "2022-01-24T04:58:58.947Z"
   },
   {
    "duration": 4,
    "start_time": "2022-01-24T04:59:06.550Z"
   },
   {
    "duration": 6658,
    "start_time": "2022-01-24T04:59:16.055Z"
   },
   {
    "duration": -130,
    "start_time": "2022-01-24T04:59:22.846Z"
   },
   {
    "duration": 6721,
    "start_time": "2022-01-24T04:59:39.169Z"
   },
   {
    "duration": 104,
    "start_time": "2022-01-24T05:21:25.423Z"
   },
   {
    "duration": 18,
    "start_time": "2022-01-24T05:21:32.486Z"
   },
   {
    "duration": 4,
    "start_time": "2022-01-24T05:21:35.719Z"
   },
   {
    "duration": 23,
    "start_time": "2022-01-24T05:23:06.872Z"
   },
   {
    "duration": 11,
    "start_time": "2022-01-24T05:23:45.955Z"
   },
   {
    "duration": 10,
    "start_time": "2022-01-24T05:23:58.815Z"
   },
   {
    "duration": 25,
    "start_time": "2022-01-24T05:27:19.614Z"
   },
   {
    "duration": 19,
    "start_time": "2022-01-24T05:27:22.511Z"
   },
   {
    "duration": 25,
    "start_time": "2022-01-24T05:27:25.528Z"
   },
   {
    "duration": 19,
    "start_time": "2022-01-24T05:28:54.345Z"
   },
   {
    "duration": 62,
    "start_time": "2022-01-24T05:29:39.996Z"
   },
   {
    "duration": 53,
    "start_time": "2022-01-24T05:30:06.843Z"
   },
   {
    "duration": 51,
    "start_time": "2022-01-24T05:30:08.070Z"
   },
   {
    "duration": 53,
    "start_time": "2022-01-24T05:30:11.859Z"
   },
   {
    "duration": 96,
    "start_time": "2022-01-24T05:30:56.669Z"
   },
   {
    "duration": 55,
    "start_time": "2022-01-24T05:32:50.995Z"
   },
   {
    "duration": 69,
    "start_time": "2022-01-24T06:06:24.314Z"
   },
   {
    "duration": 4,
    "start_time": "2022-01-24T06:07:00.799Z"
   },
   {
    "duration": 56,
    "start_time": "2022-01-24T06:08:45.448Z"
   },
   {
    "duration": 59,
    "start_time": "2022-01-24T06:08:58.353Z"
   },
   {
    "duration": 47,
    "start_time": "2022-01-24T06:09:05.779Z"
   },
   {
    "duration": 77,
    "start_time": "2022-01-24T06:09:28.876Z"
   },
   {
    "duration": 81,
    "start_time": "2022-01-24T06:09:52.909Z"
   },
   {
    "duration": 44,
    "start_time": "2022-01-24T06:13:01.825Z"
   },
   {
    "duration": 42,
    "start_time": "2022-01-24T06:14:28.076Z"
   },
   {
    "duration": 91,
    "start_time": "2022-01-24T06:23:39.759Z"
   },
   {
    "duration": 257,
    "start_time": "2022-01-24T06:23:47.543Z"
   },
   {
    "duration": 3,
    "start_time": "2022-01-24T06:23:52.792Z"
   },
   {
    "duration": 10,
    "start_time": "2022-01-24T06:23:55.328Z"
   },
   {
    "duration": 41,
    "start_time": "2022-01-24T06:24:06.820Z"
   },
   {
    "duration": 38,
    "start_time": "2022-01-24T06:26:55.182Z"
   },
   {
    "duration": 44,
    "start_time": "2022-01-24T06:28:15.491Z"
   },
   {
    "duration": 5,
    "start_time": "2022-01-24T06:28:30.261Z"
   },
   {
    "duration": 9,
    "start_time": "2022-01-24T06:28:32.694Z"
   },
   {
    "duration": 39,
    "start_time": "2022-01-24T06:28:35.376Z"
   },
   {
    "duration": 42,
    "start_time": "2022-01-24T06:29:00.223Z"
   },
   {
    "duration": 297,
    "start_time": "2022-01-24T06:29:37.516Z"
   },
   {
    "duration": 41,
    "start_time": "2022-01-24T06:29:57.417Z"
   },
   {
    "duration": 41,
    "start_time": "2022-01-24T06:30:33.762Z"
   },
   {
    "duration": 3,
    "start_time": "2022-01-24T06:30:41.873Z"
   },
   {
    "duration": 158,
    "start_time": "2022-01-24T06:30:41.878Z"
   },
   {
    "duration": 10,
    "start_time": "2022-01-24T06:30:42.038Z"
   },
   {
    "duration": 7,
    "start_time": "2022-01-24T06:30:42.050Z"
   },
   {
    "duration": 27,
    "start_time": "2022-01-24T06:30:42.059Z"
   },
   {
    "duration": 4,
    "start_time": "2022-01-24T06:30:42.098Z"
   },
   {
    "duration": 12,
    "start_time": "2022-01-24T06:30:42.104Z"
   },
   {
    "duration": 4,
    "start_time": "2022-01-24T06:30:42.118Z"
   },
   {
    "duration": 27,
    "start_time": "2022-01-24T06:30:42.124Z"
   },
   {
    "duration": 13,
    "start_time": "2022-01-24T06:30:42.153Z"
   },
   {
    "duration": 44,
    "start_time": "2022-01-24T06:30:42.168Z"
   },
   {
    "duration": 24,
    "start_time": "2022-01-24T06:30:42.214Z"
   },
   {
    "duration": 76,
    "start_time": "2022-01-24T06:30:42.240Z"
   },
   {
    "duration": 93,
    "start_time": "2022-01-24T06:30:42.317Z"
   },
   {
    "duration": 52,
    "start_time": "2022-01-24T06:30:42.411Z"
   },
   {
    "duration": 56,
    "start_time": "2022-01-24T06:30:42.464Z"
   },
   {
    "duration": 3,
    "start_time": "2022-01-24T06:30:42.522Z"
   },
   {
    "duration": 12,
    "start_time": "2022-01-24T06:30:42.527Z"
   },
   {
    "duration": 63,
    "start_time": "2022-01-24T06:30:42.542Z"
   },
   {
    "duration": 3,
    "start_time": "2022-01-24T06:30:42.607Z"
   },
   {
    "duration": 6,
    "start_time": "2022-01-24T06:30:42.611Z"
   },
   {
    "duration": 5,
    "start_time": "2022-01-24T06:30:42.619Z"
   },
   {
    "duration": 8,
    "start_time": "2022-01-24T06:30:42.625Z"
   },
   {
    "duration": 4,
    "start_time": "2022-01-24T06:30:42.635Z"
   },
   {
    "duration": 8,
    "start_time": "2022-01-24T06:30:42.641Z"
   },
   {
    "duration": 5,
    "start_time": "2022-01-24T06:30:42.650Z"
   },
   {
    "duration": 5,
    "start_time": "2022-01-24T06:30:42.656Z"
   },
   {
    "duration": 14,
    "start_time": "2022-01-24T06:30:42.663Z"
   },
   {
    "duration": 12,
    "start_time": "2022-01-24T06:30:42.678Z"
   },
   {
    "duration": 2,
    "start_time": "2022-01-24T06:30:42.698Z"
   },
   {
    "duration": 6,
    "start_time": "2022-01-24T06:30:42.702Z"
   },
   {
    "duration": 5,
    "start_time": "2022-01-24T06:30:42.709Z"
   },
   {
    "duration": 8,
    "start_time": "2022-01-24T06:30:42.715Z"
   },
   {
    "duration": 6,
    "start_time": "2022-01-24T06:30:42.725Z"
   },
   {
    "duration": 14,
    "start_time": "2022-01-24T06:30:42.733Z"
   },
   {
    "duration": 5,
    "start_time": "2022-01-24T06:30:42.749Z"
   },
   {
    "duration": 6,
    "start_time": "2022-01-24T06:30:42.756Z"
   },
   {
    "duration": 7,
    "start_time": "2022-01-24T06:30:42.764Z"
   },
   {
    "duration": 6,
    "start_time": "2022-01-24T06:30:42.773Z"
   },
   {
    "duration": 7,
    "start_time": "2022-01-24T06:30:42.781Z"
   },
   {
    "duration": 14,
    "start_time": "2022-01-24T06:43:23.541Z"
   },
   {
    "duration": 12,
    "start_time": "2022-01-24T06:43:27.366Z"
   },
   {
    "duration": 42,
    "start_time": "2022-01-24T06:45:12.195Z"
   },
   {
    "duration": 3,
    "start_time": "2022-01-24T06:45:19.801Z"
   },
   {
    "duration": 137,
    "start_time": "2022-01-24T06:45:19.808Z"
   },
   {
    "duration": 10,
    "start_time": "2022-01-24T06:45:19.948Z"
   },
   {
    "duration": 3,
    "start_time": "2022-01-24T06:45:19.961Z"
   },
   {
    "duration": 46,
    "start_time": "2022-01-24T06:45:19.966Z"
   },
   {
    "duration": 5,
    "start_time": "2022-01-24T06:45:20.014Z"
   },
   {
    "duration": 16,
    "start_time": "2022-01-24T06:45:20.021Z"
   },
   {
    "duration": 4,
    "start_time": "2022-01-24T06:45:20.039Z"
   },
   {
    "duration": 30,
    "start_time": "2022-01-24T06:45:20.045Z"
   },
   {
    "duration": 31,
    "start_time": "2022-01-24T06:45:20.077Z"
   },
   {
    "duration": 17,
    "start_time": "2022-01-24T06:45:20.109Z"
   },
   {
    "duration": 23,
    "start_time": "2022-01-24T06:45:20.128Z"
   },
   {
    "duration": 81,
    "start_time": "2022-01-24T06:45:20.153Z"
   },
   {
    "duration": 83,
    "start_time": "2022-01-24T06:45:20.236Z"
   },
   {
    "duration": 46,
    "start_time": "2022-01-24T06:45:20.320Z"
   },
   {
    "duration": 60,
    "start_time": "2022-01-24T06:45:20.368Z"
   },
   {
    "duration": 2,
    "start_time": "2022-01-24T06:45:20.430Z"
   },
   {
    "duration": 16,
    "start_time": "2022-01-24T06:45:20.434Z"
   },
   {
    "duration": 57,
    "start_time": "2022-01-24T06:45:20.451Z"
   },
   {
    "duration": 12,
    "start_time": "2022-01-24T06:45:20.510Z"
   },
   {
    "duration": 44,
    "start_time": "2022-01-24T06:45:20.524Z"
   },
   {
    "duration": 2,
    "start_time": "2022-01-24T06:45:20.570Z"
   },
   {
    "duration": 26,
    "start_time": "2022-01-24T06:45:20.573Z"
   },
   {
    "duration": 4,
    "start_time": "2022-01-24T06:45:20.603Z"
   },
   {
    "duration": 7,
    "start_time": "2022-01-24T06:45:20.608Z"
   },
   {
    "duration": 10,
    "start_time": "2022-01-24T06:45:20.617Z"
   },
   {
    "duration": 5,
    "start_time": "2022-01-24T06:45:20.629Z"
   },
   {
    "duration": 7,
    "start_time": "2022-01-24T06:45:20.635Z"
   },
   {
    "duration": 6,
    "start_time": "2022-01-24T06:45:20.643Z"
   },
   {
    "duration": 11,
    "start_time": "2022-01-24T06:45:20.651Z"
   },
   {
    "duration": 6,
    "start_time": "2022-01-24T06:45:20.663Z"
   },
   {
    "duration": 5,
    "start_time": "2022-01-24T06:45:20.670Z"
   },
   {
    "duration": 5,
    "start_time": "2022-01-24T06:45:20.677Z"
   },
   {
    "duration": 15,
    "start_time": "2022-01-24T06:45:20.683Z"
   },
   {
    "duration": 8,
    "start_time": "2022-01-24T06:45:20.700Z"
   },
   {
    "duration": 5,
    "start_time": "2022-01-24T06:45:20.709Z"
   },
   {
    "duration": 8,
    "start_time": "2022-01-24T06:45:20.716Z"
   },
   {
    "duration": 6,
    "start_time": "2022-01-24T06:45:20.726Z"
   },
   {
    "duration": 9,
    "start_time": "2022-01-24T06:45:20.734Z"
   },
   {
    "duration": 5,
    "start_time": "2022-01-24T06:45:20.745Z"
   },
   {
    "duration": 7,
    "start_time": "2022-01-24T06:45:20.751Z"
   },
   {
    "duration": 6,
    "start_time": "2022-01-24T06:45:20.760Z"
   },
   {
    "duration": 42,
    "start_time": "2022-01-24T06:46:22.130Z"
   },
   {
    "duration": 12,
    "start_time": "2022-01-24T07:09:08.376Z"
   },
   {
    "duration": 10,
    "start_time": "2022-01-24T07:09:50.338Z"
   },
   {
    "duration": 11,
    "start_time": "2022-01-24T07:09:56.991Z"
   },
   {
    "duration": 10,
    "start_time": "2022-01-24T07:10:44.868Z"
   },
   {
    "duration": 11,
    "start_time": "2022-01-24T07:11:34.186Z"
   },
   {
    "duration": 11,
    "start_time": "2022-01-24T07:11:42.194Z"
   },
   {
    "duration": 7921,
    "start_time": "2022-01-24T07:18:30.383Z"
   },
   {
    "duration": 7349,
    "start_time": "2022-01-24T07:18:40.682Z"
   },
   {
    "duration": 32,
    "start_time": "2022-01-24T07:19:16.726Z"
   },
   {
    "duration": 24,
    "start_time": "2022-01-24T07:19:46.351Z"
   },
   {
    "duration": 4,
    "start_time": "2022-01-24T07:21:08.284Z"
   },
   {
    "duration": 4,
    "start_time": "2022-01-24T07:25:40.665Z"
   },
   {
    "duration": 6645,
    "start_time": "2022-01-24T07:27:51.807Z"
   },
   {
    "duration": 6,
    "start_time": "2022-01-24T07:28:08.029Z"
   },
   {
    "duration": 93,
    "start_time": "2022-01-24T07:28:45.504Z"
   },
   {
    "duration": 537,
    "start_time": "2022-01-24T07:28:53.975Z"
   },
   {
    "duration": 532,
    "start_time": "2022-01-24T07:29:47.010Z"
   },
   {
    "duration": 4,
    "start_time": "2022-01-24T07:30:04.624Z"
   },
   {
    "duration": 545,
    "start_time": "2022-01-24T07:30:07.015Z"
   },
   {
    "duration": 277,
    "start_time": "2022-01-24T07:30:37.403Z"
   },
   {
    "duration": 3,
    "start_time": "2022-01-24T07:30:51.183Z"
   },
   {
    "duration": 249,
    "start_time": "2022-01-24T07:30:56.562Z"
   },
   {
    "duration": 602,
    "start_time": "2022-01-24T07:31:14.119Z"
   },
   {
    "duration": 4,
    "start_time": "2022-01-24T07:36:56.837Z"
   },
   {
    "duration": 13,
    "start_time": "2022-01-24T07:36:59.899Z"
   },
   {
    "duration": 46,
    "start_time": "2022-01-24T07:37:06.209Z"
   },
   {
    "duration": 49,
    "start_time": "2022-01-24T07:37:46.490Z"
   },
   {
    "duration": 48,
    "start_time": "2022-01-24T07:39:06.115Z"
   },
   {
    "duration": 48,
    "start_time": "2022-01-24T07:39:14.755Z"
   },
   {
    "duration": 46,
    "start_time": "2022-01-24T07:39:20.074Z"
   },
   {
    "duration": 50,
    "start_time": "2022-01-24T07:39:42.554Z"
   },
   {
    "duration": 51,
    "start_time": "2022-01-24T07:39:49.993Z"
   },
   {
    "duration": 49,
    "start_time": "2022-01-24T07:40:00.657Z"
   },
   {
    "duration": 48,
    "start_time": "2022-01-24T07:40:15.435Z"
   },
   {
    "duration": 45,
    "start_time": "2022-01-24T07:40:39.492Z"
   },
   {
    "duration": 46,
    "start_time": "2022-01-24T07:40:50.568Z"
   },
   {
    "duration": 47,
    "start_time": "2022-01-24T07:41:23.065Z"
   },
   {
    "duration": 275,
    "start_time": "2022-01-24T08:09:11.934Z"
   },
   {
    "duration": 260,
    "start_time": "2022-01-24T08:09:26.193Z"
   },
   {
    "duration": 7,
    "start_time": "2022-01-24T08:10:21.978Z"
   },
   {
    "duration": 8,
    "start_time": "2022-01-24T08:11:18.661Z"
   },
   {
    "duration": 29,
    "start_time": "2022-01-24T08:13:05.285Z"
   },
   {
    "duration": 325,
    "start_time": "2022-01-24T08:13:25.173Z"
   },
   {
    "duration": 38,
    "start_time": "2022-01-24T08:13:32.411Z"
   },
   {
    "duration": 310,
    "start_time": "2022-01-24T08:13:42.738Z"
   },
   {
    "duration": 39,
    "start_time": "2022-01-24T08:14:01.619Z"
   },
   {
    "duration": 60,
    "start_time": "2022-01-24T08:16:53.542Z"
   },
   {
    "duration": 359,
    "start_time": "2022-01-24T08:18:56.427Z"
   },
   {
    "duration": 57,
    "start_time": "2022-01-24T08:19:05.690Z"
   },
   {
    "duration": 65,
    "start_time": "2022-01-24T08:19:35.923Z"
   },
   {
    "duration": 50,
    "start_time": "2022-01-24T08:19:50.448Z"
   },
   {
    "duration": 59,
    "start_time": "2022-01-24T08:19:57.625Z"
   },
   {
    "duration": 57,
    "start_time": "2022-01-24T08:20:42.582Z"
   },
   {
    "duration": 11,
    "start_time": "2022-01-24T08:21:17.108Z"
   },
   {
    "duration": 61,
    "start_time": "2022-01-24T08:21:28.134Z"
   },
   {
    "duration": 397,
    "start_time": "2022-01-24T08:21:53.209Z"
   },
   {
    "duration": 61,
    "start_time": "2022-01-24T08:22:04.522Z"
   },
   {
    "duration": 118,
    "start_time": "2022-01-24T08:25:07.297Z"
   },
   {
    "duration": 113,
    "start_time": "2022-01-24T08:25:18.616Z"
   },
   {
    "duration": 110,
    "start_time": "2022-01-24T08:25:35.690Z"
   },
   {
    "duration": 106,
    "start_time": "2022-01-24T08:26:29.762Z"
   },
   {
    "duration": 97,
    "start_time": "2022-01-24T08:29:49.183Z"
   },
   {
    "duration": 161,
    "start_time": "2022-01-24T08:29:56.608Z"
   },
   {
    "duration": 186,
    "start_time": "2022-01-24T08:30:06.708Z"
   },
   {
    "duration": 170,
    "start_time": "2022-01-24T08:30:23.765Z"
   },
   {
    "duration": 171,
    "start_time": "2022-01-24T08:43:57.216Z"
   },
   {
    "duration": 182,
    "start_time": "2022-01-24T08:44:09.933Z"
   },
   {
    "duration": 162,
    "start_time": "2022-01-24T08:47:15.769Z"
   },
   {
    "duration": 22,
    "start_time": "2022-01-24T08:48:40.923Z"
   },
   {
    "duration": 30,
    "start_time": "2022-01-24T08:49:08.718Z"
   },
   {
    "duration": 4,
    "start_time": "2022-01-24T09:01:46.722Z"
   },
   {
    "duration": 13,
    "start_time": "2022-01-24T09:04:24.815Z"
   },
   {
    "duration": 23,
    "start_time": "2022-01-24T09:06:10.482Z"
   },
   {
    "duration": 3,
    "start_time": "2022-01-24T09:06:13.752Z"
   },
   {
    "duration": 15,
    "start_time": "2022-01-24T09:06:15.471Z"
   },
   {
    "duration": 3,
    "start_time": "2022-01-24T09:06:58.414Z"
   },
   {
    "duration": 20,
    "start_time": "2022-01-24T09:07:00.132Z"
   },
   {
    "duration": 4,
    "start_time": "2022-01-24T09:08:00.533Z"
   },
   {
    "duration": 16,
    "start_time": "2022-01-24T09:08:01.813Z"
   },
   {
    "duration": 4,
    "start_time": "2022-01-24T09:08:56.871Z"
   },
   {
    "duration": 13,
    "start_time": "2022-01-24T09:08:58.319Z"
   },
   {
    "duration": 23,
    "start_time": "2022-01-24T09:10:00.337Z"
   },
   {
    "duration": 3,
    "start_time": "2022-01-24T09:10:15.739Z"
   },
   {
    "duration": 22,
    "start_time": "2022-01-24T09:10:21.212Z"
   },
   {
    "duration": 5,
    "start_time": "2022-01-24T09:10:31.209Z"
   },
   {
    "duration": 16,
    "start_time": "2022-01-24T09:10:32.033Z"
   },
   {
    "duration": 6,
    "start_time": "2022-01-24T09:11:15.001Z"
   },
   {
    "duration": 18,
    "start_time": "2022-01-24T09:11:15.569Z"
   },
   {
    "duration": 3,
    "start_time": "2022-01-24T09:11:31.630Z"
   },
   {
    "duration": 16,
    "start_time": "2022-01-24T09:11:32.590Z"
   },
   {
    "duration": 3,
    "start_time": "2022-01-24T09:15:14.209Z"
   },
   {
    "duration": 17,
    "start_time": "2022-01-24T09:15:14.850Z"
   },
   {
    "duration": 4,
    "start_time": "2022-01-24T09:17:00.550Z"
   },
   {
    "duration": 17,
    "start_time": "2022-01-24T09:17:01.158Z"
   },
   {
    "duration": 18,
    "start_time": "2022-01-24T09:18:52.766Z"
   },
   {
    "duration": 13,
    "start_time": "2022-01-24T09:19:13.978Z"
   },
   {
    "duration": 12,
    "start_time": "2022-01-24T09:19:35.448Z"
   },
   {
    "duration": 13,
    "start_time": "2022-01-24T09:54:12.923Z"
   },
   {
    "duration": 10,
    "start_time": "2022-01-24T09:54:42.510Z"
   },
   {
    "duration": 9,
    "start_time": "2022-01-24T09:55:19.548Z"
   },
   {
    "duration": 8,
    "start_time": "2022-01-24T09:55:29.541Z"
   },
   {
    "duration": 11,
    "start_time": "2022-01-24T09:55:36.069Z"
   },
   {
    "duration": 10,
    "start_time": "2022-01-24T09:55:52.337Z"
   },
   {
    "duration": 8,
    "start_time": "2022-01-24T09:56:02.593Z"
   },
   {
    "duration": 4,
    "start_time": "2022-01-24T09:56:05.114Z"
   },
   {
    "duration": 6,
    "start_time": "2022-01-24T09:56:39.798Z"
   },
   {
    "duration": 5,
    "start_time": "2022-01-24T09:56:42.037Z"
   },
   {
    "duration": 116,
    "start_time": "2022-01-25T06:44:32.718Z"
   },
   {
    "duration": 2,
    "start_time": "2022-01-25T06:59:32.697Z"
   },
   {
    "duration": 110,
    "start_time": "2022-01-25T06:59:46.410Z"
   },
   {
    "duration": 352,
    "start_time": "2022-01-25T06:59:50.370Z"
   },
   {
    "duration": 401,
    "start_time": "2022-01-25T06:59:57.230Z"
   },
   {
    "duration": 609,
    "start_time": "2022-01-25T07:00:01.040Z"
   },
   {
    "duration": 130,
    "start_time": "2022-01-25T07:00:03.830Z"
   },
   {
    "duration": 15,
    "start_time": "2022-01-25T07:00:05.823Z"
   },
   {
    "duration": 9,
    "start_time": "2022-01-25T07:00:12.601Z"
   },
   {
    "duration": 11,
    "start_time": "2022-01-25T07:00:34.523Z"
   },
   {
    "duration": 12,
    "start_time": "2022-01-25T07:00:43.925Z"
   },
   {
    "duration": 105,
    "start_time": "2022-01-25T07:19:25.482Z"
   },
   {
    "duration": 5,
    "start_time": "2022-01-25T07:22:59.565Z"
   },
   {
    "duration": 2,
    "start_time": "2022-01-25T07:23:14.478Z"
   },
   {
    "duration": 120,
    "start_time": "2022-01-25T07:23:14.484Z"
   },
   {
    "duration": 10,
    "start_time": "2022-01-25T07:23:14.606Z"
   },
   {
    "duration": 22,
    "start_time": "2022-01-25T07:23:14.626Z"
   },
   {
    "duration": 4,
    "start_time": "2022-01-25T07:23:14.650Z"
   },
   {
    "duration": 25,
    "start_time": "2022-01-25T07:23:14.656Z"
   },
   {
    "duration": 4,
    "start_time": "2022-01-25T07:23:19.314Z"
   },
   {
    "duration": 21,
    "start_time": "2022-01-25T07:24:30.461Z"
   },
   {
    "duration": 16,
    "start_time": "2022-01-25T07:26:47.283Z"
   },
   {
    "duration": 21,
    "start_time": "2022-01-25T07:26:50.531Z"
   },
   {
    "duration": 53,
    "start_time": "2022-01-25T07:28:39.638Z"
   },
   {
    "duration": 52,
    "start_time": "2022-01-25T07:28:45.170Z"
   },
   {
    "duration": 83,
    "start_time": "2022-01-25T07:28:48.899Z"
   },
   {
    "duration": 48,
    "start_time": "2022-01-25T07:28:51.309Z"
   },
   {
    "duration": 40,
    "start_time": "2022-01-25T07:29:24.231Z"
   },
   {
    "duration": 66,
    "start_time": "2022-01-25T07:30:36.783Z"
   },
   {
    "duration": 4,
    "start_time": "2022-01-25T07:30:41.476Z"
   },
   {
    "duration": 15,
    "start_time": "2022-01-25T07:30:42.581Z"
   },
   {
    "duration": 40,
    "start_time": "2022-01-25T07:30:44.662Z"
   },
   {
    "duration": 12,
    "start_time": "2022-01-25T07:32:08.084Z"
   },
   {
    "duration": 40,
    "start_time": "2022-01-25T07:32:14.063Z"
   },
   {
    "duration": 12,
    "start_time": "2022-01-25T07:34:43.739Z"
   },
   {
    "duration": 3,
    "start_time": "2022-01-25T07:37:21.414Z"
   },
   {
    "duration": 360,
    "start_time": "2022-01-25T07:37:22.317Z"
   },
   {
    "duration": 57,
    "start_time": "2022-01-25T07:46:24.697Z"
   },
   {
    "duration": 93,
    "start_time": "2022-01-25T07:46:29.903Z"
   },
   {
    "duration": 60,
    "start_time": "2022-01-25T07:46:53.636Z"
   },
   {
    "duration": 55,
    "start_time": "2022-01-25T07:48:29.591Z"
   },
   {
    "duration": 58,
    "start_time": "2022-01-25T07:48:35.593Z"
   },
   {
    "duration": 6,
    "start_time": "2022-01-25T07:49:23.223Z"
   },
   {
    "duration": 19,
    "start_time": "2022-01-25T08:01:41.527Z"
   },
   {
    "duration": 17,
    "start_time": "2022-01-25T08:01:43.807Z"
   },
   {
    "duration": 16,
    "start_time": "2022-01-25T08:02:12.613Z"
   },
   {
    "duration": 28,
    "start_time": "2022-01-25T08:03:25.638Z"
   },
   {
    "duration": 152,
    "start_time": "2022-01-25T08:20:44.823Z"
   },
   {
    "duration": 155,
    "start_time": "2022-01-25T08:21:21.962Z"
   },
   {
    "duration": 101,
    "start_time": "2022-01-25T08:25:49.510Z"
   },
   {
    "duration": 168,
    "start_time": "2022-01-25T08:25:54.010Z"
   },
   {
    "duration": 2,
    "start_time": "2022-01-25T08:28:25.117Z"
   },
   {
    "duration": 144,
    "start_time": "2022-01-25T08:28:25.122Z"
   },
   {
    "duration": 10,
    "start_time": "2022-01-25T08:28:25.268Z"
   },
   {
    "duration": 23,
    "start_time": "2022-01-25T08:28:25.280Z"
   },
   {
    "duration": 3,
    "start_time": "2022-01-25T08:28:25.305Z"
   },
   {
    "duration": 16,
    "start_time": "2022-01-25T08:28:25.327Z"
   },
   {
    "duration": 4,
    "start_time": "2022-01-25T08:28:25.345Z"
   },
   {
    "duration": 22,
    "start_time": "2022-01-25T08:28:25.351Z"
   },
   {
    "duration": 15,
    "start_time": "2022-01-25T08:28:25.376Z"
   },
   {
    "duration": 51,
    "start_time": "2022-01-25T08:28:25.393Z"
   },
   {
    "duration": 50,
    "start_time": "2022-01-25T08:28:25.446Z"
   },
   {
    "duration": 94,
    "start_time": "2022-01-25T08:28:25.497Z"
   },
   {
    "duration": 55,
    "start_time": "2022-01-25T08:28:25.593Z"
   },
   {
    "duration": 39,
    "start_time": "2022-01-25T08:28:25.650Z"
   },
   {
    "duration": 3,
    "start_time": "2022-01-25T08:28:25.691Z"
   },
   {
    "duration": 32,
    "start_time": "2022-01-25T08:28:25.695Z"
   },
   {
    "duration": 40,
    "start_time": "2022-01-25T08:28:25.729Z"
   },
   {
    "duration": 12,
    "start_time": "2022-01-25T08:28:25.770Z"
   },
   {
    "duration": 60,
    "start_time": "2022-01-25T08:28:25.784Z"
   },
   {
    "duration": 11,
    "start_time": "2022-01-25T08:28:25.846Z"
   },
   {
    "duration": 9,
    "start_time": "2022-01-25T08:28:25.859Z"
   },
   {
    "duration": 3,
    "start_time": "2022-01-25T08:28:25.870Z"
   },
   {
    "duration": 83,
    "start_time": "2022-01-25T08:28:25.874Z"
   },
   {
    "duration": 6,
    "start_time": "2022-01-25T08:28:25.960Z"
   },
   {
    "duration": 19,
    "start_time": "2022-01-25T08:28:25.968Z"
   },
   {
    "duration": 4,
    "start_time": "2022-01-25T08:28:25.988Z"
   },
   {
    "duration": 39,
    "start_time": "2022-01-25T08:28:25.994Z"
   },
   {
    "duration": 11,
    "start_time": "2022-01-25T08:28:26.035Z"
   },
   {
    "duration": 15,
    "start_time": "2022-01-25T08:28:26.048Z"
   },
   {
    "duration": 11,
    "start_time": "2022-01-25T08:28:26.065Z"
   },
   {
    "duration": 6,
    "start_time": "2022-01-25T08:28:26.077Z"
   },
   {
    "duration": 4,
    "start_time": "2022-01-25T08:28:26.085Z"
   },
   {
    "duration": 39,
    "start_time": "2022-01-25T08:28:26.090Z"
   },
   {
    "duration": 4,
    "start_time": "2022-01-25T08:28:26.131Z"
   },
   {
    "duration": 170,
    "start_time": "2022-01-25T08:28:26.136Z"
   },
   {
    "duration": 695,
    "start_time": "2022-02-01T20:20:59.705Z"
   },
   {
    "duration": 170,
    "start_time": "2022-02-01T20:21:00.402Z"
   },
   {
    "duration": 19,
    "start_time": "2022-02-01T20:21:00.574Z"
   },
   {
    "duration": 55,
    "start_time": "2022-02-01T20:21:00.595Z"
   },
   {
    "duration": 21,
    "start_time": "2022-02-01T20:21:00.652Z"
   },
   {
    "duration": 30,
    "start_time": "2022-02-01T20:21:00.677Z"
   },
   {
    "duration": 30,
    "start_time": "2022-02-01T20:21:00.709Z"
   },
   {
    "duration": 49,
    "start_time": "2022-02-01T20:21:00.743Z"
   },
   {
    "duration": 24,
    "start_time": "2022-02-01T20:21:00.794Z"
   },
   {
    "duration": 35,
    "start_time": "2022-02-01T20:21:00.820Z"
   },
   {
    "duration": 75,
    "start_time": "2022-02-01T20:21:00.856Z"
   },
   {
    "duration": 112,
    "start_time": "2022-02-01T20:21:00.934Z"
   },
   {
    "duration": 53,
    "start_time": "2022-02-01T20:21:01.047Z"
   },
   {
    "duration": 64,
    "start_time": "2022-02-01T20:21:01.102Z"
   },
   {
    "duration": 8,
    "start_time": "2022-02-01T20:21:01.167Z"
   },
   {
    "duration": 18,
    "start_time": "2022-02-01T20:21:01.176Z"
   },
   {
    "duration": 66,
    "start_time": "2022-02-01T20:21:01.196Z"
   },
   {
    "duration": 23,
    "start_time": "2022-02-01T20:21:01.264Z"
   },
   {
    "duration": 54,
    "start_time": "2022-02-01T20:21:01.289Z"
   },
   {
    "duration": 19,
    "start_time": "2022-02-01T20:21:01.345Z"
   },
   {
    "duration": 19,
    "start_time": "2022-02-01T20:21:01.366Z"
   },
   {
    "duration": 3,
    "start_time": "2022-02-01T20:21:01.388Z"
   },
   {
    "duration": 97,
    "start_time": "2022-02-01T20:21:01.394Z"
   },
   {
    "duration": 8,
    "start_time": "2022-02-01T20:21:01.492Z"
   },
   {
    "duration": 47,
    "start_time": "2022-02-01T20:21:01.501Z"
   },
   {
    "duration": 5,
    "start_time": "2022-02-01T20:21:01.550Z"
   },
   {
    "duration": 40,
    "start_time": "2022-02-01T20:21:01.558Z"
   },
   {
    "duration": 32,
    "start_time": "2022-02-01T20:21:01.601Z"
   },
   {
    "duration": 27,
    "start_time": "2022-02-01T20:21:01.636Z"
   },
   {
    "duration": 18,
    "start_time": "2022-02-01T20:21:01.666Z"
   },
   {
    "duration": 33,
    "start_time": "2022-02-01T20:21:01.686Z"
   },
   {
    "duration": 6,
    "start_time": "2022-02-01T20:21:01.723Z"
   },
   {
    "duration": 31,
    "start_time": "2022-02-01T20:21:01.732Z"
   },
   {
    "duration": 17,
    "start_time": "2022-02-01T20:21:01.765Z"
   },
   {
    "duration": 211,
    "start_time": "2022-02-01T20:21:01.784Z"
   },
   {
    "duration": 11,
    "start_time": "2022-02-01T20:35:35.731Z"
   },
   {
    "duration": 18,
    "start_time": "2022-02-01T20:39:27.324Z"
   },
   {
    "duration": 11,
    "start_time": "2022-02-01T20:39:35.870Z"
   },
   {
    "duration": 11,
    "start_time": "2022-02-01T20:40:05.744Z"
   },
   {
    "duration": 84,
    "start_time": "2022-02-01T20:41:22.206Z"
   },
   {
    "duration": 613,
    "start_time": "2022-02-01T20:46:44.570Z"
   },
   {
    "duration": 189,
    "start_time": "2022-02-01T20:46:45.185Z"
   },
   {
    "duration": 22,
    "start_time": "2022-02-01T20:46:45.377Z"
   },
   {
    "duration": 49,
    "start_time": "2022-02-01T20:46:45.401Z"
   },
   {
    "duration": 4,
    "start_time": "2022-02-01T20:46:45.452Z"
   },
   {
    "duration": 20,
    "start_time": "2022-02-01T20:46:45.458Z"
   },
   {
    "duration": 8,
    "start_time": "2022-02-01T20:46:45.480Z"
   },
   {
    "duration": 50,
    "start_time": "2022-02-01T20:46:45.491Z"
   },
   {
    "duration": 20,
    "start_time": "2022-02-01T20:46:45.544Z"
   },
   {
    "duration": 27,
    "start_time": "2022-02-01T20:46:45.565Z"
   },
   {
    "duration": 77,
    "start_time": "2022-02-01T20:46:45.593Z"
   },
   {
    "duration": 101,
    "start_time": "2022-02-01T20:46:45.671Z"
   },
   {
    "duration": 67,
    "start_time": "2022-02-01T20:46:45.774Z"
   },
   {
    "duration": 40,
    "start_time": "2022-02-01T20:46:45.843Z"
   },
   {
    "duration": 2,
    "start_time": "2022-02-01T20:46:45.885Z"
   },
   {
    "duration": 11,
    "start_time": "2022-02-01T20:46:45.889Z"
   },
   {
    "duration": 84,
    "start_time": "2022-02-01T20:46:45.902Z"
   },
   {
    "duration": 36,
    "start_time": "2022-02-01T20:46:45.988Z"
   },
   {
    "duration": 67,
    "start_time": "2022-02-01T20:46:46.026Z"
   },
   {
    "duration": 31,
    "start_time": "2022-02-01T20:46:46.095Z"
   },
   {
    "duration": 14,
    "start_time": "2022-02-01T20:46:46.128Z"
   },
   {
    "duration": 7,
    "start_time": "2022-02-01T20:46:46.144Z"
   },
   {
    "duration": 90,
    "start_time": "2022-02-01T20:46:46.154Z"
   },
   {
    "duration": 7,
    "start_time": "2022-02-01T20:46:46.246Z"
   },
   {
    "duration": 20,
    "start_time": "2022-02-01T20:46:46.254Z"
   },
   {
    "duration": 3,
    "start_time": "2022-02-01T20:46:46.276Z"
   },
   {
    "duration": 40,
    "start_time": "2022-02-01T20:46:46.281Z"
   },
   {
    "duration": 16,
    "start_time": "2022-02-01T20:46:46.323Z"
   },
   {
    "duration": 15,
    "start_time": "2022-02-01T20:46:46.341Z"
   },
   {
    "duration": 11,
    "start_time": "2022-02-01T20:46:46.358Z"
   },
   {
    "duration": 7,
    "start_time": "2022-02-01T20:46:46.370Z"
   },
   {
    "duration": 6,
    "start_time": "2022-02-01T20:46:46.378Z"
   },
   {
    "duration": 37,
    "start_time": "2022-02-01T20:46:46.386Z"
   },
   {
    "duration": 8,
    "start_time": "2022-02-01T20:46:46.425Z"
   },
   {
    "duration": 251,
    "start_time": "2022-02-01T20:46:46.435Z"
   },
   {
    "duration": 114,
    "start_time": "2022-02-02T02:05:58.507Z"
   },
   {
    "duration": 368,
    "start_time": "2022-02-02T02:16:19.337Z"
   },
   {
    "duration": 581,
    "start_time": "2022-02-02T02:16:30.627Z"
   },
   {
    "duration": 119,
    "start_time": "2022-02-02T02:16:33.083Z"
   },
   {
    "duration": 15,
    "start_time": "2022-02-02T02:16:35.225Z"
   },
   {
    "duration": 16,
    "start_time": "2022-02-02T02:16:45.984Z"
   },
   {
    "duration": 9,
    "start_time": "2022-02-02T02:16:54.770Z"
   },
   {
    "duration": 22,
    "start_time": "2022-02-02T02:17:00.742Z"
   },
   {
    "duration": 2,
    "start_time": "2022-02-02T02:18:13.154Z"
   },
   {
    "duration": 119,
    "start_time": "2022-02-02T02:18:13.160Z"
   },
   {
    "duration": 10,
    "start_time": "2022-02-02T02:18:13.280Z"
   },
   {
    "duration": 21,
    "start_time": "2022-02-02T02:18:13.291Z"
   },
   {
    "duration": 15,
    "start_time": "2022-02-02T02:18:13.314Z"
   },
   {
    "duration": 18,
    "start_time": "2022-02-02T02:18:13.331Z"
   },
   {
    "duration": 5,
    "start_time": "2022-02-02T02:18:13.351Z"
   },
   {
    "duration": 24,
    "start_time": "2022-02-02T02:18:13.357Z"
   },
   {
    "duration": 14,
    "start_time": "2022-02-02T02:18:13.383Z"
   },
   {
    "duration": 34,
    "start_time": "2022-02-02T02:18:13.399Z"
   },
   {
    "duration": 50,
    "start_time": "2022-02-02T02:18:13.435Z"
   },
   {
    "duration": 94,
    "start_time": "2022-02-02T02:18:13.486Z"
   },
   {
    "duration": 52,
    "start_time": "2022-02-02T02:18:13.581Z"
   },
   {
    "duration": 36,
    "start_time": "2022-02-02T02:18:13.635Z"
   },
   {
    "duration": 2,
    "start_time": "2022-02-02T02:18:13.673Z"
   },
   {
    "duration": 12,
    "start_time": "2022-02-02T02:18:13.676Z"
   },
   {
    "duration": 49,
    "start_time": "2022-02-02T02:18:13.689Z"
   },
   {
    "duration": 11,
    "start_time": "2022-02-02T02:18:13.739Z"
   },
   {
    "duration": 37,
    "start_time": "2022-02-02T02:18:13.751Z"
   },
   {
    "duration": 10,
    "start_time": "2022-02-02T02:18:13.789Z"
   },
   {
    "duration": 34,
    "start_time": "2022-02-02T02:18:13.800Z"
   },
   {
    "duration": 3,
    "start_time": "2022-02-02T02:18:13.835Z"
   },
   {
    "duration": 55,
    "start_time": "2022-02-02T02:18:13.839Z"
   },
   {
    "duration": 5,
    "start_time": "2022-02-02T02:18:13.897Z"
   },
   {
    "duration": 38,
    "start_time": "2022-02-02T02:18:13.904Z"
   },
   {
    "duration": 3,
    "start_time": "2022-02-02T02:18:13.943Z"
   },
   {
    "duration": 17,
    "start_time": "2022-02-02T02:18:13.947Z"
   },
   {
    "duration": 9,
    "start_time": "2022-02-02T02:18:13.966Z"
   },
   {
    "duration": 15,
    "start_time": "2022-02-02T02:18:13.977Z"
   },
   {
    "duration": 9,
    "start_time": "2022-02-02T02:18:13.993Z"
   },
   {
    "duration": 29,
    "start_time": "2022-02-02T02:18:14.003Z"
   },
   {
    "duration": 3,
    "start_time": "2022-02-02T02:18:14.034Z"
   },
   {
    "duration": 6,
    "start_time": "2022-02-02T02:18:14.039Z"
   },
   {
    "duration": 3,
    "start_time": "2022-02-02T02:18:14.047Z"
   },
   {
    "duration": 165,
    "start_time": "2022-02-02T02:18:14.052Z"
   },
   {
    "duration": 71,
    "start_time": "2022-02-02T02:20:17.694Z"
   },
   {
    "duration": 3,
    "start_time": "2022-02-02T02:23:29.307Z"
   },
   {
    "duration": 3,
    "start_time": "2022-02-02T02:24:48.911Z"
   },
   {
    "duration": 8,
    "start_time": "2022-02-02T02:29:29.142Z"
   },
   {
    "duration": 120,
    "start_time": "2022-02-02T02:31:23.070Z"
   },
   {
    "duration": 3,
    "start_time": "2022-02-02T02:32:03.783Z"
   },
   {
    "duration": -88,
    "start_time": "2022-02-02T02:34:55.326Z"
   },
   {
    "duration": -34,
    "start_time": "2022-02-02T02:35:29.091Z"
   },
   {
    "duration": 17750,
    "start_time": "2022-02-02T02:37:04.337Z"
   },
   {
    "duration": -71,
    "start_time": "2022-02-02T02:37:22.160Z"
   },
   {
    "duration": 4,
    "start_time": "2022-02-02T02:38:04.842Z"
   },
   {
    "duration": 3,
    "start_time": "2022-02-02T02:38:17.345Z"
   },
   {
    "duration": 3,
    "start_time": "2022-02-02T02:38:24.685Z"
   },
   {
    "duration": 6,
    "start_time": "2022-02-02T02:38:41.417Z"
   },
   {
    "duration": 2,
    "start_time": "2022-02-02T02:41:55.096Z"
   },
   {
    "duration": 139,
    "start_time": "2022-02-02T02:41:55.100Z"
   },
   {
    "duration": 9,
    "start_time": "2022-02-02T02:41:55.241Z"
   },
   {
    "duration": 25,
    "start_time": "2022-02-02T02:41:55.251Z"
   },
   {
    "duration": 4,
    "start_time": "2022-02-02T02:41:55.277Z"
   },
   {
    "duration": 15,
    "start_time": "2022-02-02T02:41:55.283Z"
   },
   {
    "duration": 3,
    "start_time": "2022-02-02T02:41:55.300Z"
   },
   {
    "duration": 40,
    "start_time": "2022-02-02T02:41:55.305Z"
   },
   {
    "duration": 15,
    "start_time": "2022-02-02T02:41:55.347Z"
   },
   {
    "duration": 22,
    "start_time": "2022-02-02T02:41:55.364Z"
   },
   {
    "duration": 75,
    "start_time": "2022-02-02T02:41:55.387Z"
   },
   {
    "duration": 84,
    "start_time": "2022-02-02T02:41:55.463Z"
   },
   {
    "duration": 43,
    "start_time": "2022-02-02T02:41:55.549Z"
   },
   {
    "duration": 51,
    "start_time": "2022-02-02T02:41:55.594Z"
   },
   {
    "duration": 3,
    "start_time": "2022-02-02T02:41:55.647Z"
   },
   {
    "duration": 11,
    "start_time": "2022-02-02T02:41:55.652Z"
   },
   {
    "duration": 37,
    "start_time": "2022-02-02T02:41:55.665Z"
   },
   {
    "duration": 13,
    "start_time": "2022-02-02T02:41:55.727Z"
   },
   {
    "duration": 38,
    "start_time": "2022-02-02T02:41:55.742Z"
   },
   {
    "duration": 11,
    "start_time": "2022-02-02T02:41:55.782Z"
   },
   {
    "duration": 35,
    "start_time": "2022-02-02T02:41:55.797Z"
   },
   {
    "duration": 3,
    "start_time": "2022-02-02T02:41:55.834Z"
   },
   {
    "duration": 59,
    "start_time": "2022-02-02T02:41:55.839Z"
   },
   {
    "duration": 28,
    "start_time": "2022-02-02T02:41:55.900Z"
   },
   {
    "duration": 6,
    "start_time": "2022-02-02T02:41:55.930Z"
   },
   {
    "duration": 18,
    "start_time": "2022-02-02T02:41:55.938Z"
   },
   {
    "duration": 4,
    "start_time": "2022-02-02T02:41:55.957Z"
   },
   {
    "duration": 17,
    "start_time": "2022-02-02T02:41:55.962Z"
   },
   {
    "duration": 11,
    "start_time": "2022-02-02T02:41:55.981Z"
   },
   {
    "duration": 17,
    "start_time": "2022-02-02T02:41:56.028Z"
   },
   {
    "duration": 11,
    "start_time": "2022-02-02T02:41:56.047Z"
   },
   {
    "duration": 8,
    "start_time": "2022-02-02T02:41:56.060Z"
   },
   {
    "duration": 5,
    "start_time": "2022-02-02T02:41:56.070Z"
   },
   {
    "duration": 6,
    "start_time": "2022-02-02T02:41:56.077Z"
   },
   {
    "duration": 4,
    "start_time": "2022-02-02T02:41:56.085Z"
   },
   {
    "duration": 17733,
    "start_time": "2022-02-02T02:41:56.128Z"
   },
   {
    "duration": 17247,
    "start_time": "2022-02-02T02:42:13.862Z"
   },
   {
    "duration": 18009,
    "start_time": "2022-02-02T02:45:02.379Z"
   },
   {
    "duration": 17444,
    "start_time": "2022-02-02T02:46:51.761Z"
   },
   {
    "duration": 16982,
    "start_time": "2022-02-02T02:47:26.862Z"
   },
   {
    "duration": 17150,
    "start_time": "2022-02-02T02:48:49.152Z"
   },
   {
    "duration": 114,
    "start_time": "2022-02-02T02:56:07.514Z"
   },
   {
    "duration": 342,
    "start_time": "2022-02-02T03:06:20.983Z"
   },
   {
    "duration": 109,
    "start_time": "2022-02-02T03:07:06.670Z"
   },
   {
    "duration": 315,
    "start_time": "2022-02-02T03:07:13.943Z"
   },
   {
    "duration": 26,
    "start_time": "2022-02-02T03:19:08.807Z"
   },
   {
    "duration": 48,
    "start_time": "2022-02-02T03:25:46.566Z"
   },
   {
    "duration": 47,
    "start_time": "2022-02-02T03:26:15.379Z"
   },
   {
    "duration": 47,
    "start_time": "2022-02-02T03:26:25.177Z"
   },
   {
    "duration": 2,
    "start_time": "2022-02-02T03:27:15.235Z"
   },
   {
    "duration": 122,
    "start_time": "2022-02-02T03:27:15.241Z"
   },
   {
    "duration": 9,
    "start_time": "2022-02-02T03:27:15.365Z"
   },
   {
    "duration": 24,
    "start_time": "2022-02-02T03:27:15.376Z"
   },
   {
    "duration": 3,
    "start_time": "2022-02-02T03:27:15.402Z"
   },
   {
    "duration": 29,
    "start_time": "2022-02-02T03:27:15.407Z"
   },
   {
    "duration": 3,
    "start_time": "2022-02-02T03:27:15.438Z"
   },
   {
    "duration": 23,
    "start_time": "2022-02-02T03:27:15.442Z"
   },
   {
    "duration": 14,
    "start_time": "2022-02-02T03:27:15.467Z"
   },
   {
    "duration": 18,
    "start_time": "2022-02-02T03:27:15.483Z"
   },
   {
    "duration": 71,
    "start_time": "2022-02-02T03:27:15.502Z"
   },
   {
    "duration": 77,
    "start_time": "2022-02-02T03:27:15.574Z"
   },
   {
    "duration": 42,
    "start_time": "2022-02-02T03:27:15.652Z"
   },
   {
    "duration": 44,
    "start_time": "2022-02-02T03:27:15.695Z"
   },
   {
    "duration": 2,
    "start_time": "2022-02-02T03:27:15.741Z"
   },
   {
    "duration": 13,
    "start_time": "2022-02-02T03:27:15.744Z"
   },
   {
    "duration": 36,
    "start_time": "2022-02-02T03:27:15.758Z"
   },
   {
    "duration": 32,
    "start_time": "2022-02-02T03:27:15.795Z"
   },
   {
    "duration": 36,
    "start_time": "2022-02-02T03:27:15.828Z"
   },
   {
    "duration": 9,
    "start_time": "2022-02-02T03:27:15.866Z"
   },
   {
    "duration": 8,
    "start_time": "2022-02-02T03:27:15.877Z"
   },
   {
    "duration": 2,
    "start_time": "2022-02-02T03:27:15.887Z"
   },
   {
    "duration": 81,
    "start_time": "2022-02-02T03:27:15.891Z"
   },
   {
    "duration": 5,
    "start_time": "2022-02-02T03:27:15.975Z"
   },
   {
    "duration": 6,
    "start_time": "2022-02-02T03:27:15.982Z"
   },
   {
    "duration": 17,
    "start_time": "2022-02-02T03:27:15.990Z"
   },
   {
    "duration": 3,
    "start_time": "2022-02-02T03:27:16.027Z"
   },
   {
    "duration": 16,
    "start_time": "2022-02-02T03:27:16.032Z"
   },
   {
    "duration": 11,
    "start_time": "2022-02-02T03:27:16.050Z"
   },
   {
    "duration": 15,
    "start_time": "2022-02-02T03:27:16.062Z"
   },
   {
    "duration": 11,
    "start_time": "2022-02-02T03:27:16.079Z"
   },
   {
    "duration": 36,
    "start_time": "2022-02-02T03:27:16.091Z"
   },
   {
    "duration": 4,
    "start_time": "2022-02-02T03:27:16.129Z"
   },
   {
    "duration": 6,
    "start_time": "2022-02-02T03:27:16.135Z"
   },
   {
    "duration": 4,
    "start_time": "2022-02-02T03:27:16.143Z"
   },
   {
    "duration": 17550,
    "start_time": "2022-02-02T03:27:16.149Z"
   },
   {
    "duration": 34,
    "start_time": "2022-02-02T03:27:33.701Z"
   },
   {
    "duration": 46,
    "start_time": "2022-02-02T03:27:33.736Z"
   },
   {
    "duration": 58,
    "start_time": "2022-02-02T03:28:07.088Z"
   },
   {
    "duration": 54,
    "start_time": "2022-02-02T03:28:36.682Z"
   },
   {
    "duration": 333,
    "start_time": "2022-02-02T03:29:40.938Z"
   },
   {
    "duration": 315,
    "start_time": "2022-02-02T03:29:48.708Z"
   },
   {
    "duration": 116,
    "start_time": "2022-02-02T03:29:59.223Z"
   },
   {
    "duration": 5716,
    "start_time": "2022-02-02T03:30:15.430Z"
   },
   {
    "duration": 337,
    "start_time": "2022-02-02T03:31:26.233Z"
   },
   {
    "duration": 5699,
    "start_time": "2022-02-02T03:31:36.306Z"
   },
   {
    "duration": 17483,
    "start_time": "2022-02-02T03:32:58.252Z"
   },
   {
    "duration": 6152,
    "start_time": "2022-02-02T03:36:27.936Z"
   },
   {
    "duration": 17154,
    "start_time": "2022-02-02T03:37:00.373Z"
   },
   {
    "duration": 166,
    "start_time": "2022-02-02T03:38:07.872Z"
   },
   {
    "duration": 311,
    "start_time": "2022-02-02T03:38:22.433Z"
   },
   {
    "duration": 312,
    "start_time": "2022-02-02T03:38:37.313Z"
   },
   {
    "duration": 320,
    "start_time": "2022-02-02T03:38:41.400Z"
   },
   {
    "duration": 179,
    "start_time": "2022-02-02T03:38:48.688Z"
   },
   {
    "duration": 6093,
    "start_time": "2022-02-02T03:42:20.086Z"
   },
   {
    "duration": 6094,
    "start_time": "2022-02-02T03:42:48.129Z"
   },
   {
    "duration": 6006,
    "start_time": "2022-02-02T03:43:04.706Z"
   },
   {
    "duration": 6276,
    "start_time": "2022-02-02T03:43:22.573Z"
   },
   {
    "duration": 221,
    "start_time": "2022-02-02T08:17:29.449Z"
   },
   {
    "duration": 588,
    "start_time": "2022-02-02T08:17:46.235Z"
   },
   {
    "duration": 139,
    "start_time": "2022-02-02T08:17:46.825Z"
   },
   {
    "duration": 18,
    "start_time": "2022-02-02T08:17:46.966Z"
   },
   {
    "duration": 31,
    "start_time": "2022-02-02T08:17:46.987Z"
   },
   {
    "duration": 5,
    "start_time": "2022-02-02T08:17:47.021Z"
   },
   {
    "duration": 46,
    "start_time": "2022-02-02T08:17:47.027Z"
   },
   {
    "duration": 7,
    "start_time": "2022-02-02T08:17:47.075Z"
   },
   {
    "duration": 24,
    "start_time": "2022-02-02T08:17:47.086Z"
   },
   {
    "duration": 18,
    "start_time": "2022-02-02T08:17:47.112Z"
   },
   {
    "duration": 43,
    "start_time": "2022-02-02T08:17:47.132Z"
   },
   {
    "duration": 60,
    "start_time": "2022-02-02T08:17:47.177Z"
   },
   {
    "duration": 120,
    "start_time": "2022-02-02T08:17:47.239Z"
   },
   {
    "duration": 50,
    "start_time": "2022-02-02T08:17:47.362Z"
   },
   {
    "duration": 56,
    "start_time": "2022-02-02T08:17:47.414Z"
   },
   {
    "duration": 3,
    "start_time": "2022-02-02T08:17:47.472Z"
   },
   {
    "duration": 12,
    "start_time": "2022-02-02T08:17:47.477Z"
   },
   {
    "duration": 45,
    "start_time": "2022-02-02T08:17:47.491Z"
   },
   {
    "duration": 14,
    "start_time": "2022-02-02T08:17:47.559Z"
   },
   {
    "duration": 41,
    "start_time": "2022-02-02T08:17:47.575Z"
   },
   {
    "duration": 42,
    "start_time": "2022-02-02T08:17:47.618Z"
   },
   {
    "duration": 13,
    "start_time": "2022-02-02T08:17:47.662Z"
   },
   {
    "duration": 4,
    "start_time": "2022-02-02T08:17:47.677Z"
   },
   {
    "duration": 83,
    "start_time": "2022-02-02T08:17:47.685Z"
   },
   {
    "duration": 8,
    "start_time": "2022-02-02T08:17:47.771Z"
   },
   {
    "duration": 8,
    "start_time": "2022-02-02T08:17:47.781Z"
   },
   {
    "duration": 24,
    "start_time": "2022-02-02T08:17:47.791Z"
   },
   {
    "duration": 5,
    "start_time": "2022-02-02T08:17:47.816Z"
   },
   {
    "duration": 45,
    "start_time": "2022-02-02T08:17:47.823Z"
   },
   {
    "duration": 13,
    "start_time": "2022-02-02T08:17:47.870Z"
   },
   {
    "duration": 18,
    "start_time": "2022-02-02T08:17:47.885Z"
   },
   {
    "duration": 13,
    "start_time": "2022-02-02T08:17:47.905Z"
   },
   {
    "duration": 41,
    "start_time": "2022-02-02T08:17:47.920Z"
   },
   {
    "duration": 5,
    "start_time": "2022-02-02T08:17:47.963Z"
   },
   {
    "duration": 8,
    "start_time": "2022-02-02T08:17:47.969Z"
   },
   {
    "duration": 5,
    "start_time": "2022-02-02T08:17:47.979Z"
   },
   {
    "duration": 18377,
    "start_time": "2022-02-02T08:17:47.985Z"
   },
   {
    "duration": 3,
    "start_time": "2022-02-02T08:18:10.209Z"
   },
   {
    "duration": 5,
    "start_time": "2022-02-02T08:18:23.124Z"
   },
   {
    "duration": 4,
    "start_time": "2022-02-02T08:18:43.934Z"
   },
   {
    "duration": 9,
    "start_time": "2022-02-02T08:19:25.300Z"
   },
   {
    "duration": 8,
    "start_time": "2022-02-02T08:19:36.636Z"
   },
   {
    "duration": 23,
    "start_time": "2022-02-02T08:19:42.140Z"
   },
   {
    "duration": 49,
    "start_time": "2022-02-02T08:20:45.743Z"
   },
   {
    "duration": 244,
    "start_time": "2022-02-02T08:21:42.106Z"
   },
   {
    "duration": 55,
    "start_time": "2022-02-02T08:21:57.479Z"
   },
   {
    "duration": 52,
    "start_time": "2022-02-02T08:23:53.985Z"
   },
   {
    "duration": 51,
    "start_time": "2022-02-02T08:24:01.543Z"
   },
   {
    "duration": 285,
    "start_time": "2022-02-02T08:24:30.368Z"
   },
   {
    "duration": 72,
    "start_time": "2022-02-02T08:25:44.232Z"
   },
   {
    "duration": 6200,
    "start_time": "2022-02-02T08:25:52.319Z"
   },
   {
    "duration": 6326,
    "start_time": "2022-02-02T08:26:04.978Z"
   },
   {
    "duration": 21,
    "start_time": "2022-02-02T08:27:13.209Z"
   },
   {
    "duration": 6,
    "start_time": "2022-02-02T08:28:03.961Z"
   },
   {
    "duration": 7,
    "start_time": "2022-02-02T08:28:21.970Z"
   },
   {
    "duration": 4,
    "start_time": "2022-02-02T08:29:10.546Z"
   },
   {
    "duration": 41599,
    "start_time": "2022-02-02T08:30:22.787Z"
   },
   {
    "duration": 42108,
    "start_time": "2022-02-02T08:32:26.211Z"
   },
   {
    "duration": -104,
    "start_time": "2022-02-02T08:33:08.425Z"
   },
   {
    "duration": 6,
    "start_time": "2022-02-02T08:33:16.690Z"
   },
   {
    "duration": 42755,
    "start_time": "2022-02-02T08:34:37.925Z"
   },
   {
    "duration": 15,
    "start_time": "2022-02-02T08:35:23.482Z"
   },
   {
    "duration": 12,
    "start_time": "2022-02-02T08:35:32.429Z"
   },
   {
    "duration": 226,
    "start_time": "2022-02-02T08:48:07.096Z"
   },
   {
    "duration": 6182,
    "start_time": "2022-02-02T08:49:12.950Z"
   },
   {
    "duration": 183,
    "start_time": "2022-02-02T08:49:23.593Z"
   },
   {
    "duration": 12,
    "start_time": "2022-02-02T08:49:37.524Z"
   },
   {
    "duration": 9,
    "start_time": "2022-02-02T08:51:39.688Z"
   },
   {
    "duration": -122,
    "start_time": "2022-02-02T08:51:53.532Z"
   },
   {
    "duration": 4905,
    "start_time": "2022-02-02T08:52:13.344Z"
   },
   {
    "duration": 13,
    "start_time": "2022-02-02T08:52:28.035Z"
   },
   {
    "duration": 180,
    "start_time": "2022-02-02T08:53:31.707Z"
   },
   {
    "duration": 12,
    "start_time": "2022-02-02T08:53:41.199Z"
   },
   {
    "duration": 5133,
    "start_time": "2022-02-02T08:54:02.665Z"
   },
   {
    "duration": 4785,
    "start_time": "2022-02-02T08:54:09.820Z"
   },
   {
    "duration": 3,
    "start_time": "2022-02-02T08:54:23.469Z"
   },
   {
    "duration": 150,
    "start_time": "2022-02-02T08:54:23.473Z"
   },
   {
    "duration": 11,
    "start_time": "2022-02-02T08:54:23.625Z"
   },
   {
    "duration": 44,
    "start_time": "2022-02-02T08:54:23.638Z"
   },
   {
    "duration": 3,
    "start_time": "2022-02-02T08:54:23.684Z"
   },
   {
    "duration": 22,
    "start_time": "2022-02-02T08:54:23.689Z"
   },
   {
    "duration": 3,
    "start_time": "2022-02-02T08:54:23.713Z"
   },
   {
    "duration": 45,
    "start_time": "2022-02-02T08:54:23.718Z"
   },
   {
    "duration": 18,
    "start_time": "2022-02-02T08:54:23.765Z"
   },
   {
    "duration": 26,
    "start_time": "2022-02-02T08:54:23.785Z"
   },
   {
    "duration": 80,
    "start_time": "2022-02-02T08:54:23.813Z"
   },
   {
    "duration": 91,
    "start_time": "2022-02-02T08:54:23.895Z"
   },
   {
    "duration": 51,
    "start_time": "2022-02-02T08:54:23.988Z"
   },
   {
    "duration": 54,
    "start_time": "2022-02-02T08:54:24.041Z"
   },
   {
    "duration": 3,
    "start_time": "2022-02-02T08:54:24.098Z"
   },
   {
    "duration": 13,
    "start_time": "2022-02-02T08:54:24.103Z"
   },
   {
    "duration": 71,
    "start_time": "2022-02-02T08:54:24.118Z"
   },
   {
    "duration": 12,
    "start_time": "2022-02-02T08:54:24.191Z"
   },
   {
    "duration": 58,
    "start_time": "2022-02-02T08:54:24.205Z"
   },
   {
    "duration": 12,
    "start_time": "2022-02-02T08:54:24.265Z"
   },
   {
    "duration": 12,
    "start_time": "2022-02-02T08:54:24.278Z"
   },
   {
    "duration": 3,
    "start_time": "2022-02-02T08:54:24.292Z"
   },
   {
    "duration": 99,
    "start_time": "2022-02-02T08:54:24.297Z"
   },
   {
    "duration": 7,
    "start_time": "2022-02-02T08:54:24.399Z"
   },
   {
    "duration": 10,
    "start_time": "2022-02-02T08:54:24.408Z"
   },
   {
    "duration": 39,
    "start_time": "2022-02-02T08:54:24.420Z"
   },
   {
    "duration": 4,
    "start_time": "2022-02-02T08:54:24.461Z"
   },
   {
    "duration": 26,
    "start_time": "2022-02-02T08:54:24.467Z"
   },
   {
    "duration": 13,
    "start_time": "2022-02-02T08:54:24.495Z"
   },
   {
    "duration": 25,
    "start_time": "2022-02-02T08:54:24.510Z"
   },
   {
    "duration": 33,
    "start_time": "2022-02-02T08:54:24.536Z"
   },
   {
    "duration": 7,
    "start_time": "2022-02-02T08:54:24.571Z"
   },
   {
    "duration": 6,
    "start_time": "2022-02-02T08:54:24.580Z"
   },
   {
    "duration": 8,
    "start_time": "2022-02-02T08:54:24.588Z"
   },
   {
    "duration": 9,
    "start_time": "2022-02-02T08:54:24.597Z"
   },
   {
    "duration": 18925,
    "start_time": "2022-02-02T08:54:24.608Z"
   },
   {
    "duration": 6216,
    "start_time": "2022-02-02T08:54:43.535Z"
   },
   {
    "duration": 21,
    "start_time": "2022-02-02T08:54:52.758Z"
   },
   {
    "duration": 4,
    "start_time": "2022-02-02T08:55:46.500Z"
   },
   {
    "duration": 4,
    "start_time": "2022-02-02T08:55:55.464Z"
   },
   {
    "duration": 179,
    "start_time": "2022-02-02T08:56:43.357Z"
   },
   {
    "duration": 12,
    "start_time": "2022-02-02T09:00:09.191Z"
   },
   {
    "duration": 13,
    "start_time": "2022-02-02T09:00:35.772Z"
   },
   {
    "duration": 23,
    "start_time": "2022-02-02T09:00:46.387Z"
   },
   {
    "duration": 12,
    "start_time": "2022-02-02T09:01:12.878Z"
   },
   {
    "duration": 206,
    "start_time": "2022-02-02T09:01:44.388Z"
   },
   {
    "duration": 23,
    "start_time": "2022-02-02T09:02:10.502Z"
   },
   {
    "duration": 5,
    "start_time": "2022-02-02T09:02:20.559Z"
   },
   {
    "duration": 6017,
    "start_time": "2022-02-02T09:06:27.728Z"
   },
   {
    "duration": 15,
    "start_time": "2022-02-02T09:09:12.866Z"
   },
   {
    "duration": 24,
    "start_time": "2022-02-02T09:17:31.055Z"
   },
   {
    "duration": 6268,
    "start_time": "2022-02-02T09:21:16.663Z"
   },
   {
    "duration": 3,
    "start_time": "2022-02-02T09:27:50.987Z"
   },
   {
    "duration": 157,
    "start_time": "2022-02-02T09:27:50.992Z"
   },
   {
    "duration": 15,
    "start_time": "2022-02-02T09:27:51.151Z"
   },
   {
    "duration": 44,
    "start_time": "2022-02-02T09:27:51.169Z"
   },
   {
    "duration": 11,
    "start_time": "2022-02-02T09:27:51.215Z"
   },
   {
    "duration": 31,
    "start_time": "2022-02-02T09:27:51.228Z"
   },
   {
    "duration": 21,
    "start_time": "2022-02-02T09:27:51.261Z"
   },
   {
    "duration": 35,
    "start_time": "2022-02-02T09:27:51.284Z"
   },
   {
    "duration": 31,
    "start_time": "2022-02-02T09:27:51.320Z"
   },
   {
    "duration": 34,
    "start_time": "2022-02-02T09:27:51.353Z"
   },
   {
    "duration": 70,
    "start_time": "2022-02-02T09:27:51.388Z"
   },
   {
    "duration": 131,
    "start_time": "2022-02-02T09:27:51.460Z"
   },
   {
    "duration": 53,
    "start_time": "2022-02-02T09:27:51.593Z"
   },
   {
    "duration": 44,
    "start_time": "2022-02-02T09:27:51.660Z"
   },
   {
    "duration": 6,
    "start_time": "2022-02-02T09:27:51.705Z"
   },
   {
    "duration": 29,
    "start_time": "2022-02-02T09:27:51.713Z"
   },
   {
    "duration": 51,
    "start_time": "2022-02-02T09:27:51.743Z"
   },
   {
    "duration": 23,
    "start_time": "2022-02-02T09:27:51.795Z"
   },
   {
    "duration": 47,
    "start_time": "2022-02-02T09:27:51.821Z"
   },
   {
    "duration": 12,
    "start_time": "2022-02-02T09:27:51.871Z"
   },
   {
    "duration": 15,
    "start_time": "2022-02-02T09:27:51.884Z"
   },
   {
    "duration": 3,
    "start_time": "2022-02-02T09:27:51.901Z"
   },
   {
    "duration": 95,
    "start_time": "2022-02-02T09:27:51.906Z"
   },
   {
    "duration": 6,
    "start_time": "2022-02-02T09:27:52.003Z"
   },
   {
    "duration": 18,
    "start_time": "2022-02-02T09:27:52.011Z"
   },
   {
    "duration": 38,
    "start_time": "2022-02-02T09:27:52.031Z"
   },
   {
    "duration": 19,
    "start_time": "2022-02-02T09:27:52.071Z"
   },
   {
    "duration": 30,
    "start_time": "2022-02-02T09:27:52.092Z"
   },
   {
    "duration": 27,
    "start_time": "2022-02-02T09:27:52.124Z"
   },
   {
    "duration": 23,
    "start_time": "2022-02-02T09:27:52.153Z"
   },
   {
    "duration": 14,
    "start_time": "2022-02-02T09:27:52.178Z"
   },
   {
    "duration": 26,
    "start_time": "2022-02-02T09:27:52.194Z"
   },
   {
    "duration": 11,
    "start_time": "2022-02-02T09:27:52.221Z"
   },
   {
    "duration": 20,
    "start_time": "2022-02-02T09:27:52.234Z"
   },
   {
    "duration": 19,
    "start_time": "2022-02-02T09:27:52.256Z"
   },
   {
    "duration": 6421,
    "start_time": "2022-02-02T09:27:52.277Z"
   },
   {
    "duration": 22,
    "start_time": "2022-02-02T09:27:58.699Z"
   },
   {
    "duration": 727,
    "start_time": "2022-02-02T18:11:46.060Z"
   },
   {
    "duration": 160,
    "start_time": "2022-02-02T18:11:46.789Z"
   },
   {
    "duration": 19,
    "start_time": "2022-02-02T18:11:46.952Z"
   },
   {
    "duration": 45,
    "start_time": "2022-02-02T18:11:46.973Z"
   },
   {
    "duration": 4,
    "start_time": "2022-02-02T18:11:47.020Z"
   },
   {
    "duration": 27,
    "start_time": "2022-02-02T18:11:47.026Z"
   },
   {
    "duration": 7,
    "start_time": "2022-02-02T18:11:47.055Z"
   },
   {
    "duration": 58,
    "start_time": "2022-02-02T18:11:47.064Z"
   },
   {
    "duration": 34,
    "start_time": "2022-02-02T18:11:47.125Z"
   },
   {
    "duration": 50,
    "start_time": "2022-02-02T18:11:47.162Z"
   },
   {
    "duration": 71,
    "start_time": "2022-02-02T18:11:47.215Z"
   },
   {
    "duration": 106,
    "start_time": "2022-02-02T18:11:47.308Z"
   },
   {
    "duration": 63,
    "start_time": "2022-02-02T18:11:47.416Z"
   },
   {
    "duration": 63,
    "start_time": "2022-02-02T18:11:47.481Z"
   },
   {
    "duration": 3,
    "start_time": "2022-02-02T18:11:47.546Z"
   },
   {
    "duration": 16,
    "start_time": "2022-02-02T18:11:47.551Z"
   },
   {
    "duration": 75,
    "start_time": "2022-02-02T18:11:47.569Z"
   },
   {
    "duration": 15,
    "start_time": "2022-02-02T18:11:47.646Z"
   },
   {
    "duration": 68,
    "start_time": "2022-02-02T18:11:47.663Z"
   },
   {
    "duration": 13,
    "start_time": "2022-02-02T18:11:47.733Z"
   },
   {
    "duration": 13,
    "start_time": "2022-02-02T18:11:47.748Z"
   },
   {
    "duration": 3,
    "start_time": "2022-02-02T18:11:47.763Z"
   },
   {
    "duration": 111,
    "start_time": "2022-02-02T18:11:47.770Z"
   },
   {
    "duration": 9,
    "start_time": "2022-02-02T18:11:47.883Z"
   },
   {
    "duration": 16,
    "start_time": "2022-02-02T18:11:47.893Z"
   },
   {
    "duration": 22,
    "start_time": "2022-02-02T18:11:47.911Z"
   },
   {
    "duration": 4,
    "start_time": "2022-02-02T18:11:47.936Z"
   },
   {
    "duration": 23,
    "start_time": "2022-02-02T18:11:47.942Z"
   },
   {
    "duration": 46,
    "start_time": "2022-02-02T18:11:47.967Z"
   },
   {
    "duration": 19,
    "start_time": "2022-02-02T18:11:48.015Z"
   },
   {
    "duration": 14,
    "start_time": "2022-02-02T18:11:48.036Z"
   },
   {
    "duration": 9,
    "start_time": "2022-02-02T18:11:48.052Z"
   },
   {
    "duration": 8,
    "start_time": "2022-02-02T18:11:48.063Z"
   },
   {
    "duration": 46,
    "start_time": "2022-02-02T18:11:48.073Z"
   },
   {
    "duration": 10,
    "start_time": "2022-02-02T18:11:48.122Z"
   },
   {
    "duration": 9116,
    "start_time": "2022-02-02T18:11:48.134Z"
   },
   {
    "duration": 25,
    "start_time": "2022-02-02T18:11:57.252Z"
   },
   {
    "duration": 5,
    "start_time": "2022-02-02T18:17:30.952Z"
   },
   {
    "duration": 101,
    "start_time": "2022-02-02T18:17:36.423Z"
   },
   {
    "duration": 102,
    "start_time": "2022-02-02T18:17:53.290Z"
   },
   {
    "duration": 90,
    "start_time": "2022-02-02T18:18:07.048Z"
   },
   {
    "duration": 389,
    "start_time": "2022-02-02T18:18:22.356Z"
   },
   {
    "duration": 88,
    "start_time": "2022-02-02T18:18:30.486Z"
   },
   {
    "duration": 97,
    "start_time": "2022-02-02T18:18:39.911Z"
   },
   {
    "duration": 158,
    "start_time": "2022-02-02T18:19:04.729Z"
   },
   {
    "duration": 234,
    "start_time": "2022-02-02T18:19:48.036Z"
   },
   {
    "duration": 102,
    "start_time": "2022-02-02T18:19:51.582Z"
   },
   {
    "duration": 405,
    "start_time": "2022-02-02T18:20:36.574Z"
   },
   {
    "duration": 217,
    "start_time": "2022-02-02T18:20:43.115Z"
   },
   {
    "duration": 183,
    "start_time": "2022-02-02T18:21:05.557Z"
   },
   {
    "duration": 90,
    "start_time": "2022-02-02T18:22:26.774Z"
   },
   {
    "duration": 201,
    "start_time": "2022-02-02T18:22:41.558Z"
   },
   {
    "duration": 217,
    "start_time": "2022-02-02T18:23:34.767Z"
   },
   {
    "duration": 234,
    "start_time": "2022-02-02T18:23:50.664Z"
   },
   {
    "duration": 337,
    "start_time": "2022-02-02T18:23:57.410Z"
   },
   {
    "duration": 244,
    "start_time": "2022-02-02T18:24:41.002Z"
   },
   {
    "duration": 252,
    "start_time": "2022-02-02T18:27:23.311Z"
   },
   {
    "duration": 257,
    "start_time": "2022-02-02T18:27:28.958Z"
   },
   {
    "duration": 800,
    "start_time": "2022-02-02T18:27:59.643Z"
   },
   {
    "duration": 220,
    "start_time": "2022-02-02T18:28:00.446Z"
   },
   {
    "duration": 25,
    "start_time": "2022-02-02T18:28:00.669Z"
   },
   {
    "duration": 52,
    "start_time": "2022-02-02T18:28:00.696Z"
   },
   {
    "duration": 36,
    "start_time": "2022-02-02T18:28:00.750Z"
   },
   {
    "duration": 48,
    "start_time": "2022-02-02T18:28:00.788Z"
   },
   {
    "duration": 7,
    "start_time": "2022-02-02T18:28:00.838Z"
   },
   {
    "duration": 49,
    "start_time": "2022-02-02T18:28:00.848Z"
   },
   {
    "duration": 23,
    "start_time": "2022-02-02T18:28:00.900Z"
   },
   {
    "duration": 27,
    "start_time": "2022-02-02T18:28:00.925Z"
   },
   {
    "duration": 83,
    "start_time": "2022-02-02T18:28:00.954Z"
   },
   {
    "duration": 110,
    "start_time": "2022-02-02T18:28:01.039Z"
   },
   {
    "duration": 73,
    "start_time": "2022-02-02T18:28:01.152Z"
   },
   {
    "duration": 59,
    "start_time": "2022-02-02T18:28:01.227Z"
   },
   {
    "duration": 22,
    "start_time": "2022-02-02T18:28:01.288Z"
   },
   {
    "duration": 92,
    "start_time": "2022-02-02T18:28:01.313Z"
   },
   {
    "duration": 54,
    "start_time": "2022-02-02T18:28:01.408Z"
   },
   {
    "duration": 24,
    "start_time": "2022-02-02T18:28:01.465Z"
   },
   {
    "duration": 93,
    "start_time": "2022-02-02T18:28:01.491Z"
   },
   {
    "duration": 39,
    "start_time": "2022-02-02T18:28:01.586Z"
   },
   {
    "duration": 14,
    "start_time": "2022-02-02T18:28:01.628Z"
   },
   {
    "duration": 5,
    "start_time": "2022-02-02T18:28:01.644Z"
   },
   {
    "duration": 118,
    "start_time": "2022-02-02T18:28:01.652Z"
   },
   {
    "duration": 9,
    "start_time": "2022-02-02T18:28:01.772Z"
   },
   {
    "duration": 51,
    "start_time": "2022-02-02T18:28:01.783Z"
   },
   {
    "duration": 78,
    "start_time": "2022-02-02T18:28:01.836Z"
   },
   {
    "duration": 8,
    "start_time": "2022-02-02T18:28:01.918Z"
   },
   {
    "duration": 77,
    "start_time": "2022-02-02T18:28:01.929Z"
   },
   {
    "duration": 34,
    "start_time": "2022-02-02T18:28:02.008Z"
   },
   {
    "duration": 33,
    "start_time": "2022-02-02T18:28:02.044Z"
   },
   {
    "duration": 18,
    "start_time": "2022-02-02T18:28:02.079Z"
   },
   {
    "duration": 12,
    "start_time": "2022-02-02T18:28:02.100Z"
   },
   {
    "duration": 27,
    "start_time": "2022-02-02T18:28:02.114Z"
   },
   {
    "duration": 19,
    "start_time": "2022-02-02T18:28:02.143Z"
   },
   {
    "duration": 24,
    "start_time": "2022-02-02T18:28:02.165Z"
   },
   {
    "duration": 9545,
    "start_time": "2022-02-02T18:28:02.192Z"
   },
   {
    "duration": 23,
    "start_time": "2022-02-02T18:28:11.739Z"
   },
   {
    "duration": 646,
    "start_time": "2022-02-02T18:34:44.840Z"
   },
   {
    "duration": 161,
    "start_time": "2022-02-02T18:34:45.488Z"
   },
   {
    "duration": 21,
    "start_time": "2022-02-02T18:34:45.652Z"
   },
   {
    "duration": 45,
    "start_time": "2022-02-02T18:34:45.675Z"
   },
   {
    "duration": 4,
    "start_time": "2022-02-02T18:34:45.723Z"
   },
   {
    "duration": 31,
    "start_time": "2022-02-02T18:34:45.729Z"
   },
   {
    "duration": 4,
    "start_time": "2022-02-02T18:34:45.762Z"
   },
   {
    "duration": 49,
    "start_time": "2022-02-02T18:34:45.769Z"
   },
   {
    "duration": 20,
    "start_time": "2022-02-02T18:34:45.820Z"
   },
   {
    "duration": 25,
    "start_time": "2022-02-02T18:34:45.843Z"
   },
   {
    "duration": 91,
    "start_time": "2022-02-02T18:34:45.870Z"
   },
   {
    "duration": 114,
    "start_time": "2022-02-02T18:34:45.963Z"
   },
   {
    "duration": 69,
    "start_time": "2022-02-02T18:34:46.080Z"
   },
   {
    "duration": 60,
    "start_time": "2022-02-02T18:34:46.152Z"
   },
   {
    "duration": 4,
    "start_time": "2022-02-02T18:34:46.214Z"
   },
   {
    "duration": 16,
    "start_time": "2022-02-02T18:34:46.220Z"
   },
   {
    "duration": 73,
    "start_time": "2022-02-02T18:34:46.238Z"
   },
   {
    "duration": 14,
    "start_time": "2022-02-02T18:34:46.313Z"
   },
   {
    "duration": 58,
    "start_time": "2022-02-02T18:34:46.330Z"
   },
   {
    "duration": 13,
    "start_time": "2022-02-02T18:34:46.407Z"
   },
   {
    "duration": 15,
    "start_time": "2022-02-02T18:34:46.422Z"
   },
   {
    "duration": 3,
    "start_time": "2022-02-02T18:34:46.439Z"
   },
   {
    "duration": 148,
    "start_time": "2022-02-02T18:34:46.447Z"
   },
   {
    "duration": 16,
    "start_time": "2022-02-02T18:34:46.598Z"
   },
   {
    "duration": 15,
    "start_time": "2022-02-02T18:34:46.617Z"
   },
   {
    "duration": 25,
    "start_time": "2022-02-02T18:34:46.635Z"
   },
   {
    "duration": 7,
    "start_time": "2022-02-02T18:34:46.662Z"
   },
   {
    "duration": 42,
    "start_time": "2022-02-02T18:34:46.672Z"
   },
   {
    "duration": 15,
    "start_time": "2022-02-02T18:34:46.716Z"
   },
   {
    "duration": 24,
    "start_time": "2022-02-02T18:34:46.733Z"
   },
   {
    "duration": 14,
    "start_time": "2022-02-02T18:34:46.759Z"
   },
   {
    "duration": 36,
    "start_time": "2022-02-02T18:34:46.775Z"
   },
   {
    "duration": 6,
    "start_time": "2022-02-02T18:34:46.813Z"
   },
   {
    "duration": 22,
    "start_time": "2022-02-02T18:34:46.822Z"
   },
   {
    "duration": 21,
    "start_time": "2022-02-02T18:34:46.846Z"
   },
   {
    "duration": 10393,
    "start_time": "2022-02-02T18:34:46.869Z"
   },
   {
    "duration": 24,
    "start_time": "2022-02-02T18:34:57.264Z"
   },
   {
    "duration": 605,
    "start_time": "2022-02-03T01:41:30.427Z"
   },
   {
    "duration": 124,
    "start_time": "2022-02-03T01:41:31.033Z"
   },
   {
    "duration": 14,
    "start_time": "2022-02-03T01:41:31.159Z"
   },
   {
    "duration": 29,
    "start_time": "2022-02-03T01:41:31.174Z"
   },
   {
    "duration": 8,
    "start_time": "2022-02-03T01:41:31.204Z"
   },
   {
    "duration": 27,
    "start_time": "2022-02-03T01:41:31.214Z"
   },
   {
    "duration": 3,
    "start_time": "2022-02-03T01:41:31.243Z"
   },
   {
    "duration": 23,
    "start_time": "2022-02-03T01:41:31.248Z"
   },
   {
    "duration": 15,
    "start_time": "2022-02-03T01:41:31.273Z"
   },
   {
    "duration": 19,
    "start_time": "2022-02-03T01:41:31.290Z"
   },
   {
    "duration": 62,
    "start_time": "2022-02-03T01:41:31.310Z"
   },
   {
    "duration": 87,
    "start_time": "2022-02-03T01:41:31.373Z"
   },
   {
    "duration": 44,
    "start_time": "2022-02-03T01:41:31.462Z"
   },
   {
    "duration": 48,
    "start_time": "2022-02-03T01:41:31.508Z"
   },
   {
    "duration": 3,
    "start_time": "2022-02-03T01:41:31.557Z"
   },
   {
    "duration": 11,
    "start_time": "2022-02-03T01:41:31.561Z"
   },
   {
    "duration": 55,
    "start_time": "2022-02-03T01:41:31.573Z"
   },
   {
    "duration": 11,
    "start_time": "2022-02-03T01:41:31.629Z"
   },
   {
    "duration": 36,
    "start_time": "2022-02-03T01:41:31.642Z"
   },
   {
    "duration": 10,
    "start_time": "2022-02-03T01:41:31.680Z"
   },
   {
    "duration": 10,
    "start_time": "2022-02-03T01:41:31.691Z"
   },
   {
    "duration": 4,
    "start_time": "2022-02-03T01:41:31.727Z"
   },
   {
    "duration": 59,
    "start_time": "2022-02-03T01:41:31.735Z"
   },
   {
    "duration": 7,
    "start_time": "2022-02-03T01:41:31.796Z"
   },
   {
    "duration": 23,
    "start_time": "2022-02-03T01:41:31.805Z"
   },
   {
    "duration": 16,
    "start_time": "2022-02-03T01:41:31.830Z"
   },
   {
    "duration": 4,
    "start_time": "2022-02-03T01:41:31.848Z"
   },
   {
    "duration": 20,
    "start_time": "2022-02-03T01:41:31.854Z"
   },
   {
    "duration": 11,
    "start_time": "2022-02-03T01:41:31.876Z"
   },
   {
    "duration": 44,
    "start_time": "2022-02-03T01:41:31.889Z"
   },
   {
    "duration": 12,
    "start_time": "2022-02-03T01:41:31.934Z"
   },
   {
    "duration": 7,
    "start_time": "2022-02-03T01:41:31.948Z"
   },
   {
    "duration": 4,
    "start_time": "2022-02-03T01:41:31.957Z"
   },
   {
    "duration": 6,
    "start_time": "2022-02-03T01:41:31.963Z"
   },
   {
    "duration": 4,
    "start_time": "2022-02-03T01:41:31.971Z"
   },
   {
    "duration": 5952,
    "start_time": "2022-02-03T01:41:31.977Z"
   },
   {
    "duration": 18,
    "start_time": "2022-02-03T01:41:37.931Z"
   },
   {
    "duration": 183,
    "start_time": "2022-02-03T01:41:59.705Z"
   },
   {
    "duration": 9,
    "start_time": "2022-02-03T01:42:36.453Z"
   },
   {
    "duration": 163,
    "start_time": "2022-02-03T01:44:39.420Z"
   },
   {
    "duration": 186,
    "start_time": "2022-02-03T01:44:55.575Z"
   },
   {
    "duration": 346,
    "start_time": "2022-02-03T01:45:21.233Z"
   },
   {
    "duration": 346,
    "start_time": "2022-02-03T01:46:02.328Z"
   },
   {
    "duration": 188,
    "start_time": "2022-02-03T01:47:05.298Z"
   },
   {
    "duration": 245,
    "start_time": "2022-02-03T01:48:24.807Z"
   },
   {
    "duration": 175,
    "start_time": "2022-02-03T01:48:49.568Z"
   },
   {
    "duration": 488,
    "start_time": "2022-02-03T01:49:32.536Z"
   },
   {
    "duration": 111,
    "start_time": "2022-02-03T01:49:54.262Z"
   },
   {
    "duration": 12,
    "start_time": "2022-02-03T01:51:00.902Z"
   },
   {
    "duration": 59,
    "start_time": "2022-02-03T01:51:30.675Z"
   },
   {
    "duration": 49,
    "start_time": "2022-02-03T01:53:18.747Z"
   },
   {
    "duration": 93,
    "start_time": "2022-02-03T01:57:08.136Z"
   },
   {
    "duration": 504,
    "start_time": "2022-02-03T01:59:29.995Z"
   },
   {
    "duration": 185,
    "start_time": "2022-02-03T01:59:45.186Z"
   },
   {
    "duration": 113,
    "start_time": "2022-02-03T02:00:17.570Z"
   },
   {
    "duration": 60,
    "start_time": "2022-02-03T02:01:08.534Z"
   },
   {
    "duration": 108,
    "start_time": "2022-02-03T02:01:20.647Z"
   },
   {
    "duration": 99,
    "start_time": "2022-02-03T02:01:49.513Z"
   },
   {
    "duration": 183,
    "start_time": "2022-02-03T02:02:05.693Z"
   },
   {
    "duration": 176,
    "start_time": "2022-02-03T02:15:48.037Z"
   },
   {
    "duration": 190,
    "start_time": "2022-02-03T02:15:59.572Z"
   },
   {
    "duration": 365,
    "start_time": "2022-02-03T02:16:08.284Z"
   },
   {
    "duration": 355,
    "start_time": "2022-02-03T02:18:42.037Z"
   },
   {
    "duration": 649,
    "start_time": "2022-02-03T02:19:09.580Z"
   },
   {
    "duration": 549,
    "start_time": "2022-02-03T02:19:45.027Z"
   },
   {
    "duration": 724,
    "start_time": "2022-02-03T02:20:08.818Z"
   },
   {
    "duration": 736,
    "start_time": "2022-02-03T02:20:13.891Z"
   },
   {
    "duration": 715,
    "start_time": "2022-02-03T02:20:32.470Z"
   },
   {
    "duration": 715,
    "start_time": "2022-02-03T02:21:23.163Z"
   },
   {
    "duration": 688,
    "start_time": "2022-02-03T02:22:04.433Z"
   },
   {
    "duration": 856,
    "start_time": "2022-02-03T02:22:58.772Z"
   },
   {
    "duration": 521,
    "start_time": "2022-02-03T02:39:45.268Z"
   },
   {
    "duration": 543,
    "start_time": "2022-02-03T02:40:01.154Z"
   },
   {
    "duration": 760,
    "start_time": "2022-02-03T02:40:37.313Z"
   },
   {
    "duration": 510,
    "start_time": "2022-02-03T02:40:52.470Z"
   },
   {
    "duration": 953,
    "start_time": "2022-02-03T02:41:19.501Z"
   },
   {
    "duration": 849,
    "start_time": "2022-02-03T02:41:33.828Z"
   },
   {
    "duration": 697,
    "start_time": "2022-02-03T02:42:14.095Z"
   },
   {
    "duration": 842,
    "start_time": "2022-02-03T02:42:29.272Z"
   },
   {
    "duration": 799,
    "start_time": "2022-02-03T02:42:44.751Z"
   },
   {
    "duration": 3,
    "start_time": "2022-02-03T02:43:14.910Z"
   }
  ],
  "colab": {
   "collapsed_sections": [
    "E0vqbgi9ay0H",
    "VUC88oWjTJw2"
   ],
   "name": "yandex_music_project_2021.2.ipynb",
   "provenance": []
  },
  "kernelspec": {
   "display_name": "Python 3",
   "language": "python",
   "name": "python3"
  },
  "language_info": {
   "codemirror_mode": {
    "name": "ipython",
    "version": 3
   },
   "file_extension": ".py",
   "mimetype": "text/x-python",
   "name": "python",
   "nbconvert_exporter": "python",
   "pygments_lexer": "ipython3",
   "version": "3.7.8"
  },
  "toc": {
   "base_numbering": 1,
   "nav_menu": {},
   "number_sections": true,
   "sideBar": true,
   "skip_h1_title": true,
   "title_cell": "Table of Contents",
   "title_sidebar": "Contents",
   "toc_cell": false,
   "toc_position": {
    "height": "calc(100% - 180px)",
    "left": "10px",
    "top": "150px",
    "width": "165px"
   },
   "toc_section_display": true,
   "toc_window_display": true
  }
 },
 "nbformat": 4,
 "nbformat_minor": 1
}
